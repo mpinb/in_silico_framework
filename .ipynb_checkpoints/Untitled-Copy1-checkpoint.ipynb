{
 "cells": [
  {
   "cell_type": "code",
   "execution_count": null,
   "metadata": {},
   "outputs": [],
   "source": [
    "import model_data_base\n",
    "import dask\n",
    "\n",
    "import os\n",
    "import shutil\n",
    "import dask\n",
    "def maybe_make_dirs(directory):\n",
    "    if not os.path.exists(directory):\n",
    "        os.makedirs(directory)\n",
    "\n",
    "def maybe_rmtree(directory):\n",
    "    if os.path.exists(directory):\n",
    "        shutil.rmtree(directory)"
   ]
  },
  {
   "cell_type": "code",
   "execution_count": null,
   "metadata": {},
   "outputs": [],
   "source": [
    "from model_data_base.model_data_base2 import ModelDataBase as MDB2"
   ]
  },
  {
   "cell_type": "code",
   "execution_count": null,
   "metadata": {},
   "outputs": [],
   "source": [
    "maybe_rmtree('abcdefg')"
   ]
  },
  {
   "cell_type": "code",
   "execution_count": null,
   "metadata": {},
   "outputs": [],
   "source": [
    "x = MDB2('abcdefg')"
   ]
  },
  {
   "cell_type": "code",
   "execution_count": null,
   "metadata": {},
   "outputs": [],
   "source": [
    "## set multiprocessing scheduler as default\n",
    "model_data_base.settings.multiprocessing_scheduler = dask.multiprocessing.get\n",
    "dask.set_options(get=dask.multiprocessing.get)"
   ]
  },
  {
   "cell_type": "code",
   "execution_count": null,
   "metadata": {},
   "outputs": [],
   "source": [
    "import distributed\n",
    "c = distributed.Client()\n",
    "model_data_base.settings.multiprocessing_scheduler = c.get\n",
    "dask.set_options(get=c.get)"
   ]
  },
  {
   "cell_type": "code",
   "execution_count": null,
   "metadata": {},
   "outputs": [],
   "source": [
    "import model_data_base.mdb_initializers.load_roberts_simulationdata\n",
    "reload(model_data_base.mdb_initializers.load_roberts_simulationdata)\n",
    "#model_data_base.settings.multiprocessing_scheduler = dask.async.get_sync\n",
    "#model_data_base.mdb_initializers.load_roberts_simulationdata.init(x, 'empty')\n",
    "#%time model_data_base.mdb_initializers.load_roberts_simulationdata.init(x, '/nas1/Data_arco/project_src/model_data_base/test/data/test_data/')\n",
    "%time model_data_base.mdb_initializers.load_roberts_simulationdata.init(x, '/nas1/Data_arco/results/C2centerC2evokedNernstAndCluster/nernst/results/C2_evoked_UpState_INH_PW_1.0_SuW_0.5_C2center')"
   ]
  },
  {
   "cell_type": "code",
   "execution_count": null,
   "metadata": {},
   "outputs": [],
   "source": [
    "model_data_base.settings.multiprocessing_scheduler = dask.multiprocessing.get\n",
    "dask.set_options(get=dask.multiprocessing.get)\n",
    "import model_data_base.mdb_initializers.load_roberts_simulationdata\n",
    "reload(model_data_base.mdb_initializers.load_roberts_simulationdata)\n",
    "#model_data_base.settings.multiprocessing_scheduler = dask.async.get_sync\n",
    "#model_data_base.mdb_initializers.load_roberts_simulationdata.init(x, 'empty')\n",
    "#%time model_data_base.mdb_initializers.load_roberts_simulationdata.init(x, '/nas1/Data_arco/project_src/model_data_base/test/data/test_data/')\n",
    "%time model_data_base.mdb_initializers.load_roberts_simulationdata.init(x, '/nas1/Data_arco/results/C2centerC2evokedNernstAndCluster/nernst/results/C2_evoked_UpState_INH_PW_1.0_SuW_0.5_C2center')"
   ]
  },
  {
   "cell_type": "code",
   "execution_count": null,
   "metadata": {},
   "outputs": [],
   "source": [
    "import model_data_base.mdb_initializers.load_roberts_simulationdata\n",
    "reload(model_data_base.mdb_initializers.load_roberts_simulationdata)\n",
    "model_data_base.mdb_initializers.load_roberts_simulationdata.load_dendritic_voltage_traces(x)"
   ]
  },
  {
   "cell_type": "code",
   "execution_count": null,
   "metadata": {},
   "outputs": [],
   "source": [
    "x['synapse_activation']"
   ]
  },
  {
   "cell_type": "code",
   "execution_count": null,
   "metadata": {},
   "outputs": [],
   "source": [
    "import model_data_base.mdb_initializers.load_roberts_simulationdata\n",
    "reload(model_data_base.mdb_initializers.load_roberts_simulationdata)\n",
    "model_data_base.mdb_initializers.load_roberts_simulationdata.pipeline(x)"
   ]
  },
  {
   "cell_type": "code",
   "execution_count": null,
   "metadata": {},
   "outputs": [],
   "source": [
    "x.keys()"
   ]
  },
  {
   "cell_type": "code",
   "execution_count": null,
   "metadata": {},
   "outputs": [],
   "source": [
    "ddf = x['voltage_traces']"
   ]
  },
  {
   "cell_type": "code",
   "execution_count": null,
   "metadata": {},
   "outputs": [],
   "source": [
    "ddf['bla'] = ddf['0']"
   ]
  },
  {
   "cell_type": "code",
   "execution_count": null,
   "metadata": {},
   "outputs": [],
   "source": [
    "x.setitem('test', ddf, dumper = model_data_base.IO.LoaderDumper.dask_to_csv)"
   ]
  },
  {
   "cell_type": "code",
   "execution_count": null,
   "metadata": {},
   "outputs": [],
   "source": [
    "ddf._meta"
   ]
  },
  {
   "cell_type": "code",
   "execution_count": null,
   "metadata": {},
   "outputs": [],
   "source": [
    "{i: x.dtypes for i,x in ddf.dtypes.iteritems()}"
   ]
  },
  {
   "cell_type": "code",
   "execution_count": null,
   "metadata": {},
   "outputs": [],
   "source": [
    "import dask.dataframe as dd\n",
    "ddf = dd.read_csv(os.path.join('/nas1/Data_arco/project_src/model_data_base/abcdefg/synapse_activation_mq1L5i_/', 'dask_to_csv.*.csv')).reset_index()#.set_index('sim_trail_index', sorted = True)"
   ]
  },
  {
   "cell_type": "code",
   "execution_count": null,
   "metadata": {},
   "outputs": [],
   "source": [
    "ddf.index.name"
   ]
  },
  {
   "cell_type": "code",
   "execution_count": null,
   "metadata": {},
   "outputs": [],
   "source": [
    "x['voltage_traces'].head()"
   ]
  },
  {
   "cell_type": "code",
   "execution_count": null,
   "metadata": {},
   "outputs": [],
   "source": [
    "ddf2.head()"
   ]
  },
  {
   "cell_type": "code",
   "execution_count": null,
   "metadata": {},
   "outputs": [],
   "source": [
    "import pandas as pd\n",
    "dd.from_delayed(dask.delayed('nothing'), meta = pd.DataFrame())"
   ]
  },
  {
   "cell_type": "code",
   "execution_count": null,
   "metadata": {},
   "outputs": [],
   "source": [
    "import pandas as pd\n",
    "pdf = pd.DataFrame(dict(A=[1,2,3], B = [2,3,4]))\n",
    "pdf = pdf.set_index('A')\n",
    "pdf.index.name"
   ]
  },
  {
   "cell_type": "code",
   "execution_count": null,
   "metadata": {},
   "outputs": [],
   "source": [
    "import pandas as pd\n",
    "import numpy as np\n",
    "df = pd.DataFrame(np.random.randn(10000, 4), columns=list('ABCD'))"
   ]
  },
  {
   "cell_type": "code",
   "execution_count": null,
   "metadata": {},
   "outputs": [],
   "source": [
    "import model_data_base.IO.LoaderDumper.pandas_to_pickle\n",
    "reload(model_data_base.IO.LoaderDumper.pandas_to_pickle)\n",
    "x.setitem(item = df, key = 'testdf', dumper = model_data_base.IO.LoaderDumper.pandas_to_pickle)"
   ]
  },
  {
   "cell_type": "code",
   "execution_count": null,
   "metadata": {},
   "outputs": [],
   "source": [
    "import model_data_base.IO.LoaderDumper.pandas_to_msgpack\n",
    "reload(model_data_base.IO.LoaderDumper.pandas_to_msgpack)\n",
    "x.setitem(item = df, key = 'testdf', dumper = model_data_base.IO.LoaderDumper.pandas_to_msgpack)"
   ]
  },
  {
   "cell_type": "code",
   "execution_count": null,
   "metadata": {},
   "outputs": [],
   "source": [
    "import dask.dataframe as dd"
   ]
  },
  {
   "cell_type": "code",
   "execution_count": null,
   "metadata": {},
   "outputs": [],
   "source": [
    "ddf = dd.from_pandas(df, npartitions = 40)"
   ]
  },
  {
   "cell_type": "code",
   "execution_count": null,
   "metadata": {},
   "outputs": [],
   "source": [
    "import model_data_base.IO.LoaderDumper.dask_to_csv\n",
    "reload(model_data_base.IO.LoaderDumper.dask_to_csv)\n",
    "x.setitem(item = ddf, key = 'testdf', dumper = model_data_base.IO.LoaderDumper.dask_to_csv)"
   ]
  },
  {
   "cell_type": "code",
   "execution_count": null,
   "metadata": {},
   "outputs": [],
   "source": [
    "ddf.npartitions"
   ]
  },
  {
   "cell_type": "code",
   "execution_count": null,
   "metadata": {},
   "outputs": [],
   "source": [
    "ddf"
   ]
  },
  {
   "cell_type": "code",
   "execution_count": null,
   "metadata": {},
   "outputs": [],
   "source": [
    "dddf.head()"
   ]
  },
  {
   "cell_type": "code",
   "execution_count": null,
   "metadata": {},
   "outputs": [],
   "source": [
    "ddf.head()"
   ]
  },
  {
   "cell_type": "code",
   "execution_count": null,
   "metadata": {},
   "outputs": [],
   "source": [
    "%time dddf.head()"
   ]
  },
  {
   "cell_type": "code",
   "execution_count": null,
   "metadata": {},
   "outputs": [],
   "source": [
    "x.setitem(item = x['voltage_traces'], key = 'voltage_traces', dumper = model_data_base.IO.LoaderDumper.dask_to_csv)\n",
    "x.setitem(item = x['synapse_activation'], key = 'synapse_activation', dumper = model_data_base.IO.LoaderDumper.dask_to_csv)\n",
    "x.setitem(item = x['cell_activation'], key = 'cell_activation', dumper = model_data_base.IO.LoaderDumper.dask_to_csv)"
   ]
  },
  {
   "cell_type": "code",
   "execution_count": null,
   "metadata": {},
   "outputs": [],
   "source": [
    "x.keys()"
   ]
  },
  {
   "cell_type": "code",
   "execution_count": null,
   "metadata": {},
   "outputs": [],
   "source": [
    "path = x.get_mkdtemp()[0]"
   ]
  },
  {
   "cell_type": "code",
   "execution_count": null,
   "metadata": {},
   "outputs": [],
   "source": [
    "ddf.set_index('A')"
   ]
  },
  {
   "cell_type": "code",
   "execution_count": null,
   "metadata": {},
   "outputs": [],
   "source": [
    "import numpy as np\n",
    "import pandas as pd\n",
    "import dask.dataframe as dd\n",
    "def generate_varibale_length_df(x):\n",
    "    n_columns = np.random.randint(100)\n",
    "    return pd.Series(np.random.randn(n_columns))\n",
    "#generate_varibale_length_df(1)\n",
    "\n",
    "pdf = pd.DataFrame(dict(A=[1,2,3,4,5,6]))\n",
    "ddf = dd.from_pandas(pdf, npartitions = 3)\n",
    "ddf.apply(generate_varibale_length_df, axis = 1).compute()"
   ]
  },
  {
   "cell_type": "code",
   "execution_count": null,
   "metadata": {},
   "outputs": [],
   "source": [
    "import dask\n",
    "#convert ddf to delayed objects\n",
    "ddf_delayed = ddf.to_delayed()\n",
    "#delayed version of pd.DataFrame.apply\n",
    "apply_on_pdf_delayed = dask.delayed(lambda x: x.apply(generate_varibale_length_df, axis = 1))\n",
    "#use this function on every delayed object\n",
    "apply_on_every_partition_delayed = [apply_on_pdf_delayed(d) for d in ddf.to_delayed()]\n",
    "#calculate the result. This gives a list of pd.DataFrame objects\n",
    "result = dask.compute(*apply_on_every_partition_delayed)\n",
    "#concatenate them\n",
    "result = pd.concat(result)"
   ]
  },
  {
   "cell_type": "code",
   "execution_count": null,
   "metadata": {},
   "outputs": [],
   "source": [
    "result"
   ]
  },
  {
   "cell_type": "code",
   "execution_count": null,
   "metadata": {},
   "outputs": [],
   "source": []
  }
 ],
 "metadata": {
  "anaconda-cloud": {},
  "kernelspec": {
   "display_name": "Python [conda root]",
   "language": "python",
   "name": "conda-root-py"
  },
  "language_info": {
   "codemirror_mode": {
    "name": "ipython",
    "version": 2
   },
   "file_extension": ".py",
   "mimetype": "text/x-python",
   "name": "python",
   "nbconvert_exporter": "python",
   "pygments_lexer": "ipython2"
  }
 },
 "nbformat": 4,
 "nbformat_minor": 1
}
