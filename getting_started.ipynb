{
 "cells": [
  {
   "cell_type": "markdown",
   "metadata": {},
   "source": [
    "# Setup"
   ]
  },
  {
   "cell_type": "markdown",
   "metadata": {},
   "source": [
    "#### If you only want to run current injection simulations using our L5tt model, please do the following:\n",
    "1. download and install Anaconda 2.7 https://www.continuum.io/Downloads\n",
    "2. install neuron such that you can import it as python module\n",
    "3. install sumatra: `pip install sumatra`\n",
    "4. clone the single_cell_parser git respository: `git clone https://github.com/abast/single_cell_parser.git`\n",
    "5. Add the resulting folder single_cell_parser to the PYTHONPATH variable: `export PYTHONPATH=$PYTHONPATH:/my/freshly/cloned/repository`\n",
    "6. make sure you can import that module in python: `import single_cell_parser as scp`\n",
    "7. open the file 86_CDK_20041214_BAC_run5_soma_Hay2013_C2center_apic_rec.param and adapt the following paths:\n",
    "       \"NMODL_mechanisms\" --> \"channels\": has to point to the absolute path of the mechanism subfolder in the single_cell_parser_module\n",
    "       \"neuron\" --> \"filename\": has to point to the neuron morphology\n",
    "       \n",
    "If you want to try out the simulator immediately, jump to \"How to simulate current injections\"\n",
    "\n",
    "##### What are these packages doing?\n",
    " - sumatra: we use it to read and write to parameterfiles (which might be a bit of an overkill)\n",
    " - single_cell_parser: module written by Robert Egger wrapping around neuron. It provides a high level interface specifically build to simulate full compartmental models and synaptic input."
   ]
  },
  {
   "cell_type": "markdown",
   "metadata": {},
   "source": [
    "    \n",
    "#### If you also want to run simulations with synaptic input, please install in addition:\n",
    "1. install pandas from git master: `pip install -U git+https://github.com/pandas-dev/pandas.git` (it has to contain this commit: https://github.com/pandas-dev/pandas/pull/15493)\n",
    "2. dask 0.14: `conda install dask==0.14`\n",
    "3. distributed 1.15.2: `conda install distributed=1.15.2`\n",
    "4. SingleCellInputMapper: `git clone https://github.com/abast/SingleCellInputMapper.git`\n",
    "5. Add the resulting folder to the PYTHONPATH variable: `export PYTHONPATH=$PYTHONPATH:/my/freshly/cloned/repository`\n",
    "6. model_data_base: `https://github.com/abast/model_data_base.git`\n",
    "7. Add the resulting folder to the PYTHONPATH variable: `export PYTHONPATH=$PYTHONPATH:/my/freshly/cloned/repository`\n",
    "8. Open the file model_data_base/simrun2/seed_manager and adjust the variable `path`. This will specify the location where used seeds are saved\n",
    "\n",
    "##### what are these packages doing?\n",
    " - pandas is a library for panel data analysis\n",
    " - dask is a python library for dynamic task scheduling and parallel numpy/pandas computations \n",
    " - distributed allows to execute dask graphs on a distributed system\n",
    " - SingleCellInputMapper: maps synapses on a single cell and thereby integrates it in the barrel cortex model\n",
    " - model_data base: contains modules to run simulations and analyze the result in parallel. It uses dask for parallelization.\n"
   ]
  },
  {
   "cell_type": "markdown",
   "metadata": {},
   "source": [
    "# How to simulate synaptic input"
   ]
  },
  {
   "cell_type": "code",
   "execution_count": 10,
   "metadata": {
    "collapsed": true
   },
   "outputs": [],
   "source": [
    "import os\n",
    "getting_started_files = '/nas1/Data_arco/project_src/model_data_base/getting_started_files/' #change that path for your cloned repository"
   ]
  },
  {
   "cell_type": "markdown",
   "metadata": {},
   "source": [
    "### Register cell morphology\n",
    "The coordinates in the hoc morphology file need to be choosen according to the coordinate system of the barrel cortex model. There is a morphology file in the getting_started subfolder, which is registered such that the cell is in the center of the C2 column. For the following steps, this morphology is used."
   ]
  },
  {
   "cell_type": "markdown",
   "metadata": {},
   "source": [
    "### Generate anatomical model"
   ]
  },
  {
   "cell_type": "markdown",
   "metadata": {},
   "source": [
    "To integrate the registered cell morphology in the barrel cortex model, we need the SingleCellInputMapper repository. To do the mapping, we need to specify the path to the registered hoc morphology and the celltype. To calculate the connectivity of the example cell, we can do the following:"
   ]
  },
  {
   "cell_type": "code",
   "execution_count": 59,
   "metadata": {
    "collapsed": false,
    "scrolled": true
   },
   "outputs": [],
   "source": [
    "import map_singlecell_inputs # core module of the SingleCellInputMapper repository\n",
    "import Interface as I\n",
    "# the singlecell input mapper is very talkative, therefore silence it.\n",
    "silent_map_singlecell = lambda *args, **kwargs: I.silence_stdout(map_singlecell_inputs.map_singlecell_inputs, **kwargs)(*args)\n",
    "#specify parameters\n",
    "path_to_registered_hoc_morphology = os.path.join(getting_started_files, '86_L5_CDK20041214_nr3L5B_dend_PC_neuron_transform_registered_C2center.hoc')\n",
    "celltype = 'L5tt'"
   ]
  },
  {
   "cell_type": "markdown",
   "metadata": {},
   "source": [
    "Now we can call the network mapper. Under the hood, 50 network realizations will be calculated. Out of these, the one that is closest to the average is choosen. The result is saved in the same folder as the hoc morphology. This takes about 4 hrs."
   ]
  },
  {
   "cell_type": "code",
   "execution_count": null,
   "metadata": {
    "collapsed": false,
    "scrolled": true
   },
   "outputs": [],
   "source": [
    "silent_map_singlecell(path_to_registered_hoc_morphology, celltype)"
   ]
  },
  {
   "cell_type": "markdown",
   "metadata": {},
   "source": [
    "##### How does the result look like?\n",
    "An precomputed result is in the subfolder model_data_base/getting_started_files/86_L5_CDK20041214_nr3L5B_dend_PC_neuron_transform_registered_C2center_synapses_20150504-1611_10389\n",
    "\n",
    "The important files are:\n",
    " - The  *_summary_*.csv file contains a summary statistics about the connectivity between all presynaptic populations and our neuron.\n",
    " - The *.con file and the *. syn file are the relevant output of the SingleCellMapper for simulations of evoked activity."
   ]
  },
  {
   "cell_type": "markdown",
   "metadata": {},
   "source": [
    "The con file maps between presynaptic cells and synapses:"
   ]
  },
  {
   "cell_type": "code",
   "execution_count": 63,
   "metadata": {
    "collapsed": false
   },
   "outputs": [
    {
     "name": "stdout",
     "output_type": "stream",
     "text": [
      "# Anatomical connectivity realization file; only valid with synapse realization:\n",
      "# 86_L5_CDK20041214_nr3L5B_dend_PC_neuron_transform_registered_C2center_synapses_20150504-1611_10389.syn\n",
      "# Type - cell ID - synapse ID\n",
      "\n",
      "L6cc_A3\t0\t0\n",
      "L6cc_A3\t1\t1\n",
      "L6cc_A3\t2\t2\n",
      "L6cc_A3\t3\t3\n",
      "L6cc_A3\t4\t4\n",
      "L6cc_A3\t4\t5\n",
      "L6cc_A3\t5\t6\n"
     ]
    }
   ],
   "source": [
    "with open(os.path.join(getting_started_files, '86_L5_CDK20041214_nr3L5B_dend_PC_neuron_transform_registered_C2center_synapses_20150504-1611_10389/86_L5_CDK20041214_nr3L5B_dend_PC_neuron_transform_registered_C2center_synapses_20150504-1611_10389/86_L5_CDK20041214_nr3L5B_dend_PC_neuron_transform_registered_C2center_synapses_20150504-1611_10389.con')) as f:\n",
    "    print f.read()[:300]"
   ]
  },
  {
   "cell_type": "markdown",
   "metadata": {},
   "source": [
    "The .syn file specifies the exact position of each synapse on the hoc morphology:"
   ]
  },
  {
   "cell_type": "code",
   "execution_count": 64,
   "metadata": {
    "collapsed": false
   },
   "outputs": [
    {
     "name": "stdout",
     "output_type": "stream",
     "text": [
      "# Synapse distribution file\n",
      "# corresponding to cell: 86_L5_86_L5_CDK20041214_nr3L5B_dend_PC_neuron_transform_registered_C2center\n",
      "# Type - section - section.x\n",
      "\n",
      "VPM_E1\t112\t0.138046479525\n",
      "VPM_E1\t130\t0.305058053119\n",
      "VPM_E1\t130\t0.190509288017\n",
      "VPM_E1\t9\t0.368760777084\n",
      "VPM_E1\t110\t0.0\n",
      "VPM_E1\t11\t0.120662910562\n"
     ]
    }
   ],
   "source": [
    "with open(os.path.join(getting_started_files, '86_L5_CDK20041214_nr3L5B_dend_PC_neuron_transform_registered_C2center_synapses_20150504-1611_10389/86_L5_CDK20041214_nr3L5B_dend_PC_neuron_transform_registered_C2center_synapses_20150504-1611_10389/86_L5_CDK20041214_nr3L5B_dend_PC_neuron_transform_registered_C2center_synapses_20150504-1611_10389.syn')) as f:\n",
    "    print f.read()[:300]"
   ]
  },
  {
   "cell_type": "markdown",
   "metadata": {},
   "source": [
    "##### Sidenote: how to parallelize it?\n",
    "in case we would like to map the input on several cells in parallel, we could utilize dask to parallelize it on using multiprocessing or a distributed cluster:"
   ]
  },
  {
   "cell_type": "code",
   "execution_count": null,
   "metadata": {
    "collapsed": true
   },
   "outputs": [],
   "source": [
    "# make the single cell mapper a delayed function\n",
    "delayed_silent_map_singlecell = dask.delayed(silent_map_singlecell_outputs)\n",
    "# call it with the morphologies\n",
    "delayeds = [delayed_silent_map_singlecell_outputs(morphology_paths[p], 'L5tt') for p in morphology_paths]\n",
    "# bundle everything in one delayed object\n",
    "delayeds = dask.delayed(delayeds)\n",
    "# compute the result, e.g. with the multiprocessing scheduler\n",
    "delayeds.compute(get = dask.multiprocessing.get)"
   ]
  },
  {
   "cell_type": "markdown",
   "metadata": {},
   "source": [
    "### Activate synapses\n",
    "In the last step, the synapse location on the hoc morphology was specified. Now we need to activate the synapses according to experimental data."
   ]
  },
  {
   "cell_type": "markdown",
   "metadata": {},
   "source": [
    "##### create nr_of_connected_cells spreadsheet"
   ]
  },
  {
   "cell_type": "code",
   "execution_count": 65,
   "metadata": {
    "collapsed": false
   },
   "outputs": [],
   "source": [
    "# Todo: this should become a part of the pipeline above\n",
    "import generate_nr_of_cells_spreadsheet\n",
    "con_file = os.path.join(getting_started_files, '86_L5_CDK20041214_nr3L5B_dend_PC_neuron_transform_registered_C2center_synapses_20150504-1611_10389/86_L5_CDK20041214_nr3L5B_dend_PC_neuron_transform_registered_C2center_synapses_20150504-1611_10389/86_L5_CDK20041214_nr3L5B_dend_PC_neuron_transform_registered_C2center_synapses_20150504-1611_10389.con')\n",
    "cellNumberFileName = generate_nr_of_cells_spreadsheet.con_file_to_NumberOfConnectedCells_sheet(con_file)"
   ]
  },
  {
   "cell_type": "markdown",
   "metadata": {},
   "source": [
    "##### specify parameters"
   ]
  },
  {
   "cell_type": "code",
   "execution_count": 68,
   "metadata": {
    "collapsed": false
   },
   "outputs": [
    {
     "name": "stdout",
     "output_type": "stream",
     "text": [
      "*************\n",
      "creating network parameter file from template /nas1/Data_arco/project_src/model_data_base/getting_started_files/functional_constraints/ongoing_activity/ongoing_activity_celltype_template_exc_conductances_fitted.param\n",
      "*************\n"
     ]
    }
   ],
   "source": [
    "import evoked_network_param_from_template #module that allows to generate parameterfile on how to activate the synapses\n",
    "ongoingTemplateParamName = os.path.join(getting_started_files, 'functional_constraints/ongoing_activity/ongoing_activity_celltype_template_exc_conductances_fitted.param')\n",
    "# cellNumberFileName: see cell above\n",
    "syn_file = os.path.join(getting_started_files, '86_L5_CDK20041214_nr3L5B_dend_PC_neuron_transform_registered_C2center_synapses_20150504-1611_10389/86_L5_CDK20041214_nr3L5B_dend_PC_neuron_transform_registered_C2center_synapses_20150504-1611_10389/86_L5_CDK20041214_nr3L5B_dend_PC_neuron_transform_registered_C2center_synapses_20150504-1611_10389.syn')\n",
    "con_file = os.path.join(getting_started_files, '86_L5_CDK20041214_nr3L5B_dend_PC_neuron_transform_registered_C2center_synapses_20150504-1611_10389/86_L5_CDK20041214_nr3L5B_dend_PC_neuron_transform_registered_C2center_synapses_20150504-1611_10389/86_L5_CDK20041214_nr3L5B_dend_PC_neuron_transform_registered_C2center_synapses_20150504-1611_10389.con')\n",
    "whisker = 'C2' #simulate C2 stimulus. Since out cell is located in C2center, this is a principal whisker stimulation scenario.\n",
    "evoked_up_param_name = os.path.join(getting_started_files, 'functional_constraints/network.param')\n",
    "evoked_network_param_from_template.create_network_parameter(ongoingTemplateParamName, cellNumberFileName, syn_file, con_file, whisker, evoked_up_param_name)    "
   ]
  },
  {
   "cell_type": "markdown",
   "metadata": {},
   "source": [
    "##### how does the result look like?"
   ]
  },
  {
   "cell_type": "code",
   "execution_count": 70,
   "metadata": {
    "collapsed": false
   },
   "outputs": [
    {
     "name": "stdout",
     "output_type": "stream",
     "text": [
      "{\n",
      "  \"info\": {\n",
      "    \"date\": \"11Feb2015\",\n",
      "    \"name\": \"ongoing_activity_up_state_anatomical_map_20150211-1430_22780\",\n",
      "    \"author\": \"regger\",\n",
      "  },\n",
      "  \"network\": {\n",
      "    \"L45Peak_D1\": {\n",
      "      \"synapses\": {\n",
      "        \"releaseProb\": 0.25,\n",
      "        \"distributionFile\": \"/nas1/Data_arco/project_src/model_data_base/getting_started_files/86_L5_CDK20041214_nr3L5B_dend_PC_neuron_transform_registered_C2center_synapses_20150504-1611_10389/86_L5_CDK20041214_nr3L5B_dend_PC_neuron_transform_registered_C2center_synapses_20150504-1611_10389/86_L5_CDK20041214_nr3L5B_dend_PC_neuron_transform_registered_C2center_synapses_20150504-1611_10389.syn\",\n",
      "        \"receptors\": {\n",
      "          \"gaba_syn\": {\n",
      "            \"threshold\": 0.0,\n",
      "            \"delay\": 0.0,\n",
      "            \"parameter\": {\n",
      "              \"decaytime\": 20.0,\n",
      "              \"risetime\": 1.0,\n",
      "              \"decaygaba\": 1.0,\n",
      "              \"e\": -80.0,\n",
      "              \"facilgaba\": 0.0,\n",
      "            },\n",
      "            \"weight\": 1.0,\n",
      "          },\n",
      "        },\n",
      "        \"connectionFile\": \"/nas1/Data_arco/project_src/model_data_base/getting_started_files/86_L5_CDK20041214_nr3L5B_dend_PC_neuron_transform_registered_C2center_synapses_20150504-1611_10389/86_L5_CDK20041214_nr3L5B_dend_PC_neuron_transform_registered_C2center_synapses_20150504-1611_10389/86_L5_CDK20041214_nr3L5B_dend_PC_neuron_transform_registered_C2center_synapses_20150504-1611_10389.con\",\n",
      "      },\n",
      "      \"cellNr\": 7,\n",
      "      \"celltype\": {\n",
      "        \"pointcell\": {\n",
      "          \"probabilities\": [0.0043, 0.0043, 0.0043, 0.0043, 0.0153, 0.0157, 0.0043, 0.0093, 0.0128, 0.0043, 0.0153, 0.0043, 0.0043, 0.0157, 0.0043, 0.0153, 0.0043, 0.0157, 0.0386, 0.0273, 0.0043, 0.0157, 0.0157, 0.0157, 0.0043, 0.0273, 0.0043, 0.0043, 0.0153, 0.0157, 0.0324, 0.0273, 0.0386, 0.0153, 0.0043, 0.0153, 0.0043, 0.0157],\n",
      "          \"distribution\": \"PSTH\",\n",
      "          \"intervals\": [(0.0, 1.0), (2.0, 3.0), (3.0, 4.0), (4.0, 5.0), (5.0, 6.0), (7.0, 8.0), (8.0, 9.0), (13.0, 14.0), (14.0, 15.0), (15.0, 16.0), (16.0, 17.0), (17.0, 18.0), (20.0, 21.0), (21.0, 22.0), (22.0, 23.0), (23.0, 24.0), (24.0, 25.0), (25.0, 26.0), (26.0, 27.0), (28.0, 29.0), (29.0, 30.0), (30.0, 31.0), (31.0, 32.0), (32.0, 33.0), (33.0, 34.0), (35.0, 36.0), (36.0, 37.0), (37.0, 38.0), (38.0, 39.0), (39.0, 40.0), (40.0, 41.0), (42.0, 43.0), (43.0, 44.0), (44.0, 45.0), (45.0, 46.0), (46.0, 47.0), (47.0, 48.0), (49.0, 50.0)],\n",
      "          \"offset\": 245.0,\n",
      "        },\n",
      "        \"spiketrain\": {\n",
      "          \"interval\": 142.9,\n",
      "        },\n",
      "      },\n",
      "    },\n",
      "    \"L34_D1\": {\n",
      "      \"synapses\": {\n",
      "        \"releaseProb\": 0.6,\n",
      "        \"distributionFile\": \"/nas1/Data_arco/project_src/model_data_base/getting_started_files/86_L5_CDK20041214_nr3L5B_dend_PC_neuron_transform_registered_C2center_synapses_20150504-1611_10389/86_L5_CDK20041214_nr3L5B_dend_PC_neuron_transform_registered_C2center_synapses_20150504-1611_10389/86_L5_CDK20041214_nr3L5B_dend_PC_neuron_transform_registered_C2center_synapses_20150504-1611_10389.syn\",\n",
      "        \"receptors\": {\n",
      "          \"glutamate_syn\": {\n",
      "            \"threshold\": 0.0,\n",
      "            \"delay\": 0.0,\n",
      "            \"parameter\": {\n",
      "              \"decayampa\": 1.0,\n",
      "              \"facilnmda\": 0.0,\n",
      "              \"tau2\": 2.0,\n",
      "              \"tau3\": 2.0,\n",
      "              \"tau1\": 26.0,\n",
      "              \"tau4\": 0.1,\n",
      "              \"decaynmda\": 1.0,\n",
      "              \"facilampa\": 0.0,\n",
      "            },\n",
      "            \"weight\": [1.68, 1.68],\n",
      "          },\n",
      "        },\n",
      "        \"connectionFile\": \"/nas1/Data_arco/project_src/model_data_base/getting_started_files/86_L5_CDK20041214_nr3L5B_dend_PC_neuron_transform_registered_C2center_synapses_20150504-1611_10389/86_L5_CDK20041214_nr3L5B_dend_PC_neuron_transform_registered_C2center_synapses_20150504-1611_10389/86_L5_CDK20041214_nr3L5B_dend_PC_neuron_transform_registered_C2center_synapses_20150504-1611_10389.con\",\n",
      "      },\n",
      "      \"cellNr\": 196,\n",
      "      \"celltype\": {\n",
      "        \"pointcell\": {\n",
      "          \"probabilities\": [0.002, 0.002],\n",
      "          \"distribution\": \"PSTH\",\n",
      "          \"intervals\": [(13.0, 14.0), (49.0, 50.0)],\n",
      "          \"offset\": 245.0,\n",
      "        },\n",
      "        \"spiketrain\": {\n",
      "          \"interval\": 3225.8,\n",
      "        },\n",
      "      },\n",
      "    },\n",
      "  \n"
     ]
    }
   ],
   "source": [
    "with open(evoked_up_param_name) as f:\n",
    "    print f.read()[:4100]"
   ]
  },
  {
   "cell_type": "markdown",
   "metadata": {},
   "source": [
    "This file contains the activation pattern of every presynaptic population providing input to the single cell we want to simulate. One \"population\" in this case is one celltype in one column. Examples are: L45Peak_D1, L5tt_D2, L5tt_C2, VPM_C1, ...\n",
    "\n",
    "In this file all the parameters necessary to constrain the timedependent acitvity of the synapses mapped onto the neuron are specified:\n",
    " - synapses --> releaseProb: chance that synapse gets activated if presynaptic cell gets activated\n",
    " - synapses --> distributionFile: pointing to the .syn file generated in the anatomical network mapping above\n",
    " - network --> [population] --> celltype --> pointcell --> spiketrain: mean ongoing frequency of the presynaptic populations\n",
    " - network --> [population] --> celltype --> pointcell --> probabilities: PSTH of evoked activity (will be added on top of ongoing activity)\n",
    " - network --> [population] --> celltype --> pointcell --> offset: timepoint at which the evoked activity starts\n",
    " - ...\n",
    " "
   ]
  },
  {
   "cell_type": "markdown",
   "metadata": {},
   "source": [
    "## Determine channel densities such that the cell exhibits certain properties measured in slice data"
   ]
  },
  {
   "cell_type": "markdown",
   "metadata": {},
   "source": [
    "Currently, the parameters are determined using a MOO approach. The result is manually in the cell parameter file:"
   ]
  },
  {
   "cell_type": "code",
   "execution_count": 74,
   "metadata": {
    "collapsed": false,
    "scrolled": true
   },
   "outputs": [
    {
     "name": "stdout",
     "output_type": "stream",
     "text": [
      "\n",
      "{\t\n",
      "\t\"info\":\n",
      "\t{\n",
      "\t\t\"name\":\t\t\"hay_2011_dend_test\", \n",
      "\t\t\"author\":\t\"regger\",\n",
      "\t\t\"date\": \t\"15Oct2014\",\n",
      "\t},\n",
      "\t\n",
      "\t\"NMODL_mechanisms\":\n",
      "\t{\n",
      "        \"channels\": \"/nas1/Data_arco/project_src/single_cell_parser/mechanisms/channels/\",\n",
      "\t},\n",
      "\t\n",
      "\t\"mech_globals\":\n",
      "\t{\n",
      "\t},\n",
      "\t\n",
      "\t\"neuron\":\n",
      "\t{\n",
      "\t\t\"filename\": \"/nas1/Data_arco/project_src/single_cell_parser/example_files/86_L5_CDK20041214_nr3L5B_dend_PC_neuron_transform_registered_C2center.hoc\",\n",
      "\t\t\n",
      "\t\t\"Soma\":\n",
      "\t\t{\n",
      "\t\t\t\"properties\":\n",
      "\t\t\t{\n",
      "\t\t\t\t\"Ra\": 100.0,\n",
      "\t\t\t\t\"cm\": 1.0,\n",
      "                \n",
      "                \"ions\":\n",
      "                {\n",
      "                    \"ek\": -85.0,\n",
      "                    \"ena\": 50.0,\n",
      "                },\n",
      "\t\t\t},\n",
      "\t\t\t\n",
      "\t\t\t\"mechanisms\":\n",
      "\t\t\t{\n",
      "\t\t\t\t\"global\":\n",
      "\t\t\t\t{\n",
      "\t\t\t\t\t\n",
      "\t\t\t\t},\n",
      "\t\t\t\t\n",
      "\t\t\t\t\"range\":\n",
      "\t\t\t\t{\n",
      "                    \"pas\":\n",
      "                    {\n",
      "                        \"spatial\": \"uniform\",\n",
      "                        \"g\": 0.0000326,\n",
      "                        \"e\": -90,\n",
      "                    },\n",
      "                    \"Ca_LVAst\":\n",
      "                    {\n",
      "                        \"spatial\": \n"
     ]
    }
   ],
   "source": [
    "cell_parameter_file = os.path.join(getting_started_files, '86_CDK_20041214_BAC_run5_soma_Hay2013_C2center_apic_rec.param')\n",
    "with open(cell_parameter_file) as f:\n",
    "    print f.read()[:1000]"
   ]
  },
  {
   "cell_type": "markdown",
   "metadata": {},
   "source": [
    "### run the simulation"
   ]
  },
  {
   "cell_type": "code",
   "execution_count": 49,
   "metadata": {
    "collapsed": true
   },
   "outputs": [],
   "source": [
    "evoked_up_param_name # specified above\n",
    "cell_parameter_file  #specified above\n",
    "dir_prefix = getting_started_files #results are put here in a \"results\" subfolder\n",
    "nSweeps= 10 # number of consecutive mounte carlo simulations per process\n",
    "nprocs = 20 # number of processes simulating in parallel\n",
    "tStop = 300 # stop the simulation at 300ms\n",
    "silent = True # suppress output (disable this for debug purposes)"
   ]
  },
  {
   "cell_type": "code",
   "execution_count": 75,
   "metadata": {
    "collapsed": false
   },
   "outputs": [
    {
     "name": "stdout",
     "output_type": "stream",
     "text": [
      "CPU times: user 84 ms, sys: 4 ms, total: 88 ms\n",
      "Wall time: 191 ms\n"
     ]
    },
    {
     "data": {
      "text/plain": [
       "Delayed('lambda-f65f168f-e02f-439a-a158-fae131ed88fe')"
      ]
     },
     "execution_count": 75,
     "metadata": {},
     "output_type": "execute_result"
    }
   ],
   "source": [
    "%time d = I.simrun_run_new_simulations(cell_param_name, evoked_up_param_name, dirPrefix=dir_prefix, nSweeps=nSweeps, nprocs=nprocs, tStop=tStop, silent=silent)\n",
    "d"
   ]
  },
  {
   "cell_type": "markdown",
   "metadata": {},
   "source": [
    "The result is a dask delayed object, in which a **plan** how to compute result is stored. To compute it, you need call `compute`"
   ]
  },
  {
   "cell_type": "code",
   "execution_count": 55,
   "metadata": {
    "collapsed": false
   },
   "outputs": [
    {
     "data": {
      "text/plain": [
       "(['/nas1/Data_arco/project_src/model_data_base/getting_started_files/results/20170327-0745_seed4012452078',\n",
       "  '/nas1/Data_arco/project_src/model_data_base/getting_started_files/results/20170327-0745_seed2404771358',\n",
       "  '/nas1/Data_arco/project_src/model_data_base/getting_started_files/results/20170327-0745_seed1389732352',\n",
       "  '/nas1/Data_arco/project_src/model_data_base/getting_started_files/results/20170327-0745_seed3778252701',\n",
       "  '/nas1/Data_arco/project_src/model_data_base/getting_started_files/results/20170327-0745_seed2424913915',\n",
       "  '/nas1/Data_arco/project_src/model_data_base/getting_started_files/results/20170327-0745_seed356876589',\n",
       "  '/nas1/Data_arco/project_src/model_data_base/getting_started_files/results/20170327-0745_seed4215231467',\n",
       "  '/nas1/Data_arco/project_src/model_data_base/getting_started_files/results/20170327-0745_seed985246582',\n",
       "  '/nas1/Data_arco/project_src/model_data_base/getting_started_files/results/20170327-0745_seed2427112984',\n",
       "  '/nas1/Data_arco/project_src/model_data_base/getting_started_files/results/20170327-0745_seed1585531316',\n",
       "  '/nas1/Data_arco/project_src/model_data_base/getting_started_files/results/20170327-0745_seed544136846',\n",
       "  '/nas1/Data_arco/project_src/model_data_base/getting_started_files/results/20170327-0745_seed2890908858',\n",
       "  '/nas1/Data_arco/project_src/model_data_base/getting_started_files/results/20170327-0745_seed1698846132',\n",
       "  '/nas1/Data_arco/project_src/model_data_base/getting_started_files/results/20170327-0745_seed56276599',\n",
       "  '/nas1/Data_arco/project_src/model_data_base/getting_started_files/results/20170327-0745_seed1365701287',\n",
       "  '/nas1/Data_arco/project_src/model_data_base/getting_started_files/results/20170327-0745_seed637765465',\n",
       "  '/nas1/Data_arco/project_src/model_data_base/getting_started_files/results/20170327-0745_seed122328974',\n",
       "  '/nas1/Data_arco/project_src/model_data_base/getting_started_files/results/20170327-0745_seed2580704649',\n",
       "  '/nas1/Data_arco/project_src/model_data_base/getting_started_files/results/20170327-0745_seed1605146631',\n",
       "  '/nas1/Data_arco/project_src/model_data_base/getting_started_files/results/20170327-0745_seed2290954394'],)"
      ]
     },
     "execution_count": 55,
     "metadata": {},
     "output_type": "execute_result"
    }
   ],
   "source": [
    "import dask\n",
    "d.compute(get = dask.multiprocessing.get) # run the simulation using the multiprocessing scheduler"
   ]
  },
  {
   "cell_type": "markdown",
   "metadata": {},
   "source": [
    "### load simulation results in database to make them accessible in python"
   ]
  },
  {
   "cell_type": "code",
   "execution_count": 4,
   "metadata": {
    "collapsed": false
   },
   "outputs": [],
   "source": [
    "import Interface as I\n",
    "mdb = I.ModelDataBase(os.path.join(getting_started_files, 'mdb')) #specify home folder of database"
   ]
  },
  {
   "cell_type": "code",
   "execution_count": 4,
   "metadata": {
    "collapsed": false
   },
   "outputs": [
    {
     "name": "stdout",
     "output_type": "stream",
     "text": [
      "---building data base core---\n",
      "generate filelist ...\n",
      "generate voltage traces dataframe...\n",
      "[########################################] | 100% Completed |  0.6s\n",
      "generate unambigous indices ...\n",
      "[########################################] | 100% Completed |  0.8s\n",
      "generate metadata ...\n",
      "add divisions to voltage traces dataframe\n",
      "---moving parameter files---\n",
      "find unique parameterfiles\n",
      "[########################################] | 100% Completed |  3.5s\n",
      "move parameterfiles\n",
      "[########################################] | 100% Completed |  0.1s\n",
      "move parameterfiles\n",
      "[########################################] | 100% Completed |  0.1s\n",
      "---building synapse activation dataframe---\n",
      "counting commas\n",
      "[########################################] | 100% Completed |  0.3s\n",
      "14\n",
      "generate dataframe\n",
      "[########################################] | 100% Completed |  0.1s\n",
      "save dataframe\n",
      "---building cell activation dataframe---\n",
      "counting commas\n",
      "[########################################] | 100% Completed |  0.3s\n",
      "17\n",
      "generate dataframe\n",
      "[########################################] | 100% Completed |  0.1s\n",
      "save dataframe\n",
      "---building dendritic voltage traces dataframes---\n",
      "[########################################] | 100% Completed |  0.6s\n",
      "[########################################] | 100% Completed |  0.6s\n",
      "---spike times---\n",
      "[########################################] | 100% Completed |  0.8s\n",
      "---burst times---\n",
      "[########################################] | 100% Completed |  1.0s\n",
      "Initialization succesful.\n"
     ]
    }
   ],
   "source": [
    "I.mdb_init_simrun_general.init(mdb, os.path.join(getting_started_files, 'results'))"
   ]
  },
  {
   "cell_type": "markdown",
   "metadata": {},
   "source": [
    "The mdb object can be used like a dictionary. The database contains dask dataframes giving access to the simulation data."
   ]
  },
  {
   "cell_type": "code",
   "execution_count": 89,
   "metadata": {
    "collapsed": false
   },
   "outputs": [
    {
     "data": {
      "text/plain": [
       "['Vm_distal',\n",
       " 'Vm_proximal',\n",
       " 'burst_times',\n",
       " 'cell_activation',\n",
       " 'dendritic_voltage_traces_keys',\n",
       " 'file_list',\n",
       " 'metadata',\n",
       " 'parameterfiles',\n",
       " 'parameterfiles_cell_folder',\n",
       " 'parameterfiles_network_folder',\n",
       " 'sim_trail_index',\n",
       " 'simresult_path',\n",
       " 'spike_times',\n",
       " 'synapse_activation',\n",
       " 'voltage_traces']"
      ]
     },
     "execution_count": 89,
     "metadata": {},
     "output_type": "execute_result"
    }
   ],
   "source": [
    "mdb.keys()"
   ]
  },
  {
   "cell_type": "code",
   "execution_count": 88,
   "metadata": {
    "collapsed": false
   },
   "outputs": [
    {
     "name": "stdout",
     "output_type": "stream",
     "text": [
      "[########################################] | 100% Completed |  0.1s\n"
     ]
    },
    {
     "data": {
      "text/html": [
       "<div>\n",
       "<table border=\"1\" class=\"dataframe\">\n",
       "  <thead>\n",
       "    <tr style=\"text-align: right;\">\n",
       "      <th></th>\n",
       "      <th>synapse_type</th>\n",
       "      <th>synapse_ID</th>\n",
       "      <th>soma_distance</th>\n",
       "      <th>section_ID</th>\n",
       "      <th>section_pt_ID</th>\n",
       "      <th>dendrite_label</th>\n",
       "      <th>0</th>\n",
       "      <th>1</th>\n",
       "      <th>2</th>\n",
       "      <th>3</th>\n",
       "      <th>4</th>\n",
       "      <th>5</th>\n",
       "      <th>6</th>\n",
       "      <th>7</th>\n",
       "    </tr>\n",
       "    <tr>\n",
       "      <th>sim_trail_index</th>\n",
       "      <th></th>\n",
       "      <th></th>\n",
       "      <th></th>\n",
       "      <th></th>\n",
       "      <th></th>\n",
       "      <th></th>\n",
       "      <th></th>\n",
       "      <th></th>\n",
       "      <th></th>\n",
       "      <th></th>\n",
       "      <th></th>\n",
       "      <th></th>\n",
       "      <th></th>\n",
       "      <th></th>\n",
       "    </tr>\n",
       "  </thead>\n",
       "  <tbody>\n",
       "    <tr>\n",
       "      <th>20170327-0745_seed122328974/000000</th>\n",
       "      <td>L1_C1</td>\n",
       "      <td>6</td>\n",
       "      <td>1417.471240</td>\n",
       "      <td>47</td>\n",
       "      <td>9</td>\n",
       "      <td>ApicalDendrite</td>\n",
       "      <td>208.348580</td>\n",
       "      <td>NaN</td>\n",
       "      <td>NaN</td>\n",
       "      <td>NaN</td>\n",
       "      <td>NaN</td>\n",
       "      <td>NaN</td>\n",
       "      <td>NaN</td>\n",
       "      <td>NaN</td>\n",
       "    </tr>\n",
       "    <tr>\n",
       "      <th>20170327-0745_seed122328974/000000</th>\n",
       "      <td>L1_C1</td>\n",
       "      <td>18</td>\n",
       "      <td>1508.620514</td>\n",
       "      <td>50</td>\n",
       "      <td>63</td>\n",
       "      <td>ApicalDendrite</td>\n",
       "      <td>240.685555</td>\n",
       "      <td>NaN</td>\n",
       "      <td>NaN</td>\n",
       "      <td>NaN</td>\n",
       "      <td>NaN</td>\n",
       "      <td>NaN</td>\n",
       "      <td>NaN</td>\n",
       "      <td>NaN</td>\n",
       "    </tr>\n",
       "    <tr>\n",
       "      <th>20170327-0745_seed122328974/000000</th>\n",
       "      <td>L1_C1</td>\n",
       "      <td>21</td>\n",
       "      <td>1494.761607</td>\n",
       "      <td>49</td>\n",
       "      <td>48</td>\n",
       "      <td>ApicalDendrite</td>\n",
       "      <td>174.886361</td>\n",
       "      <td>NaN</td>\n",
       "      <td>NaN</td>\n",
       "      <td>NaN</td>\n",
       "      <td>NaN</td>\n",
       "      <td>NaN</td>\n",
       "      <td>NaN</td>\n",
       "      <td>NaN</td>\n",
       "    </tr>\n",
       "    <tr>\n",
       "      <th>20170327-0745_seed122328974/000000</th>\n",
       "      <td>L1_C1</td>\n",
       "      <td>25</td>\n",
       "      <td>1389.264410</td>\n",
       "      <td>50</td>\n",
       "      <td>7</td>\n",
       "      <td>ApicalDendrite</td>\n",
       "      <td>228.604036</td>\n",
       "      <td>NaN</td>\n",
       "      <td>NaN</td>\n",
       "      <td>NaN</td>\n",
       "      <td>NaN</td>\n",
       "      <td>NaN</td>\n",
       "      <td>NaN</td>\n",
       "      <td>NaN</td>\n",
       "    </tr>\n",
       "    <tr>\n",
       "      <th>20170327-0745_seed122328974/000000</th>\n",
       "      <td>L1_C2</td>\n",
       "      <td>9</td>\n",
       "      <td>1423.024481</td>\n",
       "      <td>74</td>\n",
       "      <td>5</td>\n",
       "      <td>ApicalDendrite</td>\n",
       "      <td>74.905120</td>\n",
       "      <td>NaN</td>\n",
       "      <td>NaN</td>\n",
       "      <td>NaN</td>\n",
       "      <td>NaN</td>\n",
       "      <td>NaN</td>\n",
       "      <td>NaN</td>\n",
       "      <td>NaN</td>\n",
       "    </tr>\n",
       "  </tbody>\n",
       "</table>\n",
       "</div>"
      ],
      "text/plain": [
       "                                   synapse_type  synapse_ID  soma_distance  \\\n",
       "sim_trail_index                                                              \n",
       "20170327-0745_seed122328974/000000        L1_C1           6    1417.471240   \n",
       "20170327-0745_seed122328974/000000        L1_C1          18    1508.620514   \n",
       "20170327-0745_seed122328974/000000        L1_C1          21    1494.761607   \n",
       "20170327-0745_seed122328974/000000        L1_C1          25    1389.264410   \n",
       "20170327-0745_seed122328974/000000        L1_C2           9    1423.024481   \n",
       "\n",
       "                                    section_ID  section_pt_ID  dendrite_label  \\\n",
       "sim_trail_index                                                                 \n",
       "20170327-0745_seed122328974/000000          47              9  ApicalDendrite   \n",
       "20170327-0745_seed122328974/000000          50             63  ApicalDendrite   \n",
       "20170327-0745_seed122328974/000000          49             48  ApicalDendrite   \n",
       "20170327-0745_seed122328974/000000          50              7  ApicalDendrite   \n",
       "20170327-0745_seed122328974/000000          74              5  ApicalDendrite   \n",
       "\n",
       "                                             0   1   2   3   4   5   6   7  \n",
       "sim_trail_index                                                             \n",
       "20170327-0745_seed122328974/000000  208.348580 NaN NaN NaN NaN NaN NaN NaN  \n",
       "20170327-0745_seed122328974/000000  240.685555 NaN NaN NaN NaN NaN NaN NaN  \n",
       "20170327-0745_seed122328974/000000  174.886361 NaN NaN NaN NaN NaN NaN NaN  \n",
       "20170327-0745_seed122328974/000000  228.604036 NaN NaN NaN NaN NaN NaN NaN  \n",
       "20170327-0745_seed122328974/000000   74.905120 NaN NaN NaN NaN NaN NaN NaN  "
      ]
     },
     "execution_count": 88,
     "metadata": {},
     "output_type": "execute_result"
    }
   ],
   "source": [
    "mdb['synapse_activation'].head()"
   ]
  },
  {
   "cell_type": "markdown",
   "metadata": {},
   "source": [
    "##### plot the PSTH"
   ]
  },
  {
   "cell_type": "code",
   "execution_count": 5,
   "metadata": {
    "collapsed": false
   },
   "outputs": [
    {
     "data": {
      "image/png": "[encoded data removed]",
      "text/plain": [
       "<matplotlib.figure.Figure at 0x2ba13184dd50>"
      ]
     },
     "execution_count": 5,
     "metadata": {},
     "output_type": "execute_result"
    }
   ],
   "source": [
    "import matplotlib.pyplot as plt\n",
    "fig = plt.figure(figsize = (15,3))\n",
    "bins = I.temporal_binning(mdb['spike_times'])\n",
    "I.histogram(bins, fig = fig)\n",
    "fig.axes[-1].set_xlabel('t in ms')\n",
    "fig.axes[-1].set_ylabel('# spikes per trail per ms')\n",
    "fig.add_subplot(111).axvline(245)\n",
    "fig"
   ]
  },
  {
   "cell_type": "markdown",
   "metadata": {},
   "source": [
    "Usually, we discard the first 100ms of simulation since the cell needs that time to reach a \"steady state\". At 245ms, a C2 whisker stimulus occurs, followed by a strong evoked response at ~260 ms."
   ]
  },
  {
   "cell_type": "markdown",
   "metadata": {},
   "source": [
    "##### plot single voltage traces, mean and std"
   ]
  },
  {
   "cell_type": "code",
   "execution_count": 8,
   "metadata": {
    "collapsed": false
   },
   "outputs": [],
   "source": [
    "import dask\n",
    "import matplotlib.pyplot as plt\n",
    "mean = mdb['voltage_traces'].mean(axis = 0).compute(get = dask.multiprocessing.get)\n",
    "std = mdb['voltage_traces'].std(axis = 0).compute(get = dask.multiprocessing.get)"
   ]
  },
  {
   "cell_type": "code",
   "execution_count": 31,
   "metadata": {
    "collapsed": false
   },
   "outputs": [
    {
     "data": {
      "image/png": "[encoded data removed]",
      "text/plain": [
       "<matplotlib.figure.Figure at 0x2b732c252110>"
      ]
     },
     "execution_count": 31,
     "metadata": {},
     "output_type": "execute_result"
    }
   ],
   "source": [
    "fig = plt.figure(figsize = (15,6))\n",
    "I.manylines(mdb['voltage_traces'], fig = fig.add_subplot(211), axis = [0, 300, -100, 50])\n",
    "I.average_std(mean, std, fig = fig.add_subplot(212))\n",
    "fig.axes[-1].set_xlim(0,300)\n",
    "fig"
   ]
  },
  {
   "cell_type": "markdown",
   "metadata": {},
   "source": [
    "##### How many trails spike in the interval 245ms to 265 ms?"
   ]
  },
  {
   "cell_type": "code",
   "execution_count": 28,
   "metadata": {
    "collapsed": false
   },
   "outputs": [
    {
     "data": {
      "text/html": [
       "<div>\n",
       "<table border=\"1\" class=\"dataframe\">\n",
       "  <thead>\n",
       "    <tr style=\"text-align: right;\">\n",
       "      <th></th>\n",
       "      <th>0</th>\n",
       "      <th>1</th>\n",
       "      <th>2</th>\n",
       "      <th>3</th>\n",
       "      <th>4</th>\n",
       "      <th>5</th>\n",
       "    </tr>\n",
       "    <tr>\n",
       "      <th>sim_trail_index</th>\n",
       "      <th></th>\n",
       "      <th></th>\n",
       "      <th></th>\n",
       "      <th></th>\n",
       "      <th></th>\n",
       "      <th></th>\n",
       "    </tr>\n",
       "  </thead>\n",
       "  <tbody>\n",
       "    <tr>\n",
       "      <th>20170327-0745_seed122328974/000000</th>\n",
       "      <td>17.950</td>\n",
       "      <td>31.825</td>\n",
       "      <td>253.650</td>\n",
       "      <td>260.75</td>\n",
       "      <td>NaN</td>\n",
       "      <td>NaN</td>\n",
       "    </tr>\n",
       "    <tr>\n",
       "      <th>20170327-0745_seed122328974/000001</th>\n",
       "      <td>26.175</td>\n",
       "      <td>33.525</td>\n",
       "      <td>41.975</td>\n",
       "      <td>51.90</td>\n",
       "      <td>NaN</td>\n",
       "      <td>NaN</td>\n",
       "    </tr>\n",
       "    <tr>\n",
       "      <th>20170327-0745_seed122328974/000002</th>\n",
       "      <td>28.950</td>\n",
       "      <td>40.925</td>\n",
       "      <td>120.700</td>\n",
       "      <td>257.30</td>\n",
       "      <td>NaN</td>\n",
       "      <td>NaN</td>\n",
       "    </tr>\n",
       "    <tr>\n",
       "      <th>20170327-0745_seed122328974/000003</th>\n",
       "      <td>18.050</td>\n",
       "      <td>25.000</td>\n",
       "      <td>33.050</td>\n",
       "      <td>44.35</td>\n",
       "      <td>190.250</td>\n",
       "      <td>NaN</td>\n",
       "    </tr>\n",
       "    <tr>\n",
       "      <th>20170327-0745_seed122328974/000004</th>\n",
       "      <td>29.550</td>\n",
       "      <td>39.350</td>\n",
       "      <td>94.800</td>\n",
       "      <td>124.50</td>\n",
       "      <td>259.325</td>\n",
       "      <td>NaN</td>\n",
       "    </tr>\n",
       "  </tbody>\n",
       "</table>\n",
       "</div>"
      ],
      "text/plain": [
       "                                         0       1        2       3        4  \\\n",
       "sim_trail_index                                                                \n",
       "20170327-0745_seed122328974/000000  17.950  31.825  253.650  260.75      NaN   \n",
       "20170327-0745_seed122328974/000001  26.175  33.525   41.975   51.90      NaN   \n",
       "20170327-0745_seed122328974/000002  28.950  40.925  120.700  257.30      NaN   \n",
       "20170327-0745_seed122328974/000003  18.050  25.000   33.050   44.35  190.250   \n",
       "20170327-0745_seed122328974/000004  29.550  39.350   94.800  124.50  259.325   \n",
       "\n",
       "                                     5  \n",
       "sim_trail_index                         \n",
       "20170327-0745_seed122328974/000000 NaN  \n",
       "20170327-0745_seed122328974/000001 NaN  \n",
       "20170327-0745_seed122328974/000002 NaN  \n",
       "20170327-0745_seed122328974/000003 NaN  \n",
       "20170327-0745_seed122328974/000004 NaN  "
      ]
     },
     "execution_count": 28,
     "metadata": {},
     "output_type": "execute_result"
    }
   ],
   "source": [
    "st = mdb['spike_times']\n",
    "st.head() # each line corresponds to one simulation trail, the columns contain the spike times"
   ]
  },
  {
   "cell_type": "code",
   "execution_count": 33,
   "metadata": {
    "collapsed": false
   },
   "outputs": [
    {
     "data": {
      "text/plain": [
       "True     159\n",
       "False     41\n",
       "dtype: int64"
      ]
     },
     "execution_count": 33,
     "metadata": {},
     "output_type": "execute_result"
    }
   ],
   "source": [
    "st.apply(lambda x: ((x >= 245) & (x < 265)).any(), axis = 1).value_counts()"
   ]
  },
  {
   "cell_type": "markdown",
   "metadata": {},
   "source": [
    "# How to simulate current injections\n",
    "This is an example of a coincident current injection in the apical dendrite and the soma, which triggers a burst."
   ]
  },
  {
   "cell_type": "code",
   "execution_count": 8,
   "metadata": {
    "collapsed": true
   },
   "outputs": [],
   "source": [
    "'''\n",
    "Created on Jan 28, 2013\n",
    "\n",
    "passive properties L2 neuron model\n",
    "\n",
    "@author: robert\n",
    "'''\n",
    "\n",
    "import sys\n",
    "import time\n",
    "import os, os.path\n",
    "import neuron\n",
    "import single_cell_parser as scp\n",
    "import numpy as np\n",
    "import matplotlib.pyplot as plt\n",
    "h = neuron.h\n",
    "\n",
    "def test_BAC_firing(fname, iAmpSoma = 1.9, iAmpApical = 0.5):\n",
    "    neuronParameters = scp.build_parameters(fname)\n",
    "    scp.load_NMODL_parameters(neuronParameters)\n",
    "    cellParam = neuronParameters.neuron\n",
    "    \n",
    "    cell = scp.create_cell(cellParam, scaleFunc=scale_apical) #we need to scale apical dendrite\n",
    "    \n",
    "    totalArea = 0.0\n",
    "    somaArea = 0.0\n",
    "    apicalArea = 0.0\n",
    "    basalArea = 0.0\n",
    "    axonArea = 0.0\n",
    "    for sec in cell.sections:\n",
    "        totalArea += sec.area\n",
    "        if sec.label == 'Soma':\n",
    "            somaArea += sec.area\n",
    "        if sec.label == 'ApicalDendrite':\n",
    "            for seg in sec:\n",
    "                apicalArea += h.area(seg.x, sec=sec)\n",
    "#            apicalArea += sec.area\n",
    "        if sec.label == 'Dendrite':\n",
    "            basalArea += sec.area\n",
    "        if sec.label == 'AIS' or sec.label == 'Myelin':\n",
    "            axonArea += sec.area\n",
    "    \n",
    "    print 'total area = %.2f micron^2' % totalArea\n",
    "    print 'soma area = %.2f micron^2' % somaArea\n",
    "    print 'apical area = %.2f micron^2' % apicalArea\n",
    "    print 'basal area = %.2f micron^2' % basalArea\n",
    "    print 'axon area = %.2f micron^2' % axonArea\n",
    "    \n",
    "    tStop = 600.0\n",
    "    neuronParameters.sim.tStop = tStop\n",
    "#    neuronParameters.sim.dt = 0.005\n",
    "    tIStart = 295.0\n",
    "    duration = 5.0\n",
    "    apicalDt = 5.0\n",
    "\n",
    "    apicalTauRise = 1.0\n",
    "    apicalTauDecay = 5.0\n",
    "    apicalBifurcationDistance = 800.0 # cell ID 86\n",
    "    apicalInjectionDistance = 620.0 # cell ID 86\n",
    "\n",
    "    apicalBifurcationSec = get_apical_section_at_distance(cell, apicalBifurcationDistance)\n",
    "    \n",
    "    visualize = False\n",
    "#    t1, vmSoma1, vmApical1 = soma_injection(cell, iAmpSoma, tIStart, duration, apicalBifurcationSec, apicalInjectionDistance, neuronParameters.sim, visualize)\n",
    "#    t2, vmSoma2, vmApical2 = apical_injection(cell, apicalBifurcationSec, apicalInjectionDistance, iAmpApical, tIStart, apicalTauRise, apicalTauDecay, neuronParameters.sim, visualize)\n",
    "    t3, vmSoma3, vmApical3 = soma_apical_injection(cell, iAmpSoma, tIStart, duration, apicalBifurcationSec, apicalInjectionDistance, iAmpApical, apicalDt, apicalTauRise, apicalTauDecay, neuronParameters.sim, visualize)\n",
    "\n",
    "    \n",
    "    showPlots = True\n",
    "    if showPlots:\n",
    "\n",
    "        plt.title('apical current injection amp=%.2f nA' % (iAmpApical))\n",
    "        plt.legend()\n",
    "        plt.figure(3)\n",
    "        plt.plot(t3, vmSoma3, 'k', label='soma')\n",
    "        plt.plot(t3, vmApical3, 'r', label='apical')\n",
    "        plt.xlabel('time [ms]')\n",
    "        plt.ylabel('Vm [mV]')\n",
    "        plt.title('soma + apical current injection amp=%.2f/%.2f nA' % (iAmpSoma, iAmpApical))\n",
    "        plt.legend()\n",
    "        plt.show()\n",
    "    \n",
    "    cell.t = t3\n",
    "    return cell\n",
    "\n",
    "def soma_apical_injection(cell, somaAmplitude, somaDelay, somaDuration, apicalBifurcationSec, apicalInjectionDistance, apicalAmplitude,\\\n",
    "                          apicalDelayDt, apicalTauRise, apicalTauDecay, simParam, saveVisualization=False):\n",
    "    print 'selected apical section:'\n",
    "    print apicalBifurcationSec.name()\n",
    "    somaDist = cell.distance_to_soma(apicalBifurcationSec, 0.0)\n",
    "    apicalx = (apicalInjectionDistance - somaDist)/apicalBifurcationSec.L\n",
    "    print 'distance to soma: %.2f micron' % somaDist\n",
    "    print 'apicalInjectionDistance: %.2f micron' % apicalInjectionDistance\n",
    "    print 'apicalx: %.2f' % apicalx\n",
    "    \n",
    "    iclamp = h.IClamp(0.5, sec=cell.soma)\n",
    "    iclamp.delay = somaDelay\n",
    "    iclamp.dur = somaDuration\n",
    "    iclamp.amp = somaAmplitude\n",
    "    \n",
    "    iclamp2 = h.epsp(apicalx, sec=apicalBifurcationSec)\n",
    "    iclamp2.onset = somaDelay + apicalDelayDt\n",
    "    iclamp2.imax = apicalAmplitude\n",
    "    iclamp2.tau0 = apicalTauRise\n",
    "    iclamp2.tau1 = apicalTauDecay\n",
    "        \n",
    "    print 'soma current injection: %.2f nA' % somaAmplitude\n",
    "    print 'apical current injection: %.2f nA' % apicalAmplitude\n",
    "    tVec = h.Vector()\n",
    "    tVec.record(h._ref_t)\n",
    "    startTime = time.time()\n",
    "    scp.init_neuron_run(simParam, vardt=False)\n",
    "    stopTime = time.time()\n",
    "    dt = stopTime - startTime\n",
    "    print 'NEURON runtime: %.2f s' % dt\n",
    "    \n",
    "    vmSoma = np.array(cell.soma.recVList[0])\n",
    "    minSeg = -1\n",
    "    mindx = 1.0\n",
    "    for i in range(len(apicalBifurcationSec.segx)):\n",
    "        x = apicalBifurcationSec.segx[i]\n",
    "        dx = np.abs(x-apicalx)\n",
    "        if dx < mindx:\n",
    "            mindx = dx\n",
    "            minSeg = i\n",
    "    vmApical = np.array(apicalBifurcationSec.recVList[minSeg])\n",
    "    t = np.array(tVec)\n",
    "    \n",
    "    if saveVisualization:\n",
    "        visFName = 'visualization/soma_apical_injection_86/'\n",
    "        visFName += 'soma_apical_current_injection_soma_amp_%.1fnA_dur_%.0fms_apical_amp_%.1fnA_dt_%.0fms' % (somaAmplitude, somaDuration, apicalAmplitude, apicalDelayDt)\n",
    "        scp.write_cell_simulation(visFName, cell, ['Vm'], t, allPoints=True)\n",
    "    #cell.re_init_cell()\n",
    "    \n",
    "    return t, vmSoma, vmApical\n",
    "\n",
    "def get_apical_section_at_distance(cell, distance):\n",
    "    '''determine interior apical dendrite section (i.e. no ending section)\n",
    "    closest to given distance'''\n",
    "    closestSec = None\n",
    "    minDist = 1e9\n",
    "    for branchSectionList in cell.branches['ApicalDendrite']:\n",
    "        for sec in branchSectionList:\n",
    "            secRef = h.SectionRef(sec=sec)\n",
    "            if secRef.nchild():\n",
    "                dist = cell.distance_to_soma(sec, 1.0)\n",
    "                dist = abs(dist - distance)\n",
    "                if dist < minDist:\n",
    "                    minDist = dist\n",
    "                    closestSec = sec\n",
    "    return closestSec\n",
    "\n",
    "def scale_apical(cell):\n",
    "    '''\n",
    "    scale apical diameters depending on\n",
    "    distance to soma; therefore only possible\n",
    "    after creating complete cell\n",
    "    '''\n",
    "    dendScale = 2.5\n",
    "    scaleCount = 0\n",
    "    for sec in cell.sections:\n",
    "        if sec.label == 'ApicalDendrite':\n",
    "            dist = cell.distance_to_soma(sec, 1.0)\n",
    "            if dist > 1000.0:\n",
    "                continue\n",
    "            if scaleCount > 32:\n",
    "                break\n",
    "            scaleCount += 1\n",
    "            for i in range(sec.nrOfPts):\n",
    "                oldDiam = sec.diamList[i]\n",
    "                newDiam = dendScale*oldDiam\n",
    "                h.pt3dchange(i, newDiam, sec=sec)\n",
    "    \n",
    "    print 'Scaled %d apical sections...' % scaleCount\n",
    "\n",
    "def write_sim_results(fname, t, v):\n",
    "    with open(fname, 'w') as outputFile:\n",
    "        header = '# simulation results\\n'\n",
    "        header += '# t\\tvsoma'\n",
    "        header += '\\n\\n'\n",
    "        outputFile.write(header)\n",
    "        for i in range(len(t)):\n",
    "            line = str(t[i])\n",
    "            line += '\\t'\n",
    "            line += str(v[i])\n",
    "            line += '\\n'\n",
    "            outputFile.write(line)\n"
   ]
  },
  {
   "cell_type": "code",
   "execution_count": 9,
   "metadata": {
    "collapsed": false
   },
   "outputs": [
    {
     "ename": "ValueError",
     "evalue": "unknown url type: /home/abast/test/86_CDK_20041214_BAC_run5_soma_Hay2013_C2center_apic_rec.param",
     "output_type": "error",
     "traceback": [
      "\u001b[0;31m------------------------------------------------------------------------\u001b[0m",
      "\u001b[0;31mValueError\u001b[0m                             Traceback (most recent call last)",
      "\u001b[0;32m<ipython-input-9-f86fad74b9ba>\u001b[0m in \u001b[0;36m<module>\u001b[0;34m()\u001b[0m\n\u001b[1;32m      1\u001b[0m \u001b[0mpath_to_cell_param_file\u001b[0m \u001b[0;34m=\u001b[0m \u001b[0;34m'/home/abast/test/86_CDK_20041214_BAC_run5_soma_Hay2013_C2center_apic_rec.param'\u001b[0m \u001b[0;31m#adapt this path\u001b[0m\u001b[0;34m\u001b[0m\u001b[0m\n\u001b[0;32m----> 2\u001b[0;31m \u001b[0mcell\u001b[0m \u001b[0;34m=\u001b[0m \u001b[0mtest_BAC_firing\u001b[0m\u001b[0;34m(\u001b[0m\u001b[0mpath_to_cell_param_file\u001b[0m\u001b[0;34m,\u001b[0m \u001b[0miAmpApical\u001b[0m \u001b[0;34m=\u001b[0m \u001b[0;36m0.45\u001b[0m\u001b[0;34m)\u001b[0m\u001b[0;34m\u001b[0m\u001b[0m\n\u001b[0m",
      "\u001b[0;32m<ipython-input-8-61eda1bd2b39>\u001b[0m in \u001b[0;36mtest_BAC_firing\u001b[0;34m(fname, iAmpSoma, iAmpApical)\u001b[0m\n\u001b[1;32m     17\u001b[0m \u001b[0;34m\u001b[0m\u001b[0m\n\u001b[1;32m     18\u001b[0m \u001b[0;32mdef\u001b[0m \u001b[0mtest_BAC_firing\u001b[0m\u001b[0;34m(\u001b[0m\u001b[0mfname\u001b[0m\u001b[0;34m,\u001b[0m \u001b[0miAmpSoma\u001b[0m \u001b[0;34m=\u001b[0m \u001b[0;36m1.9\u001b[0m\u001b[0;34m,\u001b[0m \u001b[0miAmpApical\u001b[0m \u001b[0;34m=\u001b[0m \u001b[0;36m0.5\u001b[0m\u001b[0;34m)\u001b[0m\u001b[0;34m:\u001b[0m\u001b[0;34m\u001b[0m\u001b[0m\n\u001b[0;32m---> 19\u001b[0;31m     \u001b[0mneuronParameters\u001b[0m \u001b[0;34m=\u001b[0m \u001b[0mscp\u001b[0m\u001b[0;34m.\u001b[0m\u001b[0mbuild_parameters\u001b[0m\u001b[0;34m(\u001b[0m\u001b[0mfname\u001b[0m\u001b[0;34m)\u001b[0m\u001b[0;34m\u001b[0m\u001b[0m\n\u001b[0m\u001b[1;32m     20\u001b[0m     \u001b[0mscp\u001b[0m\u001b[0;34m.\u001b[0m\u001b[0mload_NMODL_parameters\u001b[0m\u001b[0;34m(\u001b[0m\u001b[0mneuronParameters\u001b[0m\u001b[0;34m)\u001b[0m\u001b[0;34m\u001b[0m\u001b[0m\n\u001b[1;32m     21\u001b[0m     \u001b[0mcellParam\u001b[0m \u001b[0;34m=\u001b[0m \u001b[0mneuronParameters\u001b[0m\u001b[0;34m.\u001b[0m\u001b[0mneuron\u001b[0m\u001b[0;34m\u001b[0m\u001b[0m\n",
      "\u001b[0;32m/nas1/Data_arco/prgr/Anaconda2/lib/python2.7/site-packages/sumatra/parameters.pyc\u001b[0m in \u001b[0;36mbuild_parameters\u001b[0;34m(filename)\u001b[0m\n\u001b[1;32m    581\u001b[0m         \u001b[0;32mfor\u001b[0m \u001b[0mparameter_set_class\u001b[0m \u001b[0;32min\u001b[0m \u001b[0mextension_map\u001b[0m\u001b[0;34m.\u001b[0m\u001b[0mvalues\u001b[0m\u001b[0;34m(\u001b[0m\u001b[0;34m)\u001b[0m\u001b[0;34m:\u001b[0m\u001b[0;34m\u001b[0m\u001b[0m\n\u001b[1;32m    582\u001b[0m             \u001b[0;32mtry\u001b[0m\u001b[0;34m:\u001b[0m\u001b[0;34m\u001b[0m\u001b[0m\n\u001b[0;32m--> 583\u001b[0;31m                 \u001b[0mparameters\u001b[0m \u001b[0;34m=\u001b[0m \u001b[0mparameter_set_class\u001b[0m\u001b[0;34m(\u001b[0m\u001b[0mfilename\u001b[0m\u001b[0;34m)\u001b[0m\u001b[0;34m\u001b[0m\u001b[0m\n\u001b[0m\u001b[1;32m    584\u001b[0m             \u001b[0;32mexcept\u001b[0m \u001b[0;34m(\u001b[0m\u001b[0mSyntaxError\u001b[0m\u001b[0;34m,\u001b[0m \u001b[0mNameError\u001b[0m\u001b[0;34m,\u001b[0m \u001b[0mUnicodeDecodeError\u001b[0m\u001b[0;34m)\u001b[0m\u001b[0;34m:\u001b[0m\u001b[0;34m\u001b[0m\u001b[0m\n\u001b[1;32m    585\u001b[0m                 \u001b[0;32mpass\u001b[0m\u001b[0;34m\u001b[0m\u001b[0m\n",
      "\u001b[0;32m/nas1/Data_arco/prgr/Anaconda2/lib/python2.7/site-packages/parameters/__init__.pyc\u001b[0m in \u001b[0;36m__init__\u001b[0;34m(self, initialiser, label, update_namespace)\u001b[0m\n\u001b[1;32m    390\u001b[0m             \u001b[0;32melse\u001b[0m\u001b[0;34m:\u001b[0m\u001b[0;34m\u001b[0m\u001b[0m\n\u001b[1;32m    391\u001b[0m                 \u001b[0;32mtry\u001b[0m\u001b[0;34m:\u001b[0m\u001b[0;34m\u001b[0m\u001b[0m\n\u001b[0;32m--> 392\u001b[0;31m                     \u001b[0mf\u001b[0m \u001b[0;34m=\u001b[0m \u001b[0murlopen\u001b[0m\u001b[0;34m(\u001b[0m\u001b[0minitialiser\u001b[0m\u001b[0;34m)\u001b[0m\u001b[0;34m\u001b[0m\u001b[0m\n\u001b[0m\u001b[1;32m    393\u001b[0m                     \u001b[0mpstr\u001b[0m \u001b[0;34m=\u001b[0m \u001b[0mf\u001b[0m\u001b[0;34m.\u001b[0m\u001b[0mread\u001b[0m\u001b[0;34m(\u001b[0m\u001b[0;34m)\u001b[0m\u001b[0;34m.\u001b[0m\u001b[0mdecode\u001b[0m\u001b[0;34m(\u001b[0m\u001b[0;34m)\u001b[0m\u001b[0;34m\u001b[0m\u001b[0m\n\u001b[1;32m    394\u001b[0m                     \u001b[0mself\u001b[0m\u001b[0;34m.\u001b[0m\u001b[0m_url\u001b[0m \u001b[0;34m=\u001b[0m \u001b[0minitialiser\u001b[0m\u001b[0;34m\u001b[0m\u001b[0m\n",
      "\u001b[0;32m/nas1/Data_arco/prgr/Anaconda2/lib/python2.7/urllib2.pyc\u001b[0m in \u001b[0;36murlopen\u001b[0;34m(url, data, timeout, cafile, capath, cadefault, context)\u001b[0m\n\u001b[1;32m    152\u001b[0m     \u001b[0;32melse\u001b[0m\u001b[0;34m:\u001b[0m\u001b[0;34m\u001b[0m\u001b[0m\n\u001b[1;32m    153\u001b[0m         \u001b[0mopener\u001b[0m \u001b[0;34m=\u001b[0m \u001b[0m_opener\u001b[0m\u001b[0;34m\u001b[0m\u001b[0m\n\u001b[0;32m--> 154\u001b[0;31m     \u001b[0;32mreturn\u001b[0m \u001b[0mopener\u001b[0m\u001b[0;34m.\u001b[0m\u001b[0mopen\u001b[0m\u001b[0;34m(\u001b[0m\u001b[0murl\u001b[0m\u001b[0;34m,\u001b[0m \u001b[0mdata\u001b[0m\u001b[0;34m,\u001b[0m \u001b[0mtimeout\u001b[0m\u001b[0;34m)\u001b[0m\u001b[0;34m\u001b[0m\u001b[0m\n\u001b[0m\u001b[1;32m    155\u001b[0m \u001b[0;34m\u001b[0m\u001b[0m\n\u001b[1;32m    156\u001b[0m \u001b[0;32mdef\u001b[0m \u001b[0minstall_opener\u001b[0m\u001b[0;34m(\u001b[0m\u001b[0mopener\u001b[0m\u001b[0;34m)\u001b[0m\u001b[0;34m:\u001b[0m\u001b[0;34m\u001b[0m\u001b[0m\n",
      "\u001b[0;32m/nas1/Data_arco/prgr/Anaconda2/lib/python2.7/urllib2.pyc\u001b[0m in \u001b[0;36mopen\u001b[0;34m(self, fullurl, data, timeout)\u001b[0m\n\u001b[1;32m    419\u001b[0m \u001b[0;34m\u001b[0m\u001b[0m\n\u001b[1;32m    420\u001b[0m         \u001b[0mreq\u001b[0m\u001b[0;34m.\u001b[0m\u001b[0mtimeout\u001b[0m \u001b[0;34m=\u001b[0m \u001b[0mtimeout\u001b[0m\u001b[0;34m\u001b[0m\u001b[0m\n\u001b[0;32m--> 421\u001b[0;31m         \u001b[0mprotocol\u001b[0m \u001b[0;34m=\u001b[0m \u001b[0mreq\u001b[0m\u001b[0;34m.\u001b[0m\u001b[0mget_type\u001b[0m\u001b[0;34m(\u001b[0m\u001b[0;34m)\u001b[0m\u001b[0;34m\u001b[0m\u001b[0m\n\u001b[0m\u001b[1;32m    422\u001b[0m \u001b[0;34m\u001b[0m\u001b[0m\n\u001b[1;32m    423\u001b[0m         \u001b[0;31m# pre-process request\u001b[0m\u001b[0;34m\u001b[0m\u001b[0;34m\u001b[0m\u001b[0m\n",
      "\u001b[0;32m/nas1/Data_arco/prgr/Anaconda2/lib/python2.7/urllib2.pyc\u001b[0m in \u001b[0;36mget_type\u001b[0;34m(self)\u001b[0m\n\u001b[1;32m    281\u001b[0m             \u001b[0mself\u001b[0m\u001b[0;34m.\u001b[0m\u001b[0mtype\u001b[0m\u001b[0;34m,\u001b[0m \u001b[0mself\u001b[0m\u001b[0;34m.\u001b[0m\u001b[0m__r_type\u001b[0m \u001b[0;34m=\u001b[0m \u001b[0msplittype\u001b[0m\u001b[0;34m(\u001b[0m\u001b[0mself\u001b[0m\u001b[0;34m.\u001b[0m\u001b[0m__original\u001b[0m\u001b[0;34m)\u001b[0m\u001b[0;34m\u001b[0m\u001b[0m\n\u001b[1;32m    282\u001b[0m             \u001b[0;32mif\u001b[0m \u001b[0mself\u001b[0m\u001b[0;34m.\u001b[0m\u001b[0mtype\u001b[0m \u001b[0;32mis\u001b[0m \u001b[0mNone\u001b[0m\u001b[0;34m:\u001b[0m\u001b[0;34m\u001b[0m\u001b[0m\n\u001b[0;32m--> 283\u001b[0;31m                 \u001b[0;32mraise\u001b[0m \u001b[0mValueError\u001b[0m\u001b[0;34m,\u001b[0m \u001b[0;34m\"unknown url type: %s\"\u001b[0m \u001b[0;34m%\u001b[0m \u001b[0mself\u001b[0m\u001b[0;34m.\u001b[0m\u001b[0m__original\u001b[0m\u001b[0;34m\u001b[0m\u001b[0m\n\u001b[0m\u001b[1;32m    284\u001b[0m         \u001b[0;32mreturn\u001b[0m \u001b[0mself\u001b[0m\u001b[0;34m.\u001b[0m\u001b[0mtype\u001b[0m\u001b[0;34m\u001b[0m\u001b[0m\n\u001b[1;32m    285\u001b[0m \u001b[0;34m\u001b[0m\u001b[0m\n",
      "\u001b[0;31mValueError\u001b[0m: unknown url type: /home/abast/test/86_CDK_20041214_BAC_run5_soma_Hay2013_C2center_apic_rec.param"
     ]
    }
   ],
   "source": [
    "path_to_cell_param_file = '/home/abast/test/86_CDK_20041214_BAC_run5_soma_Hay2013_C2center_apic_rec.param' #adapt this path\n",
    "cell = test_BAC_firing(path_to_cell_param_file, iAmpApical = 0.45)"
   ]
  },
  {
   "cell_type": "markdown",
   "metadata": {},
   "source": [
    "# How to simulate synaptic input"
   ]
  },
  {
   "cell_type": "code",
   "execution_count": null,
   "metadata": {
    "collapsed": true
   },
   "outputs": [],
   "source": []
  }
 ],
 "metadata": {
  "anaconda-cloud": {},
  "kernelspec": {
   "display_name": "Python [conda root]",
   "language": "python",
   "name": "conda-root-py"
  },
  "language_info": {
   "codemirror_mode": {
    "name": "ipython",
    "version": 2
   },
   "file_extension": ".py",
   "mimetype": "text/x-python",
   "name": "python",
   "nbconvert_exporter": "python",
   "pygments_lexer": "ipython2",
   "version": "2.7.12"
  }
 },
 "nbformat": 4,
 "nbformat_minor": 0
}
