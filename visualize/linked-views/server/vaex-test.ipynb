{
 "cells": [
  {
   "cell_type": "code",
   "execution_count": 1,
   "metadata": {},
   "outputs": [
    {
     "name": "stdout",
     "output_type": "stream",
     "text": [
      "start read: simulation_samples_original.csv\n",
      "complete read\n",
      "start read: simulation_samples.csv\n",
      "complete read\n",
      "server is running at port 5000\n",
      "logs are written to /tmp/linked-views-server.log\n",
      "set data:        server.set_data(vaex_df)\n",
      "stop server:     server.stop()\n"
     ]
    }
   ],
   "source": [
    "from server import LinkedViewsServer\n",
    "data_folder = \"/scratch/visual/bzfharth/in-silico-install-dir/project_src/in_silico_framework/getting_started/linked-views-example-data/backend_data_2023-06-22\"\n",
    "\n",
    "server = LinkedViewsServer(data_folder)\n",
    "server.start(5000)\n",
    "#server.stop()"
   ]
  },
  {
   "cell_type": "code",
   "execution_count": 2,
   "metadata": {},
   "outputs": [],
   "source": [
    "import vaex\n",
    "\n",
    "filename = \"/scratch/visual/bzfharth/in-silico-install-dir/project_src/in_silico_framework/getting_started/linked-views-example-data/backend_data_2023-06-22/simulation_samples.csv\"\n",
    "df = vaex.from_csv(filename, copy_index=False)\n",
    "server.set_data(df)\n",
    "#df"
   ]
  },
  {
   "cell_type": "code",
   "execution_count": 3,
   "metadata": {},
   "outputs": [],
   "source": [
    "df_col = df[\"ephys.CaDynamics_E2_v2.apic.decay\"]\n",
    "df_col2 = df[\"1BAC_caSpike_height.raw\"]\n",
    "binbycols = [\"ephys.CaDynamics_E2_v2.apic.decay\", \"1BAC_caSpike_height.raw\"]\n",
    "value_col = \"ephys.CaDynamics_E2_v2.apic.decay\""
   ]
  },
  {
   "cell_type": "code",
   "execution_count": 4,
   "metadata": {},
   "outputs": [
    {
     "data": {
      "text/plain": [
       "array([[0, 0, 0, ..., 2, 1, 0],\n",
       "       [0, 0, 0, ..., 1, 3, 2],\n",
       "       [0, 0, 0, ..., 1, 5, 1],\n",
       "       ...,\n",
       "       [0, 0, 0, ..., 0, 0, 0],\n",
       "       [0, 0, 0, ..., 0, 0, 1],\n",
       "       [0, 0, 0, ..., 0, 1, 0]])"
      ]
     },
     "execution_count": 4,
     "metadata": {},
     "output_type": "execute_result"
    }
   ],
   "source": [
    "xycounts = df.count(binby=[df_col, df_col2], shape=(64, 128))\n",
    "xycounts"
   ]
  },
  {
   "cell_type": "code",
   "execution_count": 19,
   "metadata": {},
   "outputs": [
    {
     "name": "stdout",
     "output_type": "stream",
     "text": [
      "{'columns': ['ephys.CaDynamics_E2_v2.apic.decay', '1BAC_caSpike_height.raw', 'ephys.CaDynamics_E2_v2.apic.decay'], 'indices': [0, 1, 2, 3, 4, 5, 6, 7, 8, 9, 10, 11, 12, 13, 14, 15, 16, 17, 18, 19, 20, 21, 22, 23, 24, 25, 26, 27, 28, 29, 30, 31, 32, 33, 34, 35, 36, 37, 38, 39, 40, 41, 42, 43, 44, 45, 46, 47, 48, 49, 50, 51, 52, 53, 54, 55, 56, 57, 58, 59, 60, 61, 62, 63, 64, 65, 66, 67, 68, 69, 70, 71, 72, 73, 74, 75, 76, 77, 78, 79, 80, 81, 82, 83, 84, 85, 86, 87, 88, 89, 90, 91, 92, 93, 94, 95, 96, 97, 98, 99], 'values': [[nan, 32.97851912445783, 28.783467174782846, 28.71127689678864, 30.010597916654607, 28.788098509866373, 28.595701630270245, 29.711063015579523, 29.430003409684378, 29.697886974632265], [38.466543830400845, 42.63694760751211, 48.64144449816129, 46.5368941155835, 47.718299316435036, 47.5777742341407, 47.33134256858265, 47.81419516454771, 47.77507350395298, 47.48092827107842], [62.71774504396427, 63.96235242408961, 61.35553800285296, 64.4744553148957, 65.27639028344669, 64.79558935109291, 64.51084981403505, 65.03340382083158, 65.54053111380786, 65.41373658054697], [nan, 74.78536665529248, 79.88251095017614, 82.78205128216868, 82.5054674913812, 83.99861257630461, 82.61615530528604, 82.68898303942834, 83.22794053254576, 83.17149220570847], [94.61119401001336, 98.49944641550894, 99.58843555865766, 99.60439008761561, 101.14349166095117, 100.19673293899406, 100.88362759003061, 100.27215559885346, 100.29276150813928, 100.2802835268862], [nan, nan, 121.33440283083566, 118.0766043809716, 117.67649156752465, 118.40534561835385, 117.53501670751528, 117.48726979045871, 117.63542528193928, 117.12516824586717], [nan, nan, 139.97839583339874, 132.1072464794893, 137.39361460944832, 136.36627001095943, 134.7620409809618, 135.01067523961484, 135.4084597762879, 136.02003480332047], [nan, 149.00558018105568, nan, 150.6477807651631, 152.12760319313668, 152.1284768060035, 153.71930253917913, 152.00144969034264, 152.59316660599325, 154.69957131445045], [nan, nan, nan, nan, nan, 167.24380407227045, 170.41467473687158, 169.67211685958236, 170.2168546444603, 171.06064882722515], [nan, nan, nan, nan, 181.69156674026368, 192.77922702196537, 183.06579555388052, 188.08016556449184, 188.98617792357913, 190.7330896658915]], 'density_grid_shape': [10, 10], 'data_ranges': [[20.03132915382484, 199.4086305105135], [-1.0257826897761335, 14.857334089832502]]}\n"
     ]
    }
   ],
   "source": [
    "import requests\n",
    "\n",
    "url = \"http://127.0.0.1:5000/matrixServer/getDensity\"\n",
    "\n",
    "data = {\n",
    "    \"table\" : \"vaex_df\",\n",
    "    \"format\" : \"mean\",\n",
    "    \"columns\" : [*binbycols,value_col],\n",
    "    \"density_grid_shape\" : [10,10]\n",
    "}\n",
    "\n",
    "response = requests.post(url, json=data)\n",
    "# Check the status code of the response\n",
    "if response.status_code == 200:  # 200 means success\n",
    "    data = response.json()  # Assuming the server returns JSON data\n",
    "    print(data)\n",
    "else:\n",
    "    print(f\"Request failed with status code: {response.status_code}\")\n",
    "    print(response.text)  # Print the response content, which may contain the error message from the server"
   ]
  },
  {
   "cell_type": "code",
   "execution_count": 6,
   "metadata": {},
   "outputs": [
    {
     "name": "stdout",
     "output_type": "stream",
     "text": [
      "b''\n"
     ]
    }
   ],
   "source": [
    "print(server.last_request)"
   ]
  },
  {
   "cell_type": "code",
   "execution_count": 7,
   "metadata": {},
   "outputs": [
    {
     "data": {
      "text/plain": [
       "array([[         inf,          inf,          inf, ...,  20.42735102,\n",
       "         22.17325423,          inf],\n",
       "       [         inf,          inf,          inf, ...,  24.72293007,\n",
       "         23.1873414 ,  22.91251631],\n",
       "       [         inf,          inf,          inf, ...,  27.89917967,\n",
       "         26.91417087,  26.69122888],\n",
       "       ...,\n",
       "       [         inf,          inf,          inf, ...,          inf,\n",
       "                 inf,          inf],\n",
       "       [         inf,          inf,          inf, ...,          inf,\n",
       "                 inf, 195.88171493],\n",
       "       [         inf,          inf,          inf, ...,          inf,\n",
       "        199.10768612,          inf]])"
      ]
     },
     "execution_count": 7,
     "metadata": {},
     "output_type": "execute_result"
    }
   ],
   "source": [
    "xycounts = df.min(df_col, binby=[df_col, df_col2], shape=(64, 128))\n",
    "xycounts"
   ]
  },
  {
   "cell_type": "code",
   "execution_count": 8,
   "metadata": {},
   "outputs": [
    {
     "data": {
      "text/plain": [
       "array([[        -inf,         -inf,         -inf, ...,  21.99383864,\n",
       "         22.17325423,         -inf],\n",
       "       [        -inf,         -inf,         -inf, ...,  24.72293007,\n",
       "         24.73608524,  22.97769683],\n",
       "       [        -inf,         -inf,         -inf, ...,  27.89917967,\n",
       "         27.90693979,  26.69122888],\n",
       "       ...,\n",
       "       [        -inf,         -inf,         -inf, ...,         -inf,\n",
       "                -inf,         -inf],\n",
       "       [        -inf,         -inf,         -inf, ...,         -inf,\n",
       "                -inf, 195.88171493],\n",
       "       [        -inf,         -inf,         -inf, ...,         -inf,\n",
       "        199.10768612,         -inf]])"
      ]
     },
     "execution_count": 8,
     "metadata": {},
     "output_type": "execute_result"
    }
   ],
   "source": [
    "xycounts = df.max(df_col, binby=[df_col, df_col2], shape=(64, 128))\n",
    "xycounts"
   ]
  },
  {
   "cell_type": "code",
   "execution_count": 9,
   "metadata": {},
   "outputs": [
    {
     "data": {
      "text/plain": [
       "array([[         nan,          nan,          nan, ...,  21.21059483,\n",
       "         22.17325423,          nan],\n",
       "       [         nan,          nan,          nan, ...,  24.72293007,\n",
       "         23.79077172,  22.94510657],\n",
       "       [         nan,          nan,          nan, ...,  27.89917967,\n",
       "         27.3576381 ,  26.69122888],\n",
       "       ...,\n",
       "       [         nan,          nan,          nan, ...,          nan,\n",
       "                 nan,          nan],\n",
       "       [         nan,          nan,          nan, ...,          nan,\n",
       "                 nan, 195.88171493],\n",
       "       [         nan,          nan,          nan, ...,          nan,\n",
       "        199.10768612,          nan]])"
      ]
     },
     "execution_count": 9,
     "metadata": {},
     "output_type": "execute_result"
    }
   ],
   "source": [
    "xycounts = df.mean(df_col, binby=[df_col, df_col2], shape=(64, 128))\n",
    "xycounts"
   ]
  },
  {
   "cell_type": "code",
   "execution_count": 10,
   "metadata": {},
   "outputs": [
    {
     "data": {
      "text/plain": [
       "array([[         nan,          nan,          nan, ...,  21.08648975,\n",
       "         22.49337054,          nan],\n",
       "       [         nan,          nan,          nan, ...,  24.60369174,\n",
       "         23.19681094,  23.02095084],\n",
       "       [         nan,          nan,          nan, ...,  28.12089372,\n",
       "         27.18297319,  26.71401293],\n",
       "       ...,\n",
       "       [         nan,          nan,          nan, ...,          nan,\n",
       "                 nan,          nan],\n",
       "       [         nan,          nan,          nan, ...,          nan,\n",
       "                 nan, 196.24314872],\n",
       "       [         nan,          nan,          nan, ...,          nan,\n",
       "        199.76035071,          nan]])"
      ]
     },
     "execution_count": 10,
     "metadata": {},
     "output_type": "execute_result"
    }
   ],
   "source": [
    "xycounts = df.median_approx(df_col, binby=[df_col, df_col2], shape=(64, 128))\n",
    "xycounts"
   ]
  },
  {
   "cell_type": "code",
   "execution_count": 11,
   "metadata": {},
   "outputs": [
    {
     "name": "stdout",
     "output_type": "stream",
     "text": [
      "[20.03132915382484, 199.4086305105135]\n"
     ]
    }
   ],
   "source": [
    "minmax = df.minmax(df_col)\n",
    "print(minmax.tolist())"
   ]
  }
 ],
 "metadata": {
  "interpreter": {
   "hash": "2f805fcbb356caaee729cb1b449c783252e9abb8fb45692811a2ed9dfae5aa3d"
  },
  "kernelspec": {
   "display_name": "Python 3.9.17",
   "language": "python",
   "name": "python3"
  },
  "language_info": {
   "codemirror_mode": {
    "name": "ipython",
    "version": 3
   },
   "file_extension": ".py",
   "mimetype": "text/x-python",
   "name": "python",
   "nbconvert_exporter": "python",
   "pygments_lexer": "ipython3",
   "version": "3.9.17"
  },
  "orig_nbformat": 4
 },
 "nbformat": 4,
 "nbformat_minor": 2
}
