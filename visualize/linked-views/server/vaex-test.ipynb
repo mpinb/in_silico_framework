{
 "cells": [
  {
   "cell_type": "code",
   "execution_count": 1,
   "metadata": {},
   "outputs": [
    {
     "name": "stdout",
     "output_type": "stream",
     "text": [
      "start read: simulation_samples_original.csv\n",
      "complete read\n",
      "start read: simulation_samples.csv\n",
      "complete read\n",
      "server is running at port 5000\n",
      "logs are written to /tmp/linked-views-server.log\n",
      "set data:        server.set_data(vaex_df)\n",
      "stop server:     server.stop()\n"
     ]
    }
   ],
   "source": [
    "from server import LinkedViewsServer\n",
    "data_folder = \"/scratch/visual/bzfharth/in-silico-install-dir/project_src/in_silico_framework/getting_started/linked-views-example-data/backend_data_2023-06-22\"\n",
    "\n",
    "server = LinkedViewsServer(data_folder)\n",
    "server.start(5000)\n",
    "#server.stop()"
   ]
  },
  {
   "cell_type": "code",
   "execution_count": 2,
   "metadata": {},
   "outputs": [],
   "source": [
    "import vaex\n",
    "import vaex.ml\n",
    "import util\n",
    "\n",
    "def append_PCA(df, columns, descriptor, n_components = 2):\n",
    "    pca = vaex.ml.PCA(features=columns, n_components=n_components)    \n",
    "    df_transformed = pca.fit_transform(df)\n",
    "    for component_idx in range(0, n_components):\n",
    "        df_transformed.rename(f\"PCA_{component_idx}\", f\"{descriptor}-{component_idx+1}\")\n",
    "    return df_transformed"
   ]
  },
  {
   "cell_type": "code",
   "execution_count": 3,
   "metadata": {},
   "outputs": [],
   "source": [
    "filename = \"/scratch/visual/bzfharth/in-silico-install-dir/project_src/in_silico_framework/getting_started/linked-views-example-data/backend_data_2023-06-22/simulation_samples.csv\"\n",
    "df = vaex.from_csv(filename, copy_index=False)\n",
    "\n",
    "df_extended = append_PCA(df, util.getParamsCols(), \"PCA-ephys\")\n",
    "\n",
    "server.set_data(df_extended)\n"
   ]
  },
  {
   "cell_type": "code",
   "execution_count": 4,
   "metadata": {},
   "outputs": [],
   "source": [
    "if(\"global\" in server.selections):\n",
    "    columns = server.selections[\"global\"][\"columns\"] # ['ephys.CaDynamics_E2_v2.apic.decay','ephys.NaTa_t.axon.gNaTa_tbar']\n",
    "    col1 = columns[0]\n",
    "    col2 = columns[1]\n",
    "\n",
    "    print(columns)\n",
    "\n",
    "    ranges = server.selections[\"global\"][\"bin_ranges\"]\n",
    "\n",
    "    server.vaex_df.select_nothing(name=\"selection_global\")\n",
    "    for idx, range_i in enumerate(ranges):    \n",
    "        limit_i = [(range_i[0][0], range_i[0][1]), (range_i[1][0], range_i[1][1])]        \n",
    "        server.vaex_df.select_rectangle(server.vaex_df[col1], server.vaex_df[col2], limit_i, name=\"selection_global\", mode=\"or\")\n",
    "        #print(limit_i)\n",
    "\n",
    "    df_selected_indices = server.vaex_df.evaluate(server.vaex_df[\"Unnamed: 0\"], selection=\"selection_global\")\n",
    "\n",
    "    print(\"num selected\", df_selected_indices.shape)\n",
    "    print(\"indices\", df_selected_indices)"
   ]
  }
 ],
 "metadata": {
  "interpreter": {
   "hash": "2f805fcbb356caaee729cb1b449c783252e9abb8fb45692811a2ed9dfae5aa3d"
  },
  "kernelspec": {
   "display_name": "Python 3.9.17",
   "language": "python",
   "name": "python3"
  },
  "language_info": {
   "codemirror_mode": {
    "name": "ipython",
    "version": 3
   },
   "file_extension": ".py",
   "mimetype": "text/x-python",
   "name": "python",
   "nbconvert_exporter": "python",
   "pygments_lexer": "ipython3",
   "version": "3.9.17"
  },
  "orig_nbformat": 4
 },
 "nbformat": 4,
 "nbformat_minor": 2
}
