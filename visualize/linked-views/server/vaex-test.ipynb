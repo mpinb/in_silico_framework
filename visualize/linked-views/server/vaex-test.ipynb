{
 "cells": [
  {
   "cell_type": "code",
   "execution_count": 1,
   "metadata": {},
   "outputs": [
    {
     "name": "stdout",
     "output_type": "stream",
     "text": [
      "/scratch/visual/bzfharth/in-silico-install-dir/project_src/in_silico_framework/visualize/linked-views/server/defaults/config.json\n",
      "server is running at port 5000\n",
      "logs are written to /tmp/linked-views-server.log\n",
      "set data:        server.set_data(vaex_df)\n",
      "stop server:     server.stop()\n"
     ]
    }
   ],
   "source": [
    "from server import LinkedViewsServer\n",
    "server = LinkedViewsServer()\n",
    "server.start(5000)\n",
    "#server.stop()"
   ]
  },
  {
   "cell_type": "code",
   "execution_count": 2,
   "metadata": {},
   "outputs": [],
   "source": [
    "import vaex\n",
    "import vaex.ml\n",
    "import util\n",
    "\n",
    "\"\"\"\n",
    "def append_PCA(df, columns, descriptor, n_components = 2):\n",
    "    pca = vaex.ml.PCA(features=columns, n_components=n_components)    \n",
    "    df_transformed = pca.fit_transform(df)\n",
    "    for component_idx in range(0, n_components):\n",
    "        df_transformed.rename(f\"PCA_{component_idx}\", f\"{descriptor}-{component_idx+1}\")\n",
    "    return df_transformed\n",
    "\"\"\"\n",
    "\n",
    "filename = \"/scratch/visual/bzfharth/in-silico-install-dir/project_src/in_silico_framework/getting_started/linked-views-example-data/backend_data_2023-06-22/simulation_samples.csv\"\n",
    "df = vaex.from_csv(filename, copy_index=False)\n",
    "#df_extended = append_PCA(df, util.getParamsCols(), \"PCA-ephys\")\n",
    "\n",
    "server.set_data(df)"
   ]
  },
  {
   "cell_type": "code",
   "execution_count": 4,
   "metadata": {},
   "outputs": [
    {
     "data": {
      "text/plain": [
       "'my-name'"
      ]
     },
     "execution_count": 4,
     "metadata": {},
     "output_type": "execute_result"
    }
   ],
   "source": [
    "import defaults.default_sessions as default_sessions\n",
    "server.add_session(default_sessions.biophysics_fitting())\n",
    "server.add_session(default_sessions.biophysics_fitting(), \"my-name\")"
   ]
  },
  {
   "cell_type": "code",
   "execution_count": 5,
   "metadata": {},
   "outputs": [
    {
     "ename": "TypeError",
     "evalue": "'NoneType' object is not subscriptable",
     "output_type": "error",
     "traceback": [
      "\u001b[0;31m---------------------------------------------------------------------------\u001b[0m",
      "\u001b[0;31mTypeError\u001b[0m                                 Traceback (most recent call last)",
      "Cell \u001b[0;32mIn[5], line 6\u001b[0m\n\u001b[1;32m      3\u001b[0m foo \u001b[38;5;241m=\u001b[39m server\u001b[38;5;241m.\u001b[39mget_session(\u001b[38;5;124m\"\u001b[39m\u001b[38;5;124msession-2\u001b[39m\u001b[38;5;124m\"\u001b[39m)\n\u001b[1;32m      5\u001b[0m \u001b[38;5;28;01mwith\u001b[39;00m \u001b[38;5;28mopen\u001b[39m(\u001b[38;5;124m\"\u001b[39m\u001b[38;5;124m/tmp/session-2.json\u001b[39m\u001b[38;5;124m\"\u001b[39m, \u001b[38;5;124m\"\u001b[39m\u001b[38;5;124mw\u001b[39m\u001b[38;5;124m\"\u001b[39m) \u001b[38;5;28;01mas\u001b[39;00m f:\n\u001b[0;32m----> 6\u001b[0m     json\u001b[38;5;241m.\u001b[39mdump(\u001b[43mfoo\u001b[49m\u001b[43m[\u001b[49m\u001b[38;5;124;43m\"\u001b[39;49m\u001b[38;5;124;43mdata\u001b[39;49m\u001b[38;5;124;43m\"\u001b[39;49m\u001b[43m]\u001b[49m, f, sort_keys\u001b[38;5;241m=\u001b[39m\u001b[38;5;28;01mTrue\u001b[39;00m, indent\u001b[38;5;241m=\u001b[39m\u001b[38;5;241m4\u001b[39m)\n",
      "\u001b[0;31mTypeError\u001b[0m: 'NoneType' object is not subscriptable"
     ]
    }
   ],
   "source": [
    "modified_session = server.get_session(\"my-name\")"
   ]
  }
 ],
 "metadata": {
  "interpreter": {
   "hash": "2f805fcbb356caaee729cb1b449c783252e9abb8fb45692811a2ed9dfae5aa3d"
  },
  "kernelspec": {
   "display_name": "Python 3.9.17",
   "language": "python",
   "name": "python3"
  },
  "language_info": {
   "codemirror_mode": {
    "name": "ipython",
    "version": 3
   },
   "file_extension": ".py",
   "mimetype": "text/x-python",
   "name": "python",
   "nbconvert_exporter": "python",
   "pygments_lexer": "ipython3",
   "version": "3.9.17"
  },
  "orig_nbformat": 4
 },
 "nbformat": 4,
 "nbformat_minor": 2
}
