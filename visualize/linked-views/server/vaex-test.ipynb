{
 "cells": [
  {
   "cell_type": "code",
   "execution_count": null,
   "metadata": {},
   "outputs": [],
   "source": [
    "from server import LinkedViewsServer\n",
    "server = LinkedViewsServer()\n",
    "server.start(5000)\n",
    "#server.stop()"
   ]
  },
  {
   "cell_type": "code",
   "execution_count": null,
   "metadata": {},
   "outputs": [],
   "source": [
    "import vaex\n",
    "import vaex.ml\n",
    "import util\n",
    "\n",
    "\"\"\"\n",
    "def append_PCA(df, columns, descriptor, n_components = 2):\n",
    "    pca = vaex.ml.PCA(features=columns, n_components=n_components)    \n",
    "    df_transformed = pca.fit_transform(df)\n",
    "    for component_idx in range(0, n_components):\n",
    "        df_transformed.rename(f\"PCA_{component_idx}\", f\"{descriptor}-{component_idx+1}\")\n",
    "    return df_transformed\n",
    "\"\"\"\n",
    "\n",
    "filename = \"/scratch/visual/bzfharth/in-silico-install-dir/project_src/in_silico_framework/getting_started/linked-views-example-data/backend_data_2023-06-22/simulation_samples.csv\"\n",
    "df = vaex.from_csv(filename, copy_index=False)\n",
    "#df_extended = append_PCA(df, util.getParamsCols(), \"PCA-ephys\")\n",
    "\n",
    "server.set_data(df)"
   ]
  },
  {
   "cell_type": "code",
   "execution_count": null,
   "metadata": {},
   "outputs": [],
   "source": [
    "import defaults.default_sessions as default_sessions\n",
    "automatic_name = server.add_session(default_sessions.biophysics_fitting())\n",
    "_ = server.add_session(default_sessions.biophysics_fitting_2(), \"dual-view\")\n",
    "\n",
    "\n",
    "# change something in UI and save session, then retrieve session data:\n",
    "# modified_session = server.get_session(\"dual-view\")"
   ]
  },
  {
   "cell_type": "code",
   "execution_count": null,
   "metadata": {},
   "outputs": [],
   "source": []
  },
  {
   "cell_type": "markdown",
   "metadata": {},
   "source": [
    "### selections"
   ]
  },
  {
   "cell_type": "code",
   "execution_count": null,
   "metadata": {},
   "outputs": [],
   "source": [
    "df_selecedIndices = server.computeSelection()\n",
    "if(df_selecedIndices is not None):\n",
    "    print(df_selecedIndices.shape)"
   ]
  },
  {
   "cell_type": "code",
   "execution_count": null,
   "metadata": {},
   "outputs": [],
   "source": [
    "server.resetSelection()"
   ]
  }
 ],
 "metadata": {
  "interpreter": {
   "hash": "2f805fcbb356caaee729cb1b449c783252e9abb8fb45692811a2ed9dfae5aa3d"
  },
  "kernelspec": {
   "display_name": "Python 3.9.17",
   "language": "python",
   "name": "python3"
  },
  "language_info": {
   "codemirror_mode": {
    "name": "ipython",
    "version": 3
   },
   "file_extension": ".py",
   "mimetype": "text/x-python",
   "name": "python",
   "nbconvert_exporter": "python",
   "pygments_lexer": "ipython3",
   "version": "3.9.17"
  },
  "orig_nbformat": 4
 },
 "nbformat": 4,
 "nbformat_minor": 2
}
