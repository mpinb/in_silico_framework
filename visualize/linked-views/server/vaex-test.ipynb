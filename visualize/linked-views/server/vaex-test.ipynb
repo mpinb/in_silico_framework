{
 "cells": [
  {
   "cell_type": "code",
   "execution_count": 1,
   "metadata": {},
   "outputs": [
    {
     "name": "stdout",
     "output_type": "stream",
     "text": [
      "start read: simulation_samples_original.csv\n",
      "complete read\n",
      "start read: simulation_samples.csv\n",
      "complete read\n",
      "server is running at port 5000\n",
      "logs are written to /tmp/linked-views-server.log\n",
      "set data:        server.set_data(vaex_df)\n",
      "stop server:     server.stop()\n"
     ]
    }
   ],
   "source": [
    "from server import LinkedViewsServer\n",
    "data_folder = \"/scratch/visual/bzfharth/in-silico-install-dir/project_src/in_silico_framework/getting_started/linked-views-example-data/backend_data_2023-06-22\"\n",
    "\n",
    "server = LinkedViewsServer(data_folder)\n",
    "server.start(5000)\n",
    "#server.stop()"
   ]
  },
  {
   "cell_type": "code",
   "execution_count": 2,
   "metadata": {},
   "outputs": [],
   "source": [
    "import vaex\n",
    "import vaex.ml\n",
    "import util\n",
    "\n",
    "def append_PCA(df, columns, descriptor, n_components = 2):\n",
    "    pca = vaex.ml.PCA(features=columns, n_components=n_components)    \n",
    "    df_transformed = pca.fit_transform(df)\n",
    "    for component_idx in range(0, n_components):\n",
    "        df_transformed.rename(f\"PCA_{component_idx}\", f\"{descriptor}-{component_idx+1}\")\n",
    "    return df_transformed"
   ]
  },
  {
   "cell_type": "code",
   "execution_count": 3,
   "metadata": {},
   "outputs": [],
   "source": [
    "filename = \"/scratch/visual/bzfharth/in-silico-install-dir/project_src/in_silico_framework/getting_started/linked-views-example-data/backend_data_2023-06-22/simulation_samples.csv\"\n",
    "df = vaex.from_csv(filename, copy_index=False)\n",
    "\n",
    "df_extended = append_PCA(df, util.getParamsCols(), \"PCA-ephys\")\n",
    "\n",
    "server.set_data(df_extended)\n"
   ]
  },
  {
   "cell_type": "code",
   "execution_count": 6,
   "metadata": {},
   "outputs": [
    {
     "name": "stdout",
     "output_type": "stream",
     "text": [
      "['PCA-ephys-1', 'PCA-ephys-2']\n",
      "num selected (259,)\n",
      "indices [  12   48   94  170  201  256  355  411  442  461  507  525  545  579\n",
      "  652  830  842  851  915  925  940 1023 1269 1288 1445 1454 1465 1468\n",
      " 1493 1549 1562 1568 1780 1830 1848 1913 1957 1964 1997 2002 2004 2014\n",
      " 2073 2149 2154 2169 2244 2334 2369 2373 2399 2429 2437 2557 2558 2600\n",
      " 2693 2746 2815 2825 2826 2827 2893 2928 2950 2959 2975 2987 2993 2997\n",
      " 3006 3034 3037 3102 3111 3122 3233 3366 3429 3476 3555 3719 3722 3759\n",
      " 3809 3823 3826 3844 3855 3903 3918 3944 3960 3994 4027 4029 4106 4124\n",
      " 4132 4150 4239 4251 4283 4307 4352 4395 4501 4543 4673 4691 4693 4800\n",
      " 4807 4838 4876 4932 4948 4981 5018 5031 5069 5126 5143 5154 5157 5196\n",
      " 5224 5262 5289 5306 5321 5331 5342 5416 5478 5494 5551 5561 5578 5582\n",
      " 5615 5638 5670 5696 5735 5767 5837 5876 5920 5940 5986 5996 6052 6088\n",
      " 6147 6161 6168 6200 6210 6340 6376 6396 6400 6421 6425 6561 6609 6626\n",
      " 6630 6666 6709 6713 6722 6744 6796 6803 6874 6954 7042 7172 7199 7205\n",
      " 7266 7322 7350 7354 7399 7462 7476 7568 7604 7607 7648 7682 7716 7735\n",
      " 7742 7744 7769 7864 7961 7966 7979 8055 8058 8069 8084 8156 8162 8177\n",
      " 8192 8204 8291 8296 8326 8357 8394 8459 8508 8549 8576 8578 8673 8709\n",
      " 8727 8746 8796 8837 8895 8952 9004 9016 9033 9060 9082 9117 9119 9143\n",
      " 9220 9291 9433 9473 9561 9613 9638 9686 9699 9761 9788 9798 9805 9810\n",
      " 9866 9898 9899 9919 9938 9940 9954]\n"
     ]
    }
   ],
   "source": [
    "if(\"global\" in server.selections):\n",
    "    columns = server.selections[\"global\"][\"columns\"] # ['ephys.CaDynamics_E2_v2.apic.decay','ephys.NaTa_t.axon.gNaTa_tbar']\n",
    "    col1 = columns[0]\n",
    "    col2 = columns[1]\n",
    "\n",
    "    print(columns)\n",
    "\n",
    "    ranges = server.selections[\"global\"][\"bin_ranges\"]\n",
    "\n",
    "    server.vaex_df.select_nothing(name=\"selection_global\")\n",
    "    for idx, range_i in enumerate(ranges):    \n",
    "        limit_i = [(range_i[0][0], range_i[0][1]), (range_i[1][0], range_i[1][1])]        \n",
    "        server.vaex_df.select_rectangle(server.vaex_df[col1], server.vaex_df[col2], limit_i, name=\"selection_global\", mode=\"or\")\n",
    "        #print(limit_i)\n",
    "\n",
    "    df_selected_indices = server.vaex_df.evaluate(server.vaex_df[\"Unnamed: 0\"], selection=\"selection_global\")\n",
    "\n",
    "    print(\"num selected\", df_selected_indices.shape)\n",
    "    print(\"indices\", df_selected_indices)"
   ]
  }
 ],
 "metadata": {
  "interpreter": {
   "hash": "2f805fcbb356caaee729cb1b449c783252e9abb8fb45692811a2ed9dfae5aa3d"
  },
  "kernelspec": {
   "display_name": "Python 3.9.17",
   "language": "python",
   "name": "python3"
  },
  "language_info": {
   "codemirror_mode": {
    "name": "ipython",
    "version": 3
   },
   "file_extension": ".py",
   "mimetype": "text/x-python",
   "name": "python",
   "nbconvert_exporter": "python",
   "pygments_lexer": "ipython3",
   "version": "3.9.17"
  },
  "orig_nbformat": 4
 },
 "nbformat": 4,
 "nbformat_minor": 2
}
