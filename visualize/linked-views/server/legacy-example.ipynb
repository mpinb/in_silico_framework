{
 "cells": [
  {
   "cell_type": "code",
   "execution_count": 1,
   "metadata": {},
   "outputs": [
    {
     "name": "stdout",
     "output_type": "stream",
     "text": [
      "/scratch/visual/bzfharth/in-silico-install-dir/project_src/in_silico_framework/getting_started/linked-views-example-data/case_study_1/config.json\n",
      "start read: neurons.csv\n",
      "complete read\n",
      "start read: synapses.csv\n",
      "complete read\n",
      "server is running at port 5001\n",
      "logs are written to /tmp/linked-views-server.log\n",
      "set data:        server.set_data(vaex_df)\n",
      "stop server:     server.stop()\n",
      "/scratch/visual/bzfharth/in-silico-install-dir/project_src/in_silico_framework/getting_started/linked-views-example-data/case_study_1/resources/281900.json\n",
      "/scratch/visual/bzfharth/in-silico-install-dir/project_src/in_silico_framework/getting_started/linked-views-example-data/case_study_1/resources/281900.json\n",
      "/scratch/visual/bzfharth/in-silico-install-dir/project_src/in_silico_framework/getting_started/linked-views-example-data/case_study_1/resources/281900.json\n",
      "/scratch/visual/bzfharth/in-silico-install-dir/project_src/in_silico_framework/getting_started/linked-views-example-data/case_study_1/resources/281900.json\n"
     ]
    }
   ],
   "source": [
    "from server import LinkedViewsServer\n",
    "\n",
    "dataFolder = \"/scratch/visual/bzfharth/in-silico-install-dir/project_src/in_silico_framework/getting_started/linked-views-example-data/case_study_1\"\n",
    "\n",
    "server = LinkedViewsServer(data_folder=dataFolder)\n",
    "server.start(5001)"
   ]
  },
  {
   "cell_type": "code",
   "execution_count": null,
   "metadata": {},
   "outputs": [],
   "source": []
  }
 ],
 "metadata": {
  "interpreter": {
   "hash": "544b62cee7e3d6a10719505071aa650bbaab05497cd6e348330409a10e79aadc"
  },
  "kernelspec": {
   "display_name": "Python 3.8.17",
   "language": "python",
   "name": "python3"
  },
  "language_info": {
   "codemirror_mode": {
    "name": "ipython",
    "version": 3
   },
   "file_extension": ".py",
   "mimetype": "text/x-python",
   "name": "python",
   "nbconvert_exporter": "python",
   "pygments_lexer": "ipython3",
   "version": "3.9.17"
  },
  "orig_nbformat": 4
 },
 "nbformat": 4,
 "nbformat_minor": 2
}
