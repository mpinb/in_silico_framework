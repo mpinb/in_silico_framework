{
 "cells": [
  {
   "cell_type": "code",
   "execution_count": 1,
   "metadata": {},
   "outputs": [
    {
     "name": "stdout",
     "output_type": "stream",
     "text": [
      "/scratch/visual/bzfharth/in-silico-install-dir/project_src/in_silico_framework/visualize/linked_views/defaults/config.json\n",
      "server is running at port 5000\n",
      "logs are written to /tmp/linked-views-server.log\n",
      "set data:        server.set_data(df)\n",
      "stop server:     server.stop()\n"
     ]
    }
   ],
   "source": [
    "from server import LinkedViewsServer\n",
    "server = LinkedViewsServer()\n",
    "server.start(5000)"
   ]
  },
  {
   "cell_type": "code",
   "execution_count": 5,
   "metadata": {},
   "outputs": [
    {
     "name": "stdout",
     "output_type": "stream",
     "text": [
      "Stopping server. If operation does not terminate, try to repeatedly reopen http://127.0.0.1:5000 in the browser.\n",
      "Server stopped.\n"
     ]
    }
   ],
   "source": [
    "#server.stop()"
   ]
  },
  {
   "cell_type": "code",
   "execution_count": 2,
   "metadata": {},
   "outputs": [],
   "source": [
    "import vaex\n",
    "import vaex.ml\n",
    "import util\n",
    "\n",
    "\"\"\"\n",
    "def append_PCA(df, columns, descriptor, n_components = 2):\n",
    "    pca = vaex.ml.PCA(features=columns, n_components=n_components)    \n",
    "    df_transformed = pca.fit_transform(df)\n",
    "    for component_idx in range(0, n_components):\n",
    "        df_transformed.rename(f\"PCA_{component_idx}\", f\"{descriptor}-{component_idx+1}\")\n",
    "    return df_transformed\n",
    "\"\"\"\n",
    "\n",
    "filename = \"/scratch/visual/bzfharth/in-silico-install-dir/project_src/in_silico_framework/getting_started/linked-views-example-data/backend_data_2023-06-22/simulation_samples.csv\"\n",
    "df = vaex.from_csv(filename, copy_index=False)\n",
    "#df_extended = append_PCA(df, util.getParamsCols(), \"PCA-ephys\")\n",
    "\n",
    "server.set_data(df)"
   ]
  },
  {
   "cell_type": "code",
   "execution_count": 3,
   "metadata": {},
   "outputs": [],
   "source": [
    "import defaults.default_sessions as default_sessions\n",
    "automatic_name = server.add_session(default_sessions.biophysics_fitting_vaex_1())\n",
    "_ = server.add_session(default_sessions.biophysics_fitting_vaex_2(), \"dual-view\")\n",
    "\n",
    "# change something in UI and save session, then retrieve session data:\n",
    "# modified_session = server.get_session(\"dual-view\")"
   ]
  },
  {
   "cell_type": "markdown",
   "metadata": {},
   "source": [
    "### selections"
   ]
  },
  {
   "cell_type": "markdown",
   "metadata": {},
   "source": [
    "Make selection in density plot in frontend, then compute indices of selection as below:"
   ]
  },
  {
   "cell_type": "code",
   "execution_count": 4,
   "metadata": {},
   "outputs": [
    {
     "name": "stdout",
     "output_type": "stream",
     "text": [
      "(811,)\n"
     ]
    }
   ],
   "source": [
    "df_selecedIndices = server.computeSelection()\n",
    "if(df_selecedIndices is not None):\n",
    "    print(df_selecedIndices.shape)"
   ]
  },
  {
   "cell_type": "markdown",
   "metadata": {},
   "source": [
    "In case of multiple density views (session 'dual-view'), press 'Apply session' to force update of selection in frontend after computing indices as above."
   ]
  },
  {
   "cell_type": "code",
   "execution_count": null,
   "metadata": {},
   "outputs": [],
   "source": [
    "#server.resetSelection()"
   ]
  }
 ],
 "metadata": {
  "interpreter": {
   "hash": "4c6b459f9c7d30423331c6bf5d7d90e16fd24412f0b0a5409435207237fee492"
  },
  "kernelspec": {
   "display_name": "isf3-new",
   "language": "python",
   "name": "python3"
  },
  "language_info": {
   "codemirror_mode": {
    "name": "ipython",
    "version": 3
   },
   "file_extension": ".py",
   "mimetype": "text/x-python",
   "name": "python",
   "nbconvert_exporter": "python",
   "pygments_lexer": "ipython3",
   "version": "3.8.5"
  },
  "orig_nbformat": 4
 },
 "nbformat": 4,
 "nbformat_minor": 2
}
