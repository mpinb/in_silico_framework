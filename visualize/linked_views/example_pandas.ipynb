{
 "cells": [
  {
   "cell_type": "code",
   "execution_count": 2,
   "metadata": {},
   "outputs": [],
   "source": [
    "import pandas as pd\n",
    "from pathlib import Path\n",
    "\n",
    "csv_file = Path(\"../../getting_started/linked-views-example-data/case_study_2/simulation_samples.csv\")\n",
    "\n",
    "df = pd.read_csv(csv_file)\n",
    "df_1 = df.iloc[0:1000]\n",
    "df_2 = df.iloc[1000:2000]"
   ]
  },
  {
   "cell_type": "code",
   "execution_count": 3,
   "metadata": {},
   "outputs": [
    {
     "name": "stdout",
     "output_type": "stream",
     "text": [
      "/scratch/visual/bzfharth/in-silico-install-dir/project_src/in_silico_framework/visualize/linked_views/defaults/config.json\n",
      "server is running at port 5000\n",
      "logs are written to /tmp/linked-views-server.log\n",
      "set data:        server.set_data(df)\n",
      "stop server:     server.stop()\n"
     ]
    }
   ],
   "source": [
    "from server import LinkedViewsServer\n",
    "server = LinkedViewsServer()\n",
    "server.start(5000)"
   ]
  },
  {
   "cell_type": "code",
   "execution_count": 4,
   "metadata": {},
   "outputs": [],
   "source": [
    "#server.stop()"
   ]
  },
  {
   "cell_type": "code",
   "execution_count": 5,
   "metadata": {},
   "outputs": [],
   "source": [
    "import defaults.default_sessions as default_sessions\n",
    "\n",
    "automatic_name = server.add_session(default_sessions.biophysics_fitting_pandas())\n"
   ]
  },
  {
   "cell_type": "markdown",
   "metadata": {},
   "source": [
    "Set pandas dataframe, open frontend, apply session, and make selections in frontend."
   ]
  },
  {
   "cell_type": "code",
   "execution_count": 6,
   "metadata": {},
   "outputs": [],
   "source": [
    "server.set_data(df_1)"
   ]
  },
  {
   "cell_type": "code",
   "execution_count": 12,
   "metadata": {},
   "outputs": [
    {
     "data": {
      "text/plain": [
       "[96, 135, 381, 428, 440, 503]"
      ]
     },
     "execution_count": 12,
     "metadata": {},
     "output_type": "execute_result"
    }
   ],
   "source": [
    "selection = server.getSelectionFromView(\"umap channel expression\")\n",
    "selection"
   ]
  },
  {
   "cell_type": "markdown",
   "metadata": {},
   "source": [
    "Set another dataframe for the running backend server (currently requires full refresh of browser window with F5 to be updated in frontend)"
   ]
  },
  {
   "cell_type": "code",
   "execution_count": 8,
   "metadata": {},
   "outputs": [],
   "source": [
    "#server.set_data(df_2)"
   ]
  }
 ],
 "metadata": {
  "interpreter": {
   "hash": "4c6b459f9c7d30423331c6bf5d7d90e16fd24412f0b0a5409435207237fee492"
  },
  "kernelspec": {
   "display_name": "Python 3.8.5",
   "language": "python",
   "name": "python3"
  },
  "language_info": {
   "codemirror_mode": {
    "name": "ipython",
    "version": 3
   },
   "file_extension": ".py",
   "mimetype": "text/x-python",
   "name": "python",
   "nbconvert_exporter": "python",
   "pygments_lexer": "ipython3",
   "version": "3.8.5"
  },
  "orig_nbformat": 4
 },
 "nbformat": 4,
 "nbformat_minor": 2
}
