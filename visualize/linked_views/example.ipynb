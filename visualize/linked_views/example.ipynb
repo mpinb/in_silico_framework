{
 "cells": [
  {
   "cell_type": "code",
   "execution_count": 1,
   "metadata": {},
   "outputs": [
    {
     "name": "stderr",
     "output_type": "stream",
     "text": [
      "/scratch/visual/bzfharth/in-silico-install-dir/project_src/in_silico_framework/model_data_base/distributed_lock.py:17: UserWarning: environment variable ISF_DISTRIBUTED_LOCK_CONFIG is not set. Falling back to default configuration.\n",
      "  warnings.warn(\n",
      "/scratch/visual/bzfharth/in-silico-install-dir/project_src/in_silico_framework/model_data_base/distributed_lock.py:47: UserWarning: Using file based locking.Please be careful on nfs mounts as file based locking has issues in this case.\n",
      "  warnings.warn(\n"
     ]
    },
    {
     "name": "stdout",
     "output_type": "stream",
     "text": [
      "trying to connect to distributed locking server {'type': 'redis', 'config': {'host': 'spock', 'port': 8885, 'socket_timeout': 1}}\n",
      "trying to connect to distributed locking server {'type': 'redis', 'config': {'host': 'localhost', 'port': 6379, 'socket_timeout': 1}}\n",
      "trying to connect to distributed locking server {'type': 'file'}\n",
      "/scratch/visual/bzfharth/in-silico-install-dir/project_src/in_silico_framework/visualize/linked_views/defaults/config.json\n",
      "server is running at port 5000\n",
      "logs are written to /tmp/tmptdpovyng/linked-views-server.log\n",
      "set data:        server.set_data(df)\n",
      "stop server:     server.stop()\n"
     ]
    }
   ],
   "source": [
    "from server import LinkedViewsServer\n",
    "server = LinkedViewsServer()\n",
    "server.start(5000)"
   ]
  },
  {
   "cell_type": "code",
   "execution_count": null,
   "metadata": {},
   "outputs": [],
   "source": [
    "server.stop()"
   ]
  },
  {
   "cell_type": "code",
   "execution_count": 2,
   "metadata": {},
   "outputs": [],
   "source": [
    "import vaex\n",
    "import vaex.ml\n",
    "import util\n",
    "from pathlib import Path\n",
    "import pandas as pd\n",
    "\n",
    "filename = \"/scratch/visual/bzfharth/in-silico-install-dir/project_src/in_silico_framework/getting_started/linked-views-example-data/backend_data_2023-06-22/simulation_samples.csv\"\n",
    "csv_file = Path(\"../../getting_started/linked-views-example-data/case_study_2/simulation_samples.csv\")\n",
    "df = pd.read_csv(csv_file)\n",
    "pdf_1 = df.iloc[0:1000]\n",
    "pdf_2 = df.iloc[1000:2000]\n",
    "vdf = vaex.from_csv(filename, copy_index=False)\n",
    "\n",
    "# Set one of the following dataframes:\n",
    "server.set_data(vdf)\n",
    "#server.set_data(pdf_1)"
   ]
  },
  {
   "cell_type": "code",
   "execution_count": 3,
   "metadata": {},
   "outputs": [
    {
     "name": "stdout",
     "output_type": "stream",
     "text": [
      "density_grid_shape (100, 100)\n"
     ]
    }
   ],
   "source": [
    "import defaults.default_sessions as default_sessions\n",
    "\n",
    "# Choose one of the following\n",
    "session = default_sessions.biophysics_fitting_vaex_1()\n",
    "# session = default_sessions.biophysics_fitting_vaex_2()\n",
    "# session = default_session.biophysics_fitting_pandas()\n",
    "automatic_name = server.add_session(session)\n",
    "\n",
    "# change something in UI and save session, then retrieve session data:\n",
    "# modified_session = server.get_session(\"dual-view\")"
   ]
  },
  {
   "cell_type": "markdown",
   "metadata": {},
   "source": [
    "### selections"
   ]
  },
  {
   "cell_type": "markdown",
   "metadata": {},
   "source": [
    "Make selection in density plot in frontend, then compute indices of selection as below:"
   ]
  },
  {
   "cell_type": "code",
   "execution_count": null,
   "metadata": {},
   "outputs": [],
   "source": [
    "df_selecedIndices = server.computeSelection()\n",
    "if(df_selecedIndices is not None):\n",
    "    print(df_selecedIndices.shape)"
   ]
  },
  {
   "cell_type": "markdown",
   "metadata": {},
   "source": [
    "In case of multiple density views (session 'dual-view'), press 'Apply session' to force update of selection in frontend after computing indices as above."
   ]
  },
  {
   "cell_type": "code",
   "execution_count": null,
   "metadata": {},
   "outputs": [],
   "source": [
    "#server.resetSelection()"
   ]
  }
 ],
 "metadata": {
  "interpreter": {
   "hash": "4c6b459f9c7d30423331c6bf5d7d90e16fd24412f0b0a5409435207237fee492"
  },
  "kernelspec": {
   "display_name": "Python 3.8.5",
   "language": "python",
   "name": "python3"
  },
  "language_info": {
   "codemirror_mode": {
    "name": "ipython",
    "version": 3
   },
   "file_extension": ".py",
   "mimetype": "text/x-python",
   "name": "python",
   "nbconvert_exporter": "python",
   "pygments_lexer": "ipython3",
   "version": "3.8.5"
  }
 },
 "nbformat": 4,
 "nbformat_minor": 2
}
