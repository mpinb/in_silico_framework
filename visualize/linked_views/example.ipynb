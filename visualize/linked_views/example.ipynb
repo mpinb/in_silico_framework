{
 "cells": [
  {
   "cell_type": "code",
   "execution_count": null,
   "metadata": {},
   "outputs": [
    {
     "name": "stdout",
     "output_type": "stream",
     "text": [
      "/scratch/visual/bzfharth/in-silico-install-dir/project_src/in_silico_framework/visualize/linked_views/defaults/config.json\n",
      "server is running at port 5000\n",
      "logs are written to /tmp/linked-views-server.log\n",
      "set data:        server.set_data(df)\n",
      "stop server:     server.stop()\n"
     ]
    }
   ],
   "source": [
    "from server import LinkedViewsServer\n",
    "server = LinkedViewsServer()\n",
    "server.start(5000)"
   ]
  },
  {
   "cell_type": "code",
   "execution_count": null,
   "metadata": {},
   "outputs": [
    {
     "name": "stdout",
     "output_type": "stream",
     "text": [
      "Stopping server. If operation does not terminate, try to repeatedly reopen http://127.0.0.1:5000 in the browser.\n",
      "Server stopped.\n"
     ]
    }
   ],
   "source": [
    "# server.stop()"
   ]
  },
  {
   "cell_type": "code",
   "execution_count": null,
   "metadata": {},
   "outputs": [],
   "source": [
    "import vaex\n",
    "import vaex.ml\n",
    "import util\n",
    "\n",
    "filename = \"/scratch/visual/bzfharth/in-silico-install-dir/project_src/in_silico_framework/getting_started/linked-views-example-data/backend_data_2023-06-22/simulation_samples.csv\"\n",
    "csv_file = Path(\"../../getting_started/linked-views-example-data/case_study_2/simulation_samples.csv\")\n",
    "pdf = pd.read_csv(csv_file)\n",
    "pdf_1 = df.iloc[0:1000]\n",
    "pdf_2 = df.iloc[1000:2000]\n",
    "vdf = vaex.from_csv(filename, copy_index=False)\n",
    "\n",
    "# Set one of the following dataframes:\n",
    "#server.set_data(vdf)\n",
    "#server.set_data(pdf_1)"
   ]
  },
  {
   "cell_type": "code",
   "execution_count": null,
   "metadata": {},
   "outputs": [],
   "source": [
    "import defaults.default_sessions as default_sessions\n",
    "\n",
    "# Choose one of the following\n",
    "session = default_sessions.biophysics_fitting_vaex_1()\n",
    "# session = default_sessions.biophysics_fitting_vaex_2()\n",
    "# session = default_session.biophysics_fitting_pandas()\n",
    "automatic_name = server.add_session(session)\n",
    "\n",
    "# change something in UI and save session, then retrieve session data:\n",
    "# modified_session = server.get_session(\"dual-view\")"
   ]
  },
  {
   "cell_type": "code",
   "execution_count": null,
   "metadata": {},
   "outputs": [],
   "source": [
    "# to start the frontend server, install a conda environment with nodejs:\n",
    "# conda create -yn npm nodejs\n",
    "# then "
   ]
  },
  {
   "cell_type": "markdown",
   "metadata": {},
   "source": [
    "### selections"
   ]
  },
  {
   "cell_type": "markdown",
   "metadata": {},
   "source": [
    "Make selection in density plot in frontend, then compute indices of selection as below:"
   ]
  },
  {
   "cell_type": "code",
   "execution_count": null,
   "metadata": {},
   "outputs": [
    {
     "name": "stdout",
     "output_type": "stream",
     "text": [
      "(811,)\n"
     ]
    }
   ],
   "source": [
    "df_selecedIndices = server.computeSelection()\n",
    "if(df_selecedIndices is not None):\n",
    "    print(df_selecedIndices.shape)"
   ]
  },
  {
   "cell_type": "markdown",
   "metadata": {},
   "source": [
    "In case of multiple density views (session 'dual-view'), press 'Apply session' to force update of selection in frontend after computing indices as above."
   ]
  },
  {
   "cell_type": "code",
   "execution_count": null,
   "metadata": {},
   "outputs": [],
   "source": [
    "#server.resetSelection()"
   ]
  }
 ],
 "metadata": {
  "kernelspec": {
   "display_name": "isf_3",
   "language": "python",
   "name": "anaconda3_isf"
  },
  "language_info": {
   "codemirror_mode": {
    "name": "ipython",
    "version": 3
   },
   "file_extension": ".py",
   "mimetype": "text/x-python",
   "name": "python",
   "nbconvert_exporter": "python",
   "pygments_lexer": "ipython3",
   "version": "3.8.5"
  }
 },
 "nbformat": 4,
 "nbformat_minor": 4
}
