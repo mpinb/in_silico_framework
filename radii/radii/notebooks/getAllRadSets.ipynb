{
 "cells": [
  {
   "cell_type": "code",
   "execution_count": 1,
   "metadata": {},
   "outputs": [],
   "source": [
    "import os\n",
    "import sys\n",
    "import cv2\n",
    "nb_dir = os.path.split(os.getcwd())[0]\n",
    "if (nb_dir not in sys.path):\n",
    "    sys.path.append(nb_dir)"
   ]
  },
  {
   "cell_type": "code",
   "execution_count": 2,
   "metadata": {},
   "outputs": [],
   "source": [
    "amDataPath = str('../data/neuron1/am/')\n",
    "tifDataPath = str('../data/neuron1/tif/max_z_projections/')\n",
    "amOutputPath = str('../output/neuron1/am/')\n",
    "outputFolderPath = str('../output/neuron1/am/')\n",
    "tifOutputPath = str('../output/neuron1/tif/')"
   ]
  },
  {
   "cell_type": "code",
   "execution_count": 3,
   "metadata": {},
   "outputs": [],
   "source": [
    "import radii as radi\n",
    "getRad = radi.exRadSets.exRadSets"
   ]
  },
  {
   "cell_type": "code",
   "execution_count": 4,
   "metadata": {},
   "outputs": [
    {
     "ename": "TypeError",
     "evalue": "'map' object is not subscriptable",
     "output_type": "error",
     "traceback": [
      "\u001b[0;31m---------------------------------------------------------------------------\u001b[0m",
      "\u001b[0;31mTypeError\u001b[0m                                 Traceback (most recent call last)",
      "\u001b[0;32m<ipython-input-4-7a2ca1068771>\u001b[0m in \u001b[0;36m<module>\u001b[0;34m()\u001b[0m\n\u001b[0;32m----> 1\u001b[0;31m \u001b[0mgetRad\u001b[0m\u001b[0;34m(\u001b[0m\u001b[0mamDataPath\u001b[0m\u001b[0;34m,\u001b[0m \u001b[0mtifDataPath\u001b[0m\u001b[0;34m,\u001b[0m \u001b[0moutputFolderPath\u001b[0m\u001b[0;34m)\u001b[0m\u001b[0;34m\u001b[0m\u001b[0m\n\u001b[0m",
      "\u001b[0;32m~/Projects/radii/radii/radii/exRadSets.py\u001b[0m in \u001b[0;36mexRadSets\u001b[0;34m(path_to_am, path_to_tif, path_to_output_folder)\u001b[0m\n\u001b[1;32m     28\u001b[0m                 \u001b[0;32mif\u001b[0m \u001b[0mimageFile\u001b[0m\u001b[0;34m.\u001b[0m\u001b[0mstartswith\u001b[0m\u001b[0;34m(\u001b[0m\u001b[0mspacialGraphIndicator\u001b[0m\u001b[0;34m)\u001b[0m\u001b[0;34m:\u001b[0m\u001b[0;34m\u001b[0m\u001b[0m\n\u001b[1;32m     29\u001b[0m                     \u001b[0mimage\u001b[0m \u001b[0;34m=\u001b[0m \u001b[0mreadImage\u001b[0m\u001b[0;34m(\u001b[0m\u001b[0mpath_to_tif\u001b[0m \u001b[0;34m+\u001b[0m \u001b[0mimageFile\u001b[0m\u001b[0;34m)\u001b[0m\u001b[0;34m\u001b[0m\u001b[0m\n\u001b[0;32m---> 30\u001b[0;31m                     \u001b[0mresult\u001b[0m \u001b[0;34m=\u001b[0m \u001b[0mradi\u001b[0m\u001b[0;34m.\u001b[0m\u001b[0mradius\u001b[0m\u001b[0;34m.\u001b[0m\u001b[0mgetRadiiHalfMax\u001b[0m\u001b[0;34m(\u001b[0m\u001b[0mimage\u001b[0m\u001b[0;34m,\u001b[0m \u001b[0mpoints\u001b[0m\u001b[0;34m)\u001b[0m\u001b[0;34m\u001b[0m\u001b[0m\n\u001b[0m\u001b[1;32m     31\u001b[0m                     \u001b[0mprint\u001b[0m\u001b[0;34m(\u001b[0m\u001b[0mimageFile\u001b[0m\u001b[0;34m)\u001b[0m\u001b[0;34m\u001b[0m\u001b[0m\n\u001b[1;32m     32\u001b[0m                     writeResult(path_to_am + spacialGraphFile, outputFile,\n",
      "\u001b[0;32m~/Projects/radii/radii/radii/radius.py\u001b[0m in \u001b[0;36mgetRadiiHalfMax\u001b[0;34m(image, pts)\u001b[0m\n\u001b[1;32m     36\u001b[0m     \u001b[0;32mfor\u001b[0m \u001b[0mpt\u001b[0m \u001b[0;32min\u001b[0m \u001b[0mpts\u001b[0m\u001b[0;34m:\u001b[0m\u001b[0;34m\u001b[0m\u001b[0m\n\u001b[1;32m     37\u001b[0m         \u001b[0;31m# Send rays every 10 degrees and find the min and avg radius\u001b[0m\u001b[0;34m\u001b[0m\u001b[0;34m\u001b[0m\u001b[0m\n\u001b[0;32m---> 38\u001b[0;31m         \u001b[0;34m[\u001b[0m\u001b[0mhalfmaxvalue\u001b[0m\u001b[0;34m,\u001b[0m\u001b[0mmin_radius\u001b[0m\u001b[0;34m,\u001b[0m\u001b[0mavg_radius\u001b[0m\u001b[0;34m,\u001b[0m\u001b[0mfront_contour_pt\u001b[0m\u001b[0;34m,\u001b[0m\u001b[0mback_contour_pt\u001b[0m\u001b[0;34m,\u001b[0m\u001b[0mrayim\u001b[0m\u001b[0;34m,\u001b[0m\u001b[0mminrayim\u001b[0m\u001b[0;34m,\u001b[0m\u001b[0mmincontptim\u001b[0m\u001b[0;34m,\u001b[0m \u001b[0mfrontvalues\u001b[0m\u001b[0;34m,\u001b[0m \u001b[0mbackvalues\u001b[0m\u001b[0;34m,\u001b[0m \u001b[0mfront_contour_pts\u001b[0m\u001b[0;34m,\u001b[0m \u001b[0mback_contour_pts\u001b[0m\u001b[0;34m]\u001b[0m \u001b[0;34m=\u001b[0m \u001b[0mgetHalfMaxRadiusAtThisPoint\u001b[0m\u001b[0;34m(\u001b[0m\u001b[0mimage\u001b[0m\u001b[0;34m,\u001b[0m\u001b[0mpt\u001b[0m\u001b[0;34m)\u001b[0m\u001b[0;34m\u001b[0m\u001b[0m\n\u001b[0m\u001b[1;32m     39\u001b[0m         \u001b[0mhalfmaxvalues\u001b[0m\u001b[0;34m.\u001b[0m\u001b[0mappend\u001b[0m\u001b[0;34m(\u001b[0m\u001b[0mhalfmaxvalue\u001b[0m\u001b[0;34m)\u001b[0m\u001b[0;34m\u001b[0m\u001b[0m\n\u001b[1;32m     40\u001b[0m         \u001b[0mmin_radii\u001b[0m\u001b[0;34m.\u001b[0m\u001b[0mappend\u001b[0m\u001b[0;34m(\u001b[0m\u001b[0mmin_radius\u001b[0m\u001b[0;34m)\u001b[0m\u001b[0;34m\u001b[0m\u001b[0m\n",
      "\u001b[0;32m~/Projects/radii/radii/radii/radius.py\u001b[0m in \u001b[0;36mgetHalfMaxRadiusAtThisPoint\u001b[0;34m(im, pt)\u001b[0m\n\u001b[1;32m     72\u001b[0m \u001b[0;34m\u001b[0m\u001b[0m\n\u001b[1;32m     73\u001b[0m         \u001b[0;31m# collect the\u001b[0m\u001b[0;34m\u001b[0m\u001b[0;34m\u001b[0m\u001b[0m\n\u001b[0;32m---> 74\u001b[0;31m         \u001b[0mlinear_profile_front\u001b[0m \u001b[0;34m=\u001b[0m \u001b[0mgetLineProfileIndices\u001b[0m\u001b[0;34m(\u001b[0m\u001b[0mpt\u001b[0m\u001b[0;34m,\u001b[0m\u001b[0mphi\u001b[0m\u001b[0;34m,\u001b[0m\u001b[0mim\u001b[0m\u001b[0;34m,\u001b[0m\u001b[0mRAY_LEN_PER_DIRECTION_IMAGE_COORDS\u001b[0m\u001b[0;34m,\u001b[0m\u001b[0mfront\u001b[0m\u001b[0;34m=\u001b[0m\u001b[0;32mTrue\u001b[0m\u001b[0;34m)\u001b[0m\u001b[0;34m\u001b[0m\u001b[0m\n\u001b[0m\u001b[1;32m     75\u001b[0m         \u001b[0mlinear_profile_back\u001b[0m \u001b[0;34m=\u001b[0m \u001b[0mgetLineProfileIndices\u001b[0m\u001b[0;34m(\u001b[0m\u001b[0mpt\u001b[0m\u001b[0;34m,\u001b[0m\u001b[0mphi\u001b[0m\u001b[0;34m,\u001b[0m\u001b[0mim\u001b[0m\u001b[0;34m,\u001b[0m\u001b[0mRAY_LEN_PER_DIRECTION_IMAGE_COORDS\u001b[0m\u001b[0;34m,\u001b[0m\u001b[0mfront\u001b[0m\u001b[0;34m=\u001b[0m\u001b[0;32mFalse\u001b[0m\u001b[0;34m)\u001b[0m\u001b[0;34m\u001b[0m\u001b[0m\n\u001b[1;32m     76\u001b[0m \u001b[0;34m\u001b[0m\u001b[0m\n",
      "\u001b[0;32m~/Projects/radii/radii/radii/radius.py\u001b[0m in \u001b[0;36mgetLineProfileIndices\u001b[0;34m(pt, phi, image_plane, RAY_LEN_PER_DIRECTION_IMAGE_COORDS, front)\u001b[0m\n\u001b[1;32m    180\u001b[0m     \u001b[0;31m#profile_values = []\u001b[0m\u001b[0;34m\u001b[0m\u001b[0;34m\u001b[0m\u001b[0m\n\u001b[1;32m    181\u001b[0m \u001b[0;34m\u001b[0m\u001b[0m\n\u001b[0;32m--> 182\u001b[0;31m     \u001b[0mx0\u001b[0m \u001b[0;34m=\u001b[0m \u001b[0mpt\u001b[0m\u001b[0;34m[\u001b[0m\u001b[0;36m0\u001b[0m\u001b[0;34m]\u001b[0m\u001b[0;34m\u001b[0m\u001b[0m\n\u001b[0m\u001b[1;32m    183\u001b[0m     \u001b[0my0\u001b[0m \u001b[0;34m=\u001b[0m \u001b[0mpt\u001b[0m\u001b[0;34m[\u001b[0m\u001b[0;36m1\u001b[0m\u001b[0;34m]\u001b[0m\u001b[0;34m\u001b[0m\u001b[0m\n\u001b[1;32m    184\u001b[0m \u001b[0;34m\u001b[0m\u001b[0m\n",
      "\u001b[0;31mTypeError\u001b[0m: 'map' object is not subscriptable"
     ]
    }
   ],
   "source": [
    "getRad(amDataPath, tifDataPath, outputFolderPath)"
   ]
  },
  {
   "cell_type": "code",
   "execution_count": null,
   "metadata": {},
   "outputs": [],
   "source": []
  },
  {
   "cell_type": "code",
   "execution_count": null,
   "metadata": {},
   "outputs": [],
   "source": []
  }
 ],
 "metadata": {
  "kernelspec": {
   "display_name": "Python 3",
   "language": "python",
   "name": "python3"
  },
  "language_info": {
   "codemirror_mode": {
    "name": "ipython",
    "version": 3
   },
   "file_extension": ".py",
   "mimetype": "text/x-python",
   "name": "python",
   "nbconvert_exporter": "python",
   "pygments_lexer": "ipython3",
   "version": "3.6.5"
  }
 },
 "nbformat": 4,
 "nbformat_minor": 2
}
