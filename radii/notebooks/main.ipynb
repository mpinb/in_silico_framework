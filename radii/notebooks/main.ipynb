{
 "cells": [
  {
   "cell_type": "markdown",
   "metadata": {},
   "source": [
    "This little code in the below box, allows us to import our written modules which we have in the parent directory. Like radii as in the below example."
   ]
  },
  {
   "cell_type": "code",
   "execution_count": 1,
   "metadata": {},
   "outputs": [],
   "source": [
    "import os\n",
    "import sys\n",
    "nb_dir = os.path.split(os.getcwd())[0]\n",
    "if (nb_dir not in sys.path):\n",
    "    sys.path.append(nb_dir)"
   ]
  },
  {
   "cell_type": "markdown",
   "metadata": {},
   "source": [
    "Here we import needed packages"
   ]
  },
  {
   "cell_type": "code",
   "execution_count": 2,
   "metadata": {},
   "outputs": [],
   "source": [
    "import radii as radi\n",
    "import SimpleITK as sitk\n",
    "import matplotlib.pyplot as plt"
   ]
  },
  {
   "cell_type": "markdown",
   "metadata": {},
   "source": [
    "Set path of different raw data folders and output folders."
   ]
  },
  {
   "cell_type": "code",
   "execution_count": 3,
   "metadata": {},
   "outputs": [],
   "source": [
    "amDataPath = str('../data/am/')\n",
    "tifDataPath = str('../data/tif/')\n",
    "amOutputPath = str('../output/am/')"
   ]
  },
  {
   "cell_type": "markdown",
   "metadata": {},
   "source": [
    "Loadin the raw data for a slice and creating array of points from them"
   ]
  },
  {
   "cell_type": "code",
   "execution_count": 4,
   "metadata": {},
   "outputs": [],
   "source": [
    "s13_data = amDataPath + 'S13_final_done_Alison_zScale_40.am'\n",
    "s13_r = amOutputPath + 's13-r.am'\n",
    "s13_points = radi.spacialGraph.getSpatialGraphPoints(s13_data)\n",
    "s13_points = list((map(lambda x: list(map(lambda y: int(y/0.092), x)), s13_points)))"
   ]
  },
  {
   "cell_type": "markdown",
   "metadata": {},
   "source": [
    "Loaiding image corresponding to the points above."
   ]
  },
  {
   "cell_type": "code",
   "execution_count": 5,
   "metadata": {},
   "outputs": [],
   "source": [
    "s13_tif = tifDataPath + 'S13_max_z_projection.tif'\n",
    "imageFileReader = sitk.ImageFileReader()\n",
    "imageFileReader.SetFileName(s13_tif)\n",
    "s13_image = imageFileReader.Execute()"
   ]
  },
  {
   "cell_type": "markdown",
   "metadata": {},
   "source": [
    "Plotting the input tif image"
   ]
  },
  {
   "cell_type": "code",
   "execution_count": 6,
   "metadata": {},
   "outputs": [],
   "source": [
    "#plt.imshow(sitk.GetArrayViewFromImage(s13_image));"
   ]
  },
  {
   "cell_type": "code",
   "execution_count": 6,
   "metadata": {},
   "outputs": [],
   "source": [
    "res = radi.radius.getRadiiHalfMax(s13_image,s13_points)\n"
   ]
  },
  {
   "cell_type": "code",
   "execution_count": 8,
   "metadata": {},
   "outputs": [],
   "source": [
    "radii = res[1]\n",
    "radii = [r*0.092 for r in radii]\n",
    "radi.spacialGraph.write_spacial_graph_with_thickness(s13_data, s13_r, radii)\n"
   ]
  }
 ],
 "metadata": {
  "kernelspec": {
   "display_name": "Python 2",
   "language": "python",
   "name": "python2"
  },
  "language_info": {
   "codemirror_mode": {
    "name": "ipython",
    "version": 3
   },
   "file_extension": ".py",
   "mimetype": "text/x-python",
   "name": "python",
   "nbconvert_exporter": "python",
   "pygments_lexer": "ipython3",
   "version": "3.6.5"
  }
 },
 "nbformat": 4,
 "nbformat_minor": 2
}
