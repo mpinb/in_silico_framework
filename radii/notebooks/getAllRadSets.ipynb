{
 "cells": [
  {
   "cell_type": "code",
   "execution_count": 1,
   "metadata": {},
   "outputs": [],
   "source": [
    "import os\n",
    "import sys\n",
    "import cv2\n",
    "nb_dir = os.path.split(os.getcwd())[0]\n",
    "if (nb_dir not in sys.path):\n",
    "    sys.path.append(nb_dir)"
   ]
  },
  {
   "cell_type": "code",
   "execution_count": 2,
   "metadata": {},
   "outputs": [],
   "source": [
    "amDataPath = str('../data/neuron1/am/')\n",
    "tifDataPath = str('../data/neuron1/tif/max_z_projections')\n",
    "amOutputPath = str('../output/neuron1/am/')\n",
    "outputFolderPath = str('../output/neuron1/am/')\n",
    "tifOutputPath = str('../output/neuron1/tif/')"
   ]
  },
  {
   "cell_type": "code",
   "execution_count": 3,
   "metadata": {},
   "outputs": [],
   "source": [
    "import radii as radi\n",
    "getRad = radi.exRadSets.exRadSets"
   ]
  },
  {
   "cell_type": "code",
   "execution_count": 4,
   "metadata": {},
   "outputs": [
    {
     "name": "stdout",
     "output_type": "stream",
     "text": [
      "S11_max_z_projection.tif\n",
      "S27_max_z_projection.tif\n",
      "S13_max_z_projection.tif\n",
      "S29_max_z_projection.tif\n",
      "S36_max_z_projection.tif\n",
      "S31_max_z_projection.tif\n",
      "S14_max_z_projection.tif\n",
      "S18_max_z_projection.tif\n",
      "S20_max_z_projection.tif\n",
      "S26_max_z_projection.tif\n",
      "S32_max_z_projection.tif\n",
      "S24_max_z_projection.tif\n",
      "S33_max_z_projection.tif\n",
      "S23_max_z_projection.tif\n",
      "S25_max_z_projection.tif\n",
      "S15_max_z_projection.tif\n",
      "S19_max_z_projection.tif\n",
      "S21_max_z_projection.tif\n",
      "S12_max_z_projection.tif\n",
      "S22_max_z_projection.tif\n",
      "S16_max_z_projection.tif\n",
      "S34_max_z_projection.tif\n",
      "S28_max_z_projection.tif\n",
      "S35_max_z_projection.tif\n",
      "S17_max_z_projection.tif\n",
      "S30_max_z_projection.tif\n"
     ]
    }
   ],
   "source": [
    "getRad(amDataPath, tifDataPath, outputFolderPath)"
   ]
  }
 ],
 "metadata": {
  "kernelspec": {
   "display_name": "Python 2",
   "language": "python",
   "name": "python2"
  },
  "language_info": {
   "codemirror_mode": {
    "name": "ipython",
    "version": 3
   },
   "file_extension": ".py",
   "mimetype": "text/x-python",
   "name": "python",
   "nbconvert_exporter": "python",
   "pygments_lexer": "ipython3",
   "version": "3.6.5"
  }
 },
 "nbformat": 4,
 "nbformat_minor": 2
}
