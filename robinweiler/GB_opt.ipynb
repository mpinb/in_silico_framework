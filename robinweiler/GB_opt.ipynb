{
 "cells": [
  {
   "cell_type": "code",
   "execution_count": 1,
   "metadata": {},
   "outputs": [
    {
     "name": "stdout",
     "output_type": "stream",
     "text": [
      "[ATTENTION] distributed_lock: Environment variable ISF_DISTRIBUTED_LOCK_CONFIG is not set. Falling back to default configuration.\n",
      "[INFO] distributed_lock: trying to connect to distributed locking server {'type': 'redis', 'config': {'host': 'spock', 'port': 8885, 'socket_timeout': 1}}\n",
      "[INFO] distributed_lock: trying to connect to distributed locking server {'type': 'redis', 'config': {'host': 'localhost', 'port': 6379, 'socket_timeout': 1}}\n",
      "[INFO] distributed_lock: trying to connect to distributed locking server {'type': 'file'}\n",
      "[WARNING] distributed_lock: Using file based locking. Please be careful on nfs mounts as file based locking has issues in this case.\n",
      "[INFO] l5pt: Loading mechanisms:\n",
      "[INFO] ISF: Current version: heads/develop+0.gb90ea5f4.dirty\n",
      "[INFO] ISF: Current pid: 32927\n"
     ]
    },
    {
     "name": "stderr",
     "output_type": "stream",
     "text": [
      "Warning: no DISPLAY environment variable.\n",
      "--No graphics will be displayed.\n"
     ]
    },
    {
     "name": "stdout",
     "output_type": "stream",
     "text": [
      "[ATTENTION] ISF: The source folder has uncommited changes!\n",
      "[WARNING] ISF: Could not load linked views\n",
      "\n",
      "\n",
      "\n",
      "[INFO] ISF: Loaded modules with __version__ attribute are:\n",
      "IPython: 8.12.2, Interface: heads/develop+0.gb90ea5f4.dirty, PIL: 9.2.0, _brotli: 1.1.0, _csv: 1.0, _ctypes: 1.1.0, _curses: b'2.2', _decimal: 1.70, appnope: 0.1.4, argparse: 1.1, async_timeout: 5.0.1, backcall: 0.2.0, blosc: 1.11.1, bluepyopt: 1.9.126, brotli: 1.1.0, certifi: 2024.08.30, cffi: 1.17.0, charset_normalizer: 3.4.0, click: 7.1.2, cloudpickle: 3.1.0, colorama: 0.4.6, comm: 0.2.2, csv: 1.0, ctypes: 1.1.0, cycler: 0.12.1, cytoolz: 0.12.3, dash: 2.18.2, dask: 2.30.0, dateutil: 2.9.0, deap: 1.4, debugpy: 1.8.5, decimal: 1.70, decorator: 5.1.1, defusedxml: 0.7.1, distributed: 2.30.1, distutils: 3.8.20, django: 1.8.19, entrypoints: 0.4, executing: 2.1.0, fasteners: 0.17.3, flask: 1.1.4, fsspec: 2024.10.0, future: 1.0.0, greenlet: 3.1.1, idna: 3.10, ipaddress: 1.0, ipykernel: 6.29.5, ipywidgets: 8.1.5, itsdangerous: 1.1.0, jedi: 0.19.1, jinja2: 2.11.3, joblib: 1.4.2, json: 2.0.9, jupyter_client: 7.3.4, jupyter_core: 5.7.2, kiwisolver: 1.4.5, logging: 0.5.1.2, markupsafe: 2.0.1, matplotlib: 3.7.1, msgpack: 1.0.8, neuron: 8.2.6-1-gb6e6a5fad+, numcodecs: 0.12.1, numexpr: 2.8.3, numpy: 1.21.0, packaging: 24.2, pandas: 1.1.3, pandas_msgpack: 0.1.4+14.gfcb0471.dirty, parameters: 0.2.1, parso: 0.8.4, past: 1.0.0, pexpect: 4.9.0, pickleshare: 0.7.5, platform: 1.0.8, platformdirs: 4.3.6, plotly: 5.24.1, prompt_toolkit: 3.0.48, psutil: 6.0.0, ptyprocess: 0.7.0, pure_eval: 0.2.3, pydevd: 2.9.5, pygments: 2.18.0, pyparsing: 3.1.4, pytz: 2024.2, re: 2.2.1, redis: 5.2.1, requests: 2.32.3, scandir: 1.10.0, scipy: 1.5.2, seaborn: 0.12.2, six: 1.16.0, sklearn: 0.23.2, socketserver: 0.4, socks: 1.7.1, sortedcontainers: 2.4.0, stack_data: 0.6.2, statsmodels: 0.13.5, sumatra: 0.7.4, tables: 3.7.0, tblib: 3.0.0, tlz: 0.12.3, toolz: 1.0.0, traitlets: 5.14.3, urllib3: 2.2.3, wcwidth: 0.2.13, werkzeug: 1.0.1, yaml: 5.3.1, zarr: 2.16.0, zlib: 1.0, zmq: 26.2.0, zstandard: 0.23.0\n",
      "/Users/robinweiler/Documents/PhD/Project/Code/ISF/in_silico_framework/robinweiler\n"
     ]
    }
   ],
   "source": [
    "import Interface as I\n",
    "from neuron import h\n",
    "\n",
    "from getting_started import getting_started_dir, tutorial_output_dir\n",
    "\n",
    "current_dir = '/Users/robinweiler/Documents/PhD/Project/Code/ISF/in_silico_framework/robinweiler'\n",
    "print(current_dir)\n",
    "\n",
    "db = I.DataBase(I.os.path.join(current_dir, 'results'))\n",
    "db = db.create_sub_db('GB_opt')\n",
    "\n",
    "client = I.get_client(client_ip='localhost', client_port=8786)"
   ]
  },
  {
   "cell_type": "markdown",
   "metadata": {},
   "source": [
    "# Load optimized model"
   ]
  },
  {
   "cell_type": "code",
   "execution_count": 2,
   "metadata": {},
   "outputs": [],
   "source": [
    "if not 'biophysical_constraints' in db.keys():\n",
    "    cell_parameter_file = I.os.path.join(\n",
    "        getting_started_dir, \n",
    "        'example_data',\n",
    "        'biophysical_constraints', \n",
    "        '86_CDK_20041214_BAC_run5_soma_Hay2013_C2center_apic_rec.param')\n",
    "    I.shutil.copy(cell_parameter_file, db.create_managed_folder('biophysical_constraints'))\n",
    "\n",
    "cell_parameter_file = db['biophysical_constraints'].join('86_CDK_20041214_BAC_run5_soma_Hay2013_C2center_apic_rec.param')"
   ]
  },
  {
   "cell_type": "code",
   "execution_count": 3,
   "metadata": {},
   "outputs": [],
   "source": [
    "from sumatra.parameters import NTParameterSet\n",
    "\n",
    "cell_params = NTParameterSet(cell_parameter_file)\n",
    "cell = I.scp.create_cell(cell_params.neuron)"
   ]
  },
  {
   "cell_type": "code",
   "execution_count": 4,
   "metadata": {},
   "outputs": [
    {
     "name": "stdout",
     "output_type": "stream",
     "text": [
      "CPU times: user 234 ms, sys: 3.02 ms, total: 237 ms\n",
      "Wall time: 240 ms\n"
     ]
    }
   ],
   "source": [
    "iclamp = h.IClamp(0.5, sec=cell.soma)\n",
    "iclamp.delay = 150 # [ms] give the cell time to reach steady state\n",
    "iclamp.dur = 5 # [ms] rectangular pulse\n",
    "iclamp.amp = 1.9 # [nA]\n",
    "%time I.scp.init_neuron_run(cell_params.sim, vardt=True) # run the simulation "
   ]
  },
  {
   "cell_type": "code",
   "execution_count": 5,
   "metadata": {},
   "outputs": [
    {
     "data": {
      "image/png": "[encoded data removed]",
      "text/plain": [
       "<Figure size 640x480 with 1 Axes>"
      ]
     },
     "metadata": {},
     "output_type": "display_data"
    }
   ],
   "source": [
    "%matplotlib inline\n",
    "I.sns.set_style('ticks')\n",
    "I.plt.plot(cell.tVec, cell.soma.recVList[0], c = 'k');\n",
    "I.sns.despine()"
   ]
  },
  {
   "cell_type": "markdown",
   "metadata": {},
   "source": [
    "# Create GB-synapse"
   ]
  },
  {
   "cell_type": "markdown",
   "metadata": {},
   "source": [
    "## Presynaptic input"
   ]
  },
  {
   "cell_type": "code",
   "execution_count": 6,
   "metadata": {},
   "outputs": [],
   "source": [
    "from single_cell_parser.cell import PointCell\n",
    "\n",
    "presynaptic_cell = PointCell([200])"
   ]
  },
  {
   "cell_type": "markdown",
   "metadata": {},
   "source": [
    "## Postsynaptic location"
   ]
  },
  {
   "cell_type": "code",
   "execution_count": 7,
   "metadata": {},
   "outputs": [],
   "source": [
    "def get_section_at_distance(cell, dist, sec_dist_dict):\n",
    "    dummy = {k - dist: v for k,v in sec_dist_dict.items() if k > dist}\n",
    "    closest_sec = dummy[min(dummy)]\n",
    "    x = (dist - cell.distance_to_soma(closest_sec, 0.0)) / closest_sec.L\n",
    "    return x, closest_sec"
   ]
  },
  {
   "cell_type": "code",
   "execution_count": 8,
   "metadata": {},
   "outputs": [
    {
     "name": "stdout",
     "output_type": "stream",
     "text": [
      "(0.9294685090584054, __nrnsec_0x1301025e0)\n"
     ]
    }
   ],
   "source": [
    "# map between sections and somadistance\n",
    "sec_dist_dict = {cell.distance_to_soma(sec, 1.0): sec for sec in cell.sections}\n",
    "# print(sec_dist_dict)\n",
    "\n",
    "sec_at_100 = get_section_at_distance(cell, 100, sec_dist_dict)\n",
    "print(sec_at_100)\n",
    "\n",
    "syn_sec = sec_at_100[1]\n",
    "syn_seg_id = len(syn_sec.pts) // 2"
   ]
  },
  {
   "cell_type": "code",
   "execution_count": 9,
   "metadata": {},
   "outputs": [],
   "source": [
    "syn_sec_id = [i for i in range(len(cell.sections)) if cell.sections[i] == syn_sec][0]"
   ]
  },
  {
   "cell_type": "markdown",
   "metadata": {},
   "source": [
    "## Create synapse"
   ]
  },
  {
   "cell_type": "code",
   "execution_count": 10,
   "metadata": {},
   "outputs": [
    {
     "name": "stderr",
     "output_type": "stream",
     "text": [
      "NEURON: if arg 1 is an object it must be a point process or NULLObject\n",
      " near line 0\n",
      " while (t < tstop) { fadvance() }\n",
      "                                 ^\n",
      "        NetCon(..., ..., 10, 0, 1)\n"
     ]
    },
    {
     "ename": "RuntimeError",
     "evalue": "hocobj_call error",
     "output_type": "error",
     "traceback": [
      "\u001b[0;31m---------------------------------------------------------------------------\u001b[0m",
      "\u001b[0;31mRuntimeError\u001b[0m                              Traceback (most recent call last)",
      "Cell \u001b[0;32mIn[10], line 6\u001b[0m\n\u001b[1;32m      2\u001b[0m \u001b[38;5;28;01mfrom\u001b[39;00m \u001b[38;5;21;01msingle_cell_parser\u001b[39;00m\u001b[38;5;21;01m.\u001b[39;00m\u001b[38;5;21;01msynapse\u001b[39;00m \u001b[38;5;28;01mimport\u001b[39;00m ExSyn\n\u001b[1;32m      4\u001b[0m gb_synapse \u001b[38;5;241m=\u001b[39m GBSynapse(syn_sec_id, syn_seg_id)\n\u001b[0;32m----> 6\u001b[0m \u001b[43mgb_synapse\u001b[49m\u001b[38;5;241;43m.\u001b[39;49m\u001b[43mactivate_hoc_syn\u001b[49m\u001b[43m(\u001b[49m\u001b[43msource\u001b[49m\u001b[38;5;241;43m=\u001b[39;49m\u001b[43mpresynaptic_cell\u001b[49m\u001b[43m,\u001b[49m\u001b[43m \u001b[49m\u001b[43mtargetCell\u001b[49m\u001b[38;5;241;43m=\u001b[39;49m\u001b[43mcell\u001b[49m\u001b[43m)\u001b[49m\n",
      "File \u001b[0;32m~/Documents/PhD/Project/Code/ISF/in_silico_framework/robinweiler/GB_synapse.py:36\u001b[0m, in \u001b[0;36mGBSynapse.activate_hoc_syn\u001b[0;34m(self, source, targetCell, threshold, delay, weight)\u001b[0m\n\u001b[1;32m     34\u001b[0m hocSec \u001b[38;5;241m=\u001b[39m targetCell\u001b[38;5;241m.\u001b[39msections[\u001b[38;5;28mself\u001b[39m\u001b[38;5;241m.\u001b[39msecID]\n\u001b[1;32m     35\u001b[0m \u001b[38;5;28mself\u001b[39m\u001b[38;5;241m.\u001b[39msyn \u001b[38;5;241m=\u001b[39m h\u001b[38;5;241m.\u001b[39mGBSynapse(x, hocSec)\n\u001b[0;32m---> 36\u001b[0m \u001b[38;5;28mself\u001b[39m\u001b[38;5;241m.\u001b[39mnetcon \u001b[38;5;241m=\u001b[39m \u001b[43mh\u001b[49m\u001b[38;5;241;43m.\u001b[39;49m\u001b[43mNetCon\u001b[49m\u001b[43m(\u001b[49m\u001b[43msource\u001b[49m\u001b[43m,\u001b[49m\u001b[43m \u001b[49m\u001b[38;5;28;43mself\u001b[39;49m\u001b[38;5;241;43m.\u001b[39;49m\u001b[43msyn\u001b[49m\u001b[43m,\u001b[49m\u001b[43m \u001b[49m\u001b[43mthreshold\u001b[49m\u001b[43m,\u001b[49m\u001b[43m \u001b[49m\u001b[43mdelay\u001b[49m\u001b[43m,\u001b[49m\u001b[43m \u001b[49m\u001b[43mweight\u001b[49m\u001b[43m)\u001b[49m\n\u001b[1;32m     37\u001b[0m \u001b[38;5;28mself\u001b[39m\u001b[38;5;241m.\u001b[39m_active \u001b[38;5;241m=\u001b[39m \u001b[38;5;28;01mTrue\u001b[39;00m\n",
      "\u001b[0;31mRuntimeError\u001b[0m: hocobj_call error"
     ]
    }
   ],
   "source": [
    "from robinweiler.GB_synapse import GBSynapse\n",
    "from single_cell_parser.synapse import ExSyn\n",
    "\n",
    "gb_synapse = GBSynapse(syn_sec_id, syn_seg_id)\n",
    "gb_synapse.activate_hoc_syn(source=presynaptic_cell, targetCell=cell)"
   ]
  },
  {
   "cell_type": "code",
   "execution_count": null,
   "metadata": {},
   "outputs": [],
   "source": [
    "%time I.scp.init_neuron_run(cell_params.sim, vardt=True) # run the simulation"
   ]
  },
  {
   "cell_type": "code",
   "execution_count": null,
   "metadata": {},
   "outputs": [],
   "source": [
    "%matplotlib inline\n",
    "I.sns.set_style('ticks')\n",
    "I.plt.plot(cell.tVec, cell.soma.recVList[0], c = 'k');\n",
    "I.sns.despine()"
   ]
  },
  {
   "cell_type": "code",
   "execution_count": null,
   "metadata": {},
   "outputs": [],
   "source": [
    "break"
   ]
  },
  {
   "cell_type": "markdown",
   "metadata": {},
   "source": [
    "## Parameters to optimize"
   ]
  },
  {
   "cell_type": "code",
   "execution_count": null,
   "metadata": {},
   "outputs": [],
   "source": [
    "synapse_params = {    \n",
    "    \"synapses\": {\n",
    "        \"receptors\": {\n",
    "            'GBSynapse': {\n",
    "                'delay': 0.0,\n",
    "                'parameter': {\n",
    "                    'gamma_d_GB': [1, 300],\n",
    "                    'gamma_p_GB': [1, 300],\n",
    "                    'theta_d_GB': [0.1, 10],\n",
    "                    'theta_p_GB': [0.1, 10],\n",
    "                    'tau_effca_GB': [100, 400],\n",
    "                },\n",
    "                'threshold': 0.0,\n",
    "                'weight': 1.0\n",
    "            }\n",
    "        }\n",
    "    }\n",
    "}"
   ]
  },
  {
   "cell_type": "markdown",
   "metadata": {},
   "source": [
    "# Database setup"
   ]
  },
  {
   "cell_type": "code",
   "execution_count": null,
   "metadata": {},
   "outputs": [],
   "source": [
    "from biophysics_fitting.GBSynapse_parameter_setup import get_GBSynapse_template\n",
    "import biophysics_fitting.GBSynapse_setup as GBSynapse_setup\n",
    "\n",
    "\n",
    "def get_fixed_params(db_setup):\n",
    "    \"\"\"\n",
    "    Configure the fixed params and return\n",
    "    \"\"\"\n",
    "    fixed_params = db_setup['fixed_params']\n",
    "    fixed_params['morphology.filename'] = db_setup['morphology'].get_file(\n",
    "        'hoc')\n",
    "    return fixed_params\n",
    "\n",
    "def get_Simulator(db_setup, step=False):\n",
    "    \"\"\"\n",
    "    Configure the Simulator object and return\n",
    "    \"\"\"\n",
    "    fixed_params = db_setup['get_fixed_params'](db_setup)\n",
    "    s = GBSynapse_setup.get_Simulator(\n",
    "        I.pd.Series(fixed_params),\n",
    "        step=step\n",
    "    )\n",
    "    s.setup.cell_param_generator = get_GBSynapse_template\n",
    "\n",
    "    return s\n",
    "\n",
    "def get_Evaluator(db_setup, step=False):\n",
    "    \"\"\"\n",
    "    No additional configuration is needed for the Evaluator, simply return biophysics_fitting.L5tt_parameter_setup.get_Evaluator\n",
    "    \"\"\"\n",
    "    return GBSynapse_setup.get_Evaluator(step=step)\n",
    "\n",
    "def get_Combiner(db_setup, step=False):\n",
    "    \"\"\"\n",
    "    No additional configuration is needed for the Combiner, simply return biophysics_fitting.L5tt_parameter_setup.get_Combiner\n",
    "    \"\"\"\n",
    "    return GBSynapse_setup.get_Combiner(step=step)"
   ]
  },
  {
   "cell_type": "code",
   "execution_count": null,
   "metadata": {},
   "outputs": [],
   "source": [
    "def set_up_db_for_MOEA(db, morphology_id='89', morphology=\"\", step=False):\n",
    "    \"\"\"\n",
    "    Set up a DataBase for MOEA.\n",
    "\n",
    "    Args:\n",
    "        db: a DataBase object\n",
    "        morphology_id: name of the morphology\n",
    "        morphology: path to a .hoc morphology file\n",
    "        step: whether or not to perform step current injections\n",
    "\n",
    "    Returns:\n",
    "        data_base.DataBase: a database containing:\n",
    "            - fixed_params\n",
    "            - get_fixed_params\n",
    "            - get_Simulator\n",
    "            - get_Evaluator\n",
    "            - get_Combiner\n",
    "            - the morphology file\n",
    "    \"\"\"\n",
    "    from data_base.IO.LoaderDumper import pandas_to_pickle, to_cloudpickle\n",
    "    db.create_sub_db(morphology_id)\n",
    "\n",
    "    db[morphology_id].create_managed_folder('morphology', raise_=False)\n",
    "    I.shutil.copy(\n",
    "        I.os.path.join(\n",
    "            morphology\n",
    "        ), db[morphology_id]['morphology'].join(\n",
    "            morphology.split(I.os.sep)[-1]\n",
    "        )\n",
    "    )\n",
    "\n",
    "    db[morphology_id]['fixed_params'] = {\n",
    "        'LTP.measure.recSite': 100,   # recording site on the apical dendrite for BAC\n",
    "        'hot_zone.min_': 384.8203371921156,             # calcium zone start\n",
    "        'hot_zone.max_': 584.8203371921156,             # calcium zone end\n",
    "        'hot_zone.outsidescale_sections': [23,24,25,26,27,28,29,31,32,33,34,35,37,38,40,42,43,44,46,48,50,51,52,54,56,58,60],\n",
    "        'morphology.filename': None\n",
    "    }\n",
    "\n",
    "    db[morphology_id]['get_fixed_params'] = get_fixed_params\n",
    "    db[morphology_id].set('params', params, dumper=pandas_to_pickle)\n",
    "    db[morphology_id].set('get_Simulator',\n",
    "                      I.partial(get_Simulator, step=step),\n",
    "                      dumper=to_cloudpickle)\n",
    "    db[morphology_id].set('get_Evaluator',\n",
    "                      I.partial(get_Evaluator, step=step),\n",
    "                      dumper=to_cloudpickle)\n",
    "    db[morphology_id].set('get_Combiner',\n",
    "                      I.partial(get_Combiner, step=step),\n",
    "                      dumper=to_cloudpickle)\n",
    "\n",
    "    return db"
   ]
  },
  {
   "cell_type": "code",
   "execution_count": null,
   "metadata": {},
   "outputs": [],
   "source": [
    "db = set_up_db_for_MOEA(\n",
    "    db,\n",
    "    morphology_id=\"89\",\n",
    "    morphology=morphology_path,\n",
    "    step=False\n",
    ")\n",
    "db.ls(max_lines_per_key=10)"
   ]
  },
  {
   "cell_type": "markdown",
   "metadata": {},
   "source": [
    "# Run the optimization algorithm"
   ]
  },
  {
   "cell_type": "code",
   "execution_count": null,
   "metadata": {},
   "outputs": [],
   "source": [
    "seedpoint = 42\n",
    "\n",
    "population = I.bfit_start_run(\n",
    "    db['89'], \n",
    "    n=seedpoint,\n",
    "    client=client, \n",
    "    offspring_size=10,      # Low amount of offspring just as an example \n",
    "    pop=None,               # adapt this to the output population of the previous run to continue where you left off\n",
    "    continue_cp=False,      # If you want to continue a preivoius run, set to True\n",
    "    max_ngen=100            # run for just 1 generation\n",
    ")"
   ]
  },
  {
   "cell_type": "code",
   "execution_count": null,
   "metadata": {},
   "outputs": [],
   "source": [
    "population = db['89'][str(seedpoint)]['1']\n",
    "objectives = population.drop(params.index, axis=1)\n",
    "objectives"
   ]
  },
  {
   "cell_type": "code",
   "execution_count": null,
   "metadata": {},
   "outputs": [],
   "source": [
    "%matplotlib inline\n",
    "I.plt.style.use(\"fivethirtyeight\")\n",
    "diff = (objectives - empirical_data['mean']) / empirical_data[\"std\"]\n",
    "ax = diff.plot.box(vert=False)\n",
    "ax.set_xscale('log')\n",
    "ax.set_xlabel(\"amount of $\\sigma$ from empirical mean\")"
   ]
  },
  {
   "cell_type": "markdown",
   "metadata": {},
   "source": [
    "# Exploration from seedpoint"
   ]
  },
  {
   "cell_type": "code",
   "execution_count": null,
   "metadata": {},
   "outputs": [],
   "source": [
    "if not I.os.path.exists(I.os.path.join(db[\"89\"].basedir, 'RW_exploration_example')):\n",
    "    db[\"89\"].create_managed_folder('RW_exploration_example')"
   ]
  },
  {
   "cell_type": "markdown",
   "metadata": {},
   "source": [
    "We provide some working models for this morphology below. "
   ]
  },
  {
   "cell_type": "code",
   "execution_count": null,
   "metadata": {},
   "outputs": [],
   "source": [
    "model_db = I.DataBase(I.os.path.join(getting_started_dir, \"example_data\", \"simulation_data\", \"biophysics\"))\n",
    "\n",
    "model_db[\"example_models\"]"
   ]
  },
  {
   "cell_type": "markdown",
   "metadata": {},
   "source": [
    "### Setup the random walk exploration\n",
    "\n",
    "there are many different kinds of exploration one could do. We will simply use a random walk, as it has proven to be both efficient and capable of broadly sampling the bipohysical parameter space."
   ]
  },
  {
   "cell_type": "code",
   "execution_count": null,
   "metadata": {},
   "outputs": [],
   "source": [
    "evaluator = db[\"89\"][\"get_Evaluator\"](db['89'])\n",
    "simulator = db[\"89\"][\"get_Simulator\"](db['89'])\n",
    "biophysical_parameter_ranges = db['89']['params']\n",
    "example_models = model_db['example_models']\n",
    "biophysical_parameter_names = [e for e in example_models.columns if \"ephys\" in e or e == \"scale_apical.scale\"]"
   ]
  },
  {
   "cell_type": "code",
   "execution_count": null,
   "metadata": {},
   "outputs": [],
   "source": [
    "from biophysics_fitting.exploration_from_seedpoint.RW import RW\n",
    "from biophysics_fitting.exploration_from_seedpoint.utils import evaluation_function_incremental_helper\n",
    "from biophysics_fitting.hay_evaluation import hay_evaluate_bAP, hay_evaluate_BAC\n",
    "\n",
    "evaluation_function = I.partial(\n",
    "    evaluation_function_incremental_helper,  # this incremental helper stops the evaluation as soon as a stimulus protocol doesn't work.\n",
    "    s=simulator,\n",
    "    e=evaluator,\n",
    "    stim_order=['bAP', 'BAC']\n",
    ")\n",
    "\n",
    "rw = RW(\n",
    "    param_ranges = biophysical_parameter_ranges,\n",
    "    df_seeds = example_models[biophysical_parameter_names],\n",
    "    evaluation_function = evaluation_function,\n",
    "    MAIN_DIRECTORY = db[\"89\"]['RW_exploration_example'],\n",
    "    min_step_size = 0.02,\n",
    "    max_step_size = 0.02,\n",
    "    checkpoint_every = 1  # This is a lot of IO. Increase this value if you are not merely doing an example.\n",
    ")"
   ]
  },
  {
   "cell_type": "markdown",
   "metadata": {},
   "source": [
    "### Run the exploration algorithm\n",
    "\n",
    "Let's run this for 20 seconds. You can always restart the exploration and it will pick up from where it left off. "
   ]
  },
  {
   "cell_type": "code",
   "execution_count": null,
   "metadata": {
    "scrolled": true
   },
   "outputs": [],
   "source": [
    "duration = 30  # in seconds\n",
    "\n",
    "from time import sleep\n",
    "from threading import Thread\n",
    "import multiprocessing\n",
    "\n",
    "proc = multiprocessing.Process(\n",
    "    target=rw.run_RW, \n",
    "    kwargs={\n",
    "        'selected_seedpoint': 0,\n",
    "        'particle_id': 0,\n",
    "        'seed': 42  # for numpy random seed\n",
    "    })\n",
    "\n",
    "# --- run for some time, then kill the process\n",
    "proc.start()\n",
    "sleep(duration)\n",
    "proc.terminate()  # sends a SIGTERM\n",
    "proc.join()"
   ]
  },
  {
   "cell_type": "code",
   "execution_count": null,
   "metadata": {},
   "outputs": [],
   "source": [
    "from biophysics_fitting.exploration_from_seedpoint.RW_analysis import Load\n",
    "\n",
    "outdir = db[\"89\"]['RW_exploration_example'].join('0')\n",
    "l = Load(\n",
    "    client,\n",
    "    outdir,\n",
    "    n_particles = 1)"
   ]
  },
  {
   "cell_type": "code",
   "execution_count": null,
   "metadata": {},
   "outputs": [],
   "source": [
    "explored_models = l.get_df().compute()\n",
    "print(\"Explored {} new models\".format(len(explored_models)))"
   ]
  },
  {
   "cell_type": "markdown",
   "metadata": {},
   "source": [
    "### Inspecting the exploration results\n",
    "\n",
    "How much did the exploration actually explore? Let's plot out how much it deviated from it's starting point, relative to the total extent of parameter limits we allowed for"
   ]
  },
  {
   "cell_type": "code",
   "execution_count": null,
   "metadata": {},
   "outputs": [],
   "source": [
    "def normalize(df, mn, mx):\n",
    "    return (df - mn)/(mx-mn)\n",
    "    \n",
    "mn, mx = biophysical_parameter_ranges['min'], biophysical_parameter_ranges['max']\n",
    "normalized_startpoint = normalize(example_models.iloc[0][biophysical_parameter_names], mn, mx)\n",
    "normalized_explored_models = normalize(explored_models[biophysical_parameter_names], mn, mx)\n",
    "\n",
    "# calc exploration relative to startpoint, in % of total allowed parameter limits\n",
    "d = I.pd.concat([normalized_explored_models, I.pd.DataFrame(normalized_startpoint).T])\n",
    "d -= normalized_startpoint\n",
    "d[biophysical_parameter_names] *= 100\n",
    "d = d.melt(var_name='Biophysical parameter', value_name='Normalized value (%)')"
   ]
  },
  {
   "cell_type": "code",
   "execution_count": null,
   "metadata": {},
   "outputs": [],
   "source": [
    "I.plt.figure(figsize=(5, 10))\n",
    "\n",
    "ax = I.sns.boxplot(\n",
    "    data=d,\n",
    "    y='Biophysical parameter', x='Normalized value (%)',\n",
    "    whis=100,\n",
    "    linewidth=1,\n",
    "    showcaps = False\n",
    "   )"
   ]
  },
  {
   "cell_type": "markdown",
   "metadata": {},
   "source": [
    "Let's check what the resulting voltage traces look like"
   ]
  },
  {
   "cell_type": "code",
   "execution_count": null,
   "metadata": {},
   "outputs": [],
   "source": [
    "delayeds = [\n",
    "    I.dask.delayed(simulator.run)(p, 'BAC') \n",
    "    for _, p in explored_models[biophysical_parameter_names].iterrows()\n",
    "    ]\n",
    "f = client.compute(delayeds)"
   ]
  },
  {
   "cell_type": "code",
   "execution_count": null,
   "metadata": {},
   "outputs": [],
   "source": [
    "responses = [f_.result() for f_ in f]\n",
    "BAC_responses = [response['BAC.hay_measure'] for response in responses]"
   ]
  },
  {
   "cell_type": "code",
   "execution_count": null,
   "metadata": {},
   "outputs": [],
   "source": [
    "soma_voltages = [\n",
    "    e['vList'][0] for e in BAC_responses\n",
    "]\n",
    "dend_voltages = [\n",
    "    e['vList'][1] for e in BAC_responses\n",
    "]\n",
    "time_points = [\n",
    "    e['tVec'] for e in BAC_responses\n",
    "]"
   ]
  },
  {
   "cell_type": "code",
   "execution_count": null,
   "metadata": {},
   "outputs": [],
   "source": [
    "fig, (ax1, ax2) = I.plt.subplots(1, 2, figsize=(15, 5))\n",
    "colors = I.plt.rcParams['axes.prop_cycle'].by_key()['color']                       \n",
    "random_model = I.np.random.randint(0, len(BAC_responses))\n",
    "print(\"Highlighting model nr. {}\".format(random_model))\n",
    "\n",
    "for t, v in zip(time_points, soma_voltages):\n",
    "    ax1.plot(t, v, c=\"silver\", lw=3)\n",
    "ax1.plot(\n",
    "    time_points[random_model], \n",
    "    soma_voltages[random_model], \n",
    "    c=colors[0],\n",
    "    lw=2\n",
    "    )\n",
    "ax1.set_title(\"Soma voltage\")\n",
    "ax1.set_xlabel(\"Time (ms)\")\n",
    "ax1.set_ylabel(\"Membrane voltage (mV)\")\n",
    "\n",
    "for t, v in zip(time_points, dend_voltages ):\n",
    "    ax2.plot(t, v, c='silver', lw=3)\n",
    "ax2.plot(\n",
    "    time_points[random_model], \n",
    "    dend_voltages[random_model], \n",
    "    c=colors[1],\n",
    "    lw=2\n",
    "    )\n",
    "ax2.set_title(\"Dendritic voltage\")\n",
    "ax2.set_xlabel(\"Time (ms)\")\n",
    "I.plt.show()"
   ]
  },
  {
   "cell_type": "code",
   "execution_count": null,
   "metadata": {},
   "outputs": [],
   "source": [
    "cell, _ = simulator.get_simulated_cell(\n",
    "    explored_models[biophysical_parameter_names].iloc[random_model], \n",
    "    \"BAC\")"
   ]
  },
  {
   "cell_type": "code",
   "execution_count": null,
   "metadata": {},
   "outputs": [],
   "source": [
    "from visualize.cell_morphology_visualizer import CellMorphologyVisualizer as CMV\n",
    "\n",
    "CMV(\n",
    "    cell,\n",
    "    t_start=250,\n",
    "    t_stop=400,\n",
    "    t_step=1,\n",
    "    ).animation(\n",
    "    images_path=db.basedir+'/images',\n",
    "    color=\"voltage\",\n",
    "    client=client,\n",
    "    show_legend=True\n",
    ")"
   ]
  }
 ],
 "metadata": {
  "kernelspec": {
   "display_name": "Python 3 (ipykernel)",
   "language": "python",
   "name": "python3"
  },
  "language_info": {
   "codemirror_mode": {
    "name": "ipython",
    "version": 3
   },
   "file_extension": ".py",
   "mimetype": "text/x-python",
   "name": "python",
   "nbconvert_exporter": "python",
   "pygments_lexer": "ipython3",
   "version": "3.8.20"
  }
 },
 "nbformat": 4,
 "nbformat_minor": 4
}
