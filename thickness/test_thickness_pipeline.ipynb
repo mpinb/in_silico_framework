{
 "cells": [
  {
   "cell_type": "code",
   "execution_count": 1,
   "metadata": {},
   "outputs": [],
   "source": [
    "import os\n",
    "\n",
    "import numpy as np\n",
    "\n",
    "import IO\n",
    "import thickness as th\n",
    "import pipeline\n",
    "from definitions import ROOT_DIR\n",
    "import pandas as pd"
   ]
  },
  {
   "cell_type": "code",
   "execution_count": 2,
   "metadata": {},
   "outputs": [],
   "source": [
    "def __test_pipeline():\n",
    "    am_folder_path = os.path.join(ROOT_DIR, 'test_files/am_files')\n",
    "    tif_folder_path = os.path.join(ROOT_DIR, 'test_files/image_files')\n",
    "    hoc_file_path = os.path.join(ROOT_DIR, 'test_files/WR58_Cell5_L5TT_Final.hoc')\n",
    "    output_folder_path = os.path.join(ROOT_DIR, 'test_files/output')\n",
    "    bijective_points_path = os.path.join(ROOT_DIR, 'test_files/manual_landmarks.landmarkAscii')\n",
    "\n",
    "    p = pipeline.ExtractThicknessPipeline()\n",
    "\n",
    "    p.set_am_paths_by_folder(am_folder_path)\n",
    "    print \"set_am_paths_by_folder test, should print the first am file\"\n",
    "    print p.am_paths[0]\n",
    "\n",
    "    p.set_tif_paths_by_folder(tif_folder_path)\n",
    "    print \"set_tif_paths_by_folder test, should print the first tif file\"\n",
    "    print p.tif_paths[0]\n",
    "    print os.path.basename(p.am_paths[0])\n",
    "\n",
    "    p.set_output_path(output_folder_path)\n",
    "    print \"set_output_path test, should print the output folder path\"\n",
    "    print p.set_output_path\n",
    "\n",
    "    p.set_hoc_file(hoc_file_path)\n",
    "    print \"set_hoc_file test, should print the hoc file path\"\n",
    "    print p.hoc_file\n",
    "\n",
    "    p.set_thickness_extractor_parameters()\n",
    "    p.set_bijective_points_by_file(bijective_points_path)\n",
    "\n",
    "#   p.set_client_for_parallelize(\"localhost\", 8780)\n",
    "\n",
    "    return p.run()"
   ]
  },
  {
   "cell_type": "code",
   "execution_count": 3,
   "metadata": {},
   "outputs": [
    {
     "name": "stdout",
     "output_type": "stream",
     "text": [
      "set_am_paths_by_folder test, should print the first am file\n",
      "/home/amir/Projects/in_silico_framework/thickness/test_files/am_files/S25_final_downsampled_zscaled_1_19_aligned.am\n",
      "set_tif_paths_by_folder test, should print the first tif file\n",
      "/home/amir/Projects/in_silico_framework/thickness/test_files/image_files/S25_max_z_projection.tif\n",
      "S25_final_downsampled_zscaled_1_19_aligned.am\n",
      "set_output_path test, should print the output folder path\n",
      "<bound method ExtractThicknessPipeline.set_output_path of <pipeline.ExtractThicknessPipeline instance at 0x7f2e524cb320>>\n",
      "Reading hoc file /home/amir/Projects/in_silico_framework/thickness/test_files/WR58_Cell5_L5TT_Final.hoc\n",
      "set_hoc_file test, should print the hoc file path\n",
      "/home/amir/Projects/in_silico_framework/thickness/test_files/WR58_Cell5_L5TT_Final.hoc\n",
      "In threshold: 0.5\n",
      "--------\n",
      "Working on slice:25\n",
      "size of object in MB all_data: 0.00234985351562\n",
      "149\n",
      "2\n"
     ]
    },
    {
     "ename": "KeyError",
     "evalue": "2",
     "output_type": "error",
     "traceback": [
      "\u001b[0;31m---------------------------------------------------------------------------\u001b[0m",
      "\u001b[0;31mKeyError\u001b[0m                                  Traceback (most recent call last)",
      "\u001b[0;32m<ipython-input-3-2228fc1256f8>\u001b[0m in \u001b[0;36m<module>\u001b[0;34m()\u001b[0m\n\u001b[0;32m----> 1\u001b[0;31m \u001b[0mdf\u001b[0m \u001b[0;34m=\u001b[0m \u001b[0m__test_pipeline\u001b[0m\u001b[0;34m(\u001b[0m\u001b[0;34m)\u001b[0m\u001b[0;34m\u001b[0m\u001b[0;34m\u001b[0m\u001b[0m\n\u001b[0m",
      "\u001b[0;32m<ipython-input-2-c9bb583bc7dc>\u001b[0m in \u001b[0;36m__test_pipeline\u001b[0;34m()\u001b[0m\n\u001b[1;32m     30\u001b[0m \u001b[0;31m#   p.set_client_for_parallelize(\"localhost\", 8780)\u001b[0m\u001b[0;34m\u001b[0m\u001b[0;34m\u001b[0m\u001b[0;34m\u001b[0m\u001b[0m\n\u001b[1;32m     31\u001b[0m \u001b[0;34m\u001b[0m\u001b[0m\n\u001b[0;32m---> 32\u001b[0;31m     \u001b[0;32mreturn\u001b[0m \u001b[0mp\u001b[0m\u001b[0;34m.\u001b[0m\u001b[0mrun\u001b[0m\u001b[0;34m(\u001b[0m\u001b[0;34m)\u001b[0m\u001b[0;34m\u001b[0m\u001b[0;34m\u001b[0m\u001b[0m\n\u001b[0m",
      "\u001b[0;32m/home/amir/Projects/in_silico_framework/thickness/pipeline.py\u001b[0m in \u001b[0;36mrun\u001b[0;34m(self)\u001b[0m\n\u001b[1;32m    168\u001b[0m \u001b[0;34m\u001b[0m\u001b[0m\n\u001b[1;32m    169\u001b[0m         \u001b[0mself\u001b[0m\u001b[0;34m.\u001b[0m\u001b[0m_transform_points\u001b[0m\u001b[0;34m(\u001b[0m\u001b[0;34m)\u001b[0m\u001b[0;34m\u001b[0m\u001b[0;34m\u001b[0m\u001b[0m\n\u001b[0;32m--> 170\u001b[0;31m         \u001b[0mself\u001b[0m\u001b[0;34m.\u001b[0m\u001b[0m_stacking_all_slices\u001b[0m\u001b[0;34m(\u001b[0m\u001b[0;34m)\u001b[0m\u001b[0;34m\u001b[0m\u001b[0;34m\u001b[0m\u001b[0m\n\u001b[0m\u001b[1;32m    171\u001b[0m         \u001b[0mself\u001b[0m\u001b[0;34m.\u001b[0m\u001b[0m_update_hoc_file_with_thicknesses\u001b[0m\u001b[0;34m(\u001b[0m\u001b[0;34m)\u001b[0m\u001b[0;34m\u001b[0m\u001b[0;34m\u001b[0m\u001b[0m\n\u001b[1;32m    172\u001b[0m         \u001b[0;32mreturn\u001b[0m \u001b[0mself\u001b[0m\u001b[0;34m.\u001b[0m\u001b[0m_compute_all_data_table\u001b[0m\u001b[0;34m(\u001b[0m\u001b[0;34m)\u001b[0m\u001b[0;34m\u001b[0m\u001b[0;34m\u001b[0m\u001b[0m\n",
      "\u001b[0;32m/home/amir/Projects/in_silico_framework/thickness/pipeline.py\u001b[0m in \u001b[0;36m_stacking_all_slices\u001b[0;34m(self)\u001b[0m\n\u001b[1;32m    277\u001b[0m                 \u001b[0mall_slices_with_same_threshold\u001b[0m\u001b[0;34m[\u001b[0m\u001b[0mkey\u001b[0m\u001b[0;34m]\u001b[0m\u001b[0;34m.\u001b[0m\u001b[0mslice_thicknesses_object\u001b[0m\u001b[0;34m.\u001b[0m\u001b[0mall_data\u001b[0m\u001b[0;34m[\u001b[0m\u001b[0mindex\u001b[0m\u001b[0;34m]\u001b[0m\u001b[0;34m[\u001b[0m\u001b[0;34m\"min_thickness\"\u001b[0m\u001b[0;34m]\u001b[0m\u001b[0;34m\u001b[0m\u001b[0;34m\u001b[0m\u001b[0m\n\u001b[1;32m    278\u001b[0m                 \u001b[0;32mfor\u001b[0m \u001b[0mkey\u001b[0m \u001b[0;32min\u001b[0m \u001b[0msorted\u001b[0m\u001b[0;34m(\u001b[0m\u001b[0mall_slices_with_same_threshold\u001b[0m\u001b[0;34m.\u001b[0m\u001b[0mkeys\u001b[0m\u001b[0;34m(\u001b[0m\u001b[0;34m)\u001b[0m\u001b[0;34m)\u001b[0m\u001b[0;34m\u001b[0m\u001b[0;34m\u001b[0m\u001b[0m\n\u001b[0;32m--> 279\u001b[0;31m                 for index in range(len(all_slices_with_same_threshold[key].points))]}\n\u001b[0m\u001b[1;32m    280\u001b[0m \u001b[0;34m\u001b[0m\u001b[0m\n\u001b[1;32m    281\u001b[0m         assert len(self.all_points_with_default_threshold) == len(\n",
      "\u001b[0;31mKeyError\u001b[0m: 2"
     ]
    }
   ],
   "source": [
    "df = __test_pipeline()"
   ]
  },
  {
   "cell_type": "code",
   "execution_count": null,
   "metadata": {},
   "outputs": [],
   "source": [
    "print df[['x', 'y', 'z']]"
   ]
  },
  {
   "cell_type": "code",
   "execution_count": null,
   "metadata": {},
   "outputs": [],
   "source": []
  }
 ],
 "metadata": {
  "kernelspec": {
   "display_name": "my-venv",
   "language": "python",
   "name": "my-venv"
  },
  "language_info": {
   "codemirror_mode": {
    "name": "ipython",
    "version": 2
   },
   "file_extension": ".py",
   "mimetype": "text/x-python",
   "name": "python",
   "nbconvert_exporter": "python",
   "pygments_lexer": "ipython2",
   "version": "2.7.15+"
  },
  "toc": {
   "base_numbering": 1,
   "nav_menu": {},
   "number_sections": true,
   "sideBar": true,
   "skip_h1_title": false,
   "title_cell": "Table of Contents",
   "title_sidebar": "Contents",
   "toc_cell": false,
   "toc_position": {},
   "toc_section_display": true,
   "toc_window_display": false
  }
 },
 "nbformat": 4,
 "nbformat_minor": 2
}
