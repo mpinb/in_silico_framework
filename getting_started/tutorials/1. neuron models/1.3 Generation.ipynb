{
 "cells": [
  {
   "cell_type": "markdown",
   "metadata": {},
   "source": [
    "# Generating biophysically detailed multi-compartmental models\n",
    "\n",
    "This tutorial provides a walkthrough on how to use ISF in order to generate biophysically detailed multi-comparmental models that are consistent with empirical responses. To do this, you will need:\n",
    "\n",
    "1. A neuron morphology in the `.hoc` format.\n",
    "2. Empirical data on the neuron's biophysical expression.\n",
    "3. Empirical constraints on the electrophysiological response to input stimuli.\n",
    "\n",
    "ISF provides two ways of generating multi-compartmental neuron models:\n",
    "\n",
    "\n",
    "|   |Algorithm | Pros | Cons\n",
    "|---|---|---|---|\n",
    "|1.|[Multi-Objective Evolutionary Algorithm (MOEA)](../../../biophysics_fitting/MOEA_EH_minimal/__init__.py) | No a priori requirements | Does not explore the full diversity of possible BDMs|\n",
    "|2.|[Exploration algorithm](../../../biophysics_fitting/exploration_from_seedpoint/__init__.py) | Explores the full biophysical diversity of possible BDMs | Requires a seedpoint|\n",
    "\n",
    "Below, we go over an example on how to generate neuron models using both approaches for a Layer 5 Pyramidal Tract (L5PT) neuron. Let's set up a database for the results generated during this tutorial."
   ]
  },
  {
   "cell_type": "code",
   "execution_count": 1,
   "metadata": {},
   "outputs": [
    {
     "name": "stdout",
     "output_type": "stream",
     "text": [
      "[INFO] distributed_lock: trying to connect to distributed locking server {'config': {'hosts': 'somalogin02:33333'}, 'type': 'zookeeper'}\n",
      "[INFO] distributed_lock: success!\n",
      "[WARNING] warnings: /gpfs/soma_fs/scratch/meulemeester/project_src/in_silico_framework/.pixi/envs/default/lib/python3.8/site-packages/pandas_msgpack/packers.py:78: FutureWarning:\n",
      "\n",
      "The Panel class is removed from pandas. Accessing it from the top-level namespace will also be removed in the next version\n",
      "\n",
      "\n",
      "[INFO] l5pt: Loading mechanisms:\n"
     ]
    },
    {
     "name": "stderr",
     "output_type": "stream",
     "text": [
      "Warning: no DISPLAY environment variable.\n",
      "--No graphics will be displayed.\n"
     ]
    },
    {
     "name": "stdout",
     "output_type": "stream",
     "text": [
      "[INFO] ISF: Current version: heads/docs\n",
      "[INFO] ISF: Current pid: 63761\n",
      "[WARNING] ISF: Could not load linked views\n",
      "\n",
      "\n",
      "\n",
      "[INFO] ISF: Loaded modules with __version__ attribute are:\n",
      "IPython: 8.12.2, Interface: heads/docs, PIL: 10.4.0, _brotli: 1.1.0, _csv: 1.0, _ctypes: 1.1.0, _curses: b'2.2', _decimal: 1.70, argparse: 1.1, backcall: 0.2.0, blosc: 1.11.1, bluepyopt: 1.9.126, brotli: 1.1.0, certifi: 2024.08.30, cffi: 1.17.0, charset_normalizer: 3.4.0, click: 7.1.2, cloudpickle: 3.1.0, colorama: 0.4.6, comm: 0.2.2, csv: 1.0, ctypes: 1.1.0, cycler: 0.12.1, cytoolz: 0.12.3, dash: 2.18.1, dask: 2.30.0, dateutil: 2.9.0, deap: 1.4, debugpy: 1.8.5, decimal: 1.70, decorator: 5.1.1, defusedxml: 0.7.1, distributed: 2.30.0, distutils: 3.8.20, django: 1.8.19, entrypoints: 0.4, executing: 2.1.0, flask: 1.1.4, fsspec: 2024.10.0, future: 1.0.0, greenlet: 3.1.1, idna: 3.10, ipaddress: 1.0, ipykernel: 6.29.5, ipywidgets: 8.1.5, itsdangerous: 1.1.0, jedi: 0.19.1, jinja2: 2.11.3, joblib: 1.4.2, json: 2.0.9, jupyter_client: 7.3.4, jupyter_core: 5.7.2, kazoo: 2.10.0, kiwisolver: 1.4.5, logging: 0.5.1.2, markupsafe: 2.0.1, matplotlib: 3.5.1, msgpack: 1.0.8, neuron: 7.8.2+, numexpr: 2.8.6, numpy: 1.19.2, packaging: 24.1, pandas: 1.1.3, pandas_msgpack: 0.1.4+14.gfcb0471.dirty, parameters: 0.2.1, parso: 0.8.4, past: 1.0.0, pexpect: 4.9.0, pickleshare: 0.7.5, platform: 1.0.8, platformdirs: 4.3.6, plotly: 5.24.1, prompt_toolkit: 3.0.48, psutil: 6.0.0, ptyprocess: 0.7.0, pure_eval: 0.2.3, pydevd: 2.9.5, pygments: 2.18.0, pyparsing: 3.1.4, pytz: 2024.2, re: 2.2.1, requests: 2.32.3, scandir: 1.10.0, scipy: 1.5.2, seaborn: 0.12.2, six: 1.16.0, sklearn: 0.23.2, socketserver: 0.4, socks: 1.7.1, sortedcontainers: 2.4.0, stack_data: 0.6.2, statsmodels: 0.13.2, sumatra: 0.7.4, tables: 3.8.0, tblib: 3.0.0, tlz: 0.12.3, toolz: 1.0.0, traitlets: 5.14.3, urllib3: 2.2.3, wcwidth: 0.2.13, werkzeug: 1.0.1, yaml: 5.3.1, zlib: 1.0, zmq: 26.2.0, zstandard: 0.23.0\n"
     ]
    }
   ],
   "source": [
    "import Interface as I\n",
    "from getting_started import getting_started_dir, tutorial_output_dir\n",
    "\n",
    "example_data_dir = I.os.path.join(getting_started_dir, 'example_data')\n",
    "db = I.DataBase(tutorial_output_dir)\n",
    "model_db = I.DataBase(getting_started_dir, \"example_data\", \"simulation_data\", \"biophysics\", \"example_models\")"
   ]
  },
  {
   "cell_type": "markdown",
   "metadata": {},
   "source": [
    "## Multi-Objective Evolutionary Algorithm\n",
    "\n",
    "This section will guide you through using ISF to create neuron models from scratch using a Multi-Objective Evolutionary Optimization algorithm (MOEA) called [BluePyOpt](https://github.com/BlueBrain/BluePyOpt).\n",
    "\n",
    "### Empirical limits for biophysical parameters"
   ]
  },
  {
   "cell_type": "code",
   "execution_count": 2,
   "metadata": {},
   "outputs": [],
   "source": [
    "from biophysics_fitting.hay_complete_default_setup import get_feasible_model_params\n",
    "\n",
    "params = get_feasible_model_params().drop('x', axis=1)\n",
    "params.index = [e.replace('CaDynamics_E2', 'CaDynamics_E2_v2') for e in params.index]\n",
    "params.index = 'ephys.' + params.index"
   ]
  },
  {
   "cell_type": "markdown",
   "metadata": {},
   "source": [
    "In addition to the conductance of the ion channels, two important free parameters need to be added in order to find models for an L5PT:\n",
    "- The spatial distribution of $SK_V3.1$ channels along the apical dendrite. These are modeled here to slope off from the soma towards the end of the apical dendrite, consistent with Schaefer et al. (2007) (https://doi.org/10.1113/jphysiol.2006.122564)\n",
    "\n",
    "- The thickness of the apical dendrite. Why this is added as a free parameter is explained in [this auxiliary notebook](../auxiliary%20notebooks/A.0%20The%20Barrel%20Cortex.ipynb)"
   ]
  },
  {
   "cell_type": "code",
   "execution_count": 3,
   "metadata": {},
   "outputs": [
    {
     "name": "stdout",
     "output_type": "stream",
     "text": [
      "Empirical limits for biological parameters\n"
     ]
    },
    {
     "data": {
      "text/html": [
       "<div>\n",
       "<style scoped>\n",
       "    .dataframe tbody tr th:only-of-type {\n",
       "        vertical-align: middle;\n",
       "    }\n",
       "\n",
       "    .dataframe tbody tr th {\n",
       "        vertical-align: top;\n",
       "    }\n",
       "\n",
       "    .dataframe thead th {\n",
       "        text-align: right;\n",
       "    }\n",
       "</style>\n",
       "<table border=\"1\" class=\"dataframe\">\n",
       "  <thead>\n",
       "    <tr style=\"text-align: right;\">\n",
       "      <th></th>\n",
       "      <th>min</th>\n",
       "      <th>max</th>\n",
       "    </tr>\n",
       "  </thead>\n",
       "  <tbody>\n",
       "    <tr>\n",
       "      <th>ephys.CaDynamics_E2_v2.apic.decay</th>\n",
       "      <td>20.00000</td>\n",
       "      <td>200.00000</td>\n",
       "    </tr>\n",
       "    <tr>\n",
       "      <th>ephys.CaDynamics_E2_v2.apic.gamma</th>\n",
       "      <td>0.00050</td>\n",
       "      <td>0.05000</td>\n",
       "    </tr>\n",
       "    <tr>\n",
       "      <th>ephys.CaDynamics_E2_v2.axon.decay</th>\n",
       "      <td>20.00000</td>\n",
       "      <td>1000.00000</td>\n",
       "    </tr>\n",
       "    <tr>\n",
       "      <th>ephys.CaDynamics_E2_v2.axon.gamma</th>\n",
       "      <td>0.00050</td>\n",
       "      <td>0.05000</td>\n",
       "    </tr>\n",
       "    <tr>\n",
       "      <th>ephys.CaDynamics_E2_v2.soma.decay</th>\n",
       "      <td>20.00000</td>\n",
       "      <td>1000.00000</td>\n",
       "    </tr>\n",
       "    <tr>\n",
       "      <th>ephys.CaDynamics_E2_v2.soma.gamma</th>\n",
       "      <td>0.00050</td>\n",
       "      <td>0.05000</td>\n",
       "    </tr>\n",
       "    <tr>\n",
       "      <th>ephys.Ca_HVA.apic.gCa_HVAbar</th>\n",
       "      <td>0.00000</td>\n",
       "      <td>0.00500</td>\n",
       "    </tr>\n",
       "    <tr>\n",
       "      <th>ephys.Ca_HVA.axon.gCa_HVAbar</th>\n",
       "      <td>0.00000</td>\n",
       "      <td>0.00100</td>\n",
       "    </tr>\n",
       "    <tr>\n",
       "      <th>ephys.Ca_HVA.soma.gCa_HVAbar</th>\n",
       "      <td>0.00000</td>\n",
       "      <td>0.00100</td>\n",
       "    </tr>\n",
       "    <tr>\n",
       "      <th>ephys.Ca_LVAst.apic.gCa_LVAstbar</th>\n",
       "      <td>0.00000</td>\n",
       "      <td>0.20000</td>\n",
       "    </tr>\n",
       "    <tr>\n",
       "      <th>ephys.Ca_LVAst.axon.gCa_LVAstbar</th>\n",
       "      <td>0.00000</td>\n",
       "      <td>0.01000</td>\n",
       "    </tr>\n",
       "    <tr>\n",
       "      <th>ephys.Ca_LVAst.soma.gCa_LVAstbar</th>\n",
       "      <td>0.00000</td>\n",
       "      <td>0.01000</td>\n",
       "    </tr>\n",
       "    <tr>\n",
       "      <th>ephys.Im.apic.gImbar</th>\n",
       "      <td>0.00000</td>\n",
       "      <td>0.00100</td>\n",
       "    </tr>\n",
       "    <tr>\n",
       "      <th>ephys.K_Pst.axon.gK_Pstbar</th>\n",
       "      <td>0.00000</td>\n",
       "      <td>1.00000</td>\n",
       "    </tr>\n",
       "    <tr>\n",
       "      <th>ephys.K_Pst.soma.gK_Pstbar</th>\n",
       "      <td>0.00000</td>\n",
       "      <td>1.00000</td>\n",
       "    </tr>\n",
       "    <tr>\n",
       "      <th>ephys.K_Tst.axon.gK_Tstbar</th>\n",
       "      <td>0.00000</td>\n",
       "      <td>0.10000</td>\n",
       "    </tr>\n",
       "    <tr>\n",
       "      <th>ephys.K_Tst.soma.gK_Tstbar</th>\n",
       "      <td>0.00000</td>\n",
       "      <td>0.10000</td>\n",
       "    </tr>\n",
       "    <tr>\n",
       "      <th>ephys.NaTa_t.apic.gNaTa_tbar</th>\n",
       "      <td>0.00000</td>\n",
       "      <td>0.04000</td>\n",
       "    </tr>\n",
       "    <tr>\n",
       "      <th>ephys.NaTa_t.axon.gNaTa_tbar</th>\n",
       "      <td>0.00000</td>\n",
       "      <td>4.00000</td>\n",
       "    </tr>\n",
       "    <tr>\n",
       "      <th>ephys.NaTa_t.soma.gNaTa_tbar</th>\n",
       "      <td>0.00000</td>\n",
       "      <td>4.00000</td>\n",
       "    </tr>\n",
       "    <tr>\n",
       "      <th>ephys.Nap_Et2.axon.gNap_Et2bar</th>\n",
       "      <td>0.00000</td>\n",
       "      <td>0.01000</td>\n",
       "    </tr>\n",
       "    <tr>\n",
       "      <th>ephys.Nap_Et2.soma.gNap_Et2bar</th>\n",
       "      <td>0.00000</td>\n",
       "      <td>0.01000</td>\n",
       "    </tr>\n",
       "    <tr>\n",
       "      <th>ephys.SK_E2.apic.gSK_E2bar</th>\n",
       "      <td>0.00000</td>\n",
       "      <td>0.01000</td>\n",
       "    </tr>\n",
       "    <tr>\n",
       "      <th>ephys.SK_E2.axon.gSK_E2bar</th>\n",
       "      <td>0.00000</td>\n",
       "      <td>0.10000</td>\n",
       "    </tr>\n",
       "    <tr>\n",
       "      <th>ephys.SK_E2.soma.gSK_E2bar</th>\n",
       "      <td>0.00000</td>\n",
       "      <td>0.10000</td>\n",
       "    </tr>\n",
       "    <tr>\n",
       "      <th>ephys.SKv3_1.apic.gSKv3_1bar</th>\n",
       "      <td>0.00000</td>\n",
       "      <td>0.04000</td>\n",
       "    </tr>\n",
       "    <tr>\n",
       "      <th>ephys.SKv3_1.apic.offset</th>\n",
       "      <td>0.00000</td>\n",
       "      <td>1.00000</td>\n",
       "    </tr>\n",
       "    <tr>\n",
       "      <th>ephys.SKv3_1.apic.slope</th>\n",
       "      <td>-3.00000</td>\n",
       "      <td>0.00000</td>\n",
       "    </tr>\n",
       "    <tr>\n",
       "      <th>ephys.SKv3_1.axon.gSKv3_1bar</th>\n",
       "      <td>0.00000</td>\n",
       "      <td>2.00000</td>\n",
       "    </tr>\n",
       "    <tr>\n",
       "      <th>ephys.SKv3_1.soma.gSKv3_1bar</th>\n",
       "      <td>0.00000</td>\n",
       "      <td>2.00000</td>\n",
       "    </tr>\n",
       "    <tr>\n",
       "      <th>ephys.none.apic.g_pas</th>\n",
       "      <td>0.00003</td>\n",
       "      <td>0.00010</td>\n",
       "    </tr>\n",
       "    <tr>\n",
       "      <th>ephys.none.axon.g_pas</th>\n",
       "      <td>0.00002</td>\n",
       "      <td>0.00005</td>\n",
       "    </tr>\n",
       "    <tr>\n",
       "      <th>ephys.none.dend.g_pas</th>\n",
       "      <td>0.00003</td>\n",
       "      <td>0.00010</td>\n",
       "    </tr>\n",
       "    <tr>\n",
       "      <th>ephys.none.soma.g_pas</th>\n",
       "      <td>0.00002</td>\n",
       "      <td>0.00005</td>\n",
       "    </tr>\n",
       "    <tr>\n",
       "      <th>scale_apical.scale</th>\n",
       "      <td>0.33300</td>\n",
       "      <td>3.00000</td>\n",
       "    </tr>\n",
       "  </tbody>\n",
       "</table>\n",
       "</div>"
      ],
      "text/plain": [
       "                                        min         max\n",
       "ephys.CaDynamics_E2_v2.apic.decay  20.00000   200.00000\n",
       "ephys.CaDynamics_E2_v2.apic.gamma   0.00050     0.05000\n",
       "ephys.CaDynamics_E2_v2.axon.decay  20.00000  1000.00000\n",
       "ephys.CaDynamics_E2_v2.axon.gamma   0.00050     0.05000\n",
       "ephys.CaDynamics_E2_v2.soma.decay  20.00000  1000.00000\n",
       "ephys.CaDynamics_E2_v2.soma.gamma   0.00050     0.05000\n",
       "ephys.Ca_HVA.apic.gCa_HVAbar        0.00000     0.00500\n",
       "ephys.Ca_HVA.axon.gCa_HVAbar        0.00000     0.00100\n",
       "ephys.Ca_HVA.soma.gCa_HVAbar        0.00000     0.00100\n",
       "ephys.Ca_LVAst.apic.gCa_LVAstbar    0.00000     0.20000\n",
       "ephys.Ca_LVAst.axon.gCa_LVAstbar    0.00000     0.01000\n",
       "ephys.Ca_LVAst.soma.gCa_LVAstbar    0.00000     0.01000\n",
       "ephys.Im.apic.gImbar                0.00000     0.00100\n",
       "ephys.K_Pst.axon.gK_Pstbar          0.00000     1.00000\n",
       "ephys.K_Pst.soma.gK_Pstbar          0.00000     1.00000\n",
       "ephys.K_Tst.axon.gK_Tstbar          0.00000     0.10000\n",
       "ephys.K_Tst.soma.gK_Tstbar          0.00000     0.10000\n",
       "ephys.NaTa_t.apic.gNaTa_tbar        0.00000     0.04000\n",
       "ephys.NaTa_t.axon.gNaTa_tbar        0.00000     4.00000\n",
       "ephys.NaTa_t.soma.gNaTa_tbar        0.00000     4.00000\n",
       "ephys.Nap_Et2.axon.gNap_Et2bar      0.00000     0.01000\n",
       "ephys.Nap_Et2.soma.gNap_Et2bar      0.00000     0.01000\n",
       "ephys.SK_E2.apic.gSK_E2bar          0.00000     0.01000\n",
       "ephys.SK_E2.axon.gSK_E2bar          0.00000     0.10000\n",
       "ephys.SK_E2.soma.gSK_E2bar          0.00000     0.10000\n",
       "ephys.SKv3_1.apic.gSKv3_1bar        0.00000     0.04000\n",
       "ephys.SKv3_1.apic.offset            0.00000     1.00000\n",
       "ephys.SKv3_1.apic.slope            -3.00000     0.00000\n",
       "ephys.SKv3_1.axon.gSKv3_1bar        0.00000     2.00000\n",
       "ephys.SKv3_1.soma.gSKv3_1bar        0.00000     2.00000\n",
       "ephys.none.apic.g_pas               0.00003     0.00010\n",
       "ephys.none.axon.g_pas               0.00002     0.00005\n",
       "ephys.none.dend.g_pas               0.00003     0.00010\n",
       "ephys.none.soma.g_pas               0.00002     0.00005\n",
       "scale_apical.scale                  0.33300     3.00000"
      ]
     },
     "execution_count": 3,
     "metadata": {},
     "output_type": "execute_result"
    }
   ],
   "source": [
    "params = params.append(\n",
    "    I.pd.DataFrame({\n",
    "        'ephys.SKv3_1.apic.slope': {\n",
    "            'min': -3,\n",
    "            'max': 0\n",
    "        },\n",
    "        'ephys.SKv3_1.apic.offset': {\n",
    "            'min': 0,\n",
    "            'max': 1\n",
    "        }\n",
    "    }).T)\n",
    "params = params.append(\n",
    "    I.pd.DataFrame({\n",
    "        'min': .333,\n",
    "        'max': 3\n",
    "    }, index=['scale_apical.scale']))\n",
    "\n",
    "\n",
    "params = params.sort_index()\n",
    "print(\"Empirical limits for biological parameters\")\n",
    "params"
   ]
  },
  {
   "cell_type": "markdown",
   "metadata": {},
   "source": [
    "### Database setup"
   ]
  },
  {
   "cell_type": "markdown",
   "metadata": {},
   "source": [
    "The MOEA algorithm expects a database containing methods that set up Simulator and Evaluator objects. Let's create these methods.\n",
    "Here, you can set up which input stimuli will be run, and how they will be evaluated. We have already created such simulation setup and evaluation methods for L5PTs consisten with [Hay et al. (2011)](https://doi.org/10.1371/journal.pcbi.1002107\n",
    ") in [hay_complete_default_setup](../../../biophysics_fitting/hay_complete_default_setup.py) and [L5tt_parameter_setup](../../../biophysics_fitting/L5tt_parameter_setup.py)"
   ]
  },
  {
   "cell_type": "code",
   "execution_count": 4,
   "metadata": {},
   "outputs": [],
   "source": [
    "from biophysics_fitting.L5tt_parameter_setup import get_L5tt_template_v2\n",
    "import biophysics_fitting.hay_complete_default_setup as hay_setup\n",
    "\n",
    "def scale_apical(cell_param, params):\n",
    "    assert(len(params) == 1)\n",
    "    cell_param.cell_modify_functions.scale_apical.scale = params['scale']\n",
    "    return cell_param\n",
    "\n",
    "def get_fixed_params(db_setup):\n",
    "    \"\"\"\n",
    "    Configure the fixed params and return\n",
    "    \"\"\"\n",
    "    fixed_params = db_setup['fixed_params']\n",
    "    fixed_params['morphology.filename'] = db_setup['morphology'].get_file(\n",
    "        'hoc')\n",
    "    return fixed_params\n",
    "\n",
    "def get_Simulator(db_setup, step=False):\n",
    "    \"\"\"\n",
    "    Configure the Simulator object and return\n",
    "    \"\"\"\n",
    "    fixed_params = db_setup['get_fixed_params'](db_setup)\n",
    "    s = hay_setup.get_Simulator(\n",
    "        I.pd.Series(fixed_params),\n",
    "        step=step)\n",
    "    s.setup.cell_param_generator = get_L5tt_template_v2\n",
    "    s.setup.cell_param_modify_funs.append(\n",
    "        ('scale_apical', scale_apical)\n",
    "        )\n",
    "    s.setup.params_modify_funs_after_cell_generation = []\n",
    "    return s\n",
    "\n",
    "def get_Evaluator(db_setup, step=False):\n",
    "    \"\"\"\n",
    "    No additional configuration is needed for the Evaluator, simply return biophysics_fitting.L5tt_parameter_setup.get_Evaluator\n",
    "    \"\"\"\n",
    "    return hay_setup.get_Evaluator(step=step)\n",
    "\n",
    "def get_Combiner(db_setup, step=False):\n",
    "    \"\"\"\n",
    "    No additional configuration is needed for the Combiner, simply return biophysics_fitting.L5tt_parameter_setup.get_Combiner\n",
    "    \"\"\"\n",
    "    return hay_setup.get_Combiner(step=step)"
   ]
  },
  {
   "cell_type": "markdown",
   "metadata": {},
   "source": [
    "Now, the database for optimization can be set up as seen below."
   ]
  },
  {
   "cell_type": "code",
   "execution_count": 5,
   "metadata": {},
   "outputs": [],
   "source": [
    "def set_up_db_for_MOEA(db, morphology_id='89', morphology=\"\", step=False):\n",
    "    \"\"\"\n",
    "    Set up a DataBase for MOEA.\n",
    "\n",
    "    Args:\n",
    "        db: a DataBase object\n",
    "        morphology_id: name of the morphology\n",
    "        morphology: path to a .hoc morphology file\n",
    "        step: whether or not to perform step current injections\n",
    "\n",
    "    Returns:\n",
    "        data_base.DataBase: a database containing:\n",
    "            - fixed_params\n",
    "            - get_fixed_params\n",
    "            - get_Simulator\n",
    "            - get_Evaluator\n",
    "            - get_Combiner\n",
    "            - the morphology file\n",
    "    \"\"\"\n",
    "    from data_base.IO.LoaderDumper import pandas_to_pickle, to_cloudpickle\n",
    "    db.create_sub_db(morphology_id)\n",
    "\n",
    "    db[morphology_id].create_managed_folder('morphology')\n",
    "    I.shutil.copy(\n",
    "        I.os.path.join(\n",
    "            morphology\n",
    "        ), db[morphology_id]['morphology'].join(\n",
    "            morphology.split(I.os.sep)[-1]\n",
    "        ))\n",
    "\n",
    "    db[morphology_id]['fixed_params'] = {\n",
    "        'BAC.hay_measure.recSite': 294.8203371921156,   # recording site on the apical dendrite for BAC\n",
    "        'BAC.stim.dist': 294.8203371921156,             # stimulus injection site on the apical dendrite for BAC\n",
    "        'bAP.hay_measure.recSite1': 294.8203371921156,  # recording site 1 on the apical dendrite for bAP\n",
    "        'bAP.hay_measure.recSite2': 474.8203371921156,  # recording site 2 on the apical dendrite for bAP\n",
    "        'hot_zone.min_': 384.8203371921156,             # calcium zone start\n",
    "        'hot_zone.max_': 584.8203371921156,             # calcium zone end\n",
    "        'hot_zone.outsidescale_sections': [23,24,25,26,27,28,29,31,32,33,34,35,37,38,40,42,43,44,46,48,50,51,52,54,56,58,60],\n",
    "        'morphology.filename': None\n",
    "        }\n",
    "\n",
    "    db[morphology_id]['get_fixed_params'] = get_fixed_params\n",
    "    db[morphology_id].set('params', params, dumper=pandas_to_pickle)\n",
    "    db[morphology_id].set('get_Simulator',\n",
    "                      I.partial(get_Simulator, step=step),\n",
    "                      dumper=to_cloudpickle)\n",
    "    db[morphology_id].set('get_Evaluator',\n",
    "                      I.partial(get_Evaluator, step=step),\n",
    "                      dumper=to_cloudpickle)\n",
    "    db[morphology_id].set('get_Combiner',\n",
    "                      I.partial(get_Combiner, step=step),\n",
    "                      dumper=to_cloudpickle)\n",
    "\n",
    "    return db"
   ]
  },
  {
   "cell_type": "markdown",
   "metadata": {},
   "source": [
    "Let's copy over a morphology and initialize our DataBase for the optimization run"
   ]
  },
  {
   "cell_type": "code",
   "execution_count": 6,
   "metadata": {},
   "outputs": [],
   "source": [
    "morphology_path = I.os.path.join(\n",
    "    example_data_dir, \n",
    "    \"anatomical_constraints\", \n",
    "    \"89_L5_CDK20050712_nr6L5B_dend_PC_neuron_transform_registered_C2.hoc\")"
   ]
  },
  {
   "cell_type": "code",
   "execution_count": 7,
   "metadata": {},
   "outputs": [
    {
     "name": "stdout",
     "output_type": "stream",
     "text": [
      "<data_base.isf_data_base.isf_data_base.ISFDataBase object at 0x2acec32e2520>\n",
      "Located at /gpfs/soma_fs/home/meulemeester/ISF_tutorial_output\n",
      "\u001b[92mISF_tutorial_output\u001b[0m\n",
      "└── \u001b[92m89\u001b[0m\n",
      "    ├── \u001b[94mparams\u001b[0m\n",
      "    ├── \u001b[94mget_Simulator\u001b[0m\n",
      "    ├── \u001b[94mmorphology\u001b[0m\n",
      "    ├── \u001b[94mget_fixed_params\u001b[0m\n",
      "    ├── \u001b[94mfixed_params\u001b[0m\n",
      "    ├── \u001b[94mget_Evaluator\u001b[0m\n",
      "    └── \u001b[94mget_Combiner\u001b[0m\n"
     ]
    },
    {
     "name": "stderr",
     "output_type": "stream",
     "text": [
      "/bin/sh: conda: command not found\n"
     ]
    }
   ],
   "source": [
    "db = set_up_db_for_MOEA(\n",
    "    db,\n",
    "    morphology_id=\"89\",\n",
    "    morphology=morphology_path,\n",
    "    step=False\n",
    "    )\n",
    "db.ls(max_lines_per_key=10)"
   ]
  },
  {
   "cell_type": "markdown",
   "metadata": {},
   "source": [
    "### Run the optimization algorithm"
   ]
  },
  {
   "cell_type": "markdown",
   "metadata": {},
   "source": [
    "We're now ready to run the optimization algorithm."
   ]
  },
  {
   "cell_type": "code",
   "execution_count": 10,
   "metadata": {},
   "outputs": [
    {
     "name": "stdout",
     "output_type": "stream",
     "text": [
      "starting multi objective optimization with 5 objectives and 35 parameters\n"
     ]
    }
   ],
   "source": [
    "seedpoint = 42\n",
    "\n",
    "population = I.bfit_start_run(\n",
    "    db['89'], \n",
    "    n=seedpoint,\n",
    "    client=I.get_client(), \n",
    "    offspring_size=10,      # Low amount of offspring just as an example \n",
    "    pop=None,               # adapt this to the output population of the previous run to continue where you left off\n",
    "    continue_cp=False,      # If you want to continue a preivoius run, set to True\n",
    "    max_ngen=1              # run for just 1 generation\n",
    "    )"
   ]
  },
  {
   "cell_type": "markdown",
   "metadata": {},
   "source": [
    "The results are written out after each generation. We have an offspring size of $10$, so we will find 10 proposed biophysical models in generation $1$ of our seedpoint"
   ]
  },
  {
   "cell_type": "markdown",
   "metadata": {},
   "source": [
    "### Inspecting the optimizer results"
   ]
  },
  {
   "cell_type": "markdown",
   "metadata": {},
   "source": [
    "As the optimization algorithm did not run for very long, they likely will not produce very good results:"
   ]
  },
  {
   "cell_type": "code",
   "execution_count": 11,
   "metadata": {},
   "outputs": [
    {
     "name": "stdout",
     "output_type": "stream",
     "text": [
      "[WARNING] utils: No index name dtype found in meta file. Index name will be string format. Verify if the column is the desired dtype when resetting the index.\n"
     ]
    },
    {
     "data": {
      "text/html": [
       "<div>\n",
       "<style scoped>\n",
       "    .dataframe tbody tr th:only-of-type {\n",
       "        vertical-align: middle;\n",
       "    }\n",
       "\n",
       "    .dataframe tbody tr th {\n",
       "        vertical-align: top;\n",
       "    }\n",
       "\n",
       "    .dataframe thead th {\n",
       "        text-align: right;\n",
       "    }\n",
       "</style>\n",
       "<table border=\"1\" class=\"dataframe\">\n",
       "  <thead>\n",
       "    <tr style=\"text-align: right;\">\n",
       "      <th></th>\n",
       "      <th>BAC_ahpdepth</th>\n",
       "      <th>BAC_APheight</th>\n",
       "      <th>BAC_ISI</th>\n",
       "      <th>BAC_caSpike_height</th>\n",
       "      <th>BAC_caSpike_width</th>\n",
       "      <th>BAC_spikecount</th>\n",
       "      <th>bAP_spikecount</th>\n",
       "      <th>bAP_APheight</th>\n",
       "      <th>bAP_APwidth</th>\n",
       "      <th>bAP_att2</th>\n",
       "      <th>bAP_att3</th>\n",
       "    </tr>\n",
       "  </thead>\n",
       "  <tbody>\n",
       "    <tr>\n",
       "      <th>0</th>\n",
       "      <td>243.267088</td>\n",
       "      <td>243.267088</td>\n",
       "      <td>243.267088</td>\n",
       "      <td>243.267088</td>\n",
       "      <td>243.267088</td>\n",
       "      <td>243.267088</td>\n",
       "      <td>247.592556</td>\n",
       "      <td>247.592556</td>\n",
       "      <td>247.592556</td>\n",
       "      <td>247.592556</td>\n",
       "      <td>247.592556</td>\n",
       "    </tr>\n",
       "    <tr>\n",
       "      <th>1</th>\n",
       "      <td>110.300383</td>\n",
       "      <td>110.300383</td>\n",
       "      <td>110.300383</td>\n",
       "      <td>110.300383</td>\n",
       "      <td>110.300383</td>\n",
       "      <td>110.300383</td>\n",
       "      <td>0.000000</td>\n",
       "      <td>2.582321</td>\n",
       "      <td>2.380198</td>\n",
       "      <td>2.772171</td>\n",
       "      <td>2.995927</td>\n",
       "    </tr>\n",
       "    <tr>\n",
       "      <th>2</th>\n",
       "      <td>240.231650</td>\n",
       "      <td>240.231650</td>\n",
       "      <td>240.231650</td>\n",
       "      <td>240.231650</td>\n",
       "      <td>240.231650</td>\n",
       "      <td>240.231650</td>\n",
       "      <td>246.546398</td>\n",
       "      <td>246.546398</td>\n",
       "      <td>246.546398</td>\n",
       "      <td>246.546398</td>\n",
       "      <td>246.546398</td>\n",
       "    </tr>\n",
       "    <tr>\n",
       "      <th>3</th>\n",
       "      <td>189.144036</td>\n",
       "      <td>189.144036</td>\n",
       "      <td>189.144036</td>\n",
       "      <td>189.144036</td>\n",
       "      <td>189.144036</td>\n",
       "      <td>189.144036</td>\n",
       "      <td>0.000000</td>\n",
       "      <td>4.957973</td>\n",
       "      <td>2.326879</td>\n",
       "      <td>0.821165</td>\n",
       "      <td>1.793884</td>\n",
       "    </tr>\n",
       "    <tr>\n",
       "      <th>4</th>\n",
       "      <td>247.505286</td>\n",
       "      <td>247.505286</td>\n",
       "      <td>247.505286</td>\n",
       "      <td>247.505286</td>\n",
       "      <td>247.505286</td>\n",
       "      <td>247.505286</td>\n",
       "      <td>249.101821</td>\n",
       "      <td>249.101821</td>\n",
       "      <td>249.101821</td>\n",
       "      <td>249.101821</td>\n",
       "      <td>249.101821</td>\n",
       "    </tr>\n",
       "    <tr>\n",
       "      <th>5</th>\n",
       "      <td>248.174632</td>\n",
       "      <td>248.174632</td>\n",
       "      <td>248.174632</td>\n",
       "      <td>248.174632</td>\n",
       "      <td>248.174632</td>\n",
       "      <td>248.174632</td>\n",
       "      <td>249.350281</td>\n",
       "      <td>249.350281</td>\n",
       "      <td>249.350281</td>\n",
       "      <td>249.350281</td>\n",
       "      <td>249.350281</td>\n",
       "    </tr>\n",
       "    <tr>\n",
       "      <th>6</th>\n",
       "      <td>121.596667</td>\n",
       "      <td>121.596667</td>\n",
       "      <td>121.596667</td>\n",
       "      <td>121.596667</td>\n",
       "      <td>121.596667</td>\n",
       "      <td>121.596667</td>\n",
       "      <td>0.000000</td>\n",
       "      <td>3.530442</td>\n",
       "      <td>2.140648</td>\n",
       "      <td>3.881070</td>\n",
       "      <td>5.466929</td>\n",
       "    </tr>\n",
       "    <tr>\n",
       "      <th>7</th>\n",
       "      <td>245.625295</td>\n",
       "      <td>245.625295</td>\n",
       "      <td>245.625295</td>\n",
       "      <td>245.625295</td>\n",
       "      <td>245.625295</td>\n",
       "      <td>245.625295</td>\n",
       "      <td>248.501893</td>\n",
       "      <td>248.501893</td>\n",
       "      <td>248.501893</td>\n",
       "      <td>248.501893</td>\n",
       "      <td>248.501893</td>\n",
       "    </tr>\n",
       "    <tr>\n",
       "      <th>8</th>\n",
       "      <td>247.462340</td>\n",
       "      <td>247.462340</td>\n",
       "      <td>247.462340</td>\n",
       "      <td>247.462340</td>\n",
       "      <td>247.462340</td>\n",
       "      <td>247.462340</td>\n",
       "      <td>249.037219</td>\n",
       "      <td>249.037219</td>\n",
       "      <td>249.037219</td>\n",
       "      <td>249.037219</td>\n",
       "      <td>249.037219</td>\n",
       "    </tr>\n",
       "    <tr>\n",
       "      <th>9</th>\n",
       "      <td>242.344034</td>\n",
       "      <td>242.344034</td>\n",
       "      <td>242.344034</td>\n",
       "      <td>242.344034</td>\n",
       "      <td>242.344034</td>\n",
       "      <td>242.344034</td>\n",
       "      <td>247.575373</td>\n",
       "      <td>247.575373</td>\n",
       "      <td>247.575373</td>\n",
       "      <td>247.575373</td>\n",
       "      <td>247.575373</td>\n",
       "    </tr>\n",
       "  </tbody>\n",
       "</table>\n",
       "</div>"
      ],
      "text/plain": [
       "   BAC_ahpdepth  BAC_APheight     BAC_ISI  BAC_caSpike_height  \\\n",
       "0    243.267088    243.267088  243.267088          243.267088   \n",
       "1    110.300383    110.300383  110.300383          110.300383   \n",
       "2    240.231650    240.231650  240.231650          240.231650   \n",
       "3    189.144036    189.144036  189.144036          189.144036   \n",
       "4    247.505286    247.505286  247.505286          247.505286   \n",
       "5    248.174632    248.174632  248.174632          248.174632   \n",
       "6    121.596667    121.596667  121.596667          121.596667   \n",
       "7    245.625295    245.625295  245.625295          245.625295   \n",
       "8    247.462340    247.462340  247.462340          247.462340   \n",
       "9    242.344034    242.344034  242.344034          242.344034   \n",
       "\n",
       "   BAC_caSpike_width  BAC_spikecount  bAP_spikecount  bAP_APheight  \\\n",
       "0         243.267088      243.267088      247.592556    247.592556   \n",
       "1         110.300383      110.300383        0.000000      2.582321   \n",
       "2         240.231650      240.231650      246.546398    246.546398   \n",
       "3         189.144036      189.144036        0.000000      4.957973   \n",
       "4         247.505286      247.505286      249.101821    249.101821   \n",
       "5         248.174632      248.174632      249.350281    249.350281   \n",
       "6         121.596667      121.596667        0.000000      3.530442   \n",
       "7         245.625295      245.625295      248.501893    248.501893   \n",
       "8         247.462340      247.462340      249.037219    249.037219   \n",
       "9         242.344034      242.344034      247.575373    247.575373   \n",
       "\n",
       "   bAP_APwidth    bAP_att2    bAP_att3  \n",
       "0   247.592556  247.592556  247.592556  \n",
       "1     2.380198    2.772171    2.995927  \n",
       "2   246.546398  246.546398  246.546398  \n",
       "3     2.326879    0.821165    1.793884  \n",
       "4   249.101821  249.101821  249.101821  \n",
       "5   249.350281  249.350281  249.350281  \n",
       "6     2.140648    3.881070    5.466929  \n",
       "7   248.501893  248.501893  248.501893  \n",
       "8   249.037219  249.037219  249.037219  \n",
       "9   247.575373  247.575373  247.575373  "
      ]
     },
     "execution_count": 11,
     "metadata": {},
     "output_type": "execute_result"
    }
   ],
   "source": [
    "population = db['89'][str(seedpoint)]['1']\n",
    "objectives = population.drop(params.index, axis=1)\n",
    "objectives"
   ]
  },
  {
   "cell_type": "markdown",
   "metadata": {},
   "source": [
    "Most values are about $250 \\sigma$ removed from the empirical mean, but some objectives are already quite close!\n",
    "What is the spread on the empirical data?"
   ]
  },
  {
   "cell_type": "code",
   "execution_count": 12,
   "metadata": {},
   "outputs": [
    {
     "name": "stdout",
     "output_type": "stream",
     "text": [
      "Empirical distribution for physiology objectives\n"
     ]
    },
    {
     "data": {
      "text/html": [
       "<div>\n",
       "<style scoped>\n",
       "    .dataframe tbody tr th:only-of-type {\n",
       "        vertical-align: middle;\n",
       "    }\n",
       "\n",
       "    .dataframe tbody tr th {\n",
       "        vertical-align: top;\n",
       "    }\n",
       "\n",
       "    .dataframe thead th {\n",
       "        text-align: right;\n",
       "    }\n",
       "</style>\n",
       "<table border=\"1\" class=\"dataframe\">\n",
       "  <thead>\n",
       "    <tr style=\"text-align: right;\">\n",
       "      <th></th>\n",
       "      <th>feature</th>\n",
       "      <th>mean</th>\n",
       "      <th>std</th>\n",
       "      <th>stim_name</th>\n",
       "      <th>stim_type</th>\n",
       "    </tr>\n",
       "  </thead>\n",
       "  <tbody>\n",
       "    <tr>\n",
       "      <th>BAC_ahpdepth</th>\n",
       "      <td>AHP_depth_abs</td>\n",
       "      <td>-65.000</td>\n",
       "      <td>4.0000</td>\n",
       "      <td>BAC</td>\n",
       "      <td>BAC</td>\n",
       "    </tr>\n",
       "    <tr>\n",
       "      <th>BAC_APheight</th>\n",
       "      <td>AP_height</td>\n",
       "      <td>25.000</td>\n",
       "      <td>5.0000</td>\n",
       "      <td>BAC</td>\n",
       "      <td>BAC</td>\n",
       "    </tr>\n",
       "    <tr>\n",
       "      <th>BAC_ISI</th>\n",
       "      <td>BAC_ISI</td>\n",
       "      <td>9.901</td>\n",
       "      <td>0.8517</td>\n",
       "      <td>BAC</td>\n",
       "      <td>BAC</td>\n",
       "    </tr>\n",
       "    <tr>\n",
       "      <th>BAC_caSpike_height</th>\n",
       "      <td>BAC_caSpike_height</td>\n",
       "      <td>6.730</td>\n",
       "      <td>2.5400</td>\n",
       "      <td>BAC</td>\n",
       "      <td>BAC</td>\n",
       "    </tr>\n",
       "    <tr>\n",
       "      <th>BAC_caSpike_width</th>\n",
       "      <td>BAC_caSpike_width</td>\n",
       "      <td>37.430</td>\n",
       "      <td>1.2700</td>\n",
       "      <td>BAC</td>\n",
       "      <td>BAC</td>\n",
       "    </tr>\n",
       "    <tr>\n",
       "      <th>BAC_spikecount</th>\n",
       "      <td>Spikecount</td>\n",
       "      <td>3.000</td>\n",
       "      <td>0.0100</td>\n",
       "      <td>BAC</td>\n",
       "      <td>BAC</td>\n",
       "    </tr>\n",
       "    <tr>\n",
       "      <th>bAP_spikecount</th>\n",
       "      <td>Spikecount</td>\n",
       "      <td>1.000</td>\n",
       "      <td>0.0100</td>\n",
       "      <td>bAP</td>\n",
       "      <td>bAP</td>\n",
       "    </tr>\n",
       "    <tr>\n",
       "      <th>bAP_APheight</th>\n",
       "      <td>AP_height</td>\n",
       "      <td>25.000</td>\n",
       "      <td>5.0000</td>\n",
       "      <td>bAP</td>\n",
       "      <td>bAP</td>\n",
       "    </tr>\n",
       "    <tr>\n",
       "      <th>bAP_APwidth</th>\n",
       "      <td>AP_width</td>\n",
       "      <td>2.000</td>\n",
       "      <td>0.5000</td>\n",
       "      <td>bAP</td>\n",
       "      <td>bAP</td>\n",
       "    </tr>\n",
       "    <tr>\n",
       "      <th>bAP_att2</th>\n",
       "      <td>BPAPatt2</td>\n",
       "      <td>45.000</td>\n",
       "      <td>10.0000</td>\n",
       "      <td>bAP</td>\n",
       "      <td>bAP</td>\n",
       "    </tr>\n",
       "    <tr>\n",
       "      <th>bAP_att3</th>\n",
       "      <td>BPAPatt3</td>\n",
       "      <td>36.000</td>\n",
       "      <td>9.3300</td>\n",
       "      <td>bAP</td>\n",
       "      <td>bAP</td>\n",
       "    </tr>\n",
       "  </tbody>\n",
       "</table>\n",
       "</div>"
      ],
      "text/plain": [
       "                               feature    mean      std stim_name stim_type\n",
       "BAC_ahpdepth             AHP_depth_abs -65.000   4.0000       BAC       BAC\n",
       "BAC_APheight                 AP_height  25.000   5.0000       BAC       BAC\n",
       "BAC_ISI                        BAC_ISI   9.901   0.8517       BAC       BAC\n",
       "BAC_caSpike_height  BAC_caSpike_height   6.730   2.5400       BAC       BAC\n",
       "BAC_caSpike_width    BAC_caSpike_width  37.430   1.2700       BAC       BAC\n",
       "BAC_spikecount              Spikecount   3.000   0.0100       BAC       BAC\n",
       "bAP_spikecount              Spikecount   1.000   0.0100       bAP       bAP\n",
       "bAP_APheight                 AP_height  25.000   5.0000       bAP       bAP\n",
       "bAP_APwidth                   AP_width   2.000   0.5000       bAP       bAP\n",
       "bAP_att2                      BPAPatt2  45.000  10.0000       bAP       bAP\n",
       "bAP_att3                      BPAPatt3  36.000   9.3300       bAP       bAP"
      ]
     },
     "execution_count": 12,
     "metadata": {},
     "output_type": "execute_result"
    }
   ],
   "source": [
    "from biophysics_fitting.hay_complete_default_setup import get_hay_problem_description\n",
    "empirical_data = get_hay_problem_description()\n",
    "empirical_data = empirical_data[empirical_data['objective'] \\\n",
    "                                .isin(objectives.columns)] \\\n",
    "                                .set_index(\"objective\") \\\n",
    "                                .loc[objectives.columns]\n",
    "print(\"Empirical distribution for physiology objectives\")\n",
    "empirical_data"
   ]
  },
  {
   "cell_type": "markdown",
   "metadata": {},
   "source": [
    "So $250\\ \\sigma$ is obviously quite far away from the empirical data. Then again, the model did not run for very long.\n",
    "In general, the initial models proposed by the evolutionary algorithm do not do reproduce empirically observed responses, and are quite far off. It takes a lot more than an offspring size of $10$ and a single generation to get close to a model that reproduces empirically observed responses.\n",
    "\n",
    "To finalize the optimization, let's see how many of the objectives got close to the empirical mean."
   ]
  },
  {
   "cell_type": "code",
   "execution_count": 13,
   "metadata": {},
   "outputs": [
    {
     "data": {
      "text/plain": [
       "Text(0.5, 0, 'amount of $\\\\sigma$ from empirical mean')"
      ]
     },
     "execution_count": 13,
     "metadata": {},
     "output_type": "execute_result"
    },
    {
     "data": {
      "image/png": "[encoded data removed]",
      "text/plain": [
       "<Figure size 640x480 with 1 Axes>"
      ]
     },
     "metadata": {},
     "output_type": "display_data"
    }
   ],
   "source": [
    "%matplotlib inline\n",
    "I.plt.style.use(\"fivethirtyeight\")\n",
    "diff = (objectives - empirical_data['mean']) / empirical_data[\"std\"]\n",
    "ax = diff.plot.box(vert=False)\n",
    "ax.set_xscale('log')\n",
    "ax.set_xlabel(\"amount of $\\sigma$ from empirical mean\")"
   ]
  },
  {
   "cell_type": "markdown",
   "metadata": {},
   "source": [
    "See [the previous tutorial](./1.2%20Evaluation.ipynb) for more information on how to evaluate biophysically detailed single-cell models."
   ]
  },
  {
   "cell_type": "markdown",
   "metadata": {},
   "source": [
    "## Exploration from seedpoint\n",
    "\n",
    "Assuming that we have a biophysical model that performs well on **all** objectives, it is possible to continuously make variations on the biophysical parameters while keeping the objectives in-distribution.\n",
    "\n",
    "This is conveniently packaged in [`biophysics_fitting.exploration_from_seedpoint`](../../../biophysics_fitting/exploration_from_seedpoint/__init__.py)."
   ]
  },
  {
   "cell_type": "code",
   "execution_count": 14,
   "metadata": {},
   "outputs": [],
   "source": [
    "if not I.os.path.exists(I.os.path.join(db[\"89\"].basedir, 'RW_exploration_example')):\n",
    "    db[\"89\"].create_managed_folder('RW_exploration_example')"
   ]
  },
  {
   "cell_type": "markdown",
   "metadata": {},
   "source": [
    "We provide some working models for this morphology below. "
   ]
  },
  {
   "cell_type": "code",
   "execution_count": 15,
   "metadata": {},
   "outputs": [
    {
     "ename": "KeyError",
     "evalue": "\"Key example_models not found in keys of db. Keys found: ('89',)\"",
     "output_type": "error",
     "traceback": [
      "\u001b[0;31m---------------------------------------------------------------------------\u001b[0m",
      "\u001b[0;31mKeyError\u001b[0m                                  Traceback (most recent call last)",
      "Cell \u001b[0;32mIn[15], line 1\u001b[0m\n\u001b[0;32m----> 1\u001b[0m \u001b[43mdb\u001b[49m\u001b[43m[\u001b[49m\u001b[38;5;124;43m\"\u001b[39;49m\u001b[38;5;124;43mexample_models\u001b[39;49m\u001b[38;5;124;43m\"\u001b[39;49m\u001b[43m]\u001b[49m\n",
      "File \u001b[0;32m/gpfs/soma_fs/scratch/meulemeester/project_src/in_silico_framework/data_base/isf_data_base/isf_data_base.py:962\u001b[0m, in \u001b[0;36mISFDataBase.__getitem__\u001b[0;34m(self, key)\u001b[0m\n\u001b[1;32m    948\u001b[0m \u001b[38;5;28;01mdef\u001b[39;00m \u001b[38;5;21m__getitem__\u001b[39m(\u001b[38;5;28mself\u001b[39m, key):\n\u001b[1;32m    949\u001b[0m \u001b[38;5;250m    \u001b[39m\u001b[38;5;124;03m\"\"\"Get an item from the database.\u001b[39;00m\n\u001b[1;32m    950\u001b[0m \u001b[38;5;124;03m    \u001b[39;00m\n\u001b[1;32m    951\u001b[0m \u001b[38;5;124;03m    This method is called when you use the square bracket notation to get an item from the database.\u001b[39;00m\n\u001b[0;32m   (...)\u001b[0m\n\u001b[1;32m    960\u001b[0m \u001b[38;5;124;03m        :py:meth:`~data_base.isf_data_base.ISFDataBase.get`\u001b[39;00m\n\u001b[1;32m    961\u001b[0m \u001b[38;5;124;03m    \"\"\"\u001b[39;00m\n\u001b[0;32m--> 962\u001b[0m     \u001b[38;5;28;01mreturn\u001b[39;00m \u001b[38;5;28;43mself\u001b[39;49m\u001b[38;5;241;43m.\u001b[39;49m\u001b[43mget\u001b[49m\u001b[43m(\u001b[49m\u001b[43mkey\u001b[49m\u001b[43m)\u001b[49m\n",
      "File \u001b[0;32m/gpfs/soma_fs/scratch/meulemeester/project_src/in_silico_framework/data_base/isf_data_base/isf_data_base.py:735\u001b[0m, in \u001b[0;36mISFDataBase.get\u001b[0;34m(self, key, lock, **kwargs)\u001b[0m\n\u001b[1;32m    733\u001b[0m key \u001b[38;5;241m=\u001b[39m \u001b[38;5;28mself\u001b[39m\u001b[38;5;241m.\u001b[39m_convert_key_to_path(key)\n\u001b[1;32m    734\u001b[0m \u001b[38;5;28;01mif\u001b[39;00m \u001b[38;5;129;01mnot\u001b[39;00m Path\u001b[38;5;241m.\u001b[39mexists(key):\n\u001b[0;32m--> 735\u001b[0m     \u001b[38;5;28;01mraise\u001b[39;00m \u001b[38;5;167;01mKeyError\u001b[39;00m(\u001b[38;5;124m\"\u001b[39m\u001b[38;5;124mKey \u001b[39m\u001b[38;5;132;01m{}\u001b[39;00m\u001b[38;5;124m not found in keys of db. Keys found: \u001b[39m\u001b[38;5;132;01m{}\u001b[39;00m\u001b[38;5;124m\"\u001b[39m\u001b[38;5;241m.\u001b[39mformat(key\u001b[38;5;241m.\u001b[39mname, \u001b[38;5;28mself\u001b[39m\u001b[38;5;241m.\u001b[39mkeys()))\n\u001b[1;32m    736\u001b[0m \u001b[38;5;28;01mif\u001b[39;00m Path\u001b[38;5;241m.\u001b[39mexists(key\u001b[38;5;241m/\u001b[39m\u001b[38;5;124m'\u001b[39m\u001b[38;5;124mdb\u001b[39m\u001b[38;5;124m'\u001b[39m):\n\u001b[1;32m    737\u001b[0m     \u001b[38;5;66;03m# The key is a sub_db\u001b[39;00m\n\u001b[1;32m    738\u001b[0m     \u001b[38;5;66;03m# inherit parent db init args if not explicitly set\u001b[39;00m\n\u001b[1;32m    739\u001b[0m     kwargs[\u001b[38;5;124m'\u001b[39m\u001b[38;5;124mreadonly\u001b[39m\u001b[38;5;124m'\u001b[39m] \u001b[38;5;241m=\u001b[39m kwargs\u001b[38;5;241m.\u001b[39mget(\u001b[38;5;124m'\u001b[39m\u001b[38;5;124mreadonly\u001b[39m\u001b[38;5;124m'\u001b[39m, \u001b[38;5;28mself\u001b[39m\u001b[38;5;241m.\u001b[39mreadonly)\n",
      "\u001b[0;31mKeyError\u001b[0m: \"Key example_models not found in keys of db. Keys found: ('89',)\""
     ]
    }
   ],
   "source": [
    "db[\"example_models\"]"
   ]
  },
  {
   "cell_type": "markdown",
   "metadata": {},
   "source": [
    "### Setup the random walk exploration\n",
    "\n",
    "there are many different kinds of exploration one could do. We will simply use a random walk, as it has proven to be both efficient and capable of broadly sampling the bipohysical parameter space."
   ]
  },
  {
   "cell_type": "code",
   "execution_count": null,
   "metadata": {},
   "outputs": [],
   "source": [
    "evaluator = db[\"89\"][\"get_Evaluator\"](db['89'])\n",
    "simulator = db[\"89\"][\"get_Simulator\"](db['89'])\n",
    "biophysical_parameter_ranges = db['89']['params']\n",
    "example_models = db['example_models']\n",
    "biophysical_parameter_names = [e for e in example_models.columns if \"ephys\" in e or e == \"scale_apical.scale\"]"
   ]
  },
  {
   "cell_type": "code",
   "execution_count": null,
   "metadata": {},
   "outputs": [],
   "source": [
    "from biophysics_fitting.exploration_from_seedpoint.RW import RW\n",
    "from biophysics_fitting.exploration_from_seedpoint.utils import evaluation_function_incremental_helper\n",
    "from biophysics_fitting.hay_evaluation import hay_evaluate_bAP, hay_evaluate_BAC\n",
    "\n",
    "evaluation_function = I.partial(\n",
    "    evaluation_function_incremental_helper,  # this incremental helper stops the evaluation as soon as a stimulus protocol doesn't work.\n",
    "    s=simulator,\n",
    "    e=evaluator,\n",
    "    stim_order=['bAP', 'BAC']\n",
    ")\n",
    "\n",
    "rw = RW(\n",
    "    param_ranges = biophysical_parameter_ranges,\n",
    "    df_seeds = example_models[biophysical_parameter_names],\n",
    "    evaluation_function = evaluation_function,\n",
    "    MAIN_DIRECTORY = db[\"89\"]['RW_exploration_example'],\n",
    "    min_step_size = 0.02,\n",
    "    max_step_size = 0.02,\n",
    "    checkpoint_every = 1  # This is a lot of IO. Increase this value if you are not merely doing an example.\n",
    ")"
   ]
  },
  {
   "cell_type": "markdown",
   "metadata": {},
   "source": [
    "### Run the exploration algorithm\n",
    "\n",
    "Let's run this for 20 seconds. You can always restart the exploration and it will pick up from where it left off. "
   ]
  },
  {
   "cell_type": "code",
   "execution_count": null,
   "metadata": {
    "scrolled": true
   },
   "outputs": [],
   "source": [
    "duration = 30  # in seconds\n",
    "\n",
    "from time import sleep\n",
    "from threading import Thread\n",
    "import multiprocessing\n",
    "\n",
    "proc = multiprocessing.Process(\n",
    "    target=rw.run_RW, \n",
    "    kwargs={\n",
    "        'selected_seedpoint': 0,\n",
    "        'particle_id': 0,\n",
    "        'seed': 42  # for numpy random seed\n",
    "    })\n",
    "\n",
    "# --- run for some time, then kill the process\n",
    "proc.start()\n",
    "sleep(duration)\n",
    "proc.terminate()  # sends a SIGTERM\n",
    "proc.join()"
   ]
  },
  {
   "cell_type": "code",
   "execution_count": null,
   "metadata": {},
   "outputs": [],
   "source": [
    "from biophysics_fitting.exploration_from_seedpoint.RW_analysis import Load\n",
    "\n",
    "outdir = db[\"89\"]['RW_exploration_example'].join('0')\n",
    "l = Load(\n",
    "    I.get_client(),\n",
    "    outdir,\n",
    "    n_particles = 1)"
   ]
  },
  {
   "cell_type": "code",
   "execution_count": null,
   "metadata": {},
   "outputs": [],
   "source": [
    "explored_models = l.get_df().compute()\n",
    "print(\"Explored {} new models\".format(len(explored_models)))"
   ]
  },
  {
   "cell_type": "markdown",
   "metadata": {},
   "source": [
    "### Inspecting the exploration results\n",
    "\n",
    "How much did the exploration actually explore? Let's plot out how much it deviated from it's starting point, relative to the total extent of parameter limits we allowed for"
   ]
  },
  {
   "cell_type": "code",
   "execution_count": null,
   "metadata": {},
   "outputs": [],
   "source": [
    "def normalize(df, mn, mx):\n",
    "    return (df - mn)/(mx-mn)\n",
    "    \n",
    "mn, mx = biophysical_parameter_ranges['min'], biophysical_parameter_ranges['max']\n",
    "normalized_startpoint = normalize(example_models.iloc[0][biophysical_parameter_names], mn, mx)\n",
    "normalized_explored_models = normalize(explored_models[biophysical_parameter_names], mn, mx)\n",
    "\n",
    "# calc exploration relative to startpoint, in % of total allowed parameter limits\n",
    "d = I.pd.concat([normalized_explored_models, I.pd.DataFrame(normalized_startpoint).T])\n",
    "d -= normalized_startpoint\n",
    "d[biophysical_parameter_names] *= 100\n",
    "d = d.melt(var_name='Biophysical parameter', value_name='Normalized value (%)')"
   ]
  },
  {
   "cell_type": "code",
   "execution_count": null,
   "metadata": {},
   "outputs": [],
   "source": [
    "I.plt.figure(figsize=(5, 10))\n",
    "\n",
    "ax = I.sns.boxplot(\n",
    "    data=d,\n",
    "    y='Biophysical parameter', x='Normalized value (%)',\n",
    "    whis=100,\n",
    "    linewidth=1,\n",
    "    showcaps = False\n",
    "   )"
   ]
  },
  {
   "cell_type": "markdown",
   "metadata": {},
   "source": [
    "Let's check what the resulting voltage traces look like"
   ]
  },
  {
   "cell_type": "code",
   "execution_count": null,
   "metadata": {},
   "outputs": [],
   "source": [
    "delayeds = [\n",
    "    I.dask.delayed(simulator.run)(p, 'BAC') \n",
    "    for _, p in explored_models[biophysical_parameter_names].iterrows()\n",
    "    ]\n",
    "f = I.get_client().compute(delayeds)"
   ]
  },
  {
   "cell_type": "code",
   "execution_count": null,
   "metadata": {},
   "outputs": [],
   "source": [
    "responses = [f_.result() for f_ in f]\n",
    "BAC_responses = [response['BAC.hay_measure'] for response in responses]"
   ]
  },
  {
   "cell_type": "code",
   "execution_count": null,
   "metadata": {},
   "outputs": [],
   "source": [
    "soma_voltages = [\n",
    "    e['vList'][0] for e in BAC_responses\n",
    "]\n",
    "dend_voltages = [\n",
    "    e['vList'][1] for e in BAC_responses\n",
    "]\n",
    "time_points = [\n",
    "    e['tVec'] for e in BAC_responses\n",
    "]"
   ]
  },
  {
   "cell_type": "code",
   "execution_count": null,
   "metadata": {},
   "outputs": [],
   "source": [
    "fig, (ax1, ax2) = I.plt.subplots(1, 2, figsize=(15, 5))\n",
    "colors = I.plt.rcParams['axes.prop_cycle'].by_key()['color']                       \n",
    "random_model = I.np.random.randint(0, len(BAC_responses))\n",
    "print(\"Highlighting model nr. {}\".format(random_model))\n",
    "\n",
    "for t, v in zip(time_points, soma_voltages):\n",
    "    ax1.plot(t, v, c=\"silver\", lw=3)\n",
    "ax1.plot(\n",
    "    time_points[random_model], \n",
    "    soma_voltages[random_model], \n",
    "    c=colors[0],\n",
    "    lw=2\n",
    "    )\n",
    "ax1.set_title(\"Soma voltage\")\n",
    "ax1.set_xlabel(\"Time (ms)\")\n",
    "ax1.set_ylabel(\"Membrane voltage (mV)\")\n",
    "\n",
    "for t, v in zip(time_points, dend_voltages ):\n",
    "    ax2.plot(t, v, c='silver', lw=3)\n",
    "ax2.plot(\n",
    "    time_points[random_model], \n",
    "    dend_voltages[random_model], \n",
    "    c=colors[1],\n",
    "    lw=2\n",
    "    )\n",
    "ax2.set_title(\"Dendritic voltage\")\n",
    "ax2.set_xlabel(\"Time (ms)\")\n",
    "I.plt.show()"
   ]
  },
  {
   "cell_type": "code",
   "execution_count": null,
   "metadata": {},
   "outputs": [],
   "source": [
    "cell, _ = simulator.get_simulated_cell(\n",
    "    explored_models[biophysical_parameter_names].iloc[random_model], \n",
    "    \"BAC\")"
   ]
  },
  {
   "cell_type": "code",
   "execution_count": null,
   "metadata": {},
   "outputs": [],
   "source": [
    "from visualize.cell_morphology_visualizer import CellMorphologyVisualizer as CMV\n",
    "\n",
    "CMV(\n",
    "    cell,\n",
    "    t_start=250,\n",
    "    t_stop=400,\n",
    "    t_step=1,\n",
    "    ).animation(\n",
    "    images_path=db.basedir+'/images',\n",
    "    color=\"voltage\",\n",
    "    client=I.get_client(),\n",
    "    show_legend=True\n",
    ")"
   ]
  }
 ],
 "metadata": {
  "kernelspec": {
   "display_name": "Python 3 (ipykernel)",
   "language": "python",
   "name": "python3"
  },
  "language_info": {
   "codemirror_mode": {
    "name": "ipython",
    "version": 3
   },
   "file_extension": ".py",
   "mimetype": "text/x-python",
   "name": "python",
   "nbconvert_exporter": "python",
   "pygments_lexer": "ipython3",
   "version": "3.8.20"
  }
 },
 "nbformat": 4,
 "nbformat_minor": 4
}
