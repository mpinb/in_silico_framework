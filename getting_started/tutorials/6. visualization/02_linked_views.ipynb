{
 "cells": [
  {
   "cell_type": "code",
   "execution_count": 4,
   "metadata": {},
   "outputs": [
    {
     "name": "stdout",
     "output_type": "stream",
     "text": [
      "/gpfs/soma_fs/scratch/abast/project_src/in_silico_framework/visualize/linked_views/defaults/config.json\n",
      "server is running at port 5005\n",
      "logs are written to /gpfs/soma_fs/scratch/abast/tmp/tmpxpamawa2/linked-views-server.log\n",
      "set data:        server.set_data(df)\n",
      "stop server:     server.stop()\n"
     ]
    }
   ],
   "source": [
    "# start linked views server\n",
    "import Interface as I\n",
    "server = I.LinkedViewsServer()\n",
    "server.start(5005)"
   ]
  },
  {
   "cell_type": "code",
   "execution_count": 5,
   "metadata": {},
   "outputs": [],
   "source": [
    "# select data for visualization\n",
    "from getting_started import getting_started_dir\n",
    "from pathlib import Path\n",
    "import vaex\n",
    "\n",
    "csv_file = Path(getting_started_dir, 'linked-views-example-data/case_study_2/simulation_samples.csv')\n",
    "df = I.pd.read_csv(csv_file) # example pandas dataframe\n",
    "vdf = vaex.from_csv(csv_file, copy_index=False) # example vaex dataframe"
   ]
  },
  {
   "cell_type": "code",
   "execution_count": 6,
   "metadata": {},
   "outputs": [],
   "source": [
    "# push data (vaex or pandas) to linked views\n",
    "server.set_data(df)"
   ]
  },
  {
   "cell_type": "code",
   "execution_count": 9,
   "metadata": {},
   "outputs": [],
   "source": [
    "# add sessions"
   ]
  },
  {
   "cell_type": "code",
   "execution_count": 8,
   "metadata": {},
   "outputs": [],
   "source": [
    "default_sessions = I.visualize.linked_views.defaults.default_sessions\n",
    "session_vaex1 = default_sessions.biophysics_fitting_vaex_1()\n",
    "session_vaex2 = default_sessions.biophysics_fitting_vaex_2()\n",
    "session_pandas = default_sessions.biophysics_fitting_pandas()\n",
    "_ = server.add_session(session_vaex1, name = 'test_vaex_1')\n",
    "_ = server.add_session(session_vaex2, name = 'test_vaex_2')\n",
    "_ = server.add_session(session_pandas, name = 'test_pandas_1')"
   ]
  },
  {
   "cell_type": "code",
   "execution_count": 11,
   "metadata": {},
   "outputs": [],
   "source": [
    "# todos:\n",
    "# check handling of nan\n",
    "# check setting dataframe that does not contain the columns specified in the session (usecase: we want to visualize a new dataframe, but get started with an already implemented session)\n",
    "# selection in scatter plots should be set\n",
    "# test selection below"
   ]
  },
  {
   "cell_type": "markdown",
   "metadata": {},
   "source": [
    "### selections"
   ]
  },
  {
   "cell_type": "markdown",
   "metadata": {},
   "source": [
    "Make selection in density plot in frontend, then compute indices of selection as below:"
   ]
  },
  {
   "cell_type": "code",
   "execution_count": 5,
   "metadata": {},
   "outputs": [
    {
     "name": "stdout",
     "output_type": "stream",
     "text": [
      "(2,)\n"
     ]
    },
    {
     "data": {
      "text/plain": [
       "array([179, 829])"
      ]
     },
     "execution_count": 5,
     "metadata": {},
     "output_type": "execute_result"
    }
   ],
   "source": [
    "df_selecedIndices = server.computeSelection()\n",
    "if(df_selecedIndices is not None):\n",
    "    print(df_selecedIndices.shape)\n",
    "df_selecedIndices"
   ]
  },
  {
   "cell_type": "markdown",
   "metadata": {},
   "source": [
    "In case of multiple density views (session 'dual-view'), press 'Apply session' to force update of selection in frontend after computing indices as above."
   ]
  },
  {
   "cell_type": "code",
   "execution_count": 5,
   "metadata": {},
   "outputs": [
    {
     "name": "stdout",
     "output_type": "stream",
     "text": [
      "density_grid_shape (100, 100)\n",
      "density_grid_shape (100, 100)\n"
     ]
    }
   ],
   "source": [
    "server.resetSelection()"
   ]
  },
  {
   "cell_type": "code",
   "execution_count": 6,
   "metadata": {},
   "outputs": [],
   "source": [
    "import pandas as pd\n",
    "\n",
    "data = {\n",
    "    'Age': [25, 30, 35, 28, 22],\n",
    "    'Salary': [50000, 60000, 75000, 55000, 48000]\n",
    "}\n",
    "\n",
    "df = pd.DataFrame(data)"
   ]
  },
  {
   "cell_type": "code",
   "execution_count": 12,
   "metadata": {},
   "outputs": [
    {
     "name": "stdout",
     "output_type": "stream",
     "text": [
      "0    False\n",
      "1    False\n",
      "2    False\n",
      "3    False\n",
      "4    False\n",
      "Name: Age, dtype: bool\n"
     ]
    },
    {
     "data": {
      "text/plain": [
       "array([], dtype=int64)"
      ]
     },
     "execution_count": 12,
     "metadata": {},
     "output_type": "execute_result"
    }
   ],
   "source": [
    "boolean_idx = df[\"Age\"].between(30,40) & df[\"Age\"].between(90,40) \n",
    "print(boolean_idx)\n",
    "df.index[boolean_idx].to_numpy(int)"
   ]
  }
 ],
 "metadata": {
  "interpreter": {
   "hash": "4c6b459f9c7d30423331c6bf5d7d90e16fd24412f0b0a5409435207237fee492"
  },
  "kernelspec": {
   "display_name": "isf_3",
   "language": "python",
   "name": "anaconda3_isf"
  },
  "language_info": {
   "codemirror_mode": {
    "name": "ipython",
    "version": 3
   },
   "file_extension": ".py",
   "mimetype": "text/x-python",
   "name": "python",
   "nbconvert_exporter": "python",
   "pygments_lexer": "ipython3",
   "version": "3.8.5"
  }
 },
 "nbformat": 4,
 "nbformat_minor": 4
}
