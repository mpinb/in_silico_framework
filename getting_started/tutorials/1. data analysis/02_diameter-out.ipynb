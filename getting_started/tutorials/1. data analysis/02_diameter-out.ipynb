{
 "cells": [
  {
   "cell_type": "markdown",
   "metadata": {},
   "source": [
    "# Diameter reconstruction\n",
    "\n",
    "Estimating diameters of image data can be challenging. In the [example data directory](../radii/data/neuron1), we provide image data of L5PTs. These neurons have a long and thick dendrite oriinating from the apiex of the soma, aptly called the \"apical\" dendrite. The slices are cut perpendicular to this dendrite, making it hard to estimate its diameter: the difference between a corkscrewing apical dendrite and a straight and thick apical dendrite is virtually indistinguishable for many conventional microscope resolutions. The other dendrites aren't necessarily easy to reconstruct with diameters either.\n",
    "\n",
    "This example notebook will guide the user through the module [dendrite_thickness](../../../dendrite_thickness/__init__.py). This module uses a rayburst algorithm to estimate the thickness of the dendrites at each location."
   ]
  },
  {
   "cell_type": "code",
   "execution_count": 1,
   "metadata": {
    "execution": {
     "iopub.execute_input": "2024-03-05T16:43:11.434687Z",
     "iopub.status.busy": "2024-03-05T16:43:11.433484Z",
     "iopub.status.idle": "2024-03-05T16:43:11.439783Z",
     "shell.execute_reply": "2024-03-05T16:43:11.438622Z"
    }
   },
   "outputs": [],
   "source": [
    "# Cell inserted during automated execution.\n",
    "timeout = 18000"
   ]
  },
  {
   "cell_type": "code",
   "execution_count": 2,
   "metadata": {
    "execution": {
     "iopub.execute_input": "2024-03-05T16:43:11.450063Z",
     "iopub.status.busy": "2024-03-05T16:43:11.449043Z",
     "iopub.status.idle": "2024-03-05T16:43:39.662104Z",
     "shell.execute_reply": "2024-03-05T16:43:39.662565Z"
    }
   },
   "outputs": [
    {
     "name": "stdout",
     "output_type": "stream",
     "text": [
      "trying to connect to distributed locking server {'config': {'hosts': 'somalogin02-hs:33333'}, 'type': 'zookeeper'}\n",
      "success!\n"
     ]
    },
    {
     "name": "stdout",
     "output_type": "stream",
     "text": [
      "[INFO] ISF: Current version: heads/publish+0.g97fe90f9.dirty\n"
     ]
    },
    {
     "name": "stdout",
     "output_type": "stream",
     "text": [
      "[INFO] ISF: Current pid: 176889\n"
     ]
    },
    {
     "name": "stderr",
     "output_type": "stream",
     "text": [
      "Warning: no DISPLAY environment variable.\n",
      "--No graphics will be displayed.\n"
     ]
    },
    {
     "name": "stdout",
     "output_type": "stream",
     "text": [
      "[WARNING] warnings: /gpfs/soma_fs/scratch/meulemeester/anaconda_isf3.8/lib/python3.8/site-packages/pandas_msgpack-0.1.4+14.gfcb0471.dirty-py3.8-linux-x86_64.egg/pandas_msgpack/packers.py:78: FutureWarning: The Panel class is removed from pandas. Accessing it from the top-level namespace will also be removed in the next version\n",
      "  from pandas import (Timestamp, Period, Series, DataFrame,  # noqa\n",
      "\n"
     ]
    },
    {
     "name": "stdout",
     "output_type": "stream",
     "text": [
      "[INFO] mechanisms: Loading mechanisms:\n"
     ]
    },
    {
     "name": "stdout",
     "output_type": "stream",
     "text": [
      "[WARNING] warnings: /gpfs/soma_fs/scratch/meulemeester/project_src/in_silico_framework/Interface.py:203: UserWarning:\n",
      "\n",
      "The source folder has uncommited changes!\n",
      "\n",
      "\n"
     ]
    },
    {
     "name": "stdout",
     "output_type": "stream",
     "text": [
      "\n",
      "\n",
      "\n",
      "[INFO] ISF: Loaded modules with __version__ attribute are:\n",
      "IPython: 8.12.3, Interface: heads/publish+0.g97fe90f9.dirty, PIL: 8.2.0, _csv: 1.0, _ctypes: 1.1.0, _curses: b'2.2', _decimal: 1.70, argparse: 1.1, attr: 20.3.0, backcall: 0.2.0, blake3: 0.3.3, blosc: 1.10.2, bluepyopt: 1.9.126, bottleneck: 1.3.2, cffi: 1.14.3, click: 7.1.2, cloudpickle: 1.6.0, colorama: 0.4.4, comm: 0.2.1, csv: 1.0, ctypes: 1.1.0, cycler: 0.10.0, cytoolz: 0.11.0, dash: 2.9.3, dask: 2.30.0, dateutil: 2.8.2, deap: 1.3, debugpy: 1.8.0, decimal: 1.70, decorator: 4.4.2, distributed: 2.30.1, distutils: 3.8.5, executing: 2.0.1, filelock: 3.0.12, flask: 1.1.2, flask_cors: 4.0.0, frozendict: 2.3.8, fsspec: 0.8.3, future: 0.18.2, gevent: 20.9.0, greenlet: 0.4.17, ipaddress: 1.0, ipykernel: 6.29.0, ipython_genutils: 0.2.0, ipywidgets: 7.5.1, itsdangerous: 1.1.0, jedi: 0.17.1, jinja2: 3.0.3, joblib: 1.3.2, json: 2.0.9, jupyter_client: 8.6.0, jupyter_core: 5.7.1, kazoo: 2.8.0, kiwisolver: 1.3.0, llvmlite: 0.34.0, logging: 0.5.1.2, markupsafe: 2.1.3, matplotlib: 3.3.2, neuron: 7.8.2, numba: 0.51.2, numexpr: 2.7.1, numpy: 1.19.2, packaging: 23.2, pandas: 1.1.3, pandas_msgpack: 0.1.4+14.gfcb0471.dirty, parameters: 0.2.1, parso: 0.7.0, past: 0.18.2, pexpect: 4.8.0, pickleshare: 0.7.5, platform: 1.0.8, platformdirs: 3.11.0, plotly: 5.17.0, prompt_toolkit: 3.0.43, psutil: 5.7.2, ptyprocess: 0.6.0, pure_eval: 0.2.2, pyarrow: 12.0.1, pydantic: 1.10.4, pydevd: 2.9.5, pygments: 2.16.1, pyparsing: 2.4.7, pytz: 2020.1, re: 2.2.1, scandir: 1.10.0, scipy: 1.5.2, seaborn: 0.11.0, six: 1.15.0, sklearn: 1.3.2, socketserver: 0.4, sortedcontainers: 2.2.2, sparse: 0.14.0, stack_data: 0.6.3, statsmodels: 0.12.0, sumatra: 0.7.4, tables: 3.6.1, tabulate: 0.9.0, tblib: 1.7.0, threadpoolctl: 2.1.0, tlz: 0.11.0, toolz: 0.11.1, traitlets: 5.14.1, vaex: {'vaex': '4.16.0', 'vaex-core': '4.16.1', 'vaex-viz': '0.5.4', 'vaex-hdf5': '0.14.1', 'vaex-server': '0.8.1', 'vaex-astro': '0.9.3', 'vaex-jupyter': '0.8.2', 'vaex-ml': '0.18.3'}, wcwidth: 0.2.5, werkzeug: 1.0.1, yaml: 5.3.1, zlib: 1.0, zmq: 25.1.2\n"
     ]
    }
   ],
   "source": [
    "import Interface as I\n",
    "\n",
    "from getting_started import getting_started_dir\n",
    "current_dir = I.os.path.join(getting_started_dir, \"tutorials\", \"1. data analysis\")\n",
    "DATA_DIR = I.os.path.join(getting_started_dir, \"radii\", \"data\", \"neuron1\")\n",
    "\n",
    "am_folder_path = I.os.path.join(DATA_DIR, 'am')\n",
    "tif_folder_path = I.os.path.join(DATA_DIR, 'tif', 'max_z_projections')\n",
    "hoc_file_path = I.os.path.join(DATA_DIR, 'hoc', '500_GP_WR639_cell_1547_SP5C_checked_RE.hoc')\n",
    "output_folder_path = I.os.path.join(DATA_DIR, 'output')\n",
    "bijective_points_path = I.os.path.join(DATA_DIR, 'landmark', 'am2_transformed_landmark.landmarkAscii')"
   ]
  },
  {
   "cell_type": "markdown",
   "metadata": {},
   "source": [
    "# Image data\n",
    "\n",
    "Let's start by loading in some image scan from the microscope and see what it looks like."
   ]
  },
  {
   "cell_type": "code",
   "execution_count": 3,
   "metadata": {
    "execution": {
     "iopub.execute_input": "2024-03-05T16:43:39.667920Z",
     "iopub.status.busy": "2024-03-05T16:43:39.667512Z",
     "iopub.status.idle": "2024-03-05T16:43:39.670651Z",
     "shell.execute_reply": "2024-03-05T16:43:39.671059Z"
    }
   },
   "outputs": [],
   "source": [
    "import glob\n",
    "image_paths = glob.glob(I.os.path.join(tif_folder_path, '*.tif'))"
   ]
  },
  {
   "cell_type": "code",
   "execution_count": 4,
   "metadata": {
    "execution": {
     "iopub.execute_input": "2024-03-05T16:43:39.676591Z",
     "iopub.status.busy": "2024-03-05T16:43:39.676181Z",
     "iopub.status.idle": "2024-03-05T16:43:39.678963Z",
     "shell.execute_reply": "2024-03-05T16:43:39.678552Z"
    }
   },
   "outputs": [],
   "source": [
    "def downsample(img, factor):\n",
    "    x, y = I.np.shape(img)\n",
    "    cut_x, cut_y = x % factor, y % factor\n",
    "    if cut_x:\n",
    "        img = img[:-cut_x]\n",
    "    if cut_y:\n",
    "        img = img[:,:-cut_y]\n",
    "    small_image = img.reshape(\n",
    "        (x//factor, factor, y//factor, factor)).max(3).max(1)\n",
    "    return small_image"
   ]
  },
  {
   "cell_type": "code",
   "execution_count": 5,
   "metadata": {
    "execution": {
     "iopub.execute_input": "2024-03-05T16:43:39.683380Z",
     "iopub.status.busy": "2024-03-05T16:43:39.682941Z",
     "iopub.status.idle": "2024-03-05T16:43:40.176353Z",
     "shell.execute_reply": "2024-03-05T16:43:40.175123Z"
    }
   },
   "outputs": [
    {
     "data": {
      "text/plain": [
       "<matplotlib.image.AxesImage at 0x2b7f39575c40>"
      ]
     },
     "execution_count": 1,
     "metadata": {},
     "output_type": "execute_result"
    }
   ],
   "source": [
    "from PIL import Image\n",
    "downsample_factor = 10  # downsample by quite a lot for image stack\n",
    "downsampled_image = downsample(I.np.array(Image.open(image_paths[20])), factor=downsample_factor)\n",
    "I.plt.matshow(downsampled_image, cmap=\"Greys_r\")"
   ]
  },
  {
   "cell_type": "markdown",
   "metadata": {},
   "source": [
    "What does the entire image stack look like?"
   ]
  },
  {
   "cell_type": "code",
   "execution_count": 6,
   "metadata": {
    "execution": {
     "iopub.execute_input": "2024-03-05T16:43:40.188794Z",
     "iopub.status.busy": "2024-03-05T16:43:40.187604Z",
     "iopub.status.idle": "2024-03-05T16:43:41.975064Z",
     "shell.execute_reply": "2024-03-05T16:43:41.975741Z"
    }
   },
   "outputs": [],
   "source": [
    "from skimage import io\n",
    "import plotly.graph_objects as go\n",
    "\n",
    "def get_image_stack_animation(image_paths, z_coordinates, title=''):\n",
    "    \"\"\"\n",
    "    Given an array of image paths and z coordinates, construct a plotly.Figure() object that you can slide through\n",
    "    based on: https://plotly.com/python/visualizing-mri-volume-slices/ \n",
    "    by Emilia Petrisor\n",
    "        X: @mathinpython\n",
    "        Github: empet\n",
    "    \n",
    "    Args:\n",
    "        image_paths ([str]): array of image paths\n",
    "        z_coordinates ([float|int]): array of z coordinates\n",
    "    \"\"\"\n",
    "    vol = [downsample(io.imread(image), 10) for image in image_paths]\n",
    "    zs = [float(e.split(I.os.sep)[-1][1:3]) for e in image_paths]\n",
    "    r, c = vol[0].shape\n",
    "    nb_frames = len(vol)\n",
    "\n",
    "    fig = go.Figure(\n",
    "        frames=[go.Frame(\n",
    "            data=go.Surface(\n",
    "                z=zs[k] * I.np.ones((r, c)),\n",
    "                surfacecolor=I.np.flipud(vol[nb_frames - k - 1])),\n",
    "            name=str(k))\n",
    "        for k in range(nb_frames)])\n",
    "\n",
    "    # Add data to be displayed before animation starts\n",
    "    fig.add_trace(go.Surface(\n",
    "        z=zs[0] * I.np.ones((r, c)),\n",
    "        surfacecolor=I.np.flipud(vol[0]),\n",
    "        colorscale='Greys_r',\n",
    "        colorbar=dict(thickness=20, ticklen=4)))\n",
    "\n",
    "\n",
    "    def frame_args(duration):\n",
    "        return {\n",
    "                \"frame\": {\"duration\": duration},\n",
    "                \"mode\": \"immediate\",\n",
    "                \"fromcurrent\": True,\n",
    "                \"transition\": {\"duration\": duration, \"easing\": \"linear\"}}\n",
    "\n",
    "    sliders = [\n",
    "                {\n",
    "                    \"pad\": {\"b\": 10, \"t\": 60},\n",
    "                    \"len\": 0.9,\n",
    "                    \"x\": 0.1,\n",
    "                    \"y\": 0,\n",
    "                    \"steps\": [\n",
    "                        {\n",
    "                            \"args\": [[f.name], frame_args(0)],\n",
    "                            \"label\": str(k),\n",
    "                            \"method\": \"animate\",\n",
    "                        } for k, f in enumerate(fig.frames)]}]\n",
    "\n",
    "    # Layout\n",
    "    fig.update_layout(\n",
    "             title=title,\n",
    "             width=600,\n",
    "             height=600,\n",
    "             scene=dict(\n",
    "                        zaxis=dict(range=[min(zs), max(zs)], autorange=False),\n",
    "                        aspectratio=dict(x=1, y=1, z=1)),\n",
    "             updatemenus = [\n",
    "                {\n",
    "                    \"buttons\": [\n",
    "                        {\n",
    "                            \"args\": [None, frame_args(50)],\n",
    "                            \"label\": \"&#9654;\", # play symbol\n",
    "                            \"method\": \"animate\"},\n",
    "                        {\n",
    "                            \"args\": [[None], frame_args(0)],\n",
    "                            \"label\": \"&#9724;\", # pause symbol\n",
    "                            \"method\": \"animate\"}],\n",
    "                    \"direction\": \"left\",\n",
    "                    \"pad\": {\"r\": 10, \"t\": 70},\n",
    "                    \"type\": \"buttons\",\n",
    "                    \"x\": 0.1,\n",
    "                    \"y\": 0}],\n",
    "             sliders=sliders)\n",
    "    return fig"
   ]
  },
  {
   "cell_type": "code",
   "execution_count": 7,
   "metadata": {
    "execution": {
     "iopub.execute_input": "2024-03-05T16:43:41.986160Z",
     "iopub.status.busy": "2024-03-05T16:43:41.985572Z",
     "iopub.status.idle": "2024-03-05T16:43:55.863825Z",
     "shell.execute_reply": "2024-03-05T16:43:55.865038Z"
    }
   },
   "outputs": [],
   "source": [
    "%matplotlib inline\n",
    "image_paths.sort()\n",
    "cut_heights = [float(e.split(I.os.sep)[-1][1:3]) for e in image_paths]  # image paths begin with Sxx, where xx is the z-co\n",
    "\n",
    "fig_slider = get_image_stack_animation(\n",
    "    image_paths=image_paths, \n",
    "    z_coordinates=cut_heights,\n",
    "    title='Z-projected images of $50 \\mu m$ thick Wistar rat barrel cortex slices')\n",
    "fig_slider.write_html(I.os.path.join(current_dir, 'static', 'slices.html'), auto_open=True)"
   ]
  },
  {
   "cell_type": "markdown",
   "metadata": {},
   "source": [
    " This writes out a `.html` file that you can open in your browser, or a separate tab in Jupyter Lab. Depending on which program you're running, you can also render it inline in the notebook, although you may have to override the default plotly renderer for that. Check available renderers with:"
   ]
  },
  {
   "cell_type": "code",
   "execution_count": 8,
   "metadata": {
    "execution": {
     "iopub.execute_input": "2024-03-05T16:43:55.874478Z",
     "iopub.status.busy": "2024-03-05T16:43:55.873422Z",
     "iopub.status.idle": "2024-03-05T16:43:56.018998Z",
     "shell.execute_reply": "2024-03-05T16:43:56.017769Z"
    }
   },
   "outputs": [
    {
     "data": {
      "text/plain": [
       "Renderers configuration\n",
       "-----------------------\n",
       "    Default renderer: 'plotly_mimetype+notebook'\n",
       "    Available renderers:\n",
       "        ['plotly_mimetype', 'jupyterlab', 'nteract', 'vscode',\n",
       "         'notebook', 'notebook_connected', 'kaggle', 'azure', 'colab',\n",
       "         'cocalc', 'databricks', 'json', 'png', 'jpeg', 'jpg', 'svg',\n",
       "         'pdf', 'browser', 'firefox', 'chrome', 'chromium', 'iframe',\n",
       "         'iframe_connected', 'sphinx_gallery', 'sphinx_gallery_png']"
      ]
     },
     "execution_count": 1,
     "metadata": {},
     "output_type": "execute_result"
    }
   ],
   "source": [
    "import plotly.io as pio\n",
    "pio.renderers"
   ]
  },
  {
   "cell_type": "markdown",
   "metadata": {},
   "source": [
    "We created this notebook with the Jupyter server running on a remote machine, so the renderer is set to \"iframe_connected\". You should adapt this value depending on your Jupyter setup, and IDE (if you're using one)."
   ]
  },
  {
   "cell_type": "code",
   "execution_count": 9,
   "metadata": {
    "execution": {
     "iopub.execute_input": "2024-03-05T16:43:56.024288Z",
     "iopub.status.busy": "2024-03-05T16:43:56.023107Z",
     "iopub.status.idle": "2024-03-05T16:43:56.025723Z",
     "shell.execute_reply": "2024-03-05T16:43:56.026648Z"
    }
   },
   "outputs": [],
   "source": [
    "plotly_renderer = \"iframe_connected\""
   ]
  },
  {
   "cell_type": "code",
   "execution_count": 10,
   "metadata": {
    "execution": {
     "iopub.execute_input": "2024-03-05T16:43:56.031340Z",
     "iopub.status.busy": "2024-03-05T16:43:56.030229Z",
     "iopub.status.idle": "2024-03-05T16:43:59.426800Z",
     "shell.execute_reply": "2024-03-05T16:43:59.426175Z"
    }
   },
   "outputs": [
    {
     "data": {
      "text/html": [
       "<iframe\n",
       "    scrolling=\"no\"\n",
       "    width=\"620px\"\n",
       "    height=\"620\"\n",
       "    src=\"iframe_figures/figure_47.html\"\n",
       "    frameborder=\"0\"\n",
       "    allowfullscreen\n",
       "></iframe>\n"
      ]
     },
     "metadata": {},
     "output_type": "display_data"
    }
   ],
   "source": [
    "# iframe_connected is recommended if your jupyter server is\n",
    "# not running on the same machine as the program rendering the data\n",
    "fig_slider.show(renderer=plotly_renderer)"
   ]
  },
  {
   "cell_type": "markdown",
   "metadata": {},
   "source": [
    "# Imaged slices to morphological reconstruction \n",
    "\n",
    "Making a morphological reconstruction from this slice data can be done in two consecutive processes:\n",
    "1. Creating a skeleton of connected dendrites form the slice data\n",
    "2. Assigning diameters to this skeletonized reconstruction\n",
    "\n",
    "The entire pipeline that takes care of both these processes is conveniently bundled under [`thickness.pipeline`](../../../dendrite_thickness/thickness/pipeline.py)\n",
    "\n",
    "We will first run the pipeline in its entirety, and then highlight key steps and how they work one by one."
   ]
  },
  {
   "cell_type": "markdown",
   "metadata": {},
   "source": [
    "## 1. Image slice to skeleton\n",
    "\n",
    "There is a variety of deprojection algorithms that take in a 2D image and deproject it onto a skeleton. We used the Amira extension \"The Filament Editor\" [(Dercksen et al., 2014)](https://link.springer.com/article/10.1007/s12021-013-9213-2#citeas).\n",
    "\n",
    "<center><img src=./static/Dercksen.webp></center>\n",
    "\n",
    "Connecting edges at a branching point. **a** Axonal fragments (black arrow), whose 3D configuration is difficult to identify from the 2D MIP. **b** Even when displaying the position labels, the correct configuration remains ambiguous in 2D. **c** Rotation of the camera immediately reveals the three-dimensional configuration of the fragments. **d** After splicing axonal fragments (magenta segments) and removal of false segmentation results, branches may have to be connected at branching points (one such point is indicated by the arrow). **e** Close-up of the region pointed at by the arrow in d. Nodes are displayed as circles, edge points as small squares. The edge point to be turned into a branching node and the terminal node of the upper edge are selected and (**f**) spliced, resulting in a point-to-node conversion and a new edge connecting the selected node with the new branching node. **g** The reconstruction result superimposed onto the MIP, and (**h**) viewed in 3D. Image and caption taken from [(Dercksen et al., 2014)](https://link.springer.com/article/10.1007/s12021-013-9213-2#citeas)."
   ]
  },
  {
   "cell_type": "markdown",
   "metadata": {},
   "source": [
    "## 2. Skeleton to morphology reconstruction\n",
    "\n",
    "The aforementioned methods output a skeleton of a neuron. The next challenge is now to assign dendrite diameters to this skeleton. To do this, we use a rayburst algorithm. This algorithm:\n",
    "1. Iterates over pixels that belong to the neuron in each slice\n",
    "2. Finds the nearest brightest pixel, taken to be a referene point in the neuronal structure in the slice\n",
    "3. Draws various brightness profiles in all directions\n",
    "4. Calculates the least wide brightness profile. This width is then taken to be the diameter of the structure at that pixel.\n",
    "\n",
    "We will illustrate this algorithm by first running the entire pipeline on all slices"
   ]
  },
  {
   "cell_type": "code",
   "execution_count": 11,
   "metadata": {
    "execution": {
     "iopub.execute_input": "2024-03-05T16:43:59.431424Z",
     "iopub.status.busy": "2024-03-05T16:43:59.430882Z",
     "iopub.status.idle": "2024-03-05T16:44:01.480296Z",
     "shell.execute_reply": "2024-03-05T16:44:01.481130Z"
    }
   },
   "outputs": [
    {
     "name": "stdout",
     "output_type": "stream",
     "text": [
      "Reading hoc file /gpfs/soma_fs/scratch/meulemeester/project_src/in_silico_framework/getting_started/radii/data/neuron1/hoc/500_GP_WR639_cell_1547_SP5C_checked_RE.hoc\n"
     ]
    },
    {
     "name": "stdout",
     "output_type": "stream",
     "text": [
      "<Client: 'tcp://10.102.2.13:38786' processes=24 threads=24, memory=2.36 TB>\n"
     ]
    }
   ],
   "source": [
    "from dendrite_thickness.thickness import pipeline\n",
    "\n",
    "# setup the thicnkess pipeline\n",
    "p = pipeline.ExtractThicknessPipeline()\n",
    "p.set_output_path(output_folder_path)\n",
    "p.set_am_paths_by_folder(am_folder_path)  # These amira paths have auto-identified landmarks\n",
    "p.set_tif_paths_by_folder(tif_folder_path)  # slice images\n",
    "p.set_hoc_file(hoc_file_path)  # skeletonized .hoc file\n",
    "p.set_am_to_hoc_transformation_by_landmarkAscii(bijective_points_path)  # not required\n",
    "p.set_client_for_parallelization(client=I.get_client())"
   ]
  },
  {
   "cell_type": "code",
   "execution_count": 12,
   "metadata": {
    "execution": {
     "iopub.execute_input": "2024-03-05T16:44:01.486882Z",
     "iopub.status.busy": "2024-03-05T16:44:01.486121Z",
     "iopub.status.idle": "2024-03-05T18:51:18.766992Z",
     "shell.execute_reply": "2024-03-05T18:51:18.767569Z"
    }
   },
   "outputs": [
    {
     "name": "stdout",
     "output_type": "stream",
     "text": [
      "---- initialize project ----\n",
      "---- setup slice objects ----\n",
      "In threshold: 0.5\n",
      "--------\n",
      "Setting up slice:S36_final_downsampled_dendrites_done_zScale_40_aligned_ascii.am\n"
     ]
    },
    {
     "name": "stdout",
     "output_type": "stream",
     "text": [
      "--------\n",
      "Setting up slice:S31_final_done_Alison_zScale_40.am\n"
     ]
    },
    {
     "name": "stdout",
     "output_type": "stream",
     "text": [
      "--------\n",
      "Setting up slice:S32_final_done_Alison_zScale_40.am\n",
      "--------\n",
      "Setting up slice:S12_final_done_zScale_40.am\n",
      "--------\n",
      "Setting up slice:S35_final_downsampled_dendrites_done_zScale_40_aligned_ascii.am\n"
     ]
    },
    {
     "name": "stdout",
     "output_type": "stream",
     "text": [
      "--------\n",
      "Setting up slice:S14_final_done_Alison_zScale_40.am\n",
      "--------\n",
      "Setting up slice:S26_final_done_Alison_zScale_40.am\n"
     ]
    },
    {
     "name": "stdout",
     "output_type": "stream",
     "text": [
      "--------\n",
      "Setting up slice:S22_final_done_Alison_zScale_40.am\n",
      "--------\n",
      "Setting up slice:S25_final_done_Alison_zScale_40.am\n"
     ]
    },
    {
     "name": "stdout",
     "output_type": "stream",
     "text": [
      "--------\n",
      "Setting up slice:S17_final_done_Alison_zScale_40.am\n",
      "--------\n",
      "Setting up slice:S18_final_done_Alison_zScale_40.am\n",
      "--------\n",
      "Setting up slice:S34_final_downsampled_dendrites_done_zScale_40_ascii.am\n",
      "--------\n",
      "Setting up slice:S35_final_downsampled_dendrites_done_zScale_40_ascii.am\n",
      "--------\n",
      "Setting up slice:S21_final_done_Alison_zScale_40.am\n",
      "--------\n",
      "Setting up slice:S27_final_done_Alison_zScale_40.am\n",
      "--------\n",
      "Setting up slice:S30_final_done_Alison_zScale_40.am\n"
     ]
    },
    {
     "name": "stdout",
     "output_type": "stream",
     "text": [
      "--------\n",
      "Setting up slice:S29_final_done_Alison_zScale_40.am\n",
      "--------\n",
      "Setting up slice:S16_final_done_Alison_zScale_40.am\n",
      "--------\n",
      "Setting up slice:S20_final_done_Alison_zScale_40.am\n",
      "--------\n",
      "Setting up slice:S11_final_done_zScale_40.am\n",
      "--------\n",
      "Setting up slice:S23_final_done_Alison_zScale_40.am\n"
     ]
    },
    {
     "name": "stdout",
     "output_type": "stream",
     "text": [
      "--------\n",
      "Setting up slice:S34_final_downsampled_dendrites_done_zScale_40_aligned_ascii.am\n",
      "--------\n",
      "Setting up slice:S28_final_done_Alison_zScale_40.am\n",
      "--------\n",
      "Setting up slice:S33_final_done_Alison_zScale_40.am\n",
      "--------\n",
      "Setting up slice:S15_final_done_Alison_zScale_40.am\n",
      "--------\n",
      "Setting up slice:S36_final_downsampled_dendrites_done_zScale_40_ascii.am\n",
      "--------\n",
      "Setting up slice:S19_final_done_Alison_zScale_40.am\n",
      "--------\n",
      "Setting up slice:S24_final_done_Alison_zScale_40.am\n"
     ]
    },
    {
     "name": "stdout",
     "output_type": "stream",
     "text": [
      "--------\n",
      "Setting up slice:S13_final_done_Alison_zScale_40.am\n",
      "---- extract thicknesses ----\n"
     ]
    },
    {
     "name": "stdout",
     "output_type": "stream",
     "text": [
      "---- update slice objects with future values ----\n",
      "---- write am outputs ----\n"
     ]
    },
    {
     "name": "stdout",
     "output_type": "stream",
     "text": [
      "---- transform am_points ----\n"
     ]
    },
    {
     "name": "stdout",
     "output_type": "stream",
     "text": [
      "---- stacking all slices ----\n",
      "Number of all am_points: 101717\n",
      "---- update hoc file with thicknesses ----\n"
     ]
    },
    {
     "name": "stdout",
     "output_type": "stream",
     "text": [
      "time:0.6542885303497314\n",
      "point 1from 13101\n",
      "------------\n"
     ]
    },
    {
     "name": "stdout",
     "output_type": "stream",
     "text": [
      "time:0.6575462818145752\n",
      "point 101from 13101\n",
      "------------\n"
     ]
    },
    {
     "name": "stdout",
     "output_type": "stream",
     "text": [
      "time:0.6599884033203125\n",
      "point 201from 13101\n",
      "------------\n"
     ]
    },
    {
     "name": "stdout",
     "output_type": "stream",
     "text": [
      "time:0.650827169418335\n",
      "point 301from 13101\n",
      "------------\n"
     ]
    },
    {
     "name": "stdout",
     "output_type": "stream",
     "text": [
      "time:0.6574826240539551\n",
      "point 401from 13101\n",
      "------------\n"
     ]
    },
    {
     "name": "stdout",
     "output_type": "stream",
     "text": [
      "time:0.6571791172027588\n",
      "point 501from 13101\n",
      "------------\n"
     ]
    },
    {
     "name": "stdout",
     "output_type": "stream",
     "text": [
      "time:0.6535308361053467\n",
      "point 601from 13101\n",
      "------------\n"
     ]
    },
    {
     "name": "stdout",
     "output_type": "stream",
     "text": [
      "time:0.6521742343902588\n",
      "point 701from 13101\n",
      "------------\n"
     ]
    },
    {
     "name": "stdout",
     "output_type": "stream",
     "text": [
      "time:0.6506881713867188\n",
      "point 801from 13101\n",
      "------------\n"
     ]
    },
    {
     "name": "stdout",
     "output_type": "stream",
     "text": [
      "time:0.654329776763916\n",
      "point 901from 13101\n",
      "------------\n"
     ]
    },
    {
     "name": "stdout",
     "output_type": "stream",
     "text": [
      "time:0.6553092002868652\n",
      "point 1001from 13101\n",
      "------------\n"
     ]
    },
    {
     "name": "stdout",
     "output_type": "stream",
     "text": [
      "time:0.6530764102935791\n",
      "point 1101from 13101\n",
      "------------\n"
     ]
    },
    {
     "name": "stdout",
     "output_type": "stream",
     "text": [
      "time:0.6528403759002686\n",
      "point 1201from 13101\n",
      "------------\n"
     ]
    },
    {
     "name": "stdout",
     "output_type": "stream",
     "text": [
      "time:0.656224250793457\n",
      "point 1301from 13101\n",
      "------------\n"
     ]
    },
    {
     "name": "stdout",
     "output_type": "stream",
     "text": [
      "time:0.653179407119751\n",
      "point 1401from 13101\n",
      "------------\n"
     ]
    },
    {
     "name": "stdout",
     "output_type": "stream",
     "text": [
      "time:0.6522276401519775\n",
      "point 1501from 13101\n",
      "------------\n"
     ]
    },
    {
     "name": "stdout",
     "output_type": "stream",
     "text": [
      "time:0.6577713489532471\n",
      "point 1601from 13101\n",
      "------------\n"
     ]
    },
    {
     "name": "stdout",
     "output_type": "stream",
     "text": [
      "time:0.6512453556060791\n",
      "point 1701from 13101\n",
      "------------\n"
     ]
    },
    {
     "name": "stdout",
     "output_type": "stream",
     "text": [
      "time:0.6513113975524902\n",
      "point 1801from 13101\n",
      "------------\n"
     ]
    },
    {
     "name": "stdout",
     "output_type": "stream",
     "text": [
      "time:0.6523697376251221\n",
      "point 1901from 13101\n",
      "------------\n"
     ]
    },
    {
     "name": "stdout",
     "output_type": "stream",
     "text": [
      "time:0.6520938873291016\n",
      "point 2001from 13101\n",
      "------------\n"
     ]
    },
    {
     "name": "stdout",
     "output_type": "stream",
     "text": [
      "time:0.6549832820892334\n",
      "point 2101from 13101\n",
      "------------\n"
     ]
    },
    {
     "name": "stdout",
     "output_type": "stream",
     "text": [
      "time:0.6556239128112793\n",
      "point 2201from 13101\n",
      "------------\n"
     ]
    },
    {
     "name": "stdout",
     "output_type": "stream",
     "text": [
      "time:0.6566421985626221\n",
      "point 2301from 13101\n",
      "------------\n"
     ]
    },
    {
     "name": "stdout",
     "output_type": "stream",
     "text": [
      "time:0.6578574180603027\n",
      "point 2401from 13101\n",
      "------------\n"
     ]
    },
    {
     "name": "stdout",
     "output_type": "stream",
     "text": [
      "time:0.6547057628631592\n",
      "point 2501from 13101\n",
      "------------\n"
     ]
    },
    {
     "name": "stdout",
     "output_type": "stream",
     "text": [
      "time:0.6573634147644043\n",
      "point 2601from 13101\n",
      "------------\n"
     ]
    },
    {
     "name": "stdout",
     "output_type": "stream",
     "text": [
      "time:0.6547629833221436\n",
      "point 2701from 13101\n",
      "------------\n"
     ]
    },
    {
     "name": "stdout",
     "output_type": "stream",
     "text": [
      "time:0.6505875587463379\n",
      "point 2801from 13101\n",
      "------------\n"
     ]
    },
    {
     "name": "stdout",
     "output_type": "stream",
     "text": [
      "time:0.6512789726257324\n",
      "point 2901from 13101\n",
      "------------\n"
     ]
    },
    {
     "name": "stdout",
     "output_type": "stream",
     "text": [
      "time:0.6513967514038086\n",
      "point 3001from 13101\n",
      "------------\n"
     ]
    },
    {
     "name": "stdout",
     "output_type": "stream",
     "text": [
      "time:0.6536197662353516\n",
      "point 3101from 13101\n",
      "------------\n"
     ]
    },
    {
     "name": "stdout",
     "output_type": "stream",
     "text": [
      "time:0.6547675132751465\n",
      "point 3201from 13101\n",
      "------------\n"
     ]
    },
    {
     "name": "stdout",
     "output_type": "stream",
     "text": [
      "time:0.6624808311462402\n",
      "point 3301from 13101\n",
      "------------\n"
     ]
    },
    {
     "name": "stdout",
     "output_type": "stream",
     "text": [
      "time:0.6948421001434326\n",
      "point 3401from 13101\n",
      "------------\n"
     ]
    },
    {
     "name": "stdout",
     "output_type": "stream",
     "text": [
      "time:0.6786830425262451\n",
      "point 3501from 13101\n",
      "------------\n"
     ]
    },
    {
     "name": "stdout",
     "output_type": "stream",
     "text": [
      "time:0.6734440326690674\n",
      "point 3601from 13101\n",
      "------------\n"
     ]
    },
    {
     "name": "stdout",
     "output_type": "stream",
     "text": [
      "time:0.6936395168304443\n",
      "point 3701from 13101\n",
      "------------\n"
     ]
    },
    {
     "name": "stdout",
     "output_type": "stream",
     "text": [
      "time:0.6749393939971924\n",
      "point 3801from 13101\n",
      "------------\n"
     ]
    },
    {
     "name": "stdout",
     "output_type": "stream",
     "text": [
      "time:0.6765124797821045\n",
      "point 3901from 13101\n",
      "------------\n"
     ]
    },
    {
     "name": "stdout",
     "output_type": "stream",
     "text": [
      "time:0.6792206764221191\n",
      "point 4001from 13101\n",
      "------------\n"
     ]
    },
    {
     "name": "stdout",
     "output_type": "stream",
     "text": [
      "time:0.6745948791503906\n",
      "point 4101from 13101\n",
      "------------\n"
     ]
    },
    {
     "name": "stdout",
     "output_type": "stream",
     "text": [
      "time:0.671785831451416\n",
      "point 4201from 13101\n",
      "------------\n"
     ]
    },
    {
     "name": "stdout",
     "output_type": "stream",
     "text": [
      "time:0.6752958297729492\n",
      "point 4301from 13101\n",
      "------------\n"
     ]
    },
    {
     "name": "stdout",
     "output_type": "stream",
     "text": [
      "time:0.6717405319213867\n",
      "point 4401from 13101\n",
      "------------\n"
     ]
    },
    {
     "name": "stdout",
     "output_type": "stream",
     "text": [
      "time:0.6907293796539307\n",
      "point 4501from 13101\n",
      "------------\n"
     ]
    },
    {
     "name": "stdout",
     "output_type": "stream",
     "text": [
      "time:0.6745510101318359\n",
      "point 4601from 13101\n",
      "------------\n"
     ]
    },
    {
     "name": "stdout",
     "output_type": "stream",
     "text": [
      "time:0.6688261032104492\n",
      "point 4701from 13101\n",
      "------------\n"
     ]
    },
    {
     "name": "stdout",
     "output_type": "stream",
     "text": [
      "time:0.670067548751831\n",
      "point 4801from 13101\n",
      "------------\n"
     ]
    },
    {
     "name": "stdout",
     "output_type": "stream",
     "text": [
      "time:0.6638002395629883\n",
      "point 4901from 13101\n",
      "------------\n"
     ]
    },
    {
     "name": "stdout",
     "output_type": "stream",
     "text": [
      "time:0.6593585014343262\n",
      "point 5001from 13101\n",
      "------------\n"
     ]
    },
    {
     "name": "stdout",
     "output_type": "stream",
     "text": [
      "time:0.6625018119812012\n",
      "point 5101from 13101\n",
      "------------\n"
     ]
    },
    {
     "name": "stdout",
     "output_type": "stream",
     "text": [
      "time:0.6608173847198486\n",
      "point 5201from 13101\n",
      "------------\n"
     ]
    },
    {
     "name": "stdout",
     "output_type": "stream",
     "text": [
      "time:0.6581993103027344\n",
      "point 5301from 13101\n",
      "------------\n"
     ]
    },
    {
     "name": "stdout",
     "output_type": "stream",
     "text": [
      "time:0.6608419418334961\n",
      "point 5401from 13101\n",
      "------------\n"
     ]
    },
    {
     "name": "stdout",
     "output_type": "stream",
     "text": [
      "time:0.6627779006958008\n",
      "point 5501from 13101\n",
      "------------\n"
     ]
    },
    {
     "name": "stdout",
     "output_type": "stream",
     "text": [
      "time:0.6528284549713135\n",
      "point 5601from 13101\n",
      "------------\n"
     ]
    },
    {
     "name": "stdout",
     "output_type": "stream",
     "text": [
      "time:0.6577215194702148\n",
      "point 5701from 13101\n",
      "------------\n"
     ]
    },
    {
     "name": "stdout",
     "output_type": "stream",
     "text": [
      "time:0.6534340381622314\n",
      "point 5801from 13101\n",
      "------------\n"
     ]
    },
    {
     "name": "stdout",
     "output_type": "stream",
     "text": [
      "time:0.6526153087615967\n",
      "point 5901from 13101\n",
      "------------\n"
     ]
    },
    {
     "name": "stdout",
     "output_type": "stream",
     "text": [
      "time:0.6487605571746826\n",
      "point 6001from 13101\n",
      "------------\n"
     ]
    },
    {
     "name": "stdout",
     "output_type": "stream",
     "text": [
      "time:0.6523265838623047\n",
      "point 6101from 13101\n",
      "------------\n"
     ]
    },
    {
     "name": "stdout",
     "output_type": "stream",
     "text": [
      "time:0.654047966003418\n",
      "point 6201from 13101\n",
      "------------\n"
     ]
    },
    {
     "name": "stdout",
     "output_type": "stream",
     "text": [
      "time:0.657078742980957\n",
      "point 6301from 13101\n",
      "------------\n"
     ]
    },
    {
     "name": "stdout",
     "output_type": "stream",
     "text": [
      "time:0.6473259925842285\n",
      "point 6401from 13101\n",
      "------------\n"
     ]
    },
    {
     "name": "stdout",
     "output_type": "stream",
     "text": [
      "time:0.6506288051605225\n",
      "point 6501from 13101\n",
      "------------\n"
     ]
    },
    {
     "name": "stdout",
     "output_type": "stream",
     "text": [
      "time:0.6543014049530029\n",
      "point 6601from 13101\n",
      "------------\n"
     ]
    },
    {
     "name": "stdout",
     "output_type": "stream",
     "text": [
      "time:0.6495041847229004\n",
      "point 6701from 13101\n",
      "------------\n"
     ]
    },
    {
     "name": "stdout",
     "output_type": "stream",
     "text": [
      "time:0.6542186737060547\n",
      "point 6801from 13101\n",
      "------------\n"
     ]
    },
    {
     "name": "stdout",
     "output_type": "stream",
     "text": [
      "time:0.651648998260498\n",
      "point 6901from 13101\n",
      "------------\n"
     ]
    },
    {
     "name": "stdout",
     "output_type": "stream",
     "text": [
      "time:0.6507956981658936\n",
      "point 7001from 13101\n",
      "------------\n"
     ]
    },
    {
     "name": "stdout",
     "output_type": "stream",
     "text": [
      "time:0.6528646945953369\n",
      "point 7101from 13101\n",
      "------------\n"
     ]
    },
    {
     "name": "stdout",
     "output_type": "stream",
     "text": [
      "time:0.646949052810669\n",
      "point 7201from 13101\n",
      "------------\n"
     ]
    },
    {
     "name": "stdout",
     "output_type": "stream",
     "text": [
      "time:0.6495730876922607\n",
      "point 7301from 13101\n",
      "------------\n"
     ]
    },
    {
     "name": "stdout",
     "output_type": "stream",
     "text": [
      "time:0.6528186798095703\n",
      "point 7401from 13101\n",
      "------------\n"
     ]
    },
    {
     "name": "stdout",
     "output_type": "stream",
     "text": [
      "time:0.6509983539581299\n",
      "point 7501from 13101\n",
      "------------\n"
     ]
    },
    {
     "name": "stdout",
     "output_type": "stream",
     "text": [
      "time:0.6606841087341309\n",
      "point 7601from 13101\n",
      "------------\n"
     ]
    },
    {
     "name": "stdout",
     "output_type": "stream",
     "text": [
      "time:0.6502141952514648\n",
      "point 7701from 13101\n",
      "------------\n"
     ]
    },
    {
     "name": "stdout",
     "output_type": "stream",
     "text": [
      "time:0.6475999355316162\n",
      "point 7801from 13101\n",
      "------------\n"
     ]
    },
    {
     "name": "stdout",
     "output_type": "stream",
     "text": [
      "time:0.5650150775909424\n",
      "point 7901from 13101\n",
      "------------\n"
     ]
    },
    {
     "name": "stdout",
     "output_type": "stream",
     "text": [
      "time:0.4934673309326172\n",
      "point 8001from 13101\n",
      "------------\n"
     ]
    },
    {
     "name": "stdout",
     "output_type": "stream",
     "text": [
      "time:0.16389989852905273\n",
      "point 8101from 13101\n",
      "------------\n"
     ]
    },
    {
     "name": "stdout",
     "output_type": "stream",
     "text": [
      "time:0.3303542137145996\n",
      "point 8201from 13101\n",
      "------------\n"
     ]
    },
    {
     "name": "stdout",
     "output_type": "stream",
     "text": [
      "time:0.3253509998321533\n",
      "point 8301from 13101\n",
      "------------\n"
     ]
    },
    {
     "name": "stdout",
     "output_type": "stream",
     "text": [
      "time:0.32610177993774414\n",
      "point 8401from 13101\n",
      "------------\n"
     ]
    },
    {
     "name": "stdout",
     "output_type": "stream",
     "text": [
      "time:0.24596357345581055\n",
      "point 8501from 13101\n",
      "------------\n"
     ]
    },
    {
     "name": "stdout",
     "output_type": "stream",
     "text": [
      "time:0.41082215309143066\n",
      "point 8601from 13101\n",
      "------------\n"
     ]
    },
    {
     "name": "stdout",
     "output_type": "stream",
     "text": [
      "time:0.4059772491455078\n",
      "point 8701from 13101\n",
      "------------\n"
     ]
    },
    {
     "name": "stdout",
     "output_type": "stream",
     "text": [
      "time:0.49245333671569824\n",
      "point 8801from 13101\n",
      "------------\n"
     ]
    },
    {
     "name": "stdout",
     "output_type": "stream",
     "text": [
      "time:0.47576403617858887\n",
      "point 8901from 13101\n",
      "------------\n"
     ]
    },
    {
     "name": "stdout",
     "output_type": "stream",
     "text": [
      "time:0.3283989429473877\n",
      "point 9001from 13101\n",
      "------------\n"
     ]
    },
    {
     "name": "stdout",
     "output_type": "stream",
     "text": [
      "time:0.32692694664001465\n",
      "point 9101from 13101\n",
      "------------\n"
     ]
    },
    {
     "name": "stdout",
     "output_type": "stream",
     "text": [
      "time:0.4117422103881836\n",
      "point 9201from 13101\n",
      "------------\n"
     ]
    },
    {
     "name": "stdout",
     "output_type": "stream",
     "text": [
      "time:0.5690798759460449\n",
      "point 9301from 13101\n",
      "------------\n"
     ]
    },
    {
     "name": "stdout",
     "output_type": "stream",
     "text": [
      "time:0.41048383712768555\n",
      "point 9401from 13101\n",
      "------------\n"
     ]
    },
    {
     "name": "stdout",
     "output_type": "stream",
     "text": [
      "time:0.3303520679473877\n",
      "point 9501from 13101\n",
      "------------\n"
     ]
    },
    {
     "name": "stdout",
     "output_type": "stream",
     "text": [
      "time:0.24324798583984375\n",
      "point 9601from 13101\n",
      "------------\n"
     ]
    },
    {
     "name": "stdout",
     "output_type": "stream",
     "text": [
      "time:0.40470194816589355\n",
      "point 9701from 13101\n",
      "------------\n"
     ]
    },
    {
     "name": "stdout",
     "output_type": "stream",
     "text": [
      "time:0.4079735279083252\n",
      "point 9801from 13101\n",
      "------------\n"
     ]
    },
    {
     "name": "stdout",
     "output_type": "stream",
     "text": [
      "time:0.4090137481689453\n",
      "point 9901from 13101\n",
      "------------\n"
     ]
    },
    {
     "name": "stdout",
     "output_type": "stream",
     "text": [
      "time:0.4096105098724365\n",
      "point 10001from 13101\n",
      "------------\n"
     ]
    },
    {
     "name": "stdout",
     "output_type": "stream",
     "text": [
      "time:0.4896864891052246\n",
      "point 10101from 13101\n",
      "------------\n"
     ]
    },
    {
     "name": "stdout",
     "output_type": "stream",
     "text": [
      "time:0.163161039352417\n",
      "point 10201from 13101\n",
      "------------\n"
     ]
    },
    {
     "name": "stdout",
     "output_type": "stream",
     "text": [
      "time:0.3262977600097656\n",
      "point 10301from 13101\n",
      "------------\n"
     ]
    },
    {
     "name": "stdout",
     "output_type": "stream",
     "text": [
      "time:0.4058091640472412\n",
      "point 10401from 13101\n",
      "------------\n"
     ]
    },
    {
     "name": "stdout",
     "output_type": "stream",
     "text": [
      "time:0.32619380950927734\n",
      "point 10501from 13101\n",
      "------------\n"
     ]
    },
    {
     "name": "stdout",
     "output_type": "stream",
     "text": [
      "time:0.24173450469970703\n",
      "point 10601from 13101\n",
      "------------\n"
     ]
    },
    {
     "name": "stdout",
     "output_type": "stream",
     "text": [
      "time:0.16429615020751953\n",
      "point 10701from 13101\n",
      "------------\n"
     ]
    },
    {
     "name": "stdout",
     "output_type": "stream",
     "text": [
      "time:0.32413291931152344\n",
      "point 10801from 13101\n",
      "------------\n"
     ]
    },
    {
     "name": "stdout",
     "output_type": "stream",
     "text": [
      "time:0.2440502643585205\n",
      "point 10901from 13101\n",
      "------------\n"
     ]
    },
    {
     "name": "stdout",
     "output_type": "stream",
     "text": [
      "time:0.24335312843322754\n",
      "point 11001from 13101\n",
      "------------\n"
     ]
    },
    {
     "name": "stdout",
     "output_type": "stream",
     "text": [
      "time:0.32648682594299316\n",
      "point 11101from 13101\n",
      "------------\n"
     ]
    },
    {
     "name": "stdout",
     "output_type": "stream",
     "text": [
      "time:0.3287527561187744\n",
      "point 11201from 13101\n",
      "------------\n"
     ]
    },
    {
     "name": "stdout",
     "output_type": "stream",
     "text": [
      "time:0.6467421054840088\n",
      "point 11301from 13101\n",
      "------------\n"
     ]
    },
    {
     "name": "stdout",
     "output_type": "stream",
     "text": [
      "time:0.6490907669067383\n",
      "point 11401from 13101\n",
      "------------\n"
     ]
    },
    {
     "name": "stdout",
     "output_type": "stream",
     "text": [
      "time:0.6507375240325928\n",
      "point 11501from 13101\n",
      "------------\n"
     ]
    },
    {
     "name": "stdout",
     "output_type": "stream",
     "text": [
      "time:0.6548113822937012\n",
      "point 11601from 13101\n",
      "------------\n"
     ]
    },
    {
     "name": "stdout",
     "output_type": "stream",
     "text": [
      "time:0.6632909774780273\n",
      "point 11701from 13101\n",
      "------------\n"
     ]
    },
    {
     "name": "stdout",
     "output_type": "stream",
     "text": [
      "time:0.6516504287719727\n",
      "point 11801from 13101\n",
      "------------\n"
     ]
    },
    {
     "name": "stdout",
     "output_type": "stream",
     "text": [
      "time:0.6509914398193359\n",
      "point 11901from 13101\n",
      "------------\n"
     ]
    },
    {
     "name": "stdout",
     "output_type": "stream",
     "text": [
      "time:0.6543371677398682\n",
      "point 12001from 13101\n",
      "------------\n"
     ]
    },
    {
     "name": "stdout",
     "output_type": "stream",
     "text": [
      "time:0.6519680023193359\n",
      "point 12101from 13101\n",
      "------------\n"
     ]
    },
    {
     "name": "stdout",
     "output_type": "stream",
     "text": [
      "time:0.6505677700042725\n",
      "point 12201from 13101\n",
      "------------\n"
     ]
    },
    {
     "name": "stdout",
     "output_type": "stream",
     "text": [
      "time:0.6522886753082275\n",
      "point 12301from 13101\n",
      "------------\n"
     ]
    },
    {
     "name": "stdout",
     "output_type": "stream",
     "text": [
      "time:0.6525294780731201\n",
      "point 12401from 13101\n",
      "------------\n"
     ]
    },
    {
     "name": "stdout",
     "output_type": "stream",
     "text": [
      "time:0.6558096408843994\n",
      "point 12501from 13101\n",
      "------------\n"
     ]
    },
    {
     "name": "stdout",
     "output_type": "stream",
     "text": [
      "time:0.6580905914306641\n",
      "point 12601from 13101\n",
      "------------\n"
     ]
    },
    {
     "name": "stdout",
     "output_type": "stream",
     "text": [
      "time:0.6583161354064941\n",
      "point 12701from 13101\n",
      "------------\n"
     ]
    },
    {
     "name": "stdout",
     "output_type": "stream",
     "text": [
      "time:0.6516833305358887\n",
      "point 12801from 13101\n",
      "------------\n"
     ]
    },
    {
     "name": "stdout",
     "output_type": "stream",
     "text": [
      "time:0.658886194229126\n",
      "point 12901from 13101\n",
      "------------\n"
     ]
    },
    {
     "name": "stdout",
     "output_type": "stream",
     "text": [
      "time:0.6614809036254883\n",
      "point 13001from 13101\n",
      "------------\n"
     ]
    },
    {
     "name": "stdout",
     "output_type": "stream",
     "text": [
      "time:0.6577856540679932\n",
      "point 13101from 13101\n",
      "------------\n",
      "---- compute all data table ----\n"
     ]
    }
   ],
   "source": [
    "df = p.run()"
   ]
  },
  {
   "cell_type": "markdown",
   "metadata": {},
   "source": [
    "The output is written to disk, as it can get quite large. Let's read it in and see what kind of information we got out of this pipeline. Pandas operates lazily, so this should not eat up your RAM as long as you don't operate on the entire dataset."
   ]
  },
  {
   "cell_type": "code",
   "execution_count": 13,
   "metadata": {
    "execution": {
     "iopub.execute_input": "2024-03-05T18:51:18.774025Z",
     "iopub.status.busy": "2024-03-05T18:51:18.771659Z",
     "iopub.status.idle": "2024-03-05T18:51:24.800003Z",
     "shell.execute_reply": "2024-03-05T18:51:24.800509Z"
    }
   },
   "outputs": [],
   "source": [
    "from dendrite_thickness.thickness.analysis import get_all_data_output_table\n",
    "df = get_all_data_output_table(\n",
    "p.all_slices,\n",
    "p.default_threshold\n",
    ")"
   ]
  },
  {
   "cell_type": "code",
   "execution_count": 14,
   "metadata": {
    "execution": {
     "iopub.execute_input": "2024-03-05T18:51:24.839384Z",
     "iopub.status.busy": "2024-03-05T18:51:24.822297Z",
     "iopub.status.idle": "2024-03-05T18:51:24.950389Z",
     "shell.execute_reply": "2024-03-05T18:51:24.950813Z"
    }
   },
   "outputs": [
    {
     "data": {
      "text/html": [
       "<div>\n",
       "<style scoped>\n",
       "    .dataframe tbody tr th:only-of-type {\n",
       "        vertical-align: middle;\n",
       "    }\n",
       "\n",
       "    .dataframe tbody tr th {\n",
       "        vertical-align: top;\n",
       "    }\n",
       "\n",
       "    .dataframe thead th {\n",
       "        text-align: right;\n",
       "    }\n",
       "</style>\n",
       "<table border=\"1\" class=\"dataframe\">\n",
       "  <thead>\n",
       "    <tr style=\"text-align: right;\">\n",
       "      <th></th>\n",
       "      <th>x_slice</th>\n",
       "      <th>y_slice</th>\n",
       "      <th>z_slice</th>\n",
       "      <th>x_applied_transform</th>\n",
       "      <th>y_applied_transform</th>\n",
       "      <th>z_applied_transform</th>\n",
       "      <th>x_hoc_system</th>\n",
       "      <th>y_hoc_system</th>\n",
       "      <th>z_hoc_system</th>\n",
       "      <th>slice</th>\n",
       "      <th>converted_point_by_image_coordinate_0.5</th>\n",
       "      <th>seed_corrected_point_0.5</th>\n",
       "      <th>back_contour_index_0.5</th>\n",
       "      <th>front_contour_index_0.5</th>\n",
       "      <th>min_thickness_0.5</th>\n",
       "      <th>selected_ray_index_0.5</th>\n",
       "      <th>contour_list_0.5</th>\n",
       "      <th>thicknesses_list_0.5</th>\n",
       "      <th>overlaps_0.5</th>\n",
       "    </tr>\n",
       "  </thead>\n",
       "  <tbody>\n",
       "    <tr>\n",
       "      <th>0</th>\n",
       "      <td>109.112000</td>\n",
       "      <td>155.664001</td>\n",
       "      <td>0.4</td>\n",
       "      <td>109.112000</td>\n",
       "      <td>155.664001</td>\n",
       "      <td>0.4</td>\n",
       "      <td>-685872.759676</td>\n",
       "      <td>-636870.238340</td>\n",
       "      <td>116145.887464</td>\n",
       "      <td>S11_final_done_zScale_40.am</td>\n",
       "      <td>[1185.9999946925957, 1692.0000159222154, 0.800...</td>\n",
       "      <td>[1175.9999946925957, 1670.0000159222154, 0.800...</td>\n",
       "      <td>[1192, 1671]</td>\n",
       "      <td>[1165, 1670]</td>\n",
       "      <td>23.7065</td>\n",
       "      <td>24</td>\n",
       "      <td>[[[1164, 1670], [1191, 1670]], [[1164, 1671], ...</td>\n",
       "      <td>[27.0, 27.073972741361768, 28.284271247461902,...</td>\n",
       "      <td>[]</td>\n",
       "    </tr>\n",
       "    <tr>\n",
       "      <th>1</th>\n",
       "      <td>109.019997</td>\n",
       "      <td>155.572006</td>\n",
       "      <td>0.8</td>\n",
       "      <td>109.019997</td>\n",
       "      <td>155.572006</td>\n",
       "      <td>0.8</td>\n",
       "      <td>-685811.873344</td>\n",
       "      <td>-636813.816233</td>\n",
       "      <td>116135.458132</td>\n",
       "      <td>S11_final_done_zScale_40.am</td>\n",
       "      <td>[1184.9999635115914, 1691.0000676694121, 1.600...</td>\n",
       "      <td>[1175.9999635115914, 1670.0000676694121, 1.600...</td>\n",
       "      <td>[1192, 1671]</td>\n",
       "      <td>[1165, 1670]</td>\n",
       "      <td>23.7065</td>\n",
       "      <td>24</td>\n",
       "      <td>[[[1164, 1670], [1191, 1670]], [[1164, 1671], ...</td>\n",
       "      <td>[27.0, 27.073972741361768, 28.284271247461902,...</td>\n",
       "      <td>[]</td>\n",
       "    </tr>\n",
       "    <tr>\n",
       "      <th>2</th>\n",
       "      <td>109.019997</td>\n",
       "      <td>155.388000</td>\n",
       "      <td>1.2</td>\n",
       "      <td>109.019997</td>\n",
       "      <td>155.388000</td>\n",
       "      <td>1.2</td>\n",
       "      <td>-684107.911093</td>\n",
       "      <td>-635231.756157</td>\n",
       "      <td>115846.848858</td>\n",
       "      <td>S11_final_done_zScale_40.am</td>\n",
       "      <td>[1184.9999635115914, 1689.0000053074043, 2.400...</td>\n",
       "      <td>[1175.9999635115914, 1670.0000053074043, 2.400...</td>\n",
       "      <td>[1192, 1671]</td>\n",
       "      <td>[1165, 1670]</td>\n",
       "      <td>23.7065</td>\n",
       "      <td>24</td>\n",
       "      <td>[[[1164, 1670], [1191, 1670]], [[1164, 1671], ...</td>\n",
       "      <td>[27.0, 27.073972741361768, 28.284271247461902,...</td>\n",
       "      <td>[]</td>\n",
       "    </tr>\n",
       "    <tr>\n",
       "      <th>3</th>\n",
       "      <td>109.112000</td>\n",
       "      <td>155.203995</td>\n",
       "      <td>0.8</td>\n",
       "      <td>109.112000</td>\n",
       "      <td>155.203995</td>\n",
       "      <td>0.8</td>\n",
       "      <td>-681613.236428</td>\n",
       "      <td>-632915.267501</td>\n",
       "      <td>115424.618131</td>\n",
       "      <td>S11_final_done_zScale_40.am</td>\n",
       "      <td>[1185.9999946925957, 1686.9999429453978, 1.600...</td>\n",
       "      <td>[1175.9999946925957, 1670.9999429453978, 1.600...</td>\n",
       "      <td>[1192, 1671]</td>\n",
       "      <td>[1165, 1670]</td>\n",
       "      <td>23.7065</td>\n",
       "      <td>24</td>\n",
       "      <td>[[[1164, 1670], [1191, 1670]], [[1164, 1671], ...</td>\n",
       "      <td>[27.0, 27.073972741361768, 28.284271247461902,...</td>\n",
       "      <td>[]</td>\n",
       "    </tr>\n",
       "    <tr>\n",
       "      <th>4</th>\n",
       "      <td>109.019997</td>\n",
       "      <td>155.020004</td>\n",
       "      <td>0.8</td>\n",
       "      <td>109.019997</td>\n",
       "      <td>155.020004</td>\n",
       "      <td>0.8</td>\n",
       "      <td>-680700.751348</td>\n",
       "      <td>-632067.994707</td>\n",
       "      <td>115270.138013</td>\n",
       "      <td>S11_final_done_zScale_40.am</td>\n",
       "      <td>[1184.9999635115914, 1685.0000464397926, 1.600...</td>\n",
       "      <td>[1175.9999635115914, 1670.0000464397926, 1.600...</td>\n",
       "      <td>[1192, 1671]</td>\n",
       "      <td>[1165, 1670]</td>\n",
       "      <td>23.7065</td>\n",
       "      <td>24</td>\n",
       "      <td>[[[1164, 1670], [1191, 1670]], [[1164, 1671], ...</td>\n",
       "      <td>[27.0, 27.073972741361768, 28.284271247461902,...</td>\n",
       "      <td>[]</td>\n",
       "    </tr>\n",
       "  </tbody>\n",
       "</table>\n",
       "</div>"
      ],
      "text/plain": [
       "      x_slice     y_slice  z_slice  x_applied_transform  y_applied_transform  \\\n",
       "0  109.112000  155.664001      0.4           109.112000           155.664001   \n",
       "1  109.019997  155.572006      0.8           109.019997           155.572006   \n",
       "2  109.019997  155.388000      1.2           109.019997           155.388000   \n",
       "3  109.112000  155.203995      0.8           109.112000           155.203995   \n",
       "4  109.019997  155.020004      0.8           109.019997           155.020004   \n",
       "\n",
       "   z_applied_transform   x_hoc_system   y_hoc_system   z_hoc_system  \\\n",
       "0                  0.4 -685872.759676 -636870.238340  116145.887464   \n",
       "1                  0.8 -685811.873344 -636813.816233  116135.458132   \n",
       "2                  1.2 -684107.911093 -635231.756157  115846.848858   \n",
       "3                  0.8 -681613.236428 -632915.267501  115424.618131   \n",
       "4                  0.8 -680700.751348 -632067.994707  115270.138013   \n",
       "\n",
       "                         slice  \\\n",
       "0  S11_final_done_zScale_40.am   \n",
       "1  S11_final_done_zScale_40.am   \n",
       "2  S11_final_done_zScale_40.am   \n",
       "3  S11_final_done_zScale_40.am   \n",
       "4  S11_final_done_zScale_40.am   \n",
       "\n",
       "             converted_point_by_image_coordinate_0.5  \\\n",
       "0  [1185.9999946925957, 1692.0000159222154, 0.800...   \n",
       "1  [1184.9999635115914, 1691.0000676694121, 1.600...   \n",
       "2  [1184.9999635115914, 1689.0000053074043, 2.400...   \n",
       "3  [1185.9999946925957, 1686.9999429453978, 1.600...   \n",
       "4  [1184.9999635115914, 1685.0000464397926, 1.600...   \n",
       "\n",
       "                            seed_corrected_point_0.5 back_contour_index_0.5  \\\n",
       "0  [1175.9999946925957, 1670.0000159222154, 0.800...           [1192, 1671]   \n",
       "1  [1175.9999635115914, 1670.0000676694121, 1.600...           [1192, 1671]   \n",
       "2  [1175.9999635115914, 1670.0000053074043, 2.400...           [1192, 1671]   \n",
       "3  [1175.9999946925957, 1670.9999429453978, 1.600...           [1192, 1671]   \n",
       "4  [1175.9999635115914, 1670.0000464397926, 1.600...           [1192, 1671]   \n",
       "\n",
       "  front_contour_index_0.5 min_thickness_0.5 selected_ray_index_0.5  \\\n",
       "0            [1165, 1670]           23.7065                     24   \n",
       "1            [1165, 1670]           23.7065                     24   \n",
       "2            [1165, 1670]           23.7065                     24   \n",
       "3            [1165, 1670]           23.7065                     24   \n",
       "4            [1165, 1670]           23.7065                     24   \n",
       "\n",
       "                                    contour_list_0.5  \\\n",
       "0  [[[1164, 1670], [1191, 1670]], [[1164, 1671], ...   \n",
       "1  [[[1164, 1670], [1191, 1670]], [[1164, 1671], ...   \n",
       "2  [[[1164, 1670], [1191, 1670]], [[1164, 1671], ...   \n",
       "3  [[[1164, 1670], [1191, 1670]], [[1164, 1671], ...   \n",
       "4  [[[1164, 1670], [1191, 1670]], [[1164, 1671], ...   \n",
       "\n",
       "                                thicknesses_list_0.5 overlaps_0.5  \n",
       "0  [27.0, 27.073972741361768, 28.284271247461902,...           []  \n",
       "1  [27.0, 27.073972741361768, 28.284271247461902,...           []  \n",
       "2  [27.0, 27.073972741361768, 28.284271247461902,...           []  \n",
       "3  [27.0, 27.073972741361768, 28.284271247461902,...           []  \n",
       "4  [27.0, 27.073972741361768, 28.284271247461902,...           []  "
      ]
     },
     "execution_count": 1,
     "metadata": {},
     "output_type": "execute_result"
    }
   ],
   "source": [
    "df.head()"
   ]
  },
  {
   "cell_type": "markdown",
   "metadata": {},
   "source": [
    "Note that the z coordinate is relative within the slice. In order to interpret these in a sensible way, we need to infer what the actual z coordinate would be if we were to stack the slices."
   ]
  },
  {
   "cell_type": "code",
   "execution_count": 15,
   "metadata": {
    "execution": {
     "iopub.execute_input": "2024-03-05T18:51:24.954993Z",
     "iopub.status.busy": "2024-03-05T18:51:24.954590Z",
     "iopub.status.idle": "2024-03-05T18:51:24.956627Z",
     "shell.execute_reply": "2024-03-05T18:51:24.956176Z"
    }
   },
   "outputs": [],
   "source": [
    "def get_z(df, slice_thickness=50):\n",
    "    \"\"\" Given the pipeline output in pandas.DataFrame format, get the height of all points\"\"\"\n",
    "    slice_n = [float(e.split(I.os.sep)[-1][1:3]) for e in df.slice]\n",
    "    point_depths = [z + sn*slice_thickness for z, sn in zip(df.z_slice, slice_n)]\n",
    "\n",
    "    # Slices are from pia to white matter, so low z here means higher up\n",
    "    # Let's reverse that, so high z does not mean high depth, but rather height (makes more sense for a plot)\n",
    "    max_z = slice_thickness*max(slice_n)\n",
    "    point_z = [max_z - e for e in point_depths]\n",
    "    return point_z"
   ]
  },
  {
   "cell_type": "code",
   "execution_count": 16,
   "metadata": {
    "execution": {
     "iopub.execute_input": "2024-03-05T18:51:24.960952Z",
     "iopub.status.busy": "2024-03-05T18:51:24.960544Z",
     "iopub.status.idle": "2024-03-05T18:51:24.962528Z",
     "shell.execute_reply": "2024-03-05T18:51:24.962089Z"
    }
   },
   "outputs": [],
   "source": [
    "import plotly.express as px\n",
    "\n",
    "def get_fig(pipeline):\n",
    "    \"\"\"Given a pipeline object that has run, fetch the output data and construct an interactive plotly 3D scatterplot\"\"\"\n",
    "    df = get_all_data_output_table(\n",
    "        pipeline.all_slices,\n",
    "        pipeline.default_threshold)\n",
    "    \n",
    "    point_z = get_z(df)\n",
    "    fig = px.scatter_3d(\n",
    "        x=df.x_slice, \n",
    "        y=df.y_slice, \n",
    "        z= point_z,\n",
    "        size=df['min_thickness_0.5'].values.tolist(),\n",
    "        color=df['min_thickness_0.5'].values.tolist(),\n",
    "        opacity=0.1\n",
    "    )\n",
    "\n",
    "    # tight layout\n",
    "    fig.update_layout(\n",
    "        margin=dict(l=0, r=0, b=0, t=0))\n",
    "    fig.update_traces(\n",
    "        marker=dict(line=dict(width=0)))\n",
    "    return fig"
   ]
  },
  {
   "cell_type": "code",
   "execution_count": 17,
   "metadata": {
    "execution": {
     "iopub.execute_input": "2024-03-05T18:51:24.965220Z",
     "iopub.status.busy": "2024-03-05T18:51:24.963932Z",
     "iopub.status.idle": "2024-03-05T18:51:35.362000Z",
     "shell.execute_reply": "2024-03-05T18:51:35.361548Z"
    }
   },
   "outputs": [
    {
     "data": {
      "text/html": [
       "<iframe\n",
       "    scrolling=\"no\"\n",
       "    width=\"100%\"\n",
       "    height=\"545px\"\n",
       "    src=\"iframe_figures/figure_47.html\"\n",
       "    frameborder=\"0\"\n",
       "    allowfullscreen\n",
       "></iframe>\n"
      ]
     },
     "metadata": {},
     "output_type": "display_data"
    }
   ],
   "source": [
    "fig = get_fig(p)\n",
    "fig.show(renderer=\"iframe_connected\")"
   ]
  },
  {
   "cell_type": "markdown",
   "metadata": {},
   "source": [
    "The neuron morphology starts to become visible! However, there are a handful of things that need to be fixed:\n",
    "1. There are a lot of artifacts floating around the neuron that had significant nonzero brightness values in the slice preparation, but are clearly not part of the neuron.\n",
    "2. Cutting the slice preparation introduces a shearing effect near the boundary of the slices, and the points at every 50 $\\mu m$ are misaligned.\n",
    "\n",
    "Both of these things need to be fixed in either pre- or post-processing in e.g. Amira."
   ]
  },
  {
   "cell_type": "code",
   "execution_count": 18,
   "metadata": {
    "execution": {
     "iopub.execute_input": "2024-03-05T18:51:35.365415Z",
     "iopub.status.busy": "2024-03-05T18:51:35.364987Z",
     "iopub.status.idle": "2024-03-05T18:51:35.731099Z",
     "shell.execute_reply": "2024-03-05T18:51:35.729951Z"
    }
   },
   "outputs": [],
   "source": [
    "fig.write_html(I.os.path.join(current_dir, 'static', 'reconstruction.html'), auto_open=True)"
   ]
  },
  {
   "cell_type": "code",
   "execution_count": 1,
   "metadata": {
    "execution": {
     "iopub.execute_input": "2024-03-05T18:51:35.736380Z",
     "iopub.status.busy": "2024-03-05T18:51:35.735282Z",
     "iopub.status.idle": "2024-03-05T19:07:39.606807Z",
     "shell.execute_reply": "2024-03-05T19:07:39.606083Z"
    }
   },
   "outputs": [
    {
     "name": "stdout",
     "output_type": "stream",
     "text": [
      "---- initialize project ----\n",
      "---- setup slice objects ----\n",
      "In threshold: 0.5\n",
      "--------\n",
      "Setting up slice:S13_final_done_Alison_zScale_40_axon.am\n",
      "--------\n",
      "Setting up slice:S13_final_done_Alison_zScale_40_dendrite.am\n"
     ]
    },
    {
     "name": "stdout",
     "output_type": "stream",
     "text": [
      "---- extract thicknesses ----\n"
     ]
    },
    {
     "name": "stdout",
     "output_type": "stream",
     "text": [
      "---- update slice objects with future values ----\n",
      "---- write am outputs ----\n",
      "---- transform am_points ----\n",
      "---- stacking all slices ----\n",
      "Number of all am_points: 3584\n",
      "---- update hoc file with thicknesses ----\n",
      "time:0.043382883071899414\n",
      "point 1from 13101\n",
      "------------\n"
     ]
    },
    {
     "name": "stdout",
     "output_type": "stream",
     "text": [
      "time:0.04186725616455078\n",
      "point 101from 13101\n",
      "------------\n"
     ]
    },
    {
     "name": "stdout",
     "output_type": "stream",
     "text": [
      "time:0.04204607009887695\n",
      "point 201from 13101\n",
      "------------\n"
     ]
    },
    {
     "name": "stdout",
     "output_type": "stream",
     "text": [
      "time:0.04220914840698242\n",
      "point 301from 13101\n",
      "------------\n"
     ]
    },
    {
     "name": "stdout",
     "output_type": "stream",
     "text": [
      "time:0.04220890998840332\n",
      "point 401from 13101\n",
      "------------\n"
     ]
    },
    {
     "name": "stdout",
     "output_type": "stream",
     "text": [
      "time:0.042232513427734375\n",
      "point 501from 13101\n",
      "------------\n"
     ]
    },
    {
     "name": "stdout",
     "output_type": "stream",
     "text": [
      "time:0.04224729537963867\n",
      "point 601from 13101\n",
      "------------\n"
     ]
    },
    {
     "name": "stdout",
     "output_type": "stream",
     "text": [
      "time:0.04178619384765625\n",
      "point 701from 13101\n",
      "------------\n"
     ]
    },
    {
     "name": "stdout",
     "output_type": "stream",
     "text": [
      "time:0.04224824905395508\n",
      "point 801from 13101\n",
      "------------\n"
     ]
    },
    {
     "name": "stdout",
     "output_type": "stream",
     "text": [
      "time:0.04225349426269531\n",
      "point 901from 13101\n",
      "------------\n"
     ]
    },
    {
     "name": "stdout",
     "output_type": "stream",
     "text": [
      "time:0.04222702980041504\n",
      "point 1001from 13101\n",
      "------------\n"
     ]
    },
    {
     "name": "stdout",
     "output_type": "stream",
     "text": [
      "time:0.04155874252319336\n",
      "point 1101from 13101\n",
      "------------\n"
     ]
    },
    {
     "name": "stdout",
     "output_type": "stream",
     "text": [
      "time:0.04161572456359863\n",
      "point 1201from 13101\n",
      "------------\n"
     ]
    },
    {
     "name": "stdout",
     "output_type": "stream",
     "text": [
      "time:0.04185223579406738\n",
      "point 1301from 13101\n",
      "------------\n"
     ]
    },
    {
     "name": "stdout",
     "output_type": "stream",
     "text": [
      "time:0.04182744026184082\n",
      "point 1401from 13101\n",
      "------------\n"
     ]
    },
    {
     "name": "stdout",
     "output_type": "stream",
     "text": [
      "time:0.04192686080932617\n",
      "point 1501from 13101\n",
      "------------\n"
     ]
    },
    {
     "name": "stdout",
     "output_type": "stream",
     "text": [
      "time:0.041837215423583984\n",
      "point 1601from 13101\n",
      "------------\n"
     ]
    },
    {
     "name": "stdout",
     "output_type": "stream",
     "text": [
      "time:0.04181337356567383\n",
      "point 1701from 13101\n",
      "------------\n"
     ]
    },
    {
     "name": "stdout",
     "output_type": "stream",
     "text": [
      "time:0.041933298110961914\n",
      "point 1801from 13101\n",
      "------------\n"
     ]
    },
    {
     "name": "stdout",
     "output_type": "stream",
     "text": [
      "time:0.04157137870788574\n",
      "point 1901from 13101\n",
      "------------\n"
     ]
    },
    {
     "name": "stdout",
     "output_type": "stream",
     "text": [
      "time:0.0412898063659668\n",
      "point 2001from 13101\n",
      "------------\n"
     ]
    },
    {
     "name": "stdout",
     "output_type": "stream",
     "text": [
      "time:0.0416722297668457\n",
      "point 2101from 13101\n",
      "------------\n"
     ]
    },
    {
     "name": "stdout",
     "output_type": "stream",
     "text": [
      "time:0.04172635078430176\n",
      "point 2201from 13101\n",
      "------------\n"
     ]
    },
    {
     "name": "stdout",
     "output_type": "stream",
     "text": [
      "time:0.04152846336364746\n",
      "point 2301from 13101\n",
      "------------\n"
     ]
    },
    {
     "name": "stdout",
     "output_type": "stream",
     "text": [
      "time:0.04182577133178711\n",
      "point 2401from 13101\n",
      "------------\n"
     ]
    },
    {
     "name": "stdout",
     "output_type": "stream",
     "text": [
      "time:0.0417943000793457\n",
      "point 2501from 13101\n",
      "------------\n"
     ]
    },
    {
     "name": "stdout",
     "output_type": "stream",
     "text": [
      "time:0.0417943000793457\n",
      "point 2601from 13101\n",
      "------------\n"
     ]
    },
    {
     "name": "stdout",
     "output_type": "stream",
     "text": [
      "time:0.042083024978637695\n",
      "point 2701from 13101\n",
      "------------\n"
     ]
    },
    {
     "name": "stdout",
     "output_type": "stream",
     "text": [
      "time:0.0419919490814209\n",
      "point 2801from 13101\n",
      "------------\n"
     ]
    },
    {
     "name": "stdout",
     "output_type": "stream",
     "text": [
      "time:0.04185986518859863\n",
      "point 2901from 13101\n",
      "------------\n"
     ]
    },
    {
     "name": "stdout",
     "output_type": "stream",
     "text": [
      "time:0.04204297065734863\n",
      "point 3001from 13101\n",
      "------------\n"
     ]
    },
    {
     "name": "stdout",
     "output_type": "stream",
     "text": [
      "time:0.04191470146179199\n",
      "point 3101from 13101\n",
      "------------\n"
     ]
    },
    {
     "name": "stdout",
     "output_type": "stream",
     "text": [
      "time:0.04219698905944824\n",
      "point 3201from 13101\n",
      "------------\n"
     ]
    },
    {
     "name": "stdout",
     "output_type": "stream",
     "text": [
      "time:0.0421290397644043\n",
      "point 3301from 13101\n",
      "------------\n"
     ]
    },
    {
     "name": "stdout",
     "output_type": "stream",
     "text": [
      "time:0.04197382926940918\n",
      "point 3401from 13101\n",
      "------------\n"
     ]
    },
    {
     "name": "stdout",
     "output_type": "stream",
     "text": [
      "time:0.04220938682556152\n",
      "point 3501from 13101\n",
      "------------\n"
     ]
    },
    {
     "name": "stdout",
     "output_type": "stream",
     "text": [
      "time:0.04210472106933594\n",
      "point 3601from 13101\n",
      "------------\n"
     ]
    },
    {
     "name": "stdout",
     "output_type": "stream",
     "text": [
      "time:0.042448997497558594\n",
      "point 3701from 13101\n",
      "------------\n"
     ]
    },
    {
     "name": "stdout",
     "output_type": "stream",
     "text": [
      "time:0.041962623596191406\n",
      "point 3801from 13101\n",
      "------------\n"
     ]
    },
    {
     "name": "stdout",
     "output_type": "stream",
     "text": [
      "time:0.04180717468261719\n",
      "point 3901from 13101\n",
      "------------\n"
     ]
    },
    {
     "name": "stdout",
     "output_type": "stream",
     "text": [
      "time:0.04197549819946289\n",
      "point 4001from 13101\n",
      "------------\n"
     ]
    },
    {
     "name": "stdout",
     "output_type": "stream",
     "text": [
      "time:0.04200458526611328\n",
      "point 4101from 13101\n",
      "------------\n"
     ]
    },
    {
     "name": "stdout",
     "output_type": "stream",
     "text": [
      "time:0.04188728332519531\n",
      "point 4201from 13101\n",
      "------------\n"
     ]
    },
    {
     "name": "stdout",
     "output_type": "stream",
     "text": [
      "time:0.04199075698852539\n",
      "point 4301from 13101\n",
      "------------\n"
     ]
    },
    {
     "name": "stdout",
     "output_type": "stream",
     "text": [
      "time:0.04176497459411621\n",
      "point 4401from 13101\n",
      "------------\n"
     ]
    },
    {
     "name": "stdout",
     "output_type": "stream",
     "text": [
      "time:0.04195547103881836\n",
      "point 4501from 13101\n",
      "------------\n"
     ]
    },
    {
     "name": "stdout",
     "output_type": "stream",
     "text": [
      "time:0.042064666748046875\n",
      "point 4601from 13101\n",
      "------------\n"
     ]
    },
    {
     "name": "stdout",
     "output_type": "stream",
     "text": [
      "time:0.041695356369018555\n",
      "point 4701from 13101\n",
      "------------\n"
     ]
    },
    {
     "name": "stdout",
     "output_type": "stream",
     "text": [
      "time:0.042401790618896484\n",
      "point 4801from 13101\n",
      "------------\n"
     ]
    },
    {
     "name": "stdout",
     "output_type": "stream",
     "text": [
      "time:0.042078495025634766\n",
      "point 4901from 13101\n",
      "------------\n"
     ]
    },
    {
     "name": "stdout",
     "output_type": "stream",
     "text": [
      "time:0.04202699661254883\n",
      "point 5001from 13101\n",
      "------------\n"
     ]
    },
    {
     "name": "stdout",
     "output_type": "stream",
     "text": [
      "time:0.04299664497375488\n",
      "point 5101from 13101\n",
      "------------\n"
     ]
    },
    {
     "name": "stdout",
     "output_type": "stream",
     "text": [
      "time:0.04226994514465332\n",
      "point 5201from 13101\n",
      "------------\n"
     ]
    },
    {
     "name": "stdout",
     "output_type": "stream",
     "text": [
      "time:0.04223179817199707\n",
      "point 5301from 13101\n",
      "------------\n"
     ]
    },
    {
     "name": "stdout",
     "output_type": "stream",
     "text": [
      "time:0.04203033447265625\n",
      "point 5401from 13101\n",
      "------------\n"
     ]
    },
    {
     "name": "stdout",
     "output_type": "stream",
     "text": [
      "time:0.04221510887145996\n",
      "point 5501from 13101\n",
      "------------\n"
     ]
    },
    {
     "name": "stdout",
     "output_type": "stream",
     "text": [
      "time:0.042145490646362305\n",
      "point 5601from 13101\n",
      "------------\n"
     ]
    },
    {
     "name": "stdout",
     "output_type": "stream",
     "text": [
      "time:0.04249382019042969\n",
      "point 5701from 13101\n",
      "------------\n"
     ]
    },
    {
     "name": "stdout",
     "output_type": "stream",
     "text": [
      "time:0.04199695587158203\n",
      "point 5801from 13101\n",
      "------------\n"
     ]
    },
    {
     "name": "stdout",
     "output_type": "stream",
     "text": [
      "time:0.04233717918395996\n",
      "point 5901from 13101\n",
      "------------\n"
     ]
    },
    {
     "name": "stdout",
     "output_type": "stream",
     "text": [
      "time:0.04298138618469238\n",
      "point 6001from 13101\n",
      "------------\n"
     ]
    },
    {
     "name": "stdout",
     "output_type": "stream",
     "text": [
      "time:0.04231524467468262\n",
      "point 6101from 13101\n",
      "------------\n"
     ]
    },
    {
     "name": "stdout",
     "output_type": "stream",
     "text": [
      "time:0.042285919189453125\n",
      "point 6201from 13101\n",
      "------------\n"
     ]
    },
    {
     "name": "stdout",
     "output_type": "stream",
     "text": [
      "time:0.04207253456115723\n",
      "point 6301from 13101\n",
      "------------\n"
     ]
    },
    {
     "name": "stdout",
     "output_type": "stream",
     "text": [
      "time:0.04230618476867676\n",
      "point 6401from 13101\n",
      "------------\n"
     ]
    },
    {
     "name": "stdout",
     "output_type": "stream",
     "text": [
      "time:0.04239296913146973\n",
      "point 6501from 13101\n",
      "------------\n"
     ]
    },
    {
     "name": "stdout",
     "output_type": "stream",
     "text": [
      "time:0.0422968864440918\n",
      "point 6601from 13101\n",
      "------------\n"
     ]
    },
    {
     "name": "stdout",
     "output_type": "stream",
     "text": [
      "time:0.042230844497680664\n",
      "point 6701from 13101\n",
      "------------\n"
     ]
    },
    {
     "name": "stdout",
     "output_type": "stream",
     "text": [
      "time:0.04270672798156738\n",
      "point 6801from 13101\n",
      "------------\n"
     ]
    },
    {
     "name": "stdout",
     "output_type": "stream",
     "text": [
      "time:0.042481184005737305\n",
      "point 6901from 13101\n",
      "------------\n"
     ]
    },
    {
     "name": "stdout",
     "output_type": "stream",
     "text": [
      "time:0.04202628135681152\n",
      "point 7001from 13101\n",
      "------------\n"
     ]
    },
    {
     "name": "stdout",
     "output_type": "stream",
     "text": [
      "time:0.04220175743103027\n",
      "point 7101from 13101\n",
      "------------\n"
     ]
    },
    {
     "name": "stdout",
     "output_type": "stream",
     "text": [
      "time:0.04230809211730957\n",
      "point 7201from 13101\n",
      "------------\n"
     ]
    },
    {
     "name": "stdout",
     "output_type": "stream",
     "text": [
      "time:0.042406320571899414\n",
      "point 7301from 13101\n",
      "------------\n"
     ]
    },
    {
     "name": "stdout",
     "output_type": "stream",
     "text": [
      "time:0.042093753814697266\n",
      "point 7401from 13101\n",
      "------------\n"
     ]
    },
    {
     "name": "stdout",
     "output_type": "stream",
     "text": [
      "time:0.04221796989440918\n",
      "point 7501from 13101\n",
      "------------\n"
     ]
    },
    {
     "name": "stdout",
     "output_type": "stream",
     "text": [
      "time:0.042017459869384766\n",
      "point 7601from 13101\n",
      "------------\n"
     ]
    },
    {
     "name": "stdout",
     "output_type": "stream",
     "text": [
      "time:0.04171299934387207\n",
      "point 7701from 13101\n",
      "------------\n"
     ]
    },
    {
     "name": "stdout",
     "output_type": "stream",
     "text": [
      "time:0.041693925857543945\n",
      "point 7801from 13101\n",
      "------------\n"
     ]
    },
    {
     "name": "stdout",
     "output_type": "stream",
     "text": [
      "time:0.04213118553161621\n",
      "point 7901from 13101\n",
      "------------\n"
     ]
    },
    {
     "name": "stdout",
     "output_type": "stream",
     "text": [
      "time:0.041985511779785156\n",
      "point 8001from 13101\n",
      "------------\n"
     ]
    },
    {
     "name": "stdout",
     "output_type": "stream",
     "text": [
      "time:0.04248642921447754\n",
      "point 8101from 13101\n",
      "------------\n"
     ]
    },
    {
     "name": "stdout",
     "output_type": "stream",
     "text": [
      "time:0.042710065841674805\n",
      "point 8201from 13101\n",
      "------------\n"
     ]
    },
    {
     "name": "stdout",
     "output_type": "stream",
     "text": [
      "time:0.04218745231628418\n",
      "point 8301from 13101\n",
      "------------\n"
     ]
    },
    {
     "name": "stdout",
     "output_type": "stream",
     "text": [
      "time:0.04241824150085449\n",
      "point 8401from 13101\n",
      "------------\n"
     ]
    },
    {
     "name": "stdout",
     "output_type": "stream",
     "text": [
      "time:0.04228091239929199\n",
      "point 8501from 13101\n",
      "------------\n"
     ]
    },
    {
     "name": "stdout",
     "output_type": "stream",
     "text": [
      "time:0.04219388961791992\n",
      "point 8601from 13101\n",
      "------------\n"
     ]
    },
    {
     "name": "stdout",
     "output_type": "stream",
     "text": [
      "time:0.04222536087036133\n",
      "point 8701from 13101\n",
      "------------\n"
     ]
    },
    {
     "name": "stdout",
     "output_type": "stream",
     "text": [
      "time:0.04206657409667969\n",
      "point 8801from 13101\n",
      "------------\n"
     ]
    },
    {
     "name": "stdout",
     "output_type": "stream",
     "text": [
      "time:0.04225730895996094\n",
      "point 8901from 13101\n",
      "------------\n"
     ]
    },
    {
     "name": "stdout",
     "output_type": "stream",
     "text": [
      "time:0.04231882095336914\n",
      "point 9001from 13101\n",
      "------------\n"
     ]
    },
    {
     "name": "stdout",
     "output_type": "stream",
     "text": [
      "time:0.042401790618896484\n",
      "point 9101from 13101\n",
      "------------\n"
     ]
    },
    {
     "name": "stdout",
     "output_type": "stream",
     "text": [
      "time:0.04240298271179199\n",
      "point 9201from 13101\n",
      "------------\n"
     ]
    },
    {
     "name": "stdout",
     "output_type": "stream",
     "text": [
      "time:0.04208993911743164\n",
      "point 9301from 13101\n",
      "------------\n"
     ]
    },
    {
     "name": "stdout",
     "output_type": "stream",
     "text": [
      "time:0.04229092597961426\n",
      "point 9401from 13101\n",
      "------------\n"
     ]
    },
    {
     "name": "stdout",
     "output_type": "stream",
     "text": [
      "time:0.041979074478149414\n",
      "point 9501from 13101\n",
      "------------\n"
     ]
    },
    {
     "name": "stdout",
     "output_type": "stream",
     "text": [
      "time:0.04200863838195801\n",
      "point 9601from 13101\n",
      "------------\n"
     ]
    },
    {
     "name": "stdout",
     "output_type": "stream",
     "text": [
      "time:0.04235100746154785\n",
      "point 9701from 13101\n",
      "------------\n"
     ]
    },
    {
     "name": "stdout",
     "output_type": "stream",
     "text": [
      "time:0.042294979095458984\n",
      "point 9801from 13101\n",
      "------------\n"
     ]
    },
    {
     "name": "stdout",
     "output_type": "stream",
     "text": [
      "time:0.042281389236450195\n",
      "point 9901from 13101\n",
      "------------\n"
     ]
    },
    {
     "name": "stdout",
     "output_type": "stream",
     "text": [
      "time:0.04227089881896973\n",
      "point 10001from 13101\n",
      "------------\n"
     ]
    },
    {
     "name": "stdout",
     "output_type": "stream",
     "text": [
      "time:0.04238104820251465\n",
      "point 10101from 13101\n",
      "------------\n"
     ]
    },
    {
     "name": "stdout",
     "output_type": "stream",
     "text": [
      "time:0.04200172424316406\n",
      "point 10201from 13101\n",
      "------------\n"
     ]
    },
    {
     "name": "stdout",
     "output_type": "stream",
     "text": [
      "time:0.042157649993896484\n",
      "point 10301from 13101\n",
      "------------\n"
     ]
    },
    {
     "name": "stdout",
     "output_type": "stream",
     "text": [
      "time:0.042000770568847656\n",
      "point 10401from 13101\n",
      "------------\n"
     ]
    },
    {
     "name": "stdout",
     "output_type": "stream",
     "text": [
      "time:0.04229283332824707\n",
      "point 10501from 13101\n",
      "------------\n"
     ]
    },
    {
     "name": "stdout",
     "output_type": "stream",
     "text": [
      "time:0.04247784614562988\n",
      "point 10601from 13101\n",
      "------------\n"
     ]
    },
    {
     "name": "stdout",
     "output_type": "stream",
     "text": [
      "time:0.04194378852844238\n",
      "point 10701from 13101\n",
      "------------\n"
     ]
    },
    {
     "name": "stdout",
     "output_type": "stream",
     "text": [
      "time:0.0419316291809082\n",
      "point 10801from 13101\n",
      "------------\n"
     ]
    },
    {
     "name": "stdout",
     "output_type": "stream",
     "text": [
      "time:0.04165339469909668\n",
      "point 10901from 13101\n",
      "------------\n"
     ]
    },
    {
     "name": "stdout",
     "output_type": "stream",
     "text": [
      "time:0.041855812072753906\n",
      "point 11001from 13101\n",
      "------------\n"
     ]
    },
    {
     "name": "stdout",
     "output_type": "stream",
     "text": [
      "time:0.04183220863342285\n",
      "point 11101from 13101\n",
      "------------\n"
     ]
    },
    {
     "name": "stdout",
     "output_type": "stream",
     "text": [
      "time:0.04192614555358887\n",
      "point 11201from 13101\n",
      "------------\n"
     ]
    },
    {
     "name": "stdout",
     "output_type": "stream",
     "text": [
      "time:0.042081594467163086\n",
      "point 11301from 13101\n",
      "------------\n"
     ]
    },
    {
     "name": "stdout",
     "output_type": "stream",
     "text": [
      "time:0.04216575622558594\n",
      "point 11401from 13101\n",
      "------------\n"
     ]
    },
    {
     "name": "stdout",
     "output_type": "stream",
     "text": [
      "time:0.04185009002685547\n",
      "point 11501from 13101\n",
      "------------\n"
     ]
    },
    {
     "name": "stdout",
     "output_type": "stream",
     "text": [
      "time:0.041756629943847656\n",
      "point 11601from 13101\n",
      "------------\n"
     ]
    },
    {
     "name": "stdout",
     "output_type": "stream",
     "text": [
      "time:0.042040109634399414\n",
      "point 11701from 13101\n",
      "------------\n"
     ]
    },
    {
     "name": "stdout",
     "output_type": "stream",
     "text": [
      "time:0.041756629943847656\n",
      "point 11801from 13101\n",
      "------------\n"
     ]
    },
    {
     "name": "stdout",
     "output_type": "stream",
     "text": [
      "time:0.041857242584228516\n",
      "point 11901from 13101\n",
      "------------\n"
     ]
    },
    {
     "name": "stdout",
     "output_type": "stream",
     "text": [
      "time:0.04204607009887695\n",
      "point 12001from 13101\n",
      "------------\n"
     ]
    },
    {
     "name": "stdout",
     "output_type": "stream",
     "text": [
      "time:0.042044878005981445\n",
      "point 12101from 13101\n",
      "------------\n"
     ]
    },
    {
     "name": "stdout",
     "output_type": "stream",
     "text": [
      "time:0.0420374870300293\n",
      "point 12201from 13101\n",
      "------------\n"
     ]
    },
    {
     "name": "stdout",
     "output_type": "stream",
     "text": [
      "time:0.04198932647705078\n",
      "point 12301from 13101\n",
      "------------\n"
     ]
    },
    {
     "name": "stdout",
     "output_type": "stream",
     "text": [
      "time:0.042592763900756836\n",
      "point 12401from 13101\n",
      "------------\n"
     ]
    },
    {
     "name": "stdout",
     "output_type": "stream",
     "text": [
      "time:0.04192709922790527\n",
      "point 12501from 13101\n",
      "------------\n"
     ]
    },
    {
     "name": "stdout",
     "output_type": "stream",
     "text": [
      "time:0.04192781448364258\n",
      "point 12601from 13101\n",
      "------------\n"
     ]
    },
    {
     "name": "stdout",
     "output_type": "stream",
     "text": [
      "time:0.041811466217041016\n",
      "point 12701from 13101\n",
      "------------\n"
     ]
    },
    {
     "name": "stdout",
     "output_type": "stream",
     "text": [
      "time:0.041847944259643555\n",
      "point 12801from 13101\n",
      "------------\n"
     ]
    },
    {
     "name": "stdout",
     "output_type": "stream",
     "text": [
      "time:0.04190945625305176\n",
      "point 12901from 13101\n",
      "------------\n"
     ]
    },
    {
     "name": "stdout",
     "output_type": "stream",
     "text": [
      "time:0.041985511779785156\n",
      "point 13001from 13101\n",
      "------------\n"
     ]
    },
    {
     "name": "stdout",
     "output_type": "stream",
     "text": [
      "time:0.04268217086791992\n",
      "point 13101from 13101\n",
      "------------\n"
     ]
    },
    {
     "ename": "IsADirectoryError",
     "evalue": "[Errno 21] Is a directory: '/gpfs/soma_fs/scratch/meulemeester/project_src/in_silico_framework/getting_started/radii/data/neuron1/output_aligned'",
     "output_type": "error",
     "traceback": [
      "\u001b[0;31m---------------------------------------------------------------------------\u001b[0m",
      "\u001b[0;31mIsADirectoryError\u001b[0m                         Traceback (most recent call last)",
      "Cell \u001b[0;32mIn[1], line 4\u001b[0m\n\u001b[1;32m      2\u001b[0m p2\u001b[38;5;241m.\u001b[39mset_am_paths_by_folder(I\u001b[38;5;241m.\u001b[39mos\u001b[38;5;241m.\u001b[39mpath\u001b[38;5;241m.\u001b[39mjoin(DATA_DIR, \u001b[38;5;124m'\u001b[39m\u001b[38;5;124mam_analysis\u001b[39m\u001b[38;5;124m'\u001b[39m))\n\u001b[1;32m      3\u001b[0m p2\u001b[38;5;241m.\u001b[39mset_output_path(I\u001b[38;5;241m.\u001b[39mos\u001b[38;5;241m.\u001b[39mpath\u001b[38;5;241m.\u001b[39mjoin(DATA_DIR, \u001b[38;5;124m'\u001b[39m\u001b[38;5;124moutput_aligned\u001b[39m\u001b[38;5;124m'\u001b[39m))\n\u001b[0;32m----> 4\u001b[0m \u001b[43mp2\u001b[49m\u001b[38;5;241;43m.\u001b[39;49m\u001b[43mrun\u001b[49m\u001b[43m(\u001b[49m\u001b[43m)\u001b[49m\n",
      "File \u001b[0;32m/gpfs/soma_fs/scratch/meulemeester/project_src/in_silico_framework/dendrite_thickness/thickness/pipeline.py:198\u001b[0m, in \u001b[0;36mExtractThicknessPipeline.run\u001b[0;34m(self)\u001b[0m\n\u001b[1;32m    196\u001b[0m \u001b[38;5;28;01mdef\u001b[39;00m \u001b[38;5;21mrun\u001b[39m(\u001b[38;5;28mself\u001b[39m):\n\u001b[1;32m    197\u001b[0m     \u001b[38;5;28mself\u001b[39m\u001b[38;5;241m.\u001b[39m_run1()\n\u001b[0;32m--> 198\u001b[0m     df \u001b[38;5;241m=\u001b[39m \u001b[38;5;28;43mself\u001b[39;49m\u001b[38;5;241;43m.\u001b[39;49m\u001b[43m_run2\u001b[49m\u001b[43m(\u001b[49m\u001b[43m)\u001b[49m\n\u001b[1;32m    199\u001b[0m     \u001b[38;5;28;01mreturn\u001b[39;00m df\n",
      "File \u001b[0;32m/gpfs/soma_fs/scratch/meulemeester/project_src/in_silico_framework/dendrite_thickness/thickness/pipeline.py:222\u001b[0m, in \u001b[0;36mExtractThicknessPipeline._run2\u001b[0;34m(self)\u001b[0m\n\u001b[1;32m    220\u001b[0m \u001b[38;5;28mself\u001b[39m\u001b[38;5;241m.\u001b[39m_transform_points()\n\u001b[1;32m    221\u001b[0m \u001b[38;5;28mself\u001b[39m\u001b[38;5;241m.\u001b[39m_stacking_all_slices()\n\u001b[0;32m--> 222\u001b[0m \u001b[38;5;28;43mself\u001b[39;49m\u001b[38;5;241;43m.\u001b[39;49m\u001b[43m_update_hoc_file_with_thicknesses\u001b[49m\u001b[43m(\u001b[49m\u001b[43m)\u001b[49m\n\u001b[1;32m    223\u001b[0m \u001b[38;5;28mself\u001b[39m\u001b[38;5;241m.\u001b[39m_compute_all_data_table()\n",
      "File \u001b[0;32m/gpfs/soma_fs/scratch/meulemeester/project_src/in_silico_framework/dendrite_thickness/thickness/pipeline.py:324\u001b[0m, in \u001b[0;36mExtractThicknessPipeline._update_hoc_file_with_thicknesses\u001b[0;34m(self)\u001b[0m\n\u001b[1;32m    322\u001b[0m         \u001b[38;5;28mprint\u001b[39m(\u001b[38;5;124m\"\u001b[39m\u001b[38;5;124mpoint \u001b[39m\u001b[38;5;124m\"\u001b[39m \u001b[38;5;241m+\u001b[39m \u001b[38;5;28mstr\u001b[39m(idx \u001b[38;5;241m+\u001b[39m \u001b[38;5;241m1\u001b[39m) \u001b[38;5;241m+\u001b[39m \u001b[38;5;124m\"\u001b[39m\u001b[38;5;124mfrom \u001b[39m\u001b[38;5;124m\"\u001b[39m \u001b[38;5;241m+\u001b[39m \u001b[38;5;28mstr\u001b[39m(total_points))\n\u001b[1;32m    323\u001b[0m         \u001b[38;5;28mprint\u001b[39m(\u001b[38;5;124m\"\u001b[39m\u001b[38;5;124m------------\u001b[39m\u001b[38;5;124m\"\u001b[39m)\n\u001b[0;32m--> 324\u001b[0m \u001b[38;5;28;43mself\u001b[39;49m\u001b[38;5;241;43m.\u001b[39;49m\u001b[43mhoc_object\u001b[49m\u001b[38;5;241;43m.\u001b[39;49m\u001b[43mupdate_thicknesses\u001b[49m\u001b[43m(\u001b[49m\u001b[43m)\u001b[49m\n",
      "File \u001b[0;32m/gpfs/soma_fs/scratch/meulemeester/project_src/in_silico_framework/dendrite_thickness/thickness/IO.py:245\u001b[0m, in \u001b[0;36mHoc.update_thicknesses\u001b[0;34m(self)\u001b[0m\n\u001b[1;32m    242\u001b[0m output_path \u001b[38;5;241m=\u001b[39m \u001b[38;5;28mself\u001b[39m\u001b[38;5;241m.\u001b[39moutput_path\n\u001b[1;32m    244\u001b[0m \u001b[38;5;28;01mwith\u001b[39;00m \u001b[38;5;28mopen\u001b[39m(input_path, \u001b[38;5;124m'\u001b[39m\u001b[38;5;124mr\u001b[39m\u001b[38;5;124m'\u001b[39m) \u001b[38;5;28;01mas\u001b[39;00m readHocFile:\n\u001b[0;32m--> 245\u001b[0m     \u001b[38;5;28;01mwith\u001b[39;00m \u001b[38;5;28;43mopen\u001b[39;49m\u001b[43m(\u001b[49m\u001b[43moutput_path\u001b[49m\u001b[43m,\u001b[49m\u001b[43m \u001b[49m\u001b[38;5;124;43m'\u001b[39;49m\u001b[38;5;124;43mw\u001b[39;49m\u001b[38;5;124;43m'\u001b[39;49m\u001b[43m)\u001b[49m \u001b[38;5;28;01mas\u001b[39;00m writeHocFile:\n\u001b[1;32m    246\u001b[0m         lines \u001b[38;5;241m=\u001b[39m readHocFile\u001b[38;5;241m.\u001b[39mreadlines()\n\u001b[1;32m    247\u001b[0m         neuron_section \u001b[38;5;241m=\u001b[39m \u001b[38;5;28;01mFalse\u001b[39;00m\n",
      "\u001b[0;31mIsADirectoryError\u001b[0m: [Errno 21] Is a directory: '/gpfs/soma_fs/scratch/meulemeester/project_src/in_silico_framework/getting_started/radii/data/neuron1/output_aligned'"
     ]
    }
   ],
   "source": [
    "p2 = p\n",
    "p2.set_am_paths_by_folder(I.os.path.join(DATA_DIR, 'am_analysis'))\n",
    "p2.set_output_path(I.os.path.join(DATA_DIR, 'output_aligned'))\n",
    "p2.run()"
   ]
  },
  {
   "cell_type": "code",
   "execution_count": null,
   "metadata": {},
   "outputs": [],
   "source": [
    "df2 = get_all_data_output_table(\n",
    "p.all_slices,\n",
    "p.default_threshold\n",
    ")"
   ]
  },
  {
   "cell_type": "code",
   "execution_count": null,
   "metadata": {},
   "outputs": [],
   "source": [
    "fig2 = get_fig(p)\n",
    "fig.show(renderer=\"iframe_connected\")"
   ]
  },
  {
   "cell_type": "code",
   "execution_count": null,
   "metadata": {},
   "outputs": [],
   "source": []
  }
 ],
 "metadata": {
  "kernelspec": {
   "display_name": "isf3.8",
   "language": "python",
   "name": "base"
  },
  "language_info": {
   "codemirror_mode": {
    "name": "ipython",
    "version": 3
   },
   "file_extension": ".py",
   "mimetype": "text/x-python",
   "name": "python",
   "nbconvert_exporter": "python",
   "pygments_lexer": "ipython3",
   "version": "3.8.5"
  }
 },
 "nbformat": 4,
 "nbformat_minor": 4
}
