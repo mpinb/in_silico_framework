{
 "cells": [
  {
   "cell_type": "markdown",
   "metadata": {},
   "source": [
    "# Introduction to tutorials\n",
    "\n",
    "ISF is capable of many workflows. This directory provides a variety of example workflows applied to the rat barrel cortex, and layer 5 pyramidal tract neurons (L5PTs) in the barrel cortex. If you are not familiar with the barrel cortex, or L5PTs, we recommend going over this notebook before following the tutorials."
   ]
  },
  {
   "cell_type": "markdown",
   "metadata": {},
   "source": [
    "## Barrel Cortex\n",
    "\n",
    "The Barrel Cortex (BC) of the rat is a roughly $4$ x $4$ x $2$ $mm$ cortical area, containing about half a million of neurons, and half a billion of synapses. \n",
    "It is canonically thought of the primary processig unit of somatosensation of the whiskers. The rat whisker system is organized in arcs and columns, just like the barrel cortex; the barrel cortex is somatotopically alligned with the whisker system. Each whisker can be somatotopically linked to a barrel in the barrel cortex. A single barrel is a columnar structure that spans the depth of the neocortex. Since \"column\" would induce confusion with the somatotopical structure, \"barrel\" is used to denote these cortical units.\n",
    "\n",
    "One can also identify layers across the barrel cortex, which are defined by soma sizes. Canonically, there are $6$ layers in the BC, defined by the soma sizes of their containing neurons. \n",
    "\n",
    "\n",
    "## The L5PT\n",
    "The tutorials tend to focus a lot on layer 5. Here, we find (among others) the Layer 5 Pyramidal Tract (L5PT) neuron, where \"pyramidal\" denotes the general triangular shape of the soma. They are also known under the names:\n",
    "- \"Layer 5 Extratelencephalic\" (L5ET), highlighting the fact that they project out of the cortex\n",
    "- \"Layer 5 thick-tufted\" (L5tt), highlighting the elaborate dendritic tree that innervates the upper layers, in stark contrast to the Layer 5 slender-tufted neurons.\n",
    "\n",
    "An example morphology of L5PTs can be seen below.\n",
    "\n",
    "<img src=\"../../docs/_static/morphology_names@300x.png\" alt=\"l5pt_morphology\"  width=\"30%\"/>\n",
    "\n",
    "\"Apical dendrite\" refers to the fact that the dendrite originates from the apex of the soma, or the \"upper point\" of the pyramidal shape."
   ]
  },
  {
   "cell_type": "code",
   "execution_count": null,
   "metadata": {},
   "outputs": [],
   "source": []
  }
 ],
 "metadata": {
  "language_info": {
   "name": "python"
  }
 },
 "nbformat": 4,
 "nbformat_minor": 2
}
