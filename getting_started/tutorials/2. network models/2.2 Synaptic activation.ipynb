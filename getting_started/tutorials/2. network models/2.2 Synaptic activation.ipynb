{
 "cells": [
  {
   "cell_type": "markdown",
   "metadata": {},
   "source": [
    "# Simulating synaptic activation"
   ]
  },
  {
   "cell_type": "markdown",
   "metadata": {},
   "source": [
    "[The previous notebook](./2.1%20Anatomical%20embedding.ipynb) provided us with an anatomical reconstruction of the barrel cortex, defining locations of presynaptic cells, and post-synaptic targets onto our cell of interest: an L5PT."
   ]
  },
  {
   "cell_type": "markdown",
   "metadata": {},
   "source": [
    "Now we need to activate the synapses according to experimental data, such that the synapse activation represents a passive touch experiment."
   ]
  },
  {
   "cell_type": "markdown",
   "metadata": {},
   "source": [
    "To do this, we need the following information\n",
    " 1. A parameter file specifying characteristics of the synaspses by celltype\n",
    " 2. A parameterfile specifying the ongoing activity by celltype\n",
    " 3. Parameterfiles specifying evoked response by stimulus, celltype and celllocation"
   ]
  },
  {
   "cell_type": "code",
   "execution_count": 1,
   "metadata": {},
   "outputs": [
    {
     "name": "stdout",
     "output_type": "stream",
     "text": [
      "[INFO] l5pt: Loading mechanisms:\n"
     ]
    },
    {
     "name": "stderr",
     "output_type": "stream",
     "text": [
      "Warning: no DISPLAY environment variable.\n",
      "--No graphics will be displayed.\n"
     ]
    },
    {
     "name": "stdout",
     "output_type": "stream",
     "text": [
      "[INFO] distributed_lock: trying to connect to distributed locking server {'config': {'hosts': 'somalogin02:33333'}, 'type': 'zookeeper'}\n",
      "[INFO] distributed_lock: success!\n",
      "[INFO] ISF: Current version: heads/docs+0.gc6b09d63.dirty\n",
      "[INFO] ISF: Current pid: 170732\n",
      "[WARNING] warnings: /gpfs/soma_fs/scratch/meulemeester/envs/anaconda_isf3.8/lib/python3.8/site-packages/pandas_msgpack-0.1.4+14.gfcb0471.dirty-py3.8-linux-x86_64.egg/pandas_msgpack/packers.py:78: FutureWarning: The Panel class is removed from pandas. Accessing it from the top-level namespace will also be removed in the next version\n",
      "  from pandas import (Timestamp, Period, Series, DataFrame,  # noqa\n",
      "\n",
      "[WARNING] cell_morphology_visualizer: cannot import name 'escape' from 'jinja2' (/gpfs/soma_fs/scratch/meulemeester/envs/anaconda_isf3.8/lib/python3.8/site-packages/jinja2/__init__.py)\n",
      "[WARNING] warnings: /gpfs/soma_fs/scratch/meulemeester/project_src/in_silico_framework/Interface.py:212: UserWarning: The source folder has uncommited changes!\n",
      "  if get_versions()['dirty']: warnings.warn('The source folder has uncommited changes!')\n",
      "\n",
      "[WARNING] ISF: Could not load linked views\n",
      "\n",
      "\n",
      "\n",
      "[INFO] ISF: Loaded modules with __version__ attribute are:\n",
      "IPython: 8.12.3, Interface: heads/docs+0.gc6b09d63.dirty, PIL: 8.2.0, _csv: 1.0, _ctypes: 1.1.0, _curses: b'2.2', _decimal: 1.70, argparse: 1.1, attr: 23.2.0, backcall: 0.2.0, blake3: 0.3.3, blosc: 1.10.2, bluepyopt: 1.9.126, bottleneck: 1.3.2, cffi: 1.14.3, click: 7.1.2, cloudpickle: 1.6.0, colorama: 0.4.4, comm: 0.2.2, csv: 1.0, ctypes: 1.1.0, cycler: 0.10.0, cytoolz: 0.11.0, dask: 2.30.0, dateutil: 2.9.0.post0, deap: 1.3, debugpy: 1.8.1, decimal: 1.70, decorator: 4.4.2, distributed: 2.30.1, distutils: 3.8.5, executing: 2.0.1, filelock: 3.0.12, fsspec: 0.8.3, future: 0.18.2, gevent: 20.9.0, greenlet: 0.4.17, ipaddress: 1.0, ipykernel: 6.29.4, ipython_genutils: 0.2.0, ipywidgets: 7.5.1, jedi: 0.17.1, jinja2: 3.1.4, joblib: 0.17.0, json: 2.0.9, jupyter_client: 8.6.2, jupyter_core: 5.7.2, kazoo: 2.8.0, kiwisolver: 1.3.0, logging: 0.5.1.2, markupsafe: 2.1.5, matplotlib: 3.3.2, mkl: 2.3.0, neuron: 7.8.2, numexpr: 2.7.1, numpy: 1.19.2, packaging: 20.4, pandas: 1.1.3, pandas_msgpack: 0.1.4+14.gfcb0471.dirty, parameters: 0.2.1, parso: 0.7.0, past: 0.18.2, pexpect: 4.8.0, pickleshare: 0.7.5, platform: 1.0.8, platformdirs: 4.2.2, prompt_toolkit: 3.0.47, psutil: 5.7.2, ptyprocess: 0.6.0, pure_eval: 0.2.2, pyarrow: 12.0.1, pydantic: 1.10.4, pydevd: 2.9.5, pygments: 2.16.1, pyparsing: 2.4.7, pytz: 2020.1, re: 2.2.1, scandir: 1.10.0, scipy: 1.5.2, seaborn: 0.11.0, six: 1.15.0, sklearn: 0.23.2, socketserver: 0.4, sortedcontainers: 2.2.2, stack_data: 0.6.3, statsmodels: 0.12.0, sumatra: 0.7.4, tables: 3.6.1, tblib: 1.7.0, tlz: 0.11.0, toolz: 0.11.1, traitlets: 5.14.3, wcwidth: 0.2.5, yaml: 5.3.1, zlib: 1.0, zmq: 26.0.3\n"
     ]
    }
   ],
   "source": [
    "import Interface as I\n",
    "from getting_started import getting_started_dir\n",
    "db = I.DataBase('{}/labs/getting_started_db/'.format(I.os.environ['HOME']))\n",
    "\n",
    "con_file = db['anatomical_constraints'].get_file('.con')\n",
    "con_file_path = db['anatomical_constraints'].join(con_file)\n",
    "syn_file = db['anatomical_constraints'].get_file('.syn')\n",
    "syn_file_path = db['anatomical_constraints'].join(syn_file)"
   ]
  },
  {
   "cell_type": "markdown",
   "metadata": {},
   "source": [
    "## Step 1: characterize ongoing activity"
   ]
  },
  {
   "cell_type": "code",
   "execution_count": 2,
   "metadata": {},
   "outputs": [
    {
     "data": {
      "text/plain": [
       "'/gpfs/soma_fs/scratch/meulemeester/project_src/in_silico_framework/getting_started'"
      ]
     },
     "execution_count": 2,
     "metadata": {},
     "output_type": "execute_result"
    }
   ],
   "source": [
    "getting_started_dir"
   ]
  },
  {
   "cell_type": "code",
   "execution_count": 3,
   "metadata": {},
   "outputs": [],
   "source": [
    "ongoing_template_param_name = I.os.path.join(\n",
    "    getting_started_dir, \n",
    "    'example_data',\n",
    "    'functional_constraints',\n",
    "    'ongoing_activity',\n",
    "    'ongoing_activity_celltype_template_exc_conductances_fitted.param')"
   ]
  },
  {
   "cell_type": "markdown",
   "metadata": {},
   "source": [
    "In this parameter file, the following keys are defined"
   ]
  },
  {
   "cell_type": "code",
   "execution_count": 4,
   "metadata": {},
   "outputs": [
    {
     "data": {
      "text/plain": [
       "dict_keys(['info', 'network', 'NMODL_mechanisms'])"
      ]
     },
     "execution_count": 4,
     "metadata": {},
     "output_type": "execute_result"
    }
   ],
   "source": [
    "ongoing_template_param = I.scp.build_parameters(ongoing_template_param_name)\n",
    "ongoing_template_param.keys()"
   ]
  },
  {
   "cell_type": "markdown",
   "metadata": {},
   "source": [
    "The most relevant information is specified in the network key:"
   ]
  },
  {
   "cell_type": "code",
   "execution_count": 5,
   "metadata": {},
   "outputs": [
    {
     "data": {
      "text/plain": [
       "dict_keys(['L2', 'L34', 'L4py', 'L4sp', 'L4ss', 'L5st', 'L5tt', 'L6cc', 'L6ccinv', 'L6ct', 'VPM', 'L1', 'L23Trans', 'L45Peak', 'L45Sym', 'L56Trans', 'SymLocal1', 'SymLocal2', 'SymLocal3', 'SymLocal4', 'SymLocal5', 'SymLocal6'])"
      ]
     },
     "execution_count": 5,
     "metadata": {},
     "output_type": "execute_result"
    }
   ],
   "source": [
    "ongoing_template_param.network.keys()"
   ]
  },
  {
   "cell_type": "markdown",
   "metadata": {},
   "source": [
    "Here, parameters are defined for each presynaptic celltype:"
   ]
  },
  {
   "cell_type": "code",
   "execution_count": 6,
   "metadata": {},
   "outputs": [
    {
     "data": {
      "text/plain": [
       "{'celltype': 'spiketrain',\n",
       " 'interval': 283.3,\n",
       " 'synapses': {'receptors': {'glutamate_syn': {'threshold': 0.0,\n",
       "    'delay': 0.0,\n",
       "    'parameter': {'tau1': 26.0,\n",
       "     'tau2': 2.0,\n",
       "     'tau3': 2.0,\n",
       "     'tau4': 0.1,\n",
       "     'decayampa': 1.0,\n",
       "     'decaynmda': 1.0,\n",
       "     'facilampa': 0.0,\n",
       "     'facilnmda': 0.0},\n",
       "    'weight': [1.59, 1.59]}},\n",
       "  'releaseProb': 0.6}}"
      ]
     },
     "execution_count": 6,
     "metadata": {},
     "output_type": "execute_result"
    }
   ],
   "source": [
    "ongoing_template_param.network.L5tt"
   ]
  },
  {
   "cell_type": "markdown",
   "metadata": {},
   "source": [
    " - `interval`: mean ongoing interspike interval\n",
    " - `releaseProb`: chance that synapse gets activated if presynaptic cell gets activated\n",
    " - `synapses.receptors.glutamate_syn.parameter`: \n",
    "    - parameters for the NEURON mechanism defined in [mechanisms.channels](../../../mechanisms/l5pt/__init__.py)\n",
    "      - `tau1`: NMDA decay time\n",
    "      - `tau2`: NMDA rise time\n",
    "      - `tau3`: AMPA decay time\n",
    "      - `tau4`: AMPA rise time\n",
    " - `synapses.receptors.weight`\n",
    "      - maximum conductance of the synapse for AMPA and NMDA, respectively"
   ]
  },
  {
   "cell_type": "markdown",
   "metadata": {},
   "source": [
    "## Step 2: characterize evoked activity\n",
    "\n",
    "Evoked activity captures the network activity during a specific *in-vivo* condition.\n",
    "The experimental condition we will consider here is a passive whisker touch of the rat.\n",
    "We have files capturing the activity of all celltypes in all locations across the rat barrel cortex.\n",
    "Let's see what their activity was when we touched the whisker in arc C, row 2."
   ]
  },
  {
   "cell_type": "code",
   "execution_count": 7,
   "metadata": {},
   "outputs": [],
   "source": [
    "evokedPrefix = I.os.path.join(getting_started_dir, 'example_data/functional_constraints/evoked_activity/PW_SuW_RF_CDK/')\n",
    "excitatory_PSTHs = [fname for fname in I.os.listdir(evokedPrefix) if fname.endswith('PSTH_UpState.param')]\n",
    "inhibitory_PSTHs = [fname for fname in I.os.listdir(evokedPrefix) if fname.endswith('active_timing_normalized_PW_1.0_SuW_0.5.param')]"
   ]
  },
  {
   "cell_type": "markdown",
   "metadata": {},
   "source": [
    "Let's have a look at a specific parameterfile:"
   ]
  },
  {
   "cell_type": "code",
   "execution_count": 8,
   "metadata": {},
   "outputs": [
    {
     "data": {
      "text/plain": [
       "['L4ss_3x3_PSTH_UpState.param',\n",
       " 'L4sp_3x3_PSTH_UpState.param',\n",
       " 'L4py_3x3_PSTH_UpState.param',\n",
       " 'L5st_3x3_PSTH_UpState.param',\n",
       " 'L6ct_3x3_PSTH_UpState.param',\n",
       " 'L6cc_3x3_PSTH_UpState.param',\n",
       " 'L6ccinv_3x3_PSTH_UpState.param',\n",
       " 'L2_3x3_PSTH_UpState.param',\n",
       " 'L34_3x3_PSTH_UpState.param',\n",
       " 'L5tt_3x3_PSTH_UpState.param']"
      ]
     },
     "execution_count": 8,
     "metadata": {},
     "output_type": "execute_result"
    }
   ],
   "source": [
    "excitatory_PSTHs"
   ]
  },
  {
   "cell_type": "code",
   "execution_count": 9,
   "metadata": {},
   "outputs": [
    {
     "data": {
      "text/plain": [
       "dict_keys(['L6cc_B1', 'L6cc_B2', 'L6cc_B3', 'L6cc_C1', 'L6cc_C2', 'L6cc_C3', 'L6cc_D1', 'L6cc_D2', 'L6cc_D3'])"
      ]
     },
     "execution_count": 9,
     "metadata": {},
     "output_type": "execute_result"
    }
   ],
   "source": [
    "example_PSTH = I.scp.build_parameters(I.os.path.join(evokedPrefix, excitatory_PSTHs[-5]))\n",
    "example_PSTH.keys()"
   ]
  },
  {
   "cell_type": "markdown",
   "metadata": {},
   "source": [
    "We have entries for each column, each containing the respective evoked PSTH in a C2 stimulus scenario:"
   ]
  },
  {
   "cell_type": "code",
   "execution_count": 10,
   "metadata": {},
   "outputs": [
    {
     "data": {
      "text/plain": [
       "dict_keys(['distribution', 'intervals', 'probabilities'])"
      ]
     },
     "execution_count": 10,
     "metadata": {},
     "output_type": "execute_result"
    }
   ],
   "source": [
    "example_PSTH['L6cc_B1'].keys()"
   ]
  },
  {
   "cell_type": "code",
   "execution_count": 11,
   "metadata": {},
   "outputs": [
    {
     "name": "stdout",
     "output_type": "stream",
     "text": [
      "distribution: PSTH\n",
      "\n",
      "intervals: [(10.0, 11.0), (11.0, 12.0), (20.0, 21.0), (22.0, 23.0), (32.0, 33.0), (33.0, 34.0), (34.0, 35.0), (36.0, 37.0), (37.0, 38.0), (41.0, 42.0), (43.0, 44.0), (45.0, 46.0)]\n",
      "\n",
      "probabilities: [0.0034, 0.0034, 0.0072, 0.0034, 0.0034, 0.0034, 0.0034, 0.0034, 0.0034, 0.0034, 0.0034, 0.0034]\n",
      "\n"
     ]
    }
   ],
   "source": [
    "for k,v in example_PSTH['L6cc_B1'].items():\n",
    "    print('{}: {}\\n'.format(k,v))"
   ]
  },
  {
   "cell_type": "code",
   "execution_count": 12,
   "metadata": {},
   "outputs": [
    {
     "data": {
      "image/png": "[encoded data removed]",
      "text/plain": [
       "<Figure size 640x480 with 1 Axes>"
      ]
     },
     "metadata": {},
     "output_type": "display_data"
    }
   ],
   "source": [
    "%matplotlib inline\n",
    "cmap = I.plt.get_cmap('Set3')\n",
    "fig, ax = I.plt.subplots()\n",
    "for i, celltype in enumerate(example_PSTH.keys()):\n",
    "    x = [b[0] for b in example_PSTH[celltype]['intervals']]\n",
    "    I.plt.bar(\n",
    "        x, \n",
    "        example_PSTH[celltype]['probabilities'], \n",
    "        facecolor=\"#00000000\", \n",
    "        edgecolor=cmap(i),\n",
    "        lw=2,\n",
    "        label=celltype)\n",
    "I.plt.legend(bbox_to_anchor=(1.3, .99))\n",
    "I.plt.xlabel(\"Time (ms)\")\n",
    "I.plt.ylabel(\"Spike probability\")\n",
    "I.plt.title(\"L6cc activity during passive touch of whisker C2\")\n",
    "I.plt.show()"
   ]
  },
  {
   "cell_type": "markdown",
   "metadata": {},
   "source": [
    "## Step 3: Combine ongoing and evoked activity into a network parameter file"
   ]
  },
  {
   "cell_type": "markdown",
   "metadata": {},
   "source": [
    "Next, we combine all data to one parameterfile, which then describes the activation of presynaptic cells and synapses during a **passive whisker touch** scenario, given our cellmorphology and the anatomical network realization. To so, we use the `create_evoked_network_parameter` function:"
   ]
  },
  {
   "cell_type": "code",
   "execution_count": 13,
   "metadata": {},
   "outputs": [
    {
     "name": "stdout",
     "output_type": "stream",
     "text": [
      "*************\n",
      "creating network parameter file from template /gpfs/soma_fs/scratch/meulemeester/project_src/in_silico_framework/getting_started/example_data/functional_constraints/ongoing_activity/ongoing_activity_celltype_template_exc_conductances_fitted.param\n",
      "*************\n"
     ]
    }
   ],
   "source": [
    "whisker = 'C2' \n",
    "# cell number spreadsheet generated in anatomical realization step.\n",
    "cell_number_file_name = db['anatomical_constraints'].join('NumberOfConnectedCells.csv')\n",
    "if not 'network_param' in db.keys(): db.create_managed_folder('network_param')\n",
    "out_file_name = db['network_param'].join('C2_stim.param')\n",
    "I.create_evoked_network_parameter(\n",
    "    ongoing_template_param_name, \n",
    "    cell_number_file_name,\n",
    "    syn_file_path, \n",
    "    con_file_path, \n",
    "    whisker, \n",
    "    out_file_name\n",
    ")"
   ]
  },
  {
   "cell_type": "markdown",
   "metadata": {},
   "source": [
    "Let's also generate parameterfiles for surround whisker stimuli!"
   ]
  },
  {
   "cell_type": "code",
   "execution_count": 14,
   "metadata": {},
   "outputs": [],
   "source": [
    "with I.silence_stdout:\n",
    "    for whisker in ['B1', 'B2', 'B3', 'C1', 'C3', 'D1', 'D2', 'D3']:\n",
    "        I.create_evoked_network_parameter(\n",
    "            ongoing_template_param_name, \n",
    "            cell_number_file_name, \n",
    "            syn_file_path, con_file_path, \n",
    "            whisker,\n",
    "            db['network_param'].join('{}_stim.param'.format(whisker))\n",
    "            )"
   ]
  },
  {
   "cell_type": "markdown",
   "metadata": {},
   "source": [
    "##### what does the result look like?"
   ]
  },
  {
   "cell_type": "code",
   "execution_count": 15,
   "metadata": {},
   "outputs": [],
   "source": [
    "network_param_C2 = I.scp.build_parameters(db['network_param'].join('C2_stim.param'))"
   ]
  },
  {
   "cell_type": "code",
   "execution_count": 16,
   "metadata": {},
   "outputs": [
    {
     "data": {
      "text/plain": [
       "dict_keys(['info', 'NMODL_mechanisms', 'network'])"
      ]
     },
     "execution_count": 16,
     "metadata": {},
     "output_type": "execute_result"
    }
   ],
   "source": [
    "network_param_C2.keys()"
   ]
  },
  {
   "cell_type": "code",
   "execution_count": 17,
   "metadata": {},
   "outputs": [
    {
     "data": {
      "text/plain": [
       "dict_keys(['L2_Alpha', 'L2_B1', 'L2_B2', 'L2_B3', 'L2_B4', 'L2_Beta', 'L2_C1', 'L2_C2', 'L2_C3', 'L2_C4', 'L2_D1', 'L2_D2', 'L2_D3', 'L2_D4', 'L2_E1', 'L2_E2', 'L2_Gamma', 'L34_A1', 'L34_A2', 'L34_A3', 'L34_A4', 'L34_Alpha', 'L34_B1', 'L34_B2', 'L34_B3', 'L34_B4', 'L34_Beta', 'L34_C1', 'L34_C2', 'L34_C3', 'L34_C4', 'L34_D1', 'L34_D2', 'L34_D3', 'L34_Delta', 'L34_E1', 'L34_E2', 'L34_E3', 'L34_Gamma', 'L4py_A1', 'L4py_A2', 'L4py_A3', 'L4py_A4', 'L4py_Alpha', 'L4py_B1', 'L4py_B2', 'L4py_B3', 'L4py_B4', 'L4py_C1', 'L4py_C2', 'L4py_C3', 'L4py_C4', 'L4py_D1', 'L4py_D2', 'L4py_D3', 'L4py_Gamma', 'L4sp_B1', 'L4sp_B2', 'L4sp_B3', 'L4sp_Beta', 'L4sp_C1', 'L4sp_C2', 'L4sp_C3', 'L4sp_C4', 'L4sp_D1', 'L4sp_D2', 'L4sp_D3', 'L4sp_Delta', 'L4ss_A1', 'L4ss_B1', 'L4ss_B2', 'L4ss_B3', 'L4ss_C1', 'L4ss_C2', 'L4ss_C3', 'L4ss_D1', 'L4ss_D2', 'L4ss_D3', 'L4ss_E1', 'L5st_A1', 'L5st_A2', 'L5st_A3', 'L5st_Alpha', 'L5st_B1', 'L5st_B2', 'L5st_B3', 'L5st_B4', 'L5st_Beta', 'L5st_C1', 'L5st_C2', 'L5st_C3', 'L5st_C4', 'L5st_D1', 'L5st_D2', 'L5st_D3', 'L5st_Delta', 'L5st_E1', 'L5st_Gamma', 'L5tt_A1', 'L5tt_A3', 'L5tt_A4', 'L5tt_B1', 'L5tt_B2', 'L5tt_B3', 'L5tt_B4', 'L5tt_Beta', 'L5tt_C1', 'L5tt_C2', 'L5tt_C3', 'L5tt_C4', 'L5tt_D2', 'L5tt_D3', 'L6cc_A1', 'L6cc_A2', 'L6cc_A3', 'L6cc_A4', 'L6cc_Alpha', 'L6cc_B1', 'L6cc_B2', 'L6cc_B3', 'L6cc_B4', 'L6cc_Beta', 'L6cc_C1', 'L6cc_C2', 'L6cc_C3', 'L6cc_C4', 'L6cc_D1', 'L6cc_D2', 'L6cc_D3', 'L6cc_D4', 'L6cc_Delta', 'L6cc_E1', 'L6cc_E2', 'L6cc_E3', 'L6cc_E4', 'L6cc_Gamma', 'L6ccinv_A1', 'L6ccinv_A2', 'L6ccinv_A3', 'L6ccinv_A4', 'L6ccinv_Alpha', 'L6ccinv_B1', 'L6ccinv_B2', 'L6ccinv_B3', 'L6ccinv_B4', 'L6ccinv_Beta', 'L6ccinv_C1', 'L6ccinv_C2', 'L6ccinv_C3', 'L6ccinv_C4', 'L6ccinv_D1', 'L6ccinv_D2', 'L6ccinv_D3', 'L6ccinv_D4', 'L6ccinv_E1', 'L6ccinv_E2', 'L6ccinv_E3', 'L6ccinv_E4', 'L6ccinv_Gamma', 'L6ct_Alpha', 'L6ct_B1', 'L6ct_B2', 'L6ct_B3', 'L6ct_B4', 'L6ct_Beta', 'L6ct_C1', 'L6ct_C2', 'L6ct_C3', 'L6ct_D1', 'L6ct_D2', 'L6ct_D3', 'L6ct_E3', 'L6ct_Gamma', 'VPM_A3', 'VPM_B1', 'VPM_B2', 'VPM_C1', 'VPM_C2', 'VPM_C3', 'VPM_D1', 'VPM_D2', 'VPM_E1', 'VPM_Gamma', 'L1_B1', 'L1_B2', 'L1_B3', 'L1_Beta', 'L1_C1', 'L1_C2', 'L1_C3', 'L1_D1', 'L1_D2', 'L1_D3', 'L1_E2', 'L23Trans_B1', 'L23Trans_B2', 'L23Trans_B3', 'L23Trans_C1', 'L23Trans_C2', 'L23Trans_C3', 'L23Trans_D1', 'L23Trans_D2', 'L45Peak_A2', 'L45Peak_A4', 'L45Peak_B1', 'L45Peak_B2', 'L45Peak_B3', 'L45Peak_B4', 'L45Peak_C1', 'L45Peak_C2', 'L45Peak_C3', 'L45Peak_D1', 'L45Peak_D2', 'L45Peak_Delta', 'L45Peak_Gamma', 'L45Sym_A3', 'L45Sym_B1', 'L45Sym_B2', 'L45Sym_B3', 'L45Sym_C1', 'L45Sym_C2', 'L45Sym_C3', 'L45Sym_D1', 'L45Sym_D2', 'L45Sym_E1', 'L56Trans_A2', 'L56Trans_A3', 'L56Trans_A4', 'L56Trans_B1', 'L56Trans_B2', 'L56Trans_B3', 'L56Trans_B4', 'L56Trans_Beta', 'L56Trans_C1', 'L56Trans_C2', 'L56Trans_C3', 'L56Trans_D1', 'L56Trans_D2', 'L56Trans_D3', 'L56Trans_E1', 'L56Trans_Gamma', 'SymLocal1_B1', 'SymLocal1_C1', 'SymLocal1_C2', 'SymLocal1_C3', 'SymLocal1_D2', 'SymLocal2_B1', 'SymLocal2_B2', 'SymLocal2_C2', 'SymLocal2_D2', 'SymLocal3_B2', 'SymLocal3_B3', 'SymLocal3_C1', 'SymLocal3_C2', 'SymLocal3_C3', 'SymLocal3_D1', 'SymLocal3_D2', 'SymLocal4_A1', 'SymLocal4_A3', 'SymLocal4_A4', 'SymLocal4_Alpha', 'SymLocal4_B1', 'SymLocal4_B2', 'SymLocal4_B3', 'SymLocal4_B4', 'SymLocal4_C1', 'SymLocal4_C2', 'SymLocal4_C3', 'SymLocal4_D1', 'SymLocal4_D2', 'SymLocal4_D3', 'SymLocal4_E1', 'SymLocal4_Gamma', 'SymLocal5_B3', 'SymLocal5_C2', 'SymLocal5_D1', 'SymLocal5_D2', 'SymLocal6_B2'])"
      ]
     },
     "execution_count": 17,
     "metadata": {},
     "output_type": "execute_result"
    }
   ],
   "source": [
    "network_param_C2.network.keys()"
   ]
  },
  {
   "cell_type": "markdown",
   "metadata": {},
   "source": [
    "Lets have a look at what the parameterfile specifies about L5tt cells in C2"
   ]
  },
  {
   "cell_type": "code",
   "execution_count": 18,
   "metadata": {},
   "outputs": [
    {
     "name": "stdout",
     "output_type": "stream",
     "text": [
      "celltype: {'spiketrain': {'interval': 283.3}, 'pointcell': {'distribution': 'PSTH', 'intervals': [(5.0, 6.0), (9.0, 10.0), (11.0, 12.0), (12.0, 13.0), (13.0, 14.0), (14.0, 15.0), (15.0, 16.0), (16.0, 17.0), (18.0, 19.0), (19.0, 20.0), (20.0, 21.0), (21.0, 22.0), (22.0, 23.0), (23.0, 24.0), (24.0, 25.0), (25.0, 26.0), (26.0, 27.0), (27.0, 28.0), (28.0, 29.0), (29.0, 30.0), (31.0, 32.0), (32.0, 33.0), (33.0, 34.0), (34.0, 35.0), (35.0, 36.0), (37.0, 38.0), (38.0, 39.0), (40.0, 41.0), (41.0, 42.0), (43.0, 44.0), (44.0, 45.0), (45.0, 46.0), (46.0, 47.0), (47.0, 48.0), (48.0, 49.0), (49.0, 50.0)], 'probabilities': [0.0009, 0.0009, 0.0035, 0.0111, 0.034, 0.0263, 0.0162, 0.006, 0.0035, 0.0111, 0.0035, 0.0009, 0.0009, 0.0009, 0.0086, 0.0035, 0.0009, 0.006, 0.0035, 0.0035, 0.0009, 0.0086, 0.0009, 0.0009, 0.0009, 0.0009, 0.006, 0.006, 0.0035, 0.0035, 0.0009, 0.006, 0.0035, 0.0009, 0.0035, 0.0009], 'offset': 245.0}}\n",
      "\n",
      "synapses: {'receptors': {'glutamate_syn': {'threshold': 0.0, 'delay': 0.0, 'parameter': {'tau1': 26.0, 'tau2': 2.0, 'tau3': 2.0, 'tau4': 0.1, 'decayampa': 1.0, 'decaynmda': 1.0, 'facilampa': 0.0, 'facilnmda': 0.0}, 'weight': [1.59, 1.59]}}, 'releaseProb': 0.6, 'distributionFile': '/gpfs/soma_fs/home/meulemeester/labs/getting_started_db/anatomical_constraints/86_L5_CDK20041214_nr3L5B_dend_PC_neuron_transform_registered_C2center_synapses_20150504-1611_10389.syn', 'connectionFile': '/gpfs/soma_fs/home/meulemeester/labs/getting_started_db/anatomical_constraints/86_L5_CDK20041214_nr3L5B_dend_PC_neuron_transform_registered_C2center_synapses_20150504-1611_10389.con'}\n",
      "\n",
      "cellNr: 379\n",
      "\n"
     ]
    }
   ],
   "source": [
    "for k, v in dict(network_param_C2.network.L5tt_C2).items():\n",
    "    print('{}: {}\\n'.format(k,v))"
   ]
  },
  {
   "cell_type": "code",
   "execution_count": 19,
   "metadata": {},
   "outputs": [
    {
     "data": {
      "text/plain": [
       "dict_keys(['L2_Alpha', 'L2_B1', 'L2_B2', 'L2_B3', 'L2_B4', 'L2_Beta', 'L2_C1', 'L2_C2', 'L2_C3', 'L2_C4', 'L2_D1', 'L2_D2', 'L2_D3', 'L2_D4', 'L2_E1', 'L2_E2', 'L2_Gamma', 'L34_A1', 'L34_A2', 'L34_A3', 'L34_A4', 'L34_Alpha', 'L34_B1', 'L34_B2', 'L34_B3', 'L34_B4', 'L34_Beta', 'L34_C1', 'L34_C2', 'L34_C3', 'L34_C4', 'L34_D1', 'L34_D2', 'L34_D3', 'L34_Delta', 'L34_E1', 'L34_E2', 'L34_E3', 'L34_Gamma', 'L4py_A1', 'L4py_A2', 'L4py_A3', 'L4py_A4', 'L4py_Alpha', 'L4py_B1', 'L4py_B2', 'L4py_B3', 'L4py_B4', 'L4py_C1', 'L4py_C2', 'L4py_C3', 'L4py_C4', 'L4py_D1', 'L4py_D2', 'L4py_D3', 'L4py_Gamma', 'L4sp_B1', 'L4sp_B2', 'L4sp_B3', 'L4sp_Beta', 'L4sp_C1', 'L4sp_C2', 'L4sp_C3', 'L4sp_C4', 'L4sp_D1', 'L4sp_D2', 'L4sp_D3', 'L4sp_Delta', 'L4ss_A1', 'L4ss_B1', 'L4ss_B2', 'L4ss_B3', 'L4ss_C1', 'L4ss_C2', 'L4ss_C3', 'L4ss_D1', 'L4ss_D2', 'L4ss_D3', 'L4ss_E1', 'L5st_A1', 'L5st_A2', 'L5st_A3', 'L5st_Alpha', 'L5st_B1', 'L5st_B2', 'L5st_B3', 'L5st_B4', 'L5st_Beta', 'L5st_C1', 'L5st_C2', 'L5st_C3', 'L5st_C4', 'L5st_D1', 'L5st_D2', 'L5st_D3', 'L5st_Delta', 'L5st_E1', 'L5st_Gamma', 'L5tt_A1', 'L5tt_A3', 'L5tt_A4', 'L5tt_B1', 'L5tt_B2', 'L5tt_B3', 'L5tt_B4', 'L5tt_Beta', 'L5tt_C1', 'L5tt_C2', 'L5tt_C3', 'L5tt_C4', 'L5tt_D2', 'L5tt_D3', 'L6cc_A1', 'L6cc_A2', 'L6cc_A3', 'L6cc_A4', 'L6cc_Alpha', 'L6cc_B1', 'L6cc_B2', 'L6cc_B3', 'L6cc_B4', 'L6cc_Beta', 'L6cc_C1', 'L6cc_C2', 'L6cc_C3', 'L6cc_C4', 'L6cc_D1', 'L6cc_D2', 'L6cc_D3', 'L6cc_D4', 'L6cc_Delta', 'L6cc_E1', 'L6cc_E2', 'L6cc_E3', 'L6cc_E4', 'L6cc_Gamma', 'L6ccinv_A1', 'L6ccinv_A2', 'L6ccinv_A3', 'L6ccinv_A4', 'L6ccinv_Alpha', 'L6ccinv_B1', 'L6ccinv_B2', 'L6ccinv_B3', 'L6ccinv_B4', 'L6ccinv_Beta', 'L6ccinv_C1', 'L6ccinv_C2', 'L6ccinv_C3', 'L6ccinv_C4', 'L6ccinv_D1', 'L6ccinv_D2', 'L6ccinv_D3', 'L6ccinv_D4', 'L6ccinv_E1', 'L6ccinv_E2', 'L6ccinv_E3', 'L6ccinv_E4', 'L6ccinv_Gamma', 'L6ct_Alpha', 'L6ct_B1', 'L6ct_B2', 'L6ct_B3', 'L6ct_B4', 'L6ct_Beta', 'L6ct_C1', 'L6ct_C2', 'L6ct_C3', 'L6ct_D1', 'L6ct_D2', 'L6ct_D3', 'L6ct_E3', 'L6ct_Gamma', 'VPM_A3', 'VPM_B1', 'VPM_B2', 'VPM_C1', 'VPM_C2', 'VPM_C3', 'VPM_D1', 'VPM_D2', 'VPM_E1', 'VPM_Gamma', 'L1_B1', 'L1_B2', 'L1_B3', 'L1_Beta', 'L1_C1', 'L1_C2', 'L1_C3', 'L1_D1', 'L1_D2', 'L1_D3', 'L1_E2', 'L23Trans_B1', 'L23Trans_B2', 'L23Trans_B3', 'L23Trans_C1', 'L23Trans_C2', 'L23Trans_C3', 'L23Trans_D1', 'L23Trans_D2', 'L45Peak_A2', 'L45Peak_A4', 'L45Peak_B1', 'L45Peak_B2', 'L45Peak_B3', 'L45Peak_B4', 'L45Peak_C1', 'L45Peak_C2', 'L45Peak_C3', 'L45Peak_D1', 'L45Peak_D2', 'L45Peak_Delta', 'L45Peak_Gamma', 'L45Sym_A3', 'L45Sym_B1', 'L45Sym_B2', 'L45Sym_B3', 'L45Sym_C1', 'L45Sym_C2', 'L45Sym_C3', 'L45Sym_D1', 'L45Sym_D2', 'L45Sym_E1', 'L56Trans_A2', 'L56Trans_A3', 'L56Trans_A4', 'L56Trans_B1', 'L56Trans_B2', 'L56Trans_B3', 'L56Trans_B4', 'L56Trans_Beta', 'L56Trans_C1', 'L56Trans_C2', 'L56Trans_C3', 'L56Trans_D1', 'L56Trans_D2', 'L56Trans_D3', 'L56Trans_E1', 'L56Trans_Gamma', 'SymLocal1_B1', 'SymLocal1_C1', 'SymLocal1_C2', 'SymLocal1_C3', 'SymLocal1_D2', 'SymLocal2_B1', 'SymLocal2_B2', 'SymLocal2_C2', 'SymLocal2_D2', 'SymLocal3_B2', 'SymLocal3_B3', 'SymLocal3_C1', 'SymLocal3_C2', 'SymLocal3_C3', 'SymLocal3_D1', 'SymLocal3_D2', 'SymLocal4_A1', 'SymLocal4_A3', 'SymLocal4_A4', 'SymLocal4_Alpha', 'SymLocal4_B1', 'SymLocal4_B2', 'SymLocal4_B3', 'SymLocal4_B4', 'SymLocal4_C1', 'SymLocal4_C2', 'SymLocal4_C3', 'SymLocal4_D1', 'SymLocal4_D2', 'SymLocal4_D3', 'SymLocal4_E1', 'SymLocal4_Gamma', 'SymLocal5_B3', 'SymLocal5_C2', 'SymLocal5_D1', 'SymLocal5_D2', 'SymLocal6_B2'])"
      ]
     },
     "execution_count": 19,
     "metadata": {},
     "output_type": "execute_result"
    }
   ],
   "source": [
    "cell_types = network_param_C2.network.keys()\n",
    "cell_types"
   ]
  },
  {
   "cell_type": "code",
   "execution_count": 20,
   "metadata": {
    "editable": true,
    "slideshow": {
     "slide_type": ""
    },
    "tags": []
   },
   "outputs": [],
   "source": [
    "surround_column_map = {\n",
    "    'A1': {'Alpha': 4, 'A1': 5, 'A2': 6, 'B1': 8, 'B2': 9},\\\n",
    "    'A2': {'A1': 4, 'A2': 5, 'A3': 6, 'B1': 7, 'B2': 8, 'B3': 9},\\\n",
    "    'A3': {'A2': 4, 'A3': 5, 'A4': 6, 'B2': 7, 'B3': 8, 'B4': 9},\\\n",
    "    'A4': {'A3': 4, 'A4': 5, 'B3': 7, 'B4': 8},\\\n",
    "    'Alpha': {'Alpha': 5, 'A1': 6, 'Beta': 8, 'B1': 9},\\\n",
    "    'B1': {'Alpha': 1, 'A1': 2, 'A2': 3, 'Beta': 4, 'B1': 5, 'B2': 6, 'C1': 8, 'C2': 9},\\\n",
    "    'B2': {'A1': 1, 'A2': 2, 'A3': 3, 'B1': 4, 'B2': 5, 'B3': 6, 'C1': 7, 'C2': 8, 'C3': 9},\\\n",
    "    'B3': {'A2': 1, 'A3': 2, 'A4': 3, 'B2': 4, 'B3': 5, 'B4': 6, 'C2': 7, 'C3': 8, 'C4': 9},\\\n",
    "    'B4': {'A3': 1, 'A4': 2, 'B3': 4, 'B4': 5, 'C3': 7, 'C4': 8},\\\n",
    "    'Beta': {'Alpha': 2, 'Beta': 5, 'B1': 6, 'Gamma': 8, 'C1': 9},\\\n",
    "    'C1': {'Beta': 1, 'B1': 2, 'B2': 3, 'Gamma': 4, 'C1': 5, 'C2': 6, 'D1': 8, 'D2': 9},\\\n",
    "    'C2': {'B1': 1, 'B2': 2, 'B3': 3, 'C1': 4, 'C2': 5, 'C3': 6, 'D1': 7, 'D2': 8, 'D3': 9},\\\n",
    "    'C3': {'B2': 1, 'B3': 2, 'B4': 3, 'C2': 4, 'C3': 5, 'C4': 6, 'D2': 7, 'D3': 8, 'D4': 9},\\\n",
    "    'C4': {'B3': 1, 'B4': 2, 'C3': 4, 'C4': 5, 'D3': 7, 'D4': 8},\\\n",
    "    'Gamma': {'Beta': 2, 'Gamma': 5, 'C1': 6, 'Delta': 8, 'D1': 9},\\\n",
    "    'D1': {'Gamma': 1, 'C1': 2, 'C2': 3, 'Delta': 4, 'D1': 5, 'D2': 6, 'E1': 8, 'E2': 9},\\\n",
    "    'D2': {'C1': 1, 'C2': 2, 'C3': 3, 'D1': 4, 'D2': 5, 'D3': 6, 'E1': 7, 'E2': 8, 'E3': 9},\\\n",
    "    'D3': {'C2': 1, 'C3': 2, 'C4': 3, 'D2': 4, 'D3': 5, 'D4': 6, 'E2': 7, 'E3': 8, 'E4': 9},\\\n",
    "    'D4': {'C3': 1, 'C4': 2, 'D3': 4, 'D4': 5, 'E3': 7, 'E4': 8},\\\n",
    "    'Delta': {'Gamma': 2, 'Delta': 5, 'D1': 6, 'E1': 9},\\\n",
    "    'E1': {'Delta': 1, 'D1': 2, 'D2': 3, 'E1': 5, 'E2': 6},\\\n",
    "    'E2': {'D1': 1, 'D2': 2, 'D3': 3, 'E1': 4, 'E2': 5, 'E3': 6},\\\n",
    "    'E3': {'D2': 1, 'D3': 2, 'D4': 3, 'E2': 4, 'E3': 5, 'E4': 6},\\\n",
    "    'E4': {'D3': 1, 'D4': 2, 'E3': 4, 'E4': 5}}\n",
    "\n",
    "def activity_gridplot(celltype, deflected_whisker=\"C2\", network_param=network_param_C2):\n",
    "    surround_columns = surround_column_map[deflected_whisker]\n",
    "    rows = list(set([e[1] for e in surround_columns]))\n",
    "    n_rows = len(rows)\n",
    "    columns = list(set([e[0] for e in surround_columns]))\n",
    "    columns.sort()\n",
    "    n_columns = len(columns)\n",
    "\n",
    "    fig, axs = I.plt.subplots(n_rows, n_columns, sharey=True, sharex=True)\n",
    "    handles, labels = [], []\n",
    "    for surround_column in surround_columns:\n",
    "        row = int(surround_column[-1])\n",
    "        column = surround_column[-2]\n",
    "        axs[row-1][0].set_ylabel(row)\n",
    "        axs[0][columns.index(column)].set_xlabel(column)\n",
    "        axs[0][columns.index(column)].xaxis.set_label_position('top') \n",
    "        \n",
    "        cell_type = ct+\"_{}{}\".format(column, row)\n",
    "        if cell_type not in network_param.network.keys():\n",
    "            continue\n",
    "        if not 'pointcell' in network_param.network[cell_type]['celltype']:\n",
    "            continue\n",
    "        x = [b[0] for b in network_param.network[cell_type]['celltype']['pointcell']['intervals']]\n",
    "\n",
    "        if row == 2 and column == \"C\":\n",
    "            # barrel of the whisker deflection\n",
    "            color = cmap(3)\n",
    "        else:\n",
    "            color = \"Grey\"\n",
    "            \n",
    "        bar = axs[row-1][columns.index(column)].bar(\n",
    "            x, \n",
    "            network_param.network[cell_type]['celltype']['pointcell']['probabilities'], \n",
    "            facecolor=color, \n",
    "            edgecolor=color,\n",
    "            lw=2,\n",
    "            label=label)\n",
    "\n",
    "        if label != \"\" and label not in labels:\n",
    "            handles.append(bar)\n",
    "            labels.append(label)\n",
    "    \n",
    "    axs[1, 0].set_ylabel(\"Row\\n 2\")\n",
    "    I.plt.suptitle(\"Activity of {} during passive touch of whisker C2\".format(ct))\n",
    "    return fig, axs"
   ]
  },
  {
   "cell_type": "code",
   "execution_count": 21,
   "metadata": {},
   "outputs": [
    {
     "ename": "NameError",
     "evalue": "name 'label' is not defined",
     "output_type": "error",
     "traceback": [
      "\u001b[0;31m---------------------------------------------------------------------------\u001b[0m",
      "\u001b[0;31mNameError\u001b[0m                                 Traceback (most recent call last)",
      "Cell \u001b[0;32mIn[21], line 2\u001b[0m\n\u001b[1;32m      1\u001b[0m ct \u001b[38;5;241m=\u001b[39m \u001b[38;5;124m\"\u001b[39m\u001b[38;5;124mL6cc\u001b[39m\u001b[38;5;124m\"\u001b[39m\n\u001b[0;32m----> 2\u001b[0m fig, axs \u001b[38;5;241m=\u001b[39m \u001b[43mactivity_gridplot\u001b[49m\u001b[43m(\u001b[49m\u001b[43mct\u001b[49m\u001b[43m)\u001b[49m\n\u001b[1;32m      3\u001b[0m I\u001b[38;5;241m.\u001b[39mplt\u001b[38;5;241m.\u001b[39mshow()\n",
      "Cell \u001b[0;32mIn[20], line 63\u001b[0m, in \u001b[0;36mactivity_gridplot\u001b[0;34m(celltype, deflected_whisker, network_param)\u001b[0m\n\u001b[1;32m     54\u001b[0m \u001b[38;5;28;01melse\u001b[39;00m:\n\u001b[1;32m     55\u001b[0m     color \u001b[38;5;241m=\u001b[39m \u001b[38;5;124m\"\u001b[39m\u001b[38;5;124mGrey\u001b[39m\u001b[38;5;124m\"\u001b[39m\n\u001b[1;32m     57\u001b[0m bar \u001b[38;5;241m=\u001b[39m axs[row\u001b[38;5;241m-\u001b[39m\u001b[38;5;241m1\u001b[39m][columns\u001b[38;5;241m.\u001b[39mindex(column)]\u001b[38;5;241m.\u001b[39mbar(\n\u001b[1;32m     58\u001b[0m     x, \n\u001b[1;32m     59\u001b[0m     network_param\u001b[38;5;241m.\u001b[39mnetwork[cell_type][\u001b[38;5;124m'\u001b[39m\u001b[38;5;124mcelltype\u001b[39m\u001b[38;5;124m'\u001b[39m][\u001b[38;5;124m'\u001b[39m\u001b[38;5;124mpointcell\u001b[39m\u001b[38;5;124m'\u001b[39m][\u001b[38;5;124m'\u001b[39m\u001b[38;5;124mprobabilities\u001b[39m\u001b[38;5;124m'\u001b[39m], \n\u001b[1;32m     60\u001b[0m     facecolor\u001b[38;5;241m=\u001b[39mcolor, \n\u001b[1;32m     61\u001b[0m     edgecolor\u001b[38;5;241m=\u001b[39mcolor,\n\u001b[1;32m     62\u001b[0m     lw\u001b[38;5;241m=\u001b[39m\u001b[38;5;241m2\u001b[39m,\n\u001b[0;32m---> 63\u001b[0m     label\u001b[38;5;241m=\u001b[39m\u001b[43mlabel\u001b[49m)\n\u001b[1;32m     65\u001b[0m \u001b[38;5;28;01mif\u001b[39;00m label \u001b[38;5;241m!=\u001b[39m \u001b[38;5;124m\"\u001b[39m\u001b[38;5;124m\"\u001b[39m \u001b[38;5;129;01mand\u001b[39;00m label \u001b[38;5;129;01mnot\u001b[39;00m \u001b[38;5;129;01min\u001b[39;00m labels:\n\u001b[1;32m     66\u001b[0m     handles\u001b[38;5;241m.\u001b[39mappend(bar)\n",
      "\u001b[0;31mNameError\u001b[0m: name 'label' is not defined"
     ]
    },
    {
     "data": {
      "image/png": "[encoded data removed]",
      "text/plain": [
       "<Figure size 640x480 with 9 Axes>"
      ]
     },
     "metadata": {},
     "output_type": "display_data"
    }
   ],
   "source": [
    "ct = \"L6cc\"\n",
    "fig, axs = activity_gridplot(ct)\n",
    "I.plt.show()"
   ]
  },
  {
   "cell_type": "code",
   "execution_count": null,
   "metadata": {},
   "outputs": [],
   "source": [
    "ct = \"L5tt\"\n",
    "fig, axs = activity_gridplot(ct)\n",
    "I.plt.show()"
   ]
  },
  {
   "cell_type": "markdown",
   "metadata": {},
   "source": [
    "As you see, all information is integrated"
   ]
  },
  {
   "cell_type": "markdown",
   "metadata": {},
   "source": [
    "`network.[population].celltype.pointcell.offset`: timepoint at which the evoked activity starts "
   ]
  },
  {
   "cell_type": "markdown",
   "metadata": {},
   "source": [
    "## Recap"
   ]
  },
  {
   "cell_type": "markdown",
   "metadata": {},
   "source": [
    "[Tutorial 2.1](./2.1%20Anatomical%20embedding.ipynb) covered how to embed a neuron model into a network reconstruction, taking into account the relevant morphological, cellular and network properties. This tutorial covered how to generate synaptic activity. We are now ready to combine our biophysically detailed neuron model with this network model: see [Tutorial 3.1](../3.%20multiscale%20models/3.1%20Multiscale%20modeling.ipynb)."
   ]
  }
 ],
 "metadata": {
  "kernelspec": {
   "display_name": "isf3.8",
   "language": "python",
   "name": "base"
  },
  "language_info": {
   "codemirror_mode": {
    "name": "ipython",
    "version": 3
   },
   "file_extension": ".py",
   "mimetype": "text/x-python",
   "name": "python",
   "nbconvert_exporter": "python",
   "pygments_lexer": "ipython3",
   "version": "3.8.5"
  }
 },
 "nbformat": 4,
 "nbformat_minor": 4
}
