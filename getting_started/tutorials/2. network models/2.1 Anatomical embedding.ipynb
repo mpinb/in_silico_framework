{
 "cells": [
  {
   "cell_type": "markdown",
   "metadata": {},
   "source": [
    "# Registering a cell in an anatomical reconstruction"
   ]
  },
  {
   "cell_type": "markdown",
   "metadata": {},
   "source": [
    "This tutorial guides the user through how to use ISF to embed a cell in a dense connectome model, creating synaptic connections."
   ]
  },
  {
   "cell_type": "code",
   "execution_count": 1,
   "metadata": {},
   "outputs": [
    {
     "name": "stdout",
     "output_type": "stream",
     "text": [
      "[INFO] l5pt: Loading mechanisms:\n",
      "[INFO] distributed_lock: trying to connect to distributed locking server {'config': {'hosts': 'somalogin02:33333'}, 'type': 'zookeeper'}\n",
      "[INFO] distributed_lock: success!\n",
      "[INFO] ISF: Current version: heads/develop+0.gbb427d34.dirty\n",
      "[INFO] ISF: Current pid: 237403\n",
      "[WARNING] warnings: /gpfs/soma_fs/scratch/meulemeester/isf_test/lib/python3.8/site-packages/pandas_msgpack-0.1.4+14.gfcb0471.dirty-py3.8-linux-x86_64.egg/pandas_msgpack/packers.py:78: FutureWarning: The Panel class is removed from pandas. Accessing it from the top-level namespace will also be removed in the next version\n",
      "  from pandas import (Timestamp, Period, Series, DataFrame,  # noqa\n",
      "\n",
      "[WARNING] warnings: /gpfs/soma_fs/scratch/meulemeester/project_src/in_silico_framework/Interface.py:212: UserWarning:\n",
      "\n",
      "The source folder has uncommited changes!\n",
      "\n",
      "\n",
      "[WARNING] ISF: Could not load linked views\n",
      "\n",
      "\n",
      "\n",
      "[INFO] ISF: Loaded modules with __version__ attribute are:\n",
      "IPython: 7.19.0, Interface: heads/develop+0.gbb427d34.dirty, PIL: 8.2.0, _csv: 1.0, _ctypes: 1.1.0, _curses: b'2.2', _decimal: 1.70, argparse: 1.1, attr: 20.3.0, backcall: 0.2.0, blake3: 0.3.3, blosc: 1.10.2, bluepyopt: 1.9.126, bottleneck: 1.3.2, cffi: 1.14.3, click: 7.1.2, cloudpickle: 1.6.0, colorama: 0.4.4, csv: 1.0, ctypes: 1.1.0, cycler: 0.10.0, cytoolz: 0.11.0, dash: 2.9.3, dask: 2.30.0, dateutil: 2.8.1, deap: 1.3, decimal: 1.70, decorator: 4.4.2, distributed: 2.30.1, distutils: 3.8.5, filelock: 3.0.12, flask: 1.1.2, fsspec: 0.8.3, future: 0.18.2, gevent: 20.9.0, greenlet: 0.4.17, ipaddress: 1.0, ipykernel: 5.3.4, ipython_genutils: 0.2.0, ipywidgets: 7.5.1, itsdangerous: 1.1.0, jedi: 0.17.1, jinja2: 2.11.2, joblib: 0.17.0, json: 2.0.9, jupyter_client: 6.1.7, jupyter_core: 4.6.3, kazoo: 2.8.0, kiwisolver: 1.3.0, logging: 0.5.1.2, markupsafe: 1.1.1, matplotlib: 3.3.2, mkl: 2.3.0, neuron: 7.8.2, numexpr: 2.7.1, numpy: 1.19.2, pandas: 1.1.3, pandas_msgpack: 0.1.4+14.gfcb0471.dirty, parameters: 0.2.1, parso: 0.7.0, past: 0.18.2, pexpect: 4.8.0, pickleshare: 0.7.5, platform: 1.0.8, plotly: 4.14.3, prompt_toolkit: 3.0.8, psutil: 5.7.2, ptyprocess: 0.6.0, pyarrow: 12.0.1, pydantic: 1.10.4, pygments: 2.16.1, pyparsing: 2.4.7, pytz: 2020.1, re: 2.2.1, scandir: 1.10.0, scipy: 1.5.2, seaborn: 0.11.0, six: 1.15.0, sklearn: 0.23.2, socketserver: 0.4, sortedcontainers: 2.2.2, statsmodels: 0.12.0, sumatra: 0.7.4, tables: 3.6.1, tblib: 1.7.0, tlz: 0.11.0, toolz: 0.11.1, traitlets: 5.0.5, wcwidth: 0.2.5, werkzeug: 1.0.1, yaml: 5.3.1, zlib: 1.0, zmq: 19.0.2\n"
     ]
    }
   ],
   "source": [
    "import Interface as I\n",
    "from getting_started import getting_started_dir\n",
    "import os\n",
    "db = I.DataBase('{}/labs/getting_started_db/'.format(os.environ['HOME']))"
   ]
  },
  {
   "cell_type": "markdown",
   "metadata": {},
   "source": [
    "## Step 1: Registering the cell morphology in the desired reference frame"
   ]
  },
  {
   "cell_type": "markdown",
   "metadata": {},
   "source": [
    "From external resources (e.g. the NeuroMorph pipeline), you need a hoc-file with the dendrite morphology you want to place in your anatomical model of a brain area of interest. The coordinates in the hoc morphology file need to be anchored at the desired location.\n",
    "\n",
    "As an example, we will use a morphology of a Layer-5 Pyramidal Tract Neuron (L5PT) whose coordinates are anchored in the C2 column of a rat barrel cortex (BC)"
   ]
  },
  {
   "cell_type": "code",
   "execution_count": 4,
   "metadata": {},
   "outputs": [
    {
     "data": {
      "text/plain": [
       "['86_L5_CDK20041214_nr3L5B_dend_PC_neuron_transform_registered_C2center_synapses_20150504-1611_10389',\n",
       " '89_L5_CDK20050712_nr6L5B_dend_PC_neuron_transform_registered_C2.hoc',\n",
       " '86_L5_CDK20041214_nr3L5B_dend_PC_neuron_transform_registered_C2center.hoc',\n",
       " '86_L5_CDK20041214_nr3L5B_dend_PC_neuron_transform_registered_C2center.swc',\n",
       " '86_L5_CDK20041214_nr3L5B_dend_PC_neuron_transform_registered_C2center_scaled_diameters.hoc']"
      ]
     },
     "execution_count": 4,
     "metadata": {},
     "output_type": "execute_result"
    }
   ],
   "source": [
    "I.os.listdir(I.os.path.join(getting_started_dir, 'example_data', 'anatomical_constraints'))"
   ]
  },
  {
   "cell_type": "markdown",
   "metadata": {},
   "source": [
    "For building the anatomical model, we use `86_L5_CDK20041214_nr3L5B_dend_PC_neuron_transform_registered_C2center.hoc`, for the simulation of the evoked activity, we need to use the morphology file with scaled apical trunk."
   ]
  },
  {
   "cell_type": "code",
   "execution_count": 7,
   "metadata": {},
   "outputs": [],
   "source": [
    "path_to_hoc = I.os.path.join(getting_started_dir, 'example_data', 'anatomical_constraints', \\\n",
    "                    '86_L5_CDK20041214_nr3L5B_dend_PC_neuron_transform_registered_C2center.hoc')\n",
    "path_to_scaled_hoc = I.os.path.join(getting_started_dir, 'example_data', 'anatomical_constraints', \\\n",
    "                    '86_L5_CDK20041214_nr3L5B_dend_PC_neuron_transform_registered_C2center_scaled_diameters.hoc')"
   ]
  },
  {
   "cell_type": "markdown",
   "metadata": {},
   "source": [
    "We copy these files to our DataBase. "
   ]
  },
  {
   "cell_type": "code",
   "execution_count": 8,
   "metadata": {},
   "outputs": [],
   "source": [
    "if not 'anatomical_constraints' in db.keys():\n",
    "    db.create_managed_folder('anatomical_constraints')\n",
    "    I.shutil.copy(path_to_hoc, db['anatomical_constraints'])\n",
    "    I.shutil.copy(path_to_scaled_hoc, db['anatomical_constraints'])"
   ]
  },
  {
   "cell_type": "markdown",
   "metadata": {},
   "source": [
    "## Step 2: calculate positions of anatomical synapses with respect to the registered morphology"
   ]
  },
  {
   "cell_type": "markdown",
   "metadata": {},
   "source": [
    "We use [`singlecell_input_mapper`](../singlecell_input_mapper/readme.md) to create an anatomical model of how that cell is integrated in the brain are (here: the barrel cortex). For more information on how this is done, see [Egger et al. 2014](https://www.frontiersin.org/articles/10.3389/fnana.2014.00129/full). This module creates an anatomical reconstruction of axo-dendritic connections depending on the spatial distribution of cells, bouton density, and anatomical constraints of post-synaptic targets of the postsynaptic cell, such as morphology and synapse density. To do so, it needs the following input:\n",
    "1. The neuron morphology (the `.hoc` file that we already copied over)\n",
    "2. Density of total Post-Synaptic Target sites (PST) across the dendritic tree of the postynaptic cell (used for normalization)\n",
    "3. Anatomical constraints of PSTs: the amount of synapses per length unit and area unit, depending on pre- and post-synaptic celltype, and the location along the dendritic tree of the postsynaptic cell. These are normalized using the previously mentioned PST densities.\n",
    "4. Bouton densities across the entire brain area of interest.\n",
    "5. Spatial distribution of cells, depending on their type.\n",
    "\n",
    "Under the hood, 50 anatomical realizations will be computed that are congruent with the input criteria. From this distribution of anatomical realizations, the one that is closest to the average is chosen, which can be refered to as a \"representative realization\". The result is saved in the same folder as the hoc morphology. This takes about 4 hrs to compute, but you can continue with a precomputed result."
   ]
  },
  {
   "cell_type": "markdown",
   "metadata": {},
   "source": [
    "To compute it yourself, run the cell below. To copy a precomputed result, you can skip to the next code cell"
   ]
  },
  {
   "cell_type": "code",
   "execution_count": null,
   "metadata": {},
   "outputs": [],
   "source": [
    "# Computing it yourself (this takes some time): --------------------\n",
    "celltype = 'L5tt'  # Layer 5 thick-tufted, aka L5PT (pyramidal tract), aka L5ET (extratelencephalic)\n",
    "path = db['anatomical_constraints'].join(\n",
    "    '86_L5_CDK20041214_nr3L5B_dend_PC_neuron_transform_registered_C2center.hoc')\n",
    "with I.silence_stdout:  # Silence output\n",
    "    I.map_singlecell_inputs(\n",
    "        cellName=path, \n",
    "        cellTypeName=celltype)\n",
    "\n",
    "# adapt the path, if you have generated a new anatomical model\n",
    "path_to_anatomical_model = db['anatomical_constraints'].join(\n",
    "    '86_L5_CDK20041214_nr3L5B_dend_PC_neuron_transform_registered_C2center_synapses_20150504-1611_10389')"
   ]
  },
  {
   "cell_type": "code",
   "execution_count": 11,
   "metadata": {},
   "outputs": [],
   "source": [
    "# Pre-computed result: --------------------\n",
    "from distutils.dir_util import copy_tree\n",
    "dirname = '86_L5_CDK20041214_nr3L5B_dend_PC_neuron_transform_registered_C2center_synapses_20150504-1611_10389'\n",
    "path_to_anatomical_model = I.os.path.join(getting_started_dir, 'example_data', 'anatomical_constraints', dirname, dirname)\n",
    "silent = copy_tree(path_to_anatomical_model, db['anatomical_constraints'])"
   ]
  },
  {
   "cell_type": "markdown",
   "metadata": {},
   "source": [
    "**What does the result of the map_singlecell_inputs script look like?**"
   ]
  },
  {
   "cell_type": "markdown",
   "metadata": {},
   "source": [
    "In the directory generated by the singlecell_input_mapper, there are the following files:"
   ]
  },
  {
   "cell_type": "code",
   "execution_count": 13,
   "metadata": {},
   "outputs": [
    {
     "data": {
      "text/plain": [
       "['Loader.json',\n",
       " '86_L5_CDK20041214_nr3L5B_dend_PC_neuron_transform_registered_C2center_synapses_20150504-1611_10389.syn',\n",
       " 'presynaptic_somata.sh~',\n",
       " '86_L5_CDK20041214_nr3L5B_dend_PC_neuron_transform_registered_C2center_summary_20150504-1611_10389.csv',\n",
       " 'total_synapses',\n",
       " '86_L5_CDK20041214_nr3L5B_dend_PC_neuron_transform_registered_C2center.hoc',\n",
       " 'presynaptic_somata',\n",
       " 'NumberOfConnectedCells.csv',\n",
       " 'apical_synapses',\n",
       " '86_L5_CDK20041214_nr3L5B_dend_PC_neuron_transform_registered_C2center_synapses_20150504-1611_10389.con',\n",
       " '86_L5_CDK20041214_nr3L5B_dend_PC_neuron_transform_registered_C2center_scaled_diameters.hoc',\n",
       " 'presynaptic_somata.sh',\n",
       " 'metadata.json',\n",
       " 'soma_synapses',\n",
       " 'basal_synapses']"
      ]
     },
     "execution_count": 13,
     "metadata": {},
     "output_type": "execute_result"
    }
   ],
   "source": [
    "db['anatomical_constraints'].listdir()"
   ]
  },
  {
   "cell_type": "markdown",
   "metadata": {},
   "source": [
    "The most important files for making single-cell simulations are the `.con` file and the `.syn` file. These files are the relevant output of the `SingleCellMapper` for simulations of evoked activity."
   ]
  },
  {
   "cell_type": "markdown",
   "metadata": {},
   "source": [
    "The `.con` file maps presynaptic cells to a synapse. Not just a celltype, but all individual cells with a specific `cell ID` are mapped to an individual synapse with `synase ID`."
   ]
  },
  {
   "cell_type": "code",
   "execution_count": 14,
   "metadata": {},
   "outputs": [
    {
     "data": {
      "text/plain": [
       "'/gpfs/soma_fs/home/meulemeester/labs/getting_started_db/anatomical_constraints/86_L5_CDK20041214_nr3L5B_dend_PC_neuron_transform_registered_C2center_synapses_20150504-1611_10389.con'"
      ]
     },
     "execution_count": 14,
     "metadata": {},
     "output_type": "execute_result"
    }
   ],
   "source": [
    "con_file = db['anatomical_constraints'].get_file('.con')\n",
    "con_file_path = db['anatomical_constraints'].join(con_file)\n",
    "con_file_path"
   ]
  },
  {
   "cell_type": "code",
   "execution_count": 15,
   "metadata": {},
   "outputs": [
    {
     "name": "stdout",
     "output_type": "stream",
     "text": [
      "# Anatomical connectivity realization file; only valid with synapse realization:\n",
      "# 86_L5_CDK20041214_nr3L5B_dend_PC_neuron_transform_registered_C2center_synapses_20150504-1611_10389.syn\n",
      "# Type - cell ID - synapse ID\n",
      "\n",
      "L6cc_A3\t0\t0\n",
      "L6cc_A3\t1\t1\n",
      "L6cc_A3\t2\t2\n",
      "L6cc_A3\t3\t3\n",
      "L6cc_A3\t4\t4\n",
      "L6cc_A3\t4\t5\n",
      "L6cc_A3\t5\t6\n"
     ]
    }
   ],
   "source": [
    "with open(con_file_path) as f:\n",
    "    print(f.read()[:300])"
   ]
  },
  {
   "cell_type": "markdown",
   "metadata": {},
   "source": [
    "The `.syn` file specifies the exact position of each synapse on the hoc morphology:"
   ]
  },
  {
   "cell_type": "code",
   "execution_count": 16,
   "metadata": {},
   "outputs": [
    {
     "name": "stdout",
     "output_type": "stream",
     "text": [
      "# Synapse distribution file\n",
      "# corresponding to cell: 86_L5_86_L5_CDK20041214_nr3L5B_dend_PC_neuron_transform_registered_C2center\n",
      "# Type - section - section.x\n",
      "\n",
      "VPM_E1\t112\t0.138046479525\n",
      "VPM_E1\t130\t0.305058053119\n",
      "VPM_E1\t130\t0.190509288017\n",
      "VPM_E1\t9\t0.368760777084\n",
      "VPM_E1\t110\t0.0\n",
      "VPM_E1\t11\t0.120662910562\n"
     ]
    }
   ],
   "source": [
    "syn_file_path = db['anatomical_constraints'].join(db['anatomical_constraints'].get_file('.syn'))\n",
    "with open(syn_file_path) as f:\n",
    "    print(f.read()[:300])"
   ]
  },
  {
   "cell_type": "markdown",
   "metadata": {},
   "source": [
    "Here, section referes to the ID od the section in the cell object. x specifies, where along that section the synapse is placed. If x is 0, this is the beginning of the section, if x is one, this is the end of the section."
   ]
  },
  {
   "cell_type": "markdown",
   "metadata": {},
   "source": [
    "The subfolders in the directory contain Amira landmark files:\n",
    " - locations of presynaptic_somata by celltype in the folder `presynaptic_somata`\n",
    " - locations of synapses in the folders `total_synapses`, `soma_synapses`, `basal_synapses`, `apical_synapses`"
   ]
  },
  {
   "cell_type": "markdown",
   "metadata": {},
   "source": [
    "### How to parallelize the generation of anatomical models?"
   ]
  },
  {
   "cell_type": "markdown",
   "metadata": {},
   "source": [
    "We can use a distributed [`distributed.Client`](https://distributed.dask.org/en/latest/client.html) to create our `.syn` and `.con` files for one morphology per process:"
   ]
  },
  {
   "cell_type": "code",
   "execution_count": 17,
   "metadata": {},
   "outputs": [],
   "source": [
    "client = I.get_client(timeout=10)"
   ]
  },
  {
   "cell_type": "code",
   "execution_count": 18,
   "metadata": {},
   "outputs": [
    {
     "name": "stdout",
     "output_type": "stream",
     "text": [
      "40\n"
     ]
    }
   ],
   "source": [
    "import psutil\n",
    "print(psutil.cpu_count(logical=True))"
   ]
  },
  {
   "cell_type": "code",
   "execution_count": 19,
   "metadata": {},
   "outputs": [
    {
     "data": {
      "text/plain": [
       "['/gpfs/soma_fs/home/meulemeester/labs/getting_started_db/anatomical_constraints/86_L5_CDK20041214_nr3L5B_dend_PC_neuron_transform_registered_C2center.hoc',\n",
       " '/gpfs/soma_fs/home/meulemeester/labs/getting_started_db/anatomical_constraints/86_L5_CDK20041214_nr3L5B_dend_PC_neuron_transform_registered_C2center_scaled_diameters.hoc']"
      ]
     },
     "execution_count": 19,
     "metadata": {},
     "output_type": "execute_result"
    }
   ],
   "source": [
    "morphology_paths = [db['anatomical_constraints'].join(f) for f in db['anatomical_constraints'].listdir() if f.endswith('.hoc')]\n",
    "morphology_paths"
   ]
  },
  {
   "cell_type": "markdown",
   "metadata": {},
   "source": [
    "This takes as long as creating an anatomical realization for a single cell, but thanks to parallellization, not much longer than that. At least, until the amount of cells exceed the amount of available threads."
   ]
  },
  {
   "cell_type": "code",
   "execution_count": 20,
   "metadata": {},
   "outputs": [
    {
     "data": {
      "application/vnd.jupyter.widget-view+json": {
       "model_id": "ac287e08a8a0450ebf201e38601a2345",
       "version_major": 2,
       "version_minor": 0
      },
      "text/plain": [
       "VBox()"
      ]
     },
     "metadata": {},
     "output_type": "display_data"
    }
   ],
   "source": [
    "delayed_map_singlecell_inputs = I.dask.delayed(I.map_singlecell_inputs)  # make the single cell mapper a delayed function\n",
    "delayeds = [delayed_map_singlecell_inputs(p, 'L5tt') for p in morphology_paths] # call it with the morphologies\n",
    "delayeds = I.dask.delayed(delayeds) # bundle everything in one delayed object\n",
    "futures = client.compute(delayeds)  # compute the result\n",
    "# visualize the progress\n",
    "I.distributed.progress(futures)"
   ]
  },
  {
   "cell_type": "markdown",
   "metadata": {},
   "source": [
    "You can restart the client to interrupt this computation if don't want to compute this right now"
   ]
  },
  {
   "cell_type": "code",
   "execution_count": null,
   "metadata": {},
   "outputs": [
    {
     "data": {
      "text/html": [
       "<table style=\"border: 2px solid white;\">\n",
       "<tr>\n",
       "<td style=\"vertical-align: top; border: 0px solid white\">\n",
       "<h3 style=\"text-align: left;\">Client</h3>\n",
       "<ul style=\"text-align: left; list-style: none; margin: 0; padding: 0;\">\n",
       "  <li><b>Scheduler: </b>tcp://10.102.2.82:38786</li>\n",
       "  <li><b>Dashboard: </b><a href='http://10.102.2.82:38787/status' target='_blank'>http://10.102.2.82:38787/status</a></li>\n",
       "</ul>\n",
       "</td>\n",
       "<td style=\"vertical-align: top; border: 0px solid white\">\n",
       "<h3 style=\"text-align: left;\">Cluster</h3>\n",
       "<ul style=\"text-align: left; list-style:none; margin: 0; padding: 0;\">\n",
       "  <li><b>Workers: </b>24</li>\n",
       "  <li><b>Cores: </b>24</li>\n",
       "  <li><b>Memory: </b>98.30 GB</li>\n",
       "</ul>\n",
       "</td>\n",
       "</tr>\n",
       "</table>"
      ],
      "text/plain": [
       "<Client: 'tcp://10.102.2.82:38786' processes=0 threads=0, memory=0 B>"
      ]
     },
     "metadata": {},
     "output_type": "display_data"
    }
   ],
   "source": [
    "client.restart()"
   ]
  },
  {
   "cell_type": "markdown",
   "metadata": {},
   "source": [
    "**Sidenotes**\n",
    "\n",
    "`I.get_client()` returns a [`distributed.Client`](https://distributed.dask.org/en/latest/client.html) object, which can be used to execute a dask graph using all cores on the local machine. I.get_client() also \"prepares\" the cluster such that it fits the needs of doing single cell simulations: \n",
    "- It imports matplotlib on all workers and sets the backend to `'agg'`. This can be neccessary on compute servers that don't provide the necessary graphical libraries, which would crash otherwise. After this, you can create figures on the computeservers.\n",
    "- If `I.get_client()` is called more than once, it does not generate a new [`distributed.Client`](https://distributed.dask.org/en/latest/client.html) object every time. Instead, it creates it when it is first called and returns the same client on all consecutive calls.\n",
    "- You can set up a \"real\" cluster spanning hundreds of compute servers as described [here](http://distributed.readthedocs.io/en/latest/setup.html)."
   ]
  },
  {
   "cell_type": "markdown",
   "metadata": {},
   "source": [
    "This setup now covered all the necessary conditions to run a simulations where individual synapses are activated and evoke PSPs onto a taret neuron. See [the next notebook](./2.2%20Synaptic%20activation.ipynb) on how to run the simulations."
   ]
  }
 ],
 "metadata": {
  "kernelspec": {
   "display_name": "isf3.8",
   "language": "python",
   "name": "base"
  },
  "language_info": {
   "codemirror_mode": {
    "name": "ipython",
    "version": 3
   },
   "file_extension": ".py",
   "mimetype": "text/x-python",
   "name": "python",
   "nbconvert_exporter": "python",
   "pygments_lexer": "ipython3",
   "version": "3.8.5"
  }
 },
 "nbformat": 4,
 "nbformat_minor": 4
}
