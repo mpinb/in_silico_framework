{
 "cells": [
  {
   "cell_type": "markdown",
   "metadata": {
    "cell_style": "center"
   },
   "source": [
    "# Init"
   ]
  },
  {
   "cell_type": "markdown",
   "metadata": {},
   "source": [
    "## load modules"
   ]
  },
  {
   "cell_type": "code",
   "execution_count": 1,
   "metadata": {
    "collapsed": false
   },
   "outputs": [
    {
     "name": "stderr",
     "output_type": "stream",
     "text": [
      "/home/amir/Projects/in_silico_framework_env/lib/python2.7/site-packages/matplotlib/__init__.py:1405: UserWarning: \n",
      "This call to matplotlib.use() has no effect because the backend has already\n",
      "been chosen; matplotlib.use() must be called *before* pylab, matplotlib.pyplot,\n",
      "or matplotlib.backends is imported for the first time.\n",
      "\n",
      "  warnings.warn(_use_error_msg)\n"
     ]
    },
    {
     "name": "stdout",
     "output_type": "stream",
     "text": [
      "trying to connect to distributed locking server {'config': {'socket_timeout': 1, 'host': 'spock', 'port': 8885}, 'type': 'redis'}\n",
      "trying to connect to distributed locking server {'config': {'socket_timeout': 1, 'host': 'localhost', 'port': 6379}, 'type': 'redis'}\n",
      "success!\n",
      "Current version: v0.0.1+379.g6f012b5.dirty\n",
      "Current pid: 19894\n",
      "Loading mechanisms:\n",
      "setting up local multiprocessing framework ... done\n",
      "\n",
      "\n",
      "The loaded modules with __version__ attribute are:\n",
      "IPython: 5.1.0, Interface: v0.0.1+379.g6f012b5.dirty, SocketServer: 0.4, _ast: 82160, _csv: 1.0, _ctypes: 1.1.0, _curses: 2.2, _struct: 0.2, argparse: 1.1, ast: 82160, blosc: 1.5.1, bluepyopt: 1.8.21, bottleneck: 1.1.0, cPickle: 1.71, cffi: 1.7.0, cgi: 2.6, chest: 0.2.3, click: 6.6, cloudpickle: 0.2.2, colorama: 0.3.7, csv: 1.0, ctypes: 1.1.0, cycler: 0.10.0, cytoolz: 0.8.0, dask: 0.18.2, dateutil: 2.5.3, deap: 1.2, decimal: 1.70, decorator: 4.0.10, distributed: 1.22.1, distutils: 2.7.12, email: 4.0.3, future: 0.16.0, ipykernel: 4.5.0, ipyparallel: 6.2.3, ipython_genutils: 0.1.0, ipywidgets: 5.2.2, jinja2: 2.10, json: 2.0.9, jupyter_client: 4.4.0, jupyter_core: 4.2.0, logging: 0.5.1.2, lz4: 0.10.1, matplotlib: 2.0.2, multiprocessing: 0.70a1, nose: 1.3.7, numexpr: 2.6.1, numpy: 1.11.1, optparse: 1.5.3, pandas: 0.19.2, parameters: 0.2.1, past: 0.16.0, pexpect: 4.0.1, pickle: $Revision: 72223 $, pickleshare: 0.7.4, platform: 1.0.7, prompt_toolkit: 1.0.3, psutil: 4.3.1, ptyprocess: 0.5.1, py: 1.4.31, pydoc: $Revision: 88564 $, pygments: 2.1.3, pyparsing: 2.2.0, pytz: 2016.6.1, re: 2.2.1, redis: 2.10.5, scipy: 0.18.1, seaborn: 0.8.0, six: 1.10.0, sklearn: 0.18.1, sortedcontainers: 2.0.4, statsmodels: 0.8.0, sumatra: 0.7.4, tables: 3.2.3.1, tblib: 1.3.2, toolz: 0.8.0, traitlets: 4.3.0, urllib: 1.17, urllib2: 2.7, xlsxwriter: 0.9.3, yaml: 3.12, zlib: 1.0, zmq: 15.4.0\n"
     ]
    },
    {
     "name": "stderr",
     "output_type": "stream",
     "text": [
      "/home/amir/Projects/in_silico_framework/Interface.py:172: UserWarning: The source folder has uncommited changes!\n",
      "  if get_versions()['dirty']: warnings.warn('The source folder has uncommited changes!')\n"
     ]
    }
   ],
   "source": [
    "import os\n",
    "import sys\n",
    "\n",
    "    \n",
    "import ipywidgets as widgets\n",
    "from ipywidgets import interact, interact_manual\n",
    "from PIL import Image, ImageDraw\n",
    "\n",
    "import radii as radi\n",
    "import numpy as np\n",
    "import SimpleITK as sitk\n",
    "import matplotlib\n",
    "#matplotlib.use('TkAgg')\n",
    "import matplotlib.pyplot as plt\n",
    "import matplotlib.image as mpimg\n",
    "import Interface as I\n",
    "from getting_started import getting_started_dir\n",
    "\n",
    "#%matplotlib inline"
   ]
  },
  {
   "cell_type": "markdown",
   "metadata": {},
   "source": [
    "## draw_line()"
   ]
  },
  {
   "cell_type": "code",
   "execution_count": 2,
   "metadata": {
    "collapsed": true
   },
   "outputs": [],
   "source": [
    "def draw_line_from_point_to_point(draw, p1, p2):\n",
    "    draw.line((p1[0], p1[1], p2[0], p2[1]),fill=(255,101,80,40), width=2)\n",
    "\n",
    "def drawLine(image, rays):\n",
    "    \n",
    "    im = Image.open(image).convert(\"RGBA\")\n",
    "    draw = ImageDraw.Draw(im) \n",
    " \n",
    "    #draw.line((backCounterPoint[0], backCounterPoint[1], frontCounterPoint[0], frontCounterPoint[1]), fill=200, width=5)\n",
    "    for rayIndex, ray in enumerate(rays):\n",
    "        p1 = np.array(ray[0])\n",
    "        p2 = np.array(ray[-1])\n",
    "        v = p2-p1\n",
    "        center = v/2.0\n",
    "        p11 = p1+0.45*v\n",
    "        p12 = p1+0.55*v\n",
    "        \n",
    "        draw.text((0,0),\"lines next to the numbers are showing front rays\",fill=(255,255,255,128))\n",
    "        draw.text((ray[-1][0], ray[-1][1]),str(rayIndex),fill=(255,255,255,128))\n",
    "        #draw.line((ray[0][0], ray[0][1], ray[-1][0], ray[-1][1]),fill=(255,101,80,1), width=2)\n",
    "        draw_line_from_point_to_point(draw, p1, p11)\n",
    "        draw_line_from_point_to_point(draw, p12, p2)\n",
    "        #draw.line((center[0], ray[0][1], ray[-1][0], ray[-1][1]),fill=(255,101,80,1), width=2)\n",
    "        #draw.line((ray[0][0], ray[0][1], ray[-1][0], ray[-1][1]),fill=(255,101,80,1), width=2)\n",
    "    im.show()\n",
    "\n",
    "    #im.save(sys.stdout, \"PNG\")\n",
    "    "
   ]
  },
  {
   "cell_type": "markdown",
   "metadata": {},
   "source": [
    "## plotCircularProfiles()"
   ]
  },
  {
   "cell_type": "code",
   "execution_count": 3,
   "metadata": {
    "collapsed": true
   },
   "outputs": [],
   "source": [
    "def plotCircularProfiles(raysProfileList, selectedProfileIndex):\n",
    "    \n",
    "\n",
    " #   t1 = np.arange(0.0, 5.0, 0.1)\n",
    "    length = len(raysProfileList)\n",
    "    #plt.figure(1)\n",
    "    plt.figure(figsize=(10,18))\n",
    "    \n",
    "    for rayIndex, ray in enumerate(raysProfileList[0:length]):\n",
    "        l = len(ray)*0.092\n",
    "        x = np.arange(-l/2.0, l/2.0, 0.092)\n",
    "        plt.subplot(len(raysProfileList),1, rayIndex+1)\n",
    "        \n",
    "        #plt.subplot(len(raysProfileList),1, rayIndex+1, frameon=False)\n",
    "        #plt.axis('off')  \n",
    "        plt.plot(x,ray,label=str(rayIndex), c = 'r' if rayIndex == selectedProfileIndex else 'k')\n",
    "        assert(len(ray) % 2 == 1)\n",
    "        id_mid_point = int((len(ray)-1)/2)\n",
    "        plt.plot(0, ray[id_mid_point], \"o\")\n",
    "        plt.legend()\n",
    "        plt.tight_layout()\n",
    "    plt.show() \n"
   ]
  },
  {
   "cell_type": "markdown",
   "metadata": {},
   "source": [
    "## statistics()"
   ]
  },
  {
   "cell_type": "code",
   "execution_count": 4,
   "metadata": {
    "collapsed": true
   },
   "outputs": [],
   "source": [
    "def statistics(pos):\n",
    "    rays, raysProfiles = radiusCalculator.getProfileAtThisPoint(inputImage_s13, pos)\n",
    "    \n",
    "    selectedBackProfile, selectedFrontProfile, radiusList,\\\n",
    "    minRadius, BackCountorPoint, frontCounterPoint,\\\n",
    "    counterList,raysProfiles_1, rays, selectedProfileIndex = radiusCalculator.getRadiusFromProfile(inputImage_s13, pos)\n",
    "    \n",
    "    drawLine(inputTifImage_s13, rays)\n",
    "    print 'minRadius: ', minRadius \n",
    "    plotCircularProfiles(raysProfiles, selectedProfileIndex)"
   ]
  },
  {
   "cell_type": "markdown",
   "metadata": {},
   "source": [
    "## collectRadii()"
   ]
  },
  {
   "cell_type": "code",
   "execution_count": 5,
   "metadata": {
    "collapsed": true
   },
   "outputs": [],
   "source": [
    "def collectRadii(points, cutOffValues, numberOfRays, postMeasurment='no'): \n",
    "    radiiSet = []\n",
    "    for cutOff in cutOffValues:\n",
    "       \n",
    "        radiusCalculator = radi.calcRad.RadiusCalculator(xyResolution=0.092,\n",
    "                                                 zResolution=0.5,\n",
    "                                                 xySize=20,\n",
    "                                                 numberOfRays=numberOfRays,\n",
    "                                                 tresholdPercentage=cutOff)\n",
    "        radii = radiusCalculator.getProfileOfThesePoints(inputImage_s13, points, postMeasurment)\n",
    "         \n",
    "        radiiSet.append(radii)\n",
    "        del radiusCalculator\n",
    "    return radiiSet\n"
   ]
  },
  {
   "cell_type": "markdown",
   "metadata": {},
   "source": [
    "## scatterPlot()"
   ]
  },
  {
   "cell_type": "code",
   "execution_count": 6,
   "metadata": {
    "collapsed": true
   },
   "outputs": [],
   "source": [
    "def scatterPlot(radiiData, style = 'scatter'):\n",
    "\n",
    "    g1 = radiiData[0]\n",
    "    g2 = radiiData[1]\n",
    "    g3 = radiiData[2]\n",
    "    \n",
    "    gLen = len(g1)\n",
    "    area = 30\n",
    "    \n",
    "    data = (g1, g2, g3)\n",
    "    colors = (\"red\", \"green\", \"blue\")\n",
    "    groups = (\"0.25\", \"0.5\", \"0.75\")\n",
    "     \n",
    "   \n",
    "    fig = plt.figure()\n",
    "    ax = fig.add_subplot(1, 1, 1, axisbg=\"1.0\")\n",
    " \n",
    "    for data, color, group in zip(data, colors, groups):\n",
    "        x = np.arange(0, gLen, 1)\n",
    "        y = data\n",
    "        if style == 'scatter':\n",
    "            ax.scatter(x, y, alpha=0.5, c=color, edgecolors='none', s=area, label=group)\n",
    "        elif style == 'line':\n",
    "            ax.plot(x, y, c=color, label=group)\n",
    "\n",
    "\n",
    "    plt.title('radius scatter plot')\n",
    "    plt.legend(loc=2)\n",
    "    plt.savefig('scatter.png', bbox_inches='tight')\n",
    "    plt.show()"
   ]
  },
  {
   "cell_type": "code",
   "execution_count": 7,
   "metadata": {
    "collapsed": true
   },
   "outputs": [],
   "source": [
    "def get_modified_points(points):\n",
    "    radiusCalculator = radi.calcRad.RadiusCalculator(xyResolution=0.092,\n",
    "                                                 zResolution=0.5,\n",
    "                                                 xySize=20,\n",
    "                                                 numberOfRays=20,\n",
    "                                                 tresholdPercentage=0.5)\n",
    "\n",
    "    radiusCalculator.debug_postMeasurementPoints = []\n",
    "    radiusCalculator.getProfileOfThesePoints(inputImage_s13, points, 'yes')\n",
    "    return radiusCalculator.debug_postMeasurementPoints"
   ]
  },
  {
   "cell_type": "markdown",
   "metadata": {},
   "source": [
    "## optional: switches on clicking mode"
   ]
  },
  {
   "cell_type": "code",
   "execution_count": 8,
   "metadata": {
    "collapsed": false
   },
   "outputs": [
    {
     "ename": "NameError",
     "evalue": "name 'inputImage_s13' is not defined",
     "output_type": "error",
     "traceback": [
      "\u001b[0;31m---------------------------------------\u001b[0m",
      "\u001b[0;31mNameError\u001b[0mTraceback (most recent call last)",
      "\u001b[0;32m<ipython-input-8-04d61966fd00>\u001b[0m in \u001b[0;36m<module>\u001b[0;34m()\u001b[0m\n\u001b[1;32m      1\u001b[0m \u001b[0;34m\u001b[0m\u001b[0m\n\u001b[0;32m----> 2\u001b[0;31m \u001b[0mimgArray\u001b[0m \u001b[0;34m=\u001b[0m \u001b[0msitk\u001b[0m\u001b[0;34m.\u001b[0m\u001b[0mGetArrayViewFromImage\u001b[0m\u001b[0;34m(\u001b[0m\u001b[0minputImage_s13\u001b[0m\u001b[0;34m)\u001b[0m\u001b[0;34m\u001b[0m\u001b[0m\n\u001b[0m\u001b[1;32m      3\u001b[0m \u001b[0;34m\u001b[0m\u001b[0m\n\u001b[1;32m      4\u001b[0m \u001b[0mf\u001b[0m\u001b[0;34m,\u001b[0m\u001b[0mimgplot\u001b[0m\u001b[0;34m=\u001b[0m\u001b[0mplt\u001b[0m\u001b[0;34m.\u001b[0m\u001b[0msubplots\u001b[0m\u001b[0;34m(\u001b[0m\u001b[0;34m)\u001b[0m\u001b[0;34m\u001b[0m\u001b[0m\n\u001b[1;32m      5\u001b[0m \u001b[0mimgplot\u001b[0m \u001b[0;34m=\u001b[0m \u001b[0mplt\u001b[0m\u001b[0;34m.\u001b[0m\u001b[0mimshow\u001b[0m\u001b[0;34m(\u001b[0m\u001b[0mimgArray\u001b[0m\u001b[0;34m)\u001b[0m\u001b[0;34m;\u001b[0m\u001b[0;34m\u001b[0m\u001b[0m\n",
      "\u001b[0;31mNameError\u001b[0m: name 'inputImage_s13' is not defined"
     ]
    }
   ],
   "source": [
    "\n",
    "imgArray = sitk.GetArrayViewFromImage(inputImage_s13)\n",
    "\n",
    "f,imgplot=plt.subplots()\n",
    "imgplot = plt.imshow(imgArray);\n",
    "\n",
    "pos = []\n",
    "def onclick(event):\n",
    "    pos = []\n",
    "    pos.append([event.xdata,event.ydata])\n",
    "    statistics(pos[0])\n",
    "\n",
    "f.canvas.mpl_connect('button_press_event', onclick)\n",
    "f.show()"
   ]
  },
  {
   "cell_type": "markdown",
   "metadata": {},
   "source": [
    "# Load Data"
   ]
  },
  {
   "cell_type": "markdown",
   "metadata": {},
   "source": [
    "## Setup ModelDataBase"
   ]
  },
  {
   "cell_type": "code",
   "execution_count": null,
   "metadata": {
    "collapsed": false
   },
   "outputs": [],
   "source": [
    "mdb = I.ModelDataBase('/nas1/Data_anajafgholi/results/20190410_profiling')"
   ]
  },
  {
   "cell_type": "markdown",
   "metadata": {},
   "source": [
    "## Full structure"
   ]
  },
  {
   "cell_type": "code",
   "execution_count": null,
   "metadata": {
    "collapsed": false
   },
   "outputs": [],
   "source": [
    "inputTifImage_s13 = I.os.path.join(getting_started_dir, 'radii/data/neuron1/tif/max_z_projections','S13_max_z_projection.tif')\n",
    "inputAmData_s13 = I.os.path.join(getting_started_dir, 'radii/data/neuron1/am','S13_final_done_Alison_zScale_40.am')\n",
    "outputAmData025_s13 = I.os.path.join(getting_started_dir, 'radii/data/neuron1/am_output','S13_withRadius025.am')\n",
    "outputAmData05_s13 = I.os.path.join(getting_started_dir, 'radii/data/neuron1/am_output','S13_withRadius05.am')\n",
    "outputAmData075_s13 = I.os.path.join(getting_started_dir, 'radii/data/neuron1/am_output','S13_withRadius075.am')"
   ]
  },
  {
   "cell_type": "code",
   "execution_count": null,
   "metadata": {
    "collapsed": true
   },
   "outputs": [],
   "source": [
    "imageFileReader = sitk.ImageFileReader()\n",
    "imageFileReader.SetFileName(inputTifImage_s13)\n",
    "inputImage_s13 = imageFileReader.Execute()"
   ]
  },
  {
   "cell_type": "markdown",
   "metadata": {},
   "source": [
    "## Axon only"
   ]
  },
  {
   "cell_type": "code",
   "execution_count": null,
   "metadata": {
    "collapsed": true
   },
   "outputs": [],
   "source": [
    "inputTifImageAxon_s13 = I.os.path.join(getting_started_dir, 'radii/data/neuron1/tif/max_z_projections','S13_max_z_projection.tif')\n",
    "inputAmDataAxon_s13 = I.os.path.join(getting_started_dir, 'radii/data/neuron1/am_analysis','S13_final_done_Alison_zScale_40_axon.am')"
   ]
  },
  {
   "cell_type": "code",
   "execution_count": null,
   "metadata": {
    "collapsed": true
   },
   "outputs": [],
   "source": [
    "imageFileAxonReader = sitk.ImageFileReader()\n",
    "imageFileAxonReader.SetFileName(inputTifImageAxon_s13)\n",
    "inputImageAxon_s13 = imageFileAxonReader.Execute()"
   ]
  },
  {
   "cell_type": "markdown",
   "metadata": {},
   "source": [
    "## Dendrite only"
   ]
  },
  {
   "cell_type": "code",
   "execution_count": null,
   "metadata": {
    "collapsed": true
   },
   "outputs": [],
   "source": [
    "inputTifImageDendrite_s13 = I.os.path.join(getting_started_dir, 'radii/data/neuron1/tif/max_z_projections','S13_max_z_projection.tif')\n",
    "inputAmDataDendrite_s13 = I.os.path.join(getting_started_dir, 'radii/data/neuron1/am_analysis','S13_final_done_Alison_zScale_40_dendrite.am')"
   ]
  },
  {
   "cell_type": "code",
   "execution_count": null,
   "metadata": {
    "collapsed": false
   },
   "outputs": [],
   "source": [
    "imageFileDendriteReader = sitk.ImageFileReader()\n",
    "imageFileDendriteReader.SetFileName(inputTifImageDendrite_s13)\n",
    "inputImageDendrite_s13 = imageFileDendriteReader.Execute()"
   ]
  },
  {
   "cell_type": "markdown",
   "metadata": {},
   "source": [
    "# Get spatial points"
   ]
  },
  {
   "cell_type": "markdown",
   "metadata": {},
   "source": [
    "## Full structure - Spatial Points"
   ]
  },
  {
   "cell_type": "code",
   "execution_count": null,
   "metadata": {
    "collapsed": false
   },
   "outputs": [],
   "source": [
    "points = radi.spacialGraph.getSpatialGraphPoints(inputAmData_s13)\n",
    "points = mdb.maybe_calculate('points', lambda: map(lambda x: map(lambda y: int(y/0.092), x), points))\n",
    "radiiSet = mdb.maybe_calculate('radiiSet', lambda: collectRadii(points, [0.25, 0.5, 0.75], 10))"
   ]
  },
  {
   "cell_type": "code",
   "execution_count": null,
   "metadata": {
    "collapsed": false
   },
   "outputs": [],
   "source": [
    "modified_points = get_modified_points(points)"
   ]
  },
  {
   "cell_type": "code",
   "execution_count": null,
   "metadata": {
    "collapsed": true
   },
   "outputs": [],
   "source": [
    "intensity_at_point = [inputImage_s13.GetPixel(point) for point in points]"
   ]
  },
  {
   "cell_type": "code",
   "execution_count": null,
   "metadata": {
    "collapsed": false
   },
   "outputs": [],
   "source": [
    "intensity_at_modified_points = [inputImage_s13.GetPixel(point) for point in modified_points]"
   ]
  },
  {
   "cell_type": "markdown",
   "metadata": {},
   "source": [
    "## Axon - Spatial Points"
   ]
  },
  {
   "cell_type": "code",
   "execution_count": null,
   "metadata": {
    "collapsed": false
   },
   "outputs": [],
   "source": [
    "points_axon = radi.spacialGraph.getSpatialGraphPoints(inputAmDataAxon_s13)\n",
    "points_axon = mdb.maybe_calculate('points_axon', lambda: map(lambda x: map(lambda y: int(y/0.092), x), points_axon))\n",
    "radiiSetAxon = mdb.maybe_calculate('radiiSet_axon', lambda: collectRadii(points_axon, [0.25, 0.5, 0.75], 10))"
   ]
  },
  {
   "cell_type": "code",
   "execution_count": null,
   "metadata": {
    "collapsed": false
   },
   "outputs": [],
   "source": [
    "intensity_at_point_axon = [inputImageAxon_s13.GetPixel(point) for point in points_axon]"
   ]
  },
  {
   "cell_type": "code",
   "execution_count": null,
   "metadata": {
    "collapsed": true
   },
   "outputs": [],
   "source": [
    "modified_axonPoints = get_modified_points(points_axon)"
   ]
  },
  {
   "cell_type": "code",
   "execution_count": null,
   "metadata": {
    "collapsed": false
   },
   "outputs": [],
   "source": [
    "intensity_at_modified_axon_points = [inputImageAxon_s13.GetPixel(point) for point in modified_axonPoints]"
   ]
  },
  {
   "cell_type": "markdown",
   "metadata": {},
   "source": [
    "## Dendrite - Spatial Points"
   ]
  },
  {
   "cell_type": "code",
   "execution_count": null,
   "metadata": {
    "collapsed": false
   },
   "outputs": [],
   "source": [
    "points_dendrite = radi.spacialGraph.getSpatialGraphPoints(inputAmDataDendrite_s13)\n",
    "points_dendrite = mdb.maybe_calculate('points_dendrite', lambda: map(lambda x: map(lambda y: int(y/0.092), x), points_dendrite))\n",
    "radiiSetDendrite = mdb.maybe_calculate('radiiSet_dendrite', lambda: collectRadii(points_dendrite, [0.25, 0.5, 0.75], 10))"
   ]
  },
  {
   "cell_type": "code",
   "execution_count": null,
   "metadata": {
    "collapsed": false
   },
   "outputs": [],
   "source": [
    "intensity_at_point_dendrite = [inputImageAxon_s13.GetPixel(point) for point in points_dendrite]"
   ]
  },
  {
   "cell_type": "code",
   "execution_count": null,
   "metadata": {
    "collapsed": true
   },
   "outputs": [],
   "source": [
    "modified_dendritePoints = get_modified_points(points_dendrite)"
   ]
  },
  {
   "cell_type": "code",
   "execution_count": null,
   "metadata": {
    "collapsed": true
   },
   "outputs": [],
   "source": [
    "intensity_at_modified_dendrite_points = [inputImageAxon_s13.GetPixel(point) for point in modified_dendritePoints]"
   ]
  },
  {
   "cell_type": "markdown",
   "metadata": {},
   "source": [
    "# Extract radii"
   ]
  },
  {
   "cell_type": "markdown",
   "metadata": {},
   "source": [
    "## Full structure"
   ]
  },
  {
   "cell_type": "markdown",
   "metadata": {},
   "source": [
    "### Full structure - first measurment"
   ]
  },
  {
   "cell_type": "code",
   "execution_count": null,
   "metadata": {
    "collapsed": true
   },
   "outputs": [],
   "source": [
    "#temp = collectRadii(points, [0.25, 0.5, 0.75], 10, 'no')"
   ]
  },
  {
   "cell_type": "code",
   "execution_count": null,
   "metadata": {
    "collapsed": true
   },
   "outputs": [],
   "source": [
    "#mdb['radiiSet'] = temp"
   ]
  },
  {
   "cell_type": "code",
   "execution_count": null,
   "metadata": {
    "collapsed": true
   },
   "outputs": [],
   "source": [
    "radiiSet = mdb.maybe_calculate('radiiSet', lambda: collectRadii(points, [0.25, 0.5, 0.75], 10, 'no'))"
   ]
  },
  {
   "cell_type": "markdown",
   "metadata": {},
   "source": [
    "### Full structue - post Measurment"
   ]
  },
  {
   "cell_type": "code",
   "execution_count": null,
   "metadata": {
    "collapsed": true
   },
   "outputs": [],
   "source": [
    "##temp_post = collectRadii(points, [0.25, 0.5, 0.75], 10, 'yes')"
   ]
  },
  {
   "cell_type": "code",
   "execution_count": null,
   "metadata": {
    "collapsed": true
   },
   "outputs": [],
   "source": [
    "##mdb['postRadiiSet'] = temp_post"
   ]
  },
  {
   "cell_type": "code",
   "execution_count": null,
   "metadata": {
    "collapsed": true
   },
   "outputs": [],
   "source": [
    "postRadiiSet = mdb.maybe_calculate('postRadiiSet', lambda: collectRadii(points, [0.25, 0.5, 0.75], 10, 'yes'))"
   ]
  },
  {
   "cell_type": "code",
   "execution_count": null,
   "metadata": {
    "collapsed": true
   },
   "outputs": [],
   "source": [
    "radiusCalculator = radi.calcRad.RadiusCalculator(xyResolution=0.092,\n",
    "                                                 zResolution=0.5,\n",
    "                                                 xySize=20,\n",
    "                                                 numberOfRays=20,\n",
    "                                                 tresholdPercentage=0.5)\n",
    "\n",
    "radiusCalculator.debug_postMeasurementPoints = []"
   ]
  },
  {
   "cell_type": "markdown",
   "metadata": {},
   "source": [
    "## Axon Only"
   ]
  },
  {
   "cell_type": "markdown",
   "metadata": {},
   "source": [
    "### Axon only - first measurment"
   ]
  },
  {
   "cell_type": "code",
   "execution_count": null,
   "metadata": {
    "collapsed": false
   },
   "outputs": [],
   "source": [
    "#temp_axon = collectRadii(points_axon, [0.25, 0.5, 0.75], 10, 'no')"
   ]
  },
  {
   "cell_type": "code",
   "execution_count": null,
   "metadata": {
    "collapsed": false
   },
   "outputs": [],
   "source": [
    "#mdb['radiiSetAxon'] = temp_axon"
   ]
  },
  {
   "cell_type": "code",
   "execution_count": null,
   "metadata": {
    "collapsed": true
   },
   "outputs": [],
   "source": [
    "postRadiiSetAxon = mdb.maybe_calculate('radiiSetAxon', lambda: collectRadii(points_axon, [0.25, 0.5, 0.75], 10, 'no'))"
   ]
  },
  {
   "cell_type": "markdown",
   "metadata": {},
   "source": [
    "### Axon only - post measurment"
   ]
  },
  {
   "cell_type": "code",
   "execution_count": null,
   "metadata": {
    "collapsed": true,
    "scrolled": true
   },
   "outputs": [],
   "source": [
    "#tempPost_axon = collectRadii(points_axon, [0.25, 0.5, 0.75], 10, 'yes')"
   ]
  },
  {
   "cell_type": "code",
   "execution_count": null,
   "metadata": {
    "collapsed": true
   },
   "outputs": [],
   "source": [
    "#mdb['postRadiiSetAxon'] = tempPost_axon"
   ]
  },
  {
   "cell_type": "code",
   "execution_count": null,
   "metadata": {
    "collapsed": true
   },
   "outputs": [],
   "source": [
    "postRadiiSetAxon = mdb.maybe_calculate('postRadiiSetAxon', lambda: collectRadii(points_axon, [0.25, 0.5, 0.75], 10, 'yes'))"
   ]
  },
  {
   "cell_type": "markdown",
   "metadata": {},
   "source": [
    "## Dendrite only"
   ]
  },
  {
   "cell_type": "markdown",
   "metadata": {},
   "source": [
    "### Dendrite only - first measurment"
   ]
  },
  {
   "cell_type": "code",
   "execution_count": null,
   "metadata": {
    "collapsed": true
   },
   "outputs": [],
   "source": [
    "#temp_dendrite = collectRadii(points_dendrite, [0.25, 0.5, 0.75], 10, 'no')"
   ]
  },
  {
   "cell_type": "code",
   "execution_count": null,
   "metadata": {
    "collapsed": true
   },
   "outputs": [],
   "source": [
    "#mdb['radiiSetDendrite'] = temp_dendrite"
   ]
  },
  {
   "cell_type": "code",
   "execution_count": null,
   "metadata": {
    "collapsed": true
   },
   "outputs": [],
   "source": [
    "radiiSetDendrite = mdb.maybe_calculate('radiiSetDendrite', lambda: collectRadii(points_dendrite, [0.25, 0.5, 0.75], 10, 'no'))"
   ]
  },
  {
   "cell_type": "markdown",
   "metadata": {},
   "source": [
    "### Dendrite only - post measurment"
   ]
  },
  {
   "cell_type": "code",
   "execution_count": null,
   "metadata": {
    "collapsed": true
   },
   "outputs": [],
   "source": [
    "#tempPost_dendrite = collectRadii(points_dendrite, [0.25, 0.5, 0.75], 10, 'yes')"
   ]
  },
  {
   "cell_type": "code",
   "execution_count": null,
   "metadata": {
    "collapsed": true
   },
   "outputs": [],
   "source": [
    "#mdb['postRadiiSetDendrite'] = tempPost_dendrite"
   ]
  },
  {
   "cell_type": "code",
   "execution_count": null,
   "metadata": {
    "collapsed": true
   },
   "outputs": [],
   "source": [
    "postRadiiSetDendrite = mdb.maybe_calculate('postRadiiSetDendrite', lambda: collectRadii(points_dendrite, [0.25, 0.5, 0.75], 10, 'yes'))"
   ]
  },
  {
   "cell_type": "markdown",
   "metadata": {},
   "source": [
    "# Analysis"
   ]
  },
  {
   "cell_type": "markdown",
   "metadata": {},
   "source": [
    "## Create radiusCalculator Object"
   ]
  },
  {
   "cell_type": "code",
   "execution_count": null,
   "metadata": {
    "collapsed": true
   },
   "outputs": [],
   "source": [
    "radiusCalculator = radi.calcRad.RadiusCalculator(xyResolution=0.092,\n",
    "                                         zResolution=0.5,\n",
    "                                         xySize=20,\n",
    "                                         numberOfRays=10,\n",
    "                                         tresholdPercentage=0.5)"
   ]
  },
  {
   "cell_type": "markdown",
   "metadata": {},
   "source": [
    "## Get points with special intensities"
   ]
  },
  {
   "cell_type": "code",
   "execution_count": null,
   "metadata": {
    "collapsed": false
   },
   "outputs": [],
   "source": [
    "[points[idx] for idx, p in enumerate(postRadiiSet[0]) if p == 100]"
   ]
  },
  {
   "cell_type": "markdown",
   "metadata": {},
   "source": [
    "## Debugging: how does a single point get updated?"
   ]
  },
  {
   "cell_type": "code",
   "execution_count": null,
   "metadata": {
    "collapsed": true
   },
   "outputs": [],
   "source": [
    "point_original = [201, 558] # [195, 560, 0] # [2740, 568, 227]\n",
    "_, _, _, _, _, _, _, raysProfileList, rays, _ = radiusCalculator.getRadiusFromProfile(inputImage_s13, point_original, postMeasurment='no')"
   ]
  },
  {
   "cell_type": "code",
   "execution_count": null,
   "metadata": {
    "collapsed": true
   },
   "outputs": [],
   "source": [
    "point_original = [195, 560, 0]"
   ]
  },
  {
   "cell_type": "code",
   "execution_count": null,
   "metadata": {
    "collapsed": true
   },
   "outputs": [],
   "source": [
    "point_modified = radiusCalculator.postMeasurmentFunction(inputImage_s13, rays, raysProfileList)\n",
    "_, _, _, radius, _, _, _, _, _, _ = radiusCalculator.getRadiusFromProfile(inputImage_s13, point_modified, postMeasurment='no')"
   ]
  },
  {
   "cell_type": "code",
   "execution_count": null,
   "metadata": {
    "collapsed": true
   },
   "outputs": [],
   "source": [
    "intensity_at_point = [inputImage_s13.GetPixel(point) for point in points]"
   ]
  },
  {
   "cell_type": "code",
   "execution_count": null,
   "metadata": {
    "collapsed": false
   },
   "outputs": [],
   "source": [
    "radius*0.092"
   ]
  },
  {
   "cell_type": "code",
   "execution_count": null,
   "metadata": {
    "collapsed": false
   },
   "outputs": [],
   "source": [
    "print point_original\n",
    "print point_modified"
   ]
  },
  {
   "cell_type": "code",
   "execution_count": null,
   "metadata": {
    "collapsed": false,
    "scrolled": true
   },
   "outputs": [],
   "source": [
    "statistics(point_original)"
   ]
  },
  {
   "cell_type": "code",
   "execution_count": null,
   "metadata": {
    "collapsed": false
   },
   "outputs": [],
   "source": [
    "statistics(point_modified)"
   ]
  },
  {
   "cell_type": "code",
   "execution_count": null,
   "metadata": {
    "collapsed": false
   },
   "outputs": [],
   "source": [
    "statistics([2740, 568, 227])"
   ]
  },
  {
   "cell_type": "code",
   "execution_count": null,
   "metadata": {
    "collapsed": true
   },
   "outputs": [],
   "source": [
    "pdf = I.pd.DataFrame(radiiSet).T*0.092"
   ]
  },
  {
   "cell_type": "code",
   "execution_count": null,
   "metadata": {
    "collapsed": true
   },
   "outputs": [],
   "source": [
    "ppdf = I.pd.DataFrame(postRadiiSet).T*0.092"
   ]
  },
  {
   "cell_type": "markdown",
   "metadata": {},
   "source": [
    "## Dark point on axon, sligthly beside structure"
   ]
  },
  {
   "cell_type": "code",
   "execution_count": null,
   "metadata": {
    "collapsed": true
   },
   "outputs": [],
   "source": [
    "radiusCalculator.tresholdPercentage = 0.8"
   ]
  },
  {
   "cell_type": "code",
   "execution_count": null,
   "metadata": {
    "collapsed": false
   },
   "outputs": [],
   "source": [
    "statistics([2740, 568, 227])"
   ]
  },
  {
   "cell_type": "code",
   "execution_count": null,
   "metadata": {
    "collapsed": false
   },
   "outputs": [],
   "source": [
    "statistics(point)"
   ]
  },
  {
   "cell_type": "markdown",
   "metadata": {},
   "source": [
    "# Intensity Distribution Structure vs. Background"
   ]
  },
  {
   "cell_type": "code",
   "execution_count": null,
   "metadata": {
    "collapsed": true
   },
   "outputs": [],
   "source": [
    "def get_random_point(image, n):\n",
    "    dim = image.GetSize()\n",
    "    intensities = []\n",
    "    for n in range(n):\n",
    "        point = [I.np.random.randint(0, dim[0]), I.np.random.randint(0, dim[1])]\n",
    "        intensities.append(image.GetPixel(point))\n",
    "    return intensities"
   ]
  },
  {
   "cell_type": "markdown",
   "metadata": {},
   "source": [
    "## Full structure - First Measurment"
   ]
  },
  {
   "cell_type": "code",
   "execution_count": null,
   "metadata": {
    "collapsed": false
   },
   "outputs": [],
   "source": [
    "I.plt.figure(figsize = (8,4), dpi = 200)\n",
    "bins = I.np.arange(0,255)\n",
    "_ = I.plt.hist(intensity_at_point, bins = bins, label = 'Full-First Meas.', color = 'r')\n",
    "_ = I.plt.hist(get_random_point(inputImage_s13, 1000), bins = bins, label = 'background', color = 'k', alpha = .5)\n",
    "I.plt.legend()\n",
    "I.plt.axvline(40)\n",
    "I.sns.despine()\n"
   ]
  },
  {
   "cell_type": "markdown",
   "metadata": {},
   "source": [
    "## Full structure - Post Measurment"
   ]
  },
  {
   "cell_type": "code",
   "execution_count": null,
   "metadata": {
    "collapsed": false
   },
   "outputs": [],
   "source": [
    "I.plt.figure(figsize = (8,4), dpi = 200)\n",
    "bins = I.np.arange(0,255)\n",
    "_ = I.plt.hist(intensity_at_modified_points, bins = bins, label = 'Full-Post Meas.', color = 'r')\n",
    "_ = I.plt.hist(get_random_point(inputImage_s13, 1000), bins = bins, label = 'background', color = 'k', alpha = .5)\n",
    "I.plt.legend()\n",
    "I.plt.axvline(40)\n",
    "I.sns.despine()\n"
   ]
  },
  {
   "cell_type": "markdown",
   "metadata": {},
   "source": [
    "## Axon vs. Background - First Measurment"
   ]
  },
  {
   "cell_type": "code",
   "execution_count": null,
   "metadata": {
    "collapsed": false
   },
   "outputs": [],
   "source": [
    "I.plt.figure(figsize = (8,4), dpi = 200)\n",
    "bins = I.np.arange(0,255)\n",
    "_ = I.plt.hist(intensity_at_point_axon, bins = bins, label = 'Axon-First Meas.', color = 'r')\n",
    "_ = I.plt.hist(get_random_point(inputImage_s13, 1000), bins = bins, label = 'background', color = 'k', alpha = .5)\n",
    "I.plt.legend()\n",
    "I.plt.axvline(40)\n",
    "I.sns.despine()\n"
   ]
  },
  {
   "cell_type": "markdown",
   "metadata": {},
   "source": [
    "## Axon vs. Background - Post Measurment"
   ]
  },
  {
   "cell_type": "code",
   "execution_count": null,
   "metadata": {
    "collapsed": false
   },
   "outputs": [],
   "source": [
    "I.plt.figure(figsize = (8,4), dpi = 200)\n",
    "bins = I.np.arange(0,255)\n",
    "_ = I.plt.hist(intensity_at_modified_axon_points, bins = bins, label = 'Axon-Post Meas.', color = 'r')\n",
    "_ = I.plt.hist(get_random_point(inputImage_s13, 1000), bins = bins, label = 'background', color = 'k', alpha = .5)\n",
    "I.plt.legend()\n",
    "I.plt.axvline(40)\n",
    "I.sns.despine()\n"
   ]
  },
  {
   "cell_type": "markdown",
   "metadata": {},
   "source": [
    "## Dendrite vs. Background - First Measurment"
   ]
  },
  {
   "cell_type": "code",
   "execution_count": null,
   "metadata": {
    "collapsed": false
   },
   "outputs": [],
   "source": [
    "I.plt.figure(figsize = (8,4), dpi = 200)\n",
    "bins = I.np.arange(0,255)\n",
    "_ = I.plt.hist(intensity_at_point_dendrite, bins = bins, label = 'Dendrite-First Meas.', color = 'r')\n",
    "_ = I.plt.hist(get_random_point(inputImage_s13, 1000), bins = bins, label = 'background', color = 'k', alpha = .5)\n",
    "I.plt.legend()\n",
    "I.plt.axvline(40)\n",
    "I.sns.despine()\n"
   ]
  },
  {
   "cell_type": "markdown",
   "metadata": {},
   "source": [
    "## Dendrite vs. Background - Post measurment"
   ]
  },
  {
   "cell_type": "code",
   "execution_count": null,
   "metadata": {
    "collapsed": false
   },
   "outputs": [],
   "source": [
    "I.plt.figure(figsize = (8,4), dpi = 200)\n",
    "bins = I.np.arange(0,255)\n",
    "_ = I.plt.hist(intensity_at_modified_dendrite_points, bins = bins, label = 'Dendrite-Post Meas.', color = 'r')\n",
    "_ = I.plt.hist(get_random_point(inputImage_s13, 1000), bins = bins, label = 'background', color = 'k', alpha = .5)\n",
    "I.plt.legend()\n",
    "I.plt.axvline(40)\n",
    "I.sns.despine()\n"
   ]
  },
  {
   "cell_type": "markdown",
   "metadata": {},
   "source": [
    "# ScatterPlot"
   ]
  },
  {
   "cell_type": "markdown",
   "metadata": {},
   "source": [
    "## Full Structure - First Measurment"
   ]
  },
  {
   "cell_type": "code",
   "execution_count": null,
   "metadata": {
    "collapsed": false
   },
   "outputs": [],
   "source": [
    "scatterPlot(map(lambda x: I.np.array(x)*0.092, radiiSet))"
   ]
  },
  {
   "cell_type": "markdown",
   "metadata": {},
   "source": [
    "## Full Structure - Post Measurment"
   ]
  },
  {
   "cell_type": "code",
   "execution_count": null,
   "metadata": {
    "collapsed": false
   },
   "outputs": [],
   "source": [
    "scatterPlot(map(lambda x: I.np.array(x)*0.092, postRadiiSet))"
   ]
  },
  {
   "cell_type": "markdown",
   "metadata": {},
   "source": [
    "## Axon - First Measurment"
   ]
  },
  {
   "cell_type": "code",
   "execution_count": null,
   "metadata": {
    "collapsed": false
   },
   "outputs": [],
   "source": [
    "scatterPlot(map(lambda x: I.np.array(x)*0.092, radiiSetAxon))"
   ]
  },
  {
   "cell_type": "markdown",
   "metadata": {},
   "source": [
    "## Axon - Post Measurment"
   ]
  },
  {
   "cell_type": "code",
   "execution_count": null,
   "metadata": {
    "collapsed": false
   },
   "outputs": [],
   "source": [
    "scatterPlot(map(lambda x: I.np.array(x)*0.092, postRadiiSetAxon))"
   ]
  },
  {
   "cell_type": "markdown",
   "metadata": {},
   "source": [
    "## Dendrite - First Measurment"
   ]
  },
  {
   "cell_type": "code",
   "execution_count": null,
   "metadata": {
    "collapsed": false
   },
   "outputs": [],
   "source": [
    "scatterPlot(map(lambda x: I.np.array(x)*0.092, radiiSetDendrite))"
   ]
  },
  {
   "cell_type": "markdown",
   "metadata": {},
   "source": [
    "## Dendrite - Post Measurment"
   ]
  },
  {
   "cell_type": "code",
   "execution_count": null,
   "metadata": {
    "collapsed": false
   },
   "outputs": [],
   "source": [
    "scatterPlot(map(lambda x: I.np.array(x)*0.092, postRadiiSetDendrite))"
   ]
  },
  {
   "cell_type": "markdown",
   "metadata": {},
   "source": [
    "## scatterplot of bright (>100) structure"
   ]
  },
  {
   "cell_type": "code",
   "execution_count": null,
   "metadata": {
    "collapsed": true
   },
   "outputs": [],
   "source": [
    "pdf = I.pd.DataFrame(radiiSet).T*0.092"
   ]
  },
  {
   "cell_type": "code",
   "execution_count": null,
   "metadata": {
    "collapsed": true
   },
   "outputs": [],
   "source": [
    "pdf['intensity'] = intensity_at_point"
   ]
  },
  {
   "cell_type": "code",
   "execution_count": null,
   "metadata": {
    "collapsed": true
   },
   "outputs": [],
   "source": [
    "selected_pdf = pdf[pdf.intensity > 45]"
   ]
  },
  {
   "cell_type": "code",
   "execution_count": null,
   "metadata": {
    "collapsed": true
   },
   "outputs": [],
   "source": [
    "radiiSet_selected = map(lambda columnname: list(selected_pdf[columnname]), [0,1,2])"
   ]
  },
  {
   "cell_type": "code",
   "execution_count": null,
   "metadata": {
    "collapsed": false
   },
   "outputs": [],
   "source": [
    "scatterPlot(radiiSet_selected)"
   ]
  },
  {
   "cell_type": "markdown",
   "metadata": {},
   "source": [
    "# Errors, PDF"
   ]
  },
  {
   "cell_type": "markdown",
   "metadata": {},
   "source": [
    "## Full struc. Ppdf and Pdf"
   ]
  },
  {
   "cell_type": "code",
   "execution_count": null,
   "metadata": {
    "collapsed": true
   },
   "outputs": [],
   "source": [
    "ppdf['intensity'] = intensity_at_modified_points"
   ]
  },
  {
   "cell_type": "code",
   "execution_count": null,
   "metadata": {
    "collapsed": false
   },
   "outputs": [],
   "source": [
    "def error_vs_success_rate(ppdf):\n",
    "    ppdf['error'] = ppdf[0] - ppdf[2]\n",
    "    _ = I.plt.hist(ppdf.error, bins = I.np.arange(0, 8, .01), cumulative = True, normed = True)\n",
    "    I.sns.despine()\n",
    "    I.plt.xlabel('error / micron')\n",
    "    I.plt.ylabel('frac. successful radius estimates')"
   ]
  },
  {
   "cell_type": "code",
   "execution_count": null,
   "metadata": {
    "collapsed": false
   },
   "outputs": [],
   "source": [
    "error_vs_success_rate(ppdf)\n",
    "error_vs_success_rate(pdf)\n",
    "I.plt.axvline(1, c = 'k')\n",
    "I.plt.figure(figsize=(8,8))"
   ]
  },
  {
   "cell_type": "code",
   "execution_count": null,
   "metadata": {
    "collapsed": false
   },
   "outputs": [],
   "source": [
    "I.plt.plot(ppdf.intensity, ppdf.error, 'o')\n",
    "I.plt.xlabel('brightness')\n",
    "I.plt.ylabel('error / micron')\n",
    "I.sns.despine()"
   ]
  },
  {
   "cell_type": "code",
   "execution_count": null,
   "metadata": {
    "collapsed": false
   },
   "outputs": [],
   "source": [
    "pdf[1].plot(kind='hist')"
   ]
  },
  {
   "cell_type": "code",
   "execution_count": null,
   "metadata": {
    "collapsed": false
   },
   "outputs": [],
   "source": [
    "ppdf.error.plot(kind = 'hist')"
   ]
  },
  {
   "cell_type": "code",
   "execution_count": null,
   "metadata": {
    "collapsed": false
   },
   "outputs": [],
   "source": [
    "ppdf_selected = ppdf[ppdf.intensity > 0]\n",
    "I.plt.hist(ppdf_selected[0]-ppdf_selected[2])"
   ]
  },
  {
   "cell_type": "code",
   "execution_count": null,
   "metadata": {
    "collapsed": false
   },
   "outputs": [],
   "source": [
    "bins = I.np.arange(0,10,.1)\n",
    "out = []\n",
    "for intensity_cutoff in range(0,200,1):\n",
    "    pdf_selected = pdf[pdf.intensity > intensity_cutoff]\n",
    "    out.append(I.np.histogram(pdf_selected[0]-pdf_selected[2], bins = bins, normed = True)[0])"
   ]
  },
  {
   "cell_type": "code",
   "execution_count": null,
   "metadata": {
    "collapsed": true
   },
   "outputs": [],
   "source": [
    "error_pdf = I.pd.DataFrame(out, index = range(0,200,1), columns = bins[:-1])\n",
    "error_pdf.index.name = 'intensity_cutoff'\n",
    "error_pdf = error_pdf.T\n",
    "error_pdf.index.name = 'error / micron'\n",
    "error_pdf = error_pdf.iloc[::-1]\n"
   ]
  },
  {
   "cell_type": "code",
   "execution_count": null,
   "metadata": {
    "collapsed": true
   },
   "outputs": [],
   "source": [
    "%matplotlib inline"
   ]
  },
  {
   "cell_type": "code",
   "execution_count": null,
   "metadata": {
    "collapsed": false
   },
   "outputs": [],
   "source": [
    "postRadiiSet"
   ]
  },
  {
   "cell_type": "code",
   "execution_count": null,
   "metadata": {
    "collapsed": false
   },
   "outputs": [],
   "source": [
    "len(radiiSet[0])"
   ]
  },
  {
   "cell_type": "code",
   "execution_count": null,
   "metadata": {
    "collapsed": false
   },
   "outputs": [],
   "source": [
    "I.sns.heatmap(error_pdf, vmax=.1)"
   ]
  },
  {
   "cell_type": "code",
   "execution_count": null,
   "metadata": {
    "collapsed": false
   },
   "outputs": [],
   "source": [
    "I.sns.heatmap(error_pdf, vmax=.1)"
   ]
  },
  {
   "cell_type": "code",
   "execution_count": null,
   "metadata": {
    "collapsed": true
   },
   "outputs": [],
   "source": [
    "bins = I.np.arange(0,10,.1)\n",
    "out = {}\n",
    "for intensity_cutoff in range(0,200,1):\n",
    "    pdf_selected = pdf[pdf.intensity > intensity_cutoff]\n",
    "    out[intensity_cutoff] = len(pdf_selected) / float(len(pdf))"
   ]
  },
  {
   "cell_type": "code",
   "execution_count": null,
   "metadata": {
    "collapsed": false
   },
   "outputs": [],
   "source": [
    "I.pd.Series(out).plot()"
   ]
  },
  {
   "cell_type": "code",
   "execution_count": null,
   "metadata": {
    "collapsed": false
   },
   "outputs": [],
   "source": [
    "out[50]"
   ]
  },
  {
   "cell_type": "markdown",
   "metadata": {},
   "source": [
    "# For Amira Visualization"
   ]
  },
  {
   "cell_type": "code",
   "execution_count": null,
   "metadata": {
    "collapsed": false
   },
   "outputs": [],
   "source": [
    "radi.spacialGraph.write_spacial_graph_with_thickness(inputAmData_s13, outputAmData025_s13, radiiSet[0])\n",
    "radi.spacialGraph.write_spacial_graph_with_thickness(inputAmData_s13, outputAmData05_s13, postRadiiSet[1])\n",
    "radi.spacialGraph.write_spacial_graph_with_thickness(inputAmData_s13, outputAmData075_s13, radiiSet[2])"
   ]
  },
  {
   "cell_type": "code",
   "execution_count": null,
   "metadata": {
    "collapsed": true
   },
   "outputs": [],
   "source": []
  }
 ],
 "metadata": {
  "anaconda-cloud": {},
  "kernelspec": {
   "display_name": "Python [default]",
   "language": "python",
   "name": "python2"
  },
  "language_info": {
   "codemirror_mode": {
    "name": "ipython",
    "version": 2
   },
   "file_extension": ".py",
   "mimetype": "text/x-python",
   "name": "python",
   "nbconvert_exporter": "python",
   "pygments_lexer": "ipython2",
   "version": "2.7.12"
  },
  "toc": {
   "base_numbering": 1,
   "nav_menu": {},
   "number_sections": true,
   "sideBar": true,
   "skip_h1_title": false,
   "title_cell": "Table of Contents",
   "title_sidebar": "Contents",
   "toc_cell": false,
   "toc_position": {
    "height": "calc(100% - 180px)",
    "left": "10px",
    "top": "150px",
    "width": "290px"
   },
   "toc_section_display": true,
   "toc_window_display": true
  }
 },
 "nbformat": 4,
 "nbformat_minor": 2
}
