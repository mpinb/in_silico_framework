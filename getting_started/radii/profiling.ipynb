{
 "cells": [
  {
   "cell_type": "markdown",
   "metadata": {
    "cell_style": "center"
   },
   "source": [
    "# Init"
   ]
  },
  {
   "cell_type": "markdown",
   "metadata": {},
   "source": [
    "## load modules"
   ]
  },
  {
   "cell_type": "code",
   "execution_count": 256,
   "metadata": {
    "collapsed": false
   },
   "outputs": [],
   "source": [
    "import os\n",
    "import sys\n",
    "\n",
    "    \n",
    "import ipywidgets as widgets\n",
    "from ipywidgets import interact, interact_manual\n",
    "from PIL import Image, ImageDraw\n",
    "\n",
    "import radii as radi\n",
    "import transformTools as tr\n",
    "import numpy as np\n",
    "import SimpleITK as sitk\n",
    "import matplotlib\n",
    "#matplotlib.use('TkAgg')\n",
    "import plotly \n",
    "import matplotlib.pyplot as plt\n",
    "import matplotlib.image as mpimg\n",
    "import Interface as I\n",
    "from getting_started import getting_started_dir\n",
    "\n",
    "#%matplotlib inline"
   ]
  },
  {
   "cell_type": "markdown",
   "metadata": {},
   "source": [
    "## draw_line()"
   ]
  },
  {
   "cell_type": "code",
   "execution_count": 249,
   "metadata": {
    "collapsed": false
   },
   "outputs": [],
   "source": [
    "def draw_line_from_point_to_point(draw, p1, p2):\n",
    "    draw.line((p1[0], p1[1], p2[0], p2[1]),fill=(255,101,80,40), width=2)\n",
    "\n",
    "def drawLine(image, rays):\n",
    "    \n",
    "    im = Image.open(image).convert(\"RGBA\")\n",
    "    draw = ImageDraw.Draw(im) \n",
    " \n",
    "    #draw.line((backCounterPoint[0], backCounterPoint[1], frontCounterPoint[0], frontCounterPoint[1]), fill=200, width=5)\n",
    "    for rayIndex, ray in enumerate(rays):\n",
    "        p1 = np.array(ray[0])\n",
    "        p2 = np.array(ray[-1])\n",
    "        if (ray[0]==[] or ray[-1]==[]):\n",
    "            continue\n",
    "        v = p2-p1\n",
    "        center = v/2.0\n",
    "        p11 = p1+1.0*v\n",
    "        p12 = p1+1.0*v\n",
    "        \n",
    "        draw.text((0,0),\"lines next to the numbers are showing front rays\",fill=(255,255,255,128))\n",
    "        draw.text((ray[-1][0], ray[-1][1]),str(rayIndex),fill=(255,255,255,128))\n",
    "        #draw.line((ray[0][0], ray[0][1], ray[-1][0], ray[-1][1]),fill=(255,101,80,1), width=2)\n",
    "        draw_line_from_point_to_point(draw, p1, p11)\n",
    "        draw_line_from_point_to_point(draw, p12, p2)\n",
    "        #draw.line((center[0], ray[0][1], ray[-1][0], ray[-1][1]),fill=(255,101,80,1), width=2)\n",
    "        #draw.line((ray[0][0], ray[0][1], ray[-1][0], ray[-1][1]),fill=(255,101,80,1), width=2)\n",
    "    im.show()\n",
    "\n",
    "    #im.save(sys.stdout, \"PNG\")\n",
    "    "
   ]
  },
  {
   "cell_type": "markdown",
   "metadata": {},
   "source": [
    "## plotCircularProfiles()"
   ]
  },
  {
   "cell_type": "code",
   "execution_count": 231,
   "metadata": {
    "collapsed": true
   },
   "outputs": [],
   "source": [
    "def plotCircularProfiles(raysProfileList, selectedProfileIndex):\n",
    "    \n",
    "\n",
    " #   t1 = np.arange(0.0, 5.0, 0.1)\n",
    "    length = len(raysProfileList)\n",
    "    #plt.figure(1)\n",
    "    plt.figure(figsize=(10,18))\n",
    "    \n",
    "    for rayIndex, ray in enumerate(raysProfileList[0:length]):\n",
    "        l = len(ray)*0.092\n",
    "        x = np.arange(-l/2.0, l/2.0, 0.092)\n",
    "        plt.subplot(len(raysProfileList),1, rayIndex+1)\n",
    "        \n",
    "        #plt.subplot(len(raysProfileList),1, rayIndex+1, frameon=False)\n",
    "        #plt.axis('off')  \n",
    "        plt.plot(x,ray,label=str(rayIndex), c = 'r' if rayIndex == selectedProfileIndex else 'k')\n",
    "        assert(len(ray) % 2 == 1)\n",
    "        id_mid_point = int((len(ray)-1)/2)\n",
    "        plt.plot(0, ray[id_mid_point], \"o\")\n",
    "        plt.legend()\n",
    "        plt.tight_layout()\n",
    "    plt.show() \n"
   ]
  },
  {
   "cell_type": "markdown",
   "metadata": {},
   "source": [
    "## plotRayBurstLines()"
   ]
  },
  {
   "cell_type": "code",
   "execution_count": 225,
   "metadata": {
    "collapsed": true
   },
   "outputs": [],
   "source": [
    "def plotRayBurstLines(raysProfileList, selectedProfileIndex):\n",
    "    \n",
    "\n",
    " #   t1 = np.arange(0.0, 5.0, 0.1)\n",
    "    length = len(raysProfileList)\n",
    "    #plt.figure(1)\n",
    "    plt.figure(figsize=(10,18))\n",
    "    \n",
    "    for rayIndex, ray in enumerate(raysProfileList[0:length]):\n",
    "        l = len(ray)*0.092\n",
    "        x = np.arange(-l/2.0, l/2.0, 0.092)\n",
    "        plt.subplot(len(raysProfileList),1, rayIndex+1)\n",
    "        \n",
    "        #plt.subplot(len(raysProfileList),1, rayIndex+1, frameon=False)\n",
    "        #plt.axis('off')  \n",
    "        plt.plot(x,ray,label=str(rayIndex), c = 'r' if rayIndex == selectedProfileIndex else 'k')\n",
    "        assert(len(ray) % 2 == 1)\n",
    "        id_mid_point = int((len(ray)-1)/2)\n",
    "        plt.plot(0, ray[id_mid_point], \"o\")\n",
    "        plt.legend()\n",
    "        plt.tight_layout()\n",
    "    plt.show() \n"
   ]
  },
  {
   "cell_type": "markdown",
   "metadata": {},
   "source": [
    "## statistics()"
   ]
  },
  {
   "cell_type": "code",
   "execution_count": 134,
   "metadata": {
    "collapsed": false
   },
   "outputs": [],
   "source": [
    "def statistics(pos, inputImage, inputTifImage):\n",
    "    rays, raysProfiles = radiusCalculator.getProfileAtThisPoint(inputImage, pos)\n",
    "    \n",
    "    selectedBackProfile, selectedFrontProfile, radiusList,\\\n",
    "    minRadius, BackCountorPoint, frontCounterPoint,\\\n",
    "    counterList,raysProfiles_1, rays, selectedProfileIndex = radiusCalculator.getRadiusFromProfile(inputImage, pos)\n",
    "    \n",
    "    drawLine(inputTifImage, rays)\n",
    "    drawLine(inputTifImage, counterList)\n",
    "    print 'minRadius: ', minRadius \n",
    "    plotCircularProfiles(raysProfiles, selectedProfileIndex)"
   ]
  },
  {
   "cell_type": "markdown",
   "metadata": {},
   "source": [
    "## collectRadii()"
   ]
  },
  {
   "cell_type": "code",
   "execution_count": 5,
   "metadata": {
    "collapsed": false
   },
   "outputs": [],
   "source": [
    "def collectRadii(points, cutOffValues, numberOfRays, inputImage, postMeasurment='no' ): \n",
    "    radiiSet = []\n",
    "    for cutOff in cutOffValues:\n",
    "       \n",
    "        radiusCalculator = radi.calcRad.RadiusCalculator(xyResolution=0.092,\n",
    "                                                 zResolution=0.5,\n",
    "                                                 xySize=20,\n",
    "                                                 numberOfRays=numberOfRays,\n",
    "                                                 tresholdPercentage=cutOff)\n",
    "        radii = radiusCalculator.getProfileOfThesePoints(inputImage, points, postMeasurment)\n",
    "         \n",
    "        radiiSet.append(radii)\n",
    "        del radiusCalculator\n",
    "    return radiiSet\n"
   ]
  },
  {
   "cell_type": "markdown",
   "metadata": {},
   "source": [
    "## scatterPlot()"
   ]
  },
  {
   "cell_type": "code",
   "execution_count": 6,
   "metadata": {
    "collapsed": true
   },
   "outputs": [],
   "source": [
    "def scatterPlot(radiiData, style = 'scatter'):\n",
    "\n",
    "    g1 = radiiData[0]\n",
    "    g2 = radiiData[1]\n",
    "    g3 = radiiData[2]\n",
    "    \n",
    "    gLen = len(g1)\n",
    "    area = 30\n",
    "    \n",
    "    data = (g1, g2, g3)\n",
    "    colors = (\"red\", \"green\", \"blue\")\n",
    "    groups = (\"0.25\", \"0.5\", \"0.75\")\n",
    "     \n",
    "   \n",
    "    fig = plt.figure()\n",
    "    ax = fig.add_subplot(1, 1, 1, axisbg=\"1.0\")\n",
    " \n",
    "    for data, color, group in zip(data, colors, groups):\n",
    "        x = np.arange(0, gLen, 1)\n",
    "        y = data\n",
    "        if style == 'scatter':\n",
    "            ax.scatter(x, y, alpha=0.5, c=color, edgecolors='none', s=area, label=group)\n",
    "        elif style == 'line':\n",
    "            ax.plot(x, y, c=color, label=group)\n",
    "\n",
    "\n",
    "    plt.title('radius scatter plot')\n",
    "    plt.legend(loc=2)\n",
    "    plt.savefig('scatter.png', bbox_inches='tight')\n",
    "    plt.show()"
   ]
  },
  {
   "cell_type": "code",
   "execution_count": 7,
   "metadata": {
    "collapsed": true
   },
   "outputs": [],
   "source": [
    "def get_modified_points(points, inputImage):\n",
    "    radiusCalculator = radi.calcRad.RadiusCalculator(xyResolution=0.092,\n",
    "                                                 zResolution=0.5,\n",
    "                                                 xySize=20,\n",
    "                                                 numberOfRays=20,\n",
    "                                                 tresholdPercentage=0.5)\n",
    "\n",
    "    radiusCalculator.debug_postMeasurementPoints = []\n",
    "    radiusCalculator.getProfileOfThesePoints(inputImage, points, 'yes')\n",
    "    return radiusCalculator.debug_postMeasurementPoints"
   ]
  },
  {
   "cell_type": "markdown",
   "metadata": {},
   "source": [
    "## optional: switches on clicking mode"
   ]
  },
  {
   "cell_type": "code",
   "execution_count": 203,
   "metadata": {
    "collapsed": false
   },
   "outputs": [],
   "source": [
    "\n",
    "imgArray = sitk.GetArrayViewFromImage(inputImage)\n",
    "\n",
    "f,imgplot=plt.subplots()\n",
    "imgplot = plt.imshow(imgArray);\n",
    "\n",
    "pos = []\n",
    "def onclick(event):\n",
    "    pos = []\n",
    "    pos.append([event.xdata,event.ydata])\n",
    "    statistics(pos[0])\n",
    "\n",
    "f.canvas.mpl_connect('button_press_event', onclick)\n",
    "f.show()"
   ]
  },
  {
   "cell_type": "markdown",
   "metadata": {},
   "source": [
    "# Load Data"
   ]
  },
  {
   "cell_type": "markdown",
   "metadata": {},
   "source": [
    "## Setup ModelDataBase"
   ]
  },
  {
   "cell_type": "code",
   "execution_count": 8,
   "metadata": {
    "collapsed": true
   },
   "outputs": [],
   "source": [
    "mdb = I.ModelDataBase('/nas1/Data_anajafgholi/results/20190410_profiling')"
   ]
  },
  {
   "cell_type": "markdown",
   "metadata": {
    "heading_collapsed": true
   },
   "source": [
    "## Full structure"
   ]
  },
  {
   "cell_type": "code",
   "execution_count": null,
   "metadata": {
    "collapsed": true,
    "hidden": true
   },
   "outputs": [],
   "source": [
    "inputTifImage_s13 = I.os.path.join(getting_started_dir, 'radii/data/neuron1/tif/max_z_projections','S13_max_z_projection.tif')\n",
    "inputAmData_s13 = I.os.path.join(getting_started_dir, 'radii/data/neuron1/am','S13_final_done_Alison_zScale_40.am')\n",
    "outputAmData025_s13 = I.os.path.join(getting_started_dir, 'radii/data/neuron1/am_output','S13_withRadius025.am')\n",
    "outputAmData05_s13 = I.os.path.join(getting_started_dir, 'radii/data/neuron1/am_output','S13_withRadius05.am')\n",
    "outputAmData075_s13 = I.os.path.join(getting_started_dir, 'radii/data/neuron1/am_output','S13_withRadius075.am')"
   ]
  },
  {
   "cell_type": "code",
   "execution_count": null,
   "metadata": {
    "collapsed": true,
    "hidden": true
   },
   "outputs": [],
   "source": [
    "imageFileReader = sitk.ImageFileReader()\n",
    "imageFileReader.SetFileName(inputTifImage_s13)\n",
    "inputImage_s13 = imageFileReader.Execute()"
   ]
  },
  {
   "cell_type": "markdown",
   "metadata": {
    "heading_collapsed": true
   },
   "source": [
    "## Axon only"
   ]
  },
  {
   "cell_type": "code",
   "execution_count": null,
   "metadata": {
    "collapsed": true,
    "hidden": true
   },
   "outputs": [],
   "source": [
    "inputTifImageAxon_s13 = I.os.path.join(getting_started_dir, 'radii/data/neuron1/tif/max_z_projections','S13_max_z_projection.tif')\n",
    "inputAmDataAxon_s13 = I.os.path.join(getting_started_dir, 'radii/data/neuron1/am_analysis','S13_final_done_Alison_zScale_40_axon.am')"
   ]
  },
  {
   "cell_type": "code",
   "execution_count": null,
   "metadata": {
    "collapsed": true,
    "hidden": true
   },
   "outputs": [],
   "source": [
    "imageFileAxonReader = sitk.ImageFileReader()\n",
    "imageFileAxonReader.SetFileName(inputTifImageAxon_s13)\n",
    "inputImageAxon_s13 = imageFileAxonReader.Execute()"
   ]
  },
  {
   "cell_type": "markdown",
   "metadata": {},
   "source": [
    "## Dendrite only"
   ]
  },
  {
   "cell_type": "code",
   "execution_count": null,
   "metadata": {
    "collapsed": true
   },
   "outputs": [],
   "source": [
    "inputTifImageDendrite_s13 = I.os.path.join(getting_started_dir, 'radii/data/neuron1/tif/max_z_projections','S13_max_z_projection.tif')\n",
    "inputAmDataDendrite_s13 = I.os.path.join(getting_started_dir, 'radii/data/neuron1/am_analysis','S13_final_done_Alison_zScale_40_dendrite.am')"
   ]
  },
  {
   "cell_type": "code",
   "execution_count": null,
   "metadata": {
    "collapsed": true
   },
   "outputs": [],
   "source": [
    "imageFileDendriteReader = sitk.ImageFileReader()\n",
    "imageFileDendriteReader.SetFileName(inputTifImageDendrite_s13)\n",
    "inputImageDendrite_s13 = imageFileDendriteReader.Execute()"
   ]
  },
  {
   "cell_type": "markdown",
   "metadata": {},
   "source": [
    "## Apical S24"
   ]
  },
  {
   "cell_type": "code",
   "execution_count": 9,
   "metadata": {
    "collapsed": true
   },
   "outputs": [],
   "source": [
    "inputTifImage_S24 = I.os.path.join(getting_started_dir, 'radii/data/neuron1/tif/max_z_projections','S24_max_z_projection.tif')\n",
    "inputAmData_S24 = I.os.path.join(getting_started_dir, 'radii/data/neuron1/am/','S24_final_done_Alison_zScale_40.am')"
   ]
  },
  {
   "cell_type": "code",
   "execution_count": 10,
   "metadata": {
    "collapsed": false
   },
   "outputs": [],
   "source": [
    "imageFileReader_S24 = sitk.ImageFileReader()\n",
    "imageFileReader_S24.SetFileName(inputTifImage_S24)\n",
    "inputImage_S24 = imageFileReader_S24.Execute()"
   ]
  },
  {
   "cell_type": "markdown",
   "metadata": {},
   "source": [
    "# Get spatial points"
   ]
  },
  {
   "cell_type": "markdown",
   "metadata": {},
   "source": [
    "## Full structure - Spatial Points"
   ]
  },
  {
   "cell_type": "code",
   "execution_count": null,
   "metadata": {
    "collapsed": true
   },
   "outputs": [],
   "source": [
    "points = radi.spacialGraph.getSpatialGraphPoints(inputAmData_s13)\n",
    "points = mdb.maybe_calculate('points', lambda: map(lambda x: map(lambda y: int(y/0.092), x), points))\n",
    "radiiSet = mdb.maybe_calculate('radiiSet', lambda: collectRadii(points, [0.25, 0.5, 0.75], 10))"
   ]
  },
  {
   "cell_type": "code",
   "execution_count": null,
   "metadata": {
    "collapsed": true
   },
   "outputs": [],
   "source": [
    "modified_points = get_modified_points(points)"
   ]
  },
  {
   "cell_type": "code",
   "execution_count": null,
   "metadata": {
    "collapsed": true
   },
   "outputs": [],
   "source": [
    "intensity_at_point = [inputImage_s13.GetPixel(point) for point in points]"
   ]
  },
  {
   "cell_type": "code",
   "execution_count": null,
   "metadata": {
    "collapsed": true
   },
   "outputs": [],
   "source": [
    "intensity_at_modified_points = [inputImage_s13.GetPixel(point) for point in modified_points]"
   ]
  },
  {
   "cell_type": "markdown",
   "metadata": {
    "heading_collapsed": true
   },
   "source": [
    "## Axon - Spatial Points"
   ]
  },
  {
   "cell_type": "code",
   "execution_count": null,
   "metadata": {
    "collapsed": true,
    "hidden": true
   },
   "outputs": [],
   "source": [
    "points_axon = radi.spacialGraph.getSpatialGraphPoints(inputAmDataAxon_s13)\n",
    "points_axon = mdb.maybe_calculate('points_axon', lambda: map(lambda x: map(lambda y: int(y/0.092), x), points_axon))\n",
    "radiiSetAxon = mdb.maybe_calculate('radiiSet_axon', lambda: collectRadii(points_axon, [0.25, 0.5, 0.75], 10))"
   ]
  },
  {
   "cell_type": "code",
   "execution_count": null,
   "metadata": {
    "collapsed": true,
    "hidden": true
   },
   "outputs": [],
   "source": [
    "intensity_at_point_axon = [inputImageAxon_s13.GetPixel(point) for point in points_axon]"
   ]
  },
  {
   "cell_type": "code",
   "execution_count": null,
   "metadata": {
    "collapsed": true,
    "hidden": true
   },
   "outputs": [],
   "source": [
    "modified_axonPoints = get_modified_points(points_axon)"
   ]
  },
  {
   "cell_type": "code",
   "execution_count": null,
   "metadata": {
    "collapsed": true,
    "hidden": true
   },
   "outputs": [],
   "source": [
    "intensity_at_modified_axon_points = [inputImageAxon_s13.GetPixel(point) for point in modified_axonPoints]"
   ]
  },
  {
   "cell_type": "markdown",
   "metadata": {
    "heading_collapsed": true
   },
   "source": [
    "## Dendrite - Spatial Points"
   ]
  },
  {
   "cell_type": "code",
   "execution_count": null,
   "metadata": {
    "collapsed": true,
    "hidden": true
   },
   "outputs": [],
   "source": [
    "points_dendrite = radi.spacialGraph.getSpatialGraphPoints(inputAmDataDendrite_s13)\n",
    "points_dendrite = mdb.maybe_calculate('points_dendrite', lambda: map(lambda x: map(lambda y: int(y/0.092), x), points_dendrite))\n",
    "radiiSetDendrite = mdb.maybe_calculate('radiiSet_dendrite', lambda: collectRadii(points_dendrite, [0.25, 0.5, 0.75], 10))"
   ]
  },
  {
   "cell_type": "code",
   "execution_count": null,
   "metadata": {
    "collapsed": true,
    "hidden": true
   },
   "outputs": [],
   "source": [
    "intensity_at_point_dendrite = [inputImageAxon_s13.GetPixel(point) for point in points_dendrite]"
   ]
  },
  {
   "cell_type": "code",
   "execution_count": null,
   "metadata": {
    "collapsed": true,
    "hidden": true
   },
   "outputs": [],
   "source": [
    "modified_dendritePoints = get_modified_points(points_dendrite)"
   ]
  },
  {
   "cell_type": "code",
   "execution_count": null,
   "metadata": {
    "collapsed": true,
    "hidden": true
   },
   "outputs": [],
   "source": [
    "intensity_at_modified_dendrite_points = [inputImageAxon_s13.GetPixel(point) for point in modified_dendritePoints]"
   ]
  },
  {
   "cell_type": "markdown",
   "metadata": {},
   "source": [
    "## Apical S24 Spatial Points"
   ]
  },
  {
   "cell_type": "code",
   "execution_count": 115,
   "metadata": {
    "collapsed": false
   },
   "outputs": [],
   "source": [
    "points_S24 = radi.spacialGraph.getSpatialGraphPoints(inputAmData_S24)\n",
    "points_S24 = mdb.maybe_calculate('points_S24', lambda: map(lambda x: map(lambda y: int(y/0.092), x), points_S24))\n",
    "radiiSet_S24 = mdb.maybe_calculate('radiiSet_S24', lambda: collectRadii(points_S24, [0.25, 0.5, 0.75], 10, inputImage_S24, postMeasurment=\"yes\") )"
   ]
  },
  {
   "cell_type": "code",
   "execution_count": 92,
   "metadata": {
    "collapsed": false
   },
   "outputs": [],
   "source": [
    "intensity_at_point_S24 = [inputImage_S24.GetPixel(point) for point in points_S24]"
   ]
  },
  {
   "cell_type": "code",
   "execution_count": 93,
   "metadata": {
    "collapsed": false
   },
   "outputs": [],
   "source": [
    "modified_Points_S24 = get_modified_points(points_S24, inputImage_S24)"
   ]
  },
  {
   "cell_type": "code",
   "execution_count": 94,
   "metadata": {
    "collapsed": false
   },
   "outputs": [],
   "source": [
    "intensity_at_modified_points_S24 = [inputImage_S24.GetPixel(point) for point in modified_Points_S24]"
   ]
  },
  {
   "cell_type": "markdown",
   "metadata": {},
   "source": [
    "# Extract radii"
   ]
  },
  {
   "cell_type": "markdown",
   "metadata": {},
   "source": [
    "## Full structure"
   ]
  },
  {
   "cell_type": "markdown",
   "metadata": {},
   "source": [
    "### Full structure - first measurment"
   ]
  },
  {
   "cell_type": "code",
   "execution_count": null,
   "metadata": {
    "collapsed": true
   },
   "outputs": [],
   "source": [
    "#temp = collectRadii(points, [0.25, 0.5, 0.75], 10, 'no')"
   ]
  },
  {
   "cell_type": "code",
   "execution_count": null,
   "metadata": {
    "collapsed": true
   },
   "outputs": [],
   "source": [
    "#mdb['radiiSet'] = temp"
   ]
  },
  {
   "cell_type": "code",
   "execution_count": null,
   "metadata": {
    "collapsed": true
   },
   "outputs": [],
   "source": [
    "radiiSet = mdb.maybe_calculate('radiiSet', lambda: collectRadii(points, [0.25, 0.5, 0.75], 10, 'no'))"
   ]
  },
  {
   "cell_type": "markdown",
   "metadata": {},
   "source": [
    "### Full structue - post Measurment"
   ]
  },
  {
   "cell_type": "code",
   "execution_count": null,
   "metadata": {
    "collapsed": true
   },
   "outputs": [],
   "source": [
    "##temp_post = collectRadii(points, [0.25, 0.5, 0.75], 10, 'yes')"
   ]
  },
  {
   "cell_type": "code",
   "execution_count": null,
   "metadata": {
    "collapsed": true
   },
   "outputs": [],
   "source": [
    "##mdb['postRadiiSet'] = temp_post"
   ]
  },
  {
   "cell_type": "code",
   "execution_count": null,
   "metadata": {
    "collapsed": true
   },
   "outputs": [],
   "source": [
    "postRadiiSet = mdb.maybe_calculate('postRadiiSet', lambda: collectRadii(points, [0.25, 0.5, 0.75], 10, 'yes'))"
   ]
  },
  {
   "cell_type": "code",
   "execution_count": null,
   "metadata": {
    "collapsed": true
   },
   "outputs": [],
   "source": [
    "radiusCalculator = radi.calcRad.RadiusCalculator(xyResolution=0.092,\n",
    "                                                 zResolution=0.5,\n",
    "                                                 xySize=20,\n",
    "                                                 numberOfRays=20,\n",
    "                                                 tresholdPercentage=0.5)\n",
    "\n",
    "radiusCalculator.debug_postMeasurementPoints = []"
   ]
  },
  {
   "cell_type": "markdown",
   "metadata": {},
   "source": [
    "## Axon Only"
   ]
  },
  {
   "cell_type": "markdown",
   "metadata": {},
   "source": [
    "### Axon only - first measurment"
   ]
  },
  {
   "cell_type": "code",
   "execution_count": null,
   "metadata": {
    "collapsed": true
   },
   "outputs": [],
   "source": [
    "#temp_axon = collectRadii(points_axon, [0.25, 0.5, 0.75], 10, 'no')"
   ]
  },
  {
   "cell_type": "code",
   "execution_count": null,
   "metadata": {
    "collapsed": true
   },
   "outputs": [],
   "source": [
    "#mdb['radiiSetAxon'] = temp_axon"
   ]
  },
  {
   "cell_type": "code",
   "execution_count": null,
   "metadata": {
    "collapsed": true
   },
   "outputs": [],
   "source": [
    "postRadiiSetAxon = mdb.maybe_calculate('radiiSetAxon', lambda: collectRadii(points_axon, [0.25, 0.5, 0.75], 10, 'no'))"
   ]
  },
  {
   "cell_type": "markdown",
   "metadata": {},
   "source": [
    "### Axon only - post measurment"
   ]
  },
  {
   "cell_type": "code",
   "execution_count": null,
   "metadata": {
    "collapsed": true,
    "scrolled": true
   },
   "outputs": [],
   "source": [
    "#tempPost_axon = collectRadii(points_axon, [0.25, 0.5, 0.75], 10, 'yes')"
   ]
  },
  {
   "cell_type": "code",
   "execution_count": null,
   "metadata": {
    "collapsed": true
   },
   "outputs": [],
   "source": [
    "#mdb['postRadiiSetAxon'] = tempPost_axon"
   ]
  },
  {
   "cell_type": "code",
   "execution_count": null,
   "metadata": {
    "collapsed": true
   },
   "outputs": [],
   "source": [
    "postRadiiSetAxon = mdb.maybe_calculate('postRadiiSetAxon', lambda: collectRadii(points_axon, [0.25, 0.5, 0.75], 10, 'yes'))"
   ]
  },
  {
   "cell_type": "markdown",
   "metadata": {
    "heading_collapsed": true
   },
   "source": [
    "## Dendrite only"
   ]
  },
  {
   "cell_type": "markdown",
   "metadata": {
    "heading_collapsed": true,
    "hidden": true
   },
   "source": [
    "### Dendrite only - first measurment"
   ]
  },
  {
   "cell_type": "code",
   "execution_count": null,
   "metadata": {
    "collapsed": true,
    "hidden": true
   },
   "outputs": [],
   "source": [
    "#temp_dendrite = collectRadii(points_dendrite, [0.25, 0.5, 0.75], 10, 'no')"
   ]
  },
  {
   "cell_type": "code",
   "execution_count": null,
   "metadata": {
    "collapsed": true,
    "hidden": true
   },
   "outputs": [],
   "source": [
    "#mdb['radiiSetDendrite'] = temp_dendrite"
   ]
  },
  {
   "cell_type": "code",
   "execution_count": null,
   "metadata": {
    "collapsed": true,
    "hidden": true
   },
   "outputs": [],
   "source": [
    "radiiSetDendrite = mdb.maybe_calculate('radiiSetDendrite', lambda: collectRadii(points_dendrite, [0.25, 0.5, 0.75], 10, 'no'))"
   ]
  },
  {
   "cell_type": "markdown",
   "metadata": {
    "heading_collapsed": true,
    "hidden": true
   },
   "source": [
    "### Dendrite only - post measurment"
   ]
  },
  {
   "cell_type": "code",
   "execution_count": null,
   "metadata": {
    "collapsed": true,
    "hidden": true
   },
   "outputs": [],
   "source": [
    "#tempPost_dendrite = collectRadii(points_dendrite, [0.25, 0.5, 0.75], 10, 'yes')"
   ]
  },
  {
   "cell_type": "code",
   "execution_count": null,
   "metadata": {
    "collapsed": true,
    "hidden": true
   },
   "outputs": [],
   "source": [
    "#mdb['postRadiiSetDendrite'] = tempPost_dendrite"
   ]
  },
  {
   "cell_type": "code",
   "execution_count": null,
   "metadata": {
    "collapsed": true,
    "hidden": true
   },
   "outputs": [],
   "source": [
    "postRadiiSetDendrite = mdb.maybe_calculate('postRadiiSetDendrite', lambda: collectRadii(points_dendrite, [0.25, 0.5, 0.75], 10, 'yes'))"
   ]
  },
  {
   "cell_type": "markdown",
   "metadata": {},
   "source": [
    "## Apical S24"
   ]
  },
  {
   "cell_type": "code",
   "execution_count": 117,
   "metadata": {
    "collapsed": false
   },
   "outputs": [],
   "source": [
    "RadiiSet_S24 = mdb.maybe_calculate('RadiiSet_S24', lambda: collectRadii(points_S24, [0.25, 0.5, 0.75], 10, inputImage_S24,'no'))"
   ]
  },
  {
   "cell_type": "code",
   "execution_count": 118,
   "metadata": {
    "collapsed": true
   },
   "outputs": [],
   "source": [
    "postRadiiSet_S24 = mdb.maybe_calculate('postRadiiSet_S24', lambda: collectRadii(points_S24, [0.25, 0.5, 0.75], 10, inputImage_S24,'yes'))"
   ]
  },
  {
   "cell_type": "markdown",
   "metadata": {},
   "source": [
    "# Analysis"
   ]
  },
  {
   "cell_type": "markdown",
   "metadata": {},
   "source": [
    "## Create radiusCalculator Object"
   ]
  },
  {
   "cell_type": "code",
   "execution_count": 254,
   "metadata": {
    "collapsed": true
   },
   "outputs": [],
   "source": [
    "radiusCalculator = radi.calcRad.RadiusCalculator(xyResolution=0.092,\n",
    "                                         zResolution=0.5,\n",
    "                                         xySize=20,\n",
    "                                         numberOfRays=10,\n",
    "                                         tresholdPercentage=0.50)"
   ]
  },
  {
   "cell_type": "markdown",
   "metadata": {},
   "source": [
    "### Put any new morphology to the postRadiiSet array"
   ]
  },
  {
   "cell_type": "code",
   "execution_count": 233,
   "metadata": {
    "collapsed": true
   },
   "outputs": [],
   "source": [
    "radiiSet = RadiiSet_S24\n",
    "postRadiiSet = postRadiiSet_S24\n",
    "inputImage = inputImage_S24\n",
    "inputTifImage = inputTifImage_S24\n",
    "intensity_at_modified_points = intensity_at_modified_points_S24\n",
    "modified_Points = modified_Points_S24\n",
    "intensity_at_point = intensity_at_point_S24"
   ]
  },
  {
   "cell_type": "markdown",
   "metadata": {},
   "source": [
    "## Get points with special intensities"
   ]
  },
  {
   "cell_type": "code",
   "execution_count": 194,
   "metadata": {
    "collapsed": false
   },
   "outputs": [
    {
     "data": {
      "text/plain": [
       "[]"
      ]
     },
     "execution_count": 194,
     "metadata": {},
     "output_type": "execute_result"
    }
   ],
   "source": [
    "[points[idx] for idx, p in enumerate(postRadiiSet[0]) if p == 100]"
   ]
  },
  {
   "cell_type": "markdown",
   "metadata": {},
   "source": [
    "## Debugging: how does a single point get updated?"
   ]
  },
  {
   "cell_type": "code",
   "execution_count": 234,
   "metadata": {
    "collapsed": false
   },
   "outputs": [],
   "source": [
    "point_original = [3142, 3160] # [195, 560, 0] # [2740, 568, 227]\n",
    "_, _, _, _, _, _, _, raysProfileList, rays, _ = radiusCalculator.getRadiusFromProfile(inputImage, point_original, postMeasurment='no')"
   ]
  },
  {
   "cell_type": "code",
   "execution_count": 235,
   "metadata": {
    "collapsed": true
   },
   "outputs": [],
   "source": [
    "point_original = [3142, 3160, 0]"
   ]
  },
  {
   "cell_type": "code",
   "execution_count": 236,
   "metadata": {
    "collapsed": true
   },
   "outputs": [],
   "source": [
    "point_modified = radiusCalculator.postMeasurmentFunction(inputImage, rays, raysProfileList)\n",
    "_, _, _, radius, _, _, _, _, _, _ = radiusCalculator.getRadiusFromProfile(inputImage, point_modified, postMeasurment='no')"
   ]
  },
  {
   "cell_type": "code",
   "execution_count": 237,
   "metadata": {
    "collapsed": false
   },
   "outputs": [],
   "source": [
    "intensity_at_point = [inputImage.GetPixel(point) for point in points_S24]"
   ]
  },
  {
   "cell_type": "code",
   "execution_count": 216,
   "metadata": {
    "collapsed": false
   },
   "outputs": [
    {
     "data": {
      "text/plain": [
       "5.3367930445165292"
      ]
     },
     "execution_count": 216,
     "metadata": {},
     "output_type": "execute_result"
    }
   ],
   "source": [
    "radius*0.092"
   ]
  },
  {
   "cell_type": "code",
   "execution_count": 250,
   "metadata": {
    "collapsed": false
   },
   "outputs": [
    {
     "name": "stdout",
     "output_type": "stream",
     "text": [
      "[3142, 3160, 0]\n",
      "[3122, 3160]\n"
     ]
    }
   ],
   "source": [
    "print point_original\n",
    "print point_modified"
   ]
  },
  {
   "cell_type": "code",
   "execution_count": 255,
   "metadata": {
    "collapsed": false,
    "scrolled": true
   },
   "outputs": [
    {
     "name": "stdout",
     "output_type": "stream",
     "text": [
      "minRadius:  46.1735855225\n"
     ]
    },
    {
     "data": {
      "image/png": "[encoded data removed]",
      "text/plain": [
       "<matplotlib.figure.Figure at 0x7f86dee10990>"
      ]
     },
     "metadata": {},
     "output_type": "display_data"
    }
   ],
   "source": [
    "statistics(point_original, inputImage_S24, inputTifImage)"
   ]
  },
  {
   "cell_type": "code",
   "execution_count": 240,
   "metadata": {
    "collapsed": false
   },
   "outputs": [
    {
     "name": "stdout",
     "output_type": "stream",
     "text": [
      "> \u001b[0;32m<ipython-input-230-94e89c90a752>\u001b[0m(15)\u001b[0;36mdrawLine\u001b[0;34m()\u001b[0m\n",
      "\u001b[0;32m     13 \u001b[0;31m        \u001b[0;32mif\u001b[0m \u001b[0;34m(\u001b[0m\u001b[0mp1\u001b[0m \u001b[0;34m==\u001b[0m \u001b[0;34m[\u001b[0m\u001b[0;34m]\u001b[0m \u001b[0;32mor\u001b[0m \u001b[0mp2\u001b[0m \u001b[0;34m==\u001b[0m \u001b[0;34m[\u001b[0m\u001b[0;34m]\u001b[0m\u001b[0;34m)\u001b[0m\u001b[0;34m:\u001b[0m\u001b[0;34m\u001b[0m\u001b[0m\n",
      "\u001b[0m\u001b[0;32m     14 \u001b[0;31m            \u001b[0;32mcontinue\u001b[0m\u001b[0;34m\u001b[0m\u001b[0m\n",
      "\u001b[0m\u001b[0;32m---> 15 \u001b[0;31m        \u001b[0mv\u001b[0m \u001b[0;34m=\u001b[0m \u001b[0mp2\u001b[0m\u001b[0;34m-\u001b[0m\u001b[0mp1\u001b[0m\u001b[0;34m\u001b[0m\u001b[0m\n",
      "\u001b[0m\u001b[0;32m     16 \u001b[0;31m        \u001b[0mcenter\u001b[0m \u001b[0;34m=\u001b[0m \u001b[0mv\u001b[0m\u001b[0;34m/\u001b[0m\u001b[0;36m2.0\u001b[0m\u001b[0;34m\u001b[0m\u001b[0m\n",
      "\u001b[0m\u001b[0;32m     17 \u001b[0;31m        \u001b[0mp11\u001b[0m \u001b[0;34m=\u001b[0m \u001b[0mp1\u001b[0m\u001b[0;34m+\u001b[0m\u001b[0;36m1.0\u001b[0m\u001b[0;34m*\u001b[0m\u001b[0mv\u001b[0m\u001b[0;34m\u001b[0m\u001b[0m\n",
      "\u001b[0m\n",
      "ipdb> rays\n",
      "[[[3101, 3160], [3189, 3160]], [[3114, 3169], [3174, 3150]], [[3116, 3179], [3172, 3138]], [[3124, 3185], [3161, 3133]], [[3133, 3189], [3161, 3100]], [[3142, 3185], []], [[3149, 3182], []], [[3153, 3176], [3094, 3093]], [[3163, 3175], [3101, 3131]], [[3169, 3168], [3102, 3147]]]\n",
      "\n",
      "KeyboardInterrupt\n"
     ]
    }
   ],
   "source": [
    "%debug"
   ]
  },
  {
   "cell_type": "code",
   "execution_count": 219,
   "metadata": {
    "collapsed": false
   },
   "outputs": [
    {
     "ename": "ValueError",
     "evalue": "operands could not be broadcast together with shapes (0,) (2,) ",
     "output_type": "error",
     "traceback": [
      "\u001b[0;31m---------------------------------------------------------------------------\u001b[0m",
      "\u001b[0;31mValueError\u001b[0m                                Traceback (most recent call last)",
      "\u001b[0;32m<ipython-input-219-b1468819ce51>\u001b[0m in \u001b[0;36m<module>\u001b[0;34m()\u001b[0m\n\u001b[0;32m----> 1\u001b[0;31m \u001b[0mstatistics\u001b[0m\u001b[0;34m(\u001b[0m\u001b[0mpoint_modified\u001b[0m\u001b[0;34m,\u001b[0m \u001b[0minputImage\u001b[0m\u001b[0;34m,\u001b[0m \u001b[0minputTifImage\u001b[0m\u001b[0;34m)\u001b[0m\u001b[0;34m\u001b[0m\u001b[0m\n\u001b[0m",
      "\u001b[0;32m<ipython-input-134-1c18a0531175>\u001b[0m in \u001b[0;36mstatistics\u001b[0;34m(pos, inputImage, inputTifImage)\u001b[0m\n\u001b[1;32m      5\u001b[0m \u001b[0;34m\u001b[0m\u001b[0m\n\u001b[1;32m      6\u001b[0m     \u001b[0mdrawLine\u001b[0m\u001b[0;34m(\u001b[0m\u001b[0minputTifImage\u001b[0m\u001b[0;34m,\u001b[0m \u001b[0mrays\u001b[0m\u001b[0;34m)\u001b[0m\u001b[0;34m\u001b[0m\u001b[0m\n\u001b[0;32m----> 7\u001b[0;31m     \u001b[0mdrawLine\u001b[0m\u001b[0;34m(\u001b[0m\u001b[0minputTifImage\u001b[0m\u001b[0;34m,\u001b[0m \u001b[0mcounterList\u001b[0m\u001b[0;34m)\u001b[0m\u001b[0;34m\u001b[0m\u001b[0m\n\u001b[0m\u001b[1;32m      8\u001b[0m     \u001b[0;32mprint\u001b[0m \u001b[0;34m'minRadius: '\u001b[0m\u001b[0;34m,\u001b[0m \u001b[0mminRadius\u001b[0m\u001b[0;34m\u001b[0m\u001b[0m\n\u001b[1;32m      9\u001b[0m     \u001b[0mplotCircularProfiles\u001b[0m\u001b[0;34m(\u001b[0m\u001b[0mraysProfiles\u001b[0m\u001b[0;34m,\u001b[0m \u001b[0mselectedProfileIndex\u001b[0m\u001b[0;34m)\u001b[0m\u001b[0;34m\u001b[0m\u001b[0m\n",
      "\u001b[0;32m<ipython-input-186-c197db1cd2c4>\u001b[0m in \u001b[0;36mdrawLine\u001b[0;34m(image, rays)\u001b[0m\n\u001b[1;32m     11\u001b[0m         \u001b[0mp1\u001b[0m \u001b[0;34m=\u001b[0m \u001b[0mnp\u001b[0m\u001b[0;34m.\u001b[0m\u001b[0marray\u001b[0m\u001b[0;34m(\u001b[0m\u001b[0mray\u001b[0m\u001b[0;34m[\u001b[0m\u001b[0;36m0\u001b[0m\u001b[0;34m]\u001b[0m\u001b[0;34m)\u001b[0m\u001b[0;34m\u001b[0m\u001b[0m\n\u001b[1;32m     12\u001b[0m         \u001b[0mp2\u001b[0m \u001b[0;34m=\u001b[0m \u001b[0mnp\u001b[0m\u001b[0;34m.\u001b[0m\u001b[0marray\u001b[0m\u001b[0;34m(\u001b[0m\u001b[0mray\u001b[0m\u001b[0;34m[\u001b[0m\u001b[0;34m-\u001b[0m\u001b[0;36m1\u001b[0m\u001b[0;34m]\u001b[0m\u001b[0;34m)\u001b[0m\u001b[0;34m\u001b[0m\u001b[0m\n\u001b[0;32m---> 13\u001b[0;31m         \u001b[0mv\u001b[0m \u001b[0;34m=\u001b[0m \u001b[0mp2\u001b[0m\u001b[0;34m-\u001b[0m\u001b[0mp1\u001b[0m\u001b[0;34m\u001b[0m\u001b[0m\n\u001b[0m\u001b[1;32m     14\u001b[0m         \u001b[0mcenter\u001b[0m \u001b[0;34m=\u001b[0m \u001b[0mv\u001b[0m\u001b[0;34m/\u001b[0m\u001b[0;36m2.0\u001b[0m\u001b[0;34m\u001b[0m\u001b[0m\n\u001b[1;32m     15\u001b[0m         \u001b[0mp11\u001b[0m \u001b[0;34m=\u001b[0m \u001b[0mp1\u001b[0m\u001b[0;34m+\u001b[0m\u001b[0;36m1.0\u001b[0m\u001b[0;34m*\u001b[0m\u001b[0mv\u001b[0m\u001b[0;34m\u001b[0m\u001b[0m\n",
      "\u001b[0;31mValueError\u001b[0m: operands could not be broadcast together with shapes (0,) (2,) "
     ]
    }
   ],
   "source": [
    "statistics(point_modified, inputImage, inputTifImage)"
   ]
  },
  {
   "cell_type": "code",
   "execution_count": 156,
   "metadata": {
    "collapsed": false
   },
   "outputs": [],
   "source": [
    "pdf = I.pd.DataFrame(radiiSet).T*0.092"
   ]
  },
  {
   "cell_type": "code",
   "execution_count": 157,
   "metadata": {
    "collapsed": true
   },
   "outputs": [],
   "source": [
    "ppdf = I.pd.DataFrame(postRadiiSet).T*0.092"
   ]
  },
  {
   "cell_type": "markdown",
   "metadata": {
    "heading_collapsed": true
   },
   "source": [
    "## Dark point on axon, sligthly beside structure"
   ]
  },
  {
   "cell_type": "code",
   "execution_count": null,
   "metadata": {
    "collapsed": true,
    "hidden": true
   },
   "outputs": [],
   "source": [
    "radiusCalculator.tresholdPercentage = 0.8"
   ]
  },
  {
   "cell_type": "code",
   "execution_count": null,
   "metadata": {
    "collapsed": false,
    "hidden": true
   },
   "outputs": [],
   "source": [
    "statistics([2740, 568, 227])"
   ]
  },
  {
   "cell_type": "code",
   "execution_count": null,
   "metadata": {
    "collapsed": false,
    "hidden": true
   },
   "outputs": [],
   "source": [
    "statistics(point)"
   ]
  },
  {
   "cell_type": "markdown",
   "metadata": {},
   "source": [
    "# Intensity Distribution Structure vs. Background"
   ]
  },
  {
   "cell_type": "code",
   "execution_count": 158,
   "metadata": {
    "collapsed": true
   },
   "outputs": [],
   "source": [
    "def get_random_point(image, n):\n",
    "    dim = image.GetSize()\n",
    "    intensities = []\n",
    "    for n in range(n):\n",
    "        point = [I.np.random.randint(0, dim[0]), I.np.random.randint(0, dim[1])]\n",
    "        intensities.append(image.GetPixel(point))\n",
    "    return intensities"
   ]
  },
  {
   "cell_type": "markdown",
   "metadata": {},
   "source": [
    "## Full structure - First Measurment"
   ]
  },
  {
   "cell_type": "code",
   "execution_count": 133,
   "metadata": {
    "collapsed": false
   },
   "outputs": [],
   "source": [
    "I.plt.figure(figsize = (8,4), dpi = 200)\n",
    "bins = I.np.arange(0,255)\n",
    "_ = I.plt.hist(intensity_at_point, bins = bins, label = 'Full-First Meas.', color = 'r')\n",
    "_ = I.plt.hist(get_random_point(inputImage, 1000), bins = bins, label = 'background', color = 'k', alpha = .5)\n",
    "I.plt.legend()\n",
    "I.plt.axvline(40)\n",
    "I.sns.despine()\n"
   ]
  },
  {
   "cell_type": "markdown",
   "metadata": {
    "heading_collapsed": true
   },
   "source": [
    "## Full structure - Post Measurment"
   ]
  },
  {
   "cell_type": "code",
   "execution_count": 58,
   "metadata": {
    "collapsed": false,
    "hidden": true
   },
   "outputs": [],
   "source": [
    "I.plt.figure(figsize = (8,4), dpi = 200)\n",
    "bins = I.np.arange(0,255)\n",
    "_ = I.plt.hist(intensity_at_modified_points, bins = bins, label = 'Full-Post Meas.', color = 'r')\n",
    "_ = I.plt.hist(get_random_point(inputImage, 1000), bins = bins, label = 'background', color = 'k', alpha = .5)\n",
    "I.plt.legend()\n",
    "I.plt.axvline(40)\n",
    "I.sns.despine()\n"
   ]
  },
  {
   "cell_type": "markdown",
   "metadata": {
    "heading_collapsed": true
   },
   "source": [
    "## Axon vs. Background - First Measurment"
   ]
  },
  {
   "cell_type": "code",
   "execution_count": 59,
   "metadata": {
    "collapsed": false,
    "hidden": true
   },
   "outputs": [
    {
     "ename": "NameError",
     "evalue": "name 'intensity_at_point_axon' is not defined",
     "output_type": "error",
     "traceback": [
      "\u001b[0;31m---------------------------------------------------------------------------\u001b[0m",
      "\u001b[0;31mNameError\u001b[0m                                 Traceback (most recent call last)",
      "\u001b[0;32m<ipython-input-59-806827d49507>\u001b[0m in \u001b[0;36m<module>\u001b[0;34m()\u001b[0m\n\u001b[1;32m      1\u001b[0m \u001b[0mI\u001b[0m\u001b[0;34m.\u001b[0m\u001b[0mplt\u001b[0m\u001b[0;34m.\u001b[0m\u001b[0mfigure\u001b[0m\u001b[0;34m(\u001b[0m\u001b[0mfigsize\u001b[0m \u001b[0;34m=\u001b[0m \u001b[0;34m(\u001b[0m\u001b[0;36m8\u001b[0m\u001b[0;34m,\u001b[0m\u001b[0;36m4\u001b[0m\u001b[0;34m)\u001b[0m\u001b[0;34m,\u001b[0m \u001b[0mdpi\u001b[0m \u001b[0;34m=\u001b[0m \u001b[0;36m200\u001b[0m\u001b[0;34m)\u001b[0m\u001b[0;34m\u001b[0m\u001b[0m\n\u001b[1;32m      2\u001b[0m \u001b[0mbins\u001b[0m \u001b[0;34m=\u001b[0m \u001b[0mI\u001b[0m\u001b[0;34m.\u001b[0m\u001b[0mnp\u001b[0m\u001b[0;34m.\u001b[0m\u001b[0marange\u001b[0m\u001b[0;34m(\u001b[0m\u001b[0;36m0\u001b[0m\u001b[0;34m,\u001b[0m\u001b[0;36m255\u001b[0m\u001b[0;34m)\u001b[0m\u001b[0;34m\u001b[0m\u001b[0m\n\u001b[0;32m----> 3\u001b[0;31m \u001b[0m_\u001b[0m \u001b[0;34m=\u001b[0m \u001b[0mI\u001b[0m\u001b[0;34m.\u001b[0m\u001b[0mplt\u001b[0m\u001b[0;34m.\u001b[0m\u001b[0mhist\u001b[0m\u001b[0;34m(\u001b[0m\u001b[0mintensity_at_point_axon\u001b[0m\u001b[0;34m,\u001b[0m \u001b[0mbins\u001b[0m \u001b[0;34m=\u001b[0m \u001b[0mbins\u001b[0m\u001b[0;34m,\u001b[0m \u001b[0mlabel\u001b[0m \u001b[0;34m=\u001b[0m \u001b[0;34m'Axon-First Meas.'\u001b[0m\u001b[0;34m,\u001b[0m \u001b[0mcolor\u001b[0m \u001b[0;34m=\u001b[0m \u001b[0;34m'r'\u001b[0m\u001b[0;34m)\u001b[0m\u001b[0;34m\u001b[0m\u001b[0m\n\u001b[0m\u001b[1;32m      4\u001b[0m \u001b[0m_\u001b[0m \u001b[0;34m=\u001b[0m \u001b[0mI\u001b[0m\u001b[0;34m.\u001b[0m\u001b[0mplt\u001b[0m\u001b[0;34m.\u001b[0m\u001b[0mhist\u001b[0m\u001b[0;34m(\u001b[0m\u001b[0mget_random_point\u001b[0m\u001b[0;34m(\u001b[0m\u001b[0minputImage_s13\u001b[0m\u001b[0;34m,\u001b[0m \u001b[0;36m1000\u001b[0m\u001b[0;34m)\u001b[0m\u001b[0;34m,\u001b[0m \u001b[0mbins\u001b[0m \u001b[0;34m=\u001b[0m \u001b[0mbins\u001b[0m\u001b[0;34m,\u001b[0m \u001b[0mlabel\u001b[0m \u001b[0;34m=\u001b[0m \u001b[0;34m'background'\u001b[0m\u001b[0;34m,\u001b[0m \u001b[0mcolor\u001b[0m \u001b[0;34m=\u001b[0m \u001b[0;34m'k'\u001b[0m\u001b[0;34m,\u001b[0m \u001b[0malpha\u001b[0m \u001b[0;34m=\u001b[0m \u001b[0;36m.5\u001b[0m\u001b[0;34m)\u001b[0m\u001b[0;34m\u001b[0m\u001b[0m\n\u001b[1;32m      5\u001b[0m \u001b[0mI\u001b[0m\u001b[0;34m.\u001b[0m\u001b[0mplt\u001b[0m\u001b[0;34m.\u001b[0m\u001b[0mlegend\u001b[0m\u001b[0;34m(\u001b[0m\u001b[0;34m)\u001b[0m\u001b[0;34m\u001b[0m\u001b[0m\n",
      "\u001b[0;31mNameError\u001b[0m: name 'intensity_at_point_axon' is not defined"
     ]
    }
   ],
   "source": [
    "I.plt.figure(figsize = (8,4), dpi = 200)\n",
    "bins = I.np.arange(0,255)\n",
    "_ = I.plt.hist(intensity_at_point_axon, bins = bins, label = 'Axon-First Meas.', color = 'r')\n",
    "_ = I.plt.hist(get_random_point(inputImage_s13, 1000), bins = bins, label = 'background', color = 'k', alpha = .5)\n",
    "I.plt.legend()\n",
    "I.plt.axvline(40)\n",
    "I.sns.despine()\n"
   ]
  },
  {
   "cell_type": "markdown",
   "metadata": {
    "heading_collapsed": true
   },
   "source": [
    "## Axon vs. Background - Post Measurment"
   ]
  },
  {
   "cell_type": "code",
   "execution_count": null,
   "metadata": {
    "collapsed": true,
    "hidden": true
   },
   "outputs": [],
   "source": [
    "I.plt.figure(figsize = (8,4), dpi = 200)\n",
    "bins = I.np.arange(0,255)\n",
    "_ = I.plt.hist(intensity_at_modified_axon_points, bins = bins, label = 'Axon-Post Meas.', color = 'r')\n",
    "_ = I.plt.hist(get_random_point(inputImage_s13, 1000), bins = bins, label = 'background', color = 'k', alpha = .5)\n",
    "I.plt.legend()\n",
    "I.plt.axvline(40)\n",
    "I.sns.despine()\n"
   ]
  },
  {
   "cell_type": "markdown",
   "metadata": {
    "heading_collapsed": true
   },
   "source": [
    "## Dendrite vs. Background - First Measurment"
   ]
  },
  {
   "cell_type": "code",
   "execution_count": null,
   "metadata": {
    "collapsed": true,
    "hidden": true
   },
   "outputs": [],
   "source": [
    "I.plt.figure(figsize = (8,4), dpi = 200)\n",
    "bins = I.np.arange(0,255)\n",
    "_ = I.plt.hist(intensity_at_point_dendrite, bins = bins, label = 'Dendrite-First Meas.', color = 'r')\n",
    "_ = I.plt.hist(get_random_point(inputImage_s13, 1000), bins = bins, label = 'background', color = 'k', alpha = .5)\n",
    "I.plt.legend()\n",
    "I.plt.axvline(40)\n",
    "I.sns.despine()\n"
   ]
  },
  {
   "cell_type": "markdown",
   "metadata": {
    "heading_collapsed": true
   },
   "source": [
    "## Dendrite vs. Background - Post measurment"
   ]
  },
  {
   "cell_type": "code",
   "execution_count": null,
   "metadata": {
    "collapsed": true,
    "hidden": true
   },
   "outputs": [],
   "source": [
    "I.plt.figure(figsize = (8,4), dpi = 200)\n",
    "bins = I.np.arange(0,255)\n",
    "_ = I.plt.hist(intensity_at_modified_dendrite_points, bins = bins, label = 'Dendrite-Post Meas.', color = 'r')\n",
    "_ = I.plt.hist(get_random_point(inputImage_s13, 1000), bins = bins, label = 'background', color = 'k', alpha = .5)\n",
    "I.plt.legend()\n",
    "I.plt.axvline(40)\n",
    "I.sns.despine()\n"
   ]
  },
  {
   "cell_type": "markdown",
   "metadata": {},
   "source": [
    "## Apical vs. Background - Post measurment"
   ]
  },
  {
   "cell_type": "code",
   "execution_count": 88,
   "metadata": {
    "collapsed": true
   },
   "outputs": [],
   "source": [
    "I.plt.figure(figsize = (8,4), dpi = 200)\n",
    "bins = I.np.arange(0,255)\n",
    "_ = I.plt.hist(intensity_at_modified_points, bins = bins, label = 'Full-Post Meas.', color = 'r')\n",
    "_ = I.plt.hist(get_random_point(inputImage, 1000), bins = bins, label = 'background', color = 'k', alpha = .5)\n",
    "I.plt.legend()\n",
    "I.plt.axvline(40)\n",
    "I.sns.despine()\n"
   ]
  },
  {
   "cell_type": "markdown",
   "metadata": {},
   "source": [
    "# ScatterPlot"
   ]
  },
  {
   "cell_type": "markdown",
   "metadata": {},
   "source": [
    "## Full Structure - First Measurment"
   ]
  },
  {
   "cell_type": "code",
   "execution_count": null,
   "metadata": {
    "collapsed": false
   },
   "outputs": [],
   "source": [
    "scatterPlot(map(lambda x: I.np.array(x)*0.092, radiiSet))"
   ]
  },
  {
   "cell_type": "markdown",
   "metadata": {
    "heading_collapsed": true
   },
   "source": [
    "## Full Structure - Post Measurment"
   ]
  },
  {
   "cell_type": "code",
   "execution_count": null,
   "metadata": {
    "collapsed": false,
    "hidden": true
   },
   "outputs": [],
   "source": [
    "scatterPlot(map(lambda x: I.np.array(x)*0.092, postRadiiSet))"
   ]
  },
  {
   "cell_type": "markdown",
   "metadata": {
    "heading_collapsed": true
   },
   "source": [
    "## Axon - First Measurment"
   ]
  },
  {
   "cell_type": "code",
   "execution_count": null,
   "metadata": {
    "collapsed": false,
    "hidden": true
   },
   "outputs": [],
   "source": [
    "scatterPlot(map(lambda x: I.np.array(x)*0.092, radiiSetAxon))"
   ]
  },
  {
   "cell_type": "markdown",
   "metadata": {
    "heading_collapsed": true
   },
   "source": [
    "## Axon - Post Measurment"
   ]
  },
  {
   "cell_type": "code",
   "execution_count": null,
   "metadata": {
    "collapsed": false,
    "hidden": true
   },
   "outputs": [],
   "source": [
    "scatterPlot(map(lambda x: I.np.array(x)*0.092, postRadiiSetAxon))"
   ]
  },
  {
   "cell_type": "markdown",
   "metadata": {
    "heading_collapsed": true
   },
   "source": [
    "## Dendrite - First Measurment"
   ]
  },
  {
   "cell_type": "code",
   "execution_count": null,
   "metadata": {
    "collapsed": false,
    "hidden": true
   },
   "outputs": [],
   "source": [
    "scatterPlot(map(lambda x: I.np.array(x)*0.092, radiiSetDendrite))"
   ]
  },
  {
   "cell_type": "markdown",
   "metadata": {
    "heading_collapsed": true
   },
   "source": [
    "## Dendrite - Post Measurment"
   ]
  },
  {
   "cell_type": "code",
   "execution_count": null,
   "metadata": {
    "collapsed": false,
    "hidden": true
   },
   "outputs": [],
   "source": [
    "scatterPlot(map(lambda x: I.np.array(x)*0.092, postRadiiSetDendrite))"
   ]
  },
  {
   "cell_type": "markdown",
   "metadata": {
    "heading_collapsed": true
   },
   "source": [
    "## scatterplot of bright (>100) structure"
   ]
  },
  {
   "cell_type": "code",
   "execution_count": null,
   "metadata": {
    "collapsed": false,
    "hidden": true
   },
   "outputs": [],
   "source": [
    "pdf = I.pd.DataFrame(radiiSet).T*0.092"
   ]
  },
  {
   "cell_type": "code",
   "execution_count": null,
   "metadata": {
    "collapsed": false,
    "hidden": true
   },
   "outputs": [],
   "source": [
    "pdf['intensity'] = intensity_at_point"
   ]
  },
  {
   "cell_type": "code",
   "execution_count": null,
   "metadata": {
    "collapsed": true,
    "hidden": true
   },
   "outputs": [],
   "source": [
    "selected_pdf = pdf[pdf.intensity > 45]"
   ]
  },
  {
   "cell_type": "code",
   "execution_count": null,
   "metadata": {
    "collapsed": true,
    "hidden": true
   },
   "outputs": [],
   "source": [
    "radiiSet_selected = map(lambda columnname: list(selected_pdf[columnname]), [0,1,2])"
   ]
  },
  {
   "cell_type": "code",
   "execution_count": null,
   "metadata": {
    "collapsed": false,
    "hidden": true
   },
   "outputs": [],
   "source": [
    "scatterPlot(radiiSet_selected)"
   ]
  },
  {
   "cell_type": "markdown",
   "metadata": {},
   "source": [
    "## Scatter Plot for Apical S24"
   ]
  },
  {
   "cell_type": "code",
   "execution_count": 71,
   "metadata": {
    "collapsed": false
   },
   "outputs": [
    {
     "data": {
      "image/png": "[encoded data removed]",
      "text/plain": [
       "<matplotlib.figure.Figure at 0x7f86d6f8fe10>"
      ]
     },
     "metadata": {},
     "output_type": "display_data"
    }
   ],
   "source": [
    "scatterPlot(map(lambda x: I.np.array(x)*0.092, postRadiiSet))"
   ]
  },
  {
   "cell_type": "markdown",
   "metadata": {},
   "source": [
    "# Errors, PDF"
   ]
  },
  {
   "cell_type": "markdown",
   "metadata": {
    "heading_collapsed": true
   },
   "source": [
    "## Full struc. Ppdf and Pdf"
   ]
  },
  {
   "cell_type": "code",
   "execution_count": 76,
   "metadata": {
    "collapsed": true,
    "hidden": true
   },
   "outputs": [],
   "source": [
    "ppdf['intensity'] = intensity_at_modified_points"
   ]
  },
  {
   "cell_type": "code",
   "execution_count": 77,
   "metadata": {
    "collapsed": true,
    "hidden": true
   },
   "outputs": [],
   "source": [
    "def error_vs_success_rate(ppdf):\n",
    "    ppdf['error'] = ppdf[0] - ppdf[2]\n",
    "    _ = I.plt.hist(ppdf.error, bins = I.np.arange(0, 8, .01), cumulative = True, normed = True)\n",
    "    I.sns.despine()\n",
    "    I.plt.xlabel('error / micron')\n",
    "    I.plt.ylabel('frac. successful radius estimates')"
   ]
  },
  {
   "cell_type": "code",
   "execution_count": 78,
   "metadata": {
    "collapsed": false,
    "hidden": true
   },
   "outputs": [
    {
     "ename": "NameError",
     "evalue": "name 'pdf' is not defined",
     "output_type": "error",
     "traceback": [
      "\u001b[0;31m---------------------------------------------------------------------------\u001b[0m",
      "\u001b[0;31mNameError\u001b[0m                                 Traceback (most recent call last)",
      "\u001b[0;32m<ipython-input-78-066857c3a68d>\u001b[0m in \u001b[0;36m<module>\u001b[0;34m()\u001b[0m\n\u001b[1;32m      1\u001b[0m \u001b[0merror_vs_success_rate\u001b[0m\u001b[0;34m(\u001b[0m\u001b[0mppdf\u001b[0m\u001b[0;34m)\u001b[0m\u001b[0;34m\u001b[0m\u001b[0m\n\u001b[0;32m----> 2\u001b[0;31m \u001b[0merror_vs_success_rate\u001b[0m\u001b[0;34m(\u001b[0m\u001b[0mpdf\u001b[0m\u001b[0;34m)\u001b[0m\u001b[0;34m\u001b[0m\u001b[0m\n\u001b[0m\u001b[1;32m      3\u001b[0m \u001b[0mI\u001b[0m\u001b[0;34m.\u001b[0m\u001b[0mplt\u001b[0m\u001b[0;34m.\u001b[0m\u001b[0maxvline\u001b[0m\u001b[0;34m(\u001b[0m\u001b[0;36m1\u001b[0m\u001b[0;34m,\u001b[0m \u001b[0mc\u001b[0m \u001b[0;34m=\u001b[0m \u001b[0;34m'k'\u001b[0m\u001b[0;34m)\u001b[0m\u001b[0;34m\u001b[0m\u001b[0m\n\u001b[1;32m      4\u001b[0m \u001b[0mI\u001b[0m\u001b[0;34m.\u001b[0m\u001b[0mplt\u001b[0m\u001b[0;34m.\u001b[0m\u001b[0mfigure\u001b[0m\u001b[0;34m(\u001b[0m\u001b[0mfigsize\u001b[0m\u001b[0;34m=\u001b[0m\u001b[0;34m(\u001b[0m\u001b[0;36m8\u001b[0m\u001b[0;34m,\u001b[0m\u001b[0;36m8\u001b[0m\u001b[0;34m)\u001b[0m\u001b[0;34m)\u001b[0m\u001b[0;34m\u001b[0m\u001b[0m\n",
      "\u001b[0;31mNameError\u001b[0m: name 'pdf' is not defined"
     ]
    }
   ],
   "source": [
    "error_vs_success_rate(ppdf)\n",
    "error_vs_success_rate(pdf)\n",
    "I.plt.axvline(1, c = 'k')\n",
    "I.plt.figure(figsize=(8,8))"
   ]
  },
  {
   "cell_type": "code",
   "execution_count": null,
   "metadata": {
    "collapsed": true,
    "hidden": true
   },
   "outputs": [],
   "source": [
    "I.plt.plot(ppdf.intensity, ppdf.error, 'o')\n",
    "I.plt.xlabel('brightness')\n",
    "I.plt.ylabel('error / micron')\n",
    "I.sns.despine()"
   ]
  },
  {
   "cell_type": "code",
   "execution_count": null,
   "metadata": {
    "collapsed": false,
    "hidden": true
   },
   "outputs": [],
   "source": [
    "pdf[1].plot(kind='hist')"
   ]
  },
  {
   "cell_type": "code",
   "execution_count": null,
   "metadata": {
    "collapsed": false,
    "hidden": true
   },
   "outputs": [],
   "source": [
    "ppdf.error.plot(kind = 'hist')"
   ]
  },
  {
   "cell_type": "code",
   "execution_count": null,
   "metadata": {
    "collapsed": false,
    "hidden": true
   },
   "outputs": [],
   "source": [
    "ppdf_selected = ppdf[ppdf.intensity > 0]\n",
    "I.plt.hist(ppdf_selected[0]-ppdf_selected[2])"
   ]
  },
  {
   "cell_type": "code",
   "execution_count": null,
   "metadata": {
    "collapsed": false,
    "hidden": true
   },
   "outputs": [],
   "source": [
    "bins = I.np.arange(0,10,.1)\n",
    "out = []\n",
    "for intensity_cutoff in range(0,200,1):\n",
    "    pdf_selected = pdf[pdf.intensity > intensity_cutoff]\n",
    "    out.append(I.np.histogram(pdf_selected[0]-pdf_selected[2], bins = bins, normed = True)[0])"
   ]
  },
  {
   "cell_type": "code",
   "execution_count": null,
   "metadata": {
    "collapsed": true,
    "hidden": true
   },
   "outputs": [],
   "source": [
    "error_pdf = I.pd.DataFrame(out, index = range(0,200,1), columns = bins[:-1])\n",
    "error_pdf.index.name = 'intensity_cutoff'\n",
    "error_pdf = error_pdf.T\n",
    "error_pdf.index.name = 'error / micron'\n",
    "error_pdf = error_pdf.iloc[::-1]\n"
   ]
  },
  {
   "cell_type": "code",
   "execution_count": null,
   "metadata": {
    "collapsed": true,
    "hidden": true
   },
   "outputs": [],
   "source": [
    "%matplotlib inline"
   ]
  },
  {
   "cell_type": "code",
   "execution_count": null,
   "metadata": {
    "collapsed": false,
    "hidden": true
   },
   "outputs": [],
   "source": [
    "postRadiiSet"
   ]
  },
  {
   "cell_type": "code",
   "execution_count": null,
   "metadata": {
    "collapsed": false,
    "hidden": true
   },
   "outputs": [],
   "source": [
    "len(radiiSet[0])"
   ]
  },
  {
   "cell_type": "code",
   "execution_count": null,
   "metadata": {
    "collapsed": false,
    "hidden": true
   },
   "outputs": [],
   "source": [
    "I.sns.heatmap(error_pdf, vmax=.1)"
   ]
  },
  {
   "cell_type": "code",
   "execution_count": null,
   "metadata": {
    "collapsed": false,
    "hidden": true
   },
   "outputs": [],
   "source": [
    "I.sns.heatmap(error_pdf, vmax=.1)"
   ]
  },
  {
   "cell_type": "code",
   "execution_count": null,
   "metadata": {
    "collapsed": true,
    "hidden": true
   },
   "outputs": [],
   "source": [
    "bins = I.np.arange(0,10,.1)\n",
    "out = {}\n",
    "for intensity_cutoff in range(0,200,1):\n",
    "    pdf_selected = pdf[pdf.intensity > intensity_cutoff]\n",
    "    out[intensity_cutoff] = len(pdf_selected) / float(len(pdf))"
   ]
  },
  {
   "cell_type": "code",
   "execution_count": null,
   "metadata": {
    "collapsed": false,
    "hidden": true
   },
   "outputs": [],
   "source": [
    "I.pd.Series(out).plot()"
   ]
  },
  {
   "cell_type": "code",
   "execution_count": null,
   "metadata": {
    "collapsed": false,
    "hidden": true
   },
   "outputs": [],
   "source": [
    "out[50]"
   ]
  },
  {
   "cell_type": "markdown",
   "metadata": {},
   "source": [
    "# For Amira Visualization"
   ]
  },
  {
   "cell_type": "code",
   "execution_count": null,
   "metadata": {
    "collapsed": true
   },
   "outputs": [],
   "source": [
    "radi.spacialGraph.write_spacial_graph_with_thickness(inputAmData_s13, outputAmData025_s13, radiiSet[0])\n",
    "radi.spacialGraph.write_spacial_graph_with_thickness(inputAmData_s13, outputAmData05_s13, postRadiiSet[1])\n",
    "radi.spacialGraph.write_spacial_graph_with_thickness(inputAmData_s13, outputAmData075_s13, radiiSet[2])"
   ]
  },
  {
   "cell_type": "markdown",
   "metadata": {
    "collapsed": true
   },
   "source": [
    "# Full Morphology Analysis"
   ]
  },
  {
   "cell_type": "markdown",
   "metadata": {},
   "source": [
    "## Load data"
   ]
  },
  {
   "cell_type": "code",
   "execution_count": 257,
   "metadata": {
    "collapsed": false
   },
   "outputs": [],
   "source": [
    "inputAmFolder = I.os.path.join(getting_started_dir, 'radii/data/neuron1/am/')\n",
    "outputAmFolder050 = I.os.path.join(getting_started_dir, 'radii/data/neuron1/am_output/050/')\n",
    "outputAmFolder025 = I.os.path.join(getting_started_dir, 'radii/data/neuron1/am_output/025/')\n",
    "outputAmFolder075 = I.os.path.join(getting_started_dir, 'radii/data/neuron1/am_output/075/')\n",
    "outputAmFolder050WithError = I.os.path.join(getting_started_dir, 'radii/data/neuron1/am_output/050WithError/')\n",
    "outputAmFolder050WithRadAndError = I.os.path.join(getting_started_dir, 'radii/data/neuron1/am_output/050WithRadAndError/')\n",
    "outputAmFolderError = I.os.path.join(getting_started_dir, 'radii/data/neuron1/am_output/amWithError/')\n",
    "inputTifImages = I.os.path.join(getting_started_dir, 'radii/data/neuron1/tif/max_z_projections/')"
   ]
  },
  {
   "cell_type": "markdown",
   "metadata": {},
   "source": [
    "## Full morphology with 0.5 treshold"
   ]
  },
  {
   "cell_type": "raw",
   "metadata": {
    "collapsed": false
   },
   "source": [
    "manyRadiusCalculator050=radi.exRadSets.RadiusCalculatorForManyFiles(xyResolution=0.092,\n",
    "                                                 zResolution=0.5,\n",
    "                                                 xySize=20,\n",
    "                                                 numberOfRays=10,\n",
    "                                                 tresholdPercentage=0.5)"
   ]
  },
  {
   "cell_type": "raw",
   "metadata": {
    "collapsed": false
   },
   "source": [
    "manyRadiusCalculator050.exRadSets(inputAmFolder, inputTifImages, outputAmFolder050, postMeasurment='yes')"
   ]
  },
  {
   "cell_type": "markdown",
   "metadata": {
    "heading_collapsed": true
   },
   "source": [
    "## Full morphology with 0.25 treshold"
   ]
  },
  {
   "cell_type": "raw",
   "metadata": {
    "collapsed": true,
    "hidden": true
   },
   "source": [
    "manyRadiusCalculator025=radi.exRadSets.RadiusCalculatorForManyFiles(xyResolution=0.092,\n",
    "                                                 zResolution=0.5,\n",
    "                                                 xySize=20,\n",
    "                                                 numberOfRays=10,\n",
    "                                                 tresholdPercentage=0.25)"
   ]
  },
  {
   "cell_type": "raw",
   "metadata": {
    "collapsed": false,
    "hidden": true
   },
   "source": [
    "manyRadiusCalculator025.exRadSets(inputAmFolder, inputTifImages, outputAmFolder025, postMeasurment='yes')"
   ]
  },
  {
   "cell_type": "markdown",
   "metadata": {
    "heading_collapsed": true
   },
   "source": [
    "## Full morphology with 0.75 treshold"
   ]
  },
  {
   "cell_type": "raw",
   "metadata": {
    "collapsed": true,
    "hidden": true
   },
   "source": [
    "manyRadiusCalculator075=radi.exRadSets.RadiusCalculatorForManyFiles(xyResolution=0.092,\n",
    "                                                 zResolution=0.5,\n",
    "                                                 xySize=20,\n",
    "                                                 numberOfRays=10,\n",
    "                                                 tresholdPercentage=0.75)"
   ]
  },
  {
   "cell_type": "raw",
   "metadata": {
    "collapsed": false,
    "hidden": true
   },
   "source": [
    "manyRadiusCalculator075.exRadSets(inputAmFolder, inputTifImages, outputAmFolder075, postMeasurment='yes')"
   ]
  },
  {
   "cell_type": "markdown",
   "metadata": {},
   "source": [
    "## Write Am with radius and Error bars"
   ]
  },
  {
   "cell_type": "markdown",
   "metadata": {},
   "source": [
    "### Read all am points"
   ]
  },
  {
   "cell_type": "code",
   "execution_count": null,
   "metadata": {
    "collapsed": false
   },
   "outputs": [],
   "source": [
    "amFolderWithRadius050 = outputAmFolder050\n",
    "amFolderWithRadius025 = outputAmFolder025\n",
    "amFolderWithRadius075 = outputAmFolder075"
   ]
  },
  {
   "cell_type": "markdown",
   "metadata": {},
   "source": [
    "From Here points will be a dictionary containe radius and uncertainty and etc."
   ]
  },
  {
   "cell_type": "code",
   "execution_count": null,
   "metadata": {
    "collapsed": false
   },
   "outputs": [],
   "source": [
    "allAmPointsWithRadius050, points050 = tr.read.multipleAmFiles(amFolderWithRadius050)\n",
    "allAmPointsWithRadius025, points025 = tr.read.multipleAmFiles(amFolderWithRadius025)\n",
    "allAmPointsWithRadius075, points075 = tr.read.multipleAmFiles(amFolderWithRadius075)"
   ]
  },
  {
   "cell_type": "markdown",
   "metadata": {},
   "source": [
    "### Calculate the uncertainitcy (error bars) for all points in a one array"
   ]
  },
  {
   "cell_type": "code",
   "execution_count": null,
   "metadata": {
    "collapsed": false
   },
   "outputs": [],
   "source": [
    "numberOfPoints = len(allAmPointsWithRadius050)\n",
    "uncertainties = [(allAmPointsWithRadius025[idx][3] - allAmPointsWithRadius075[idx][3]) for idx in range(numberOfPoints)]"
   ]
  },
  {
   "cell_type": "markdown",
   "metadata": {},
   "source": [
    "### Calculate the uncertainitcy (error bars) section by section and add them to the points object"
   ]
  },
  {
   "cell_type": "code",
   "execution_count": null,
   "metadata": {
    "collapsed": false
   },
   "outputs": [],
   "source": [
    "amFiles050WithUncertainty = radi.calcError.addUncertainties(points050, points025, points075)"
   ]
  },
  {
   "cell_type": "markdown",
   "metadata": {},
   "source": [
    "### Write the uncertainty to a one big final am file"
   ]
  },
  {
   "cell_type": "code",
   "execution_count": null,
   "metadata": {
    "collapsed": true
   },
   "outputs": [],
   "source": [
    "inputAmTemplateFile = outputAmFolderError + \"template.am\"\n",
    "outputAmWithRadiusAndUncertainty = outputAmFolderError + \"s_radiiAndUncertainties.am\""
   ]
  },
  {
   "cell_type": "code",
   "execution_count": null,
   "metadata": {
    "collapsed": false
   },
   "outputs": [],
   "source": [
    "tr.write.amFileWithRadiusAndUncertainty(inputAmTemplateFile, \n",
    "                                        outputAmWithRadiusAndUncertainty, \n",
    "                                        allAmPointsWithRadius050, uncertainties)"
   ]
  },
  {
   "cell_type": "markdown",
   "metadata": {},
   "source": [
    "### add the uncertainty to the mulitple am files"
   ]
  },
  {
   "cell_type": "code",
   "execution_count": null,
   "metadata": {
    "collapsed": false
   },
   "outputs": [],
   "source": [
    "tr.write.multipleAmFilesWithRadiusAndUncertainty(inputAmFolder, \n",
    "                                        outputAmFolder050WithError, \n",
    "                                        amFiles050WithUncertainty)"
   ]
  },
  {
   "cell_type": "markdown",
   "metadata": {},
   "source": [
    "### add the uncertainty and radius to the same am file and run this for all am files "
   ]
  },
  {
   "cell_type": "code",
   "execution_count": null,
   "metadata": {
    "collapsed": false
   },
   "outputs": [],
   "source": [
    "tr.write.multipleAmFilesWithRadiusAndUncertainty(inputAmFolder, \n",
    "                                        outputAmFolder050WithRadAndError, \n",
    "                                        amFiles050WithUncertainty)"
   ]
  },
  {
   "cell_type": "code",
   "execution_count": null,
   "metadata": {
    "collapsed": false
   },
   "outputs": [],
   "source": [
    "numberOfPoints"
   ]
  },
  {
   "cell_type": "code",
   "execution_count": null,
   "metadata": {
    "cell_style": "center",
    "collapsed": false
   },
   "outputs": [],
   "source": [
    "import plotly.plotly as py\n",
    "import plotly.graph_objs as go\n",
    "import pandas as pd\n",
    "import numpy as np\n",
    "\n",
    "#df = pd.read_csv('https://raw.githubusercontent.com/plotly/datasets/master/iris.csv')\n",
    "#df.head()\n",
    "\n",
    "x = pd.Series([point[0] for point in allAmPointsWithRadius050])\n",
    "y = pd.Series([point[1] for point in allAmPointsWithRadius050])\n",
    "z = pd.Series([point[2] for point in allAmPointsWithRadius050])\n",
    "\n",
    "#x = ([point[0] for point in allAmPointsWithRadius050])\n",
    "#y = ([point[1] for point in allAmPointsWithRadius050])\n",
    "#z = ([point[2] for point in allAmPointsWithRadius050])\n",
    "\n",
    "trace = go.Scatter3d(\n",
    "    x=x, y=y, z=z,\n",
    "    marker=dict(\n",
    "        size=4,\n",
    "        color=z,\n",
    "        colorscale='Viridis',\n",
    "    ),\n",
    "    line=dict(\n",
    "        color='#1f77b4',\n",
    "        width=1\n",
    "    )\n",
    ")\n",
    "\n",
    "data = [trace]\n",
    "\n",
    "layout = dict(\n",
    "    width=2000,\n",
    "    height=2000,\n",
    "    autosize=True,\n",
    "    title='Spactial Data point',\n",
    "    scene=dict(\n",
    "        xaxis=dict(\n",
    "            gridcolor='rgb(255, 255, 255)',\n",
    "            zerolinecolor='rgb(255, 255, 255)',\n",
    "            showbackground=True,\n",
    "            backgroundcolor='rgb(230, 230,230)'\n",
    "        ),\n",
    "        yaxis=dict(\n",
    "            gridcolor='rgb(255, 255, 255)',\n",
    "            zerolinecolor='rgb(255, 255, 255)',\n",
    "            showbackground=True,\n",
    "            backgroundcolor='rgb(230, 230,230)'\n",
    "        ),\n",
    "        zaxis=dict(\n",
    "            gridcolor='rgb(255, 255, 255)',\n",
    "            zerolinecolor='rgb(255, 255, 255)',\n",
    "            showbackground=True,\n",
    "            backgroundcolor='rgb(230, 230,230)'\n",
    "        ),\n",
    "        camera=dict(\n",
    "            up=dict(\n",
    "                x=0,\n",
    "                y=0,\n",
    "                z=1\n",
    "            ),\n",
    "            eye=dict(\n",
    "                x=-1.7428,\n",
    "                y=1.0707,\n",
    "                z=0.7100,\n",
    "            )\n",
    "        ),\n",
    "        aspectratio = dict( x=1, y=1, z=0.7 ),\n",
    "        aspectmode = 'manual'\n",
    "    ),\n",
    ")\n",
    "\n",
    "fig = dict(data=data, layout=layout)\n",
    "\n",
    "plotly.offline.plot(fig, filename='spatial-graphes')\n",
    "print(\"hi\")"
   ]
  },
  {
   "cell_type": "code",
   "execution_count": null,
   "metadata": {
    "collapsed": true
   },
   "outputs": [],
   "source": []
  }
 ],
 "metadata": {
  "anaconda-cloud": {},
  "kernelspec": {
   "display_name": "Python [conda root]",
   "language": "python",
   "name": "conda-root-py"
  },
  "language_info": {
   "codemirror_mode": {
    "name": "ipython",
    "version": 2
   },
   "file_extension": ".py",
   "mimetype": "text/x-python",
   "name": "python",
   "nbconvert_exporter": "python",
   "pygments_lexer": "ipython2",
   "version": "2.7.12"
  },
  "toc": {
   "base_numbering": 1,
   "nav_menu": {},
   "number_sections": true,
   "sideBar": true,
   "skip_h1_title": false,
   "title_cell": "Table of Contents",
   "title_sidebar": "Contents",
   "toc_cell": false,
   "toc_position": {
    "height": "calc(100% - 180px)",
    "left": "10px",
    "top": "150px",
    "width": "262px"
   },
   "toc_section_display": true,
   "toc_window_display": true
  }
 },
 "nbformat": 4,
 "nbformat_minor": 2
}
