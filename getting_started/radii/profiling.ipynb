{
 "cells": [
  {
   "cell_type": "code",
   "execution_count": 1,
   "metadata": {
    "collapsed": false
   },
   "outputs": [
    {
     "name": "stderr",
     "output_type": "stream",
     "text": [
      "/home/amir/Projects/in_silico_framework_env/lib/python2.7/site-packages/matplotlib/__init__.py:1405: UserWarning: \n",
      "This call to matplotlib.use() has no effect because the backend has already\n",
      "been chosen; matplotlib.use() must be called *before* pylab, matplotlib.pyplot,\n",
      "or matplotlib.backends is imported for the first time.\n",
      "\n",
      "  warnings.warn(_use_error_msg)\n"
     ]
    },
    {
     "name": "stdout",
     "output_type": "stream",
     "text": [
      "trying to connect to distributed locking server {'config': {'socket_timeout': 1, 'host': 'spock', 'port': 8885}, 'type': 'redis'}\n",
      "trying to connect to distributed locking server {'config': {'socket_timeout': 1, 'host': 'localhost', 'port': 6379}, 'type': 'redis'}\n",
      "success!\n",
      "Current version: v0.0.1+373.gac1f7d4.dirty\n",
      "Current pid: 32408\n",
      "Loading mechanisms:\n",
      "setting up local multiprocessing framework ... done\n",
      "\n",
      "\n",
      "The loaded modules with __version__ attribute are:\n",
      "IPython: 5.1.0, Interface: v0.0.1+373.gac1f7d4.dirty, SocketServer: 0.4, Tkinter: $Revision: 81008 $, _ast: 82160, _csv: 1.0, _ctypes: 1.1.0, _curses: 2.2, _struct: 0.2, argparse: 1.1, ast: 82160, blosc: 1.5.1, bluepyopt: 1.8.21, bottleneck: 1.1.0, cPickle: 1.71, cffi: 1.7.0, cgi: 2.6, chest: 0.2.3, click: 6.6, cloudpickle: 0.2.2, colorama: 0.3.7, csv: 1.0, ctypes: 1.1.0, cycler: 0.10.0, cytoolz: 0.8.0, dask: 0.18.2, dateutil: 2.5.3, deap: 1.2, decimal: 1.70, decorator: 4.0.10, distributed: 1.22.1, distutils: 2.7.12, email: 4.0.3, future: 0.16.0, ipykernel: 4.5.0, ipyparallel: 6.2.3, ipython_genutils: 0.1.0, ipywidgets: 5.2.2, jinja2: 2.10, json: 2.0.9, jupyter_client: 4.4.0, jupyter_core: 4.2.0, logging: 0.5.1.2, lz4: 0.10.1, matplotlib: 2.0.2, multiprocessing: 0.70a1, nose: 1.3.7, numexpr: 2.6.1, numpy: 1.11.1, optparse: 1.5.3, pandas: 0.19.2, parameters: 0.2.1, past: 0.16.0, pexpect: 4.0.1, pickle: $Revision: 72223 $, pickleshare: 0.7.4, platform: 1.0.7, prompt_toolkit: 1.0.3, psutil: 4.3.1, ptyprocess: 0.5.1, py: 1.4.31, pydoc: $Revision: 88564 $, pygments: 2.1.3, pyparsing: 2.2.0, pytz: 2016.6.1, re: 2.2.1, redis: 2.10.5, scipy: 0.18.1, seaborn: 0.8.0, six: 1.10.0, sklearn: 0.18.1, sortedcontainers: 2.0.4, statsmodels: 0.8.0, sumatra: 0.7.4, tables: 3.2.3.1, tblib: 1.3.2, toolz: 0.8.0, traitlets: 4.3.0, urllib: 1.17, urllib2: 2.7, xlsxwriter: 0.9.3, yaml: 3.12, zlib: 1.0, zmq: 15.4.0\n"
     ]
    },
    {
     "name": "stderr",
     "output_type": "stream",
     "text": [
      "/home/amir/Projects/in_silico_framework/Interface.py:172: UserWarning: The source folder has uncommited changes!\n",
      "  if get_versions()['dirty']: warnings.warn('The source folder has uncommited changes!')\n"
     ]
    }
   ],
   "source": [
    "import os\n",
    "import sys\n",
    "\n",
    "    \n",
    "import ipywidgets as widgets\n",
    "from ipywidgets import interact, interact_manual\n",
    "from PIL import Image, ImageDraw\n",
    "\n",
    "import radii as radi\n",
    "import SimpleITK as sitk\n",
    "import matplotlib\n",
    "matplotlib.use('TkAgg')\n",
    "import matplotlib.pyplot as plt\n",
    "import matplotlib.image as mpimg\n",
    "import Interface as I\n",
    "from getting_started import getting_started_dir\n",
    "\n",
    "\n",
    "inputTifImage_s13 = I.os.path.join(getting_started_dir, 'radii/data/neuron1/tif/max_z_projections','S13_max_z_projection_croped.tif')"
   ]
  },
  {
   "cell_type": "code",
   "execution_count": null,
   "metadata": {
    "collapsed": false
   },
   "outputs": [],
   "source": []
  },
  {
   "cell_type": "code",
   "execution_count": 2,
   "metadata": {
    "collapsed": false
   },
   "outputs": [],
   "source": [
    "imageFileReader = sitk.ImageFileReader()\n",
    "imageFileReader.SetFileName(inputTifImage_s13)\n",
    "inputImage_s13 = imageFileReader.Execute()"
   ]
  },
  {
   "cell_type": "code",
   "execution_count": 3,
   "metadata": {
    "collapsed": false
   },
   "outputs": [],
   "source": [
    "radiusCalculator = radi.calcRad.RadiusCalculator(xyResolution=0.092,\n",
    "                                                 zResolution=0.5,\n",
    "                                                 xySize=20,\n",
    "                                                 numberOfRays=10,\n",
    "                                                 tresholdPercentage=0.25)\n"
   ]
  },
  {
   "cell_type": "code",
   "execution_count": 15,
   "metadata": {
    "collapsed": false
   },
   "outputs": [],
   "source": [
    "def drawLine(image, rays):\n",
    "    \n",
    "    im = Image.open(image).convert(\"RGB\")\n",
    "    draw = ImageDraw.Draw(im) \n",
    " \n",
    "    #draw.line((backCounterPoint[0], backCounterPoint[1], frontCounterPoint[0], frontCounterPoint[1]), fill=200, width=5)\n",
    "    for rayIndex, ray in enumerate(rays):\n",
    "        draw.text((0,0),\"lines next to the numbers are showing front rays\",fill=(255,255,255,128))\n",
    "        draw.text((ray[-1][0], ray[-1][1]),str(rayIndex),fill=(255,255,255,128))\n",
    "        draw.line((ray[0][0], ray[0][1], ray[-1][0], ray[-1][1]),fill=\"#ff0000\", width=2)\n",
    "    im.show()\n",
    "\n",
    "    #im.save(sys.stdout, \"PNG\")\n",
    "    "
   ]
  },
  {
   "cell_type": "code",
   "execution_count": 21,
   "metadata": {
    "collapsed": false
   },
   "outputs": [],
   "source": [
    "def plotCircularProfiles(raysProfileList):\n",
    "    \n",
    "\n",
    " #   t1 = np.arange(0.0, 5.0, 0.1)\n",
    "    length = len(raysProfileList)\n",
    "    #plt.figure(1)\n",
    "    plt.figure(figsize=(10,18))\n",
    "    \n",
    "    for rayIndex, ray in enumerate(raysProfileList[0:length]):\n",
    "        \n",
    "        plt.subplot(len(raysProfileList),1, rayIndex+1)\n",
    "        \n",
    "        #plt.subplot(len(raysProfileList),1, rayIndex+1, frameon=False)\n",
    "        #plt.axis('off')  \n",
    "        plt.plot(ray,label=str(rayIndex))\n",
    "        plt.legend()\n",
    "        plt.tight_layout()\n",
    "    plt.show() \n"
   ]
  },
  {
   "cell_type": "code",
   "execution_count": 31,
   "metadata": {
    "collapsed": false
   },
   "outputs": [],
   "source": [
    "\n",
    "imgArray = sitk.GetArrayViewFromImage(inputImage_s13)\n",
    "\n",
    "f,imgplot=plt.subplots()\n",
    "imgplot = plt.imshow(imgArray);\n",
    "\n",
    "pos = []\n",
    "def onclick(event):\n",
    "    pos = []\n",
    "    pos.append([event.xdata,event.ydata])\n",
    "    statistics(pos[0])\n",
    "\n",
    "f.canvas.mpl_connect('button_press_event', onclick)\n",
    "f.show()"
   ]
  },
  {
   "cell_type": "code",
   "execution_count": 30,
   "metadata": {
    "collapsed": false
   },
   "outputs": [],
   "source": [
    "def statistics(pos):\n",
    "    rays, raysProfiles = radiusCalculator.getProfileAtThisPoint(inputImage_s13, pos)\n",
    "    \n",
    "    selectedBackProfile, selectedFrontProfile, radiusList,\\\n",
    "    minRadius, BackCountorPoint, frontCOunterPoint,\\\n",
    "    counterList,raysProfiles_1 = radiusCalculator.getRadiusFromProfile(inputImage_s13, pos)\n",
    "    \n",
    "    drawLine(inputTifImage_s13, rays)\n",
    "    plotCircularProfiles(raysProfiles)"
   ]
  },
  {
   "cell_type": "code",
   "execution_count": null,
   "metadata": {
    "collapsed": true
   },
   "outputs": [],
   "source": []
  },
  {
   "cell_type": "code",
   "execution_count": null,
   "metadata": {
    "collapsed": true
   },
   "outputs": [],
   "source": []
  }
 ],
 "metadata": {
  "anaconda-cloud": {},
  "kernelspec": {
   "display_name": "Python [default]",
   "language": "python",
   "name": "python2"
  },
  "language_info": {
   "codemirror_mode": {
    "name": "ipython",
    "version": 2
   },
   "file_extension": ".py",
   "mimetype": "text/x-python",
   "name": "python",
   "nbconvert_exporter": "python",
   "pygments_lexer": "ipython2",
   "version": "2.7.12"
  }
 },
 "nbformat": 4,
 "nbformat_minor": 2
}
