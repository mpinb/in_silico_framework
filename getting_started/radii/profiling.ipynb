{
 "cells": [
  {
   "cell_type": "code",
   "execution_count": 22,
   "metadata": {
    "collapsed": false
   },
   "outputs": [],
   "source": [
    "import os\n",
    "import sys\n",
    "\n",
    "    \n",
    "import ipywidgets as widgets\n",
    "from ipywidgets import interact, interact_manual\n",
    "from PIL import Image, ImageDraw\n",
    "\n",
    "import radii as radi\n",
    "import SimpleITK as sitk\n",
    "import matplotlib\n",
    "matplotlib.use('TkAgg')\n",
    "import matplotlib.pyplot as plt\n",
    "import matplotlib.image as mpimg\n",
    "import Interface as I\n",
    "from getting_started import getting_started_dir\n",
    "\n",
    "\n",
    "inputTifImage_s13 = I.os.path.join(getting_started_dir, 'radii/data/neuron1/tif/max_z_projections','S13_max_z_projection_croped.tif')"
   ]
  },
  {
   "cell_type": "code",
   "execution_count": 3,
   "metadata": {
    "collapsed": false
   },
   "outputs": [
    {
     "ename": "NameError",
     "evalue": "name 'mdb' is not defined",
     "output_type": "error",
     "traceback": [
      "\u001b[0;31m---------------------------------------------------------------------------\u001b[0m",
      "\u001b[0;31mNameError\u001b[0m                                 Traceback (most recent call last)",
      "\u001b[0;32m<ipython-input-3-74ac57be75c4>\u001b[0m in \u001b[0;36m<module>\u001b[0;34m()\u001b[0m\n\u001b[0;32m----> 1\u001b[0;31m \u001b[0mI\u001b[0m\u001b[0;34m.\u001b[0m\u001b[0mos\u001b[0m\u001b[0;34m.\u001b[0m\u001b[0mlistdir\u001b[0m\u001b[0;34m(\u001b[0m\u001b[0mmdb\u001b[0m\u001b[0;34m.\u001b[0m\u001b[0mbasedir\u001b[0m\u001b[0;34m)\u001b[0m\u001b[0;34m\u001b[0m\u001b[0m\n\u001b[0m",
      "\u001b[0;31mNameError\u001b[0m: name 'mdb' is not defined"
     ]
    }
   ],
   "source": []
  },
  {
   "cell_type": "code",
   "execution_count": 23,
   "metadata": {
    "collapsed": false
   },
   "outputs": [],
   "source": [
    "imageFileReader = sitk.ImageFileReader()\n",
    "imageFileReader.SetFileName(inputTifImage_s13)\n",
    "inputImage_s13 = imageFileReader.Execute()"
   ]
  },
  {
   "cell_type": "code",
   "execution_count": 24,
   "metadata": {
    "collapsed": true
   },
   "outputs": [],
   "source": [
    "radiusCalculator = radi.calcRad.RadiusCalculator(xyResolution = 0.092,\n",
    "                                                 zResolution = 0.5,\n",
    "                                                 xySize = 20,\n",
    "                                                 numberOfRays = 10)\n"
   ]
  },
  {
   "cell_type": "code",
   "execution_count": 25,
   "metadata": {
    "collapsed": true
   },
   "outputs": [],
   "source": [
    "def drawLine(pos):\n",
    "    print(pos)\n",
    "    im = Image.open(inputTifImage_s13)\n",
    "    draw = ImageDraw.Draw(im) \n",
    "\n",
    "   \n",
    "    rays, raysProfiles = radiusCalculator.getProfileAtThisPoint(inputImage_s13, pos)\n",
    " \n",
    "    #draw.line((backCounterPoint[0], backCounterPoint[1], frontCounterPoint[0], frontCounterPoint[1]), fill=200, width=5)\n",
    "    for ray in rays:\n",
    "        draw.line((ray[0][0], ray[0][1], ray[-1][0], ray[-1][1]),fill=\"#ff0000\", width=2)\n",
    "    im.show()\n",
    "    plots(raysProfiles)\n",
    "    #im.save(sys.stdout, \"PNG\")\n",
    "    "
   ]
  },
  {
   "cell_type": "code",
   "execution_count": 20,
   "metadata": {
    "collapsed": true
   },
   "outputs": [],
   "source": [
    "def plots(raysProfileList):\n",
    "    ray2 = raysProfileList[1]\n",
    "\n",
    " #   t1 = np.arange(0.0, 5.0, 0.1)\n",
    "    length = len(raysProfileList)\n",
    "    plt.figure(1)\n",
    "    for rayIndex, ray in enumerate(raysProfileList[0:length-2]):\n",
    "        plt.subplot(len(raysProfileList),1, rayIndex+1, frameon=False)\n",
    "        plt.axis('off')\n",
    "        plt.plot(ray)\n",
    "        \n",
    "    plt.show() \n"
   ]
  },
  {
   "cell_type": "code",
   "execution_count": 26,
   "metadata": {
    "collapsed": false
   },
   "outputs": [
    {
     "name": "stdout",
     "output_type": "stream",
     "text": [
      "[257.61688311688317, 182.67099567099564]\n"
     ]
    }
   ],
   "source": [
    "\n",
    "imgArray = sitk.GetArrayViewFromImage(inputImage_s13)\n",
    "\n",
    "f,imgplot=plt.subplots()\n",
    "imgplot = plt.imshow(imgArray);\n",
    "\n",
    "pos = []\n",
    "def onclick(event):\n",
    "    pos = []\n",
    "    pos.append([event.xdata,event.ydata])\n",
    "    drawLine(pos[0])\n",
    "\n",
    "f.canvas.mpl_connect('button_press_event', onclick)\n",
    "f.show()"
   ]
  },
  {
   "cell_type": "code",
   "execution_count": null,
   "metadata": {
    "collapsed": true
   },
   "outputs": [],
   "source": []
  }
 ],
 "metadata": {
  "anaconda-cloud": {},
  "kernelspec": {
   "display_name": "Python [default]",
   "language": "python",
   "name": "python2"
  },
  "language_info": {
   "codemirror_mode": {
    "name": "ipython",
    "version": 2
   },
   "file_extension": ".py",
   "mimetype": "text/x-python",
   "name": "python",
   "nbconvert_exporter": "python",
   "pygments_lexer": "ipython2",
   "version": "2.7.12"
  }
 },
 "nbformat": 4,
 "nbformat_minor": 2
}
