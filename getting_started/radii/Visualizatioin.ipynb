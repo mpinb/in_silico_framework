{
 "cells": [
  {
   "cell_type": "code",
   "execution_count": 250,
   "metadata": {
    "collapsed": false
   },
   "outputs": [],
   "source": [
    "import plotly.plotly as py\n",
    "import plotly\n",
    "import plotly.graph_objs as go\n",
    "import pandas as pd\n",
    "import numpy as enp\n",
    "import transformTools as tr\n",
    "import re\n",
    "import Interface as I\n",
    "from getting_started import getting_started_dir"
   ]
  },
  {
   "cell_type": "code",
   "execution_count": 251,
   "metadata": {
    "collapsed": true
   },
   "outputs": [],
   "source": [
    "def readPoints(pFile):\n",
    "    points = []\n",
    "    with open(pFile, 'r') as amLand:\n",
    "        lines = amLand.readlines()\n",
    "        for line in lines:\n",
    "            matches = re.findall('-?\\d+\\.\\d+', line)\n",
    "            point = map(float, matches)\n",
    "            points.append(point)\n",
    "    return points\n"
   ]
  },
  {
   "cell_type": "code",
   "execution_count": 252,
   "metadata": {
    "code_folding": [],
    "collapsed": false
   },
   "outputs": [],
   "source": [
    "def plotCell(points, clr, sz):\n",
    "    #df = pd.read_csv('https://raw.githubusercontent.com/plotly/datasets/master/iris.csv')\n",
    "    #df.head()\n",
    "\n",
    "    x = pd.Series([point[0] for point in points])\n",
    "    y = pd.Series([point[1] for point in points])\n",
    "    z = pd.Series([point[2] for point in points])\n",
    "\n",
    "    #x = ([point[0] for point in allAmPointsWithRadius050])\n",
    "    #y = ([point[1] for point in allAmPointsWithRadius050])\n",
    "    #z = ([point[2] for point in allAmPointsWithRadius050])\n",
    "\n",
    "    trace = go.Scatter3d(\n",
    "        x=x, y=y, z=z,\n",
    "        mode='markers',\n",
    "        marker=dict(\n",
    "            size=sz,\n",
    "            color=clr,\n",
    "            colorscale='Viridis',\n",
    "        )\n",
    "    )\n",
    "\n",
    "    data = [trace]\n",
    "\n",
    "    layout = dict(\n",
    "        width=1200,\n",
    "        height=1080,\n",
    "        autosize=True,\n",
    "        title='Spactial Data point',\n",
    "        scene=dict(\n",
    "            xaxis=dict(\n",
    "                gridcolor='rgb(255, 255, 255)',\n",
    "                zerolinecolor='rgb(255, 255, 255)',\n",
    "                showbackground=True,\n",
    "                backgroundcolor='rgb(230, 230,230)'\n",
    "            ),\n",
    "            yaxis=dict(\n",
    "                gridcolor='rgb(255, 255, 255)',\n",
    "                zerolinecolor='rgb(255, 255, 255)',\n",
    "                showbackground=True,\n",
    "                backgroundcolor='rgb(230, 230,230)'\n",
    "            ),\n",
    "            zaxis=dict(\n",
    "                gridcolor='rgb(255, 255, 255)',\n",
    "                zerolinecolor='rgb(255, 255, 255)',\n",
    "                showbackground=True,\n",
    "                backgroundcolor='rgb(230, 230,230)'\n",
    "            ),\n",
    "            camera=dict(\n",
    "                up=dict(\n",
    "                    x=0,\n",
    "                    y=0,\n",
    "                    z=1\n",
    "                ),\n",
    "                eye=dict(\n",
    "                    x=-1.7428,\n",
    "                    y=1.0707,\n",
    "                    z=0.7100,\n",
    "                )\n",
    "            ),\n",
    "            aspectratio = dict( x=1, y=1, z=0.7 ),\n",
    "            aspectmode = 'manual'\n",
    "        ),\n",
    "    )\n",
    "\n",
    "    fig = dict(data=data, layout=layout)\n",
    "    return fig"
   ]
  },
  {
   "cell_type": "code",
   "execution_count": 291,
   "metadata": {
    "collapsed": false
   },
   "outputs": [],
   "source": [
    "trPointsFile = I.os.path.join(getting_started_dir, 'radii/data/neuron2','amTransformed2.txt')\n",
    "trPoints = readPoints(trPointsFile)\n",
    "\n",
    "amFile = I.os.path.join(getting_started_dir, 'radii/data/neuron2/am_final','504_rad_dendriteOnly.am')\n",
    "amPoints = tr.read.amFile(amFile)\n",
    "\n",
    "egAmFile = I.os.path.join(getting_started_dir, 'radii/data/neuron2','egAm.txt')\n",
    "egAmPoints = readPoints(egAmFile)\n",
    "\n",
    "hocFile = I.os.path.join(getting_started_dir, 'radii/data/neuron2/hoc','504_GP_WR662_cell_1171_PoM_checked_RE.hoc')\n",
    "hocPoints = tr.read.hocFileReduced(hocFile)\n",
    "hocPointsComplete = tr.read.hocFileComplete(hocFile)\n",
    "\n",
    "egHocFile = I.os.path.join(getting_started_dir, 'radii/data/neuron2','egHoc.txt')\n",
    "egHocPoints = readPoints(egHocFile)\n",
    "\n",
    " "
   ]
  },
  {
   "cell_type": "code",
   "execution_count": 292,
   "metadata": {
    "collapsed": false
   },
   "outputs": [],
   "source": [
    "hocFig = plotCell(hocPoints, 'rgb(236, 160, 255)', 2)\n",
    "amFig = plotCell(amPoints, 'rgb(244, 161, 66)',  1)\n",
    "egAmFig = plotCell(egAmPoints, 'rgb(244, 65, 65)',  1)\n",
    "egHocFig = plotCell(egHocPoints, 'rgb(0, 0, 0)',3)\n",
    "\n",
    "hocCompleteFig = plotCell(hocPointsComplete, 'rgb(176, 106, 252)',1)\n",
    "trAmFig = plotCell(trPoints, 'rgb(0, 0, 0)',1)"
   ]
  },
  {
   "cell_type": "code",
   "execution_count": 267,
   "metadata": {
    "collapsed": false
   },
   "outputs": [
    {
     "data": {
      "text/plain": [
       "'hocGrpahes.html'"
      ]
     },
     "execution_count": 267,
     "metadata": {},
     "output_type": "execute_result"
    }
   ],
   "source": [
    "plotly.offline.plot(fig, filename='hocGrpahes')"
   ]
  },
  {
   "cell_type": "code",
   "execution_count": 206,
   "metadata": {
    "collapsed": false
   },
   "outputs": [],
   "source": [
    "ehp1 = [egHocPoints[0]]\n",
    "ehp2 = [egHocPoints[1]]\n",
    "ehp3 = [egHocPoints[2]]\n",
    "ehp4 = [egHocPoints[3]]\n",
    "\n",
    "eap1 = [egAmPoints[0]]\n",
    "eap2 = [egAmPoints[1]]\n",
    "eap3 = [egAmPoints[2]]\n",
    "eap4 = [egAmPoints[3]]\n",
    "\n",
    "\n",
    "red = 'rgb(234, 4, 4)' #1\n",
    "blue = 'rgb(11, 4, 234)' #2 \n",
    "green = 'rgb(49, 130, 2)' #3 --> green\n",
    "black = 'rgb(0, 0, 0)'#4 --> black"
   ]
  },
  {
   "cell_type": "code",
   "execution_count": 282,
   "metadata": {
    "collapsed": false
   },
   "outputs": [],
   "source": [
    "ehp1Fig = plotCell(ehp1, red, 3)\n",
    "ehp2Fig = plotCell(ehp2, blue, 3)\n",
    "ehp3Fig = plotCell(ehp3, green, 3)\n",
    "ehp4Fig = plotCell(ehp4, black, 3)\n",
    "\n",
    "ehp1Data = ehp1Fig[\"data\"]\n",
    "ehp2Data = ehp2Fig[\"data\"]\n",
    "ehp3Data = ehp3Fig[\"data\"]\n",
    "ehp4Data = ehp4Fig[\"data\"]\n",
    "\n",
    "hocData = hocFig[\"data\"]\n",
    "\n",
    "layout = hocFig['layout']\n",
    "trace = hocData + ehp1Data + ehp2Data + ehp3Data + ehp4Data\n",
    "ehFig = dict(data=trace, layout=layout)\n"
   ]
  },
  {
   "cell_type": "code",
   "execution_count": 239,
   "metadata": {
    "collapsed": false
   },
   "outputs": [
    {
     "data": {
      "text/plain": [
       "'hocGrpahes.html'"
      ]
     },
     "execution_count": 239,
     "metadata": {},
     "output_type": "execute_result"
    }
   ],
   "source": [
    "plotly.offline.plot(ehFig, filename='hocGrpahes')"
   ]
  },
  {
   "cell_type": "code",
   "execution_count": 283,
   "metadata": {
    "collapsed": false
   },
   "outputs": [],
   "source": [
    "eap1Fig = plotCell(eap1, red, 3)\n",
    "eap2Fig = plotCell(eap2, blue, 3)\n",
    "eap3Fig = plotCell(eap3, green, 3)\n",
    "eap4Fig = plotCell(eap4, black, 3)\n",
    "\n",
    "eap1Data = eap1Fig[\"data\"]\n",
    "eap2Data = eap2Fig[\"data\"]\n",
    "eap3Data = eap3Fig[\"data\"]\n",
    "eap4Data = eap4Fig[\"data\"]\n",
    "\n",
    "amData = amFig[\"data\"]\n",
    "\n",
    "layout = amFig['layout']\n",
    "trace = amData + eap1Data + eap2Data + eap3Data + eap4Data\n",
    "eaFig = dict(data=trace, layout=layout)"
   ]
  },
  {
   "cell_type": "code",
   "execution_count": 241,
   "metadata": {
    "collapsed": false
   },
   "outputs": [
    {
     "data": {
      "text/plain": [
       "'eaGrpahes.html'"
      ]
     },
     "execution_count": 241,
     "metadata": {},
     "output_type": "execute_result"
    }
   ],
   "source": [
    "plotly.offline.plot(eaFig, filename='eaGrpahes')"
   ]
  },
  {
   "cell_type": "code",
   "execution_count": null,
   "metadata": {
    "collapsed": true
   },
   "outputs": [],
   "source": [
    "mach points 1\n",
    "[-6329.22, -7458.88, -288.91]\n",
    "[189.0599975585938, 387.68798828125, -191.4560241699219]\n",
    "mach points 2\n",
    "[-6143.2, -7996.05, 898.82]\n",
    "[730.804931640625, 207.22705078125, 991.8990478515625]\n",
    "\n",
    "mach points 1\n",
    "[-6322.93, -7413.43, -237.27]\n",
    "[282.7160034179688, 536.176025390625, -191.4560241699219]\n",
    "mach points 2\n",
    "[-5995.36, -7901.15, 899.35]\n",
    "[771.9415893554688, 210.7747192382813, 927.86474609375]\n"
   ]
  },
  {
   "cell_type": "code",
   "execution_count": 217,
   "metadata": {
    "collapsed": false
   },
   "outputs": [
    {
     "data": {
      "text/plain": [
       "'trGrpahes.html'"
      ]
     },
     "execution_count": 217,
     "metadata": {},
     "output_type": "execute_result"
    }
   ],
   "source": [
    "plotly.offline.plot(trAmFig, filename='trGrpahes')"
   ]
  },
  {
   "cell_type": "code",
   "execution_count": 284,
   "metadata": {
    "collapsed": false
   },
   "outputs": [
    {
     "data": {
      "text/plain": [
       "'trAm_Hoc_Grpah.html'"
      ]
     },
     "execution_count": 284,
     "metadata": {},
     "output_type": "execute_result"
    }
   ],
   "source": [
    "trAmData = trAmFig[\"data\"]\n",
    "hocData = hocCompleteFig[\"data\"]\n",
    "\n",
    "layout = hocFig['layout']\n",
    "\n",
    "trace = trAmData + hocData\n",
    "trAmHocFig = dict(data=trace, layout=layout)\n",
    "plotly.offline.plot(trAmHocFig, filename='trAm_Hoc_Grpah')"
   ]
  },
  {
   "cell_type": "code",
   "execution_count": 293,
   "metadata": {
    "collapsed": true
   },
   "outputs": [],
   "source": [
    "ehp1Fig = plotCell(ehp1, red, 3)\n",
    "ehp2Fig = plotCell(ehp2, blue, 3)\n",
    "ehp3Fig = plotCell(ehp3, green, 3)\n",
    "ehp4Fig = plotCell(ehp4, black, 3)\n",
    "\n",
    "ehp1Data = ehp1Fig[\"data\"]\n",
    "ehp2Data = ehp2Fig[\"data\"]\n",
    "ehp3Data = ehp3Fig[\"data\"]\n",
    "ehp4Data = ehp4Fig[\"data\"]\n",
    "\n",
    "trAmhocData = trAmHocFig[\"data\"]\n",
    "\n",
    "layout = hocFig['layout']\n",
    "trace = trAmhocData + ehp1Data + ehp2Data + ehp3Data + ehp4Data\n",
    "ehpTrAmHocFig = dict(data=trace, layout=layout)"
   ]
  },
  {
   "cell_type": "code",
   "execution_count": 294,
   "metadata": {
    "collapsed": false
   },
   "outputs": [
    {
     "data": {
      "text/plain": [
       "'ehpTrAm_Hoc_Grpah.html'"
      ]
     },
     "execution_count": 294,
     "metadata": {},
     "output_type": "execute_result"
    }
   ],
   "source": [
    "plotly.offline.plot(ehpTrAmHocFig, filename='ehpTrAm_Hoc_Grpah')"
   ]
  },
  {
   "cell_type": "code",
   "execution_count": null,
   "metadata": {
    "collapsed": true
   },
   "outputs": [],
   "source": []
  }
 ],
 "metadata": {
  "anaconda-cloud": {},
  "kernelspec": {
   "display_name": "Python [conda root]",
   "language": "python",
   "name": "conda-root-py"
  },
  "language_info": {
   "codemirror_mode": {
    "name": "ipython",
    "version": 2
   },
   "file_extension": ".py",
   "mimetype": "text/x-python",
   "name": "python",
   "nbconvert_exporter": "python",
   "pygments_lexer": "ipython2",
   "version": "2.7.12"
  },
  "toc": {
   "base_numbering": 1,
   "nav_menu": {},
   "number_sections": true,
   "sideBar": true,
   "skip_h1_title": false,
   "title_cell": "Table of Contents",
   "title_sidebar": "Contents",
   "toc_cell": false,
   "toc_position": {},
   "toc_section_display": true,
   "toc_window_display": false
  }
 },
 "nbformat": 4,
 "nbformat_minor": 2
}
