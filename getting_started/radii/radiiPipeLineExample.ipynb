{
 "cells": [
  {
   "cell_type": "code",
   "execution_count": 1,
   "metadata": {
    "collapsed": false
   },
   "outputs": [
    {
     "name": "stdout",
     "output_type": "stream",
     "text": [
      "trying to connect to distributed locking server {'config': {'socket_timeout': 1, 'host': 'spock', 'port': 8885}, 'type': 'redis'}\n",
      "trying to connect to distributed locking server {'config': {'socket_timeout': 1, 'host': 'localhost', 'port': 6379}, 'type': 'redis'}\n",
      "success!\n",
      "Current version: v0.0.1+391.g60240bb.dirty\n",
      "Current pid: 4311\n",
      "Loading mechanisms:\n",
      "setting up local multiprocessing framework ... done\n",
      "\n",
      "\n",
      "The loaded modules with __version__ attribute are:\n",
      "IPython: 5.1.0, Interface: v0.0.1+391.g60240bb.dirty, SocketServer: 0.4, _ast: 82160, _csv: 1.0, _ctypes: 1.1.0, _curses: 2.2, _struct: 0.2, argparse: 1.1, ast: 82160, blosc: 1.5.1, bluepyopt: 1.8.21, bottleneck: 1.1.0, cPickle: 1.71, cffi: 1.7.0, cgi: 2.6, chest: 0.2.3, click: 6.6, cloudpickle: 0.2.2, colorama: 0.3.7, csv: 1.0, ctypes: 1.1.0, cycler: 0.10.0, cytoolz: 0.8.0, dask: 0.18.2, dateutil: 2.5.3, deap: 1.2, decimal: 1.70, decorator: 4.0.10, distributed: 1.22.1, distutils: 2.7.12, email: 4.0.3, future: 0.16.0, ipykernel: 4.5.0, ipyparallel: 6.2.3, ipython_genutils: 0.1.0, ipywidgets: 5.2.2, jinja2: 2.10, json: 2.0.9, jupyter_client: 4.4.0, jupyter_core: 4.2.0, logging: 0.5.1.2, lz4: 0.10.1, matplotlib: 2.0.2, multiprocessing: 0.70a1, nose: 1.3.7, numexpr: 2.6.1, numpy: 1.11.1, optparse: 1.5.3, pandas: 0.19.2, parameters: 0.2.1, past: 0.16.0, pexpect: 4.0.1, pickle: $Revision: 72223 $, pickleshare: 0.7.4, platform: 1.0.7, prompt_toolkit: 1.0.3, psutil: 4.3.1, ptyprocess: 0.5.1, py: 1.4.31, pydoc: $Revision: 88564 $, pygments: 2.1.3, pyparsing: 2.2.0, pytz: 2016.6.1, re: 2.2.1, redis: 2.10.5, scipy: 0.18.1, seaborn: 0.8.0, six: 1.10.0, sklearn: 0.18.1, sortedcontainers: 2.0.4, statsmodels: 0.8.0, sumatra: 0.7.4, tables: 3.2.3.1, tblib: 1.3.2, toolz: 0.8.0, traitlets: 4.3.0, urllib: 1.17, urllib2: 2.7, xlsxwriter: 0.9.3, yaml: 3.12, zlib: 1.0, zmq: 15.4.0\n"
     ]
    },
    {
     "name": "stderr",
     "output_type": "stream",
     "text": [
      "/home/amir/Projects/in_silico_framework/Interface.py:172: UserWarning: The source folder has uncommited changes!\n",
      "  if get_versions()['dirty']: warnings.warn('The source folder has uncommited changes!')\n"
     ]
    },
    {
     "ename": "IndentationError",
     "evalue": "expected an indented block (radiiPipeline.py, line 45)",
     "output_type": "error",
     "traceback": [
      "\u001b[0;36m  File \u001b[0;32m\"/home/amir/Projects/in_silico_framework/radiiPipeline/radiiPipeline.py\"\u001b[0;36m, line \u001b[0;32m45\u001b[0m\n\u001b[0;31m    \u001b[0m\n\u001b[0m    ^\u001b[0m\n\u001b[0;31mIndentationError\u001b[0m\u001b[0;31m:\u001b[0m expected an indented block\n"
     ]
    }
   ],
   "source": [
    "import Interface as I;\n",
    "import os;\n",
    "import radiiPipeline;\n",
    "from getting_started import getting_started_dir;"
   ]
  },
  {
   "cell_type": "code",
   "execution_count": null,
   "metadata": {
    "collapsed": false
   },
   "outputs": [],
   "source": [
    "cellsDirectory = I.os.path.join(getting_started_dir, 'radii/data/cells/')\n",
    "outputDirectory = I.os.path.join(getting_started_dir, 'radii/data/output/')"
   ]
  },
  {
   "cell_type": "code",
   "execution_count": 3,
   "metadata": {
    "collapsed": false
   },
   "outputs": [
    {
     "ename": "NameError",
     "evalue": "name 'cellsDirectory' is not defined",
     "output_type": "error",
     "traceback": [
      "\u001b[0;31m---------------------------------------------------------------------------\u001b[0m",
      "\u001b[0;31mNameError\u001b[0m                                 Traceback (most recent call last)",
      "\u001b[0;32m<ipython-input-3-ef8933fd4804>\u001b[0m in \u001b[0;36m<module>\u001b[0;34m()\u001b[0m\n\u001b[1;32m      1\u001b[0m \u001b[0mcellsDict\u001b[0m\u001b[0;34m=\u001b[0m\u001b[0;34m{\u001b[0m\u001b[0;34m}\u001b[0m\u001b[0;34m\u001b[0m\u001b[0m\n\u001b[0;32m----> 2\u001b[0;31m \u001b[0;32mfor\u001b[0m \u001b[0mcell\u001b[0m \u001b[0;32min\u001b[0m \u001b[0mos\u001b[0m\u001b[0;34m.\u001b[0m\u001b[0mlistdir\u001b[0m\u001b[0;34m(\u001b[0m\u001b[0mcellsDirectory\u001b[0m\u001b[0;34m)\u001b[0m\u001b[0;34m:\u001b[0m\u001b[0;34m\u001b[0m\u001b[0m\n\u001b[0m\u001b[1;32m      3\u001b[0m     \u001b[0mamFolderPath\u001b[0m \u001b[0;34m=\u001b[0m \u001b[0mcellsDirectory\u001b[0m \u001b[0;34m+\u001b[0m  \u001b[0mstr\u001b[0m\u001b[0;34m(\u001b[0m\u001b[0mcell\u001b[0m\u001b[0;34m)\u001b[0m \u001b[0;34m+\u001b[0m \u001b[0;34m\"/am/\"\u001b[0m\u001b[0;34m\u001b[0m\u001b[0m\n\u001b[1;32m      4\u001b[0m     \u001b[0mmaxZFolderPath\u001b[0m \u001b[0;34m=\u001b[0m \u001b[0mcellsDirectory\u001b[0m \u001b[0;34m+\u001b[0m  \u001b[0mstr\u001b[0m\u001b[0;34m(\u001b[0m\u001b[0mcell\u001b[0m\u001b[0;34m)\u001b[0m \u001b[0;34m+\u001b[0m \u001b[0;34m\"/max_z_projections/\"\u001b[0m\u001b[0;34m\u001b[0m\u001b[0m\n\u001b[1;32m      5\u001b[0m \u001b[0;34m\u001b[0m\u001b[0m\n",
      "\u001b[0;31mNameError\u001b[0m: name 'cellsDirectory' is not defined"
     ]
    }
   ],
   "source": [
    "cellsDict={}\n",
    "for cell in os.listdir(cellsDirectory):\n",
    "    amFolderPath = cellsDirectory +  str(cell) + \"/am/\"\n",
    "    maxZFolderPath = cellsDirectory +  str(cell) + \"/max_z_projections/\"\n",
    "    \n",
    "    amFilesPathList = [amFolderPath + amFile for amFile in os.listdir(amFolderPath) if amFile.endswith(\".am\")]\n",
    "    maxZFilesPathList = [maxZFolderPath + zFile for zFile in os.listdir(maxZFolderPath) if zFile.endswith(\".tif\")]\n",
    "    hocFilePath = [hFile for hFile in os.listdir(cellsDirectory + str(cell)) if hFile.endswith(\".hoc\")][0]\n",
    "\n",
    "    cellsDict[str(cell)] = [amFilesPathList, maxZFilesPathList, hocFilePath]"
   ]
  },
  {
   "cell_type": "code",
   "execution_count": null,
   "metadata": {
    "collapsed": false
   },
   "outputs": [],
   "source": [
    "for key in cellsDict:\n",
    "    cell = cellsDict[key] \n",
    "    rPipe = radiiPipeline.radiiPipeline.radii(cell[0], cell[1], cell[2])\n",
    "    res = rPipe.runRayBurstOnSlices()\n",
    "    print(res)"
   ]
  },
  {
   "cell_type": "code",
   "execution_count": null,
   "metadata": {
    "collapsed": false
   },
   "outputs": [],
   "source": [
    "rPipe = radiiPipeline.radiiPipeline.radii(cell[0], cell[1], cell[2])"
   ]
  },
  {
   "cell_type": "code",
   "execution_count": null,
   "metadata": {
    "collapsed": false
   },
   "outputs": [],
   "source": [
    "cellsDict[\"cell1\"]"
   ]
  },
  {
   "cell_type": "code",
   "execution_count": null,
   "metadata": {
    "collapsed": true
   },
   "outputs": [],
   "source": []
  }
 ],
 "metadata": {
  "anaconda-cloud": {},
  "kernelspec": {
   "display_name": "Python [conda root]",
   "language": "python",
   "name": "conda-root-py"
  },
  "language_info": {
   "codemirror_mode": {
    "name": "ipython",
    "version": 2
   },
   "file_extension": ".py",
   "mimetype": "text/x-python",
   "name": "python",
   "nbconvert_exporter": "python",
   "pygments_lexer": "ipython2",
   "version": "2.7.12"
  },
  "toc": {
   "base_numbering": 1,
   "nav_menu": {},
   "number_sections": true,
   "sideBar": true,
   "skip_h1_title": false,
   "title_cell": "Table of Contents",
   "title_sidebar": "Contents",
   "toc_cell": false,
   "toc_position": {},
   "toc_section_display": true,
   "toc_window_display": false
  }
 },
 "nbformat": 4,
 "nbformat_minor": 2
}
