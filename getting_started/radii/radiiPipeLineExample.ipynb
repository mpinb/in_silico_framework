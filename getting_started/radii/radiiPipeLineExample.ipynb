{
 "cells": [
  {
   "cell_type": "markdown",
   "metadata": {},
   "source": [
    "## Init"
   ]
  },
  {
   "cell_type": "code",
   "execution_count": 1,
   "metadata": {
    "collapsed": false
   },
   "outputs": [
    {
     "name": "stdout",
     "output_type": "stream",
     "text": [
      "trying to connect to distributed locking server {'config': {'socket_timeout': 1, 'host': 'spock', 'port': 8885}, 'type': 'redis'}\n",
      "trying to connect to distributed locking server {'config': {'socket_timeout': 1, 'host': 'localhost', 'port': 6379}, 'type': 'redis'}\n",
      "success!\n",
      "Current version: v0.0.1+394.g2d09ca7.dirty\n",
      "Current pid: 18832\n",
      "Loading mechanisms:\n",
      "setting up local multiprocessing framework ... done\n",
      "\n",
      "\n",
      "The loaded modules with __version__ attribute are:\n",
      "IPython: 5.1.0, Interface: v0.0.1+394.g2d09ca7.dirty, SocketServer: 0.4, _ast: 82160, _csv: 1.0, _ctypes: 1.1.0, _curses: 2.2, _struct: 0.2, argparse: 1.1, ast: 82160, blosc: 1.5.1, bluepyopt: 1.8.21, bottleneck: 1.1.0, cPickle: 1.71, cffi: 1.7.0, cgi: 2.6, chest: 0.2.3, click: 6.6, cloudpickle: 0.2.2, colorama: 0.3.7, csv: 1.0, ctypes: 1.1.0, cycler: 0.10.0, cytoolz: 0.8.0, dask: 0.18.2, dateutil: 2.5.3, deap: 1.2, decimal: 1.70, decorator: 4.0.10, distributed: 1.22.1, distutils: 2.7.12, email: 4.0.3, future: 0.16.0, ipykernel: 4.5.0, ipyparallel: 6.2.3, ipython_genutils: 0.1.0, ipywidgets: 5.2.2, jinja2: 2.10, json: 2.0.9, jupyter_client: 4.4.0, jupyter_core: 4.2.0, logging: 0.5.1.2, lz4: 0.10.1, matplotlib: 2.0.2, multiprocessing: 0.70a1, nose: 1.3.7, numexpr: 2.6.1, numpy: 1.11.1, optparse: 1.5.3, pandas: 0.19.2, parameters: 0.2.1, past: 0.16.0, pexpect: 4.0.1, pickle: $Revision: 72223 $, pickleshare: 0.7.4, platform: 1.0.7, prompt_toolkit: 1.0.3, psutil: 4.3.1, ptyprocess: 0.5.1, py: 1.4.31, pydoc: $Revision: 88564 $, pygments: 2.1.3, pyparsing: 2.2.0, pytz: 2016.6.1, re: 2.2.1, redis: 2.10.5, scipy: 0.18.1, seaborn: 0.8.0, six: 1.10.0, sklearn: 0.18.1, sortedcontainers: 2.0.4, statsmodels: 0.8.0, sumatra: 0.7.4, tables: 3.2.3.1, tblib: 1.3.2, toolz: 0.8.0, traitlets: 4.3.0, urllib: 1.17, urllib2: 2.7, xlsxwriter: 0.9.3, yaml: 3.12, zlib: 1.0, zmq: 15.4.0\n"
     ]
    },
    {
     "name": "stderr",
     "output_type": "stream",
     "text": [
      "/home/amir/Projects/in_silico_framework/Interface.py:172: UserWarning: The source folder has uncommited changes!\n",
      "  if get_versions()['dirty']: warnings.warn('The source folder has uncommited changes!')\n"
     ]
    }
   ],
   "source": [
    "import Interface as I\n",
    "import os\n",
    "import radii\n",
    "from getting_started import getting_started_dir"
   ]
  },
  {
   "cell_type": "markdown",
   "metadata": {},
   "source": [
    "## Define directories"
   ]
  },
  {
   "cell_type": "code",
   "execution_count": 3,
   "metadata": {
    "collapsed": false
   },
   "outputs": [],
   "source": [
    "cellsDirectory = I.os.path.join(getting_started_dir, 'radii/data/cells/')\n",
    "outputDirectory = I.os.path.join(getting_started_dir, 'radii/data/output/')"
   ]
  },
  {
   "cell_type": "code",
   "execution_count": 24,
   "metadata": {
    "collapsed": false
   },
   "outputs": [],
   "source": [
    "cellsFolders={}\n",
    "for cell in os.listdir(cellsDirectory):\n",
    "    amFolderPath = cellsDirectory +  str(cell) + \"/am/\"\n",
    "    maxZFolderPath = cellsDirectory +  str(cell) + \"/max_z_projections/\"\n",
    "    \n",
    "    amFilesPathList = [amFolderPath + amFile for amFile in os.listdir(amFolderPath) if amFile.endswith(\".am\")]\n",
    "    maxZFilesPathList = [maxZFolderPath + zFile for zFile in os.listdir(maxZFolderPath) if zFile.endswith(\".tif\")]\n",
    "    hocFilePath = [cellsDirectory + str(cell)+ \"/\" + hFile for hFile in os.listdir(cellsDirectory + str(cell)) if hFile.endswith(\".hoc\")][0]\n",
    "\n",
    "    cellsFolders[str(cell)] = [amFilesPathList, maxZFilesPathList, hocFilePath]"
   ]
  },
  {
   "cell_type": "markdown",
   "metadata": {},
   "source": [
    "## Run RayBurst"
   ]
  },
  {
   "cell_type": "code",
   "execution_count": null,
   "metadata": {
    "collapsed": false
   },
   "outputs": [],
   "source": [
    "cellsObject = {}\n",
    "for cellName in cellsFolders:\n",
    "    cell = cellsFolders[cellName] \n",
    "    cellsObject[cellName] = radii.radiiPipeline.RadiiPipeline(cell[0], cell[1], cell[2], outputDirectory)\n",
    "    step = cellsObject[cellName].runRayBurstOnSlices()\n",
    "    print(step)"
   ]
  },
  {
   "cell_type": "code",
   "execution_count": 14,
   "metadata": {
    "collapsed": false
   },
   "outputs": [
    {
     "name": "stdout",
     "output_type": "stream",
     "text": [
      "/home/amir/Projects/in_silico_framework/getting_started/radii/data/output/cel1/am025/\n"
     ]
    }
   ],
   "source": [
    "for cellObject in cellsObject:\n",
    "    cellsObject[cellObject].extractUncertainties()"
   ]
  },
  {
   "cell_type": "markdown",
   "metadata": {
    "collapsed": true
   },
   "source": [
    "## Run Transformation\n"
   ]
  },
  {
   "cell_type": "code",
   "execution_count": 31,
   "metadata": {
    "collapsed": false
   },
   "outputs": [],
   "source": [
    "finalAmWithRad =cellsDirectory + \"cel2\" + \"/\" + \"algined_slices_only_dendrite.am\""
   ]
  },
  {
   "cell_type": "code",
   "execution_count": 32,
   "metadata": {
    "collapsed": false
   },
   "outputs": [
    {
     "data": {
      "text/plain": [
       "'/home/amir/Projects/in_silico_framework/getting_started/radii/data/cells/cel2/500_GP_WR639_cell_1547_SP5C_checked_RE.hoc'"
      ]
     },
     "execution_count": 32,
     "metadata": {},
     "output_type": "execute_result"
    }
   ],
   "source": [
    "hocFilePath"
   ]
  },
  {
   "cell_type": "code",
   "execution_count": 35,
   "metadata": {
    "collapsed": false
   },
   "outputs": [],
   "source": [
    "transformationFinder = radii.radiiPipeline.RadiiPipeline(\"none\", \"none\", hocFilePath, outputDirectory)"
   ]
  },
  {
   "cell_type": "code",
   "execution_count": 36,
   "metadata": {
    "collapsed": false
   },
   "outputs": [
    {
     "name": "stdout",
     "output_type": "stream",
     "text": [
      "In the calculations of the transofrmation matrix\n",
      "Applying the transofrmation matrix to the initial am points\n",
      "In the process of finding pairs in between hoc file and the transoformed points to add radi to hocpoint\n",
      "0.12803196907\n",
      "0.0150260925293\n",
      "writing the final result in the output hocFile\n",
      "In the process of finding pairs in between hoc file and the transoformed points to add radi to hocpoint\n",
      "0.0849459171295\n",
      "0.00546813011169\n",
      "writing the final result in the output hocFile\n",
      "In the process of finding pairs in between hoc file and the transoformed points to add radi to hocpoint\n",
      "0.120973110199\n",
      "0.00711107254028\n",
      "writing the final result in the output hocFile\n",
      "In the process of finding pairs in between hoc file and the transoformed points to add radi to hocpoint\n",
      "0.0576491355896\n",
      "0.00540900230408\n",
      "writing the final result in the output hocFile\n",
      "In the process of finding pairs in between hoc file and the transoformed points to add radi to hocpoint\n",
      "0.0724420547485\n",
      "0.00480914115906\n",
      "writing the final result in the output hocFile\n",
      "In the process of finding pairs in between hoc file and the transoformed points to add radi to hocpoint\n",
      "0.14549612999\n",
      "0.00689697265625\n",
      "writing the final result in the output hocFile\n",
      "In the process of finding pairs in between hoc file and the transoformed points to add radi to hocpoint\n",
      "0.092912197113\n",
      "0.00482511520386\n",
      "writing the final result in the output hocFile\n",
      "In the process of finding pairs in between hoc file and the transoformed points to add radi to hocpoint\n",
      "0.189282178879\n",
      "0.0104439258575\n",
      "writing the final result in the output hocFile\n",
      "In the process of finding pairs in between hoc file and the transoformed points to add radi to hocpoint\n",
      "0.315742969513\n",
      "0.00602316856384\n",
      "writing the final result in the output hocFile\n",
      "In the process of finding pairs in between hoc file and the transoformed points to add radi to hocpoint\n",
      "0.207042217255\n",
      "0.0133299827576\n",
      "writing the final result in the output hocFile\n",
      "In the process of finding pairs in between hoc file and the transoformed points to add radi to hocpoint\n",
      "0.331176996231\n",
      "0.0108830928802\n",
      "writing the final result in the output hocFile\n",
      "In the process of finding pairs in between hoc file and the transoformed points to add radi to hocpoint\n"
     ]
    },
    {
     "ename": "KeyboardInterrupt",
     "evalue": "",
     "output_type": "error",
     "traceback": [
      "\u001b[0;31m---------------------------------------------------------------------------\u001b[0m",
      "\u001b[0;31mKeyboardInterrupt\u001b[0m                         Traceback (most recent call last)",
      "\u001b[0;32m<ipython-input-36-a587f194338e>\u001b[0m in \u001b[0;36m<module>\u001b[0;34m()\u001b[0m\n\u001b[0;32m----> 1\u001b[0;31m \u001b[0mnumber\u001b[0m \u001b[0;34m=\u001b[0m \u001b[0mtransformationFinder\u001b[0m\u001b[0;34m.\u001b[0m\u001b[0mfindTransformation\u001b[0m\u001b[0;34m(\u001b[0m\u001b[0mfinalAmWithRad\u001b[0m\u001b[0;34m)\u001b[0m\u001b[0;34m\u001b[0m\u001b[0m\n\u001b[0m",
      "\u001b[0;32m/home/amir/Projects/in_silico_framework/radii/radiiPipeline.py\u001b[0m in \u001b[0;36mfindTransformation\u001b[0;34m(self, amWithRad)\u001b[0m\n\u001b[1;32m    169\u001b[0m             \u001b[0;32mprint\u001b[0m\u001b[0;34m(\u001b[0m\u001b[0;34m\"In the process of finding pairs in between hoc file and the transoformed points to add radi to hocpoint\"\u001b[0m\u001b[0;34m)\u001b[0m\u001b[0;34m\u001b[0m\u001b[0m\n\u001b[1;32m    170\u001b[0m             \u001b[0mstartTime\u001b[0m \u001b[0;34m=\u001b[0m \u001b[0mtime\u001b[0m\u001b[0;34m.\u001b[0m\u001b[0mtime\u001b[0m\u001b[0;34m(\u001b[0m\u001b[0;34m)\u001b[0m\u001b[0;34m\u001b[0m\u001b[0m\n\u001b[0;32m--> 171\u001b[0;31m             \u001b[0mpairs\u001b[0m \u001b[0;34m=\u001b[0m \u001b[0mradi\u001b[0m\u001b[0;34m.\u001b[0m\u001b[0maddRadii\u001b[0m\u001b[0;34m.\u001b[0m\u001b[0mfindPairs\u001b[0m\u001b[0;34m(\u001b[0m\u001b[0mtrAmPoints4DList\u001b[0m\u001b[0;34m,\u001b[0m \u001b[0mhocSet\u001b[0m\u001b[0;34m)\u001b[0m\u001b[0;34m\u001b[0m\u001b[0m\n\u001b[0m\u001b[1;32m    172\u001b[0m             \u001b[0mendTime\u001b[0m \u001b[0;34m=\u001b[0m \u001b[0mtime\u001b[0m\u001b[0;34m.\u001b[0m\u001b[0mtime\u001b[0m\u001b[0;34m(\u001b[0m\u001b[0;34m)\u001b[0m\u001b[0;34m\u001b[0m\u001b[0m\n\u001b[1;32m    173\u001b[0m             \u001b[0;32mprint\u001b[0m\u001b[0;34m(\u001b[0m\u001b[0mendTime\u001b[0m \u001b[0;34m-\u001b[0m \u001b[0mstartTime\u001b[0m\u001b[0;34m)\u001b[0m\u001b[0;34m\u001b[0m\u001b[0m\n",
      "\u001b[0;32m/home/amir/Projects/in_silico_framework/radii/addRadii.pyc\u001b[0m in \u001b[0;36mfindPairs\u001b[0;34m(transformedPoints, hocPoints)\u001b[0m\n\u001b[1;32m     97\u001b[0m             \u001b[0mpairs\u001b[0m\u001b[0;34m.\u001b[0m\u001b[0mappend\u001b[0m\u001b[0;34m(\u001b[0m\u001b[0;34m[\u001b[0m\u001b[0mdualPair\u001b[0m\u001b[0;34m,\u001b[0m \u001b[0mhPoint\u001b[0m\u001b[0;34m]\u001b[0m\u001b[0;34m)\u001b[0m\u001b[0;34m\u001b[0m\u001b[0m\n\u001b[1;32m     98\u001b[0m         \u001b[0;32melse\u001b[0m\u001b[0;34m:\u001b[0m\u001b[0;34m\u001b[0m\u001b[0m\n\u001b[0;32m---> 99\u001b[0;31m             \u001b[0mdualPair\u001b[0m \u001b[0;34m=\u001b[0m \u001b[0mfindNextPair\u001b[0m\u001b[0;34m(\u001b[0m\u001b[0mtransformedPoints\u001b[0m\u001b[0;34m,\u001b[0m \u001b[0mhPoint\u001b[0m\u001b[0;34m)\u001b[0m\u001b[0;34m\u001b[0m\u001b[0m\n\u001b[0m\u001b[1;32m    100\u001b[0m             \u001b[0mpairs\u001b[0m\u001b[0;34m.\u001b[0m\u001b[0mappend\u001b[0m\u001b[0;34m(\u001b[0m\u001b[0;34m[\u001b[0m\u001b[0mdualPair\u001b[0m\u001b[0;34m,\u001b[0m \u001b[0mhPoint\u001b[0m\u001b[0;34m]\u001b[0m\u001b[0;34m)\u001b[0m\u001b[0;34m\u001b[0m\u001b[0m\n\u001b[1;32m    101\u001b[0m \u001b[0;34m\u001b[0m\u001b[0m\n",
      "\u001b[0;32m/home/amir/Projects/in_silico_framework/radii/addRadii.pyc\u001b[0m in \u001b[0;36mfindNextPair\u001b[0;34m(trPoints, hocPoint)\u001b[0m\n\u001b[1;32m     14\u001b[0m         \u001b[0;32mif\u001b[0m \u001b[0mdist\u001b[0m \u001b[0;34m<=\u001b[0m \u001b[0mminDistance\u001b[0m\u001b[0;34m:\u001b[0m\u001b[0;34m\u001b[0m\u001b[0m\n\u001b[1;32m     15\u001b[0m             \u001b[0mminDistance\u001b[0m \u001b[0;34m=\u001b[0m \u001b[0mdist\u001b[0m\u001b[0;34m\u001b[0m\u001b[0m\n\u001b[0;32m---> 16\u001b[0;31m             \u001b[0mdual\u001b[0m \u001b[0;34m=\u001b[0m \u001b[0mnewPoint\u001b[0m\u001b[0;34m\u001b[0m\u001b[0m\n\u001b[0m\u001b[1;32m     17\u001b[0m     \u001b[0;32mreturn\u001b[0m \u001b[0mdual\u001b[0m\u001b[0;34m\u001b[0m\u001b[0m\n\u001b[1;32m     18\u001b[0m \u001b[0;34m\u001b[0m\u001b[0m\n",
      "\u001b[0;31mKeyboardInterrupt\u001b[0m: "
     ]
    }
   ],
   "source": [
    "number = transformationFinder.findTransformation(finalAmWithRad)"
   ]
  },
  {
   "cell_type": "code",
   "execution_count": null,
   "metadata": {
    "collapsed": true
   },
   "outputs": [],
   "source": []
  }
 ],
 "metadata": {
  "anaconda-cloud": {},
  "kernelspec": {
   "display_name": "Python [conda root]",
   "language": "python",
   "name": "conda-root-py"
  },
  "language_info": {
   "codemirror_mode": {
    "name": "ipython",
    "version": 2
   },
   "file_extension": ".py",
   "mimetype": "text/x-python",
   "name": "python",
   "nbconvert_exporter": "python",
   "pygments_lexer": "ipython2",
   "version": "2.7.12"
  },
  "toc": {
   "base_numbering": 1,
   "nav_menu": {},
   "number_sections": true,
   "sideBar": true,
   "skip_h1_title": false,
   "title_cell": "Table of Contents",
   "title_sidebar": "Contents",
   "toc_cell": false,
   "toc_position": {},
   "toc_section_display": true,
   "toc_window_display": false
  }
 },
 "nbformat": 4,
 "nbformat_minor": 2
}
