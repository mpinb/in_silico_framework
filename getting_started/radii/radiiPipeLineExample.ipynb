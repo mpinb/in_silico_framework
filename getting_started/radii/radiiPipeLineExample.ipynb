{
 "cells": [
  {
   "cell_type": "markdown",
   "metadata": {},
   "source": [
    "## Init"
   ]
  },
  {
   "cell_type": "code",
   "execution_count": 6,
   "metadata": {
    "collapsed": false
   },
   "outputs": [],
   "source": [
    "import Interface as I\n",
    "import os\n",
    "import radii\n",
    "from getting_started import getting_started_dir"
   ]
  },
  {
   "cell_type": "markdown",
   "metadata": {},
   "source": [
    "## Define directories"
   ]
  },
  {
   "cell_type": "code",
   "execution_count": 2,
   "metadata": {
    "collapsed": false
   },
   "outputs": [],
   "source": [
    "cellsDirectory = I.os.path.join(getting_started_dir, 'radii/data/cells/')\n",
    "outputDirectory = I.os.path.join(getting_started_dir, 'radii/data/output/')"
   ]
  },
  {
   "cell_type": "code",
   "execution_count": 3,
   "metadata": {
    "collapsed": false
   },
   "outputs": [],
   "source": [
    "cellsFolders={}\n",
    "for cell in os.listdir(cellsDirectory):\n",
    "    amFolderPath = cellsDirectory +  str(cell) + \"/am/\"\n",
    "    maxZFolderPath = cellsDirectory +  str(cell) + \"/max_z_projections/\"\n",
    "    \n",
    "    amFilesPathList = [amFolderPath + amFile for amFile in os.listdir(amFolderPath) if amFile.endswith(\".am\")]\n",
    "    maxZFilesPathList = [maxZFolderPath + zFile for zFile in os.listdir(maxZFolderPath) if zFile.endswith(\".tif\")]\n",
    "    hocFilePath = [hFile for hFile in os.listdir(cellsDirectory + str(cell)) if hFile.endswith(\".hoc\")][0]\n",
    "\n",
    "    cellsFolders[str(cell)] = [amFilesPathList, maxZFilesPathList, hocFilePath]"
   ]
  },
  {
   "cell_type": "markdown",
   "metadata": {},
   "source": [
    "## Run RayBurst"
   ]
  },
  {
   "cell_type": "code",
   "execution_count": null,
   "metadata": {
    "collapsed": false
   },
   "outputs": [],
   "source": [
    "cellsObject = {}\n",
    "for cellName in cellsFolders:\n",
    "    cell = cellsFolders[cellName] \n",
    "    cellsObject[cellName] = radii.radiiPipeline.RadiiPipeline(cell[0], cell[1], cell[2], outputDirectory)\n",
    "    step = cellsObject[cellName].runRayBurstOnSlices()\n",
    "    print(step)"
   ]
  },
  {
   "cell_type": "code",
   "execution_count": 5,
   "metadata": {
    "collapsed": false
   },
   "outputs": [
    {
     "data": {
      "text/plain": [
       "<module 'radiiPipeline' from '/home/amir/Projects/in_silico_framework/radiiPipeline/__init__.pyc'>"
      ]
     },
     "execution_count": 5,
     "metadata": {},
     "output_type": "execute_result"
    }
   ],
   "source": [
    "radiiPipeline"
   ]
  },
  {
   "cell_type": "raw",
   "metadata": {},
   "source": []
  },
  {
   "cell_type": "code",
   "execution_count": null,
   "metadata": {
    "collapsed": false
   },
   "outputs": [],
   "source": [
    "for cellObject in cellsObject:\n",
    "    cellsObject[cellObject].extractUncertainties()"
   ]
  },
  {
   "cell_type": "code",
   "execution_count": null,
   "metadata": {
    "collapsed": false
   },
   "outputs": [],
   "source": [
    "%debug"
   ]
  },
  {
   "cell_type": "code",
   "execution_count": null,
   "metadata": {
    "collapsed": true
   },
   "outputs": [],
   "source": []
  }
 ],
 "metadata": {
  "anaconda-cloud": {},
  "kernelspec": {
   "display_name": "Python [conda root]",
   "language": "python",
   "name": "conda-root-py"
  },
  "language_info": {
   "codemirror_mode": {
    "name": "ipython",
    "version": 2
   },
   "file_extension": ".py",
   "mimetype": "text/x-python",
   "name": "python",
   "nbconvert_exporter": "python",
   "pygments_lexer": "ipython2",
   "version": "2.7.12"
  },
  "toc": {
   "base_numbering": 1,
   "nav_menu": {},
   "number_sections": true,
   "sideBar": true,
   "skip_h1_title": false,
   "title_cell": "Table of Contents",
   "title_sidebar": "Contents",
   "toc_cell": false,
   "toc_position": {},
   "toc_section_display": true,
   "toc_window_display": false
  }
 },
 "nbformat": 4,
 "nbformat_minor": 2
}
