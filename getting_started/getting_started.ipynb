{
 "cells": [
  {
   "cell_type": "markdown",
   "metadata": {},
   "source": [
    "# This repository contains tools for single cell simulations in barrel cortex."
   ]
  },
  {
   "cell_type": "markdown",
   "metadata": {},
   "source": [
    "## Setup\n",
    " 1. download and install Anaconda 2.7 https://www.continuum.io/Downloads\n",
    " 2. install neuron such that you can import it as python module. Version 7.4 has been tested, newer versions are likely to work. Detailed installation instructions can be found at http://www.davison.webfactional.com/notes/installation-neuron-python/\n",
    " 3. Add the neuron folder to your PATH environment variable, such that you can run `nrnivmodl` anywhere\n",
    " 3. install the following dependencies:\n",
    "    - sumatra, *used for parameterfiles*: `pip install sumatra`\n",
    "    - pandas 0.19.2, *data analysis library*: `conda install pandas==0.19.2`\n",
    "    - dask 0.14.2, *dynamic task scheduling and \"big data\" extension of pandas*: `conda install dask==0.14.2`\n",
    "    - distributed 1.15.2 *allows non-bloccking computations and brings dask to a cluster*: `conda install distributed=1.15.2`\n",
    "    - seaborn: *statistical data visualization*: `conda install seaborn`\n",
    "    - fasterners: *robust file based locking*: `pip install fasteners`\n",
    "    - jinja2: *html template engine, required for embedded animations*: `pip install jinja2`\n",
    " 4. clone or pull this repository: `git clone https://github.com/abast/in_silico_framework.git`. \n",
    " 5. add your in_silico_framework folder to the PYTHONPATH variable\n",
    " 6. unzip the following folder: in_silico_framework/getting_started/barrel_cortex.zip such that the following file exists: `in_silico_framework/getting_started/barrel_cortex/nrCells.csv`\n",
    " 7. run the test suite: `python run_tests.py`. \n",
    " \n",
    " Due to the statistical nature of the cortex model, some tests might fail from time to time. These tests have the word _statistical_ in their description. If such a test fails, run the testsuite again. If that test fails again, there most likely is an issue. Tests, that do not have a _statistical_ flag in their description may never fail."
   ]
  },
  {
   "cell_type": "markdown",
   "metadata": {},
   "source": [
    "## Packages in this repository you will most likely directly interact with\n",
    "**single_cell_input_mapper**: Module for generating anatomical models, i.e. determining number and location of synapses and number and location of presynaptic cells\n",
    "\n",
    "**single_cell_parser**: High level interface to the NEURON simulator providing methods to perform single cell simulations with synaptic input. The anatomical constraints of the synaptic input are provided by the single_cell_input_mapper module.\n",
    "\n",
    "**simrun2**: high level interface to the single_cell_parser module providing methods for common simulation tasks. It also provides methods for building reduced models mimicing the full compartmental model.\n",
    "\n",
    "**model_data_base**: flexible database whose API mimics a python dictionary. It provides efficient and scalable methods to store and access simulation results at a terrabyte scale. It also generates metadata, indicating when the data was put in the database and the exact version of the in_silico_framework that was used at this timepoint. Simulation results from the single_cell_parser module can be imported and converted to a high performance binary format. Afterwards the data is accessible using the pandas data analysis library and dask. \n",
    "\n",
    "**single_cell_analyzer**: library for analysis of single_cell_parser results. Use this module, if you specifically want to analyze a single simulation run. If you want to analyze the results of many simulation trails, the recomended way is to import the simulation results in a model_data_base and use pandas and dask for the analysis afterwards."
   ]
  },
  {
   "cell_type": "markdown",
   "metadata": {},
   "source": [
    "## Other packages"
   ]
  },
  {
   "cell_type": "markdown",
   "metadata": {},
   "source": [
    "**mechanisms**: NEURON mechanisms (Ion channels, synapses, ...) used by the neuron simulator. If you run `import mechanisms`, these mechanisms are beeing compiled. Make sure, that you have the nrnivmodl executable in your path, otherwise this will not work\n",
    "\n",
    "**test_simrun2, test_model_data_base, ...**: tests for the respective modules. They can be run by calling `python run_tests.py`"
   ]
  },
  {
   "cell_type": "markdown",
   "metadata": {},
   "source": [
    "## How should I interact with these packages?"
   ]
  },
  {
   "cell_type": "markdown",
   "metadata": {},
   "source": [
    "The recommended way is to use the `Interface` module which glues together all these packages mentioned above to one *Application*: It provides the API necessary to perform simulation tasks and provides additional methods that improve interactivity."
   ]
  },
  {
   "cell_type": "code",
   "execution_count": 1,
   "metadata": {
    "collapsed": false
   },
   "outputs": [
    {
     "name": "stdout",
     "output_type": "stream",
     "text": [
      "Current version: v0.0.1+94.g8d54a85.dirty\n",
      "Current pid: 16085\n",
      "Loading mechanisms:\n",
      "setting up local multiprocessing framework ... done\n"
     ]
    },
    {
     "name": "stderr",
     "output_type": "stream",
     "text": [
      "/nas1/Data_arco/project_src/in_silico_framework/Interface.py:154: UserWarning: The source folder has uncommited changes!\n",
      "  if get_versions()['dirty']: warnings.warn('The source folder has uncommited changes!')\n"
     ]
    }
   ],
   "source": [
    "import Interface as I"
   ]
  },
  {
   "cell_type": "markdown",
   "metadata": {},
   "source": [
    "Now, you can access the relevant packages without the need to import them seperately:"
   ]
  },
  {
   "cell_type": "code",
   "execution_count": 3,
   "metadata": {
    "collapsed": false
   },
   "outputs": [
    {
     "data": {
      "text/plain": [
       "<module 'seaborn' from '/nas1/Data_arco/prgr/Anaconda2/lib/python2.7/site-packages/seaborn/__init__.pyc'>"
      ]
     },
     "execution_count": 3,
     "metadata": {},
     "output_type": "execute_result"
    }
   ],
   "source": [
    "I.scp # single_cell_parser package\n",
    "I.sca # single_cell_analyzer package\n",
    "I.ModelDataBase # main class of model_data_base\n",
    "I.map_singlecell_inputs # compute anatomical model for a given cell morphology in barrel cortex \n",
    "I.simrun_run_new_simulations # default function for running single cell simulations with well constrained synaptic input\n",
    "I.mdb_init_simrun_general.init # default method to initialize a model data base with existing simulation results\n",
    "I.mdb_init_simrun_general.optimize # converts the data to speed optimized compressed binary format\n",
    "I.synapse_activation_binning_dask # parallelized binning of synapse activation data\n",
    "I.rm_get_kernel # create reduced lda model from simulation data\n",
    "\n",
    "I.silence_stdout # context manager and decorator to silence functions\n",
    "I.cache # decorator to cache functions\n",
    "\n",
    "I.cluster() # get distributed.Client() object for parallel execution\n",
    "\n",
    "I.np # numpy\n",
    "I.pd # pandas\n",
    "I.dask # dask\n",
    "I.distributed # distributed\n",
    "I.sns # seaborn\n",
    "# ..."
   ]
  },
  {
   "cell_type": "markdown",
   "metadata": {},
   "source": [
    "Use autocompletion of IPython to find the other modules. To view the documentation, use a questionamrk, e.g."
   ]
  },
  {
   "cell_type": "code",
   "execution_count": 37,
   "metadata": {
    "collapsed": true
   },
   "outputs": [],
   "source": [
    "I.mdb_init_simrun_general.init?"
   ]
  },
  {
   "cell_type": "markdown",
   "metadata": {},
   "source": [
    "# Quickstart: How to run a simulation?"
   ]
  },
  {
   "cell_type": "markdown",
   "metadata": {},
   "source": [
    "To run single cell simulations, we first need a hoc morphology file of that cell. Additionally, we need to know, how to distribute ion channels on that morphology, such that the cell has the desired biophysical properties. \n",
    "\n",
    "In the getting started subfolder of this repository, there is such a hoc-morphology and the corresponding parameter file. \n",
    "    - anatomical_constraints/86_L5_CDK20041214_nr3L5B_dend_PC_neuron_transform_registered_C2center.hoc\n",
    "    - biophysical_constraints/86_CDK_20041214_BAC_run5_soma_Hay2013_C2center_apic_rec.param\n",
    "    \n",
    "**Let's have a closer look at the parameters.**\n",
    "    "
   ]
  },
  {
   "cell_type": "code",
   "execution_count": 3,
   "metadata": {
    "collapsed": false,
    "scrolled": true
   },
   "outputs": [],
   "source": [
    "from getting_started import getting_started_dir # path to getting started folder\n",
    "cell_param = I.os.path.join(getting_started_dir, \\\n",
    "                            'biophysical_constraints', \\\n",
    "                            '86_CDK_20041214_BAC_run5_soma_Hay2013_C2center_apic_rec.param')\n",
    "cell_param = I.scp.build_parameters(cell_param) # this is the main method to load in parameterfiles"
   ]
  },
  {
   "cell_type": "markdown",
   "metadata": {},
   "source": [
    "`cell_param` is a nested dictionary. The biophysical parameters are described in the *neuron* key. Here, we specify ion channel conductances for all structures of the cell:"
   ]
  },
  {
   "cell_type": "code",
   "execution_count": 4,
   "metadata": {
    "collapsed": false
   },
   "outputs": [
    {
     "data": {
      "text/plain": [
       "['Myelin', 'Soma', 'AIS', 'filename', 'Dendrite', 'ApicalDendrite']"
      ]
     },
     "execution_count": 4,
     "metadata": {},
     "output_type": "execute_result"
    }
   ],
   "source": [
    "cell_param.neuron.keys()"
   ]
  },
  {
   "cell_type": "markdown",
   "metadata": {},
   "source": [
    "The key *filename* points to the hoc morphology file. The others define ion channel conductances for the respective part of the cell. Let's figure out, what channels can be found in the basal dendrite:"
   ]
  },
  {
   "cell_type": "code",
   "execution_count": 43,
   "metadata": {
    "collapsed": false
   },
   "outputs": [
    {
     "data": {
      "text/plain": [
       "{'mechanisms': {'global': {},\n",
       "  'range': {'Ih': {'gIhbar': 0.0002, 'spatial': 'uniform'},\n",
       "   'pas': {'e': -90.0, 'g': 6.31e-05, 'spatial': 'uniform'}}},\n",
       " 'properties': {'Ra': 100.0, 'cm': 2.0}}"
      ]
     },
     "execution_count": 43,
     "metadata": {},
     "output_type": "execute_result"
    }
   ],
   "source": [
    "cell_param.neuron.Dendrite"
   ]
  },
  {
   "cell_type": "markdown",
   "metadata": {},
   "source": [
    "Here you see that we only have the passive conductance and If channels, both uniformly distributed along the dendrite. There are much more channels in the apical dendrite. A comprehensive description of the other parts of the cell parameter file can be found here: #todo"
   ]
  },
  {
   "cell_type": "markdown",
   "metadata": {},
   "source": [
    "## **Now, we can do some current injection experiments to analyze the biophysical properties of the model.** "
   ]
  },
  {
   "cell_type": "code",
   "execution_count": 6,
   "metadata": {
    "collapsed": false
   },
   "outputs": [],
   "source": [
    "# set up cell. This creates a lot of (interesting) diagnostic output. Remove the context manager to see it\n",
    "with I.silence_stdout:\n",
    "    cell = I.scp.create_cell(cell_param.neuron)"
   ]
  },
  {
   "cell_type": "markdown",
   "metadata": {},
   "source": [
    "Let's figure out some general properties of the cell"
   ]
  },
  {
   "cell_type": "code",
   "execution_count": 5,
   "metadata": {
    "collapsed": false
   },
   "outputs": [
    {
     "name": "stdout",
     "output_type": "stream",
     "text": [
      "total length = 16340 micron\n",
      "total dendritic length = 15290 micron\n",
      "soma area = 916 micron^2\n",
      "apical dendrite area = 16855 micron^2\n"
     ]
    }
   ],
   "source": [
    "print 'total length = {:.0f} micron'.format(sum([sec.L for sec in cell.sections]))\n",
    "print 'total dendritic length = {:.0f} micron'.format(sum([sec.L for sec in cell.sections \\\n",
    "                                                           if sec.label in ['Soma', 'Dendrite', 'ApicalDendrite']]))\n",
    "print 'soma area = {:.0f} micron^2'.format(sum([sec.area for sec in cell.sections if sec.label == 'Soma']))\n",
    "print 'apical dendrite area = {:.0f} micron^2'.format(sum([sec.area for sec in cell.sections \\\n",
    "                                                           if sec.label == 'ApicalDendrite']))"
   ]
  },
  {
   "cell_type": "markdown",
   "metadata": {},
   "source": [
    "The respective hoc morphology has a very thin apical dendrite which does not allow electric coupling between apical dendrite and soma. We figured that it is necessary to scale up the diameter of the trunc."
   ]
  },
  {
   "cell_type": "code",
   "execution_count": 44,
   "metadata": {
    "collapsed": false
   },
   "outputs": [
    {
     "name": "stdout",
     "output_type": "stream",
     "text": [
      "apical dendrite area = 27212 micron^2\n"
     ]
    }
   ],
   "source": [
    "# load scaled hoc morphology\n",
    "cell_param.neuron.filename = I.os.path.join(getting_started_dir, 'anatomical_constraints', \\\n",
    "                            '86_L5_CDK20041214_nr3L5B_dend_PC_neuron_transform_registered_C2center_scaled_diameters.hoc')\n",
    "with I.silence_stdout:\n",
    "    cell = I.scp.create_cell(cell_param.neuron)\n",
    "print 'apical dendrite area = {:.0f} micron^2'.format(sum([sec.area for sec in cell.sections \\\n",
    "                                                           if sec.label == 'ApicalDendrite']))"
   ]
  },
  {
   "cell_type": "markdown",
   "metadata": {},
   "source": [
    "Now, we put a pipette at the soma of the cell and inject a short rectangular current"
   ]
  },
  {
   "cell_type": "code",
   "execution_count": 45,
   "metadata": {
    "collapsed": true
   },
   "outputs": [],
   "source": [
    "import neuron\n",
    "h = neuron.h"
   ]
  },
  {
   "cell_type": "code",
   "execution_count": 8,
   "metadata": {
    "collapsed": true
   },
   "outputs": [],
   "source": [
    "iclamp = h.IClamp(0.5, sec=cell.soma)\n",
    "iclamp.delay = 150 # give the cell time to reach steady state\n",
    "iclamp.dur = 5 # 5ms rectangular pulse\n",
    "iclamp.amp = 1.9 # 1.9 ?? todo ampere"
   ]
  },
  {
   "cell_type": "code",
   "execution_count": 36,
   "metadata": {
    "collapsed": false
   },
   "outputs": [
    {
     "name": "stdout",
     "output_type": "stream",
     "text": [
      "CPU times: user 2.65 s, sys: 0 ns, total: 2.65 s\n",
      "Wall time: 2.66 s\n"
     ]
    },
    {
     "data": {
      "image/png": "[encoded data removed]",
      "text/plain": [
       "<matplotlib.figure.Figure at 0x2b2f63ede490>"
      ]
     },
     "metadata": {},
     "output_type": "display_data"
    }
   ],
   "source": [
    "%time I.scp.init_neuron_run(cell_param.sim, vardt=True) # run the simulation \n",
    "%matplotlib inline\n",
    "I.sns.set_style('ticks')\n",
    "I.plt.plot(cell.tVec, cell.soma.recVList[0], c = 'k')\n",
    "I.sns.despine()"
   ]
  },
  {
   "cell_type": "markdown",
   "metadata": {},
   "source": [
    "How does the cell respond to different amplitudes of the step current?"
   ]
  },
  {
   "cell_type": "code",
   "execution_count": 11,
   "metadata": {
    "collapsed": false
   },
   "outputs": [],
   "source": [
    "cell_param.sim.tStop = 3000\n",
    "iclamp.dur = 2000\n",
    "iclamp.delay = 500\n",
    "simresult = {}\n",
    "for amp in [0.619, 0.793, 1.507]:\n",
    "    iclamp.amp = amp\n",
    "    I.scp.init_neuron_run(cell_param.sim, vardt=True)\n",
    "    simresult[amp] = cell.tVec, cell.soma.recVList[0]"
   ]
  },
  {
   "cell_type": "code",
   "execution_count": 13,
   "metadata": {
    "collapsed": false
   },
   "outputs": [
    {
     "data": {
      "image/png": "[encoded data removed]",
      "text/plain": [
       "<matplotlib.figure.Figure at 0x2b4b46e9ef50>"
      ]
     },
     "metadata": {},
     "output_type": "display_data"
    }
   ],
   "source": [
    "fig = I.plt.figure(figsize = (9,3), dpi = 200)\n",
    "for lv, k in enumerate(sorted(simresult.keys())):\n",
    "    ax = fig.add_subplot(1,3,lv+1)\n",
    "    ax.plot(*simresult[k], label = k, c = 'k')\n",
    "    ax.legend(loc = 'upper right')\n",
    "    ax.set_ylim([-90, 40])\n",
    "    ax.set_xlabel('t / ms')\n",
    "    if lv == 0:\n",
    "        ax.set_ylabel('Vm / mV')\n",
    "I.sns.despine()"
   ]
  },
  {
   "cell_type": "markdown",
   "metadata": {},
   "source": [
    "Now let's place a pipette on the apical trunk at a soma distance of 620 microns and inject current synchronously at this position and at the soma. For the current at the soma, we choose a rectangular pulse again. The current at the apical injection site should resemble the shape of a evoked post synaptic potential (epsp). Have a look at the folder mechanisms/synapses to see how epsp is implemented in hoc code."
   ]
  },
  {
   "cell_type": "code",
   "execution_count": 9,
   "metadata": {
    "collapsed": false
   },
   "outputs": [],
   "source": [
    "# map between sections and somadistance\n",
    "sec_dist_dict = {cell.distance_to_soma(sec, 1.0): sec for sec in cell.sections}\n",
    "\n",
    "def get_section_at_distance(cell, dist):\n",
    "    dummy = {k - dist: v for k,v in sec_dist_dict.iteritems() if k > dist}\n",
    "    closest_sec = dummy[min(dummy)]\n",
    "    x = (dist - cell.distance_to_soma(closest_sec, 0.0)) / closest_sec.L\n",
    "    return x, closest_sec"
   ]
  },
  {
   "cell_type": "code",
   "execution_count": 10,
   "metadata": {
    "collapsed": false
   },
   "outputs": [
    {
     "name": "stdout",
     "output_type": "stream",
     "text": [
      "CPU times: user 2.55 s, sys: 8 ms, total: 2.56 s\n",
      "Wall time: 2.57 s\n"
     ]
    }
   ],
   "source": [
    "cell_param.sim.tStop = 500\n",
    "x, sec = get_section_at_distance(cell, 620)\n",
    "\n",
    "iclamp = h.IClamp(0.5, sec=cell.soma)\n",
    "iclamp.delay = 295 # give the cell time to reach steady state\n",
    "iclamp.dur = 5 # 5ms rectangular pulse\n",
    "iclamp.amp = 1.9 # 1.9 ?? todo ampere\n",
    "\n",
    "iclamp2 = h.epsp(x, sec=sec)\n",
    "iclamp2.onset = 300\n",
    "iclamp2.imax = 0.5\n",
    "iclamp2.tau0 = 1.0 # rise time constant\n",
    "iclamp2.tau1 = 5 # decay time constant\n",
    "cell.iclamp2 = iclamp2\n",
    "\n",
    "%time I.scp.init_neuron_run(cell_param.sim, vardt=True) # run the simulation "
   ]
  },
  {
   "cell_type": "code",
   "execution_count": 37,
   "metadata": {
    "collapsed": false
   },
   "outputs": [
    {
     "data": {
      "image/png": "[encoded data removed]",
      "text/plain": [
       "<matplotlib.figure.Figure at 0x2b2f928f8190>"
      ]
     },
     "metadata": {},
     "output_type": "display_data"
    }
   ],
   "source": [
    "I.plt.plot(cell.tVec, cell.soma.recVList[0], c = 'k')\n",
    "I.sns.despine()"
   ]
  },
  {
   "cell_type": "markdown",
   "metadata": {},
   "source": [
    "So far, we have only visualized the somatic membrane potential. Now, we create a short animation, where the whole dendrite is visualized (x-axis: soma distance of dendrite segment, y-axis: Vm)"
   ]
  },
  {
   "cell_type": "code",
   "execution_count": 12,
   "metadata": {
    "collapsed": true
   },
   "outputs": [],
   "source": [
    "mdb = I.ModelDataBase('/home/abast/my_mdb/') # create a ModelDataBase to save paths to the animation files"
   ]
  },
  {
   "cell_type": "markdown",
   "metadata": {},
   "source": [
    "see section [ModelDataBase](#ModelDataBase) for a more detailed descritpion"
   ]
  },
  {
   "cell_type": "code",
   "execution_count": 18,
   "metadata": {
    "collapsed": false
   },
   "outputs": [
    {
     "name": "stdout",
     "output_type": "stream",
     "text": [
      "files are here: animation/animation_e4V2zg/*.png\n"
     ]
    },
    {
     "data": {
      "text/html": [
       "<script language=\"javascript\">\n",
       "  /* ===================================================================================== */\n",
       "  /*  Copied and adpated from https://github.com/jakevdp/JSAnimation                       */\n",
       "  /*  Thanks to Jake Vanderplas                                                            */\n",
       "  /*  Changes:                                                                             */\n",
       "  /*    - now defined as a jinja2 template with variables:                                 */\n",
       "  /*             - listFrames                                                              */\n",
       "  /*             - interval                                                                */\n",
       "  /*             - style                                                                   */\n",
       "  /*    - now has embedded icons as base64 png images                                      */\n",
       "  /*    - anim_frame_slider onchange --> oninput event                                     */\n",
       "  /*                                                                                       */\n",
       "  /*   Patrick Brockmann - https://github.com/PBrockmann/ipython_animation_javascript_tool */\n",
       "  /* ===================================================================================== */\n",
       "  /* Define the Animation class */\n",
       "  function Animation(frames, img_id, slider_id, loop_select_id){\n",
       "    this.img_id = img_id;\n",
       "    this.slider_id = slider_id;\n",
       "    this.loop_select_id = loop_select_id;\n",
       "    this.interval = 10;\n",
       "    this.current_frame = 0;\n",
       "    this.direction = 0;\n",
       "    this.timer = null;\n",
       "    this.frames = new Array(frames.length);\n",
       "    for (var i=0; i<frames.length; i++)\n",
       "    {\n",
       "     this.frames[i] = new Image();\n",
       "     this.frames[i].src = frames[i];\n",
       "    }\n",
       "    document.getElementById(this.slider_id).max = this.frames.length - 1;\n",
       "    this.set_frame(this.current_frame);\n",
       "  }\n",
       "  Animation.prototype.get_loop_state = function(){\n",
       "    var button_group = document[this.loop_select_id].state;\n",
       "    for (var i = 0; i < button_group.length; i++) {\n",
       "        var button = button_group[i];\n",
       "        if (button.checked) {\n",
       "            return button.value;\n",
       "        }\n",
       "    }\n",
       "    return undefined;\n",
       "  }\n",
       "  Animation.prototype.set_frame = function(frame){\n",
       "    this.current_frame = frame;\n",
       "    document.getElementById(this.img_id).src = this.frames[this.current_frame].src;\n",
       "    document.getElementById(this.slider_id).value = this.current_frame;\n",
       "  }\n",
       "  Animation.prototype.next_frame = function()\n",
       "  {\n",
       "    this.set_frame(Math.min(this.frames.length - 1, this.current_frame + 1));\n",
       "  }\n",
       "  Animation.prototype.previous_frame = function()\n",
       "  {\n",
       "    this.set_frame(Math.max(0, this.current_frame - 1));\n",
       "  }\n",
       "  Animation.prototype.first_frame = function()\n",
       "  {\n",
       "    this.set_frame(0);\n",
       "  }\n",
       "  Animation.prototype.last_frame = function()\n",
       "  {\n",
       "    this.set_frame(this.frames.length - 1);\n",
       "  } \n",
       "  Animation.prototype.slower = function()\n",
       "  {\n",
       "    this.interval /= 0.7;\n",
       "    if(this.direction > 0){this.play_animation();}\n",
       "    else if(this.direction < 0){this.reverse_animation();}\n",
       "  }\n",
       "  Animation.prototype.faster = function()\n",
       "  {\n",
       "    this.interval *= 0.7;\n",
       "    if(this.direction > 0){this.play_animation();}\n",
       "    else if(this.direction < 0){this.reverse_animation();}\n",
       "  }\n",
       "  Animation.prototype.anim_step_forward = function()\n",
       "  {\n",
       "    this.current_frame += 1;\n",
       "    if(this.current_frame < this.frames.length){\n",
       "      this.set_frame(this.current_frame);\n",
       "    }else{\n",
       "      var loop_state = this.get_loop_state();\n",
       "      if(loop_state == \"loop\"){\n",
       "        this.first_frame();\n",
       "      }else if(loop_state == \"reflect\"){\n",
       "        this.last_frame();\n",
       "        this.reverse_animation();\n",
       "      }else{\n",
       "        this.pause_animation();\n",
       "        this.last_frame();\n",
       "      }\n",
       "    }\n",
       "  }\n",
       "  Animation.prototype.anim_step_reverse = function()\n",
       "  {\n",
       "    this.current_frame -= 1;\n",
       "    if(this.current_frame >= 0){\n",
       "      this.set_frame(this.current_frame);\n",
       "    }else{\n",
       "      var loop_state = this.get_loop_state();\n",
       "      if(loop_state == \"loop\"){\n",
       "        this.last_frame();\n",
       "      }else if(loop_state == \"reflect\"){\n",
       "        this.first_frame();\n",
       "        this.play_animation();\n",
       "      }else{\n",
       "        this.pause_animation();\n",
       "        this.first_frame();\n",
       "      }\n",
       "    }\n",
       "  }\n",
       "  Animation.prototype.pause_animation = function()\n",
       "  {\n",
       "    this.direction = 0;\n",
       "    if (this.timer){\n",
       "      clearInterval(this.timer);\n",
       "      this.timer = null;\n",
       "    }\n",
       "  }\n",
       "  Animation.prototype.play_animation = function()\n",
       "  {\n",
       "    this.pause_animation();\n",
       "    this.direction = 1;\n",
       "    var t = this;\n",
       "    if (!this.timer) this.timer = setInterval(function(){t.anim_step_forward();}, this.interval);\n",
       "  }\n",
       "  Animation.prototype.reverse_animation = function()\n",
       "  {\n",
       "    this.pause_animation();\n",
       "    this.direction = -1;\n",
       "    var t = this;\n",
       "    if (!this.timer) this.timer = setInterval(function(){t.anim_step_reverse();}, this.interval);\n",
       "  }\n",
       "</script>\n",
       "\n",
       "<div class=\"animation\" align=\"center\">\n",
       "    <img id=\"anim_img_7482483737210\" >\n",
       "    <br>\n",
       "    <input id=\"anim_frame_slider_7482483737210\" type=\"range\" style=\"width:350px\" name=\"points\" min=\"0\" max=\"1\" step=\"1\" value=\"0\" oninput=\"anim_7482483737210.set_frame(parseInt(this.value));\"></input>\n",
       "    <br>\n",
       "    <button onclick=\"anim_7482483737210.slower()\">&#8211;</button>\n",
       "    <button onclick=\"anim_7482483737210.first_frame()\"><img src=\"data:image/png;base64,iVBORw0KGgoAAAANSUhEUgAAABQAAAAUCAQAAAAngNWGAAAAAXNSR0IArs4c6QAAAAJiS0dEAP+Hj8y/AAAACXBIWXMAAAsTAAALEwEAmpwYAAAAB3RJTUUH3QURCAgaeZk4EQAAASlJREFUKM/dkj9LQnEUhp9zr3bpj1uBcKGiJWxzLWivKAIRjIhcCqcgqJbKRagPICiVSVEuNTu0tLYGUg4tkRGUdxLJ0u79Ndxr5FfwTO/L+xzO4XCgO+v2T70AFU+/A/Dhmlzg6Pr0DKAMwOH4zQxAAbAkv2xNeF2RoQUVc1ytgttXUbWVdN1dOPE8pz4j4APQsdFtKA0WY6vpKjqvVciHnvZTS6Ja4HgggJLs7MHxl9nCh8NYcO+iGG0agiaC4h9oa6Vsw2yiK+QHSZT934YoEQABNBcTNDszsrhm1m1B+bFS86PT6QFppx6oeSaeOwlMXRp1h4aK13Y2kuHhUo9ykPboPvFjeEvsrhTMt3ylHyB0r8KZyYdCrbfj4OveoHMANjuyx+76rV+/blxKMZUnLgAAAABJRU5ErkJggg==\"/></button>\n",
       "    <button onclick=\"anim_7482483737210.previous_frame()\"><img src=\"data:image/png;base64,iVBORw0KGgoAAAANSUhEUgAAABQAAAAUCAQAAAAngNWGAAAAAXNSR0IArs4c6QAAAAJiS0dEAP+Hj8y/AAAACXBIWXMAAAsTAAALEwEAmpwYAAAAB3RJTUUH3QURCAgyTCyQ6wAAANRJREFUKM9jYBjO4AiUfgzFGGAp4+yayUvX6jMwMDCsYmBgOCS4OAOrSYmMgcc8/pd5Q3irC+Neh/1AlmeBMVgZmP8yMLD8/c/cqv9r90whzv/MX7Eq/MfAwMDIwCuZdfSV8U8WDgZGRmYGrAoZGRgY/jO8b3sj/J2F6T8j4z80pzEhmIwMjAxsSbqqlkeZGP//Z8SlkJnhPwMjwx/Guoe1NhmRwk+YGH5jV8jOwMPHzcDBysAwh8FrxQwtPU99HrwBXsnAwMDAsJiBgYGBoZ1xmKYqALHhMpn1o7igAAAAAElFTkSuQmCC\"/></button>\n",
       "    <button onclick=\"anim_7482483737210.reverse_animation()\"><img src=\"data:image/png;base64,iVBORw0KGgoAAAANSUhEUgAAABQAAAAUCAQAAAAngNWGAAAAAXNSR0IArs4c6QAAAAJiS0dEAP+Hj8y/AAAACXBIWXMAAAsTAAALEwEAmpwYAAAAB3RJTUUH3QURCAgmVvZElgAAAVFJREFUKM+t0k8ow3EYx/H3s/2aLDUSZctFkgsHEi1XLi5ukpPSWsuJklwclsPSsDKFi7MSJ0I5qF2GHO2m0FY7+BdNv7Y9DpuxDSt5vsfvq+fT9/k+8D8VBxIAWH6H0ead4Qb5BRwCENoceZi5Stl/6BgCBmtWhjzxg4mUQ02rAhil7JgB9tze7aTLxFAKsUUd14B9ZzCyFUk401gQyQJaDNcBHwv7t7ETd0ZVQFEEzcNCdE/1wtj15imGWlEB8qkf2QaAWjbG/bPSamIDyX65/iwDIFx7tWjUvWCoSo5oGbYATN7PORt7W9IZEQXJH8ohuN7C0VVX91KNqYhq4a1lEGJI0j892tazXCWQRUpwAbYDcHczPxXuajq3mbnhfANz5eOJxsuNvs7+jud0UcuyL3QAkuEMx4rnIvBYq1JhEwPAUb3fG7x8tVdc292/7Po7f2VqA+Yz7ZwAAAAASUVORK5CYII=\"/></button>\n",
       "    <button onclick=\"anim_7482483737210.pause_animation()\"><img src=\"data:image/png;base64,iVBORw0KGgoAAAANSUhEUgAAABQAAAAUCAQAAAAngNWGAAAAAXNSR0IArs4c6QAAAAJiS0dEAP+Hj8y/AAAACXBIWXMAAAsTAAALEwEAmpwYAAAAB3RJTUUH3QURCAkR91DQ2AAAAKtJREFUKM9jYCANTEVib2K4jcRbzQihGWEC00JuNjN8Z2Q0Zo3VYWA4lL005venH9+c3ZK5IfIsMIXMBtc12Bj+MMgxMDAwMPzWe2TBzPCf4SLcZCYY4/9/RgZGBiaYFf8gljFhKiQERhUOeoX/Gf8y/GX4y/APmlj+Mfxj+MfwH64Qnnq0zr9fyfLrPzP3eQYGBobvk5x4GX4xMIij23gdib0cRWYHiVmAAQDK5ircshCbHQAAAABJRU5ErkJggg==\"/></button>\n",
       "    <button onclick=\"anim_7482483737210.play_animation()\"><img src=\"data:image/png;base64,iVBORw0KGgoAAAANSUhEUgAAABQAAAAUCAQAAAAngNWGAAAAAXNSR0IArs4c6QAAAAJiS0dEAP+Hj8y/AAAACXBIWXMAAAsTAAALEwEAmpwYAAAAB3RJTUUH3QURCAkEmo00MwAAAS9JREFUKM+tkj1IQmEUhp9j94LQj0FD4RRBLdLQ3ftb26PRcCiQIIiIDFwKC0OhaAiam5wVDBpqCKohQojMLYzaAiUatOtpuQrKVQl64fu+4Xt4OLwc+Fs+nNM16jsPAWS6gZXggoZfXmfhog3hcZ6aTXF87Sp68OmH4/YggAo8bmfyyeh6Z1AAKPVldyO1+Iz2uILq3AriJSe3l+H7aj+cuRnrTsVDxSxay+VYbMDnCtZxxQOU9G4nlU9E1HQBxRkCQMRGRnIbpxMARkvxCIoAorYMMrq0mJ0qu4COUW3xyVDqJC4P+86P0ewDQbQqgevhlc2C8ETApXAEFLzvwa3EXG9BoIE1GQUbv1h7k4fTXxBu6cKgUbX5M3ZzNC+a7rQ936HV56SlRpcle+Mf8wvgJ16zo/4BtQAAAABJRU5ErkJggg==\"/></button>\n",
       "    <button onclick=\"anim_7482483737210.next_frame()\"><img src=\"data:image/png;base64,iVBORw0KGgoAAAANSUhEUgAAABQAAAAUCAQAAAAngNWGAAAAAXNSR0IArs4c6QAAAAJiS0dEAP+Hj8y/AAAACXBIWXMAAAsTAAALEwEAmpwYAAAAB3RJTUUH3QURCAkd/uac8wAAAMhJREFUKM9jYBie4DEUQ8B+fEq3+3UrMzAwMFxjYGBgYJizYubaOUxYFUaXh/6vWfRfEMIL/+//P5gZJoei4/f/7wxnY1PeNUXdE2RgYGZgYoCrY2BBVsjKwMDAwvCS4f3SG/dXxm5gYESSQ1HIwvCPgZmB8f8Pxv+Kxxb/YfiPJIdi9T8GJgaG/38ZFd4Fx0xUYsZt4h8GBgb2D2bLy7KnMTAwMEIxFoVCXIYr1IoDnkF4XAysqNIwUMDAwMDAsADKS2NkGL4AAIARMlfNIfZMAAAAAElFTkSuQmCC\"/></button>\n",
       "    <button onclick=\"anim_7482483737210.last_frame()\"><img src=\"data:image/png;base64,iVBORw0KGgoAAAANSUhEUgAAABQAAAAUCAQAAAAngNWGAAAAAXNSR0IArs4c6QAAAAJiS0dEAP+Hj8y/AAAACXBIWXMAAAsTAAALEwEAmpwYAAAAB3RJTUUH3QURCAknOOpFQQAAAS9JREFUKM/dkrEvQ3EQxz/33mtoQxiYpANbLU26NAabSCcSUouGBVNDjYQaOiDpIEiKjURIw2Kx04hEYmkHEpGoJpSISaXq9Wd4P03/ht5y98197/u9XA4aK4rAWw3lgWddZ3S+/G9mEovtAB8AHE4pgTQAx8PbJweRmsq6GimmNpxaNYXVzMNNCI6A2figimwCGACK786zuWgh3qcsKf/w0pM4X0m/doNVFVzVGlEQsdRj193VxEWpH0RsdRu+zi3tVMqCAsDShoiYqiSV4OouVDFEqS9Pbiyg7vV62lpQ2BJ4Gg0meg0MbNpkYG/e+540NNFyrE1a8qHk5BaAjfnrzUaHfAWImVrLIXbgnx4/9X06s35cweWsVACa3a24PVp0X+rPv1aHFnSONdiL8Qci0lzwpOM5sQAAAABJRU5ErkJggg==\"/></button>\n",
       "    <button onclick=\"anim_7482483737210.faster()\">+</button>\n",
       "  <form action=\"#n\" name=\"loop_select_7482483737210\" class=\"anim_control\">\n",
       "    <input type=\"radio\" name=\"state\" value=\"once\"> Once </input>\n",
       "    <input type=\"radio\" name=\"state\" value=\"loop\" checked> Loop </input>\n",
       "    <input type=\"radio\" name=\"state\" value=\"reflect\"> Reflect </input>\n",
       "  </form>\n",
       "</div>\n",
       "\n",
       "\n",
       "<script language=\"javascript\">\n",
       "  /* Instantiate the Animation class. */\n",
       "  /* The IDs given should match those used in the template above. */\n",
       "  var img_id = \"anim_img_7482483737210\";\n",
       "  var slider_id = \"anim_frame_slider_7482483737210\";\n",
       "  var loop_select_id = \"loop_select_7482483737210\";\n",
       "  var frames = ['animation/animation_e4V2zg/000000.png', 'animation/animation_e4V2zg/000001.png', 'animation/animation_e4V2zg/000002.png', 'animation/animation_e4V2zg/000003.png', 'animation/animation_e4V2zg/000004.png', 'animation/animation_e4V2zg/000005.png', 'animation/animation_e4V2zg/000006.png', 'animation/animation_e4V2zg/000007.png', 'animation/animation_e4V2zg/000008.png', 'animation/animation_e4V2zg/000009.png', 'animation/animation_e4V2zg/000010.png', 'animation/animation_e4V2zg/000011.png', 'animation/animation_e4V2zg/000012.png', 'animation/animation_e4V2zg/000013.png', 'animation/animation_e4V2zg/000014.png', 'animation/animation_e4V2zg/000015.png', 'animation/animation_e4V2zg/000016.png', 'animation/animation_e4V2zg/000017.png', 'animation/animation_e4V2zg/000018.png', 'animation/animation_e4V2zg/000019.png', 'animation/animation_e4V2zg/000020.png', 'animation/animation_e4V2zg/000021.png', 'animation/animation_e4V2zg/000022.png', 'animation/animation_e4V2zg/000023.png', 'animation/animation_e4V2zg/000024.png', 'animation/animation_e4V2zg/000025.png', 'animation/animation_e4V2zg/000026.png', 'animation/animation_e4V2zg/000027.png', 'animation/animation_e4V2zg/000028.png', 'animation/animation_e4V2zg/000029.png', 'animation/animation_e4V2zg/000030.png', 'animation/animation_e4V2zg/000031.png', 'animation/animation_e4V2zg/000032.png', 'animation/animation_e4V2zg/000033.png', 'animation/animation_e4V2zg/000034.png', 'animation/animation_e4V2zg/000035.png', 'animation/animation_e4V2zg/000036.png', 'animation/animation_e4V2zg/000037.png', 'animation/animation_e4V2zg/000038.png', 'animation/animation_e4V2zg/000039.png', 'animation/animation_e4V2zg/000040.png', 'animation/animation_e4V2zg/000041.png', 'animation/animation_e4V2zg/000042.png', 'animation/animation_e4V2zg/000043.png', 'animation/animation_e4V2zg/000044.png', 'animation/animation_e4V2zg/000045.png', 'animation/animation_e4V2zg/000046.png', 'animation/animation_e4V2zg/000047.png', 'animation/animation_e4V2zg/000048.png', 'animation/animation_e4V2zg/000049.png', 'animation/animation_e4V2zg/000050.png', 'animation/animation_e4V2zg/000051.png', 'animation/animation_e4V2zg/000052.png', 'animation/animation_e4V2zg/000053.png', 'animation/animation_e4V2zg/000054.png', 'animation/animation_e4V2zg/000055.png', 'animation/animation_e4V2zg/000056.png', 'animation/animation_e4V2zg/000057.png', 'animation/animation_e4V2zg/000058.png', 'animation/animation_e4V2zg/000059.png', 'animation/animation_e4V2zg/000060.png', 'animation/animation_e4V2zg/000061.png', 'animation/animation_e4V2zg/000062.png', 'animation/animation_e4V2zg/000063.png', 'animation/animation_e4V2zg/000064.png', 'animation/animation_e4V2zg/000065.png', 'animation/animation_e4V2zg/000066.png', 'animation/animation_e4V2zg/000067.png', 'animation/animation_e4V2zg/000068.png', 'animation/animation_e4V2zg/000069.png', 'animation/animation_e4V2zg/000070.png', 'animation/animation_e4V2zg/000071.png', 'animation/animation_e4V2zg/000072.png', 'animation/animation_e4V2zg/000073.png', 'animation/animation_e4V2zg/000074.png', 'animation/animation_e4V2zg/000075.png', 'animation/animation_e4V2zg/000076.png', 'animation/animation_e4V2zg/000077.png', 'animation/animation_e4V2zg/000078.png', 'animation/animation_e4V2zg/000079.png', 'animation/animation_e4V2zg/000080.png', 'animation/animation_e4V2zg/000081.png', 'animation/animation_e4V2zg/000082.png', 'animation/animation_e4V2zg/000083.png', 'animation/animation_e4V2zg/000084.png', 'animation/animation_e4V2zg/000085.png', 'animation/animation_e4V2zg/000086.png', 'animation/animation_e4V2zg/000087.png', 'animation/animation_e4V2zg/000088.png', 'animation/animation_e4V2zg/000089.png', 'animation/animation_e4V2zg/000090.png', 'animation/animation_e4V2zg/000091.png', 'animation/animation_e4V2zg/000092.png', 'animation/animation_e4V2zg/000093.png', 'animation/animation_e4V2zg/000094.png', 'animation/animation_e4V2zg/000095.png', 'animation/animation_e4V2zg/000096.png', 'animation/animation_e4V2zg/000097.png', 'animation/animation_e4V2zg/000098.png', 'animation/animation_e4V2zg/000099.png', 'animation/animation_e4V2zg/000100.png', 'animation/animation_e4V2zg/000101.png', 'animation/animation_e4V2zg/000102.png', 'animation/animation_e4V2zg/000103.png', 'animation/animation_e4V2zg/000104.png', 'animation/animation_e4V2zg/000105.png', 'animation/animation_e4V2zg/000106.png', 'animation/animation_e4V2zg/000107.png', 'animation/animation_e4V2zg/000108.png', 'animation/animation_e4V2zg/000109.png', 'animation/animation_e4V2zg/000110.png', 'animation/animation_e4V2zg/000111.png', 'animation/animation_e4V2zg/000112.png', 'animation/animation_e4V2zg/000113.png', 'animation/animation_e4V2zg/000114.png', 'animation/animation_e4V2zg/000115.png', 'animation/animation_e4V2zg/000116.png', 'animation/animation_e4V2zg/000117.png', 'animation/animation_e4V2zg/000118.png', 'animation/animation_e4V2zg/000119.png', 'animation/animation_e4V2zg/000120.png', 'animation/animation_e4V2zg/000121.png', 'animation/animation_e4V2zg/000122.png', 'animation/animation_e4V2zg/000123.png', 'animation/animation_e4V2zg/000124.png', 'animation/animation_e4V2zg/000125.png', 'animation/animation_e4V2zg/000126.png', 'animation/animation_e4V2zg/000127.png', 'animation/animation_e4V2zg/000128.png', 'animation/animation_e4V2zg/000129.png', 'animation/animation_e4V2zg/000130.png', 'animation/animation_e4V2zg/000131.png', 'animation/animation_e4V2zg/000132.png', 'animation/animation_e4V2zg/000133.png', 'animation/animation_e4V2zg/000134.png', 'animation/animation_e4V2zg/000135.png', 'animation/animation_e4V2zg/000136.png', 'animation/animation_e4V2zg/000137.png', 'animation/animation_e4V2zg/000138.png', 'animation/animation_e4V2zg/000139.png', 'animation/animation_e4V2zg/000140.png', 'animation/animation_e4V2zg/000141.png', 'animation/animation_e4V2zg/000142.png', 'animation/animation_e4V2zg/000143.png', 'animation/animation_e4V2zg/000144.png', 'animation/animation_e4V2zg/000145.png', 'animation/animation_e4V2zg/000146.png', 'animation/animation_e4V2zg/000147.png', 'animation/animation_e4V2zg/000148.png', 'animation/animation_e4V2zg/000149.png', 'animation/animation_e4V2zg/000150.png', 'animation/animation_e4V2zg/000151.png', 'animation/animation_e4V2zg/000152.png', 'animation/animation_e4V2zg/000153.png', 'animation/animation_e4V2zg/000154.png', 'animation/animation_e4V2zg/000155.png', 'animation/animation_e4V2zg/000156.png', 'animation/animation_e4V2zg/000157.png', 'animation/animation_e4V2zg/000158.png', 'animation/animation_e4V2zg/000159.png', 'animation/animation_e4V2zg/000160.png', 'animation/animation_e4V2zg/000161.png', 'animation/animation_e4V2zg/000162.png', 'animation/animation_e4V2zg/000163.png', 'animation/animation_e4V2zg/000164.png', 'animation/animation_e4V2zg/000165.png', 'animation/animation_e4V2zg/000166.png', 'animation/animation_e4V2zg/000167.png', 'animation/animation_e4V2zg/000168.png', 'animation/animation_e4V2zg/000169.png', 'animation/animation_e4V2zg/000170.png', 'animation/animation_e4V2zg/000171.png', 'animation/animation_e4V2zg/000172.png', 'animation/animation_e4V2zg/000173.png', 'animation/animation_e4V2zg/000174.png', 'animation/animation_e4V2zg/000175.png', 'animation/animation_e4V2zg/000176.png', 'animation/animation_e4V2zg/000177.png', 'animation/animation_e4V2zg/000178.png', 'animation/animation_e4V2zg/000179.png', 'animation/animation_e4V2zg/000180.png', 'animation/animation_e4V2zg/000181.png', 'animation/animation_e4V2zg/000182.png', 'animation/animation_e4V2zg/000183.png', 'animation/animation_e4V2zg/000184.png', 'animation/animation_e4V2zg/000185.png', 'animation/animation_e4V2zg/000186.png', 'animation/animation_e4V2zg/000187.png', 'animation/animation_e4V2zg/000188.png', 'animation/animation_e4V2zg/000189.png', 'animation/animation_e4V2zg/000190.png', 'animation/animation_e4V2zg/000191.png', 'animation/animation_e4V2zg/000192.png', 'animation/animation_e4V2zg/000193.png', 'animation/animation_e4V2zg/000194.png', 'animation/animation_e4V2zg/000195.png', 'animation/animation_e4V2zg/000196.png', 'animation/animation_e4V2zg/000197.png', 'animation/animation_e4V2zg/000198.png', 'animation/animation_e4V2zg/000199.png', 'animation/animation_e4V2zg/000200.png', 'animation/animation_e4V2zg/000201.png', 'animation/animation_e4V2zg/000202.png', 'animation/animation_e4V2zg/000203.png', 'animation/animation_e4V2zg/000204.png', 'animation/animation_e4V2zg/000205.png', 'animation/animation_e4V2zg/000206.png', 'animation/animation_e4V2zg/000207.png', 'animation/animation_e4V2zg/000208.png', 'animation/animation_e4V2zg/000209.png', 'animation/animation_e4V2zg/000210.png', 'animation/animation_e4V2zg/000211.png', 'animation/animation_e4V2zg/000212.png', 'animation/animation_e4V2zg/000213.png', 'animation/animation_e4V2zg/000214.png', 'animation/animation_e4V2zg/000215.png', 'animation/animation_e4V2zg/000216.png', 'animation/animation_e4V2zg/000217.png', 'animation/animation_e4V2zg/000218.png', 'animation/animation_e4V2zg/000219.png', 'animation/animation_e4V2zg/000220.png', 'animation/animation_e4V2zg/000221.png', 'animation/animation_e4V2zg/000222.png', 'animation/animation_e4V2zg/000223.png', 'animation/animation_e4V2zg/000224.png', 'animation/animation_e4V2zg/000225.png', 'animation/animation_e4V2zg/000226.png', 'animation/animation_e4V2zg/000227.png', 'animation/animation_e4V2zg/000228.png', 'animation/animation_e4V2zg/000229.png', 'animation/animation_e4V2zg/000230.png', 'animation/animation_e4V2zg/000231.png', 'animation/animation_e4V2zg/000232.png', 'animation/animation_e4V2zg/000233.png', 'animation/animation_e4V2zg/000234.png', 'animation/animation_e4V2zg/000235.png', 'animation/animation_e4V2zg/000236.png', 'animation/animation_e4V2zg/000237.png', 'animation/animation_e4V2zg/000238.png', 'animation/animation_e4V2zg/000239.png', 'animation/animation_e4V2zg/000240.png', 'animation/animation_e4V2zg/000241.png', 'animation/animation_e4V2zg/000242.png', 'animation/animation_e4V2zg/000243.png', 'animation/animation_e4V2zg/000244.png', 'animation/animation_e4V2zg/000245.png', 'animation/animation_e4V2zg/000246.png', 'animation/animation_e4V2zg/000247.png', 'animation/animation_e4V2zg/000248.png', 'animation/animation_e4V2zg/000249.png', 'animation/animation_e4V2zg/000250.png', 'animation/animation_e4V2zg/000251.png', 'animation/animation_e4V2zg/000252.png', 'animation/animation_e4V2zg/000253.png', 'animation/animation_e4V2zg/000254.png', 'animation/animation_e4V2zg/000255.png', 'animation/animation_e4V2zg/000256.png', 'animation/animation_e4V2zg/000257.png', 'animation/animation_e4V2zg/000258.png', 'animation/animation_e4V2zg/000259.png', 'animation/animation_e4V2zg/000260.png', 'animation/animation_e4V2zg/000261.png', 'animation/animation_e4V2zg/000262.png', 'animation/animation_e4V2zg/000263.png', 'animation/animation_e4V2zg/000264.png', 'animation/animation_e4V2zg/000265.png', 'animation/animation_e4V2zg/000266.png', 'animation/animation_e4V2zg/000267.png', 'animation/animation_e4V2zg/000268.png', 'animation/animation_e4V2zg/000269.png', 'animation/animation_e4V2zg/000270.png', 'animation/animation_e4V2zg/000271.png', 'animation/animation_e4V2zg/000272.png', 'animation/animation_e4V2zg/000273.png', 'animation/animation_e4V2zg/000274.png'];\n",
       "  /* Name of 'anim' variable should be unique, and match what's specified\n",
       "     in the template above */\n",
       "   anim_7482483737210 = new Animation(frames, img_id, slider_id, loop_select_id);\n",
       "</script>"
      ],
      "text/plain": [
       "<IPython.core.display.HTML object>"
      ]
     },
     "execution_count": 18,
     "metadata": {},
     "output_type": "execute_result"
    }
   ],
   "source": [
    "if not 'burst_trail_video' in mdb.keys():\n",
    "    I.scp.init_neuron_run(cell_param.sim, vardt=False) # fixed step size necessary for animation\n",
    "    mdb['burst_trail_video'] = I.cell_to_animation(cell, \\\n",
    "                                                            xlim = [0,1500], \\\n",
    "                                                            ylim = [-90, 50], \\\n",
    "                                                            tstart = 295, \\\n",
    "                                                            tend = 350, \\\n",
    "                                                            tstep = 0.2)\n",
    "I.display_animation(mdb['burst_trail_video'])    "
   ]
  },
  {
   "cell_type": "markdown",
   "metadata": {},
   "source": [
    "We can also visualize current through ion channels. Let's have a look at the calcium current through low voltage activated calcium channels:"
   ]
  },
  {
   "cell_type": "code",
   "execution_count": 32,
   "metadata": {
    "collapsed": false
   },
   "outputs": [
    {
     "data": {
      "text/html": [
       "<script language=\"javascript\">\n",
       "  /* ===================================================================================== */\n",
       "  /*  Copied and adpated from https://github.com/jakevdp/JSAnimation                       */\n",
       "  /*  Thanks to Jake Vanderplas                                                            */\n",
       "  /*  Changes:                                                                             */\n",
       "  /*    - now defined as a jinja2 template with variables:                                 */\n",
       "  /*             - listFrames                                                              */\n",
       "  /*             - interval                                                                */\n",
       "  /*             - style                                                                   */\n",
       "  /*    - now has embedded icons as base64 png images                                      */\n",
       "  /*    - anim_frame_slider onchange --> oninput event                                     */\n",
       "  /*                                                                                       */\n",
       "  /*   Patrick Brockmann - https://github.com/PBrockmann/ipython_animation_javascript_tool */\n",
       "  /* ===================================================================================== */\n",
       "  /* Define the Animation class */\n",
       "  function Animation(frames, img_id, slider_id, loop_select_id){\n",
       "    this.img_id = img_id;\n",
       "    this.slider_id = slider_id;\n",
       "    this.loop_select_id = loop_select_id;\n",
       "    this.interval = 10;\n",
       "    this.current_frame = 0;\n",
       "    this.direction = 0;\n",
       "    this.timer = null;\n",
       "    this.frames = new Array(frames.length);\n",
       "    for (var i=0; i<frames.length; i++)\n",
       "    {\n",
       "     this.frames[i] = new Image();\n",
       "     this.frames[i].src = frames[i];\n",
       "    }\n",
       "    document.getElementById(this.slider_id).max = this.frames.length - 1;\n",
       "    this.set_frame(this.current_frame);\n",
       "  }\n",
       "  Animation.prototype.get_loop_state = function(){\n",
       "    var button_group = document[this.loop_select_id].state;\n",
       "    for (var i = 0; i < button_group.length; i++) {\n",
       "        var button = button_group[i];\n",
       "        if (button.checked) {\n",
       "            return button.value;\n",
       "        }\n",
       "    }\n",
       "    return undefined;\n",
       "  }\n",
       "  Animation.prototype.set_frame = function(frame){\n",
       "    this.current_frame = frame;\n",
       "    document.getElementById(this.img_id).src = this.frames[this.current_frame].src;\n",
       "    document.getElementById(this.slider_id).value = this.current_frame;\n",
       "  }\n",
       "  Animation.prototype.next_frame = function()\n",
       "  {\n",
       "    this.set_frame(Math.min(this.frames.length - 1, this.current_frame + 1));\n",
       "  }\n",
       "  Animation.prototype.previous_frame = function()\n",
       "  {\n",
       "    this.set_frame(Math.max(0, this.current_frame - 1));\n",
       "  }\n",
       "  Animation.prototype.first_frame = function()\n",
       "  {\n",
       "    this.set_frame(0);\n",
       "  }\n",
       "  Animation.prototype.last_frame = function()\n",
       "  {\n",
       "    this.set_frame(this.frames.length - 1);\n",
       "  } \n",
       "  Animation.prototype.slower = function()\n",
       "  {\n",
       "    this.interval /= 0.7;\n",
       "    if(this.direction > 0){this.play_animation();}\n",
       "    else if(this.direction < 0){this.reverse_animation();}\n",
       "  }\n",
       "  Animation.prototype.faster = function()\n",
       "  {\n",
       "    this.interval *= 0.7;\n",
       "    if(this.direction > 0){this.play_animation();}\n",
       "    else if(this.direction < 0){this.reverse_animation();}\n",
       "  }\n",
       "  Animation.prototype.anim_step_forward = function()\n",
       "  {\n",
       "    this.current_frame += 1;\n",
       "    if(this.current_frame < this.frames.length){\n",
       "      this.set_frame(this.current_frame);\n",
       "    }else{\n",
       "      var loop_state = this.get_loop_state();\n",
       "      if(loop_state == \"loop\"){\n",
       "        this.first_frame();\n",
       "      }else if(loop_state == \"reflect\"){\n",
       "        this.last_frame();\n",
       "        this.reverse_animation();\n",
       "      }else{\n",
       "        this.pause_animation();\n",
       "        this.last_frame();\n",
       "      }\n",
       "    }\n",
       "  }\n",
       "  Animation.prototype.anim_step_reverse = function()\n",
       "  {\n",
       "    this.current_frame -= 1;\n",
       "    if(this.current_frame >= 0){\n",
       "      this.set_frame(this.current_frame);\n",
       "    }else{\n",
       "      var loop_state = this.get_loop_state();\n",
       "      if(loop_state == \"loop\"){\n",
       "        this.last_frame();\n",
       "      }else if(loop_state == \"reflect\"){\n",
       "        this.first_frame();\n",
       "        this.play_animation();\n",
       "      }else{\n",
       "        this.pause_animation();\n",
       "        this.first_frame();\n",
       "      }\n",
       "    }\n",
       "  }\n",
       "  Animation.prototype.pause_animation = function()\n",
       "  {\n",
       "    this.direction = 0;\n",
       "    if (this.timer){\n",
       "      clearInterval(this.timer);\n",
       "      this.timer = null;\n",
       "    }\n",
       "  }\n",
       "  Animation.prototype.play_animation = function()\n",
       "  {\n",
       "    this.pause_animation();\n",
       "    this.direction = 1;\n",
       "    var t = this;\n",
       "    if (!this.timer) this.timer = setInterval(function(){t.anim_step_forward();}, this.interval);\n",
       "  }\n",
       "  Animation.prototype.reverse_animation = function()\n",
       "  {\n",
       "    this.pause_animation();\n",
       "    this.direction = -1;\n",
       "    var t = this;\n",
       "    if (!this.timer) this.timer = setInterval(function(){t.anim_step_reverse();}, this.interval);\n",
       "  }\n",
       "</script>\n",
       "\n",
       "<div class=\"animation\" align=\"center\">\n",
       "    <img id=\"anim_img_4066858545884\" >\n",
       "    <br>\n",
       "    <input id=\"anim_frame_slider_4066858545884\" type=\"range\" style=\"width:350px\" name=\"points\" min=\"0\" max=\"1\" step=\"1\" value=\"0\" oninput=\"anim_4066858545884.set_frame(parseInt(this.value));\"></input>\n",
       "    <br>\n",
       "    <button onclick=\"anim_4066858545884.slower()\">&#8211;</button>\n",
       "    <button onclick=\"anim_4066858545884.first_frame()\"><img src=\"data:image/png;base64,iVBORw0KGgoAAAANSUhEUgAAABQAAAAUCAQAAAAngNWGAAAAAXNSR0IArs4c6QAAAAJiS0dEAP+Hj8y/AAAACXBIWXMAAAsTAAALEwEAmpwYAAAAB3RJTUUH3QURCAgaeZk4EQAAASlJREFUKM/dkj9LQnEUhp9zr3bpj1uBcKGiJWxzLWivKAIRjIhcCqcgqJbKRagPICiVSVEuNTu0tLYGUg4tkRGUdxLJ0u79Ndxr5FfwTO/L+xzO4XCgO+v2T70AFU+/A/Dhmlzg6Pr0DKAMwOH4zQxAAbAkv2xNeF2RoQUVc1ytgttXUbWVdN1dOPE8pz4j4APQsdFtKA0WY6vpKjqvVciHnvZTS6Ja4HgggJLs7MHxl9nCh8NYcO+iGG0agiaC4h9oa6Vsw2yiK+QHSZT934YoEQABNBcTNDszsrhm1m1B+bFS86PT6QFppx6oeSaeOwlMXRp1h4aK13Y2kuHhUo9ykPboPvFjeEvsrhTMt3ylHyB0r8KZyYdCrbfj4OveoHMANjuyx+76rV+/blxKMZUnLgAAAABJRU5ErkJggg==\"/></button>\n",
       "    <button onclick=\"anim_4066858545884.previous_frame()\"><img src=\"data:image/png;base64,iVBORw0KGgoAAAANSUhEUgAAABQAAAAUCAQAAAAngNWGAAAAAXNSR0IArs4c6QAAAAJiS0dEAP+Hj8y/AAAACXBIWXMAAAsTAAALEwEAmpwYAAAAB3RJTUUH3QURCAgyTCyQ6wAAANRJREFUKM9jYBjO4AiUfgzFGGAp4+yayUvX6jMwMDCsYmBgOCS4OAOrSYmMgcc8/pd5Q3irC+Neh/1AlmeBMVgZmP8yMLD8/c/cqv9r90whzv/MX7Eq/MfAwMDIwCuZdfSV8U8WDgZGRmYGrAoZGRgY/jO8b3sj/J2F6T8j4z80pzEhmIwMjAxsSbqqlkeZGP//Z8SlkJnhPwMjwx/Guoe1NhmRwk+YGH5jV8jOwMPHzcDBysAwh8FrxQwtPU99HrwBXsnAwMDAsJiBgYGBoZ1xmKYqALHhMpn1o7igAAAAAElFTkSuQmCC\"/></button>\n",
       "    <button onclick=\"anim_4066858545884.reverse_animation()\"><img src=\"data:image/png;base64,iVBORw0KGgoAAAANSUhEUgAAABQAAAAUCAQAAAAngNWGAAAAAXNSR0IArs4c6QAAAAJiS0dEAP+Hj8y/AAAACXBIWXMAAAsTAAALEwEAmpwYAAAAB3RJTUUH3QURCAgmVvZElgAAAVFJREFUKM+t0k8ow3EYx/H3s/2aLDUSZctFkgsHEi1XLi5ukpPSWsuJklwclsPSsDKFi7MSJ0I5qF2GHO2m0FY7+BdNv7Y9DpuxDSt5vsfvq+fT9/k+8D8VBxIAWH6H0ead4Qb5BRwCENoceZi5Stl/6BgCBmtWhjzxg4mUQ02rAhil7JgB9tze7aTLxFAKsUUd14B9ZzCyFUk401gQyQJaDNcBHwv7t7ETd0ZVQFEEzcNCdE/1wtj15imGWlEB8qkf2QaAWjbG/bPSamIDyX65/iwDIFx7tWjUvWCoSo5oGbYATN7PORt7W9IZEQXJH8ohuN7C0VVX91KNqYhq4a1lEGJI0j892tazXCWQRUpwAbYDcHczPxXuajq3mbnhfANz5eOJxsuNvs7+jud0UcuyL3QAkuEMx4rnIvBYq1JhEwPAUb3fG7x8tVdc292/7Po7f2VqA+Yz7ZwAAAAASUVORK5CYII=\"/></button>\n",
       "    <button onclick=\"anim_4066858545884.pause_animation()\"><img src=\"data:image/png;base64,iVBORw0KGgoAAAANSUhEUgAAABQAAAAUCAQAAAAngNWGAAAAAXNSR0IArs4c6QAAAAJiS0dEAP+Hj8y/AAAACXBIWXMAAAsTAAALEwEAmpwYAAAAB3RJTUUH3QURCAkR91DQ2AAAAKtJREFUKM9jYCANTEVib2K4jcRbzQihGWEC00JuNjN8Z2Q0Zo3VYWA4lL005venH9+c3ZK5IfIsMIXMBtc12Bj+MMgxMDAwMPzWe2TBzPCf4SLcZCYY4/9/RgZGBiaYFf8gljFhKiQERhUOeoX/Gf8y/GX4y/APmlj+Mfxj+MfwH64Qnnq0zr9fyfLrPzP3eQYGBobvk5x4GX4xMIij23gdib0cRWYHiVmAAQDK5ircshCbHQAAAABJRU5ErkJggg==\"/></button>\n",
       "    <button onclick=\"anim_4066858545884.play_animation()\"><img src=\"data:image/png;base64,iVBORw0KGgoAAAANSUhEUgAAABQAAAAUCAQAAAAngNWGAAAAAXNSR0IArs4c6QAAAAJiS0dEAP+Hj8y/AAAACXBIWXMAAAsTAAALEwEAmpwYAAAAB3RJTUUH3QURCAkEmo00MwAAAS9JREFUKM+tkj1IQmEUhp9j94LQj0FD4RRBLdLQ3ftb26PRcCiQIIiIDFwKC0OhaAiam5wVDBpqCKohQojMLYzaAiUatOtpuQrKVQl64fu+4Xt4OLwc+Fs+nNM16jsPAWS6gZXggoZfXmfhog3hcZ6aTXF87Sp68OmH4/YggAo8bmfyyeh6Z1AAKPVldyO1+Iz2uILq3AriJSe3l+H7aj+cuRnrTsVDxSxay+VYbMDnCtZxxQOU9G4nlU9E1HQBxRkCQMRGRnIbpxMARkvxCIoAorYMMrq0mJ0qu4COUW3xyVDqJC4P+86P0ewDQbQqgevhlc2C8ETApXAEFLzvwa3EXG9BoIE1GQUbv1h7k4fTXxBu6cKgUbX5M3ZzNC+a7rQ936HV56SlRpcle+Mf8wvgJ16zo/4BtQAAAABJRU5ErkJggg==\"/></button>\n",
       "    <button onclick=\"anim_4066858545884.next_frame()\"><img src=\"data:image/png;base64,iVBORw0KGgoAAAANSUhEUgAAABQAAAAUCAQAAAAngNWGAAAAAXNSR0IArs4c6QAAAAJiS0dEAP+Hj8y/AAAACXBIWXMAAAsTAAALEwEAmpwYAAAAB3RJTUUH3QURCAkd/uac8wAAAMhJREFUKM9jYBie4DEUQ8B+fEq3+3UrMzAwMFxjYGBgYJizYubaOUxYFUaXh/6vWfRfEMIL/+//P5gZJoei4/f/7wxnY1PeNUXdE2RgYGZgYoCrY2BBVsjKwMDAwvCS4f3SG/dXxm5gYESSQ1HIwvCPgZmB8f8Pxv+Kxxb/YfiPJIdi9T8GJgaG/38ZFd4Fx0xUYsZt4h8GBgb2D2bLy7KnMTAwMEIxFoVCXIYr1IoDnkF4XAysqNIwUMDAwMDAsADKS2NkGL4AAIARMlfNIfZMAAAAAElFTkSuQmCC\"/></button>\n",
       "    <button onclick=\"anim_4066858545884.last_frame()\"><img src=\"data:image/png;base64,iVBORw0KGgoAAAANSUhEUgAAABQAAAAUCAQAAAAngNWGAAAAAXNSR0IArs4c6QAAAAJiS0dEAP+Hj8y/AAAACXBIWXMAAAsTAAALEwEAmpwYAAAAB3RJTUUH3QURCAknOOpFQQAAAS9JREFUKM/dkrEvQ3EQxz/33mtoQxiYpANbLU26NAabSCcSUouGBVNDjYQaOiDpIEiKjURIw2Kx04hEYmkHEpGoJpSISaXq9Wd4P03/ht5y98197/u9XA4aK4rAWw3lgWddZ3S+/G9mEovtAB8AHE4pgTQAx8PbJweRmsq6GimmNpxaNYXVzMNNCI6A2figimwCGACK786zuWgh3qcsKf/w0pM4X0m/doNVFVzVGlEQsdRj193VxEWpH0RsdRu+zi3tVMqCAsDShoiYqiSV4OouVDFEqS9Pbiyg7vV62lpQ2BJ4Gg0meg0MbNpkYG/e+540NNFyrE1a8qHk5BaAjfnrzUaHfAWImVrLIXbgnx4/9X06s35cweWsVACa3a24PVp0X+rPv1aHFnSONdiL8Qci0lzwpOM5sQAAAABJRU5ErkJggg==\"/></button>\n",
       "    <button onclick=\"anim_4066858545884.faster()\">+</button>\n",
       "  <form action=\"#n\" name=\"loop_select_4066858545884\" class=\"anim_control\">\n",
       "    <input type=\"radio\" name=\"state\" value=\"once\"> Once </input>\n",
       "    <input type=\"radio\" name=\"state\" value=\"loop\" checked> Loop </input>\n",
       "    <input type=\"radio\" name=\"state\" value=\"reflect\"> Reflect </input>\n",
       "  </form>\n",
       "</div>\n",
       "\n",
       "\n",
       "<script language=\"javascript\">\n",
       "  /* Instantiate the Animation class. */\n",
       "  /* The IDs given should match those used in the template above. */\n",
       "  var img_id = \"anim_img_4066858545884\";\n",
       "  var slider_id = \"anim_frame_slider_4066858545884\";\n",
       "  var loop_select_id = \"loop_select_4066858545884\";\n",
       "  var frames = ['animation/animation_8dF85M/000000.png', 'animation/animation_8dF85M/000001.png', 'animation/animation_8dF85M/000002.png', 'animation/animation_8dF85M/000003.png', 'animation/animation_8dF85M/000004.png', 'animation/animation_8dF85M/000005.png', 'animation/animation_8dF85M/000006.png', 'animation/animation_8dF85M/000007.png', 'animation/animation_8dF85M/000008.png', 'animation/animation_8dF85M/000009.png', 'animation/animation_8dF85M/000010.png', 'animation/animation_8dF85M/000011.png', 'animation/animation_8dF85M/000012.png', 'animation/animation_8dF85M/000013.png', 'animation/animation_8dF85M/000014.png', 'animation/animation_8dF85M/000015.png', 'animation/animation_8dF85M/000016.png', 'animation/animation_8dF85M/000017.png', 'animation/animation_8dF85M/000018.png', 'animation/animation_8dF85M/000019.png', 'animation/animation_8dF85M/000020.png', 'animation/animation_8dF85M/000021.png', 'animation/animation_8dF85M/000022.png', 'animation/animation_8dF85M/000023.png', 'animation/animation_8dF85M/000024.png', 'animation/animation_8dF85M/000025.png', 'animation/animation_8dF85M/000026.png', 'animation/animation_8dF85M/000027.png', 'animation/animation_8dF85M/000028.png', 'animation/animation_8dF85M/000029.png', 'animation/animation_8dF85M/000030.png', 'animation/animation_8dF85M/000031.png', 'animation/animation_8dF85M/000032.png', 'animation/animation_8dF85M/000033.png', 'animation/animation_8dF85M/000034.png', 'animation/animation_8dF85M/000035.png', 'animation/animation_8dF85M/000036.png', 'animation/animation_8dF85M/000037.png', 'animation/animation_8dF85M/000038.png', 'animation/animation_8dF85M/000039.png', 'animation/animation_8dF85M/000040.png', 'animation/animation_8dF85M/000041.png', 'animation/animation_8dF85M/000042.png', 'animation/animation_8dF85M/000043.png', 'animation/animation_8dF85M/000044.png', 'animation/animation_8dF85M/000045.png', 'animation/animation_8dF85M/000046.png', 'animation/animation_8dF85M/000047.png', 'animation/animation_8dF85M/000048.png', 'animation/animation_8dF85M/000049.png', 'animation/animation_8dF85M/000050.png', 'animation/animation_8dF85M/000051.png', 'animation/animation_8dF85M/000052.png', 'animation/animation_8dF85M/000053.png', 'animation/animation_8dF85M/000054.png', 'animation/animation_8dF85M/000055.png', 'animation/animation_8dF85M/000056.png', 'animation/animation_8dF85M/000057.png', 'animation/animation_8dF85M/000058.png', 'animation/animation_8dF85M/000059.png', 'animation/animation_8dF85M/000060.png', 'animation/animation_8dF85M/000061.png', 'animation/animation_8dF85M/000062.png', 'animation/animation_8dF85M/000063.png', 'animation/animation_8dF85M/000064.png', 'animation/animation_8dF85M/000065.png', 'animation/animation_8dF85M/000066.png', 'animation/animation_8dF85M/000067.png', 'animation/animation_8dF85M/000068.png', 'animation/animation_8dF85M/000069.png', 'animation/animation_8dF85M/000070.png', 'animation/animation_8dF85M/000071.png', 'animation/animation_8dF85M/000072.png', 'animation/animation_8dF85M/000073.png', 'animation/animation_8dF85M/000074.png', 'animation/animation_8dF85M/000075.png', 'animation/animation_8dF85M/000076.png', 'animation/animation_8dF85M/000077.png', 'animation/animation_8dF85M/000078.png', 'animation/animation_8dF85M/000079.png', 'animation/animation_8dF85M/000080.png', 'animation/animation_8dF85M/000081.png', 'animation/animation_8dF85M/000082.png', 'animation/animation_8dF85M/000083.png', 'animation/animation_8dF85M/000084.png', 'animation/animation_8dF85M/000085.png', 'animation/animation_8dF85M/000086.png', 'animation/animation_8dF85M/000087.png', 'animation/animation_8dF85M/000088.png', 'animation/animation_8dF85M/000089.png', 'animation/animation_8dF85M/000090.png', 'animation/animation_8dF85M/000091.png', 'animation/animation_8dF85M/000092.png', 'animation/animation_8dF85M/000093.png', 'animation/animation_8dF85M/000094.png', 'animation/animation_8dF85M/000095.png', 'animation/animation_8dF85M/000096.png', 'animation/animation_8dF85M/000097.png', 'animation/animation_8dF85M/000098.png', 'animation/animation_8dF85M/000099.png', 'animation/animation_8dF85M/000100.png', 'animation/animation_8dF85M/000101.png', 'animation/animation_8dF85M/000102.png', 'animation/animation_8dF85M/000103.png', 'animation/animation_8dF85M/000104.png', 'animation/animation_8dF85M/000105.png', 'animation/animation_8dF85M/000106.png', 'animation/animation_8dF85M/000107.png', 'animation/animation_8dF85M/000108.png', 'animation/animation_8dF85M/000109.png', 'animation/animation_8dF85M/000110.png', 'animation/animation_8dF85M/000111.png', 'animation/animation_8dF85M/000112.png', 'animation/animation_8dF85M/000113.png', 'animation/animation_8dF85M/000114.png', 'animation/animation_8dF85M/000115.png', 'animation/animation_8dF85M/000116.png', 'animation/animation_8dF85M/000117.png', 'animation/animation_8dF85M/000118.png', 'animation/animation_8dF85M/000119.png', 'animation/animation_8dF85M/000120.png', 'animation/animation_8dF85M/000121.png', 'animation/animation_8dF85M/000122.png', 'animation/animation_8dF85M/000123.png', 'animation/animation_8dF85M/000124.png', 'animation/animation_8dF85M/000125.png', 'animation/animation_8dF85M/000126.png', 'animation/animation_8dF85M/000127.png', 'animation/animation_8dF85M/000128.png', 'animation/animation_8dF85M/000129.png', 'animation/animation_8dF85M/000130.png', 'animation/animation_8dF85M/000131.png', 'animation/animation_8dF85M/000132.png', 'animation/animation_8dF85M/000133.png', 'animation/animation_8dF85M/000134.png', 'animation/animation_8dF85M/000135.png', 'animation/animation_8dF85M/000136.png', 'animation/animation_8dF85M/000137.png', 'animation/animation_8dF85M/000138.png', 'animation/animation_8dF85M/000139.png', 'animation/animation_8dF85M/000140.png', 'animation/animation_8dF85M/000141.png', 'animation/animation_8dF85M/000142.png', 'animation/animation_8dF85M/000143.png', 'animation/animation_8dF85M/000144.png', 'animation/animation_8dF85M/000145.png', 'animation/animation_8dF85M/000146.png', 'animation/animation_8dF85M/000147.png', 'animation/animation_8dF85M/000148.png', 'animation/animation_8dF85M/000149.png', 'animation/animation_8dF85M/000150.png', 'animation/animation_8dF85M/000151.png', 'animation/animation_8dF85M/000152.png', 'animation/animation_8dF85M/000153.png', 'animation/animation_8dF85M/000154.png', 'animation/animation_8dF85M/000155.png', 'animation/animation_8dF85M/000156.png', 'animation/animation_8dF85M/000157.png', 'animation/animation_8dF85M/000158.png', 'animation/animation_8dF85M/000159.png', 'animation/animation_8dF85M/000160.png', 'animation/animation_8dF85M/000161.png', 'animation/animation_8dF85M/000162.png', 'animation/animation_8dF85M/000163.png', 'animation/animation_8dF85M/000164.png', 'animation/animation_8dF85M/000165.png', 'animation/animation_8dF85M/000166.png', 'animation/animation_8dF85M/000167.png', 'animation/animation_8dF85M/000168.png', 'animation/animation_8dF85M/000169.png', 'animation/animation_8dF85M/000170.png', 'animation/animation_8dF85M/000171.png', 'animation/animation_8dF85M/000172.png', 'animation/animation_8dF85M/000173.png', 'animation/animation_8dF85M/000174.png', 'animation/animation_8dF85M/000175.png', 'animation/animation_8dF85M/000176.png', 'animation/animation_8dF85M/000177.png', 'animation/animation_8dF85M/000178.png', 'animation/animation_8dF85M/000179.png', 'animation/animation_8dF85M/000180.png', 'animation/animation_8dF85M/000181.png', 'animation/animation_8dF85M/000182.png', 'animation/animation_8dF85M/000183.png', 'animation/animation_8dF85M/000184.png', 'animation/animation_8dF85M/000185.png', 'animation/animation_8dF85M/000186.png', 'animation/animation_8dF85M/000187.png', 'animation/animation_8dF85M/000188.png', 'animation/animation_8dF85M/000189.png', 'animation/animation_8dF85M/000190.png', 'animation/animation_8dF85M/000191.png', 'animation/animation_8dF85M/000192.png', 'animation/animation_8dF85M/000193.png', 'animation/animation_8dF85M/000194.png', 'animation/animation_8dF85M/000195.png', 'animation/animation_8dF85M/000196.png', 'animation/animation_8dF85M/000197.png', 'animation/animation_8dF85M/000198.png', 'animation/animation_8dF85M/000199.png', 'animation/animation_8dF85M/000200.png', 'animation/animation_8dF85M/000201.png', 'animation/animation_8dF85M/000202.png', 'animation/animation_8dF85M/000203.png', 'animation/animation_8dF85M/000204.png', 'animation/animation_8dF85M/000205.png', 'animation/animation_8dF85M/000206.png', 'animation/animation_8dF85M/000207.png', 'animation/animation_8dF85M/000208.png', 'animation/animation_8dF85M/000209.png', 'animation/animation_8dF85M/000210.png', 'animation/animation_8dF85M/000211.png', 'animation/animation_8dF85M/000212.png', 'animation/animation_8dF85M/000213.png', 'animation/animation_8dF85M/000214.png', 'animation/animation_8dF85M/000215.png', 'animation/animation_8dF85M/000216.png', 'animation/animation_8dF85M/000217.png', 'animation/animation_8dF85M/000218.png', 'animation/animation_8dF85M/000219.png', 'animation/animation_8dF85M/000220.png', 'animation/animation_8dF85M/000221.png', 'animation/animation_8dF85M/000222.png', 'animation/animation_8dF85M/000223.png', 'animation/animation_8dF85M/000224.png', 'animation/animation_8dF85M/000225.png', 'animation/animation_8dF85M/000226.png', 'animation/animation_8dF85M/000227.png', 'animation/animation_8dF85M/000228.png', 'animation/animation_8dF85M/000229.png', 'animation/animation_8dF85M/000230.png', 'animation/animation_8dF85M/000231.png', 'animation/animation_8dF85M/000232.png', 'animation/animation_8dF85M/000233.png', 'animation/animation_8dF85M/000234.png', 'animation/animation_8dF85M/000235.png', 'animation/animation_8dF85M/000236.png', 'animation/animation_8dF85M/000237.png', 'animation/animation_8dF85M/000238.png', 'animation/animation_8dF85M/000239.png', 'animation/animation_8dF85M/000240.png', 'animation/animation_8dF85M/000241.png', 'animation/animation_8dF85M/000242.png', 'animation/animation_8dF85M/000243.png', 'animation/animation_8dF85M/000244.png', 'animation/animation_8dF85M/000245.png', 'animation/animation_8dF85M/000246.png', 'animation/animation_8dF85M/000247.png', 'animation/animation_8dF85M/000248.png', 'animation/animation_8dF85M/000249.png', 'animation/animation_8dF85M/000250.png', 'animation/animation_8dF85M/000251.png', 'animation/animation_8dF85M/000252.png', 'animation/animation_8dF85M/000253.png', 'animation/animation_8dF85M/000254.png', 'animation/animation_8dF85M/000255.png', 'animation/animation_8dF85M/000256.png', 'animation/animation_8dF85M/000257.png', 'animation/animation_8dF85M/000258.png', 'animation/animation_8dF85M/000259.png', 'animation/animation_8dF85M/000260.png', 'animation/animation_8dF85M/000261.png', 'animation/animation_8dF85M/000262.png', 'animation/animation_8dF85M/000263.png', 'animation/animation_8dF85M/000264.png', 'animation/animation_8dF85M/000265.png', 'animation/animation_8dF85M/000266.png', 'animation/animation_8dF85M/000267.png', 'animation/animation_8dF85M/000268.png', 'animation/animation_8dF85M/000269.png', 'animation/animation_8dF85M/000270.png', 'animation/animation_8dF85M/000271.png', 'animation/animation_8dF85M/000272.png', 'animation/animation_8dF85M/000273.png', 'animation/animation_8dF85M/000274.png'];\n",
       "  /* Name of 'anim' variable should be unique, and match what's specified\n",
       "     in the template above */\n",
       "   anim_4066858545884 = new Animation(frames, img_id, slider_id, loop_select_id);\n",
       "</script>"
      ],
      "text/plain": [
       "<IPython.core.display.HTML object>"
      ]
     },
     "execution_count": 32,
     "metadata": {},
     "output_type": "execute_result"
    }
   ],
   "source": [
    "if not 'burst_trail_ca_current_video' in mdb.keys():\n",
    "    cell.record_range_var('Ca_LVAst.ica') # have a look at the mechanisms folder to find available range vars\n",
    "    I.scp.init_neuron_run(cell_param.sim, vardt=False)\n",
    "    mdb['burst_trail_ca_current_video'] = I.cell_to_animation(cell, \\\n",
    "                                                            xlim = [0,1500], \\\n",
    "                                                            ylim = [-90, 50], \\\n",
    "                                                            tstart = 295, \\\n",
    "                                                            tend = 350, \\\n",
    "                                                            tstep = 0.2,\\\n",
    "                                                            range_vars = 'Ca_LVAst.ica')\n",
    "I.display_animation(mdb['burst_trail_ca_current_video'])   \n"
   ]
  },
  {
   "cell_type": "markdown",
   "metadata": {},
   "source": [
    "# ModelDataBase\n",
    "<a id='ModelDataBase'></a>\n",
    "\n",
    "This section documents the API of the ModelDataBase class"
   ]
  },
  {
   "cell_type": "markdown",
   "metadata": {},
   "source": [
    "First, we create a model data base as central storage place"
   ]
  },
  {
   "cell_type": "code",
   "execution_count": 26,
   "metadata": {
    "collapsed": false
   },
   "outputs": [],
   "source": [
    "mdb = I.ModelDataBase('/home/abast/my_mdb/')"
   ]
  },
  {
   "cell_type": "markdown",
   "metadata": {},
   "source": [
    "We can use the mdb object like a dictionary. However, all data will be instantly saved to / loaded from disk:"
   ]
  },
  {
   "cell_type": "code",
   "execution_count": 38,
   "metadata": {
    "collapsed": false
   },
   "outputs": [
    {
     "data": {
      "text/plain": [
       "'some text i want to save'"
      ]
     },
     "execution_count": 38,
     "metadata": {},
     "output_type": "execute_result"
    }
   ],
   "source": [
    "mdb['something'] = 'some text i want to save'\n",
    "mdb['something']"
   ]
  },
  {
   "cell_type": "markdown",
   "metadata": {},
   "source": [
    "The model data base also stores metadata for each item about the time and exact `in_silico_framework` version used at creation time. You can access metadata of *something* in the following way:"
   ]
  },
  {
   "cell_type": "code",
   "execution_count": 39,
   "metadata": {
    "collapsed": false
   },
   "outputs": [
    {
     "data": {
      "text/plain": [
       "defaultdict(<function model_data_base.model_data_base.<lambda>>,\n",
       "            {'dirty': True,\n",
       "             'dumper': 'to_cloudpickle',\n",
       "             'error': None,\n",
       "             'full-revisionid': '8d54a85af82bf3a1893a6cc70140052ae9735edf',\n",
       "             'metadata_creation_time': 'together_with_new_key',\n",
       "             'time': (2017, 11, 11, 18, 15, 57, 5, 315, -1),\n",
       "             'version': 'v0.0.1+94.g8d54a85.dirty'})"
      ]
     },
     "execution_count": 39,
     "metadata": {},
     "output_type": "execute_result"
    }
   ],
   "source": [
    "mdb.metadata['something']"
   ]
  },
  {
   "cell_type": "markdown",
   "metadata": {},
   "source": [
    "The most relevant parts here are:\n",
    "    - dumper: the method how the data was saved in the database\n",
    "    - time: Timepoint (UTC) when the data was added\n",
    "    - version: version of the in_silico_framework repository at the timepoint the data was added\n",
    "    - dirty: whether there where uncommited changes at the timepoint the data was added\n",
    "\n",
    "You can access the code that was used to save the data in the model data base:\n",
    "https://github.com/abast/in_silico_framework/tree/[full_revisionid]"
   ]
  },
  {
   "cell_type": "markdown",
   "metadata": {},
   "source": [
    "By default, the ModelDataBase uses cloudpickle to store data on disk ('dumper': 'to_cloudpickle'). While this allows to store arbitrary python objects, it is not well suited for large datasets. For these cases, you can choose different methods to store the data:"
   ]
  },
  {
   "cell_type": "markdown",
   "metadata": {},
   "source": [
    " - **I.dumper_to_pickle**: this uses cPickle to serialize aribtrary python objects. While this is faster than cloudpickle, it only works for a much more limited set of python objects compared to cloudpickle.\n",
    " - **I.dumper_pandas_to_pickle**: saves a pandas dataframe using pandas [to_pickle](https://pandas.pydata.org/pandas-docs/stable/generated/pandas.DataFrame.to_pickle.html) method.\n",
    " - **I.dumper_pandas_to_msgpack**: saves a pandas dataframe using pandas [to_msgpack](https://pandas.pydata.org/pandas-docs/stable/generated/pandas.DataFrame.to_msgpack.html) method with blosc compression. This usually provides the best performance.\n",
    " - **I.dumper_dask_to_csv **: saves a dask dataframe to csv. Each partition is stored as csv file using the pands [to_csv](https://pandas.pydata.org/pandas-docs/stable/generated/pandas.DataFrame.to_csv.html) method. If the dataframe has more than 10000 partitions, it is repartitioned to 5000 partitions (i.e. the data is saved with not more than 10000 chunks). Metadata (dtypes, column names, ...) is stored seperately.\n",
    " - **I.dumper_dask_to_msgpack**: saves dask dataframe to msgpack. Each partition is stored as csv file using the pandas [to_msgpack](https://pandas.pydata.org/pandas-docs/stable/generated/pandas.DataFrame.to_msgpack.html) method with blosc compression. If the dataframe has more than 10000 partitions, it is repartitioned to 5000 partitions (i.e. the data is saved with not more than 10000 chunks).\n",
    " - **I.dumper_dask_to_categorized_msgpack**: This method is similar to I.dumper_dask_to_msgpack, however, before storing the data, it is preprocessed: All columns of dtype 'object' (i.e. the all columns containing strings including the index) are categorized, which means, repeated occurences of the same string value are replaced by integer values. This allows to compress dataframes containing lots of repeated string values much better.\n",
    " - **I.dumper_numpy_to_npy**: This method can be used to store numpy arrays.\n",
    " - **I.dumper_cell**: this saves a single_cell_parser.Cell object by first replacing all neuron.Vector instances with numpy.array and afterwards using pickle to save it to disk. \n",
    " - **'self'**: save objects directly to the backend sqlite database. Don't use it for large objects, since writing to the database blocks it for other processes.\n",
    "\n"
   ]
  },
  {
   "cell_type": "markdown",
   "metadata": {},
   "source": [
    "To specify a dumper, the syntax mdb['someting'] = ... is not powerfull enough. Use mdb.setitem instead:"
   ]
  },
  {
   "cell_type": "code",
   "execution_count": 29,
   "metadata": {
    "collapsed": true
   },
   "outputs": [],
   "source": [
    "# this is the same as mdb['something'] = 'some text i want to save'\n",
    "mdb.setitem('something', 'some text i want to save', dumper = I.dumper_to_cloudpickle) "
   ]
  },
  {
   "cell_type": "markdown",
   "metadata": {},
   "source": [
    "Not documented yet:\n",
    "    - model_data_base_register\n",
    "    - get_id()\n",
    "    - mdb://[unique_id]/path\n",
    "    - create sub_mdb\n",
    "    - create managed folder\n",
    "    - maybe_calculate"
   ]
  },
  {
   "cell_type": "markdown",
   "metadata": {},
   "source": [
    "### how model data base works internally"
   ]
  },
  {
   "cell_type": "markdown",
   "metadata": {},
   "source": [
    "If we put data in the database, a subdirectory is created. The foldername is the key (reduced to characters supported by the file system) plus some random suffix."
   ]
  },
  {
   "cell_type": "code",
   "execution_count": 41,
   "metadata": {
    "collapsed": false
   },
   "outputs": [
    {
     "name": "stdout",
     "output_type": "stream",
     "text": [
      "['dbcore.pickle', 'sqlitedict.db.lock', 'sqlitedict.db', 'metadata.db.lock', 'metadata.db', 'burst_trail_video_He6P9E_', 'burst_trail_ca_current_video_r9fSGP_', 'something_F6bt2F_']\n"
     ]
    }
   ],
   "source": [
    "print I.os.listdir(mdb.basedir)"
   ]
  },
  {
   "cell_type": "markdown",
   "metadata": {},
   "source": [
    "Then, the dumper is called with the data and the path to that subfolder. It saves the data in the subfolder together with a Loader.pickle file. The Loader.pickle file contains an object, which is defined in the same module as the dumper. The Loader-object contains all information necessary to load in the data. It provides a get-method. Then, the key is saved in the sqlite database, together with the name of the subfolder. Metadata is saved accordingly."
   ]
  },
  {
   "cell_type": "markdown",
   "metadata": {},
   "source": [
    "To load the data, the foldername is requested from the sqlite database. Afterwards, the Loader.pickle file is loaded and the get-method is called with the absolute path to the respective subfolder. If the database is moved from one location to another, the absolute path is automatically adapted, i.e. the ModelDataBase object takes care of it, while the get method may rely on absolute paths."
   ]
  },
  {
   "cell_type": "markdown",
   "metadata": {},
   "source": [
    "Reading and writing to sqlite is handled by the class _sql_backend. Since the locking mechanism of sqlite is not safe on nfs mounts, an additional file based locking mechanism has been implemented. Currently, we only allow sequential reading and writing. If the model data base is used on a large cluster, this does not have a substantial impact on the overall performance, as long as the access time to the database per process is small. Since all dumpers listed above (except 'self') only write a small amount of data to sqlite (i.e. the key and the subfolder), this does not impact performance."
   ]
  },
  {
   "cell_type": "markdown",
   "metadata": {},
   "source": [
    "Using  = 'self' is discouraged. Reasons:  All dumpers except 'self' only save the path to the subfolder in sqlite (short access time), while the dumper 'self' stores the whole python object there (can require to open a sql connection for a long time, blocking access for other processes)."
   ]
  },
  {
   "cell_type": "markdown",
   "metadata": {},
   "source": [
    "Currently, sqlite is not used directly, instead the module tuplecloudsqlitedict is used. Opposite to sqlite, this is thread-safe. Also, it allows to save python objects directly to the sqlite database (this is, what enables dumper = 'self'). "
   ]
  },
  {
   "cell_type": "markdown",
   "metadata": {},
   "source": [
    "Todo: Get rid of tuplecloudsqlitedict and the dumper 'self'"
   ]
  },
  {
   "cell_type": "markdown",
   "metadata": {},
   "source": [
    "## Simulations with well-constrained synaptic input"
   ]
  },
  {
   "cell_type": "markdown",
   "metadata": {},
   "source": [
    "### Register cell morphology\n",
    "The coordinates in the hoc morphology file need to be choosen according to the coordinate system of the barrel cortex model. There is a morphology file in the getting_started subfolder, which is registered such that the cell is in the center of the C2 column. For the following steps, this morphology is used."
   ]
  },
  {
   "cell_type": "markdown",
   "metadata": {},
   "source": [
    "### Generate anatomical model"
   ]
  },
  {
   "cell_type": "markdown",
   "metadata": {},
   "source": [
    "To integrate the registered cell morphology in the barrel cortex model, you need the SingleCellInputMapper repository. The script map_singlecell_inputs only needs two inputs: the path to the registered hoc morphology and the celltype."
   ]
  },
  {
   "cell_type": "code",
   "execution_count": 20,
   "metadata": {
    "collapsed": true
   },
   "outputs": [],
   "source": [
    "sys.path.insert(0,'/home/abast/test/SingleCellInputMapper/')\n",
    "sys.path.insert(0,'/home/abast/test/model_data_base/')"
   ]
  },
  {
   "cell_type": "code",
   "execution_count": 21,
   "metadata": {
    "collapsed": false,
    "scrolled": true
   },
   "outputs": [],
   "source": [
    "import map_singlecell_inputs # core module of the SingleCellInputMapper repository\n",
    "import Interface as I\n",
    "# the singlecell input mapper is very talkative, therefore silence it.\n",
    "silent_map_singlecell = lambda *args, **kwargs: I.silence_stdout(map_singlecell_inputs.map_singlecell_inputs, **kwargs)(*args)\n",
    "#specify parameters\n",
    "path_to_registered_hoc_morphology = os.path.join(getting_started_files, '86_L5_CDK20041214_nr3L5B_dend_PC_neuron_transform_registered_C2center.hoc')\n",
    "celltype = 'L5tt'"
   ]
  },
  {
   "cell_type": "markdown",
   "metadata": {},
   "source": [
    "Now we can call the network mapper. The following code calculates the position of synapses onto the example cell. Under the hood, 50 network realizations will be calculated. Out of these, the one that is closest to the average is choosen. The result is saved in the same folder as the hoc morphology. This takes about ** 4 hrs to compute **, but you can continue with a precomputed result."
   ]
  },
  {
   "cell_type": "code",
   "execution_count": null,
   "metadata": {
    "collapsed": false,
    "scrolled": true
   },
   "outputs": [],
   "source": [
    "silent_map_singlecell(path_to_registered_hoc_morphology, celltype)"
   ]
  },
  {
   "cell_type": "markdown",
   "metadata": {},
   "source": [
    "##### How does the result of the map_singlecell_inputs script look like?\n",
    "A precomputed result is in the folder model_data_base/getting_started_files/86_L5_CDK20041214_nr3L5B_dend_PC_neuron_transform_registered_C2center_synapses_20150504-1611_10389\n",
    "\n",
    "The most important files are:\n",
    " - The  *_summary_*.csv file contains a summary statistics about the connectivity between all presynaptic populations and our neuron.\n",
    " - The *.con file and the *. syn file are the relevant output of the SingleCellMapper for simulations of evoked activity."
   ]
  },
  {
   "cell_type": "markdown",
   "metadata": {},
   "source": [
    "The con file maps between presynaptic cells and synapses:"
   ]
  },
  {
   "cell_type": "code",
   "execution_count": 18,
   "metadata": {
    "collapsed": false
   },
   "outputs": [
    {
     "name": "stdout",
     "output_type": "stream",
     "text": [
      "# Anatomical connectivity realization file; only valid with synapse realization:\n",
      "# 86_L5_CDK20041214_nr3L5B_dend_PC_neuron_transform_registered_C2center_synapses_20150504-1611_10389.syn\n",
      "# Type - cell ID - synapse ID\n",
      "\n",
      "L6cc_A3\t0\t0\n",
      "L6cc_A3\t1\t1\n",
      "L6cc_A3\t2\t2\n",
      "L6cc_A3\t3\t3\n",
      "L6cc_A3\t4\t4\n",
      "L6cc_A3\t4\t5\n",
      "L6cc_A3\t5\t6\n"
     ]
    }
   ],
   "source": [
    "with open(os.path.join(getting_started_files, '86_L5_CDK20041214_nr3L5B_dend_PC_neuron_transform_registered_C2center_synapses_20150504-1611_10389/86_L5_CDK20041214_nr3L5B_dend_PC_neuron_transform_registered_C2center_synapses_20150504-1611_10389/86_L5_CDK20041214_nr3L5B_dend_PC_neuron_transform_registered_C2center_synapses_20150504-1611_10389.con')) as f:\n",
    "    print f.read()[:300]"
   ]
  },
  {
   "cell_type": "markdown",
   "metadata": {},
   "source": [
    "The .syn file specifies the exact position of each synapse on the hoc morphology:"
   ]
  },
  {
   "cell_type": "code",
   "execution_count": 19,
   "metadata": {
    "collapsed": false
   },
   "outputs": [
    {
     "name": "stdout",
     "output_type": "stream",
     "text": [
      "# Synapse distribution file\n",
      "# corresponding to cell: 86_L5_86_L5_CDK20041214_nr3L5B_dend_PC_neuron_transform_registered_C2center\n",
      "# Type - section - section.x\n",
      "\n",
      "VPM_E1\t112\t0.138046479525\n",
      "VPM_E1\t130\t0.305058053119\n",
      "VPM_E1\t130\t0.190509288017\n",
      "VPM_E1\t9\t0.368760777084\n",
      "VPM_E1\t110\t0.0\n",
      "VPM_E1\t11\t0.120662910562\n"
     ]
    }
   ],
   "source": [
    "with open(os.path.join(getting_started_files, '86_L5_CDK20041214_nr3L5B_dend_PC_neuron_transform_registered_C2center_synapses_20150504-1611_10389/86_L5_CDK20041214_nr3L5B_dend_PC_neuron_transform_registered_C2center_synapses_20150504-1611_10389/86_L5_CDK20041214_nr3L5B_dend_PC_neuron_transform_registered_C2center_synapses_20150504-1611_10389.syn')) as f:\n",
    "    print f.read()[:300]"
   ]
  },
  {
   "cell_type": "markdown",
   "metadata": {},
   "source": [
    "##### Sidenote: how to parallelize it?\n",
    "in case we would like to map the input on several cells in parallel, we could utilize dask to parallelize it using multiprocessing or a distributed cluster:"
   ]
  },
  {
   "cell_type": "code",
   "execution_count": null,
   "metadata": {
    "collapsed": true
   },
   "outputs": [],
   "source": [
    "# make the single cell mapper a delayed function\n",
    "delayed_silent_map_singlecell = dask.delayed(silent_map_singlecell_outputs)\n",
    "# call it with the morphologies\n",
    "delayeds = [delayed_silent_map_singlecell_outputs(morphology_paths[p], 'L5tt') for p in morphology_paths]\n",
    "# bundle everything in one delayed object\n",
    "delayeds = dask.delayed(delayeds)\n",
    "# compute the result, e.g. with the multiprocessing scheduler\n",
    "delayeds.compute(get = dask.multiprocessing.get)\n",
    "# or with the distributed scheduler:\n",
    "import distributed\n",
    "c = distributed.Client('my_server:8787', set_as_default = False)\n",
    "delayeds.compute(get = c.get)"
   ]
  },
  {
   "cell_type": "markdown",
   "metadata": {},
   "source": [
    "### Activate synapses\n",
    "In the previous step, the synapse location on the hoc morphology was specified. Now we need to activate the synapses according to experimental data. Here, we generate a parameter file specifying the summary statistics of the activation of the presynaptic cells with 1ms resolution."
   ]
  },
  {
   "cell_type": "markdown",
   "metadata": {},
   "source": [
    "##### create nr_of_connected_cells spreadsheet"
   ]
  },
  {
   "cell_type": "code",
   "execution_count": 30,
   "metadata": {
    "collapsed": false
   },
   "outputs": [],
   "source": [
    "# Todo: this should become a part of the pipeline above\n",
    "import generate_nr_of_cells_spreadsheet\n",
    "con_file = os.path.join(getting_started_files, '86_L5_CDK20041214_nr3L5B_dend_PC_neuron_transform_registered_C2center_synapses_20150504-1611_10389/86_L5_CDK20041214_nr3L5B_dend_PC_neuron_transform_registered_C2center_synapses_20150504-1611_10389/86_L5_CDK20041214_nr3L5B_dend_PC_neuron_transform_registered_C2center_synapses_20150504-1611_10389.con')\n",
    "cellNumberFileName = generate_nr_of_cells_spreadsheet.con_file_to_NumberOfConnectedCells_sheet(con_file)"
   ]
  },
  {
   "cell_type": "markdown",
   "metadata": {},
   "source": [
    "##### specify parameters"
   ]
  },
  {
   "cell_type": "code",
   "execution_count": 32,
   "metadata": {
    "collapsed": false
   },
   "outputs": [
    {
     "name": "stdout",
     "output_type": "stream",
     "text": [
      "*************\n",
      "creating network parameter file from template /home/abast/test/neurosim_getting_started/getting_started_files/functional_constraints/ongoing_activity/ongoing_activity_celltype_template_exc_conductances_fitted.param\n",
      "*************\n"
     ]
    }
   ],
   "source": [
    "import evoked_network_param_from_template #module that allows to generate parameterfile on how to activate the synapses\n",
    "reload(evoked_network_param_from_template)\n",
    "ongoingTemplateParamName = os.path.join(getting_started_files, 'functional_constraints/ongoing_activity/ongoing_activity_celltype_template_exc_conductances_fitted.param')\n",
    "# cellNumberFileName: see cell above\n",
    "syn_file = os.path.join(getting_started_files, '86_L5_CDK20041214_nr3L5B_dend_PC_neuron_transform_registered_C2center_synapses_20150504-1611_10389/86_L5_CDK20041214_nr3L5B_dend_PC_neuron_transform_registered_C2center_synapses_20150504-1611_10389/86_L5_CDK20041214_nr3L5B_dend_PC_neuron_transform_registered_C2center_synapses_20150504-1611_10389.syn')\n",
    "con_file = os.path.join(getting_started_files, '86_L5_CDK20041214_nr3L5B_dend_PC_neuron_transform_registered_C2center_synapses_20150504-1611_10389/86_L5_CDK20041214_nr3L5B_dend_PC_neuron_transform_registered_C2center_synapses_20150504-1611_10389/86_L5_CDK20041214_nr3L5B_dend_PC_neuron_transform_registered_C2center_synapses_20150504-1611_10389.con')\n",
    "whisker = 'C2' #simulate C2 stimulus. Since out cell is located in C2center, this is a principal whisker stimulation scenario.\n",
    "evoked_up_param_name = os.path.join(getting_started_files, 'functional_constraints/network.param')\n",
    "evoked_network_param_from_template.create_network_parameter(ongoingTemplateParamName, cellNumberFileName, syn_file, con_file, whisker, evoked_up_param_name)    "
   ]
  },
  {
   "cell_type": "markdown",
   "metadata": {},
   "source": [
    "##### what does the result look like?"
   ]
  },
  {
   "cell_type": "code",
   "execution_count": 33,
   "metadata": {
    "collapsed": false
   },
   "outputs": [
    {
     "name": "stdout",
     "output_type": "stream",
     "text": [
      "{\n",
      "  \"info\": {\n",
      "    \"date\": \"11Feb2015\",\n",
      "    \"name\": \"ongoing_activity_up_state_anatomical_map_20150211-1430_22780\",\n",
      "    \"author\": \"regger\",\n",
      "  },\n",
      "  \"network\": {\n",
      "    \"L45Peak_D1\": {\n",
      "      \"synapses\": {\n",
      "        \"releaseProb\": 0.25,\n",
      "        \"distributionFile\": \"/home/abast/test/neurosim_getting_started/getting_started_files/86_L5_CDK20041214_nr3L5B_dend_PC_neuron_transform_registered_C2center_synapses_20150504-1611_10389/86_L5_CDK20041214_nr3L5B_dend_PC_neuron_transform_registered_C2center_synapses_20150504-1611_10389/86_L5_CDK20041214_nr3L5B_dend_PC_neuron_transform_registered_C2center_synapses_20150504-1611_10389.syn\",\n",
      "        \"receptors\": {\n",
      "          \"gaba_syn\": {\n",
      "            \"threshold\": 0.0,\n",
      "            \"delay\": 0.0,\n",
      "            \"parameter\": {\n",
      "              \"decaytime\": 20.0,\n",
      "              \"risetime\": 1.0,\n",
      "              \"decaygaba\": 1.0,\n",
      "              \"e\": -80.0,\n",
      "              \"facilgaba\": 0.0,\n",
      "            },\n",
      "            \"weight\": 1.0,\n",
      "          },\n",
      "        },\n",
      "        \"connectionFile\": \"/home/abast/test/neurosim_getting_started/getting_started_files/86_L5_CDK20041214_nr3L5B_dend_PC_neuron_transform_registered_C2center_synapses_20150504-1611_10389/86_L5_CDK20041214_nr3L5B_dend_PC_neuron_transform_registered_C2center_synapses_20150504-1611_10389/86_L5_CDK20041214_nr3L5B_dend_PC_neuron_transform_registered_C2center_synapses_20150504-1611_10389.con\",\n",
      "      },\n",
      "      \"cellNr\": 7,\n",
      "      \"celltype\": {\n",
      "        \"pointcell\": {\n",
      "          \"probabilities\": [0.0043, 0.0043, 0.0043, 0.0043, 0.0153, 0.0157, 0.0043, 0.0093, 0.0128, 0.0043, 0.0153, 0.0043, 0.0043, 0.0157, 0.0043, 0.0153, 0.0043, 0.0157, 0.0386, 0.0273, 0.0043, 0.0157, 0.0157, 0.0157, 0.0043, 0.0273, 0.0043, 0.0043, 0.0153, 0.0157, 0.0324, 0.0273, 0.0386, 0.0153, 0.0043, 0.0153, 0.0043, 0.0157],\n",
      "          \"distribution\": \"PSTH\",\n",
      "          \"intervals\": [(0.0, 1.0), (2.0, 3.0), (3.0, 4.0), (4.0, 5.0), (5.0, 6.0), (7.0, 8.0), (8.0, 9.0), (13.0, 14.0), (14.0, 15.0), (15.0, 16.0), (16.0, 17.0), (17.0, 18.0), (20.0, 21.0), (21.0, 22.0), (22.0, 23.0), (23.0, 24.0), (24.0, 25.0), (25.0, 26.0), (26.0, 27.0), (28.0, 29.0), (29.0, 30.0), (30.0, 31.0), (31.0, 32.0), (32.0, 33.0), (33.0, 34.0), (35.0, 36.0), (36.0, 37.0), (37.0, 38.0), (38.0, 39.0), (39.0, 40.0), (40.0, 41.0), (42.0, 43.0), (43.0, 44.0), (44.0, 45.0), (45.0, 46.0), (46.0, 47.0), (47.0, 48.0), (49.0, 50.0)],\n",
      "          \"offset\": 245.0,\n",
      "        },\n",
      "        \"spiketrain\": {\n",
      "          \"interval\": 142.9,\n",
      "        },\n",
      "      },\n",
      "    },\n",
      "    \"L34_D1\": {\n",
      "      \"synapses\": {\n",
      "        \"releaseProb\": 0.6,\n",
      "        \"distributionFile\": \"/home/abast/test/neurosim_getting_started/getting_started_files/86_L5_CDK20041214_nr3L5B_dend_PC_neuron_transform_registered_C2center_synapses_20150504-1611_10389/86_L5_CDK20041214_nr3L5B_dend_PC_neuron_transform_registered_C2center_synapses_20150504-1611_10389/86_L5_CDK20041214_nr3L5B_dend_PC_neuron_transform_registered_C2center_synapses_20150504-1611_10389.syn\",\n",
      "        \"receptors\": {\n",
      "          \"glutamate_syn\": {\n",
      "            \"threshold\": 0.0,\n",
      "            \"delay\": 0.0,\n",
      "            \"parameter\": {\n",
      "              \"decayampa\": 1.0,\n",
      "              \"facilnmda\": 0.0,\n",
      "              \"tau2\": 2.0,\n",
      "              \"tau3\": 2.0,\n",
      "              \"tau1\": 26.0,\n",
      "              \"tau4\": 0.1,\n",
      "              \"decaynmda\": 1.0,\n",
      "              \"facilampa\": 0.0,\n",
      "            },\n",
      "            \"weight\": [1.68, 1.68],\n",
      "          },\n",
      "        },\n",
      "        \"connectionFile\": \"/home/abast/test/neurosim_getting_started/getting_started_files/86_L5_CDK20041214_nr3L5B_dend_PC_neuron_transform_registered_C2center_synapses_20150504-1611_10389/86_L5_CDK20041214_nr3L5B_dend_PC_neuron_transform_registered_C2center_synapses_20150504-1611_10389/86_L5_CDK20041214_nr3L5B_dend_PC_neuron_transform_registered_C2center_synapses_20150504-1611_10389.con\",\n",
      "      },\n",
      "      \"cellNr\": 196,\n",
      "      \"celltype\": {\n",
      "        \"pointcell\": {\n",
      "          \"probabilities\": [0.002, 0.002],\n",
      "          \"distribution\": \"PSTH\",\n",
      "          \"intervals\": [(13.0, 14.0), (49.0, 50.0)],\n",
      "          \"offset\": 245.0,\n",
      "        },\n",
      "        \"spiketrain\": {\n",
      "          \"interval\": 3225.8,\n",
      "        },\n",
      "      },\n",
      "    },\n",
      "    \"L45Pe\n"
     ]
    }
   ],
   "source": [
    "with open(evoked_up_param_name) as f:\n",
    "    print f.read()[:4100]"
   ]
  },
  {
   "cell_type": "markdown",
   "metadata": {},
   "source": [
    "This file contains the activation pattern of every presynaptic population providing input to the single cell we want to simulate. One \"population\" in this case is one celltype in one column. Examples are: L45Peak_D1, L5tt_D2, L5tt_C2, VPM_C1, ...\n",
    "\n",
    "In this file all the parameters necessary to constrain the timedependent acitvity of the synapses mapped onto the neuron are specified:\n",
    " - synapses --> releaseProb: chance that synapse gets activated if presynaptic cell gets activated\n",
    " - synapses --> distributionFile: pointing to the .syn file generated in the anatomical network mapping above\n",
    " - network --> [population] --> celltype --> pointcell --> spiketrain: mean ongoing frequency of the presynaptic populations\n",
    " - network --> [population] --> celltype --> pointcell --> probabilities: PSTH of evoked activity (will be added on top of ongoing activity)\n",
    " - network --> [population] --> celltype --> pointcell --> offset: timepoint at which the evoked activity starts\n",
    " - ...\n",
    " "
   ]
  },
  {
   "cell_type": "markdown",
   "metadata": {},
   "source": [
    "## Determine channel densities such that the cell exhibits certain properties measured in slice data"
   ]
  },
  {
   "cell_type": "markdown",
   "metadata": {},
   "source": [
    "Currently, the parameters are determined using a MOO approach. The result is writen manually in the cell parameter file:"
   ]
  },
  {
   "cell_type": "code",
   "execution_count": null,
   "metadata": {
    "collapsed": false,
    "scrolled": true
   },
   "outputs": [],
   "source": [
    "cell_parameter_file = os.path.join(getting_started_files, '86_CDK_20041214_BAC_run5_soma_Hay2013_C2center_apic_rec.param')\n",
    "with open(cell_parameter_file) as f:\n",
    "    print f.read()[:1000]"
   ]
  },
  {
   "cell_type": "markdown",
   "metadata": {},
   "source": [
    "### run the simulation"
   ]
  },
  {
   "cell_type": "code",
   "execution_count": 35,
   "metadata": {
    "collapsed": true
   },
   "outputs": [],
   "source": [
    "evoked_up_param_name # specified above\n",
    "cell_parameter_file  #specified above\n",
    "dir_prefix = getting_started_files #results are put here in a \"results\" subfolder\n",
    "nSweeps= 10 # number of consecutive mounte carlo simulations per process\n",
    "nprocs = 20 # number of processes simulating in parallel\n",
    "tStop = 300 # stop the simulation at 300ms\n",
    "silent = True # suppress output (disable this for debug purposes)"
   ]
  },
  {
   "cell_type": "code",
   "execution_count": 36,
   "metadata": {
    "collapsed": false
   },
   "outputs": [
    {
     "name": "stdout",
     "output_type": "stream",
     "text": [
      "CPU times: user 24 ms, sys: 0 ns, total: 24 ms\n",
      "Wall time: 46.4 ms\n"
     ]
    },
    {
     "data": {
      "text/plain": [
       "Delayed('lambda-a3a04394-9486-4cc6-974c-f8f4a373beeb')"
      ]
     },
     "execution_count": 36,
     "metadata": {},
     "output_type": "execute_result"
    }
   ],
   "source": [
    "%time d = I.simrun_run_new_simulations(cell_parameter_file, evoked_up_param_name, dirPrefix=dir_prefix, nSweeps=nSweeps, nprocs=nprocs, tStop=tStop, silent=silent)\n",
    "d"
   ]
  },
  {
   "cell_type": "markdown",
   "metadata": {},
   "source": [
    "The result is a dask delayed object, in which a **plan** how to compute the result is stored. To compute it, call `compute`. The get keyword allows to specify a scheduler, here the multiprocessing scheduler is used. To run it on a cluster, an instance of `distributed.Client` could be used."
   ]
  },
  {
   "cell_type": "code",
   "execution_count": null,
   "metadata": {
    "collapsed": false
   },
   "outputs": [],
   "source": [
    "import dask\n",
    "d.compute(get = dask.multiprocessing.get) # run the simulation using the multiprocessing scheduler"
   ]
  },
  {
   "cell_type": "markdown",
   "metadata": {},
   "source": [
    "### load simulation results in database to make them accessible in python"
   ]
  },
  {
   "cell_type": "code",
   "execution_count": 4,
   "metadata": {
    "collapsed": false
   },
   "outputs": [],
   "source": [
    "import Interface as I\n",
    "mdb = I.ModelDataBase(os.path.join(getting_started_files, 'mdb')) #specify home folder of database"
   ]
  },
  {
   "cell_type": "code",
   "execution_count": 4,
   "metadata": {
    "collapsed": false
   },
   "outputs": [
    {
     "name": "stdout",
     "output_type": "stream",
     "text": [
      "---building data base core---\n",
      "generate filelist ...\n",
      "generate voltage traces dataframe...\n",
      "[########################################] | 100% Completed |  0.6s\n",
      "generate unambigous indices ...\n",
      "[########################################] | 100% Completed |  0.8s\n",
      "generate metadata ...\n",
      "add divisions to voltage traces dataframe\n",
      "---moving parameter files---\n",
      "find unique parameterfiles\n",
      "[########################################] | 100% Completed |  3.5s\n",
      "move parameterfiles\n",
      "[########################################] | 100% Completed |  0.1s\n",
      "move parameterfiles\n",
      "[########################################] | 100% Completed |  0.1s\n",
      "---building synapse activation dataframe---\n",
      "counting commas\n",
      "[########################################] | 100% Completed |  0.3s\n",
      "14\n",
      "generate dataframe\n",
      "[########################################] | 100% Completed |  0.1s\n",
      "save dataframe\n",
      "---building cell activation dataframe---\n",
      "counting commas\n",
      "[########################################] | 100% Completed |  0.3s\n",
      "17\n",
      "generate dataframe\n",
      "[########################################] | 100% Completed |  0.1s\n",
      "save dataframe\n",
      "---building dendritic voltage traces dataframes---\n",
      "[########################################] | 100% Completed |  0.6s\n",
      "[########################################] | 100% Completed |  0.6s\n",
      "---spike times---\n",
      "[########################################] | 100% Completed |  0.8s\n",
      "---burst times---\n",
      "[########################################] | 100% Completed |  1.0s\n",
      "Initialization succesful.\n"
     ]
    }
   ],
   "source": [
    "I.mdb_init_simrun_general.init(mdb, os.path.join(getting_started_files, 'results'))"
   ]
  },
  {
   "cell_type": "markdown",
   "metadata": {},
   "source": [
    "The mdb object can be used like a dictionary. The database contains dask dataframes giving access to the simulation data."
   ]
  },
  {
   "cell_type": "code",
   "execution_count": 89,
   "metadata": {
    "collapsed": false
   },
   "outputs": [
    {
     "data": {
      "text/plain": [
       "['Vm_distal',\n",
       " 'Vm_proximal',\n",
       " 'burst_times',\n",
       " 'cell_activation',\n",
       " 'dendritic_voltage_traces_keys',\n",
       " 'file_list',\n",
       " 'metadata',\n",
       " 'parameterfiles',\n",
       " 'parameterfiles_cell_folder',\n",
       " 'parameterfiles_network_folder',\n",
       " 'sim_trail_index',\n",
       " 'simresult_path',\n",
       " 'spike_times',\n",
       " 'synapse_activation',\n",
       " 'voltage_traces']"
      ]
     },
     "execution_count": 89,
     "metadata": {},
     "output_type": "execute_result"
    }
   ],
   "source": [
    "mdb.keys()"
   ]
  },
  {
   "cell_type": "code",
   "execution_count": 88,
   "metadata": {
    "collapsed": false
   },
   "outputs": [
    {
     "name": "stdout",
     "output_type": "stream",
     "text": [
      "[########################################] | 100% Completed |  0.1s\n"
     ]
    },
    {
     "data": {
      "text/html": [
       "<div>\n",
       "<table border=\"1\" class=\"dataframe\">\n",
       "  <thead>\n",
       "    <tr style=\"text-align: right;\">\n",
       "      <th></th>\n",
       "      <th>synapse_type</th>\n",
       "      <th>synapse_ID</th>\n",
       "      <th>soma_distance</th>\n",
       "      <th>section_ID</th>\n",
       "      <th>section_pt_ID</th>\n",
       "      <th>dendrite_label</th>\n",
       "      <th>0</th>\n",
       "      <th>1</th>\n",
       "      <th>2</th>\n",
       "      <th>3</th>\n",
       "      <th>4</th>\n",
       "      <th>5</th>\n",
       "      <th>6</th>\n",
       "      <th>7</th>\n",
       "    </tr>\n",
       "    <tr>\n",
       "      <th>sim_trail_index</th>\n",
       "      <th></th>\n",
       "      <th></th>\n",
       "      <th></th>\n",
       "      <th></th>\n",
       "      <th></th>\n",
       "      <th></th>\n",
       "      <th></th>\n",
       "      <th></th>\n",
       "      <th></th>\n",
       "      <th></th>\n",
       "      <th></th>\n",
       "      <th></th>\n",
       "      <th></th>\n",
       "      <th></th>\n",
       "    </tr>\n",
       "  </thead>\n",
       "  <tbody>\n",
       "    <tr>\n",
       "      <th>20170327-0745_seed122328974/000000</th>\n",
       "      <td>L1_C1</td>\n",
       "      <td>6</td>\n",
       "      <td>1417.471240</td>\n",
       "      <td>47</td>\n",
       "      <td>9</td>\n",
       "      <td>ApicalDendrite</td>\n",
       "      <td>208.348580</td>\n",
       "      <td>NaN</td>\n",
       "      <td>NaN</td>\n",
       "      <td>NaN</td>\n",
       "      <td>NaN</td>\n",
       "      <td>NaN</td>\n",
       "      <td>NaN</td>\n",
       "      <td>NaN</td>\n",
       "    </tr>\n",
       "    <tr>\n",
       "      <th>20170327-0745_seed122328974/000000</th>\n",
       "      <td>L1_C1</td>\n",
       "      <td>18</td>\n",
       "      <td>1508.620514</td>\n",
       "      <td>50</td>\n",
       "      <td>63</td>\n",
       "      <td>ApicalDendrite</td>\n",
       "      <td>240.685555</td>\n",
       "      <td>NaN</td>\n",
       "      <td>NaN</td>\n",
       "      <td>NaN</td>\n",
       "      <td>NaN</td>\n",
       "      <td>NaN</td>\n",
       "      <td>NaN</td>\n",
       "      <td>NaN</td>\n",
       "    </tr>\n",
       "    <tr>\n",
       "      <th>20170327-0745_seed122328974/000000</th>\n",
       "      <td>L1_C1</td>\n",
       "      <td>21</td>\n",
       "      <td>1494.761607</td>\n",
       "      <td>49</td>\n",
       "      <td>48</td>\n",
       "      <td>ApicalDendrite</td>\n",
       "      <td>174.886361</td>\n",
       "      <td>NaN</td>\n",
       "      <td>NaN</td>\n",
       "      <td>NaN</td>\n",
       "      <td>NaN</td>\n",
       "      <td>NaN</td>\n",
       "      <td>NaN</td>\n",
       "      <td>NaN</td>\n",
       "    </tr>\n",
       "    <tr>\n",
       "      <th>20170327-0745_seed122328974/000000</th>\n",
       "      <td>L1_C1</td>\n",
       "      <td>25</td>\n",
       "      <td>1389.264410</td>\n",
       "      <td>50</td>\n",
       "      <td>7</td>\n",
       "      <td>ApicalDendrite</td>\n",
       "      <td>228.604036</td>\n",
       "      <td>NaN</td>\n",
       "      <td>NaN</td>\n",
       "      <td>NaN</td>\n",
       "      <td>NaN</td>\n",
       "      <td>NaN</td>\n",
       "      <td>NaN</td>\n",
       "      <td>NaN</td>\n",
       "    </tr>\n",
       "    <tr>\n",
       "      <th>20170327-0745_seed122328974/000000</th>\n",
       "      <td>L1_C2</td>\n",
       "      <td>9</td>\n",
       "      <td>1423.024481</td>\n",
       "      <td>74</td>\n",
       "      <td>5</td>\n",
       "      <td>ApicalDendrite</td>\n",
       "      <td>74.905120</td>\n",
       "      <td>NaN</td>\n",
       "      <td>NaN</td>\n",
       "      <td>NaN</td>\n",
       "      <td>NaN</td>\n",
       "      <td>NaN</td>\n",
       "      <td>NaN</td>\n",
       "      <td>NaN</td>\n",
       "    </tr>\n",
       "  </tbody>\n",
       "</table>\n",
       "</div>"
      ],
      "text/plain": [
       "                                   synapse_type  synapse_ID  soma_distance  \\\n",
       "sim_trail_index                                                              \n",
       "20170327-0745_seed122328974/000000        L1_C1           6    1417.471240   \n",
       "20170327-0745_seed122328974/000000        L1_C1          18    1508.620514   \n",
       "20170327-0745_seed122328974/000000        L1_C1          21    1494.761607   \n",
       "20170327-0745_seed122328974/000000        L1_C1          25    1389.264410   \n",
       "20170327-0745_seed122328974/000000        L1_C2           9    1423.024481   \n",
       "\n",
       "                                    section_ID  section_pt_ID  dendrite_label  \\\n",
       "sim_trail_index                                                                 \n",
       "20170327-0745_seed122328974/000000          47              9  ApicalDendrite   \n",
       "20170327-0745_seed122328974/000000          50             63  ApicalDendrite   \n",
       "20170327-0745_seed122328974/000000          49             48  ApicalDendrite   \n",
       "20170327-0745_seed122328974/000000          50              7  ApicalDendrite   \n",
       "20170327-0745_seed122328974/000000          74              5  ApicalDendrite   \n",
       "\n",
       "                                             0   1   2   3   4   5   6   7  \n",
       "sim_trail_index                                                             \n",
       "20170327-0745_seed122328974/000000  208.348580 NaN NaN NaN NaN NaN NaN NaN  \n",
       "20170327-0745_seed122328974/000000  240.685555 NaN NaN NaN NaN NaN NaN NaN  \n",
       "20170327-0745_seed122328974/000000  174.886361 NaN NaN NaN NaN NaN NaN NaN  \n",
       "20170327-0745_seed122328974/000000  228.604036 NaN NaN NaN NaN NaN NaN NaN  \n",
       "20170327-0745_seed122328974/000000   74.905120 NaN NaN NaN NaN NaN NaN NaN  "
      ]
     },
     "execution_count": 88,
     "metadata": {},
     "output_type": "execute_result"
    }
   ],
   "source": [
    "mdb['synapse_activation'].head()"
   ]
  },
  {
   "cell_type": "markdown",
   "metadata": {},
   "source": [
    "##### plot the PSTH"
   ]
  },
  {
   "cell_type": "code",
   "execution_count": 5,
   "metadata": {
    "collapsed": false
   },
   "outputs": [
    {
     "data": {
      "image/png": "[encoded data removed]",
      "text/plain": [
       "<matplotlib.figure.Figure at 0x2ba13184dd50>"
      ]
     },
     "execution_count": 5,
     "metadata": {},
     "output_type": "execute_result"
    }
   ],
   "source": [
    "import matplotlib.pyplot as plt\n",
    "fig = plt.figure(figsize = (15,3))\n",
    "bins = I.temporal_binning(mdb['spike_times'])\n",
    "I.histogram(bins, fig = fig)\n",
    "fig.axes[-1].set_xlabel('t in ms')\n",
    "fig.axes[-1].set_ylabel('# spikes per trail per ms')\n",
    "fig.add_subplot(111).axvline(245)\n",
    "fig"
   ]
  },
  {
   "cell_type": "markdown",
   "metadata": {},
   "source": [
    "Usually, we discard the first 100ms of simulation since the cell needs that time to reach a \"steady state\". At 245ms, a C2 whisker stimulus occurs, followed by a strong evoked response at ~260 ms."
   ]
  },
  {
   "cell_type": "markdown",
   "metadata": {},
   "source": [
    "##### plot single voltage traces, mean and std"
   ]
  },
  {
   "cell_type": "code",
   "execution_count": 8,
   "metadata": {
    "collapsed": false
   },
   "outputs": [],
   "source": [
    "import dask\n",
    "import matplotlib.pyplot as plt\n",
    "mean = mdb['voltage_traces'].mean(axis = 0).compute(get = dask.multiprocessing.get)\n",
    "std = mdb['voltage_traces'].std(axis = 0).compute(get = dask.multiprocessing.get)"
   ]
  },
  {
   "cell_type": "code",
   "execution_count": 31,
   "metadata": {
    "collapsed": false
   },
   "outputs": [
    {
     "data": {
      "image/png": "[encoded data removed]",
      "text/plain": [
       "<matplotlib.figure.Figure at 0x2b732c252110>"
      ]
     },
     "execution_count": 31,
     "metadata": {},
     "output_type": "execute_result"
    }
   ],
   "source": [
    "fig = plt.figure(figsize = (15,6))\n",
    "I.manylines(mdb['voltage_traces'], fig = fig.add_subplot(211), axis = [0, 300, -100, 50])\n",
    "I.average_std(mean, std, fig = fig.add_subplot(212))\n",
    "fig.axes[-1].set_xlim(0,300)\n",
    "fig"
   ]
  },
  {
   "cell_type": "markdown",
   "metadata": {},
   "source": [
    "##### How many trails have a spike in the interval 245ms to 265 ms?"
   ]
  },
  {
   "cell_type": "code",
   "execution_count": 28,
   "metadata": {
    "collapsed": true
   },
   "outputs": [
    {
     "data": {
      "text/html": [
       "<div>\n",
       "<table border=\"1\" class=\"dataframe\">\n",
       "  <thead>\n",
       "    <tr style=\"text-align: right;\">\n",
       "      <th></th>\n",
       "      <th>0</th>\n",
       "      <th>1</th>\n",
       "      <th>2</th>\n",
       "      <th>3</th>\n",
       "      <th>4</th>\n",
       "      <th>5</th>\n",
       "    </tr>\n",
       "    <tr>\n",
       "      <th>sim_trail_index</th>\n",
       "      <th></th>\n",
       "      <th></th>\n",
       "      <th></th>\n",
       "      <th></th>\n",
       "      <th></th>\n",
       "      <th></th>\n",
       "    </tr>\n",
       "  </thead>\n",
       "  <tbody>\n",
       "    <tr>\n",
       "      <th>20170327-0745_seed122328974/000000</th>\n",
       "      <td>17.950</td>\n",
       "      <td>31.825</td>\n",
       "      <td>253.650</td>\n",
       "      <td>260.75</td>\n",
       "      <td>NaN</td>\n",
       "      <td>NaN</td>\n",
       "    </tr>\n",
       "    <tr>\n",
       "      <th>20170327-0745_seed122328974/000001</th>\n",
       "      <td>26.175</td>\n",
       "      <td>33.525</td>\n",
       "      <td>41.975</td>\n",
       "      <td>51.90</td>\n",
       "      <td>NaN</td>\n",
       "      <td>NaN</td>\n",
       "    </tr>\n",
       "    <tr>\n",
       "      <th>20170327-0745_seed122328974/000002</th>\n",
       "      <td>28.950</td>\n",
       "      <td>40.925</td>\n",
       "      <td>120.700</td>\n",
       "      <td>257.30</td>\n",
       "      <td>NaN</td>\n",
       "      <td>NaN</td>\n",
       "    </tr>\n",
       "    <tr>\n",
       "      <th>20170327-0745_seed122328974/000003</th>\n",
       "      <td>18.050</td>\n",
       "      <td>25.000</td>\n",
       "      <td>33.050</td>\n",
       "      <td>44.35</td>\n",
       "      <td>190.250</td>\n",
       "      <td>NaN</td>\n",
       "    </tr>\n",
       "    <tr>\n",
       "      <th>20170327-0745_seed122328974/000004</th>\n",
       "      <td>29.550</td>\n",
       "      <td>39.350</td>\n",
       "      <td>94.800</td>\n",
       "      <td>124.50</td>\n",
       "      <td>259.325</td>\n",
       "      <td>NaN</td>\n",
       "    </tr>\n",
       "  </tbody>\n",
       "</table>\n",
       "</div>"
      ],
      "text/plain": [
       "                                         0       1        2       3        4  \\\n",
       "sim_trail_index                                                                \n",
       "20170327-0745_seed122328974/000000  17.950  31.825  253.650  260.75      NaN   \n",
       "20170327-0745_seed122328974/000001  26.175  33.525   41.975   51.90      NaN   \n",
       "20170327-0745_seed122328974/000002  28.950  40.925  120.700  257.30      NaN   \n",
       "20170327-0745_seed122328974/000003  18.050  25.000   33.050   44.35  190.250   \n",
       "20170327-0745_seed122328974/000004  29.550  39.350   94.800  124.50  259.325   \n",
       "\n",
       "                                     5  \n",
       "sim_trail_index                         \n",
       "20170327-0745_seed122328974/000000 NaN  \n",
       "20170327-0745_seed122328974/000001 NaN  \n",
       "20170327-0745_seed122328974/000002 NaN  \n",
       "20170327-0745_seed122328974/000003 NaN  \n",
       "20170327-0745_seed122328974/000004 NaN  "
      ]
     },
     "execution_count": 28,
     "metadata": {},
     "output_type": "execute_result"
    }
   ],
   "source": [
    "# here is what the spike times dataframe looks like\n",
    "st = mdb['spike_times']\n",
    "st.head()"
   ]
  },
  {
   "cell_type": "code",
   "execution_count": null,
   "metadata": {
    "collapsed": false
   },
   "outputs": [],
   "source": [
    "# pandas provides a powerful syntax to calculate the number of trails (i.e. rows) to calculate the number\n",
    "# of trails exhibiting a spike in the interval 245ms to 265ms.\n",
    "st.apply(lambda x: ((x >= 245) & (x < 265)).any(), axis = 1).value_counts()"
   ]
  },
  {
   "cell_type": "code",
   "execution_count": null,
   "metadata": {
    "collapsed": true
   },
   "outputs": [],
   "source": []
  },
  {
   "cell_type": "markdown",
   "metadata": {},
   "source": [
    "#### 1. Register cell morphology\n",
    "From external resources (e.g. the NeuroMorph pipeline), you need a hoc-file with the dendrite morphology you want to place in the barrel cortex model. The coordinates in the hoc morphology file need to be choosen according to the coordinate system of the barrel cortex model. There is a morphology file in the getting_started subfolder, which is registered such that the cell is in the center of the C2 column. For the following steps, this morphology is used."
   ]
  },
  {
   "cell_type": "markdown",
   "metadata": {},
   "source": [
    "We create a new subfolder in our mdb object, where we put the hoc file and all other anatomical data"
   ]
  },
  {
   "cell_type": "code",
   "execution_count": null,
   "metadata": {
    "collapsed": true
   },
   "outputs": [],
   "source": [
    "mdb.create_managed_folder('anatomical_model')"
   ]
  },
  {
   "cell_type": "code",
   "execution_count": 9,
   "metadata": {
    "collapsed": false
   },
   "outputs": [
    {
     "data": {
      "text/plain": [
       "'/home/abast/my_mdb/anatomical_model_9Fg6WT_'"
      ]
     },
     "execution_count": 9,
     "metadata": {},
     "output_type": "execute_result"
    }
   ],
   "source": [
    "mdb['anatomical_model']"
   ]
  },
  {
   "cell_type": "markdown",
   "metadata": {},
   "source": [
    "Now, we copy the hoc file from the getting started folder into this folder (You can use the file explorer for this..)"
   ]
  },
  {
   "cell_type": "code",
   "execution_count": 5,
   "metadata": {
    "collapsed": false
   },
   "outputs": [],
   "source": [
    "import getting_started # getting_started.parent gives us the absolute path to the getting started folder\n",
    "path_to_hoc = I.os.path.join(getting_started.parent, 'anatomical_constraints',\\\n",
    "                           '86_L5_CDK20041214_nr3L5B_dend_PC_neuron_transform_registered_C2center.hoc')\n",
    "I.shutil.copy(path_to_hoc, mdb['anatomical_model'])"
   ]
  },
  {
   "cell_type": "markdown",
   "metadata": {},
   "source": [
    "#### 2. Generate anatomical model"
   ]
  },
  {
   "cell_type": "markdown",
   "metadata": {},
   "source": [
    "To integrate the registered cell morphology in the barrel cortex model, we use the single_cell_input_mapper package. Its main method is `map_singlecell_inputs`. This method only needs two inputs: the path to the registered hoc morphology and the celltype. It will then create a subfolder containing the information about the position of the synapses and the presynaptic celltype attached to it."
   ]
  },
  {
   "cell_type": "markdown",
   "metadata": {},
   "source": [
    "Under the hood, 50 network realizations will be calculated. Out of these, the one that is closest to the average is choosen. The result is saved in the same folder as the hoc morphology. This takes about ** 4 hrs to compute **, therefore, we just compute 1 sample here."
   ]
  },
  {
   "cell_type": "code",
   "execution_count": 11,
   "metadata": {
    "collapsed": false
   },
   "outputs": [
    {
     "name": "stdout",
     "output_type": "stream",
     "text": [
      "CPU times: user 22min 36s, sys: 5.52 s, total: 22min 42s\n",
      "Wall time: 22min 44s\n"
     ]
    }
   ],
   "source": [
    "celltype = 'L5tt'\n",
    "path_to_registered_hoc_morphology = I.os.path.join(mdb['anatomical_model'], \\\n",
    "                                     '86_L5_CDK20041214_nr3L5B_dend_PC_neuron_transform_registered_C2center.hoc')\n",
    "# the singlecell input mapper produces a lot of printouts to stdout, which would crash this jupyter-notebook, \n",
    "# therefore silence it.\n",
    "silent_map_singlecell_inputs = I.silence_stdout(I.map_singlecell_inputs)\n",
    "%time silent_map_singlecell_inputs(path_to_registered_hoc_morphology, celltype, nrOfSamples=1)"
   ]
  },
  {
   "cell_type": "markdown",
   "metadata": {},
   "source": [
    "##### Sidenote: how to parallelize it?\n",
    "in case we would like to map the input on several cells in parallel, we could utilize dask to parallelize it using multiprocessing or a distributed cluster:"
   ]
  },
  {
   "cell_type": "code",
   "execution_count": null,
   "metadata": {
    "collapsed": true
   },
   "outputs": [],
   "source": [
    "# make the single cell mapper a delayed function\n",
    "delayed_silent_map_singlecell_inputs = dask.delayed(silent_map_singlecell_inputs)"
   ]
  },
  {
   "cell_type": "markdown",
   "metadata": {},
   "source": [
    "delayed_silent_map_singlecell_inputs is a function, which we can use exactly like I.map_singlecell_inputs. However, it returns a dask.delayed object and not the actual result. This delayed object contains a plan how to compute the result, but it is not computed yet. To compute it, the delayed object can be sent to a multiprocessing scheduler or dsitributed cluster, which can execute delayed objects in parallel. For more information see the [dask documentation](http://dask.pydata.org/en/latest/)"
   ]
  },
  {
   "cell_type": "code",
   "execution_count": null,
   "metadata": {
    "collapsed": false
   },
   "outputs": [],
   "source": [
    "# call it with the morphologies\n",
    "delayeds = [silent_map_singlecell_inputs(morphology_paths[p], 'L5tt') for p in morphology_paths]\n",
    "# bundle everything in one delayed object\n",
    "delayeds = I.dask.delayed(delayeds)\n",
    "# compute the result, e.g. with the multiprocessing scheduler\n",
    "delayeds.compute(get = I.dask.multiprocessing.get)\n",
    "# or with the distributed scheduler:\n",
    "future = I.cluster('my_server:8787', set_as_default = False).compute(delayeds)"
   ]
  },
  {
   "cell_type": "markdown",
   "metadata": {},
   "source": [
    "##### What does the result of the map_singlecell_inputs method look like?\n",
    "\n",
    "The most important files are:\n",
    " - The  *_summary_*.csv file contains a summary statistics about the connectivity between all presynaptic populations and our neuron.\n",
    " - The *.con file and the *. syn file are the relevant output of the SingleCellMapper for simulations of evoked activity."
   ]
  },
  {
   "cell_type": "markdown",
   "metadata": {},
   "source": [
    "The con file maps between presynaptic cells and synapses:"
   ]
  },
  {
   "cell_type": "code",
   "execution_count": 16,
   "metadata": {
    "collapsed": false
   },
   "outputs": [],
   "source": [
    "con_file_path = I.glob.glob(I.os.path.join(mdb['anatomical_model'], '*', '*.con'))[0]"
   ]
  },
  {
   "cell_type": "code",
   "execution_count": 23,
   "metadata": {
    "collapsed": false
   },
   "outputs": [
    {
     "name": "stdout",
     "output_type": "stream",
     "text": [
      "# Anatomical connectivity realization file; only valid with synapse realization:\n",
      "# 86_L5_CDK20041214_nr3L5B_dend_PC_neuron_transform_registered_C2center_synapses_20171021-2153_2787.syn\n",
      "# Type - cell ID - synapse ID\n",
      "\n",
      "L6cc_A3\t0\t0\n",
      "L6cc_A3\t1\t1\n",
      "L6cc_A3\t2\t2\n",
      "L6cc_A3\t3\t3\n",
      "L6cc_A3\t4\t4\n",
      "L6cc_A3\t5\t5\n",
      "L6cc_A3\t6\t6\n",
      "\n"
     ]
    }
   ],
   "source": [
    "with open(con_file_path) as f:\n",
    "    print f.read()[:300]"
   ]
  },
  {
   "cell_type": "markdown",
   "metadata": {},
   "source": [
    "The .syn file specifies the exact position of each synapse on the hoc morphology:"
   ]
  },
  {
   "cell_type": "code",
   "execution_count": 21,
   "metadata": {
    "collapsed": true
   },
   "outputs": [],
   "source": [
    "syn_file_path = I.glob.glob(I.os.path.join(mdb['anatomical_model'], '*', '*.syn'))[0]"
   ]
  },
  {
   "cell_type": "code",
   "execution_count": 24,
   "metadata": {
    "collapsed": false
   },
   "outputs": [
    {
     "name": "stdout",
     "output_type": "stream",
     "text": [
      "# Synapse distribution file\n",
      "# corresponding to cell: 86_L5_86_L5_CDK20041214_nr3L5B_dend_PC_neuron_transform_registered_C2center\n",
      "# Type - section - section.x\n",
      "\n",
      "SymLocal3_C1\t148\t0.993649889038\n",
      "SymLocal3_C1\t38\t0.126538357522\n",
      "SymLocal3_C1\t51\t0.300634863007\n",
      "SymLocal3_C3\t133\t0.919752699752\n",
      "SymLocal3_C3\t13\n"
     ]
    }
   ],
   "source": [
    "with open(syn_file_path) as f:\n",
    "    print f.read()[:300]"
   ]
  },
  {
   "cell_type": "markdown",
   "metadata": {},
   "source": [
    "#### 4. Activate synapses\n",
    "In the previous step, the synapse location on the hoc morphology was specified. Now we need to activate the synapses according to experimental data. Here, we generate a parameter file specifying the summary statistics of the activation of the presynaptic cells with 1ms resolution."
   ]
  },
  {
   "cell_type": "markdown",
   "metadata": {},
   "source": [
    "##### specify parameters"
   ]
  },
  {
   "cell_type": "code",
   "execution_count": 11,
   "metadata": {
    "collapsed": true
   },
   "outputs": [],
   "source": [
    "I.create_evoked_network_parameter?"
   ]
  },
  {
   "cell_type": "code",
   "execution_count": 12,
   "metadata": {
    "collapsed": false
   },
   "outputs": [
    {
     "data": {
      "text/plain": [
       "'/home/abast/my_mdb/functional_model_TTphUW_'"
      ]
     },
     "execution_count": 12,
     "metadata": {},
     "output_type": "execute_result"
    }
   ],
   "source": [
    "mdb.create_managed_folder('functional_model')"
   ]
  },
  {
   "cell_type": "code",
   "execution_count": 23,
   "metadata": {
    "collapsed": false
   },
   "outputs": [
    {
     "name": "stdout",
     "output_type": "stream",
     "text": [
      "*************\n",
      "creating network parameter file from template /nas1/Data_arco/project_src/in_silico_framework/getting_started/functional_constraints/ongoing_activity/ongoing_activity_celltype_template_exc_conductances_fitted.param\n",
      "*************\n"
     ]
    }
   ],
   "source": [
    "import getting_started\n",
    "ongoingTemplateParamName = I.os.path.join(getting_started.parent, 'functional_constraints/ongoing_activity/ongoing_activity_celltype_template_exc_conductances_fitted.param')\n",
    "assert(I.os.path.exists(ongoingTemplateParamName))\n",
    "# syn_file_path: see above\n",
    "# con_file_path: see above \n",
    "cellNumberFileName = I.os.path.join(I.os.path.dirname(con_file_path), 'NumberOfConnectedCells.csv')\n",
    "#simulate C2 stimulus. Since out cell is located in C2center, this is a principal whisker stimulation scenario.\n",
    "whisker = 'C2' \n",
    "evoked_param_name = I.os.path.join(mdb['functional_model'], 'network.param')\n",
    "I.create_evoked_network_parameter(ongoingTemplateParamName, cellNumberFileName, syn_file_path, \\\n",
    "                                  con_file_path, whisker, evoked_param_name)    "
   ]
  },
  {
   "cell_type": "markdown",
   "metadata": {},
   "source": [
    "##### what does the result look like?"
   ]
  },
  {
   "cell_type": "code",
   "execution_count": 24,
   "metadata": {
    "collapsed": false,
    "scrolled": true
   },
   "outputs": [
    {
     "name": "stdout",
     "output_type": "stream",
     "text": [
      "{\n",
      "  \"info\": {\n",
      "    \"date\": \"11Feb2015\",\n",
      "    \"name\": \"ongoing_activity_up_state_anatomical_map_20150211-1430_22780\",\n",
      "    \"author\": \"regger\",\n",
      "  },\n",
      "  \"network\": {\n",
      "    \"L45Peak_D1\": {\n",
      "      \"synapses\": {\n",
      "        \"releaseProb\": 0.25,\n",
      "        \"distributionFile\": \"/home/abast/my_mdb/anatomical_model_9Fg6WT_/86_L5_CDK20041214_nr3L5B_dend_PC_neuron_transform_registered_C2center_synapses_20171021-2153_2787/86_L5_CDK20041214_nr3L5B_dend_PC_neuron_transform_registered_C2center_synapses_20171021-2153_2787.syn\",\n",
      "        \"receptors\": {\n",
      "          \"gaba_syn\": {\n",
      "            \"threshold\": 0.0,\n",
      "            \"delay\": 0.0,\n",
      "            \"parameter\": {\n",
      "              \"decaytime\": 20.0,\n",
      "              \"risetime\": 1.0,\n",
      "              \"decaygaba\": 1.0,\n",
      "              \"e\": -80.0,\n",
      "              \"facilgaba\": 0.0,\n",
      "            },\n",
      "            \"weight\": 1.0,\n",
      "          },\n",
      "        },\n",
      "        \"connectionFile\": \"/home/abast/my_mdb/anatomical_model_9Fg6WT_/86_L5_CDK20041214_nr3L5B_dend_PC_neuron_transform_registered_C2center_synapses_20171021-2153_2787/86_L5_CDK20041214_nr3L5B_dend_PC_neuron_transform_registered_C2center_synapses_20171021-2153_2787.con\",\n",
      "      },\n",
      "      \"cellNr\": 8,\n",
      "      \"celltype\": {\n",
      "        \"pointcell\": {\n",
      "          \"probabilities\": [0.0043, 0.0043, 0.0043, 0.0043, 0.0153, 0.0157, 0.0043, 0.0093, 0.0128, 0.0043, 0.0153, 0.0043, 0.0043, 0.0157, 0.0043, 0.0153, 0.0043, 0.0157, 0.0386, 0.0273, 0.0043, 0.0157, 0.0157, 0.0157, 0.0043, 0.0273, 0.0043, 0.0043, 0.0153, 0.0157, 0.0324, 0.0273, 0.0386, 0.0153, 0.0043, 0.0153, 0.0043, 0.0157],\n",
      "          \"distribution\": \"PSTH\",\n",
      "          \"intervals\": [(0.0, 1.0), (2.0, 3.0), (3.0, 4.0), (4.0, 5.0), (5.0, 6.0), (7.0, 8.0), (8.0, 9.0), (13.0, 14.0), (14.0, 15.0), (15.0, 16.0), (16.0, 17.0), (17.0, 18.0), (20.0, 21.0), (21.0, 22.0), (22.0, 23.0), (23.0, 24.0), (24.0, 25.0), (25.0, 26.0), (26.0, 27.0), (28.0, 29.0), (29.0, 30.0), (30.0, 31.0), (31.0, 32.0), (32.0, 33.0), (33.0, 34.0), (35.0, 36.0), (36.0, 37.0), (37.0, 38.0), (38.0, 39.0), (39.0, 40.0), (40.0, 41.0), (42.0, 43.0), (43.0, 44.0), (44.0, 45.0), (45.0, 46.0), (46.0, 47.0), (47.0, 48.0), (49.0, 50.0)],\n",
      "          \"offset\": 245.0,\n",
      "        },\n",
      "        \"spiketrain\": {\n",
      "          \"interval\": 142.9,\n",
      "        },\n",
      "      },\n",
      "    },\n",
      "    \"L34_D1\": {\n",
      "      \"synapses\": {\n",
      "        \"releaseProb\": 0.6,\n",
      "        \"distributionFile\": \"/home/abast/my_mdb/anatomical_model_9Fg6WT_/86_L5_CDK20041214_nr3L5B_dend_PC_neuron_transform_registered_C2center_synapses_20171021-2153_2787/86_L5_CDK20041214_nr3L5B_dend_PC_neuron_transform_registered_C2center_synapses_20171021-2153_2787.syn\",\n",
      "        \"receptors\": {\n",
      "          \"glutamate_syn\": {\n",
      "            \"threshold\": 0.0,\n",
      "            \"delay\": 0.0,\n",
      "            \"parameter\": {\n",
      "              \"decayampa\": 1.0,\n",
      "              \"facilnmda\": 0.0,\n",
      "              \"tau2\": 2.0,\n",
      "              \"tau3\": 2.0,\n",
      "              \"tau1\": 26.0,\n",
      "              \"tau4\": 0.1,\n",
      "              \"decaynmda\": 1.0,\n",
      "              \"facilampa\": 0.0,\n",
      "            },\n",
      "            \"weight\": [1.68, 1.68],\n",
      "          },\n",
      "        },\n",
      "        \"connectionFile\": \"/home/abast/my_mdb/anatomical_model_9Fg6WT_/86_L5_CDK20041214_nr3L5B_dend_PC_neuron_transform_registered_C2center_synapses_20171021-2153_2787/86_L5_CDK20041214_nr3L5B_dend_PC_neuron_transform_registered_C2center_synapses_20171021-2153_2787.con\",\n",
      "      },\n",
      "      \"cellNr\": 199,\n",
      "      \"celltype\": {\n",
      "        \"pointcell\": {\n",
      "          \"probabilities\": [0.002, 0.002],\n",
      "          \"distribution\": \"PSTH\",\n",
      "          \"intervals\": [(13.0, 14.0), (49.0, 50.0)],\n",
      "          \"offset\": 245.0,\n",
      "        },\n",
      "        \"spiketrain\": {\n",
      "          \"interval\": 3225.8,\n",
      "        },\n",
      "      },\n",
      "    },\n",
      "    \"L45Peak_D2\": {\n",
      "      \"synapses\": {\n",
      "        \"releaseProb\": 0.25,\n",
      "        \"distributionFile\": \"/home/abast/my_mdb/anatomical_model_9Fg6WT_/86_L5_CDK20041214_nr3L5B_dend_PC_neuron_transform_registered_C2center_synapses_20171021-2153_2787/86_L5_CDK20041214_nr3L5B_dend_PC_neuron_transform_registered_C2center_synapses_20171021-2153_2787.syn\",\n",
      "        \"receptors\": {\n",
      "          \"gaba_syn\": {\n",
      "            \"threshold\": 0.0,\n",
      "            \"delay\": 0.0,\n",
      "            \"parameter\": {\n",
      "              \"decay\n"
     ]
    }
   ],
   "source": [
    "with open(evoked_param_name) as f:\n",
    "    print f.read()[:4100]"
   ]
  },
  {
   "cell_type": "markdown",
   "metadata": {},
   "source": [
    "This file contains the activation pattern of every presynaptic population providing input to the single cell we want to simulate. One \"population\" in this case is one celltype in one column. Examples are: L45Peak_D1, L5tt_D2, L5tt_C2, VPM_C1, ...\n",
    "\n",
    "In this file all the parameters necessary to constrain the timedependent acitvity of the synapses mapped onto the neuron are specified:\n",
    " - synapses --> releaseProb: chance that synapse gets activated if presynaptic cell gets activated\n",
    " - synapses --> distributionFile: pointing to the .syn file generated in the anatomical network mapping above\n",
    " - network --> [population] --> celltype --> pointcell --> spiketrain: mean ongoing frequency of the presynaptic populations\n",
    " - network --> [population] --> celltype --> pointcell --> probabilities: PSTH of evoked activity (will be added on top of ongoing activity)\n",
    " - network --> [population] --> celltype --> pointcell --> offset: timepoint at which the evoked activity starts\n",
    " - ...\n",
    " "
   ]
  },
  {
   "cell_type": "markdown",
   "metadata": {},
   "source": [
    "## Determine channel densities such that the cell exhibits certain properties measured in slice data"
   ]
  },
  {
   "cell_type": "markdown",
   "metadata": {},
   "source": [
    "Currently, the parameters are determined using a MOO approach. The result is writen manually in the cell parameter file:"
   ]
  },
  {
   "cell_type": "code",
   "execution_count": null,
   "metadata": {
    "collapsed": true
   },
   "outputs": [],
   "source": [
    "'/nas1/Data_arco/project_src/in_silico_framework/getting_started/biophysical_constraints/86_CDK_20041214_BAC_run5_soma_Hay2013_C2center_apic_rec.param"
   ]
  },
  {
   "cell_type": "code",
   "execution_count": 28,
   "metadata": {
    "collapsed": false,
    "scrolled": true
   },
   "outputs": [
    {
     "name": "stdout",
     "output_type": "stream",
     "text": [
      "\n",
      "{\t\n",
      "\t\"info\":\n",
      "\t{\n",
      "\t\t\"name\":\t\t\"hay_2011_dend_test\", \n",
      "\t\t\"author\":\t\"regger\",\n",
      "\t\t\"date\": \t\"15Oct2014\",\n",
      "\t},\n",
      "\t\n",
      "\t\"NMODL_mechanisms\":\n",
      "\t{\n",
      "        \"channels\": \"/\",\n",
      "\t},\n",
      "\t\n",
      "\t\"mech_globals\":\n",
      "\t{\n",
      "\t},\n",
      "\t\n",
      "\t\"neuron\":\n",
      "\t{\n",
      "\t\t\"filename\": \"/nas1/Data_arco/project_src/in_silico_framework/getting_started/anatomical_constraints/86_L5_CDK20041214_nr3L5B_dend_PC_neuron_transform_registered_C2center.hoc\",\n",
      "\t\t\n",
      "\t\t\"Soma\":\n",
      "\t\t{\n",
      "\t\t\t\"properties\":\n",
      "\t\t\t{\n",
      "\t\t\t\t\"Ra\": 100.0,\n",
      "\t\t\t\t\"cm\": 1.0,\n",
      "                \n",
      "                \"ions\":\n",
      "                {\n",
      "                    \"ek\": -85.0,\n",
      "                    \"ena\": 50.0,\n",
      "                },\n",
      "\t\t\t},\n",
      "\t\t\t\n",
      "\t\t\t\"mechanisms\":\n",
      "\t\t\t{\n",
      "\t\t\t\t\"global\":\n",
      "\t\t\t\t{\n",
      "\t\t\t\t\t\n",
      "\t\t\t\t},\n",
      "\t\t\t\t\n",
      "\t\t\t\t\"range\":\n",
      "\t\t\t\t{\n",
      "                    \"pas\":\n",
      "                    {\n",
      "                        \"spatial\": \"uniform\",\n",
      "                        \"g\": 0.0000326,\n",
      "                        \"e\": -90,\n",
      "                    },\n",
      "                    \"Ca_LVAst\":\n",
      "                    {\n",
      "                        \"spatial\": \"uniform\",\n",
      "                        \"gCa_\n"
     ]
    }
   ],
   "source": [
    "cell_parameter_file = I.os.path.join(getting_started.parent, 'biophysical_constraints', \\\n",
    "                                     '86_CDK_20041214_BAC_run5_soma_Hay2013_C2center_apic_rec.param')\n",
    "with open(cell_parameter_file) as f:\n",
    "    print f.read()[:1000]"
   ]
  },
  {
   "cell_type": "markdown",
   "metadata": {},
   "source": [
    "### run the simulation"
   ]
  },
  {
   "cell_type": "code",
   "execution_count": 31,
   "metadata": {
    "collapsed": true
   },
   "outputs": [],
   "source": [
    "evoked_param_name # specified above\n",
    "cell_parameter_file  #specified above\n",
    "dir_prefix = mdb.create_managed_folder('simrun') #results are put here in a \"results\" subfolder\n",
    "nSweeps= 10 # number of consecutive mounte carlo simulations per process\n",
    "nprocs = 20 # number of processes simulating in parallel\n",
    "tStop = 300 # stop the simulation at 300ms\n",
    "silent = True # suppress output to stdout (disable this for debug purposes)"
   ]
  },
  {
   "cell_type": "code",
   "execution_count": 33,
   "metadata": {
    "collapsed": false
   },
   "outputs": [
    {
     "name": "stdout",
     "output_type": "stream",
     "text": [
      "CPU times: user 24 ms, sys: 12 ms, total: 36 ms\n",
      "Wall time: 43.5 ms\n"
     ]
    },
    {
     "data": {
      "text/plain": [
       "Delayed('lambda-44a387c7-774d-4ad0-8bdb-a85585442ee5')"
      ]
     },
     "execution_count": 33,
     "metadata": {},
     "output_type": "execute_result"
    }
   ],
   "source": [
    "%time d = I.simrun_run_new_simulations(cell_parameter_file, evoked_param_name, dirPrefix=dir_prefix, nSweeps=nSweeps, nprocs=nprocs, tStop=tStop, silent=silent)\n",
    "d"
   ]
  },
  {
   "cell_type": "markdown",
   "metadata": {},
   "source": [
    "The result is a dask delayed object, in which a **plan** how to compute the result is stored. To compute it, call `compute`. The get keyword allows to specify a scheduler, here the multiprocessing scheduler is used. To run it on a cluster, an instance of `distributed.Client` could be used."
   ]
  },
  {
   "cell_type": "code",
   "execution_count": 35,
   "metadata": {
    "collapsed": false
   },
   "outputs": [
    {
     "name": "stdout",
     "output_type": "stream",
     "text": [
      "[                                        ] | 0% Completed |  9min 17.5s\n"
     ]
    },
    {
     "ename": "KeyboardInterrupt",
     "evalue": "",
     "output_type": "error",
     "traceback": [
      "\u001b[1;31m---------------------------------------------------------------------------\u001b[0m",
      "\u001b[1;31mKeyboardInterrupt\u001b[0m                         Traceback (most recent call last)",
      "\u001b[1;32m<ipython-input-35-e50fdc810a7f>\u001b[0m in \u001b[0;36m<module>\u001b[1;34m()\u001b[0m\n\u001b[0;32m      1\u001b[0m \u001b[1;32mwith\u001b[0m \u001b[0mI\u001b[0m\u001b[1;33m.\u001b[0m\u001b[0mdask\u001b[0m\u001b[1;33m.\u001b[0m\u001b[0mdiagnostics\u001b[0m\u001b[1;33m.\u001b[0m\u001b[0mProgressBar\u001b[0m\u001b[1;33m(\u001b[0m\u001b[1;33m)\u001b[0m\u001b[1;33m:\u001b[0m\u001b[1;33m\u001b[0m\u001b[0m\n\u001b[1;32m----> 2\u001b[1;33m     \u001b[0md\u001b[0m\u001b[1;33m.\u001b[0m\u001b[0mcompute\u001b[0m\u001b[1;33m(\u001b[0m\u001b[0mget\u001b[0m \u001b[1;33m=\u001b[0m \u001b[0mI\u001b[0m\u001b[1;33m.\u001b[0m\u001b[0mdask\u001b[0m\u001b[1;33m.\u001b[0m\u001b[0mmultiprocessing\u001b[0m\u001b[1;33m.\u001b[0m\u001b[0mget\u001b[0m\u001b[1;33m)\u001b[0m \u001b[1;31m# run the simulation using the multiprocessing scheduler\u001b[0m\u001b[1;33m\u001b[0m\u001b[0m\n\u001b[0m",
      "\u001b[1;32m/nas1/Data_arco/prgr/Anaconda/lib/python2.7/site-packages/dask/base.pyc\u001b[0m in \u001b[0;36mcompute\u001b[1;34m(self, **kwargs)\u001b[0m\n\u001b[0;32m     97\u001b[0m             \u001b[0mExtra\u001b[0m \u001b[0mkeywords\u001b[0m \u001b[0mto\u001b[0m \u001b[0mforward\u001b[0m \u001b[0mto\u001b[0m \u001b[0mthe\u001b[0m \u001b[0mscheduler\u001b[0m \u001b[1;33m`\u001b[0m\u001b[1;33m`\u001b[0m\u001b[0mget\u001b[0m\u001b[1;33m`\u001b[0m\u001b[1;33m`\u001b[0m \u001b[0mfunction\u001b[0m\u001b[1;33m.\u001b[0m\u001b[1;33m\u001b[0m\u001b[0m\n\u001b[0;32m     98\u001b[0m         \"\"\"\n\u001b[1;32m---> 99\u001b[1;33m         \u001b[1;33m(\u001b[0m\u001b[0mresult\u001b[0m\u001b[1;33m,\u001b[0m\u001b[1;33m)\u001b[0m \u001b[1;33m=\u001b[0m \u001b[0mcompute\u001b[0m\u001b[1;33m(\u001b[0m\u001b[0mself\u001b[0m\u001b[1;33m,\u001b[0m \u001b[0mtraverse\u001b[0m\u001b[1;33m=\u001b[0m\u001b[0mFalse\u001b[0m\u001b[1;33m,\u001b[0m \u001b[1;33m**\u001b[0m\u001b[0mkwargs\u001b[0m\u001b[1;33m)\u001b[0m\u001b[1;33m\u001b[0m\u001b[0m\n\u001b[0m\u001b[0;32m    100\u001b[0m         \u001b[1;32mreturn\u001b[0m \u001b[0mresult\u001b[0m\u001b[1;33m\u001b[0m\u001b[0m\n\u001b[0;32m    101\u001b[0m \u001b[1;33m\u001b[0m\u001b[0m\n",
      "\u001b[1;32m/nas1/Data_arco/prgr/Anaconda/lib/python2.7/site-packages/dask/base.pyc\u001b[0m in \u001b[0;36mcompute\u001b[1;34m(*args, **kwargs)\u001b[0m\n\u001b[0;32m    204\u001b[0m     \u001b[0mdsk\u001b[0m \u001b[1;33m=\u001b[0m \u001b[0mcollections_to_dsk\u001b[0m\u001b[1;33m(\u001b[0m\u001b[0mvariables\u001b[0m\u001b[1;33m,\u001b[0m \u001b[0moptimize_graph\u001b[0m\u001b[1;33m,\u001b[0m \u001b[1;33m**\u001b[0m\u001b[0mkwargs\u001b[0m\u001b[1;33m)\u001b[0m\u001b[1;33m\u001b[0m\u001b[0m\n\u001b[0;32m    205\u001b[0m     \u001b[0mkeys\u001b[0m \u001b[1;33m=\u001b[0m \u001b[1;33m[\u001b[0m\u001b[0mvar\u001b[0m\u001b[1;33m.\u001b[0m\u001b[0m_keys\u001b[0m\u001b[1;33m(\u001b[0m\u001b[1;33m)\u001b[0m \u001b[1;32mfor\u001b[0m \u001b[0mvar\u001b[0m \u001b[1;32min\u001b[0m \u001b[0mvariables\u001b[0m\u001b[1;33m]\u001b[0m\u001b[1;33m\u001b[0m\u001b[0m\n\u001b[1;32m--> 206\u001b[1;33m     \u001b[0mresults\u001b[0m \u001b[1;33m=\u001b[0m \u001b[0mget\u001b[0m\u001b[1;33m(\u001b[0m\u001b[0mdsk\u001b[0m\u001b[1;33m,\u001b[0m \u001b[0mkeys\u001b[0m\u001b[1;33m,\u001b[0m \u001b[1;33m**\u001b[0m\u001b[0mkwargs\u001b[0m\u001b[1;33m)\u001b[0m\u001b[1;33m\u001b[0m\u001b[0m\n\u001b[0m\u001b[0;32m    207\u001b[0m \u001b[1;33m\u001b[0m\u001b[0m\n\u001b[0;32m    208\u001b[0m     \u001b[0mresults_iter\u001b[0m \u001b[1;33m=\u001b[0m \u001b[0miter\u001b[0m\u001b[1;33m(\u001b[0m\u001b[0mresults\u001b[0m\u001b[1;33m)\u001b[0m\u001b[1;33m\u001b[0m\u001b[0m\n",
      "\u001b[1;32m/nas1/Data_arco/prgr/Anaconda/lib/python2.7/site-packages/dask/multiprocessing.pyc\u001b[0m in \u001b[0;36mget\u001b[1;34m(dsk, keys, num_workers, func_loads, func_dumps, optimize_graph, **kwargs)\u001b[0m\n\u001b[0;32m    175\u001b[0m                            \u001b[0mget_id\u001b[0m\u001b[1;33m=\u001b[0m\u001b[0m_process_get_id\u001b[0m\u001b[1;33m,\u001b[0m \u001b[0mdumps\u001b[0m\u001b[1;33m=\u001b[0m\u001b[0mdumps\u001b[0m\u001b[1;33m,\u001b[0m \u001b[0mloads\u001b[0m\u001b[1;33m=\u001b[0m\u001b[0mloads\u001b[0m\u001b[1;33m,\u001b[0m\u001b[1;33m\u001b[0m\u001b[0m\n\u001b[0;32m    176\u001b[0m                            \u001b[0mpack_exception\u001b[0m\u001b[1;33m=\u001b[0m\u001b[0mpack_exception\u001b[0m\u001b[1;33m,\u001b[0m\u001b[1;33m\u001b[0m\u001b[0m\n\u001b[1;32m--> 177\u001b[1;33m                            raise_exception=reraise, **kwargs)\n\u001b[0m\u001b[0;32m    178\u001b[0m     \u001b[1;32mfinally\u001b[0m\u001b[1;33m:\u001b[0m\u001b[1;33m\u001b[0m\u001b[0m\n\u001b[0;32m    179\u001b[0m         \u001b[1;32mif\u001b[0m \u001b[0mcleanup\u001b[0m\u001b[1;33m:\u001b[0m\u001b[1;33m\u001b[0m\u001b[0m\n",
      "\u001b[1;32m/nas1/Data_arco/prgr/Anaconda/lib/python2.7/site-packages/dask/local.pyc\u001b[0m in \u001b[0;36mget_async\u001b[1;34m(apply_async, num_workers, dsk, result, cache, get_id, rerun_exceptions_locally, pack_exception, raise_exception, callbacks, dumps, loads, **kwargs)\u001b[0m\n\u001b[0;32m    510\u001b[0m             \u001b[1;31m# Main loop, wait on tasks to finish, insert new ones\u001b[0m\u001b[1;33m\u001b[0m\u001b[1;33m\u001b[0m\u001b[0m\n\u001b[0;32m    511\u001b[0m             \u001b[1;32mwhile\u001b[0m \u001b[0mstate\u001b[0m\u001b[1;33m[\u001b[0m\u001b[1;34m'waiting'\u001b[0m\u001b[1;33m]\u001b[0m \u001b[1;32mor\u001b[0m \u001b[0mstate\u001b[0m\u001b[1;33m[\u001b[0m\u001b[1;34m'ready'\u001b[0m\u001b[1;33m]\u001b[0m \u001b[1;32mor\u001b[0m \u001b[0mstate\u001b[0m\u001b[1;33m[\u001b[0m\u001b[1;34m'running'\u001b[0m\u001b[1;33m]\u001b[0m\u001b[1;33m:\u001b[0m\u001b[1;33m\u001b[0m\u001b[0m\n\u001b[1;32m--> 512\u001b[1;33m                 \u001b[0mkey\u001b[0m\u001b[1;33m,\u001b[0m \u001b[0mres_info\u001b[0m\u001b[1;33m,\u001b[0m \u001b[0mfailed\u001b[0m \u001b[1;33m=\u001b[0m \u001b[0mqueue_get\u001b[0m\u001b[1;33m(\u001b[0m\u001b[0mqueue\u001b[0m\u001b[1;33m)\u001b[0m\u001b[1;33m\u001b[0m\u001b[0m\n\u001b[0m\u001b[0;32m    513\u001b[0m                 \u001b[1;32mif\u001b[0m \u001b[0mfailed\u001b[0m\u001b[1;33m:\u001b[0m\u001b[1;33m\u001b[0m\u001b[0m\n\u001b[0;32m    514\u001b[0m                     \u001b[0mexc\u001b[0m\u001b[1;33m,\u001b[0m \u001b[0mtb\u001b[0m \u001b[1;33m=\u001b[0m \u001b[0mloads\u001b[0m\u001b[1;33m(\u001b[0m\u001b[0mres_info\u001b[0m\u001b[1;33m)\u001b[0m\u001b[1;33m\u001b[0m\u001b[0m\n",
      "\u001b[1;32m/nas1/Data_arco/prgr/Anaconda/lib/python2.7/site-packages/dask/local.pyc\u001b[0m in \u001b[0;36mqueue_get\u001b[1;34m(q)\u001b[0m\n\u001b[0;32m    134\u001b[0m     \u001b[1;31m# For more information see: https://bugs.python.org/issue1360\u001b[0m\u001b[1;33m\u001b[0m\u001b[1;33m\u001b[0m\u001b[0m\n\u001b[0;32m    135\u001b[0m     \u001b[1;32mdef\u001b[0m \u001b[0mqueue_get\u001b[0m\u001b[1;33m(\u001b[0m\u001b[0mq\u001b[0m\u001b[1;33m)\u001b[0m\u001b[1;33m:\u001b[0m\u001b[1;33m\u001b[0m\u001b[0m\n\u001b[1;32m--> 136\u001b[1;33m         \u001b[1;32mreturn\u001b[0m \u001b[0mq\u001b[0m\u001b[1;33m.\u001b[0m\u001b[0mget\u001b[0m\u001b[1;33m(\u001b[0m\u001b[0mblock\u001b[0m\u001b[1;33m=\u001b[0m\u001b[0mTrue\u001b[0m\u001b[1;33m,\u001b[0m \u001b[0mtimeout\u001b[0m\u001b[1;33m=\u001b[0m\u001b[1;33m(\u001b[0m\u001b[1;36m365\u001b[0m \u001b[1;33m*\u001b[0m \u001b[1;36m24\u001b[0m \u001b[1;33m*\u001b[0m \u001b[1;36m60\u001b[0m \u001b[1;33m*\u001b[0m \u001b[1;36m60\u001b[0m\u001b[1;33m)\u001b[0m\u001b[1;33m)\u001b[0m\u001b[1;33m\u001b[0m\u001b[0m\n\u001b[0m\u001b[0;32m    137\u001b[0m \u001b[1;33m\u001b[0m\u001b[0m\n\u001b[0;32m    138\u001b[0m \u001b[1;32melif\u001b[0m \u001b[0mos\u001b[0m\u001b[1;33m.\u001b[0m\u001b[0mname\u001b[0m \u001b[1;33m==\u001b[0m \u001b[1;34m'nt'\u001b[0m\u001b[1;33m:\u001b[0m\u001b[1;33m\u001b[0m\u001b[0m\n",
      "\u001b[1;32m/nas1/Data_arco/prgr/Anaconda/lib/python2.7/Queue.pyc\u001b[0m in \u001b[0;36mget\u001b[1;34m(self, block, timeout)\u001b[0m\n\u001b[0;32m    175\u001b[0m                     \u001b[1;32mif\u001b[0m \u001b[0mremaining\u001b[0m \u001b[1;33m<=\u001b[0m \u001b[1;36m0.0\u001b[0m\u001b[1;33m:\u001b[0m\u001b[1;33m\u001b[0m\u001b[0m\n\u001b[0;32m    176\u001b[0m                         \u001b[1;32mraise\u001b[0m \u001b[0mEmpty\u001b[0m\u001b[1;33m\u001b[0m\u001b[0m\n\u001b[1;32m--> 177\u001b[1;33m                     \u001b[0mself\u001b[0m\u001b[1;33m.\u001b[0m\u001b[0mnot_empty\u001b[0m\u001b[1;33m.\u001b[0m\u001b[0mwait\u001b[0m\u001b[1;33m(\u001b[0m\u001b[0mremaining\u001b[0m\u001b[1;33m)\u001b[0m\u001b[1;33m\u001b[0m\u001b[0m\n\u001b[0m\u001b[0;32m    178\u001b[0m             \u001b[0mitem\u001b[0m \u001b[1;33m=\u001b[0m \u001b[0mself\u001b[0m\u001b[1;33m.\u001b[0m\u001b[0m_get\u001b[0m\u001b[1;33m(\u001b[0m\u001b[1;33m)\u001b[0m\u001b[1;33m\u001b[0m\u001b[0m\n\u001b[0;32m    179\u001b[0m             \u001b[0mself\u001b[0m\u001b[1;33m.\u001b[0m\u001b[0mnot_full\u001b[0m\u001b[1;33m.\u001b[0m\u001b[0mnotify\u001b[0m\u001b[1;33m(\u001b[0m\u001b[1;33m)\u001b[0m\u001b[1;33m\u001b[0m\u001b[0m\n",
      "\u001b[1;32m/nas1/Data_arco/prgr/Anaconda/lib/python2.7/threading.pyc\u001b[0m in \u001b[0;36mwait\u001b[1;34m(self, timeout)\u001b[0m\n\u001b[0;32m    357\u001b[0m                         \u001b[1;32mbreak\u001b[0m\u001b[1;33m\u001b[0m\u001b[0m\n\u001b[0;32m    358\u001b[0m                     \u001b[0mdelay\u001b[0m \u001b[1;33m=\u001b[0m \u001b[0mmin\u001b[0m\u001b[1;33m(\u001b[0m\u001b[0mdelay\u001b[0m \u001b[1;33m*\u001b[0m \u001b[1;36m2\u001b[0m\u001b[1;33m,\u001b[0m \u001b[0mremaining\u001b[0m\u001b[1;33m,\u001b[0m \u001b[1;36m.05\u001b[0m\u001b[1;33m)\u001b[0m\u001b[1;33m\u001b[0m\u001b[0m\n\u001b[1;32m--> 359\u001b[1;33m                     \u001b[0m_sleep\u001b[0m\u001b[1;33m(\u001b[0m\u001b[0mdelay\u001b[0m\u001b[1;33m)\u001b[0m\u001b[1;33m\u001b[0m\u001b[0m\n\u001b[0m\u001b[0;32m    360\u001b[0m                 \u001b[1;32mif\u001b[0m \u001b[1;32mnot\u001b[0m \u001b[0mgotit\u001b[0m\u001b[1;33m:\u001b[0m\u001b[1;33m\u001b[0m\u001b[0m\n\u001b[0;32m    361\u001b[0m                     \u001b[1;32mif\u001b[0m \u001b[0m__debug__\u001b[0m\u001b[1;33m:\u001b[0m\u001b[1;33m\u001b[0m\u001b[0m\n",
      "\u001b[1;31mKeyboardInterrupt\u001b[0m: "
     ]
    }
   ],
   "source": [
    "with I.dask.diagnostics.ProgressBar():\n",
    "    d.compute(get = I.dask.multiprocessing.get) # run the simulation using the multiprocessing scheduler"
   ]
  },
  {
   "cell_type": "markdown",
   "metadata": {},
   "source": [
    "### load simulation results in database to make them accessible in python"
   ]
  },
  {
   "cell_type": "code",
   "execution_count": 4,
   "metadata": {
    "collapsed": false
   },
   "outputs": [],
   "source": [
    "import Interface as I\n",
    "mdb = I.ModelDataBase(os.path.join(getting_started_files, 'mdb')) #specify home folder of database"
   ]
  },
  {
   "cell_type": "code",
   "execution_count": 4,
   "metadata": {
    "collapsed": false,
    "scrolled": true
   },
   "outputs": [
    {
     "name": "stdout",
     "output_type": "stream",
     "text": [
      "---building data base core---\n",
      "generate filelist ...\n",
      "generate voltage traces dataframe...\n",
      "[########################################] | 100% Completed |  0.6s\n",
      "generate unambigous indices ...\n",
      "[########################################] | 100% Completed |  0.8s\n",
      "generate metadata ...\n",
      "add divisions to voltage traces dataframe\n",
      "---moving parameter files---\n",
      "find unique parameterfiles\n",
      "[########################################] | 100% Completed |  3.5s\n",
      "move parameterfiles\n",
      "[########################################] | 100% Completed |  0.1s\n",
      "move parameterfiles\n",
      "[########################################] | 100% Completed |  0.1s\n",
      "---building synapse activation dataframe---\n",
      "counting commas\n",
      "[########################################] | 100% Completed |  0.3s\n",
      "14\n",
      "generate dataframe\n",
      "[########################################] | 100% Completed |  0.1s\n",
      "save dataframe\n",
      "---building cell activation dataframe---\n",
      "counting commas\n",
      "[########################################] | 100% Completed |  0.3s\n",
      "17\n",
      "generate dataframe\n",
      "[########################################] | 100% Completed |  0.1s\n",
      "save dataframe\n",
      "---building dendritic voltage traces dataframes---\n",
      "[########################################] | 100% Completed |  0.6s\n",
      "[########################################] | 100% Completed |  0.6s\n",
      "---spike times---\n",
      "[########################################] | 100% Completed |  0.8s\n",
      "---burst times---\n",
      "[########################################] | 100% Completed |  1.0s\n",
      "Initialization succesful.\n"
     ]
    }
   ],
   "source": [
    "I.mdb_init_simrun_general.init(mdb, os.path.join(getting_started_files, 'results'))"
   ]
  },
  {
   "cell_type": "markdown",
   "metadata": {},
   "source": [
    "The mdb object can be used like a dictionary. The database contains dask dataframes giving access to the simulation data."
   ]
  },
  {
   "cell_type": "code",
   "execution_count": 89,
   "metadata": {
    "collapsed": false,
    "scrolled": true
   },
   "outputs": [
    {
     "data": {
      "text/plain": [
       "['Vm_distal',\n",
       " 'Vm_proximal',\n",
       " 'burst_times',\n",
       " 'cell_activation',\n",
       " 'dendritic_voltage_traces_keys',\n",
       " 'file_list',\n",
       " 'metadata',\n",
       " 'parameterfiles',\n",
       " 'parameterfiles_cell_folder',\n",
       " 'parameterfiles_network_folder',\n",
       " 'sim_trail_index',\n",
       " 'simresult_path',\n",
       " 'spike_times',\n",
       " 'synapse_activation',\n",
       " 'voltage_traces']"
      ]
     },
     "execution_count": 89,
     "metadata": {},
     "output_type": "execute_result"
    }
   ],
   "source": [
    "mdb.keys()"
   ]
  },
  {
   "cell_type": "code",
   "execution_count": 88,
   "metadata": {
    "collapsed": false
   },
   "outputs": [
    {
     "name": "stdout",
     "output_type": "stream",
     "text": [
      "[########################################] | 100% Completed |  0.1s\n"
     ]
    },
    {
     "data": {
      "text/html": [
       "<div>\n",
       "<table border=\"1\" class=\"dataframe\">\n",
       "  <thead>\n",
       "    <tr style=\"text-align: right;\">\n",
       "      <th></th>\n",
       "      <th>synapse_type</th>\n",
       "      <th>synapse_ID</th>\n",
       "      <th>soma_distance</th>\n",
       "      <th>section_ID</th>\n",
       "      <th>section_pt_ID</th>\n",
       "      <th>dendrite_label</th>\n",
       "      <th>0</th>\n",
       "      <th>1</th>\n",
       "      <th>2</th>\n",
       "      <th>3</th>\n",
       "      <th>4</th>\n",
       "      <th>5</th>\n",
       "      <th>6</th>\n",
       "      <th>7</th>\n",
       "    </tr>\n",
       "    <tr>\n",
       "      <th>sim_trail_index</th>\n",
       "      <th></th>\n",
       "      <th></th>\n",
       "      <th></th>\n",
       "      <th></th>\n",
       "      <th></th>\n",
       "      <th></th>\n",
       "      <th></th>\n",
       "      <th></th>\n",
       "      <th></th>\n",
       "      <th></th>\n",
       "      <th></th>\n",
       "      <th></th>\n",
       "      <th></th>\n",
       "      <th></th>\n",
       "    </tr>\n",
       "  </thead>\n",
       "  <tbody>\n",
       "    <tr>\n",
       "      <th>20170327-0745_seed122328974/000000</th>\n",
       "      <td>L1_C1</td>\n",
       "      <td>6</td>\n",
       "      <td>1417.471240</td>\n",
       "      <td>47</td>\n",
       "      <td>9</td>\n",
       "      <td>ApicalDendrite</td>\n",
       "      <td>208.348580</td>\n",
       "      <td>NaN</td>\n",
       "      <td>NaN</td>\n",
       "      <td>NaN</td>\n",
       "      <td>NaN</td>\n",
       "      <td>NaN</td>\n",
       "      <td>NaN</td>\n",
       "      <td>NaN</td>\n",
       "    </tr>\n",
       "    <tr>\n",
       "      <th>20170327-0745_seed122328974/000000</th>\n",
       "      <td>L1_C1</td>\n",
       "      <td>18</td>\n",
       "      <td>1508.620514</td>\n",
       "      <td>50</td>\n",
       "      <td>63</td>\n",
       "      <td>ApicalDendrite</td>\n",
       "      <td>240.685555</td>\n",
       "      <td>NaN</td>\n",
       "      <td>NaN</td>\n",
       "      <td>NaN</td>\n",
       "      <td>NaN</td>\n",
       "      <td>NaN</td>\n",
       "      <td>NaN</td>\n",
       "      <td>NaN</td>\n",
       "    </tr>\n",
       "    <tr>\n",
       "      <th>20170327-0745_seed122328974/000000</th>\n",
       "      <td>L1_C1</td>\n",
       "      <td>21</td>\n",
       "      <td>1494.761607</td>\n",
       "      <td>49</td>\n",
       "      <td>48</td>\n",
       "      <td>ApicalDendrite</td>\n",
       "      <td>174.886361</td>\n",
       "      <td>NaN</td>\n",
       "      <td>NaN</td>\n",
       "      <td>NaN</td>\n",
       "      <td>NaN</td>\n",
       "      <td>NaN</td>\n",
       "      <td>NaN</td>\n",
       "      <td>NaN</td>\n",
       "    </tr>\n",
       "    <tr>\n",
       "      <th>20170327-0745_seed122328974/000000</th>\n",
       "      <td>L1_C1</td>\n",
       "      <td>25</td>\n",
       "      <td>1389.264410</td>\n",
       "      <td>50</td>\n",
       "      <td>7</td>\n",
       "      <td>ApicalDendrite</td>\n",
       "      <td>228.604036</td>\n",
       "      <td>NaN</td>\n",
       "      <td>NaN</td>\n",
       "      <td>NaN</td>\n",
       "      <td>NaN</td>\n",
       "      <td>NaN</td>\n",
       "      <td>NaN</td>\n",
       "      <td>NaN</td>\n",
       "    </tr>\n",
       "    <tr>\n",
       "      <th>20170327-0745_seed122328974/000000</th>\n",
       "      <td>L1_C2</td>\n",
       "      <td>9</td>\n",
       "      <td>1423.024481</td>\n",
       "      <td>74</td>\n",
       "      <td>5</td>\n",
       "      <td>ApicalDendrite</td>\n",
       "      <td>74.905120</td>\n",
       "      <td>NaN</td>\n",
       "      <td>NaN</td>\n",
       "      <td>NaN</td>\n",
       "      <td>NaN</td>\n",
       "      <td>NaN</td>\n",
       "      <td>NaN</td>\n",
       "      <td>NaN</td>\n",
       "    </tr>\n",
       "  </tbody>\n",
       "</table>\n",
       "</div>"
      ],
      "text/plain": [
       "                                   synapse_type  synapse_ID  soma_distance  \\\n",
       "sim_trail_index                                                              \n",
       "20170327-0745_seed122328974/000000        L1_C1           6    1417.471240   \n",
       "20170327-0745_seed122328974/000000        L1_C1          18    1508.620514   \n",
       "20170327-0745_seed122328974/000000        L1_C1          21    1494.761607   \n",
       "20170327-0745_seed122328974/000000        L1_C1          25    1389.264410   \n",
       "20170327-0745_seed122328974/000000        L1_C2           9    1423.024481   \n",
       "\n",
       "                                    section_ID  section_pt_ID  dendrite_label  \\\n",
       "sim_trail_index                                                                 \n",
       "20170327-0745_seed122328974/000000          47              9  ApicalDendrite   \n",
       "20170327-0745_seed122328974/000000          50             63  ApicalDendrite   \n",
       "20170327-0745_seed122328974/000000          49             48  ApicalDendrite   \n",
       "20170327-0745_seed122328974/000000          50              7  ApicalDendrite   \n",
       "20170327-0745_seed122328974/000000          74              5  ApicalDendrite   \n",
       "\n",
       "                                             0   1   2   3   4   5   6   7  \n",
       "sim_trail_index                                                             \n",
       "20170327-0745_seed122328974/000000  208.348580 NaN NaN NaN NaN NaN NaN NaN  \n",
       "20170327-0745_seed122328974/000000  240.685555 NaN NaN NaN NaN NaN NaN NaN  \n",
       "20170327-0745_seed122328974/000000  174.886361 NaN NaN NaN NaN NaN NaN NaN  \n",
       "20170327-0745_seed122328974/000000  228.604036 NaN NaN NaN NaN NaN NaN NaN  \n",
       "20170327-0745_seed122328974/000000   74.905120 NaN NaN NaN NaN NaN NaN NaN  "
      ]
     },
     "execution_count": 88,
     "metadata": {},
     "output_type": "execute_result"
    }
   ],
   "source": [
    "mdb['synapse_activation'].head()"
   ]
  },
  {
   "cell_type": "markdown",
   "metadata": {},
   "source": [
    "##### plot the PSTH"
   ]
  },
  {
   "cell_type": "code",
   "execution_count": 5,
   "metadata": {
    "collapsed": false
   },
   "outputs": [
    {
     "data": {
      "image/png": "[encoded data removed]",
      "text/plain": [
       "<matplotlib.figure.Figure at 0x2ba13184dd50>"
      ]
     },
     "execution_count": 5,
     "metadata": {},
     "output_type": "execute_result"
    }
   ],
   "source": [
    "import matplotlib.pyplot as plt\n",
    "fig = plt.figure(figsize = (15,3))\n",
    "bins = I.temporal_binning(mdb['spike_times'])\n",
    "I.histogram(bins, fig = fig)\n",
    "fig.axes[-1].set_xlabel('t in ms')\n",
    "fig.axes[-1].set_ylabel('# spikes per trail per ms')\n",
    "fig.add_subplot(111).axvline(245)\n",
    "fig"
   ]
  },
  {
   "cell_type": "markdown",
   "metadata": {},
   "source": [
    "Usually, we discard the first 100ms of simulation since the cell needs that time to reach a \"steady state\". At 245ms, a C2 whisker stimulus occurs, followed by a strong evoked response at ~260 ms."
   ]
  },
  {
   "cell_type": "markdown",
   "metadata": {},
   "source": [
    "##### plot single voltage traces, mean and std"
   ]
  },
  {
   "cell_type": "code",
   "execution_count": 8,
   "metadata": {
    "collapsed": false
   },
   "outputs": [],
   "source": [
    "import dask\n",
    "import matplotlib.pyplot as plt\n",
    "mean = mdb['voltage_traces'].mean(axis = 0).compute(get = dask.multiprocessing.get)\n",
    "std = mdb['voltage_traces'].std(axis = 0).compute(get = dask.multiprocessing.get)"
   ]
  },
  {
   "cell_type": "code",
   "execution_count": 31,
   "metadata": {
    "collapsed": false
   },
   "outputs": [
    {
     "data": {
      "image/png": "[encoded data removed]",
      "text/plain": [
       "<matplotlib.figure.Figure at 0x2b732c252110>"
      ]
     },
     "execution_count": 31,
     "metadata": {},
     "output_type": "execute_result"
    }
   ],
   "source": [
    "fig = plt.figure(figsize = (15,6))\n",
    "I.manylines(mdb['voltage_traces'], fig = fig.add_subplot(211), axis = [0, 300, -100, 50])\n",
    "I.average_std(mean, std, fig = fig.add_subplot(212))\n",
    "fig.axes[-1].set_xlim(0,300)\n",
    "fig"
   ]
  },
  {
   "cell_type": "markdown",
   "metadata": {},
   "source": [
    "##### How many trails have a spike in the interval 245ms to 265 ms?"
   ]
  },
  {
   "cell_type": "code",
   "execution_count": 28,
   "metadata": {
    "collapsed": false
   },
   "outputs": [
    {
     "data": {
      "text/html": [
       "<div>\n",
       "<table border=\"1\" class=\"dataframe\">\n",
       "  <thead>\n",
       "    <tr style=\"text-align: right;\">\n",
       "      <th></th>\n",
       "      <th>0</th>\n",
       "      <th>1</th>\n",
       "      <th>2</th>\n",
       "      <th>3</th>\n",
       "      <th>4</th>\n",
       "      <th>5</th>\n",
       "    </tr>\n",
       "    <tr>\n",
       "      <th>sim_trail_index</th>\n",
       "      <th></th>\n",
       "      <th></th>\n",
       "      <th></th>\n",
       "      <th></th>\n",
       "      <th></th>\n",
       "      <th></th>\n",
       "    </tr>\n",
       "  </thead>\n",
       "  <tbody>\n",
       "    <tr>\n",
       "      <th>20170327-0745_seed122328974/000000</th>\n",
       "      <td>17.950</td>\n",
       "      <td>31.825</td>\n",
       "      <td>253.650</td>\n",
       "      <td>260.75</td>\n",
       "      <td>NaN</td>\n",
       "      <td>NaN</td>\n",
       "    </tr>\n",
       "    <tr>\n",
       "      <th>20170327-0745_seed122328974/000001</th>\n",
       "      <td>26.175</td>\n",
       "      <td>33.525</td>\n",
       "      <td>41.975</td>\n",
       "      <td>51.90</td>\n",
       "      <td>NaN</td>\n",
       "      <td>NaN</td>\n",
       "    </tr>\n",
       "    <tr>\n",
       "      <th>20170327-0745_seed122328974/000002</th>\n",
       "      <td>28.950</td>\n",
       "      <td>40.925</td>\n",
       "      <td>120.700</td>\n",
       "      <td>257.30</td>\n",
       "      <td>NaN</td>\n",
       "      <td>NaN</td>\n",
       "    </tr>\n",
       "    <tr>\n",
       "      <th>20170327-0745_seed122328974/000003</th>\n",
       "      <td>18.050</td>\n",
       "      <td>25.000</td>\n",
       "      <td>33.050</td>\n",
       "      <td>44.35</td>\n",
       "      <td>190.250</td>\n",
       "      <td>NaN</td>\n",
       "    </tr>\n",
       "    <tr>\n",
       "      <th>20170327-0745_seed122328974/000004</th>\n",
       "      <td>29.550</td>\n",
       "      <td>39.350</td>\n",
       "      <td>94.800</td>\n",
       "      <td>124.50</td>\n",
       "      <td>259.325</td>\n",
       "      <td>NaN</td>\n",
       "    </tr>\n",
       "  </tbody>\n",
       "</table>\n",
       "</div>"
      ],
      "text/plain": [
       "                                         0       1        2       3        4  \\\n",
       "sim_trail_index                                                                \n",
       "20170327-0745_seed122328974/000000  17.950  31.825  253.650  260.75      NaN   \n",
       "20170327-0745_seed122328974/000001  26.175  33.525   41.975   51.90      NaN   \n",
       "20170327-0745_seed122328974/000002  28.950  40.925  120.700  257.30      NaN   \n",
       "20170327-0745_seed122328974/000003  18.050  25.000   33.050   44.35  190.250   \n",
       "20170327-0745_seed122328974/000004  29.550  39.350   94.800  124.50  259.325   \n",
       "\n",
       "                                     5  \n",
       "sim_trail_index                         \n",
       "20170327-0745_seed122328974/000000 NaN  \n",
       "20170327-0745_seed122328974/000001 NaN  \n",
       "20170327-0745_seed122328974/000002 NaN  \n",
       "20170327-0745_seed122328974/000003 NaN  \n",
       "20170327-0745_seed122328974/000004 NaN  "
      ]
     },
     "execution_count": 28,
     "metadata": {},
     "output_type": "execute_result"
    }
   ],
   "source": [
    "# here is what the spike times dataframe looks like\n",
    "st = mdb['spike_times']\n",
    "st.head()"
   ]
  },
  {
   "cell_type": "markdown",
   "metadata": {},
   "source": [
    "### model data base in more detail"
   ]
  },
  {
   "cell_type": "markdown",
   "metadata": {},
   "source": [
    "We can use the mdb like a dictionary. However, all data will be instantly saved to / loaded from disk:"
   ]
  },
  {
   "cell_type": "code",
   "execution_count": 22,
   "metadata": {
    "collapsed": true
   },
   "outputs": [],
   "source": [
    "mdb['something'] = 'some text i want to save'"
   ]
  },
  {
   "cell_type": "code",
   "execution_count": 23,
   "metadata": {
    "collapsed": false
   },
   "outputs": [
    {
     "data": {
      "text/plain": [
       "'some text i want to save'"
      ]
     },
     "execution_count": 23,
     "metadata": {},
     "output_type": "execute_result"
    }
   ],
   "source": [
    "mdb['something']"
   ]
  },
  {
   "cell_type": "markdown",
   "metadata": {},
   "source": [
    "The model data base also stores metadata for each item, which is tightly integrated with the git version control:"
   ]
  },
  {
   "cell_type": "code",
   "execution_count": 26,
   "metadata": {
    "collapsed": false
   },
   "outputs": [
    {
     "data": {
      "text/plain": [
       "defaultdict(<function model_data_base.model_data_base.<lambda>>,\n",
       "            {'dirty': True,\n",
       "             'dumper': 'to_cloudpickle',\n",
       "             'error': None,\n",
       "             'full-revisionid': '6b077e6bdc0f559d05de7b969191a622b1be960b',\n",
       "             'metadata_creation_time': 'together_with_new_key',\n",
       "             'time': (2017, 10, 21, 13, 7, 28, 5, 294, -1),\n",
       "             'version': 'v0.0.1+66.g6b077e6.dirty'})"
      ]
     },
     "execution_count": 26,
     "metadata": {},
     "output_type": "execute_result"
    }
   ],
   "source": [
    "mdb.metadata['something']"
   ]
  },
  {
   "cell_type": "code",
   "execution_count": null,
   "metadata": {
    "collapsed": true
   },
   "outputs": [],
   "source": [
    "# Below is the old version"
   ]
  },
  {
   "cell_type": "markdown",
   "metadata": {},
   "source": [
    "# Setup"
   ]
  },
  {
   "cell_type": "markdown",
   "metadata": {},
   "source": [
    "### Get example data\n",
    "Clone this repository to get all necessary data for a small example testcase: `git clone https://github.com/abast/neurosim_getting_started.git`\n",
    "\n",
    "Adapt the path in the cell below and execute it."
   ]
  },
  {
   "cell_type": "code",
   "execution_count": 7,
   "metadata": {
    "collapsed": true
   },
   "outputs": [],
   "source": [
    "import os, dask\n",
    "getting_started_files = '/home/abast/test/neurosim_getting_started/getting_started_files/' #change that path for your cloned repository"
   ]
  },
  {
   "cell_type": "markdown",
   "metadata": {},
   "source": [
    "### If you only want to run current injection simulations using our L5tt model, please do the following:\n",
    "1. download and install Anaconda 2.7 https://www.continuum.io/Downloads\n",
    "2. install neuron such that you can import it as python module. Version 7.4 has been tested, newer versions are likely to work. A detailed installation guide can be found at http://www.davison.webfactional.com/notes/installation-neuron-python/\n",
    "3. install sumatra: `pip install sumatra`\n",
    "4. clone the single_cell_parser git respository: `git clone https://github.com/abast/single_cell_parser.git`\n",
    "5. Add the resulting folder single_cell_parser to the PYTHONPATH variable: `export PYTHONPATH=$PYTHONPATH:/my/freshly/cloned/repository`\n",
    "6. make sure you can import that module in python: `import single_cell_parser as scp`\n",
    "       \n",
    "Adapt the following paths (please specify absolute paths):\n",
    "- Open the file `neurosim_getting_started/getting_started_files/86_CDK_20041214_BAC_run5_soma_Hay2013_C2center_apic_rec.param`:\n",
    "    - \"NMODL_mechanisms\" --> \"channels\": has to point to the absolute path of the mechanism subfolder in the single_cell_parser_module\n",
    "    - \"neuron\" --> \"filename\": has to point to the neuron morphology in neurosim_getting_started/getting_started_files\n",
    "    - \"sim\" --> recordingSites: has to point to `apical_proximal_distal_rec_sites.landmarkAscii` in neurosim_getting_started/getting_started_files\n",
    "- Open the file `neurosim_getting_started/getting_started_files/functional_constraints/ongoing_activity/ongoing_activity_celltype_template_exc_conductances_fitted.param'`\n",
    "    - NMODL_mechanisms --> synapses: has to point to the folder neurosim_getting_started/getting_started_files/mechanisms/channels\n",
    "    - NMODL_mechanisms --> VecStim: has to point to the folder neurosim_getting_started/getting_started_files/mechanisms/netcon\n",
    "\n",
    "If you want to try out the simulator immediately, jump to \"How to simulate current injections\"\n",
    "\n",
    "##### What are these packages doing?\n",
    " - sumatra: we use it to read and write to parameterfiles\n",
    " - single_cell_parser: module written by Robert Egger wrapping around neuron. It provides a high level interface specifically build to simulate full compartmental models and synaptic input."
   ]
  },
  {
   "cell_type": "markdown",
   "metadata": {},
   "source": [
    "### If you also want to run simulations with synaptic input, please install in addition:\n",
    "1. install pandas from git master: `pip install -U git+https://github.com/pandas-dev/pandas.git` (it has to contain this commit: https://github.com/pandas-dev/pandas/pull/15493)\n",
    "2. dask 0.14: `conda install dask==0.14`\n",
    "3. distributed 1.15.2: `conda install distributed=1.15.2` (optional, if you want to run simulations on a cluster)\n",
    "4. seaborn: conda install seaborn\n",
    "4. Clone SingleCellInputMapper: `git clone https://github.com/abast/SingleCellInputMapper.git`\n",
    "5. Unzip the file `SingleCellinputMapper/barrel_cortex.7z such that the path SingleCellinputMapper/barrel_cortex/PST exists`\n",
    "6. Clone the model_data_base repository: `https://github.com/abast/model_data_base.git`\n",
    "7. Add the repositories to the PYTHONPATH variable\n",
    "\n",
    "Adapt the following paths:\n",
    "8. Open the file model_data_base/simrun2/seed_manager and adjust the variable `path`. This will specify the location where used seeds are saved. Any location where you have write access is suitable.\n",
    "2. Open the file SingleCellinputMapper/map_singlecell_inputs and change the line `prefix =  ...` such that it points to the barrel_cortex folder that you have unzipped above.\n",
    "3. Open the file SingleCellinputMapper/evoked_network_param_from_template.py and change the variable `evokedPrefix = ...` such that it points to the folder `neurosim_getting_started/getting_started_files/functional_constraints/evoked_activity/PW_SuW_RF_CDK`\n",
    "\n",
    "##### what are these packages doing?\n",
    " - pandas is a library for panel data analysis. It is the standard format in the database for simulation results.\n",
    " - dask is a python library for dynamic task scheduling and parallel numpy/pandas computations, which allows to use the pandas data structure out of core\n",
    " - distributed allows to execute dask graphs on a distributed system\n",
    " - SingleCellInputMapper maps synapses on a single cell and thereby integrates it in the barrel cortex model\n",
    " - model_data base contains modules to run simulations and analyze the result in parallel. It also uses dask for parallelization.\n"
   ]
  },
  {
   "cell_type": "markdown",
   "metadata": {},
   "source": [
    "# How to simulate synaptic input"
   ]
  }
 ],
 "metadata": {
  "anaconda-cloud": {},
  "kernelspec": {
   "display_name": "Python [conda root]",
   "language": "python",
   "name": "conda-root-py"
  },
  "language_info": {
   "codemirror_mode": {
    "name": "ipython",
    "version": 2
   },
   "file_extension": ".py",
   "mimetype": "text/x-python",
   "name": "python",
   "nbconvert_exporter": "python",
   "pygments_lexer": "ipython2",
   "version": "2.7.12"
  }
 },
 "nbformat": 4,
 "nbformat_minor": 0
}
